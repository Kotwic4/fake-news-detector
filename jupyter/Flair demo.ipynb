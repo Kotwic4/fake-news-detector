{
 "cells": [
  {
   "cell_type": "code",
   "execution_count": 41,
   "metadata": {},
   "outputs": [],
   "source": [
    "import numpy as np\n",
    "import pandas as pd\n",
    "from flair.embeddings import WordEmbeddings, FlairEmbeddings, DocumentPoolEmbeddings, Sentence, DocumentRNNEmbeddings\n",
    "from flair.models import TextClassifier\n",
    "from flair.trainers import ModelTrainer\n",
    "from flair.datasets import CSVClassificationCorpus"
   ]
  },
  {
   "cell_type": "code",
   "execution_count": 42,
   "metadata": {},
   "outputs": [],
   "source": [
    "# initialize the word embeddings\n",
    "glove_embedding = WordEmbeddings('glove')\n",
    "flair_embedding_forward = FlairEmbeddings('news-forward')\n",
    "flair_embedding_backward = FlairEmbeddings('news-backward')\n",
    "\n",
    "# initialize the document embeddings, mode = mean\n",
    "document_embeddings = DocumentPoolEmbeddings([glove_embedding,\n",
    "                                              flair_embedding_backward,\n",
    "                                              flair_embedding_forward])"
   ]
  },
  {
   "cell_type": "code",
   "execution_count": 43,
   "metadata": {},
   "outputs": [
    {
     "data": {
      "text/plain": [
       "4196"
      ]
     },
     "execution_count": 43,
     "metadata": {},
     "output_type": "execute_result"
    }
   ],
   "source": [
    "sentence = Sentence('The grass is green . And the sky is blue .')\n",
    "document_embeddings.embed(sentence)\n",
    "len(sentence.get_embedding())"
   ]
  },
  {
   "cell_type": "code",
   "execution_count": 44,
   "metadata": {},
   "outputs": [
    {
     "data": {
      "text/plain": [
       "4196"
      ]
     },
     "execution_count": 44,
     "metadata": {},
     "output_type": "execute_result"
    }
   ],
   "source": [
    "sentence2 = Sentence('The grass is green.')\n",
    "document_embeddings.embed(sentence2)\n",
    "len(sentence2.get_embedding())"
   ]
  },
  {
   "cell_type": "code",
   "execution_count": 45,
   "metadata": {},
   "outputs": [],
   "source": [
    "real_words = ['king', 'monarch', \"queen\", \"emperor\", \"empress\"]\n",
    "fake_words = ['worker', 'dweller', 'resident', 'craftswoman', 'craftsman']"
   ]
  },
  {
   "cell_type": "code",
   "execution_count": 46,
   "metadata": {},
   "outputs": [],
   "source": [
    "data_number = 300\n",
    "real_data = [{'label': 'real', 'text': x} for x in np.random.choice(real_words, data_number)]\n",
    "fake_data = [{'label': 'fake', 'text': x} for x in np.random.choice(fake_words, data_number)]\n",
    "data = real_data + fake_data\n",
    "np.random.shuffle(data)"
   ]
  },
  {
   "cell_type": "code",
   "execution_count": 47,
   "metadata": {},
   "outputs": [],
   "source": [
    "frame_data = pd.DataFrame(data)\n",
    "frame_data.iloc[0:int(len(data)*0.8)].to_csv('./data/train.csv', sep='\\t', index = False, header = False)\n",
    "frame_data.iloc[int(len(data)*0.8):int(len(data)*0.9)].to_csv('./data/test.csv', sep='\\t', index = False, header = False)\n",
    "frame_data.iloc[int(len(data)*0.9):].to_csv('./data/dev.csv', sep='\\t', index = False, header = False);"
   ]
  },
  {
   "cell_type": "code",
   "execution_count": 51,
   "metadata": {},
   "outputs": [
    {
     "name": "stdout",
     "output_type": "stream",
     "text": [
      "2019-11-23 20:43:24,158 Reading data from data\n",
      "2019-11-23 20:43:24,160 Train: data/train.csv\n",
      "2019-11-23 20:43:24,161 Dev: data/dev.csv\n",
      "2019-11-23 20:43:24,162 Test: data/test.csv\n",
      "2019-11-23 20:43:24,165 Computing label dictionary. Progress:\n"
     ]
    },
    {
     "name": "stderr",
     "output_type": "stream",
     "text": [
      "100%|██████████| 480/480 [00:00<00:00, 2086.57it/s]"
     ]
    },
    {
     "name": "stdout",
     "output_type": "stream",
     "text": [
      "2019-11-23 20:43:24,640 [b'fake', b'real']\n"
     ]
    },
    {
     "name": "stderr",
     "output_type": "stream",
     "text": [
      "\n"
     ]
    },
    {
     "name": "stdout",
     "output_type": "stream",
     "text": [
      "2019-11-23 20:43:26,368 ----------------------------------------------------------------------------------------------------\n",
      "2019-11-23 20:43:26,369 Model: \"TextClassifier(\n",
      "  (document_embeddings): DocumentRNNEmbeddings(\n",
      "    (embeddings): StackedEmbeddings(\n",
      "      (list_embedding_0): WordEmbeddings('glove')\n",
      "      (list_embedding_1): FlairEmbeddings(\n",
      "        (lm): LanguageModel(\n",
      "          (drop): Dropout(p=0.25, inplace=False)\n",
      "          (encoder): Embedding(275, 100)\n",
      "          (rnn): LSTM(100, 1024)\n",
      "          (decoder): Linear(in_features=1024, out_features=275, bias=True)\n",
      "        )\n",
      "      )\n",
      "      (list_embedding_2): FlairEmbeddings(\n",
      "        (lm): LanguageModel(\n",
      "          (drop): Dropout(p=0.25, inplace=False)\n",
      "          (encoder): Embedding(275, 100)\n",
      "          (rnn): LSTM(100, 1024)\n",
      "          (decoder): Linear(in_features=1024, out_features=275, bias=True)\n",
      "        )\n",
      "      )\n",
      "    )\n",
      "    (word_reprojection_map): Linear(in_features=2148, out_features=256, bias=True)\n",
      "    (rnn): GRU(256, 512, batch_first=True)\n",
      "    (dropout): Dropout(p=0.5, inplace=False)\n",
      "  )\n",
      "  (decoder): Linear(in_features=512, out_features=2, bias=True)\n",
      "  (loss_function): CrossEntropyLoss()\n",
      ")\"\n",
      "2019-11-23 20:43:26,371 ----------------------------------------------------------------------------------------------------\n",
      "2019-11-23 20:43:26,372 Corpus: \"Corpus: 480 train + 60 dev + 60 test sentences\"\n",
      "2019-11-23 20:43:26,373 ----------------------------------------------------------------------------------------------------\n",
      "2019-11-23 20:43:26,374 Parameters:\n",
      "2019-11-23 20:43:26,375  - learning_rate: \"0.1\"\n",
      "2019-11-23 20:43:26,376  - mini_batch_size: \"32\"\n",
      "2019-11-23 20:43:26,377  - patience: \"3\"\n",
      "2019-11-23 20:43:26,379  - anneal_factor: \"0.5\"\n",
      "2019-11-23 20:43:26,380  - max_epochs: \"1\"\n",
      "2019-11-23 20:43:26,382  - shuffle: \"True\"\n",
      "2019-11-23 20:43:26,383  - train_with_dev: \"False\"\n",
      "2019-11-23 20:43:26,385  - batch_growth_annealing: \"False\"\n",
      "2019-11-23 20:43:26,386 ----------------------------------------------------------------------------------------------------\n",
      "2019-11-23 20:43:26,388 Model training base path: \"model\"\n",
      "2019-11-23 20:43:26,390 ----------------------------------------------------------------------------------------------------\n",
      "2019-11-23 20:43:26,415 Device: cpu\n",
      "2019-11-23 20:43:26,417 ----------------------------------------------------------------------------------------------------\n",
      "2019-11-23 20:43:26,419 Embeddings storage mode: cpu\n",
      "2019-11-23 20:43:26,421 ----------------------------------------------------------------------------------------------------\n",
      "2019-11-23 20:43:26,890 epoch 1 - iter 0/15 - loss 0.70841533 - samples/sec: 134.34\n",
      "2019-11-23 20:43:27,075 epoch 1 - iter 1/15 - loss 0.66049016 - samples/sec: 194.44\n",
      "2019-11-23 20:43:27,274 epoch 1 - iter 2/15 - loss 0.62222733 - samples/sec: 173.38\n",
      "2019-11-23 20:43:27,473 epoch 1 - iter 3/15 - loss 0.59186211 - samples/sec: 186.10\n",
      "2019-11-23 20:43:27,666 epoch 1 - iter 4/15 - loss 0.56363265 - samples/sec: 184.00\n",
      "2019-11-23 20:43:27,843 epoch 1 - iter 5/15 - loss 0.54051654 - samples/sec: 200.53\n",
      "2019-11-23 20:43:28,032 epoch 1 - iter 6/15 - loss 0.50802780 - samples/sec: 188.69\n",
      "2019-11-23 20:43:28,244 epoch 1 - iter 7/15 - loss 0.48310168 - samples/sec: 164.96\n",
      "2019-11-23 20:43:28,453 epoch 1 - iter 8/15 - loss 0.45883701 - samples/sec: 168.03\n",
      "2019-11-23 20:43:28,770 epoch 1 - iter 9/15 - loss 0.43329676 - samples/sec: 106.65\n",
      "2019-11-23 20:43:29,020 epoch 1 - iter 10/15 - loss 0.40913980 - samples/sec: 144.14\n",
      "2019-11-23 20:43:29,268 epoch 1 - iter 11/15 - loss 0.39307213 - samples/sec: 137.41\n",
      "2019-11-23 20:43:29,605 epoch 1 - iter 12/15 - loss 0.37329910 - samples/sec: 99.86\n",
      "2019-11-23 20:43:29,893 epoch 1 - iter 13/15 - loss 0.35541289 - samples/sec: 121.00\n",
      "2019-11-23 20:43:30,224 epoch 1 - iter 14/15 - loss 0.33986068 - samples/sec: 102.78\n",
      "2019-11-23 20:43:30,301 ----------------------------------------------------------------------------------------------------\n",
      "2019-11-23 20:43:30,303 EPOCH 1 done: loss 0.3399 - lr 0.1000\n",
      "2019-11-23 20:43:30,999 DEV : loss 0.10338906198740005 - score 1.0\n",
      "2019-11-23 20:43:31,013 BAD EPOCHS (no improvement): 0\n"
     ]
    },
    {
     "name": "stderr",
     "output_type": "stream",
     "text": [
      "/home/kotwic4/miniconda3/envs/fake_news/lib/python3.7/site-packages/torch/serialization.py:292: UserWarning: Couldn't retrieve source code for container of type DocumentRNNEmbeddings. It won't be checked for correctness upon loading.\n",
      "  \"type \" + obj.__name__ + \". It won't be checked \"\n",
      "/home/kotwic4/miniconda3/envs/fake_news/lib/python3.7/site-packages/torch/serialization.py:292: UserWarning: Couldn't retrieve source code for container of type StackedEmbeddings. It won't be checked for correctness upon loading.\n",
      "  \"type \" + obj.__name__ + \". It won't be checked \"\n",
      "/home/kotwic4/miniconda3/envs/fake_news/lib/python3.7/site-packages/torch/serialization.py:292: UserWarning: Couldn't retrieve source code for container of type WordEmbeddings. It won't be checked for correctness upon loading.\n",
      "  \"type \" + obj.__name__ + \". It won't be checked \"\n",
      "/home/kotwic4/miniconda3/envs/fake_news/lib/python3.7/site-packages/torch/serialization.py:292: UserWarning: Couldn't retrieve source code for container of type FlairEmbeddings. It won't be checked for correctness upon loading.\n",
      "  \"type \" + obj.__name__ + \". It won't be checked \"\n",
      "/home/kotwic4/miniconda3/envs/fake_news/lib/python3.7/site-packages/torch/serialization.py:292: UserWarning: Couldn't retrieve source code for container of type LanguageModel. It won't be checked for correctness upon loading.\n",
      "  \"type \" + obj.__name__ + \". It won't be checked \"\n",
      "/home/kotwic4/miniconda3/envs/fake_news/lib/python3.7/site-packages/torch/serialization.py:292: UserWarning: Couldn't retrieve source code for container of type Dropout. It won't be checked for correctness upon loading.\n",
      "  \"type \" + obj.__name__ + \". It won't be checked \"\n",
      "/home/kotwic4/miniconda3/envs/fake_news/lib/python3.7/site-packages/torch/serialization.py:292: UserWarning: Couldn't retrieve source code for container of type Embedding. It won't be checked for correctness upon loading.\n",
      "  \"type \" + obj.__name__ + \". It won't be checked \"\n",
      "/home/kotwic4/miniconda3/envs/fake_news/lib/python3.7/site-packages/torch/serialization.py:292: UserWarning: Couldn't retrieve source code for container of type LSTM. It won't be checked for correctness upon loading.\n",
      "  \"type \" + obj.__name__ + \". It won't be checked \"\n",
      "/home/kotwic4/miniconda3/envs/fake_news/lib/python3.7/site-packages/torch/serialization.py:292: UserWarning: Couldn't retrieve source code for container of type Linear. It won't be checked for correctness upon loading.\n",
      "  \"type \" + obj.__name__ + \". It won't be checked \"\n",
      "/home/kotwic4/miniconda3/envs/fake_news/lib/python3.7/site-packages/torch/serialization.py:292: UserWarning: Couldn't retrieve source code for container of type GRU. It won't be checked for correctness upon loading.\n",
      "  \"type \" + obj.__name__ + \". It won't be checked \"\n"
     ]
    },
    {
     "name": "stdout",
     "output_type": "stream",
     "text": [
      "2019-11-23 20:43:40,138 ----------------------------------------------------------------------------------------------------\n",
      "2019-11-23 20:43:40,139 Testing using best model ...\n",
      "2019-11-23 20:43:40,140 loading file model/best-model.pt\n",
      "2019-11-23 20:43:42,264 1.0\t1.0\t1.0\n",
      "2019-11-23 20:43:42,267 \n",
      "MICRO_AVG: acc 1.0 - f1-score 1.0\n",
      "MACRO_AVG: acc 1.0 - f1-score 1.0\n",
      "fake       tp: 27 - fp: 0 - fn: 0 - tn: 33 - precision: 1.0000 - recall: 1.0000 - accuracy: 1.0000 - f1-score: 1.0000\n",
      "real       tp: 33 - fp: 0 - fn: 0 - tn: 27 - precision: 1.0000 - recall: 1.0000 - accuracy: 1.0000 - f1-score: 1.0000\n",
      "2019-11-23 20:43:42,268 ----------------------------------------------------------------------------------------------------\n"
     ]
    },
    {
     "data": {
      "text/plain": [
       "{'test_score': 1.0,\n",
       " 'dev_score_history': [1.0],\n",
       " 'train_loss_history': [0.3398606846729914],\n",
       " 'dev_loss_history': [tensor(0.1034)]}"
      ]
     },
     "execution_count": 51,
     "metadata": {},
     "output_type": "execute_result"
    }
   ],
   "source": [
    "column_name_map = {1: \"text\", 0: \"label\"}\n",
    "\n",
    "corpus = CSVClassificationCorpus('data',\n",
    "                                 column_name_map,\n",
    "                                 delimiter='\\t',\n",
    "                              test_file='test.csv',\n",
    "                              dev_file='dev.csv',\n",
    "                              train_file='train.csv')\n",
    "\n",
    "label_dict = corpus.make_label_dictionary()\n",
    "\n",
    "word_embeddings = [\n",
    "    WordEmbeddings('glove'),\n",
    "    FlairEmbeddings('news-forward-fast'),\n",
    "    FlairEmbeddings('news-backward-fast')\n",
    "]\n",
    "\n",
    "document_embeddings = DocumentRNNEmbeddings(word_embeddings,\n",
    "                                            hidden_size=512,\n",
    "                                            reproject_words=True,\n",
    "                                            reproject_words_dimension=256)\n",
    "\n",
    "classifier = TextClassifier(document_embeddings,\n",
    "                            label_dictionary=label_dict)\n",
    "\n",
    "trainer = ModelTrainer(classifier, corpus)\n",
    "\n",
    "trainer.train('model', max_epochs=1)"
   ]
  },
  {
   "cell_type": "code",
   "execution_count": 55,
   "metadata": {},
   "outputs": [
    {
     "name": "stdout",
     "output_type": "stream",
     "text": [
      "2019-11-23 20:43:57,783 loading file ./model/best-model.pt\n"
     ]
    }
   ],
   "source": [
    "classifier = TextClassifier.load('./model/best-model.pt')"
   ]
  },
  {
   "cell_type": "code",
   "execution_count": 56,
   "metadata": {},
   "outputs": [],
   "source": [
    "def predict(text):\n",
    "    sentence = Sentence(text)\n",
    "    classifier.predict(sentence)\n",
    "    return sentence.labels"
   ]
  },
  {
   "cell_type": "code",
   "execution_count": 57,
   "metadata": {},
   "outputs": [
    {
     "data": {
      "text/plain": [
       "[real (0.9485031962394714)]"
      ]
     },
     "execution_count": 57,
     "metadata": {},
     "output_type": "execute_result"
    }
   ],
   "source": [
    "predict(\"king\")"
   ]
  },
  {
   "cell_type": "code",
   "execution_count": 58,
   "metadata": {},
   "outputs": [
    {
     "name": "stdout",
     "output_type": "stream",
     "text": [
      "king [real (0.9485031962394714)]\n",
      "monarch [real (0.8778084516525269)]\n",
      "queen [real (0.9221799373626709)]\n",
      "emperor [real (0.9736762046813965)]\n",
      "empress [real (0.9492069482803345)]\n",
      "\n",
      "worker [fake (0.9481209516525269)]\n",
      "dweller [fake (0.9157224893569946)]\n",
      "resident [fake (0.8962298035621643)]\n",
      "craftswoman [fake (0.7751086354255676)]\n",
      "craftsman [fake (0.9255284667015076)]\n"
     ]
    }
   ],
   "source": [
    "for w in real_words:\n",
    "    print(w, predict(w))\n",
    "    \n",
    "print()\n",
    "\n",
    "for w in fake_words:\n",
    "    print(w, predict(w))"
   ]
  },
  {
   "cell_type": "code",
   "execution_count": 59,
   "metadata": {},
   "outputs": [
    {
     "data": {
      "text/plain": [
       "[real (0.8359680771827698)]"
      ]
     },
     "execution_count": 59,
     "metadata": {},
     "output_type": "execute_result"
    }
   ],
   "source": [
    "predict(\"prince\")"
   ]
  },
  {
   "cell_type": "code",
   "execution_count": 60,
   "metadata": {},
   "outputs": [
    {
     "data": {
      "text/plain": [
       "[fake (0.6282742023468018)]"
      ]
     },
     "execution_count": 60,
     "metadata": {},
     "output_type": "execute_result"
    }
   ],
   "source": [
    "predict(\"hammer\")"
   ]
  },
  {
   "cell_type": "code",
   "execution_count": 61,
   "metadata": {},
   "outputs": [
    {
     "data": {
      "text/plain": [
       "[real (0.8554590344429016)]"
      ]
     },
     "execution_count": 61,
     "metadata": {},
     "output_type": "execute_result"
    }
   ],
   "source": [
    "predict(\"crown\")"
   ]
  },
  {
   "cell_type": "code",
   "execution_count": 62,
   "metadata": {},
   "outputs": [
    {
     "data": {
      "text/plain": [
       "[fake (0.769315779209137)]"
      ]
     },
     "execution_count": 62,
     "metadata": {},
     "output_type": "execute_result"
    }
   ],
   "source": [
    "predict(\"paper\")"
   ]
  },
  {
   "cell_type": "code",
   "execution_count": 63,
   "metadata": {},
   "outputs": [
    {
     "data": {
      "text/plain": [
       "[real (0.808620274066925)]"
      ]
     },
     "execution_count": 63,
     "metadata": {},
     "output_type": "execute_result"
    }
   ],
   "source": [
    "predict(\"kingdom\")"
   ]
  },
  {
   "cell_type": "code",
   "execution_count": 67,
   "metadata": {},
   "outputs": [
    {
     "data": {
      "text/plain": [
       "[real (0.8040608763694763)]"
      ]
     },
     "execution_count": 67,
     "metadata": {},
     "output_type": "execute_result"
    }
   ],
   "source": [
    "predict(\"lord\")"
   ]
  },
  {
   "cell_type": "code",
   "execution_count": 70,
   "metadata": {},
   "outputs": [
    {
     "data": {
      "text/plain": [
       "[fake (0.9035744667053223)]"
      ]
     },
     "execution_count": 70,
     "metadata": {},
     "output_type": "execute_result"
    }
   ],
   "source": [
    "predict(\"farmer\")"
   ]
  },
  {
   "cell_type": "code",
   "execution_count": 71,
   "metadata": {},
   "outputs": [
    {
     "data": {
      "text/plain": [
       "[real (0.7915701866149902)]"
      ]
     },
     "execution_count": 71,
     "metadata": {},
     "output_type": "execute_result"
    }
   ],
   "source": [
    "predict(\"palace\")"
   ]
  },
  {
   "cell_type": "code",
   "execution_count": null,
   "metadata": {},
   "outputs": [],
   "source": []
  }
 ],
 "metadata": {
  "kernelspec": {
   "display_name": "Python 3",
   "language": "python",
   "name": "python3"
  }
 },
 "nbformat": 4,
 "nbformat_minor": 2
}

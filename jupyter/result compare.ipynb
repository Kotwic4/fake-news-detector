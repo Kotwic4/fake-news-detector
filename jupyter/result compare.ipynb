{
 "cells": [
  {
   "cell_type": "code",
   "execution_count": 1,
   "metadata": {},
   "outputs": [],
   "source": [
    "myresults = [\n",
    "    ('text_csv_10',(0.8254716981132075, 0.7659574468085106, 0.8275862068965517, 0.7955801104972374)),\n",
    "    ('url_csv_10', (0.7621359223300971, 0.7375, 0.6781609195402298, 0.7065868263473054)),\n",
    "    ('mix_csv_10', (0.8207547169811321, 0.7289719626168224, 0.896551724137931, 0.8041237113402062))\n",
    "]"
   ]
  },
  {
   "cell_type": "code",
   "execution_count": 2,
   "metadata": {},
   "outputs": [],
   "source": [
    "their_results = (0.691,0.638,0.789,0.706)"
   ]
  },
  {
   "cell_type": "code",
   "execution_count": 3,
   "metadata": {},
   "outputs": [],
   "source": [
    "labels = ['acc', 'precision', 'recall', 'f1']"
   ]
  },
  {
   "cell_type": "code",
   "execution_count": 4,
   "metadata": {},
   "outputs": [
    {
     "name": "stdout",
     "output_type": "stream",
     "text": [
      "text_csv_10\n",
      "acc\n",
      "abs diff:  13.447169811320759\n",
      "relative diff:  19.460448352128452\n",
      "precision\n",
      "abs diff:  12.795744680851062\n",
      "relative diff:  20.05602614553458\n",
      "recall\n",
      "abs diff:  3.858620689655168\n",
      "relative diff:  4.890520519208071\n",
      "f1\n",
      "abs diff:  8.958011049723746\n",
      "relative diff:  12.688400920288592\n",
      "url_csv_10\n",
      "acc\n",
      "abs diff:  7.113592233009713\n",
      "relative diff:  10.2946342011718\n",
      "precision\n",
      "abs diff:  9.950000000000003\n",
      "relative diff:  15.595611285266461\n",
      "recall\n",
      "abs diff:  -11.08390804597702\n",
      "relative diff:  -14.048045685648948\n",
      "f1\n",
      "abs diff:  0.05868263473054469\n",
      "relative diff:  0.0831198792217347\n",
      "mix_csv_10\n",
      "acc\n",
      "abs diff:  12.975471698113218\n",
      "relative diff:  18.777817218687726\n",
      "precision\n",
      "abs diff:  9.097196261682239\n",
      "relative diff:  14.25892830984677\n",
      "recall\n",
      "abs diff:  10.755172413793101\n",
      "relative diff:  13.631397229142081\n",
      "f1\n",
      "abs diff:  9.812371134020626\n",
      "relative diff:  13.898542682748763\n"
     ]
    }
   ],
   "source": [
    "def print_diff(old, new, label):\n",
    "    print(label)\n",
    "    print(\"abs diff: \", (new-old)*100)\n",
    "    print(\"relative diff: \", ((new-old)/old)*100)\n",
    "\n",
    "for res in myresults:\n",
    "    print(res[0])\n",
    "    for i in range(len(labels)):\n",
    "        print_diff(their_results[i], res[1][i], labels[i])"
   ]
  },
  {
   "cell_type": "code",
   "execution_count": null,
   "metadata": {},
   "outputs": [],
   "source": []
  }
 ],
 "metadata": {
  "kernelspec": {
   "display_name": "Python 3",
   "language": "python",
   "name": "python3"
  },
  "language_info": {
   "codemirror_mode": {
    "name": "ipython",
    "version": 3
   },
   "file_extension": ".py",
   "mimetype": "text/x-python",
   "name": "python",
   "nbconvert_exporter": "python",
   "pygments_lexer": "ipython3",
   "version": "3.7.5"
  }
 },
 "nbformat": 4,
 "nbformat_minor": 2
}

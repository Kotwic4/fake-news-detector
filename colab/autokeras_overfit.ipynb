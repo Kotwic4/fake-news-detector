{
  "nbformat": 4,
  "nbformat_minor": 0,
  "metadata": {
    "colab": {
      "name": "eksploracja danych - autokeras",
      "provenance": [],
      "include_colab_link": true
    },
    "kernelspec": {
      "name": "python3",
      "display_name": "Python 3"
    },
    "accelerator": "GPU"
  },
  "cells": [
    {
      "cell_type": "markdown",
      "metadata": {
        "id": "view-in-github",
        "colab_type": "text"
      },
      "source": [
        "<a href=\"https://colab.research.google.com/github/Kotwic4/fake-news-detector/blob/colab/colab/autokeras_overfit.ipynb\" target=\"_parent\"><img src=\"https://colab.research.google.com/assets/colab-badge.svg\" alt=\"Open In Colab\"/></a>"
      ]
    },
    {
      "cell_type": "code",
      "metadata": {
        "id": "OB2TeXhKiKEo",
        "colab_type": "code",
        "colab": {
          "base_uri": "https://localhost:8080/",
          "height": 1000
        },
        "outputId": "b830ee49-484d-49f0-a181-160c1a9c4cd6"
      },
      "source": [
        "!pip install requests numpy matplotlib pandas git+git://github.com/keras-team/autokeras@master#egg=autokeras"
      ],
      "execution_count": 1,
      "outputs": [
        {
          "output_type": "stream",
          "text": [
            "Requirement already satisfied: requests in /usr/local/lib/python3.6/dist-packages (2.21.0)\n",
            "Requirement already satisfied: numpy in /usr/local/lib/python3.6/dist-packages (1.17.4)\n",
            "Requirement already satisfied: matplotlib in /usr/local/lib/python3.6/dist-packages (3.1.2)\n",
            "Requirement already satisfied: pandas in /usr/local/lib/python3.6/dist-packages (0.25.3)\n",
            "Collecting autokeras\n",
            "  Cloning git://github.com/keras-team/autokeras (to revision master) to /tmp/pip-install-7pkk56o7/autokeras\n",
            "  Running command git clone -q git://github.com/keras-team/autokeras /tmp/pip-install-7pkk56o7/autokeras\n",
            "Requirement already satisfied: urllib3<1.25,>=1.21.1 in /usr/local/lib/python3.6/dist-packages (from requests) (1.24.3)\n",
            "Requirement already satisfied: certifi>=2017.4.17 in /usr/local/lib/python3.6/dist-packages (from requests) (2019.11.28)\n",
            "Requirement already satisfied: chardet<3.1.0,>=3.0.2 in /usr/local/lib/python3.6/dist-packages (from requests) (3.0.4)\n",
            "Requirement already satisfied: idna<2.9,>=2.5 in /usr/local/lib/python3.6/dist-packages (from requests) (2.8)\n",
            "Requirement already satisfied: kiwisolver>=1.0.1 in /usr/local/lib/python3.6/dist-packages (from matplotlib) (1.1.0)\n",
            "Requirement already satisfied: python-dateutil>=2.1 in /usr/local/lib/python3.6/dist-packages (from matplotlib) (2.6.1)\n",
            "Requirement already satisfied: pyparsing!=2.0.4,!=2.1.2,!=2.1.6,>=2.0.1 in /usr/local/lib/python3.6/dist-packages (from matplotlib) (2.4.5)\n",
            "Requirement already satisfied: cycler>=0.10 in /usr/local/lib/python3.6/dist-packages (from matplotlib) (0.10.0)\n",
            "Requirement already satisfied: pytz>=2017.2 in /usr/local/lib/python3.6/dist-packages (from pandas) (2018.9)\n",
            "Collecting tensorflow>=2.0.0\n",
            "\u001b[?25l  Downloading https://files.pythonhosted.org/packages/46/0f/7bd55361168bb32796b360ad15a25de6966c9c1beb58a8e30c01c8279862/tensorflow-2.0.0-cp36-cp36m-manylinux2010_x86_64.whl (86.3MB)\n",
            "\u001b[K     |████████████████████████████████| 86.3MB 96kB/s \n",
            "\u001b[?25hCollecting keras-tuner>=1.0.0\n",
            "\u001b[?25l  Downloading https://files.pythonhosted.org/packages/db/93/5db8ac61f6547ce94b534a1cf614961a6e302559f0cdd1b37248052c9761/keras_tuner-1.0.0-py2.py3-none-any.whl (88kB)\n",
            "\u001b[K     |████████████████████████████████| 92kB 10.2MB/s \n",
            "\u001b[?25hRequirement already satisfied: scikit-learn in /usr/local/lib/python3.6/dist-packages (from autokeras) (0.21.3)\n",
            "Requirement already satisfied: lightgbm in /usr/local/lib/python3.6/dist-packages (from autokeras) (2.2.3)\n",
            "Requirement already satisfied: setuptools in /usr/local/lib/python3.6/dist-packages (from kiwisolver>=1.0.1->matplotlib) (42.0.2)\n",
            "Requirement already satisfied: six>=1.5 in /usr/local/lib/python3.6/dist-packages (from python-dateutil>=2.1->matplotlib) (1.12.0)\n",
            "Requirement already satisfied: absl-py>=0.7.0 in /usr/local/lib/python3.6/dist-packages (from tensorflow>=2.0.0->autokeras) (0.8.1)\n",
            "Requirement already satisfied: gast==0.2.2 in /usr/local/lib/python3.6/dist-packages (from tensorflow>=2.0.0->autokeras) (0.2.2)\n",
            "Collecting tensorboard<2.1.0,>=2.0.0\n",
            "\u001b[?25l  Downloading https://files.pythonhosted.org/packages/76/54/99b9d5d52d5cb732f099baaaf7740403e83fe6b0cedde940fabd2b13d75a/tensorboard-2.0.2-py3-none-any.whl (3.8MB)\n",
            "\u001b[K     |████████████████████████████████| 3.8MB 28.6MB/s \n",
            "\u001b[?25hRequirement already satisfied: protobuf>=3.6.1 in /usr/local/lib/python3.6/dist-packages (from tensorflow>=2.0.0->autokeras) (3.10.0)\n",
            "Requirement already satisfied: keras-applications>=1.0.8 in /usr/local/lib/python3.6/dist-packages (from tensorflow>=2.0.0->autokeras) (1.0.8)\n",
            "Requirement already satisfied: termcolor>=1.1.0 in /usr/local/lib/python3.6/dist-packages (from tensorflow>=2.0.0->autokeras) (1.1.0)\n",
            "Requirement already satisfied: grpcio>=1.8.6 in /usr/local/lib/python3.6/dist-packages (from tensorflow>=2.0.0->autokeras) (1.15.0)\n",
            "Requirement already satisfied: astor>=0.6.0 in /usr/local/lib/python3.6/dist-packages (from tensorflow>=2.0.0->autokeras) (0.8.0)\n",
            "Requirement already satisfied: opt-einsum>=2.3.2 in /usr/local/lib/python3.6/dist-packages (from tensorflow>=2.0.0->autokeras) (3.1.0)\n",
            "Requirement already satisfied: wrapt>=1.11.1 in /usr/local/lib/python3.6/dist-packages (from tensorflow>=2.0.0->autokeras) (1.11.2)\n",
            "Requirement already satisfied: keras-preprocessing>=1.0.5 in /usr/local/lib/python3.6/dist-packages (from tensorflow>=2.0.0->autokeras) (1.1.0)\n",
            "Requirement already satisfied: google-pasta>=0.1.6 in /usr/local/lib/python3.6/dist-packages (from tensorflow>=2.0.0->autokeras) (0.1.8)\n",
            "Collecting tensorflow-estimator<2.1.0,>=2.0.0\n",
            "\u001b[?25l  Downloading https://files.pythonhosted.org/packages/fc/08/8b927337b7019c374719145d1dceba21a8bb909b93b1ad6f8fb7d22c1ca1/tensorflow_estimator-2.0.1-py2.py3-none-any.whl (449kB)\n",
            "\u001b[K     |████████████████████████████████| 450kB 12.4MB/s \n",
            "\u001b[?25hRequirement already satisfied: wheel>=0.26 in /usr/local/lib/python3.6/dist-packages (from tensorflow>=2.0.0->autokeras) (0.33.6)\n",
            "Requirement already satisfied: tqdm in /usr/local/lib/python3.6/dist-packages (from keras-tuner>=1.0.0->autokeras) (4.28.1)\n",
            "Requirement already satisfied: scipy in /usr/local/lib/python3.6/dist-packages (from keras-tuner>=1.0.0->autokeras) (1.3.3)\n",
            "Requirement already satisfied: psutil in /usr/local/lib/python3.6/dist-packages (from keras-tuner>=1.0.0->autokeras) (5.4.8)\n",
            "Collecting colorama\n",
            "  Downloading https://files.pythonhosted.org/packages/c9/dc/45cdef1b4d119eb96316b3117e6d5708a08029992b2fee2c143c7a0a5cc5/colorama-0.4.3-py2.py3-none-any.whl\n",
            "Collecting terminaltables\n",
            "  Downloading https://files.pythonhosted.org/packages/9b/c4/4a21174f32f8a7e1104798c445dacdc1d4df86f2f26722767034e4de4bff/terminaltables-3.1.0.tar.gz\n",
            "Requirement already satisfied: tabulate in /usr/local/lib/python3.6/dist-packages (from keras-tuner>=1.0.0->autokeras) (0.8.6)\n",
            "Requirement already satisfied: joblib>=0.11 in /usr/local/lib/python3.6/dist-packages (from scikit-learn->autokeras) (0.14.0)\n",
            "Requirement already satisfied: werkzeug>=0.11.15 in /usr/local/lib/python3.6/dist-packages (from tensorboard<2.1.0,>=2.0.0->tensorflow>=2.0.0->autokeras) (0.16.0)\n",
            "Collecting google-auth<2,>=1.6.3\n",
            "\u001b[?25l  Downloading https://files.pythonhosted.org/packages/b6/48/50934afa81c9ab6d68acc19c1c0543f765699fa4e3a36d675baa97816bb1/google_auth-1.8.1-py2.py3-none-any.whl (75kB)\n",
            "\u001b[K     |████████████████████████████████| 81kB 9.7MB/s \n",
            "\u001b[?25hRequirement already satisfied: google-auth-oauthlib<0.5,>=0.4.1 in /usr/local/lib/python3.6/dist-packages (from tensorboard<2.1.0,>=2.0.0->tensorflow>=2.0.0->autokeras) (0.4.1)\n",
            "Requirement already satisfied: markdown>=2.6.8 in /usr/local/lib/python3.6/dist-packages (from tensorboard<2.1.0,>=2.0.0->tensorflow>=2.0.0->autokeras) (3.1.1)\n",
            "Requirement already satisfied: h5py in /usr/local/lib/python3.6/dist-packages (from keras-applications>=1.0.8->tensorflow>=2.0.0->autokeras) (2.8.0)\n",
            "Requirement already satisfied: rsa<4.1,>=3.1.4 in /usr/local/lib/python3.6/dist-packages (from google-auth<2,>=1.6.3->tensorboard<2.1.0,>=2.0.0->tensorflow>=2.0.0->autokeras) (4.0)\n",
            "Requirement already satisfied: pyasn1-modules>=0.2.1 in /usr/local/lib/python3.6/dist-packages (from google-auth<2,>=1.6.3->tensorboard<2.1.0,>=2.0.0->tensorflow>=2.0.0->autokeras) (0.2.7)\n",
            "Requirement already satisfied: cachetools<3.2,>=2.0.0 in /usr/local/lib/python3.6/dist-packages (from google-auth<2,>=1.6.3->tensorboard<2.1.0,>=2.0.0->tensorflow>=2.0.0->autokeras) (3.1.1)\n",
            "Requirement already satisfied: requests-oauthlib>=0.7.0 in /usr/local/lib/python3.6/dist-packages (from google-auth-oauthlib<0.5,>=0.4.1->tensorboard<2.1.0,>=2.0.0->tensorflow>=2.0.0->autokeras) (1.3.0)\n",
            "Requirement already satisfied: pyasn1>=0.1.3 in /usr/local/lib/python3.6/dist-packages (from rsa<4.1,>=3.1.4->google-auth<2,>=1.6.3->tensorboard<2.1.0,>=2.0.0->tensorflow>=2.0.0->autokeras) (0.4.8)\n",
            "Requirement already satisfied: oauthlib>=3.0.0 in /usr/local/lib/python3.6/dist-packages (from requests-oauthlib>=0.7.0->google-auth-oauthlib<0.5,>=0.4.1->tensorboard<2.1.0,>=2.0.0->tensorflow>=2.0.0->autokeras) (3.1.0)\n",
            "Building wheels for collected packages: autokeras, terminaltables\n",
            "  Building wheel for autokeras (setup.py) ... \u001b[?25l\u001b[?25hdone\n",
            "  Created wheel for autokeras: filename=autokeras-1.0.0a0-cp36-none-any.whl size=50331 sha256=9261e1cbd5e354b3662e45faafedf70d9aa6411a2c4fb2d70b65fe90a3667ed0\n",
            "  Stored in directory: /tmp/pip-ephem-wheel-cache-rfyiv0oe/wheels/55/b0/bc/7304f4fcafa1a7f163e4e4da7cb951f17b1cacf2e76b7d3146\n",
            "  Building wheel for terminaltables (setup.py) ... \u001b[?25l\u001b[?25hdone\n",
            "  Created wheel for terminaltables: filename=terminaltables-3.1.0-cp36-none-any.whl size=15354 sha256=27c8970129b5e7f7db281f8e2673baa85f0288c35e0691be1c48a538a7ef53c9\n",
            "  Stored in directory: /root/.cache/pip/wheels/30/6b/50/6c75775b681fb36cdfac7f19799888ef9d8813aff9e379663e\n",
            "Successfully built autokeras terminaltables\n",
            "\u001b[31mERROR: tensorboard 2.0.2 has requirement grpcio>=1.24.3, but you'll have grpcio 1.15.0 which is incompatible.\u001b[0m\n",
            "\u001b[31mERROR: google-colab 1.0.0 has requirement google-auth~=1.4.0, but you'll have google-auth 1.8.1 which is incompatible.\u001b[0m\n",
            "Installing collected packages: google-auth, tensorboard, tensorflow-estimator, tensorflow, colorama, terminaltables, keras-tuner, autokeras\n",
            "  Found existing installation: google-auth 1.4.2\n",
            "    Uninstalling google-auth-1.4.2:\n",
            "      Successfully uninstalled google-auth-1.4.2\n",
            "  Found existing installation: tensorboard 1.15.0\n",
            "    Uninstalling tensorboard-1.15.0:\n",
            "      Successfully uninstalled tensorboard-1.15.0\n",
            "  Found existing installation: tensorflow-estimator 1.15.1\n",
            "    Uninstalling tensorflow-estimator-1.15.1:\n",
            "      Successfully uninstalled tensorflow-estimator-1.15.1\n",
            "  Found existing installation: tensorflow 1.15.0\n",
            "    Uninstalling tensorflow-1.15.0:\n",
            "      Successfully uninstalled tensorflow-1.15.0\n",
            "Successfully installed autokeras-1.0.0a0 colorama-0.4.3 google-auth-1.8.1 keras-tuner-1.0.0 tensorboard-2.0.2 tensorflow-2.0.0 tensorflow-estimator-2.0.1 terminaltables-3.1.0\n"
          ],
          "name": "stdout"
        },
        {
          "output_type": "display_data",
          "data": {
            "application/vnd.colab-display-data+json": {
              "pip_warning": {
                "packages": [
                  "google"
                ]
              }
            }
          },
          "metadata": {
            "tags": []
          }
        }
      ]
    },
    {
      "cell_type": "code",
      "metadata": {
        "id": "XIUl6fL7HcG4",
        "colab_type": "code",
        "outputId": "3a8dcf49-0a66-42f4-d2e4-3d33ff8baf5e",
        "colab": {
          "base_uri": "https://localhost:8080/",
          "height": 306
        }
      },
      "source": [
        "!nvidia-smi"
      ],
      "execution_count": 1,
      "outputs": [
        {
          "output_type": "stream",
          "text": [
            "Tue Dec 10 21:40:42 2019       \n",
            "+-----------------------------------------------------------------------------+\n",
            "| NVIDIA-SMI 440.36       Driver Version: 418.67       CUDA Version: 10.1     |\n",
            "|-------------------------------+----------------------+----------------------+\n",
            "| GPU  Name        Persistence-M| Bus-Id        Disp.A | Volatile Uncorr. ECC |\n",
            "| Fan  Temp  Perf  Pwr:Usage/Cap|         Memory-Usage | GPU-Util  Compute M. |\n",
            "|===============================+======================+======================|\n",
            "|   0  Tesla K80           Off  | 00000000:00:04.0 Off |                    0 |\n",
            "| N/A   38C    P8    28W / 149W |      0MiB / 11441MiB |      0%      Default |\n",
            "+-------------------------------+----------------------+----------------------+\n",
            "                                                                               \n",
            "+-----------------------------------------------------------------------------+\n",
            "| Processes:                                                       GPU Memory |\n",
            "|  GPU       PID   Type   Process name                             Usage      |\n",
            "|=============================================================================|\n",
            "|  No running processes found                                                 |\n",
            "+-----------------------------------------------------------------------------+\n"
          ],
          "name": "stdout"
        }
      ]
    },
    {
      "cell_type": "code",
      "metadata": {
        "colab_type": "code",
        "outputId": "50ce2e90-7149-4383-9e72-bcdbf15491da",
        "id": "6O8DVIdyJfyc",
        "colab": {
          "base_uri": "https://localhost:8080/",
          "height": 819
        }
      },
      "source": [
        "!wget - O politifact_fake.csv https://raw.githubusercontent.com/KaiDMML/FakeNewsNet/master/dataset/politifact_fake.csv\n",
        "!wget - O politifact_real.csv https://raw.githubusercontent.com/KaiDMML/FakeNewsNet/master/dataset/politifact_real.csv"
      ],
      "execution_count": 2,
      "outputs": [
        {
          "output_type": "stream",
          "text": [
            "--2019-12-10 21:40:48--  http://-/\n",
            "Resolving - (-)... failed: Name or service not known.\n",
            "wget: unable to resolve host address ‘-’\n",
            "--2019-12-10 21:40:48--  http://o/\n",
            "Resolving o (o)... failed: Name or service not known.\n",
            "wget: unable to resolve host address ‘o’\n",
            "--2019-12-10 21:40:48--  http://politifact_fake.csv/\n",
            "Resolving politifact_fake.csv (politifact_fake.csv)... failed: Name or service not known.\n",
            "wget: unable to resolve host address ‘politifact_fake.csv’\n",
            "--2019-12-10 21:40:48--  https://raw.githubusercontent.com/KaiDMML/FakeNewsNet/master/dataset/politifact_fake.csv\n",
            "Resolving raw.githubusercontent.com (raw.githubusercontent.com)... 151.101.0.133, 151.101.64.133, 151.101.128.133, ...\n",
            "Connecting to raw.githubusercontent.com (raw.githubusercontent.com)|151.101.0.133|:443... connected.\n",
            "HTTP request sent, awaiting response... 200 OK\n",
            "Length: 3286418 (3.1M) [text/plain]\n",
            "Saving to: ‘politifact_fake.csv.1’\n",
            "\n",
            "\rpolitifact_fake.csv   0%[                    ]       0  --.-KB/s               \rpolitifact_fake.csv 100%[===================>]   3.13M  --.-KB/s    in 0.08s   \n",
            "\n",
            "2019-12-10 21:40:49 (38.4 MB/s) - ‘politifact_fake.csv.1’ saved [3286418/3286418]\n",
            "\n",
            "FINISHED --2019-12-10 21:40:49--\n",
            "Total wall clock time: 0.3s\n",
            "Downloaded: 1 files, 3.1M in 0.08s (38.4 MB/s)\n",
            "--2019-12-10 21:40:50--  http://-/\n",
            "Resolving - (-)... failed: Name or service not known.\n",
            "wget: unable to resolve host address ‘-’\n",
            "--2019-12-10 21:40:50--  http://o/\n",
            "Resolving o (o)... failed: Name or service not known.\n",
            "wget: unable to resolve host address ‘o’\n",
            "--2019-12-10 21:40:50--  http://politifact_real.csv/\n",
            "Resolving politifact_real.csv (politifact_real.csv)... failed: Name or service not known.\n",
            "wget: unable to resolve host address ‘politifact_real.csv’\n",
            "--2019-12-10 21:40:50--  https://raw.githubusercontent.com/KaiDMML/FakeNewsNet/master/dataset/politifact_real.csv\n",
            "Resolving raw.githubusercontent.com (raw.githubusercontent.com)... 151.101.0.133, 151.101.64.133, 151.101.128.133, ...\n",
            "Connecting to raw.githubusercontent.com (raw.githubusercontent.com)|151.101.0.133|:443... connected.\n",
            "HTTP request sent, awaiting response... 200 OK\n",
            "Length: 8278658 (7.9M) [text/plain]\n",
            "Saving to: ‘politifact_real.csv.1’\n",
            "\n",
            "politifact_real.csv 100%[===================>]   7.89M  --.-KB/s    in 0.1s    \n",
            "\n",
            "2019-12-10 21:40:50 (76.5 MB/s) - ‘politifact_real.csv.1’ saved [8278658/8278658]\n",
            "\n",
            "FINISHED --2019-12-10 21:40:50--\n",
            "Total wall clock time: 0.4s\n",
            "Downloaded: 1 files, 7.9M in 0.1s (76.5 MB/s)\n"
          ],
          "name": "stdout"
        }
      ]
    },
    {
      "cell_type": "code",
      "metadata": {
        "id": "T_0nQXIyJbQf",
        "colab_type": "code",
        "outputId": "1d4b6307-688b-4e93-cae8-600f448c7053",
        "colab": {
          "base_uri": "https://localhost:8080/",
          "height": 136
        }
      },
      "source": [
        "!ls -l"
      ],
      "execution_count": 3,
      "outputs": [
        {
          "output_type": "stream",
          "text": [
            "total 22608\n",
            "-rw-r--r--  1 root root 3286418 Dec 10 20:38 politifact_fake.csv\n",
            "-rw-r--r--  1 root root 3286418 Dec 10 21:40 politifact_fake.csv.1\n",
            "-rw-r--r--  1 root root 8278658 Dec 10 20:38 politifact_real.csv\n",
            "-rw-r--r--  1 root root 8278658 Dec 10 21:40 politifact_real.csv.1\n",
            "drwxr-xr-x  1 root root    4096 Dec  6 16:53 sample_data\n",
            "drwxr-xr-x 15 root root    4096 Dec 10 21:39 text_classifier\n"
          ],
          "name": "stdout"
        }
      ]
    },
    {
      "cell_type": "code",
      "metadata": {
        "id": "PLvpKFNmJyUn",
        "colab_type": "code",
        "colab": {}
      },
      "source": [
        "import os\n",
        "import json\n",
        "import numpy as np\n",
        "import matplotlib.pyplot as plt\n",
        "from collections import Counter\n",
        "import pandas as pd\n",
        "import os\n",
        "from sklearn.metrics import f1_score, accuracy_score, recall_score, precision_score\n",
        "from sklearn.model_selection import train_test_split\n",
        "from autokeras import TextClassifier"
      ],
      "execution_count": 0,
      "outputs": []
    },
    {
      "cell_type": "code",
      "metadata": {
        "id": "ntSJWKqJKVGa",
        "colab_type": "code",
        "colab": {}
      },
      "source": [
        "DATASET_NAME = 'politifact'\n",
        "DATASET_PATH = './{}'.format(DATASET_NAME)\n",
        "REAL_DATA_PATH = '{}_real.csv'.format(DATASET_PATH)\n",
        "FAKE_DATA_PATH = '{}_fake.csv'.format(DATASET_PATH)"
      ],
      "execution_count": 0,
      "outputs": []
    },
    {
      "cell_type": "code",
      "metadata": {
        "id": "m-WYXGglKpox",
        "colab_type": "code",
        "colab": {}
      },
      "source": [
        "fake_arts = pd.read_csv(FAKE_DATA_PATH, na_values=['nan'], keep_default_na=False)\n",
        "real_arts = pd.read_csv(REAL_DATA_PATH, na_values=['nan'], keep_default_na=False)"
      ],
      "execution_count": 0,
      "outputs": []
    },
    {
      "cell_type": "code",
      "metadata": {
        "id": "OQgUChXnKt7L",
        "colab_type": "code",
        "colab": {}
      },
      "source": [
        "def parse_art_data_frame(df):\n",
        "    return [{'id': id, 'url': url, 'title': title} for id, url, title, tweets in df.values]\n",
        "    \n",
        "fake_arts_with_content = parse_art_data_frame(fake_arts)\n",
        "real_arts_with_content = parse_art_data_frame(real_arts)"
      ],
      "execution_count": 0,
      "outputs": []
    },
    {
      "cell_type": "code",
      "metadata": {
        "id": "XltXs2XdKv1c",
        "colab_type": "code",
        "colab": {}
      },
      "source": [
        "fake_data = [(art, 'fake') for art in fake_arts_with_content]\n",
        "real_data = [(art, 'real') for art in real_arts_with_content]"
      ],
      "execution_count": 0,
      "outputs": []
    },
    {
      "cell_type": "code",
      "metadata": {
        "id": "SLQEORGsKxxm",
        "colab_type": "code",
        "colab": {}
      },
      "source": [
        "all_data = fake_data + real_data\n",
        "X = [x for x,y in all_data]\n",
        "y = [y for x,y in all_data]\n",
        "X_train, X_test, y_train, y_test = train_test_split(X, y, test_size=0.2, random_state=42)\n",
        "\n",
        "train_data = list(zip(X_train, y_train))\n",
        "test_data = list(zip(X_test, y_test))"
      ],
      "execution_count": 0,
      "outputs": []
    },
    {
      "cell_type": "code",
      "metadata": {
        "id": "fmpjjmBTKz6o",
        "colab_type": "code",
        "outputId": "c532c0d6-4fca-4d54-b7c2-61871ee4e9b9",
        "colab": {
          "base_uri": "https://localhost:8080/",
          "height": 85
        }
      },
      "source": [
        "print(len(train_data))\n",
        "print(len(test_data))\n",
        "print(len(train_data) + len(test_data))\n",
        "print(len(fake_data) + len(real_data))"
      ],
      "execution_count": 10,
      "outputs": [
        {
          "output_type": "stream",
          "text": [
            "844\n",
            "212\n",
            "1056\n",
            "1056\n"
          ],
          "name": "stdout"
        }
      ]
    },
    {
      "cell_type": "code",
      "metadata": {
        "id": "08B3YnoripKw",
        "colab_type": "code",
        "outputId": "f6b5a336-fd04-4222-845a-278d8008e614",
        "colab": {
          "base_uri": "https://localhost:8080/",
          "height": 85
        }
      },
      "source": [
        "print(len([y for y in y_train if y == 'fake']))\n",
        "print(len([y for y in y_test if y == 'fake']))\n",
        "\n",
        "print(len([y for y in y_train if y == 'real']))\n",
        "print(len([y for y in y_test if y == 'real']))"
      ],
      "execution_count": 11,
      "outputs": [
        {
          "output_type": "stream",
          "text": [
            "334\n",
            "98\n",
            "510\n",
            "114\n"
          ],
          "name": "stdout"
        }
      ]
    },
    {
      "cell_type": "code",
      "metadata": {
        "id": "3n74zwgCK1Xw",
        "colab_type": "code",
        "colab": {}
      },
      "source": [
        "def clear_text(text):\n",
        "    return ' '.join(text.split())\n",
        "\n",
        "class Classifier():\n",
        "    def __init__(self, classifier):\n",
        "        self.classifier = classifier\n",
        "        \n",
        "    def predict(self, text):\n",
        "        text = clear_text(text)\n",
        "        sentence = Sentence(text)\n",
        "        self.classifier.predict(sentence)\n",
        "        return sentence.labels[0]\n",
        "    \n",
        "def train_model(train_data,\n",
        "               data_folder = '.',\n",
        "               model_folder = '.',\n",
        "               max_epochs=1\n",
        "               ):\n",
        "    clf = TextClassifier(verbose=True)\n",
        "    train_data\n",
        "    clf.fit(x=x_train, y=y_train)\n",
        "    return Classifier(clf)\n",
        "\n",
        "def calculate_metrics(y_true, y_pred, pos_label = 'fake'):\n",
        "    acc = accuracy_score(y_true, y_pred)\n",
        "    precision = precision_score(y_true, y_pred, pos_label=pos_label)\n",
        "    recall = recall_score(y_true, y_pred, pos_label=pos_label)\n",
        "    f1 = f1_score(y_true, y_pred, pos_label=pos_label)\n",
        "    return acc, precision, recall, f1\n",
        "\n",
        "def validate_model(test_data, classifier):\n",
        "    y_true = [label for x, label in test_data]\n",
        "    y_pred = [classifier.predict(x).value for x, label in test_data]\n",
        "    acc, precision, recall, f1 = calculate_metrics(y_true, y_pred)\n",
        "    print(\"acc: \", acc)\n",
        "    print(\"precision: \", precision)\n",
        "    print(\"recall: \", recall)\n",
        "    print(\"f1: \", f1)\n",
        "    return acc, precision, recall, f1\n",
        "\n",
        "def make_test(train_data, test_data, data_folder, model_folder, max_epochs):\n",
        "    classifier = train_model(train_data, data_folder, model_folder, max_epochs)\n",
        "    validate_model(test_data, classifier)"
      ],
      "execution_count": 0,
      "outputs": []
    },
    {
      "cell_type": "code",
      "metadata": {
        "id": "lMqZCSOSK4Ky",
        "colab_type": "code",
        "colab": {}
      },
      "source": [
        "train_content = [(x, label) for x, label in train_data] \n",
        "test_content = [(x, label) for x, label in test_data]"
      ],
      "execution_count": 0,
      "outputs": []
    },
    {
      "cell_type": "code",
      "metadata": {
        "id": "XmYv9RdmK5ks",
        "colab_type": "code",
        "outputId": "5f76cd9a-9627-431a-fd88-caf549c99830",
        "colab": {
          "base_uri": "https://localhost:8080/",
          "height": 85
        }
      },
      "source": [
        "train_title = [(x['title'], label) for x, label in train_content]\n",
        "test_title = [(x['title'], label) for x, label in test_content]\n",
        "print(len([x for x, label in train_title if x == '']))\n",
        "print(len([x for x, label in test_title if x == '']))\n",
        "train_title = [(x, label) for x, label in train_title if x != ''] \n",
        "test_title = [(x, label) for x, label in test_title if x != '']\n",
        "print(len(train_title))\n",
        "print(len(test_title))"
      ],
      "execution_count": 14,
      "outputs": [
        {
          "output_type": "stream",
          "text": [
            "0\n",
            "0\n",
            "844\n",
            "212\n"
          ],
          "name": "stdout"
        }
      ]
    },
    {
      "cell_type": "code",
      "metadata": {
        "id": "1AJwo3TzLIBW",
        "colab_type": "code",
        "outputId": "9bf0e1f3-8620-4179-bee0-fca97087d5f8",
        "colab": {
          "base_uri": "https://localhost:8080/",
          "height": 85
        }
      },
      "source": [
        "train_url = [(x['url'], label) for x, label in train_content] \n",
        "test_url = [(x['url'], label) for x, label in test_content]\n",
        "print(len([x for x, label in train_url if x == '']))\n",
        "print(len([x for x, label in test_url if x == '']))\n",
        "train_url = [(x, label) for x, label in train_url if x != ''] \n",
        "test_url = [(x, label) for x, label in test_url if x != '']\n",
        "print(len(train_url))\n",
        "print(len(test_url))"
      ],
      "execution_count": 15,
      "outputs": [
        {
          "output_type": "stream",
          "text": [
            "39\n",
            "22\n",
            "805\n",
            "190\n"
          ],
          "name": "stdout"
        }
      ]
    },
    {
      "cell_type": "code",
      "metadata": {
        "id": "j1M55hjsLV6Z",
        "colab_type": "code",
        "outputId": "c28627c6-1ab5-4e4c-c610-6a7326c03c99",
        "colab": {
          "base_uri": "https://localhost:8080/",
          "height": 85
        }
      },
      "source": [
        "train_mix = [(x['url'] + ', ' + x['title'], label) for x, label in train_content] \n",
        "test_mix = [(x['url'] + ', ' + x['title'], label) for x, label in test_content]\n",
        "print(len([x for x, label in train_mix if x == '']))\n",
        "print(len([x for x, label in test_mix if x == '']))\n",
        "train_mix = [(x, label) for x, label in train_mix if x != ''] \n",
        "test_mix = [(x, label) for x, label in test_mix if x != '']\n",
        "print(len(train_mix))\n",
        "print(len(test_mix))"
      ],
      "execution_count": 16,
      "outputs": [
        {
          "output_type": "stream",
          "text": [
            "0\n",
            "0\n",
            "844\n",
            "212\n"
          ],
          "name": "stdout"
        }
      ]
    },
    {
      "cell_type": "code",
      "metadata": {
        "id": "V6SOqZJ9L0An",
        "colab_type": "code",
        "colab": {
          "base_uri": "https://localhost:8080/",
          "height": 1000
        },
        "outputId": "b062c43e-3054-4357-9e3a-d40c834fdc7d"
      },
      "source": [
        "x_train, y_train = zip(*(train_mix+test_mix))\n",
        "x_train = np.array(x_train)\n",
        "y_train = np.array(y_train)\n",
        "clf = TextClassifier(max_trials=30)\n",
        "clf.fit(x=x_train, y=y_train, validation_split=0.2, epochs=50)"
      ],
      "execution_count": 30,
      "outputs": [
        {
          "output_type": "stream",
          "text": [
            "WARNING:tensorflow:Unresolved object in checkpoint: (root).optimizer.iter\n",
            "WARNING:tensorflow:Unresolved object in checkpoint: (root).optimizer.beta_1\n",
            "WARNING:tensorflow:Unresolved object in checkpoint: (root).optimizer.beta_2\n",
            "WARNING:tensorflow:Unresolved object in checkpoint: (root).optimizer.decay\n",
            "WARNING:tensorflow:Unresolved object in checkpoint: (root).optimizer.learning_rate\n",
            "WARNING:tensorflow:A checkpoint was restored (e.g. tf.train.Checkpoint.restore or tf.keras.Model.load_weights) but not all checkpointed values were used. See above for specific issues. Use expect_partial() on the load status object, e.g. tf.train.Checkpoint.restore(...).expect_partial(), to silence these warnings, or use assert_consumed() to make the check explicit. See https://www.tensorflow.org/alpha/guide/checkpoints#loading_mechanics for details.\n",
            "Epoch 1/50\n",
            "27/27 [==============================] - 2s 81ms/step - loss: 0.6800 - accuracy: 0.5882 - val_loss: 0.0000e+00 - val_accuracy: 0.0000e+00\n",
            "Epoch 2/50\n",
            "27/27 [==============================] - 2s 58ms/step - loss: 0.6015 - accuracy: 0.6899 - val_loss: 0.5757 - val_accuracy: 0.7441\n",
            "Epoch 3/50\n",
            "27/27 [==============================] - 1s 55ms/step - loss: 0.4188 - accuracy: 0.9408 - val_loss: 0.4187 - val_accuracy: 0.8768\n",
            "Epoch 4/50\n",
            "27/27 [==============================] - 2s 58ms/step - loss: 0.2164 - accuracy: 0.9858 - val_loss: 0.3074 - val_accuracy: 0.8863\n",
            "Epoch 5/50\n",
            "27/27 [==============================] - 2s 57ms/step - loss: 0.0998 - accuracy: 0.9953 - val_loss: 0.2673 - val_accuracy: 0.8815\n",
            "Epoch 6/50\n",
            "27/27 [==============================] - 2s 59ms/step - loss: 0.0506 - accuracy: 0.9964 - val_loss: 0.2580 - val_accuracy: 0.8863\n",
            "Epoch 7/50\n",
            "27/27 [==============================] - 1s 55ms/step - loss: 0.0293 - accuracy: 0.9976 - val_loss: 0.2576 - val_accuracy: 0.8910\n",
            "Epoch 8/50\n",
            "27/27 [==============================] - 2s 56ms/step - loss: 0.0188 - accuracy: 0.9988 - val_loss: 0.2605 - val_accuracy: 0.8863\n",
            "Epoch 9/50\n",
            "27/27 [==============================] - 1s 55ms/step - loss: 0.0129 - accuracy: 1.0000 - val_loss: 0.2648 - val_accuracy: 0.8957\n",
            "Epoch 10/50\n",
            "27/27 [==============================] - 1s 55ms/step - loss: 0.0094 - accuracy: 1.0000 - val_loss: 0.2695 - val_accuracy: 0.8957\n",
            "Epoch 11/50\n",
            "27/27 [==============================] - 2s 59ms/step - loss: 0.0072 - accuracy: 1.0000 - val_loss: 0.2742 - val_accuracy: 0.8957\n",
            "Epoch 12/50\n",
            "27/27 [==============================] - 2s 58ms/step - loss: 0.0056 - accuracy: 1.0000 - val_loss: 0.2787 - val_accuracy: 0.8957\n",
            "Epoch 13/50\n",
            "27/27 [==============================] - 2s 56ms/step - loss: 0.0045 - accuracy: 1.0000 - val_loss: 0.2832 - val_accuracy: 0.8957\n",
            "Epoch 14/50\n",
            "27/27 [==============================] - 1s 56ms/step - loss: 0.0038 - accuracy: 1.0000 - val_loss: 0.2874 - val_accuracy: 0.8957\n",
            "Epoch 15/50\n",
            "27/27 [==============================] - 2s 56ms/step - loss: 0.0031 - accuracy: 1.0000 - val_loss: 0.2915 - val_accuracy: 0.8957\n",
            "Epoch 16/50\n",
            "27/27 [==============================] - 1s 52ms/step - loss: 0.0027 - accuracy: 1.0000 - val_loss: 0.2954 - val_accuracy: 0.8957\n",
            "Epoch 17/50\n",
            "27/27 [==============================] - 1s 55ms/step - loss: 0.0023 - accuracy: 1.0000 - val_loss: 0.2991 - val_accuracy: 0.8957\n"
          ],
          "name": "stdout"
        },
        {
          "output_type": "display_data",
          "data": {
            "text/html": [
              "<span style=\"color:#4527A0\"><h1 style=\"font-size:18px\">Trial complete</h1></span>"
            ],
            "text/plain": [
              "<IPython.core.display.HTML object>"
            ]
          },
          "metadata": {
            "tags": []
          }
        },
        {
          "output_type": "display_data",
          "data": {
            "text/html": [
              "<span style=\"color:#4527A0\"><h1 style=\"font-size:18px\">Trial summary</h1></span>"
            ],
            "text/plain": [
              "<IPython.core.display.HTML object>"
            ]
          },
          "metadata": {
            "tags": []
          }
        },
        {
          "output_type": "display_data",
          "data": {
            "text/html": [
              "<span style=\"color:#7E57C2\"><h2 style=\"font-size:16px\">Hp values:</h2></span>"
            ],
            "text/plain": [
              "<IPython.core.display.HTML object>"
            ]
          },
          "metadata": {
            "tags": []
          }
        },
        {
          "output_type": "display_data",
          "data": {
            "text/html": [
              "<span style=\"color:cyan\"> |-dense_block_1/dropout_rate: 0</span>"
            ],
            "text/plain": [
              "<IPython.core.display.HTML object>"
            ]
          },
          "metadata": {
            "tags": []
          }
        },
        {
          "output_type": "display_data",
          "data": {
            "text/html": [
              "<span style=\"color:blue\"> |-dense_block_1/num_layers: 2</span>"
            ],
            "text/plain": [
              "<IPython.core.display.HTML object>"
            ]
          },
          "metadata": {
            "tags": []
          }
        },
        {
          "output_type": "display_data",
          "data": {
            "text/html": [
              "<span style=\"color:cyan\"> |-dense_block_1/units_0: 32</span>"
            ],
            "text/plain": [
              "<IPython.core.display.HTML object>"
            ]
          },
          "metadata": {
            "tags": []
          }
        },
        {
          "output_type": "display_data",
          "data": {
            "text/html": [
              "<span style=\"color:blue\"> |-dense_block_1/units_1: 32</span>"
            ],
            "text/plain": [
              "<IPython.core.display.HTML object>"
            ]
          },
          "metadata": {
            "tags": []
          }
        },
        {
          "output_type": "display_data",
          "data": {
            "text/html": [
              "<span style=\"color:cyan\"> |-dense_block_1/use_batchnorm: False</span>"
            ],
            "text/plain": [
              "<IPython.core.display.HTML object>"
            ]
          },
          "metadata": {
            "tags": []
          }
        },
        {
          "output_type": "display_data",
          "data": {
            "text/html": [
              "<span style=\"color:blue\"> |-optimizer: adam</span>"
            ],
            "text/plain": [
              "<IPython.core.display.HTML object>"
            ]
          },
          "metadata": {
            "tags": []
          }
        },
        {
          "output_type": "display_data",
          "data": {
            "text/html": [
              "<span style=\"color:cyan\"> |-Score: 0.2575525385992868</span>"
            ],
            "text/plain": [
              "<IPython.core.display.HTML object>"
            ]
          },
          "metadata": {
            "tags": []
          }
        },
        {
          "output_type": "display_data",
          "data": {
            "text/html": [
              "<span style=\"color:cyan\"> |-Best step: 0</span>"
            ],
            "text/plain": [
              "<IPython.core.display.HTML object>"
            ]
          },
          "metadata": {
            "tags": []
          }
        },
        {
          "output_type": "stream",
          "text": [
            "Epoch 1/50\n",
            "27/27 [==============================] - 2s 80ms/step - loss: 0.6907 - accuracy: 0.5846 - val_loss: 0.0000e+00 - val_accuracy: 0.0000e+00\n",
            "Epoch 2/50\n",
            "27/27 [==============================] - 2s 57ms/step - loss: 0.6868 - accuracy: 0.6036 - val_loss: 0.6906 - val_accuracy: 0.5403\n",
            "Epoch 3/50\n",
            "27/27 [==============================] - 2s 56ms/step - loss: 0.6837 - accuracy: 0.6036 - val_loss: 0.6902 - val_accuracy: 0.5403\n",
            "Epoch 4/50\n",
            "27/27 [==============================] - 2s 57ms/step - loss: 0.6811 - accuracy: 0.6036 - val_loss: 0.6901 - val_accuracy: 0.5403\n",
            "Epoch 5/50\n",
            "27/27 [==============================] - 2s 58ms/step - loss: 0.6788 - accuracy: 0.6036 - val_loss: 0.6902 - val_accuracy: 0.5403\n",
            "Epoch 6/50\n",
            "27/27 [==============================] - 2s 56ms/step - loss: 0.6769 - accuracy: 0.6036 - val_loss: 0.6904 - val_accuracy: 0.5403\n",
            "Epoch 7/50\n",
            "27/27 [==============================] - 2s 60ms/step - loss: 0.6754 - accuracy: 0.6036 - val_loss: 0.6908 - val_accuracy: 0.5403\n",
            "Epoch 8/50\n",
            "27/27 [==============================] - 2s 57ms/step - loss: 0.6741 - accuracy: 0.6036 - val_loss: 0.6912 - val_accuracy: 0.5403\n",
            "Epoch 9/50\n",
            "27/27 [==============================] - 2s 58ms/step - loss: 0.6731 - accuracy: 0.6036 - val_loss: 0.6916 - val_accuracy: 0.5403\n",
            "Epoch 10/50\n",
            "27/27 [==============================] - 2s 57ms/step - loss: 0.6722 - accuracy: 0.6036 - val_loss: 0.6921 - val_accuracy: 0.5403\n",
            "Epoch 11/50\n",
            "27/27 [==============================] - 2s 56ms/step - loss: 0.6715 - accuracy: 0.6036 - val_loss: 0.6925 - val_accuracy: 0.5403\n",
            "Epoch 12/50\n",
            "27/27 [==============================] - 2s 58ms/step - loss: 0.6709 - accuracy: 0.6036 - val_loss: 0.6929 - val_accuracy: 0.5403\n",
            "Epoch 13/50\n",
            "27/27 [==============================] - 2s 56ms/step - loss: 0.6703 - accuracy: 0.6036 - val_loss: 0.6933 - val_accuracy: 0.5403\n",
            "Epoch 14/50\n",
            "27/27 [==============================] - 1s 55ms/step - loss: 0.6699 - accuracy: 0.6036 - val_loss: 0.6936 - val_accuracy: 0.5403\n"
          ],
          "name": "stdout"
        },
        {
          "output_type": "display_data",
          "data": {
            "text/html": [
              "<span style=\"color:#4527A0\"><h1 style=\"font-size:18px\">Trial complete</h1></span>"
            ],
            "text/plain": [
              "<IPython.core.display.HTML object>"
            ]
          },
          "metadata": {
            "tags": []
          }
        },
        {
          "output_type": "display_data",
          "data": {
            "text/html": [
              "<span style=\"color:#4527A0\"><h1 style=\"font-size:18px\">Trial summary</h1></span>"
            ],
            "text/plain": [
              "<IPython.core.display.HTML object>"
            ]
          },
          "metadata": {
            "tags": []
          }
        },
        {
          "output_type": "display_data",
          "data": {
            "text/html": [
              "<span style=\"color:#7E57C2\"><h2 style=\"font-size:16px\">Hp values:</h2></span>"
            ],
            "text/plain": [
              "<IPython.core.display.HTML object>"
            ]
          },
          "metadata": {
            "tags": []
          }
        },
        {
          "output_type": "display_data",
          "data": {
            "text/html": [
              "<span style=\"color:cyan\"> |-dense_block_1/dropout_rate: 0</span>"
            ],
            "text/plain": [
              "<IPython.core.display.HTML object>"
            ]
          },
          "metadata": {
            "tags": []
          }
        },
        {
          "output_type": "display_data",
          "data": {
            "text/html": [
              "<span style=\"color:blue\"> |-dense_block_1/num_layers: 2</span>"
            ],
            "text/plain": [
              "<IPython.core.display.HTML object>"
            ]
          },
          "metadata": {
            "tags": []
          }
        },
        {
          "output_type": "display_data",
          "data": {
            "text/html": [
              "<span style=\"color:cyan\"> |-dense_block_1/units_0: 32</span>"
            ],
            "text/plain": [
              "<IPython.core.display.HTML object>"
            ]
          },
          "metadata": {
            "tags": []
          }
        },
        {
          "output_type": "display_data",
          "data": {
            "text/html": [
              "<span style=\"color:blue\"> |-dense_block_1/units_1: 32</span>"
            ],
            "text/plain": [
              "<IPython.core.display.HTML object>"
            ]
          },
          "metadata": {
            "tags": []
          }
        },
        {
          "output_type": "display_data",
          "data": {
            "text/html": [
              "<span style=\"color:cyan\"> |-dense_block_1/use_batchnorm: False</span>"
            ],
            "text/plain": [
              "<IPython.core.display.HTML object>"
            ]
          },
          "metadata": {
            "tags": []
          }
        },
        {
          "output_type": "display_data",
          "data": {
            "text/html": [
              "<span style=\"color:blue\"> |-optimizer: sgd</span>"
            ],
            "text/plain": [
              "<IPython.core.display.HTML object>"
            ]
          },
          "metadata": {
            "tags": []
          }
        },
        {
          "output_type": "display_data",
          "data": {
            "text/html": [
              "<span style=\"color:cyan\"> |-Score: 0.6900603004864284</span>"
            ],
            "text/plain": [
              "<IPython.core.display.HTML object>"
            ]
          },
          "metadata": {
            "tags": []
          }
        },
        {
          "output_type": "display_data",
          "data": {
            "text/html": [
              "<span style=\"color:cyan\"> |-Best step: 0</span>"
            ],
            "text/plain": [
              "<IPython.core.display.HTML object>"
            ]
          },
          "metadata": {
            "tags": []
          }
        },
        {
          "output_type": "stream",
          "text": [
            "Epoch 1/50\n",
            "27/27 [==============================] - 2s 81ms/step - loss: 0.6856 - accuracy: 0.6213 - val_loss: 0.0000e+00 - val_accuracy: 0.0000e+00\n",
            "Epoch 2/50\n",
            "27/27 [==============================] - 2s 59ms/step - loss: 0.6529 - accuracy: 0.7621 - val_loss: 0.6526 - val_accuracy: 0.6967\n",
            "Epoch 3/50\n",
            "27/27 [==============================] - 2s 58ms/step - loss: 0.6025 - accuracy: 0.9089 - val_loss: 0.6095 - val_accuracy: 0.8341\n",
            "Epoch 4/50\n",
            "27/27 [==============================] - 2s 56ms/step - loss: 0.5448 - accuracy: 0.9491 - val_loss: 0.5616 - val_accuracy: 0.8815\n",
            "Epoch 5/50\n",
            "27/27 [==============================] - 1s 55ms/step - loss: 0.4755 - accuracy: 0.9704 - val_loss: 0.5149 - val_accuracy: 0.8910\n",
            "Epoch 6/50\n",
            "27/27 [==============================] - 1s 55ms/step - loss: 0.4110 - accuracy: 0.9834 - val_loss: 0.4712 - val_accuracy: 0.8863\n",
            "Epoch 7/50\n",
            "27/27 [==============================] - 1s 55ms/step - loss: 0.3583 - accuracy: 0.9846 - val_loss: 0.4340 - val_accuracy: 0.8815\n",
            "Epoch 8/50\n",
            "27/27 [==============================] - 1s 54ms/step - loss: 0.3124 - accuracy: 0.9822 - val_loss: 0.4022 - val_accuracy: 0.8815\n",
            "Epoch 9/50\n",
            "27/27 [==============================] - 1s 55ms/step - loss: 0.2705 - accuracy: 0.9799 - val_loss: 0.3756 - val_accuracy: 0.8863\n",
            "Epoch 10/50\n",
            "27/27 [==============================] - 1s 54ms/step - loss: 0.2351 - accuracy: 0.9929 - val_loss: 0.3534 - val_accuracy: 0.8815\n",
            "Epoch 11/50\n",
            "27/27 [==============================] - 1s 55ms/step - loss: 0.2039 - accuracy: 0.9858 - val_loss: 0.3351 - val_accuracy: 0.8815\n",
            "Epoch 12/50\n",
            "27/27 [==============================] - 2s 56ms/step - loss: 0.1812 - accuracy: 0.9929 - val_loss: 0.3208 - val_accuracy: 0.8815\n",
            "Epoch 13/50\n",
            "27/27 [==============================] - 1s 55ms/step - loss: 0.1618 - accuracy: 0.9929 - val_loss: 0.3090 - val_accuracy: 0.8815\n",
            "Epoch 14/50\n",
            "27/27 [==============================] - 1s 55ms/step - loss: 0.1407 - accuracy: 0.9953 - val_loss: 0.2989 - val_accuracy: 0.8815\n",
            "Epoch 15/50\n",
            "27/27 [==============================] - 1s 55ms/step - loss: 0.1218 - accuracy: 0.9929 - val_loss: 0.2901 - val_accuracy: 0.8815\n",
            "Epoch 16/50\n",
            "27/27 [==============================] - 2s 56ms/step - loss: 0.1168 - accuracy: 0.9929 - val_loss: 0.2838 - val_accuracy: 0.8815\n",
            "Epoch 17/50\n",
            "27/27 [==============================] - 2s 56ms/step - loss: 0.1081 - accuracy: 0.9941 - val_loss: 0.2783 - val_accuracy: 0.8815\n",
            "Epoch 18/50\n",
            "27/27 [==============================] - 2s 56ms/step - loss: 0.0934 - accuracy: 0.9929 - val_loss: 0.2737 - val_accuracy: 0.8863\n",
            "Epoch 19/50\n",
            "27/27 [==============================] - 2s 56ms/step - loss: 0.0901 - accuracy: 0.9953 - val_loss: 0.2702 - val_accuracy: 0.8863\n",
            "Epoch 20/50\n",
            "27/27 [==============================] - 1s 54ms/step - loss: 0.0784 - accuracy: 0.9953 - val_loss: 0.2672 - val_accuracy: 0.8863\n",
            "Epoch 21/50\n",
            "27/27 [==============================] - 1s 55ms/step - loss: 0.0763 - accuracy: 0.9953 - val_loss: 0.2651 - val_accuracy: 0.8863\n",
            "Epoch 22/50\n",
            "27/27 [==============================] - 1s 52ms/step - loss: 0.0686 - accuracy: 0.9964 - val_loss: 0.2633 - val_accuracy: 0.8863\n",
            "Epoch 23/50\n",
            "27/27 [==============================] - 2s 56ms/step - loss: 0.0623 - accuracy: 0.9964 - val_loss: 0.2612 - val_accuracy: 0.8910\n",
            "Epoch 24/50\n",
            "27/27 [==============================] - 1s 54ms/step - loss: 0.0614 - accuracy: 0.9953 - val_loss: 0.2599 - val_accuracy: 0.8910\n",
            "Epoch 25/50\n",
            "27/27 [==============================] - 1s 55ms/step - loss: 0.0537 - accuracy: 0.9976 - val_loss: 0.2586 - val_accuracy: 0.8910\n",
            "Epoch 26/50\n",
            "27/27 [==============================] - 2s 56ms/step - loss: 0.0533 - accuracy: 0.9988 - val_loss: 0.2577 - val_accuracy: 0.8910\n",
            "Epoch 27/50\n",
            "27/27 [==============================] - 1s 55ms/step - loss: 0.0489 - accuracy: 0.9988 - val_loss: 0.2575 - val_accuracy: 0.8957\n",
            "Epoch 28/50\n",
            "27/27 [==============================] - 1s 55ms/step - loss: 0.0481 - accuracy: 0.9976 - val_loss: 0.2581 - val_accuracy: 0.8910\n",
            "Epoch 29/50\n",
            "27/27 [==============================] - 1s 55ms/step - loss: 0.0403 - accuracy: 0.9988 - val_loss: 0.2582 - val_accuracy: 0.8910\n",
            "Epoch 30/50\n",
            "27/27 [==============================] - 1s 56ms/step - loss: 0.0408 - accuracy: 1.0000 - val_loss: 0.2575 - val_accuracy: 0.8957\n",
            "Epoch 31/50\n",
            "27/27 [==============================] - 1s 55ms/step - loss: 0.0376 - accuracy: 0.9976 - val_loss: 0.2576 - val_accuracy: 0.8910\n",
            "Epoch 32/50\n",
            "27/27 [==============================] - 1s 55ms/step - loss: 0.0360 - accuracy: 0.9976 - val_loss: 0.2578 - val_accuracy: 0.8910\n",
            "Epoch 33/50\n",
            "27/27 [==============================] - 2s 57ms/step - loss: 0.0342 - accuracy: 0.9988 - val_loss: 0.2583 - val_accuracy: 0.8910\n",
            "Epoch 34/50\n",
            "27/27 [==============================] - 1s 55ms/step - loss: 0.0301 - accuracy: 0.9988 - val_loss: 0.2587 - val_accuracy: 0.8957\n",
            "Epoch 35/50\n",
            "27/27 [==============================] - 2s 59ms/step - loss: 0.0288 - accuracy: 0.9988 - val_loss: 0.2588 - val_accuracy: 0.8957\n",
            "Epoch 36/50\n",
            "27/27 [==============================] - 2s 60ms/step - loss: 0.0264 - accuracy: 0.9988 - val_loss: 0.2587 - val_accuracy: 0.8957\n",
            "Epoch 37/50\n",
            "27/27 [==============================] - 2s 63ms/step - loss: 0.0256 - accuracy: 0.9988 - val_loss: 0.2587 - val_accuracy: 0.8957\n"
          ],
          "name": "stdout"
        },
        {
          "output_type": "display_data",
          "data": {
            "text/html": [
              "<span style=\"color:#4527A0\"><h1 style=\"font-size:18px\">Trial complete</h1></span>"
            ],
            "text/plain": [
              "<IPython.core.display.HTML object>"
            ]
          },
          "metadata": {
            "tags": []
          }
        },
        {
          "output_type": "display_data",
          "data": {
            "text/html": [
              "<span style=\"color:#4527A0\"><h1 style=\"font-size:18px\">Trial summary</h1></span>"
            ],
            "text/plain": [
              "<IPython.core.display.HTML object>"
            ]
          },
          "metadata": {
            "tags": []
          }
        },
        {
          "output_type": "display_data",
          "data": {
            "text/html": [
              "<span style=\"color:#7E57C2\"><h2 style=\"font-size:16px\">Hp values:</h2></span>"
            ],
            "text/plain": [
              "<IPython.core.display.HTML object>"
            ]
          },
          "metadata": {
            "tags": []
          }
        },
        {
          "output_type": "display_data",
          "data": {
            "text/html": [
              "<span style=\"color:cyan\"> |-dense_block_1/dropout_rate: 0.25</span>"
            ],
            "text/plain": [
              "<IPython.core.display.HTML object>"
            ]
          },
          "metadata": {
            "tags": []
          }
        },
        {
          "output_type": "display_data",
          "data": {
            "text/html": [
              "<span style=\"color:blue\"> |-dense_block_1/num_layers: 1</span>"
            ],
            "text/plain": [
              "<IPython.core.display.HTML object>"
            ]
          },
          "metadata": {
            "tags": []
          }
        },
        {
          "output_type": "display_data",
          "data": {
            "text/html": [
              "<span style=\"color:cyan\"> |-dense_block_1/units_0: 16</span>"
            ],
            "text/plain": [
              "<IPython.core.display.HTML object>"
            ]
          },
          "metadata": {
            "tags": []
          }
        },
        {
          "output_type": "display_data",
          "data": {
            "text/html": [
              "<span style=\"color:blue\"> |-dense_block_1/units_1: 256</span>"
            ],
            "text/plain": [
              "<IPython.core.display.HTML object>"
            ]
          },
          "metadata": {
            "tags": []
          }
        },
        {
          "output_type": "display_data",
          "data": {
            "text/html": [
              "<span style=\"color:cyan\"> |-dense_block_1/use_batchnorm: False</span>"
            ],
            "text/plain": [
              "<IPython.core.display.HTML object>"
            ]
          },
          "metadata": {
            "tags": []
          }
        },
        {
          "output_type": "display_data",
          "data": {
            "text/html": [
              "<span style=\"color:blue\"> |-optimizer: adam</span>"
            ],
            "text/plain": [
              "<IPython.core.display.HTML object>"
            ]
          },
          "metadata": {
            "tags": []
          }
        },
        {
          "output_type": "display_data",
          "data": {
            "text/html": [
              "<span style=\"color:cyan\"> |-Score: 0.25745379499026705</span>"
            ],
            "text/plain": [
              "<IPython.core.display.HTML object>"
            ]
          },
          "metadata": {
            "tags": []
          }
        },
        {
          "output_type": "display_data",
          "data": {
            "text/html": [
              "<span style=\"color:cyan\"> |-Best step: 0</span>"
            ],
            "text/plain": [
              "<IPython.core.display.HTML object>"
            ]
          },
          "metadata": {
            "tags": []
          }
        },
        {
          "output_type": "stream",
          "text": [
            "Epoch 1/50\n",
            "27/27 [==============================] - 3s 104ms/step - loss: 0.4076 - accuracy: 0.7964 - val_loss: 0.0000e+00 - val_accuracy: 0.0000e+00\n",
            "Epoch 2/50\n",
            "27/27 [==============================] - 2s 68ms/step - loss: 0.0573 - accuracy: 0.9893 - val_loss: 0.6029 - val_accuracy: 0.8294\n",
            "Epoch 3/50\n",
            "27/27 [==============================] - 2s 69ms/step - loss: 0.0202 - accuracy: 0.9988 - val_loss: 0.5807 - val_accuracy: 0.8483\n",
            "Epoch 4/50\n",
            "27/27 [==============================] - 2s 70ms/step - loss: 0.0101 - accuracy: 1.0000 - val_loss: 0.5597 - val_accuracy: 0.8436\n",
            "Epoch 5/50\n",
            "27/27 [==============================] - 2s 69ms/step - loss: 0.0068 - accuracy: 1.0000 - val_loss: 0.5375 - val_accuracy: 0.8578\n",
            "Epoch 6/50\n",
            "27/27 [==============================] - 2s 68ms/step - loss: 0.0044 - accuracy: 1.0000 - val_loss: 0.5142 - val_accuracy: 0.8720\n",
            "Epoch 7/50\n",
            "27/27 [==============================] - 2s 69ms/step - loss: 0.0033 - accuracy: 1.0000 - val_loss: 0.4903 - val_accuracy: 0.8815\n",
            "Epoch 8/50\n",
            "27/27 [==============================] - 2s 70ms/step - loss: 0.0028 - accuracy: 1.0000 - val_loss: 0.4655 - val_accuracy: 0.8910\n",
            "Epoch 9/50\n",
            "27/27 [==============================] - 2s 70ms/step - loss: 0.0020 - accuracy: 1.0000 - val_loss: 0.4402 - val_accuracy: 0.8910\n",
            "Epoch 10/50\n",
            "27/27 [==============================] - 2s 68ms/step - loss: 0.0017 - accuracy: 1.0000 - val_loss: 0.4147 - val_accuracy: 0.8957\n",
            "Epoch 11/50\n",
            "27/27 [==============================] - 2s 71ms/step - loss: 0.0016 - accuracy: 1.0000 - val_loss: 0.3891 - val_accuracy: 0.8910\n",
            "Epoch 12/50\n",
            "27/27 [==============================] - 2s 71ms/step - loss: 0.0013 - accuracy: 1.0000 - val_loss: 0.3650 - val_accuracy: 0.8863\n",
            "Epoch 13/50\n",
            "27/27 [==============================] - 2s 69ms/step - loss: 0.0011 - accuracy: 1.0000 - val_loss: 0.3426 - val_accuracy: 0.8863\n",
            "Epoch 14/50\n",
            "27/27 [==============================] - 2s 70ms/step - loss: 0.0010 - accuracy: 1.0000 - val_loss: 0.3227 - val_accuracy: 0.8815\n",
            "Epoch 15/50\n",
            "27/27 [==============================] - 2s 70ms/step - loss: 9.9559e-04 - accuracy: 1.0000 - val_loss: 0.3059 - val_accuracy: 0.8815\n",
            "Epoch 16/50\n",
            "27/27 [==============================] - 2s 68ms/step - loss: 7.7764e-04 - accuracy: 1.0000 - val_loss: 0.2925 - val_accuracy: 0.8768\n",
            "Epoch 17/50\n",
            "27/27 [==============================] - 2s 67ms/step - loss: 6.4874e-04 - accuracy: 1.0000 - val_loss: 0.2829 - val_accuracy: 0.8768\n",
            "Epoch 18/50\n",
            "27/27 [==============================] - 2s 71ms/step - loss: 5.8171e-04 - accuracy: 1.0000 - val_loss: 0.2771 - val_accuracy: 0.8768\n",
            "Epoch 19/50\n",
            "27/27 [==============================] - 2s 71ms/step - loss: 5.6592e-04 - accuracy: 1.0000 - val_loss: 0.2747 - val_accuracy: 0.8720\n",
            "Epoch 20/50\n",
            "27/27 [==============================] - 2s 68ms/step - loss: 5.8216e-04 - accuracy: 1.0000 - val_loss: 0.2753 - val_accuracy: 0.8720\n",
            "Epoch 21/50\n",
            "27/27 [==============================] - 2s 68ms/step - loss: 4.9853e-04 - accuracy: 1.0000 - val_loss: 0.2785 - val_accuracy: 0.8720\n",
            "Epoch 22/50\n",
            "27/27 [==============================] - 2s 67ms/step - loss: 4.6294e-04 - accuracy: 1.0000 - val_loss: 0.2840 - val_accuracy: 0.8720\n",
            "Epoch 23/50\n",
            "27/27 [==============================] - 2s 67ms/step - loss: 4.4644e-04 - accuracy: 1.0000 - val_loss: 0.2905 - val_accuracy: 0.8720\n",
            "Epoch 24/50\n",
            "27/27 [==============================] - 2s 68ms/step - loss: 3.8568e-04 - accuracy: 1.0000 - val_loss: 0.2972 - val_accuracy: 0.8720\n",
            "Epoch 25/50\n",
            "27/27 [==============================] - 2s 65ms/step - loss: 3.3833e-04 - accuracy: 1.0000 - val_loss: 0.3043 - val_accuracy: 0.8720\n",
            "Epoch 26/50\n",
            "27/27 [==============================] - 2s 68ms/step - loss: 3.9622e-04 - accuracy: 1.0000 - val_loss: 0.3111 - val_accuracy: 0.8768\n",
            "Epoch 27/50\n",
            "27/27 [==============================] - 2s 68ms/step - loss: 3.1584e-04 - accuracy: 1.0000 - val_loss: 0.3176 - val_accuracy: 0.8768\n",
            "Epoch 28/50\n",
            "27/27 [==============================] - 2s 71ms/step - loss: 3.1407e-04 - accuracy: 1.0000 - val_loss: 0.3236 - val_accuracy: 0.8768\n",
            "Epoch 29/50\n",
            "27/27 [==============================] - 2s 74ms/step - loss: 3.0642e-04 - accuracy: 1.0000 - val_loss: 0.3289 - val_accuracy: 0.8768\n"
          ],
          "name": "stdout"
        },
        {
          "output_type": "display_data",
          "data": {
            "text/html": [
              "<span style=\"color:#4527A0\"><h1 style=\"font-size:18px\">Trial complete</h1></span>"
            ],
            "text/plain": [
              "<IPython.core.display.HTML object>"
            ]
          },
          "metadata": {
            "tags": []
          }
        },
        {
          "output_type": "display_data",
          "data": {
            "text/html": [
              "<span style=\"color:#4527A0\"><h1 style=\"font-size:18px\">Trial summary</h1></span>"
            ],
            "text/plain": [
              "<IPython.core.display.HTML object>"
            ]
          },
          "metadata": {
            "tags": []
          }
        },
        {
          "output_type": "display_data",
          "data": {
            "text/html": [
              "<span style=\"color:#7E57C2\"><h2 style=\"font-size:16px\">Hp values:</h2></span>"
            ],
            "text/plain": [
              "<IPython.core.display.HTML object>"
            ]
          },
          "metadata": {
            "tags": []
          }
        },
        {
          "output_type": "display_data",
          "data": {
            "text/html": [
              "<span style=\"color:cyan\"> |-dense_block_1/dropout_rate: 0.5</span>"
            ],
            "text/plain": [
              "<IPython.core.display.HTML object>"
            ]
          },
          "metadata": {
            "tags": []
          }
        },
        {
          "output_type": "display_data",
          "data": {
            "text/html": [
              "<span style=\"color:blue\"> |-dense_block_1/num_layers: 1</span>"
            ],
            "text/plain": [
              "<IPython.core.display.HTML object>"
            ]
          },
          "metadata": {
            "tags": []
          }
        },
        {
          "output_type": "display_data",
          "data": {
            "text/html": [
              "<span style=\"color:cyan\"> |-dense_block_1/units_0: 512</span>"
            ],
            "text/plain": [
              "<IPython.core.display.HTML object>"
            ]
          },
          "metadata": {
            "tags": []
          }
        },
        {
          "output_type": "display_data",
          "data": {
            "text/html": [
              "<span style=\"color:blue\"> |-dense_block_1/units_1: 512</span>"
            ],
            "text/plain": [
              "<IPython.core.display.HTML object>"
            ]
          },
          "metadata": {
            "tags": []
          }
        },
        {
          "output_type": "display_data",
          "data": {
            "text/html": [
              "<span style=\"color:cyan\"> |-dense_block_1/use_batchnorm: True</span>"
            ],
            "text/plain": [
              "<IPython.core.display.HTML object>"
            ]
          },
          "metadata": {
            "tags": []
          }
        },
        {
          "output_type": "display_data",
          "data": {
            "text/html": [
              "<span style=\"color:blue\"> |-optimizer: adam</span>"
            ],
            "text/plain": [
              "<IPython.core.display.HTML object>"
            ]
          },
          "metadata": {
            "tags": []
          }
        },
        {
          "output_type": "display_data",
          "data": {
            "text/html": [
              "<span style=\"color:cyan\"> |-Score: 0.27473547203200205</span>"
            ],
            "text/plain": [
              "<IPython.core.display.HTML object>"
            ]
          },
          "metadata": {
            "tags": []
          }
        },
        {
          "output_type": "display_data",
          "data": {
            "text/html": [
              "<span style=\"color:cyan\"> |-Best step: 0</span>"
            ],
            "text/plain": [
              "<IPython.core.display.HTML object>"
            ]
          },
          "metadata": {
            "tags": []
          }
        },
        {
          "output_type": "stream",
          "text": [
            "Epoch 1/50\n",
            "27/27 [==============================] - 3s 106ms/step - loss: 0.3741 - accuracy: 0.8095 - val_loss: 0.0000e+00 - val_accuracy: 0.0000e+00\n",
            "Epoch 2/50\n",
            "27/27 [==============================] - 2s 72ms/step - loss: 0.0292 - accuracy: 0.9953 - val_loss: 0.5959 - val_accuracy: 0.7820\n",
            "Epoch 3/50\n",
            "27/27 [==============================] - 2s 70ms/step - loss: 0.0098 - accuracy: 0.9988 - val_loss: 0.5766 - val_accuracy: 0.7915\n",
            "Epoch 4/50\n",
            "27/27 [==============================] - 2s 70ms/step - loss: 0.0061 - accuracy: 1.0000 - val_loss: 0.5569 - val_accuracy: 0.7962\n",
            "Epoch 5/50\n",
            "27/27 [==============================] - 2s 70ms/step - loss: 0.0041 - accuracy: 1.0000 - val_loss: 0.5357 - val_accuracy: 0.8341\n",
            "Epoch 6/50\n",
            "27/27 [==============================] - 2s 70ms/step - loss: 0.0031 - accuracy: 1.0000 - val_loss: 0.5133 - val_accuracy: 0.8389\n",
            "Epoch 7/50\n",
            "27/27 [==============================] - 2s 69ms/step - loss: 0.0024 - accuracy: 1.0000 - val_loss: 0.4895 - val_accuracy: 0.8626\n",
            "Epoch 8/50\n",
            "27/27 [==============================] - 2s 68ms/step - loss: 0.0020 - accuracy: 1.0000 - val_loss: 0.4650 - val_accuracy: 0.8720\n",
            "Epoch 9/50\n",
            "27/27 [==============================] - 2s 68ms/step - loss: 0.0016 - accuracy: 1.0000 - val_loss: 0.4401 - val_accuracy: 0.8815\n",
            "Epoch 10/50\n",
            "27/27 [==============================] - 2s 69ms/step - loss: 0.0013 - accuracy: 1.0000 - val_loss: 0.4152 - val_accuracy: 0.8910\n",
            "Epoch 11/50\n",
            "27/27 [==============================] - 2s 67ms/step - loss: 0.0012 - accuracy: 1.0000 - val_loss: 0.3904 - val_accuracy: 0.8910\n",
            "Epoch 12/50\n",
            "27/27 [==============================] - 2s 67ms/step - loss: 0.0010 - accuracy: 1.0000 - val_loss: 0.3667 - val_accuracy: 0.8910\n",
            "Epoch 13/50\n",
            "27/27 [==============================] - 2s 68ms/step - loss: 8.7201e-04 - accuracy: 1.0000 - val_loss: 0.3448 - val_accuracy: 0.8957\n",
            "Epoch 14/50\n",
            "27/27 [==============================] - 2s 70ms/step - loss: 7.7744e-04 - accuracy: 1.0000 - val_loss: 0.3253 - val_accuracy: 0.8815\n",
            "Epoch 15/50\n",
            "27/27 [==============================] - 2s 68ms/step - loss: 7.0552e-04 - accuracy: 1.0000 - val_loss: 0.3091 - val_accuracy: 0.8815\n",
            "Epoch 16/50\n",
            "27/27 [==============================] - 2s 68ms/step - loss: 6.0245e-04 - accuracy: 1.0000 - val_loss: 0.2962 - val_accuracy: 0.8863\n",
            "Epoch 17/50\n",
            "27/27 [==============================] - 2s 68ms/step - loss: 5.6105e-04 - accuracy: 1.0000 - val_loss: 0.2867 - val_accuracy: 0.8863\n",
            "Epoch 18/50\n",
            "27/27 [==============================] - 2s 69ms/step - loss: 4.9849e-04 - accuracy: 1.0000 - val_loss: 0.2810 - val_accuracy: 0.8910\n",
            "Epoch 19/50\n",
            "27/27 [==============================] - 2s 71ms/step - loss: 4.8283e-04 - accuracy: 1.0000 - val_loss: 0.2788 - val_accuracy: 0.8910\n",
            "Epoch 20/50\n",
            "27/27 [==============================] - 2s 68ms/step - loss: 4.1767e-04 - accuracy: 1.0000 - val_loss: 0.2794 - val_accuracy: 0.8910\n",
            "Epoch 21/50\n",
            "27/27 [==============================] - 2s 71ms/step - loss: 3.7737e-04 - accuracy: 1.0000 - val_loss: 0.2827 - val_accuracy: 0.8957\n",
            "Epoch 22/50\n",
            "27/27 [==============================] - 2s 69ms/step - loss: 3.5467e-04 - accuracy: 1.0000 - val_loss: 0.2878 - val_accuracy: 0.8957\n",
            "Epoch 23/50\n",
            "27/27 [==============================] - 2s 68ms/step - loss: 3.4826e-04 - accuracy: 1.0000 - val_loss: 0.2940 - val_accuracy: 0.9005\n",
            "Epoch 24/50\n",
            "27/27 [==============================] - 2s 69ms/step - loss: 2.9570e-04 - accuracy: 1.0000 - val_loss: 0.3012 - val_accuracy: 0.8957\n",
            "Epoch 25/50\n",
            "27/27 [==============================] - 2s 68ms/step - loss: 2.9028e-04 - accuracy: 1.0000 - val_loss: 0.3085 - val_accuracy: 0.8957\n",
            "Epoch 26/50\n",
            "27/27 [==============================] - 2s 66ms/step - loss: 2.7700e-04 - accuracy: 1.0000 - val_loss: 0.3158 - val_accuracy: 0.8957\n",
            "Epoch 27/50\n",
            "27/27 [==============================] - 2s 66ms/step - loss: 2.5070e-04 - accuracy: 1.0000 - val_loss: 0.3227 - val_accuracy: 0.8957\n",
            "Epoch 28/50\n",
            "27/27 [==============================] - 2s 69ms/step - loss: 2.3124e-04 - accuracy: 1.0000 - val_loss: 0.3287 - val_accuracy: 0.8910\n",
            "Epoch 29/50\n",
            "27/27 [==============================] - 2s 66ms/step - loss: 2.1486e-04 - accuracy: 1.0000 - val_loss: 0.3348 - val_accuracy: 0.8910\n"
          ],
          "name": "stdout"
        },
        {
          "output_type": "display_data",
          "data": {
            "text/html": [
              "<span style=\"color:#4527A0\"><h1 style=\"font-size:18px\">Trial complete</h1></span>"
            ],
            "text/plain": [
              "<IPython.core.display.HTML object>"
            ]
          },
          "metadata": {
            "tags": []
          }
        },
        {
          "output_type": "display_data",
          "data": {
            "text/html": [
              "<span style=\"color:#4527A0\"><h1 style=\"font-size:18px\">Trial summary</h1></span>"
            ],
            "text/plain": [
              "<IPython.core.display.HTML object>"
            ]
          },
          "metadata": {
            "tags": []
          }
        },
        {
          "output_type": "display_data",
          "data": {
            "text/html": [
              "<span style=\"color:#7E57C2\"><h2 style=\"font-size:16px\">Hp values:</h2></span>"
            ],
            "text/plain": [
              "<IPython.core.display.HTML object>"
            ]
          },
          "metadata": {
            "tags": []
          }
        },
        {
          "output_type": "display_data",
          "data": {
            "text/html": [
              "<span style=\"color:cyan\"> |-dense_block_1/dropout_rate: 0.25</span>"
            ],
            "text/plain": [
              "<IPython.core.display.HTML object>"
            ]
          },
          "metadata": {
            "tags": []
          }
        },
        {
          "output_type": "display_data",
          "data": {
            "text/html": [
              "<span style=\"color:blue\"> |-dense_block_1/num_layers: 1</span>"
            ],
            "text/plain": [
              "<IPython.core.display.HTML object>"
            ]
          },
          "metadata": {
            "tags": []
          }
        },
        {
          "output_type": "display_data",
          "data": {
            "text/html": [
              "<span style=\"color:cyan\"> |-dense_block_1/units_0: 512</span>"
            ],
            "text/plain": [
              "<IPython.core.display.HTML object>"
            ]
          },
          "metadata": {
            "tags": []
          }
        },
        {
          "output_type": "display_data",
          "data": {
            "text/html": [
              "<span style=\"color:blue\"> |-dense_block_1/units_1: 256</span>"
            ],
            "text/plain": [
              "<IPython.core.display.HTML object>"
            ]
          },
          "metadata": {
            "tags": []
          }
        },
        {
          "output_type": "display_data",
          "data": {
            "text/html": [
              "<span style=\"color:cyan\"> |-dense_block_1/use_batchnorm: True</span>"
            ],
            "text/plain": [
              "<IPython.core.display.HTML object>"
            ]
          },
          "metadata": {
            "tags": []
          }
        },
        {
          "output_type": "display_data",
          "data": {
            "text/html": [
              "<span style=\"color:blue\"> |-optimizer: adam</span>"
            ],
            "text/plain": [
              "<IPython.core.display.HTML object>"
            ]
          },
          "metadata": {
            "tags": []
          }
        },
        {
          "output_type": "display_data",
          "data": {
            "text/html": [
              "<span style=\"color:cyan\"> |-Score: 0.27879556374890463</span>"
            ],
            "text/plain": [
              "<IPython.core.display.HTML object>"
            ]
          },
          "metadata": {
            "tags": []
          }
        },
        {
          "output_type": "display_data",
          "data": {
            "text/html": [
              "<span style=\"color:cyan\"> |-Best step: 0</span>"
            ],
            "text/plain": [
              "<IPython.core.display.HTML object>"
            ]
          },
          "metadata": {
            "tags": []
          }
        },
        {
          "output_type": "stream",
          "text": [
            "Epoch 1/50\n",
            "27/27 [==============================] - 3s 110ms/step - loss: 0.6469 - accuracy: 0.6284 - val_loss: 0.0000e+00 - val_accuracy: 0.0000e+00\n",
            "Epoch 2/50\n",
            "27/27 [==============================] - 2s 60ms/step - loss: 0.3261 - accuracy: 0.9337 - val_loss: 0.6770 - val_accuracy: 0.5403\n",
            "Epoch 3/50\n",
            "27/27 [==============================] - 2s 58ms/step - loss: 0.2025 - accuracy: 0.9751 - val_loss: 0.6640 - val_accuracy: 0.5403\n",
            "Epoch 4/50\n",
            "27/27 [==============================] - 2s 58ms/step - loss: 0.1282 - accuracy: 0.9929 - val_loss: 0.6482 - val_accuracy: 0.5829\n",
            "Epoch 5/50\n",
            "27/27 [==============================] - 1s 55ms/step - loss: 0.0853 - accuracy: 0.9988 - val_loss: 0.6297 - val_accuracy: 0.6825\n",
            "Epoch 6/50\n",
            "27/27 [==============================] - 2s 58ms/step - loss: 0.0603 - accuracy: 0.9988 - val_loss: 0.6087 - val_accuracy: 0.7251\n",
            "Epoch 7/50\n",
            "27/27 [==============================] - 2s 60ms/step - loss: 0.0442 - accuracy: 0.9988 - val_loss: 0.5853 - val_accuracy: 0.7630\n",
            "Epoch 8/50\n",
            "27/27 [==============================] - 2s 59ms/step - loss: 0.0337 - accuracy: 1.0000 - val_loss: 0.5598 - val_accuracy: 0.8009\n",
            "Epoch 9/50\n",
            "27/27 [==============================] - 1s 54ms/step - loss: 0.0261 - accuracy: 1.0000 - val_loss: 0.5326 - val_accuracy: 0.7962\n",
            "Epoch 10/50\n",
            "27/27 [==============================] - 2s 58ms/step - loss: 0.0211 - accuracy: 1.0000 - val_loss: 0.5040 - val_accuracy: 0.8246\n",
            "Epoch 11/50\n",
            "27/27 [==============================] - 2s 57ms/step - loss: 0.0172 - accuracy: 1.0000 - val_loss: 0.4756 - val_accuracy: 0.8294\n",
            "Epoch 12/50\n",
            "27/27 [==============================] - 2s 57ms/step - loss: 0.0144 - accuracy: 1.0000 - val_loss: 0.4478 - val_accuracy: 0.8436\n",
            "Epoch 13/50\n",
            "27/27 [==============================] - 2s 56ms/step - loss: 0.0122 - accuracy: 1.0000 - val_loss: 0.4216 - val_accuracy: 0.8389\n",
            "Epoch 14/50\n",
            "27/27 [==============================] - 2s 57ms/step - loss: 0.0105 - accuracy: 1.0000 - val_loss: 0.3974 - val_accuracy: 0.8389\n",
            "Epoch 15/50\n",
            "27/27 [==============================] - 2s 58ms/step - loss: 0.0092 - accuracy: 1.0000 - val_loss: 0.3763 - val_accuracy: 0.8436\n",
            "Epoch 16/50\n",
            "27/27 [==============================] - 2s 57ms/step - loss: 0.0080 - accuracy: 1.0000 - val_loss: 0.3592 - val_accuracy: 0.8720\n",
            "Epoch 17/50\n",
            "27/27 [==============================] - 2s 58ms/step - loss: 0.0071 - accuracy: 1.0000 - val_loss: 0.3464 - val_accuracy: 0.8578\n",
            "Epoch 18/50\n",
            "27/27 [==============================] - 2s 58ms/step - loss: 0.0063 - accuracy: 1.0000 - val_loss: 0.3387 - val_accuracy: 0.8626\n",
            "Epoch 19/50\n",
            "27/27 [==============================] - 2s 58ms/step - loss: 0.0057 - accuracy: 1.0000 - val_loss: 0.3345 - val_accuracy: 0.8673\n",
            "Epoch 20/50\n",
            "27/27 [==============================] - 1s 55ms/step - loss: 0.0051 - accuracy: 1.0000 - val_loss: 0.3340 - val_accuracy: 0.8673\n",
            "Epoch 21/50\n",
            "27/27 [==============================] - 2s 56ms/step - loss: 0.0046 - accuracy: 1.0000 - val_loss: 0.3371 - val_accuracy: 0.8578\n",
            "Epoch 22/50\n",
            "27/27 [==============================] - 2s 57ms/step - loss: 0.0042 - accuracy: 1.0000 - val_loss: 0.3428 - val_accuracy: 0.8578\n",
            "Epoch 23/50\n",
            "27/27 [==============================] - 2s 59ms/step - loss: 0.0039 - accuracy: 1.0000 - val_loss: 0.3499 - val_accuracy: 0.8626\n",
            "Epoch 24/50\n",
            "27/27 [==============================] - 1s 55ms/step - loss: 0.0035 - accuracy: 1.0000 - val_loss: 0.3579 - val_accuracy: 0.8578\n",
            "Epoch 25/50\n",
            "27/27 [==============================] - 2s 56ms/step - loss: 0.0033 - accuracy: 1.0000 - val_loss: 0.3660 - val_accuracy: 0.8531\n",
            "Epoch 26/50\n",
            "27/27 [==============================] - 2s 56ms/step - loss: 0.0030 - accuracy: 1.0000 - val_loss: 0.3732 - val_accuracy: 0.8531\n",
            "Epoch 27/50\n",
            "27/27 [==============================] - 2s 57ms/step - loss: 0.0028 - accuracy: 1.0000 - val_loss: 0.3802 - val_accuracy: 0.8578\n",
            "Epoch 28/50\n",
            "27/27 [==============================] - 2s 57ms/step - loss: 0.0026 - accuracy: 1.0000 - val_loss: 0.3866 - val_accuracy: 0.8578\n",
            "Epoch 29/50\n",
            "27/27 [==============================] - 2s 59ms/step - loss: 0.0024 - accuracy: 1.0000 - val_loss: 0.3923 - val_accuracy: 0.8578\n",
            "Epoch 30/50\n",
            "27/27 [==============================] - 2s 58ms/step - loss: 0.0022 - accuracy: 1.0000 - val_loss: 0.3976 - val_accuracy: 0.8578\n"
          ],
          "name": "stdout"
        },
        {
          "output_type": "display_data",
          "data": {
            "text/html": [
              "<span style=\"color:#4527A0\"><h1 style=\"font-size:18px\">Trial complete</h1></span>"
            ],
            "text/plain": [
              "<IPython.core.display.HTML object>"
            ]
          },
          "metadata": {
            "tags": []
          }
        },
        {
          "output_type": "display_data",
          "data": {
            "text/html": [
              "<span style=\"color:#4527A0\"><h1 style=\"font-size:18px\">Trial summary</h1></span>"
            ],
            "text/plain": [
              "<IPython.core.display.HTML object>"
            ]
          },
          "metadata": {
            "tags": []
          }
        },
        {
          "output_type": "display_data",
          "data": {
            "text/html": [
              "<span style=\"color:#7E57C2\"><h2 style=\"font-size:16px\">Hp values:</h2></span>"
            ],
            "text/plain": [
              "<IPython.core.display.HTML object>"
            ]
          },
          "metadata": {
            "tags": []
          }
        },
        {
          "output_type": "display_data",
          "data": {
            "text/html": [
              "<span style=\"color:cyan\"> |-dense_block_1/dropout_rate: 0.0</span>"
            ],
            "text/plain": [
              "<IPython.core.display.HTML object>"
            ]
          },
          "metadata": {
            "tags": []
          }
        },
        {
          "output_type": "display_data",
          "data": {
            "text/html": [
              "<span style=\"color:blue\"> |-dense_block_1/num_layers: 2</span>"
            ],
            "text/plain": [
              "<IPython.core.display.HTML object>"
            ]
          },
          "metadata": {
            "tags": []
          }
        },
        {
          "output_type": "display_data",
          "data": {
            "text/html": [
              "<span style=\"color:cyan\"> |-dense_block_1/units_0: 16</span>"
            ],
            "text/plain": [
              "<IPython.core.display.HTML object>"
            ]
          },
          "metadata": {
            "tags": []
          }
        },
        {
          "output_type": "display_data",
          "data": {
            "text/html": [
              "<span style=\"color:blue\"> |-dense_block_1/units_1: 32</span>"
            ],
            "text/plain": [
              "<IPython.core.display.HTML object>"
            ]
          },
          "metadata": {
            "tags": []
          }
        },
        {
          "output_type": "display_data",
          "data": {
            "text/html": [
              "<span style=\"color:cyan\"> |-dense_block_1/use_batchnorm: True</span>"
            ],
            "text/plain": [
              "<IPython.core.display.HTML object>"
            ]
          },
          "metadata": {
            "tags": []
          }
        },
        {
          "output_type": "display_data",
          "data": {
            "text/html": [
              "<span style=\"color:blue\"> |-optimizer: adam</span>"
            ],
            "text/plain": [
              "<IPython.core.display.HTML object>"
            ]
          },
          "metadata": {
            "tags": []
          }
        },
        {
          "output_type": "display_data",
          "data": {
            "text/html": [
              "<span style=\"color:cyan\"> |-Score: 0.3339805943625314</span>"
            ],
            "text/plain": [
              "<IPython.core.display.HTML object>"
            ]
          },
          "metadata": {
            "tags": []
          }
        },
        {
          "output_type": "display_data",
          "data": {
            "text/html": [
              "<span style=\"color:cyan\"> |-Best step: 0</span>"
            ],
            "text/plain": [
              "<IPython.core.display.HTML object>"
            ]
          },
          "metadata": {
            "tags": []
          }
        },
        {
          "output_type": "stream",
          "text": [
            "Epoch 1/50\n",
            "27/27 [==============================] - 2s 78ms/step - loss: 0.6916 - accuracy: 0.5538 - val_loss: 0.0000e+00 - val_accuracy: 0.0000e+00\n",
            "Epoch 2/50\n",
            "27/27 [==============================] - 2s 58ms/step - loss: 0.6915 - accuracy: 0.5586 - val_loss: 0.6928 - val_accuracy: 0.5024\n",
            "Epoch 3/50\n",
            "27/27 [==============================] - 1s 55ms/step - loss: 0.6919 - accuracy: 0.5373 - val_loss: 0.6928 - val_accuracy: 0.4976\n",
            "Epoch 4/50\n",
            "27/27 [==============================] - 1s 53ms/step - loss: 0.6917 - accuracy: 0.5787 - val_loss: 0.6927 - val_accuracy: 0.4976\n",
            "Epoch 5/50\n",
            "27/27 [==============================] - 2s 57ms/step - loss: 0.6917 - accuracy: 0.5574 - val_loss: 0.6927 - val_accuracy: 0.4976\n",
            "Epoch 6/50\n",
            "27/27 [==============================] - 2s 59ms/step - loss: 0.6918 - accuracy: 0.5728 - val_loss: 0.6927 - val_accuracy: 0.5024\n",
            "Epoch 7/50\n",
            "27/27 [==============================] - 2s 59ms/step - loss: 0.6917 - accuracy: 0.5479 - val_loss: 0.6927 - val_accuracy: 0.5118\n",
            "Epoch 8/50\n",
            "27/27 [==============================] - 1s 54ms/step - loss: 0.6914 - accuracy: 0.5479 - val_loss: 0.6927 - val_accuracy: 0.5071\n",
            "Epoch 9/50\n",
            "27/27 [==============================] - 2s 57ms/step - loss: 0.6915 - accuracy: 0.5751 - val_loss: 0.6927 - val_accuracy: 0.5118\n",
            "Epoch 10/50\n",
            "27/27 [==============================] - 2s 56ms/step - loss: 0.6919 - accuracy: 0.5325 - val_loss: 0.6927 - val_accuracy: 0.5213\n",
            "Epoch 11/50\n",
            "27/27 [==============================] - 2s 60ms/step - loss: 0.6916 - accuracy: 0.5491 - val_loss: 0.6927 - val_accuracy: 0.5166\n",
            "Epoch 12/50\n",
            "27/27 [==============================] - 1s 55ms/step - loss: 0.6916 - accuracy: 0.5716 - val_loss: 0.6927 - val_accuracy: 0.5118\n",
            "Epoch 13/50\n",
            "27/27 [==============================] - 2s 57ms/step - loss: 0.6912 - accuracy: 0.5657 - val_loss: 0.6927 - val_accuracy: 0.5118\n",
            "Epoch 14/50\n",
            "27/27 [==============================] - 1s 54ms/step - loss: 0.6909 - accuracy: 0.5763 - val_loss: 0.6926 - val_accuracy: 0.5118\n",
            "Epoch 15/50\n",
            "27/27 [==============================] - 2s 58ms/step - loss: 0.6918 - accuracy: 0.5302 - val_loss: 0.6926 - val_accuracy: 0.5118\n",
            "Epoch 16/50\n",
            "27/27 [==============================] - 2s 56ms/step - loss: 0.6913 - accuracy: 0.5657 - val_loss: 0.6926 - val_accuracy: 0.5118\n",
            "Epoch 17/50\n",
            "27/27 [==============================] - 2s 57ms/step - loss: 0.6913 - accuracy: 0.5680 - val_loss: 0.6926 - val_accuracy: 0.5118\n",
            "Epoch 18/50\n",
            "27/27 [==============================] - 1s 54ms/step - loss: 0.6912 - accuracy: 0.5680 - val_loss: 0.6926 - val_accuracy: 0.5118\n",
            "Epoch 19/50\n",
            "27/27 [==============================] - 1s 55ms/step - loss: 0.6914 - accuracy: 0.5586 - val_loss: 0.6926 - val_accuracy: 0.5118\n",
            "Epoch 20/50\n",
            "27/27 [==============================] - 1s 52ms/step - loss: 0.6915 - accuracy: 0.5669 - val_loss: 0.6926 - val_accuracy: 0.5166\n",
            "Epoch 21/50\n",
            "27/27 [==============================] - 1s 54ms/step - loss: 0.6918 - accuracy: 0.5385 - val_loss: 0.6926 - val_accuracy: 0.5118\n",
            "Epoch 22/50\n",
            "27/27 [==============================] - 1s 55ms/step - loss: 0.6912 - accuracy: 0.5858 - val_loss: 0.6926 - val_accuracy: 0.5118\n",
            "Epoch 23/50\n",
            "27/27 [==============================] - 2s 57ms/step - loss: 0.6915 - accuracy: 0.5586 - val_loss: 0.6926 - val_accuracy: 0.5118\n",
            "Epoch 24/50\n",
            "27/27 [==============================] - 2s 57ms/step - loss: 0.6914 - accuracy: 0.5799 - val_loss: 0.6925 - val_accuracy: 0.5118\n",
            "Epoch 25/50\n",
            "27/27 [==============================] - 2s 57ms/step - loss: 0.6911 - accuracy: 0.5811 - val_loss: 0.6925 - val_accuracy: 0.5118\n",
            "Epoch 26/50\n",
            "27/27 [==============================] - 1s 55ms/step - loss: 0.6911 - accuracy: 0.5799 - val_loss: 0.6925 - val_accuracy: 0.5118\n",
            "Epoch 27/50\n",
            "27/27 [==============================] - 2s 58ms/step - loss: 0.6913 - accuracy: 0.5763 - val_loss: 0.6925 - val_accuracy: 0.5118\n",
            "Epoch 28/50\n",
            "27/27 [==============================] - 2s 56ms/step - loss: 0.6909 - accuracy: 0.5846 - val_loss: 0.6925 - val_accuracy: 0.5166\n",
            "Epoch 29/50\n",
            "27/27 [==============================] - 2s 57ms/step - loss: 0.6909 - accuracy: 0.5775 - val_loss: 0.6925 - val_accuracy: 0.5166\n",
            "Epoch 30/50\n",
            "27/27 [==============================] - 2s 57ms/step - loss: 0.6908 - accuracy: 0.5716 - val_loss: 0.6925 - val_accuracy: 0.5213\n",
            "Epoch 31/50\n",
            "27/27 [==============================] - 1s 55ms/step - loss: 0.6911 - accuracy: 0.5882 - val_loss: 0.6925 - val_accuracy: 0.5213\n",
            "Epoch 32/50\n",
            "27/27 [==============================] - 1s 55ms/step - loss: 0.6913 - accuracy: 0.5479 - val_loss: 0.6925 - val_accuracy: 0.5213\n",
            "Epoch 33/50\n",
            "27/27 [==============================] - 1s 55ms/step - loss: 0.6907 - accuracy: 0.5882 - val_loss: 0.6925 - val_accuracy: 0.5261\n",
            "Epoch 34/50\n",
            "27/27 [==============================] - 1s 51ms/step - loss: 0.6911 - accuracy: 0.5716 - val_loss: 0.6924 - val_accuracy: 0.5308\n",
            "Epoch 35/50\n",
            "27/27 [==============================] - 2s 56ms/step - loss: 0.6914 - accuracy: 0.5680 - val_loss: 0.6924 - val_accuracy: 0.5213\n",
            "Epoch 36/50\n",
            "27/27 [==============================] - 2s 58ms/step - loss: 0.6906 - accuracy: 0.5929 - val_loss: 0.6924 - val_accuracy: 0.5213\n",
            "Epoch 37/50\n",
            "27/27 [==============================] - 2s 58ms/step - loss: 0.6911 - accuracy: 0.5680 - val_loss: 0.6924 - val_accuracy: 0.5213\n",
            "Epoch 38/50\n",
            "27/27 [==============================] - 2s 57ms/step - loss: 0.6909 - accuracy: 0.5858 - val_loss: 0.6924 - val_accuracy: 0.5213\n",
            "Epoch 39/50\n",
            "27/27 [==============================] - 1s 55ms/step - loss: 0.6912 - accuracy: 0.5811 - val_loss: 0.6924 - val_accuracy: 0.5213\n",
            "Epoch 40/50\n",
            "27/27 [==============================] - 1s 53ms/step - loss: 0.6911 - accuracy: 0.5633 - val_loss: 0.6924 - val_accuracy: 0.5213\n",
            "Epoch 41/50\n",
            "27/27 [==============================] - 1s 53ms/step - loss: 0.6908 - accuracy: 0.5917 - val_loss: 0.6924 - val_accuracy: 0.5261\n",
            "Epoch 42/50\n",
            "27/27 [==============================] - 2s 56ms/step - loss: 0.6909 - accuracy: 0.5751 - val_loss: 0.6924 - val_accuracy: 0.5261\n",
            "Epoch 43/50\n",
            "27/27 [==============================] - 2s 57ms/step - loss: 0.6908 - accuracy: 0.5822 - val_loss: 0.6924 - val_accuracy: 0.5261\n",
            "Epoch 44/50\n",
            "27/27 [==============================] - 1s 55ms/step - loss: 0.6913 - accuracy: 0.5657 - val_loss: 0.6923 - val_accuracy: 0.5213\n",
            "Epoch 45/50\n",
            "27/27 [==============================] - 1s 54ms/step - loss: 0.6908 - accuracy: 0.5905 - val_loss: 0.6923 - val_accuracy: 0.5213\n",
            "Epoch 46/50\n",
            "27/27 [==============================] - 2s 58ms/step - loss: 0.6906 - accuracy: 0.5953 - val_loss: 0.6923 - val_accuracy: 0.5261\n",
            "Epoch 47/50\n",
            "27/27 [==============================] - 1s 53ms/step - loss: 0.6906 - accuracy: 0.5846 - val_loss: 0.6923 - val_accuracy: 0.5261\n",
            "Epoch 48/50\n",
            "27/27 [==============================] - 1s 55ms/step - loss: 0.6909 - accuracy: 0.5822 - val_loss: 0.6923 - val_accuracy: 0.5261\n",
            "Epoch 49/50\n",
            "27/27 [==============================] - 1s 54ms/step - loss: 0.6909 - accuracy: 0.5609 - val_loss: 0.6923 - val_accuracy: 0.5261\n",
            "Epoch 50/50\n",
            "27/27 [==============================] - 1s 55ms/step - loss: 0.6907 - accuracy: 0.5870 - val_loss: 0.6923 - val_accuracy: 0.5261\n"
          ],
          "name": "stdout"
        },
        {
          "output_type": "display_data",
          "data": {
            "text/html": [
              "<span style=\"color:#4527A0\"><h1 style=\"font-size:18px\">Trial complete</h1></span>"
            ],
            "text/plain": [
              "<IPython.core.display.HTML object>"
            ]
          },
          "metadata": {
            "tags": []
          }
        },
        {
          "output_type": "display_data",
          "data": {
            "text/html": [
              "<span style=\"color:#4527A0\"><h1 style=\"font-size:18px\">Trial summary</h1></span>"
            ],
            "text/plain": [
              "<IPython.core.display.HTML object>"
            ]
          },
          "metadata": {
            "tags": []
          }
        },
        {
          "output_type": "display_data",
          "data": {
            "text/html": [
              "<span style=\"color:#7E57C2\"><h2 style=\"font-size:16px\">Hp values:</h2></span>"
            ],
            "text/plain": [
              "<IPython.core.display.HTML object>"
            ]
          },
          "metadata": {
            "tags": []
          }
        },
        {
          "output_type": "display_data",
          "data": {
            "text/html": [
              "<span style=\"color:cyan\"> |-dense_block_1/dropout_rate: 0.25</span>"
            ],
            "text/plain": [
              "<IPython.core.display.HTML object>"
            ]
          },
          "metadata": {
            "tags": []
          }
        },
        {
          "output_type": "display_data",
          "data": {
            "text/html": [
              "<span style=\"color:blue\"> |-dense_block_1/num_layers: 1</span>"
            ],
            "text/plain": [
              "<IPython.core.display.HTML object>"
            ]
          },
          "metadata": {
            "tags": []
          }
        },
        {
          "output_type": "display_data",
          "data": {
            "text/html": [
              "<span style=\"color:cyan\"> |-dense_block_1/units_0: 16</span>"
            ],
            "text/plain": [
              "<IPython.core.display.HTML object>"
            ]
          },
          "metadata": {
            "tags": []
          }
        },
        {
          "output_type": "display_data",
          "data": {
            "text/html": [
              "<span style=\"color:blue\"> |-dense_block_1/units_1: 256</span>"
            ],
            "text/plain": [
              "<IPython.core.display.HTML object>"
            ]
          },
          "metadata": {
            "tags": []
          }
        },
        {
          "output_type": "display_data",
          "data": {
            "text/html": [
              "<span style=\"color:cyan\"> |-dense_block_1/use_batchnorm: False</span>"
            ],
            "text/plain": [
              "<IPython.core.display.HTML object>"
            ]
          },
          "metadata": {
            "tags": []
          }
        },
        {
          "output_type": "display_data",
          "data": {
            "text/html": [
              "<span style=\"color:blue\"> |-optimizer: adadelta</span>"
            ],
            "text/plain": [
              "<IPython.core.display.HTML object>"
            ]
          },
          "metadata": {
            "tags": []
          }
        },
        {
          "output_type": "display_data",
          "data": {
            "text/html": [
              "<span style=\"color:cyan\"> |-Score: 0.6922808374677386</span>"
            ],
            "text/plain": [
              "<IPython.core.display.HTML object>"
            ]
          },
          "metadata": {
            "tags": []
          }
        },
        {
          "output_type": "display_data",
          "data": {
            "text/html": [
              "<span style=\"color:cyan\"> |-Best step: 0</span>"
            ],
            "text/plain": [
              "<IPython.core.display.HTML object>"
            ]
          },
          "metadata": {
            "tags": []
          }
        },
        {
          "output_type": "stream",
          "text": [
            "Epoch 1/50\n",
            "27/27 [==============================] - 3s 93ms/step - loss: 0.4655 - accuracy: 0.7740 - val_loss: 0.0000e+00 - val_accuracy: 0.0000e+00\n",
            "Epoch 2/50\n",
            "27/27 [==============================] - 2s 61ms/step - loss: 0.1021 - accuracy: 0.9905 - val_loss: 0.6208 - val_accuracy: 0.7441\n",
            "Epoch 3/50\n",
            "27/27 [==============================] - 2s 60ms/step - loss: 0.0452 - accuracy: 0.9988 - val_loss: 0.5960 - val_accuracy: 0.7867\n",
            "Epoch 4/50\n",
            "27/27 [==============================] - 2s 61ms/step - loss: 0.0261 - accuracy: 1.0000 - val_loss: 0.5721 - val_accuracy: 0.8199\n",
            "Epoch 5/50\n",
            "27/27 [==============================] - 2s 58ms/step - loss: 0.0164 - accuracy: 1.0000 - val_loss: 0.5478 - val_accuracy: 0.8341\n",
            "Epoch 6/50\n",
            "27/27 [==============================] - 2s 60ms/step - loss: 0.0116 - accuracy: 1.0000 - val_loss: 0.5224 - val_accuracy: 0.8389\n",
            "Epoch 7/50\n",
            "27/27 [==============================] - 2s 56ms/step - loss: 0.0088 - accuracy: 1.0000 - val_loss: 0.4962 - val_accuracy: 0.8578\n",
            "Epoch 8/50\n",
            "27/27 [==============================] - 2s 61ms/step - loss: 0.0064 - accuracy: 1.0000 - val_loss: 0.4699 - val_accuracy: 0.8626\n",
            "Epoch 9/50\n",
            "27/27 [==============================] - 2s 58ms/step - loss: 0.0057 - accuracy: 1.0000 - val_loss: 0.4424 - val_accuracy: 0.8673\n",
            "Epoch 10/50\n",
            "27/27 [==============================] - 2s 60ms/step - loss: 0.0046 - accuracy: 1.0000 - val_loss: 0.4151 - val_accuracy: 0.8768\n",
            "Epoch 11/50\n",
            "27/27 [==============================] - 2s 57ms/step - loss: 0.0037 - accuracy: 1.0000 - val_loss: 0.3886 - val_accuracy: 0.8863\n",
            "Epoch 12/50\n",
            "27/27 [==============================] - 2s 59ms/step - loss: 0.0031 - accuracy: 1.0000 - val_loss: 0.3629 - val_accuracy: 0.9005\n",
            "Epoch 13/50\n",
            "27/27 [==============================] - 2s 59ms/step - loss: 0.0027 - accuracy: 1.0000 - val_loss: 0.3396 - val_accuracy: 0.9052\n",
            "Epoch 14/50\n",
            "27/27 [==============================] - 2s 63ms/step - loss: 0.0023 - accuracy: 1.0000 - val_loss: 0.3190 - val_accuracy: 0.8957\n",
            "Epoch 15/50\n",
            "27/27 [==============================] - 2s 59ms/step - loss: 0.0023 - accuracy: 1.0000 - val_loss: 0.3008 - val_accuracy: 0.8910\n",
            "Epoch 16/50\n",
            "27/27 [==============================] - 2s 59ms/step - loss: 0.0018 - accuracy: 1.0000 - val_loss: 0.2857 - val_accuracy: 0.8910\n",
            "Epoch 17/50\n",
            "27/27 [==============================] - 2s 57ms/step - loss: 0.0018 - accuracy: 1.0000 - val_loss: 0.2741 - val_accuracy: 0.8910\n",
            "Epoch 18/50\n",
            "27/27 [==============================] - 1s 55ms/step - loss: 0.0016 - accuracy: 1.0000 - val_loss: 0.2658 - val_accuracy: 0.8863\n",
            "Epoch 19/50\n",
            "27/27 [==============================] - 2s 57ms/step - loss: 0.0014 - accuracy: 1.0000 - val_loss: 0.2606 - val_accuracy: 0.8863\n",
            "Epoch 20/50\n",
            "27/27 [==============================] - 2s 61ms/step - loss: 0.0012 - accuracy: 1.0000 - val_loss: 0.2583 - val_accuracy: 0.8863\n",
            "Epoch 21/50\n",
            "27/27 [==============================] - 2s 61ms/step - loss: 0.0011 - accuracy: 1.0000 - val_loss: 0.2593 - val_accuracy: 0.8815\n",
            "Epoch 22/50\n",
            "27/27 [==============================] - 2s 59ms/step - loss: 0.0010 - accuracy: 1.0000 - val_loss: 0.2621 - val_accuracy: 0.8863\n",
            "Epoch 23/50\n",
            "27/27 [==============================] - 2s 58ms/step - loss: 9.1786e-04 - accuracy: 1.0000 - val_loss: 0.2652 - val_accuracy: 0.8910\n",
            "Epoch 24/50\n",
            "27/27 [==============================] - 2s 63ms/step - loss: 8.3493e-04 - accuracy: 1.0000 - val_loss: 0.2692 - val_accuracy: 0.8910\n",
            "Epoch 25/50\n",
            "27/27 [==============================] - 2s 58ms/step - loss: 8.5129e-04 - accuracy: 1.0000 - val_loss: 0.2737 - val_accuracy: 0.8910\n",
            "Epoch 26/50\n",
            "27/27 [==============================] - 2s 58ms/step - loss: 7.8458e-04 - accuracy: 1.0000 - val_loss: 0.2780 - val_accuracy: 0.8910\n",
            "Epoch 27/50\n",
            "27/27 [==============================] - 2s 59ms/step - loss: 7.2330e-04 - accuracy: 1.0000 - val_loss: 0.2827 - val_accuracy: 0.8910\n",
            "Epoch 28/50\n",
            "27/27 [==============================] - 2s 61ms/step - loss: 6.7614e-04 - accuracy: 1.0000 - val_loss: 0.2870 - val_accuracy: 0.8910\n",
            "Epoch 29/50\n",
            "27/27 [==============================] - 2s 61ms/step - loss: 6.0965e-04 - accuracy: 1.0000 - val_loss: 0.2909 - val_accuracy: 0.8957\n",
            "Epoch 30/50\n",
            "27/27 [==============================] - 2s 61ms/step - loss: 6.0277e-04 - accuracy: 1.0000 - val_loss: 0.2935 - val_accuracy: 0.8957\n"
          ],
          "name": "stdout"
        },
        {
          "output_type": "display_data",
          "data": {
            "text/html": [
              "<span style=\"color:#4527A0\"><h1 style=\"font-size:18px\">Trial complete</h1></span>"
            ],
            "text/plain": [
              "<IPython.core.display.HTML object>"
            ]
          },
          "metadata": {
            "tags": []
          }
        },
        {
          "output_type": "display_data",
          "data": {
            "text/html": [
              "<span style=\"color:#4527A0\"><h1 style=\"font-size:18px\">Trial summary</h1></span>"
            ],
            "text/plain": [
              "<IPython.core.display.HTML object>"
            ]
          },
          "metadata": {
            "tags": []
          }
        },
        {
          "output_type": "display_data",
          "data": {
            "text/html": [
              "<span style=\"color:#7E57C2\"><h2 style=\"font-size:16px\">Hp values:</h2></span>"
            ],
            "text/plain": [
              "<IPython.core.display.HTML object>"
            ]
          },
          "metadata": {
            "tags": []
          }
        },
        {
          "output_type": "display_data",
          "data": {
            "text/html": [
              "<span style=\"color:cyan\"> |-dense_block_1/dropout_rate: 0.25</span>"
            ],
            "text/plain": [
              "<IPython.core.display.HTML object>"
            ]
          },
          "metadata": {
            "tags": []
          }
        },
        {
          "output_type": "display_data",
          "data": {
            "text/html": [
              "<span style=\"color:blue\"> |-dense_block_1/num_layers: 1</span>"
            ],
            "text/plain": [
              "<IPython.core.display.HTML object>"
            ]
          },
          "metadata": {
            "tags": []
          }
        },
        {
          "output_type": "display_data",
          "data": {
            "text/html": [
              "<span style=\"color:cyan\"> |-dense_block_1/units_0: 128</span>"
            ],
            "text/plain": [
              "<IPython.core.display.HTML object>"
            ]
          },
          "metadata": {
            "tags": []
          }
        },
        {
          "output_type": "display_data",
          "data": {
            "text/html": [
              "<span style=\"color:blue\"> |-dense_block_1/units_1: 32</span>"
            ],
            "text/plain": [
              "<IPython.core.display.HTML object>"
            ]
          },
          "metadata": {
            "tags": []
          }
        },
        {
          "output_type": "display_data",
          "data": {
            "text/html": [
              "<span style=\"color:cyan\"> |-dense_block_1/use_batchnorm: True</span>"
            ],
            "text/plain": [
              "<IPython.core.display.HTML object>"
            ]
          },
          "metadata": {
            "tags": []
          }
        },
        {
          "output_type": "display_data",
          "data": {
            "text/html": [
              "<span style=\"color:blue\"> |-optimizer: adam</span>"
            ],
            "text/plain": [
              "<IPython.core.display.HTML object>"
            ]
          },
          "metadata": {
            "tags": []
          }
        },
        {
          "output_type": "display_data",
          "data": {
            "text/html": [
              "<span style=\"color:cyan\"> |-Score: 0.25830164338861195</span>"
            ],
            "text/plain": [
              "<IPython.core.display.HTML object>"
            ]
          },
          "metadata": {
            "tags": []
          }
        },
        {
          "output_type": "display_data",
          "data": {
            "text/html": [
              "<span style=\"color:cyan\"> |-Best step: 0</span>"
            ],
            "text/plain": [
              "<IPython.core.display.HTML object>"
            ]
          },
          "metadata": {
            "tags": []
          }
        },
        {
          "output_type": "stream",
          "text": [
            "Epoch 1/50\n",
            "27/27 [==============================] - 2s 89ms/step - loss: 0.6409 - accuracy: 0.5988 - val_loss: 0.0000e+00 - val_accuracy: 0.0000e+00\n",
            "Epoch 2/50\n",
            "27/27 [==============================] - 2s 65ms/step - loss: 0.3140 - accuracy: 0.8817 - val_loss: 0.3222 - val_accuracy: 0.8815\n",
            "Epoch 3/50\n",
            "27/27 [==============================] - 2s 62ms/step - loss: 0.0525 - accuracy: 0.9846 - val_loss: 0.3487 - val_accuracy: 0.8863\n",
            "Epoch 4/50\n",
            "27/27 [==============================] - 2s 62ms/step - loss: 0.0095 - accuracy: 0.9976 - val_loss: 0.3595 - val_accuracy: 0.8910\n",
            "Epoch 5/50\n",
            "27/27 [==============================] - 2s 63ms/step - loss: 0.0039 - accuracy: 1.0000 - val_loss: 0.3841 - val_accuracy: 0.8910\n",
            "Epoch 6/50\n",
            "27/27 [==============================] - 2s 64ms/step - loss: 0.0013 - accuracy: 1.0000 - val_loss: 0.3944 - val_accuracy: 0.8910\n",
            "Epoch 7/50\n",
            "27/27 [==============================] - 2s 63ms/step - loss: 8.7807e-04 - accuracy: 1.0000 - val_loss: 0.4013 - val_accuracy: 0.8957\n",
            "Epoch 8/50\n",
            "27/27 [==============================] - 2s 67ms/step - loss: 7.5572e-04 - accuracy: 1.0000 - val_loss: 0.4103 - val_accuracy: 0.8910\n",
            "Epoch 9/50\n",
            "27/27 [==============================] - 2s 69ms/step - loss: 5.8068e-04 - accuracy: 1.0000 - val_loss: 0.4200 - val_accuracy: 0.8910\n",
            "Epoch 10/50\n",
            "27/27 [==============================] - 2s 66ms/step - loss: 3.8451e-04 - accuracy: 1.0000 - val_loss: 0.4279 - val_accuracy: 0.8910\n",
            "Epoch 11/50\n",
            "27/27 [==============================] - 2s 59ms/step - loss: 2.7461e-04 - accuracy: 1.0000 - val_loss: 0.4357 - val_accuracy: 0.8910\n",
            "Epoch 12/50\n",
            "27/27 [==============================] - 2s 62ms/step - loss: 2.4049e-04 - accuracy: 1.0000 - val_loss: 0.4421 - val_accuracy: 0.8910\n"
          ],
          "name": "stdout"
        },
        {
          "output_type": "display_data",
          "data": {
            "text/html": [
              "<span style=\"color:#4527A0\"><h1 style=\"font-size:18px\">Trial complete</h1></span>"
            ],
            "text/plain": [
              "<IPython.core.display.HTML object>"
            ]
          },
          "metadata": {
            "tags": []
          }
        },
        {
          "output_type": "display_data",
          "data": {
            "text/html": [
              "<span style=\"color:#4527A0\"><h1 style=\"font-size:18px\">Trial summary</h1></span>"
            ],
            "text/plain": [
              "<IPython.core.display.HTML object>"
            ]
          },
          "metadata": {
            "tags": []
          }
        },
        {
          "output_type": "display_data",
          "data": {
            "text/html": [
              "<span style=\"color:#7E57C2\"><h2 style=\"font-size:16px\">Hp values:</h2></span>"
            ],
            "text/plain": [
              "<IPython.core.display.HTML object>"
            ]
          },
          "metadata": {
            "tags": []
          }
        },
        {
          "output_type": "display_data",
          "data": {
            "text/html": [
              "<span style=\"color:cyan\"> |-dense_block_1/dropout_rate: 0.25</span>"
            ],
            "text/plain": [
              "<IPython.core.display.HTML object>"
            ]
          },
          "metadata": {
            "tags": []
          }
        },
        {
          "output_type": "display_data",
          "data": {
            "text/html": [
              "<span style=\"color:blue\"> |-dense_block_1/num_layers: 2</span>"
            ],
            "text/plain": [
              "<IPython.core.display.HTML object>"
            ]
          },
          "metadata": {
            "tags": []
          }
        },
        {
          "output_type": "display_data",
          "data": {
            "text/html": [
              "<span style=\"color:cyan\"> |-dense_block_1/units_0: 128</span>"
            ],
            "text/plain": [
              "<IPython.core.display.HTML object>"
            ]
          },
          "metadata": {
            "tags": []
          }
        },
        {
          "output_type": "display_data",
          "data": {
            "text/html": [
              "<span style=\"color:blue\"> |-dense_block_1/units_1: 1024</span>"
            ],
            "text/plain": [
              "<IPython.core.display.HTML object>"
            ]
          },
          "metadata": {
            "tags": []
          }
        },
        {
          "output_type": "display_data",
          "data": {
            "text/html": [
              "<span style=\"color:cyan\"> |-dense_block_1/use_batchnorm: False</span>"
            ],
            "text/plain": [
              "<IPython.core.display.HTML object>"
            ]
          },
          "metadata": {
            "tags": []
          }
        },
        {
          "output_type": "display_data",
          "data": {
            "text/html": [
              "<span style=\"color:blue\"> |-optimizer: adam</span>"
            ],
            "text/plain": [
              "<IPython.core.display.HTML object>"
            ]
          },
          "metadata": {
            "tags": []
          }
        },
        {
          "output_type": "display_data",
          "data": {
            "text/html": [
              "<span style=\"color:cyan\"> |-Score: 0.322205479655947</span>"
            ],
            "text/plain": [
              "<IPython.core.display.HTML object>"
            ]
          },
          "metadata": {
            "tags": []
          }
        },
        {
          "output_type": "display_data",
          "data": {
            "text/html": [
              "<span style=\"color:cyan\"> |-Best step: 0</span>"
            ],
            "text/plain": [
              "<IPython.core.display.HTML object>"
            ]
          },
          "metadata": {
            "tags": []
          }
        },
        {
          "output_type": "stream",
          "text": [
            "Epoch 1/50\n",
            "27/27 [==============================] - 3s 113ms/step - loss: 0.7394 - accuracy: 0.5917 - val_loss: 0.0000e+00 - val_accuracy: 0.0000e+00\n",
            "Epoch 2/50\n",
            "27/27 [==============================] - 2s 60ms/step - loss: 0.4812 - accuracy: 0.7586 - val_loss: 0.6754 - val_accuracy: 0.6445\n",
            "Epoch 3/50\n",
            "27/27 [==============================] - 2s 57ms/step - loss: 0.3760 - accuracy: 0.8426 - val_loss: 0.6657 - val_accuracy: 0.6209\n",
            "Epoch 4/50\n",
            "27/27 [==============================] - 2s 58ms/step - loss: 0.3110 - accuracy: 0.9112 - val_loss: 0.6552 - val_accuracy: 0.6256\n",
            "Epoch 5/50\n",
            "27/27 [==============================] - 2s 60ms/step - loss: 0.2516 - accuracy: 0.9349 - val_loss: 0.6421 - val_accuracy: 0.6540\n",
            "Epoch 6/50\n",
            "27/27 [==============================] - 2s 58ms/step - loss: 0.2217 - accuracy: 0.9408 - val_loss: 0.6242 - val_accuracy: 0.6872\n",
            "Epoch 7/50\n",
            "27/27 [==============================] - 2s 58ms/step - loss: 0.1767 - accuracy: 0.9680 - val_loss: 0.6043 - val_accuracy: 0.7109\n",
            "Epoch 8/50\n",
            "27/27 [==============================] - 2s 59ms/step - loss: 0.1611 - accuracy: 0.9704 - val_loss: 0.5825 - val_accuracy: 0.7204\n",
            "Epoch 9/50\n",
            "27/27 [==============================] - 2s 57ms/step - loss: 0.1375 - accuracy: 0.9811 - val_loss: 0.5547 - val_accuracy: 0.7630\n",
            "Epoch 10/50\n",
            "27/27 [==============================] - 2s 57ms/step - loss: 0.1279 - accuracy: 0.9870 - val_loss: 0.5237 - val_accuracy: 0.8152\n",
            "Epoch 11/50\n",
            "27/27 [==============================] - 2s 60ms/step - loss: 0.1140 - accuracy: 0.9893 - val_loss: 0.4873 - val_accuracy: 0.8294\n",
            "Epoch 12/50\n",
            "27/27 [==============================] - 2s 59ms/step - loss: 0.0920 - accuracy: 0.9905 - val_loss: 0.4518 - val_accuracy: 0.8294\n",
            "Epoch 13/50\n",
            "27/27 [==============================] - 2s 61ms/step - loss: 0.0830 - accuracy: 0.9893 - val_loss: 0.4161 - val_accuracy: 0.8483\n",
            "Epoch 14/50\n",
            "27/27 [==============================] - 2s 59ms/step - loss: 0.0731 - accuracy: 0.9953 - val_loss: 0.3839 - val_accuracy: 0.8626\n",
            "Epoch 15/50\n",
            "27/27 [==============================] - 2s 57ms/step - loss: 0.0703 - accuracy: 0.9964 - val_loss: 0.3562 - val_accuracy: 0.8673\n",
            "Epoch 16/50\n",
            "27/27 [==============================] - 2s 59ms/step - loss: 0.0609 - accuracy: 0.9941 - val_loss: 0.3345 - val_accuracy: 0.8673\n",
            "Epoch 17/50\n",
            "27/27 [==============================] - 2s 56ms/step - loss: 0.0595 - accuracy: 0.9941 - val_loss: 0.3195 - val_accuracy: 0.8673\n",
            "Epoch 18/50\n",
            "27/27 [==============================] - 2s 59ms/step - loss: 0.0550 - accuracy: 0.9941 - val_loss: 0.3069 - val_accuracy: 0.8673\n",
            "Epoch 19/50\n",
            "27/27 [==============================] - 2s 57ms/step - loss: 0.0501 - accuracy: 0.9941 - val_loss: 0.2991 - val_accuracy: 0.8673\n",
            "Epoch 20/50\n",
            "27/27 [==============================] - 2s 58ms/step - loss: 0.0397 - accuracy: 0.9976 - val_loss: 0.2990 - val_accuracy: 0.8673\n",
            "Epoch 21/50\n",
            "27/27 [==============================] - 2s 61ms/step - loss: 0.0435 - accuracy: 0.9953 - val_loss: 0.3000 - val_accuracy: 0.8768\n",
            "Epoch 22/50\n",
            "27/27 [==============================] - 2s 56ms/step - loss: 0.0419 - accuracy: 0.9929 - val_loss: 0.2996 - val_accuracy: 0.8768\n",
            "Epoch 23/50\n",
            "27/27 [==============================] - 1s 55ms/step - loss: 0.0354 - accuracy: 0.9905 - val_loss: 0.3051 - val_accuracy: 0.8768\n",
            "Epoch 24/50\n",
            "27/27 [==============================] - 2s 59ms/step - loss: 0.0354 - accuracy: 0.9953 - val_loss: 0.3132 - val_accuracy: 0.8768\n",
            "Epoch 25/50\n",
            "27/27 [==============================] - 2s 62ms/step - loss: 0.0365 - accuracy: 0.9941 - val_loss: 0.3177 - val_accuracy: 0.8768\n",
            "Epoch 26/50\n",
            "27/27 [==============================] - 2s 58ms/step - loss: 0.0317 - accuracy: 0.9953 - val_loss: 0.3265 - val_accuracy: 0.8768\n",
            "Epoch 27/50\n",
            "27/27 [==============================] - 2s 59ms/step - loss: 0.0283 - accuracy: 0.9964 - val_loss: 0.3364 - val_accuracy: 0.8768\n",
            "Epoch 28/50\n",
            "27/27 [==============================] - 2s 58ms/step - loss: 0.0312 - accuracy: 0.9929 - val_loss: 0.3401 - val_accuracy: 0.8815\n",
            "Epoch 29/50\n",
            "27/27 [==============================] - 2s 56ms/step - loss: 0.0236 - accuracy: 0.9953 - val_loss: 0.3461 - val_accuracy: 0.8815\n",
            "Epoch 30/50\n",
            "27/27 [==============================] - 2s 60ms/step - loss: 0.0269 - accuracy: 0.9941 - val_loss: 0.3510 - val_accuracy: 0.8815\n"
          ],
          "name": "stdout"
        },
        {
          "output_type": "display_data",
          "data": {
            "text/html": [
              "<span style=\"color:#4527A0\"><h1 style=\"font-size:18px\">Trial complete</h1></span>"
            ],
            "text/plain": [
              "<IPython.core.display.HTML object>"
            ]
          },
          "metadata": {
            "tags": []
          }
        },
        {
          "output_type": "display_data",
          "data": {
            "text/html": [
              "<span style=\"color:#4527A0\"><h1 style=\"font-size:18px\">Trial summary</h1></span>"
            ],
            "text/plain": [
              "<IPython.core.display.HTML object>"
            ]
          },
          "metadata": {
            "tags": []
          }
        },
        {
          "output_type": "display_data",
          "data": {
            "text/html": [
              "<span style=\"color:#7E57C2\"><h2 style=\"font-size:16px\">Hp values:</h2></span>"
            ],
            "text/plain": [
              "<IPython.core.display.HTML object>"
            ]
          },
          "metadata": {
            "tags": []
          }
        },
        {
          "output_type": "display_data",
          "data": {
            "text/html": [
              "<span style=\"color:cyan\"> |-dense_block_1/dropout_rate: 0.5</span>"
            ],
            "text/plain": [
              "<IPython.core.display.HTML object>"
            ]
          },
          "metadata": {
            "tags": []
          }
        },
        {
          "output_type": "display_data",
          "data": {
            "text/html": [
              "<span style=\"color:blue\"> |-dense_block_1/num_layers: 2</span>"
            ],
            "text/plain": [
              "<IPython.core.display.HTML object>"
            ]
          },
          "metadata": {
            "tags": []
          }
        },
        {
          "output_type": "display_data",
          "data": {
            "text/html": [
              "<span style=\"color:cyan\"> |-dense_block_1/units_0: 128</span>"
            ],
            "text/plain": [
              "<IPython.core.display.HTML object>"
            ]
          },
          "metadata": {
            "tags": []
          }
        },
        {
          "output_type": "display_data",
          "data": {
            "text/html": [
              "<span style=\"color:blue\"> |-dense_block_1/units_1: 16</span>"
            ],
            "text/plain": [
              "<IPython.core.display.HTML object>"
            ]
          },
          "metadata": {
            "tags": []
          }
        },
        {
          "output_type": "display_data",
          "data": {
            "text/html": [
              "<span style=\"color:cyan\"> |-dense_block_1/use_batchnorm: True</span>"
            ],
            "text/plain": [
              "<IPython.core.display.HTML object>"
            ]
          },
          "metadata": {
            "tags": []
          }
        },
        {
          "output_type": "display_data",
          "data": {
            "text/html": [
              "<span style=\"color:blue\"> |-optimizer: adam</span>"
            ],
            "text/plain": [
              "<IPython.core.display.HTML object>"
            ]
          },
          "metadata": {
            "tags": []
          }
        },
        {
          "output_type": "display_data",
          "data": {
            "text/html": [
              "<span style=\"color:cyan\"> |-Score: 0.2990306807415826</span>"
            ],
            "text/plain": [
              "<IPython.core.display.HTML object>"
            ]
          },
          "metadata": {
            "tags": []
          }
        },
        {
          "output_type": "display_data",
          "data": {
            "text/html": [
              "<span style=\"color:cyan\"> |-Best step: 0</span>"
            ],
            "text/plain": [
              "<IPython.core.display.HTML object>"
            ]
          },
          "metadata": {
            "tags": []
          }
        },
        {
          "output_type": "stream",
          "text": [
            "Epoch 1/50\n",
            "27/27 [==============================] - 3s 112ms/step - loss: 0.4448 - accuracy: 0.7846 - val_loss: 0.0000e+00 - val_accuracy: 0.0000e+00\n",
            "Epoch 2/50\n",
            "27/27 [==============================] - 2s 65ms/step - loss: 0.0303 - accuracy: 0.9964 - val_loss: 0.6521 - val_accuracy: 0.5403\n",
            "Epoch 3/50\n",
            "27/27 [==============================] - 2s 66ms/step - loss: 0.0085 - accuracy: 1.0000 - val_loss: 0.6381 - val_accuracy: 0.5403\n",
            "Epoch 4/50\n",
            "27/27 [==============================] - 2s 64ms/step - loss: 0.0047 - accuracy: 1.0000 - val_loss: 0.6247 - val_accuracy: 0.5498\n",
            "Epoch 5/50\n",
            "27/27 [==============================] - 2s 64ms/step - loss: 0.0033 - accuracy: 1.0000 - val_loss: 0.6095 - val_accuracy: 0.5640\n",
            "Epoch 6/50\n",
            "27/27 [==============================] - 2s 61ms/step - loss: 0.0025 - accuracy: 1.0000 - val_loss: 0.5918 - val_accuracy: 0.6114\n",
            "Epoch 7/50\n",
            "27/27 [==============================] - 2s 63ms/step - loss: 0.0019 - accuracy: 1.0000 - val_loss: 0.5712 - val_accuracy: 0.6256\n",
            "Epoch 8/50\n",
            "27/27 [==============================] - 2s 60ms/step - loss: 0.0016 - accuracy: 1.0000 - val_loss: 0.5473 - val_accuracy: 0.6540\n",
            "Epoch 9/50\n",
            "27/27 [==============================] - 2s 59ms/step - loss: 0.0013 - accuracy: 1.0000 - val_loss: 0.5202 - val_accuracy: 0.6825\n",
            "Epoch 10/50\n",
            "27/27 [==============================] - 2s 59ms/step - loss: 0.0011 - accuracy: 1.0000 - val_loss: 0.4904 - val_accuracy: 0.7204\n",
            "Epoch 11/50\n",
            "27/27 [==============================] - 2s 58ms/step - loss: 9.8062e-04 - accuracy: 1.0000 - val_loss: 0.4588 - val_accuracy: 0.7583\n",
            "Epoch 12/50\n",
            "27/27 [==============================] - 2s 59ms/step - loss: 8.5948e-04 - accuracy: 1.0000 - val_loss: 0.4269 - val_accuracy: 0.7962\n",
            "Epoch 13/50\n",
            "27/27 [==============================] - 2s 60ms/step - loss: 7.6084e-04 - accuracy: 1.0000 - val_loss: 0.3964 - val_accuracy: 0.8246\n",
            "Epoch 14/50\n",
            "27/27 [==============================] - 2s 59ms/step - loss: 6.7917e-04 - accuracy: 1.0000 - val_loss: 0.3685 - val_accuracy: 0.8483\n",
            "Epoch 15/50\n",
            "27/27 [==============================] - 2s 61ms/step - loss: 6.1091e-04 - accuracy: 1.0000 - val_loss: 0.3445 - val_accuracy: 0.8578\n",
            "Epoch 16/50\n",
            "27/27 [==============================] - 2s 59ms/step - loss: 5.5325e-04 - accuracy: 1.0000 - val_loss: 0.3254 - val_accuracy: 0.8815\n",
            "Epoch 17/50\n",
            "27/27 [==============================] - 2s 61ms/step - loss: 5.0396e-04 - accuracy: 1.0000 - val_loss: 0.3115 - val_accuracy: 0.8768\n",
            "Epoch 18/50\n",
            "27/27 [==============================] - 2s 61ms/step - loss: 4.6145e-04 - accuracy: 1.0000 - val_loss: 0.3031 - val_accuracy: 0.8863\n",
            "Epoch 19/50\n",
            "27/27 [==============================] - 2s 57ms/step - loss: 4.2445e-04 - accuracy: 1.0000 - val_loss: 0.2994 - val_accuracy: 0.8815\n",
            "Epoch 20/50\n",
            "27/27 [==============================] - 2s 59ms/step - loss: 3.9201e-04 - accuracy: 1.0000 - val_loss: 0.2999 - val_accuracy: 0.8815\n",
            "Epoch 21/50\n",
            "27/27 [==============================] - 2s 60ms/step - loss: 3.6344e-04 - accuracy: 1.0000 - val_loss: 0.3041 - val_accuracy: 0.8815\n",
            "Epoch 22/50\n",
            "27/27 [==============================] - 2s 63ms/step - loss: 3.3808e-04 - accuracy: 1.0000 - val_loss: 0.3117 - val_accuracy: 0.8768\n",
            "Epoch 23/50\n",
            "27/27 [==============================] - 2s 60ms/step - loss: 3.1550e-04 - accuracy: 1.0000 - val_loss: 0.3207 - val_accuracy: 0.8768\n",
            "Epoch 24/50\n",
            "27/27 [==============================] - 2s 56ms/step - loss: 2.9523e-04 - accuracy: 1.0000 - val_loss: 0.3304 - val_accuracy: 0.8768\n",
            "Epoch 25/50\n",
            "27/27 [==============================] - 2s 59ms/step - loss: 2.7692e-04 - accuracy: 1.0000 - val_loss: 0.3405 - val_accuracy: 0.8768\n",
            "Epoch 26/50\n",
            "27/27 [==============================] - 2s 61ms/step - loss: 2.6041e-04 - accuracy: 1.0000 - val_loss: 0.3502 - val_accuracy: 0.8720\n",
            "Epoch 27/50\n",
            "27/27 [==============================] - 2s 61ms/step - loss: 2.4541e-04 - accuracy: 1.0000 - val_loss: 0.3592 - val_accuracy: 0.8626\n",
            "Epoch 28/50\n",
            "27/27 [==============================] - 2s 58ms/step - loss: 2.3174e-04 - accuracy: 1.0000 - val_loss: 0.3672 - val_accuracy: 0.8673\n",
            "Epoch 29/50\n",
            "27/27 [==============================] - 2s 60ms/step - loss: 2.1925e-04 - accuracy: 1.0000 - val_loss: 0.3742 - val_accuracy: 0.8673\n"
          ],
          "name": "stdout"
        },
        {
          "output_type": "display_data",
          "data": {
            "text/html": [
              "<span style=\"color:#4527A0\"><h1 style=\"font-size:18px\">Trial complete</h1></span>"
            ],
            "text/plain": [
              "<IPython.core.display.HTML object>"
            ]
          },
          "metadata": {
            "tags": []
          }
        },
        {
          "output_type": "display_data",
          "data": {
            "text/html": [
              "<span style=\"color:#4527A0\"><h1 style=\"font-size:18px\">Trial summary</h1></span>"
            ],
            "text/plain": [
              "<IPython.core.display.HTML object>"
            ]
          },
          "metadata": {
            "tags": []
          }
        },
        {
          "output_type": "display_data",
          "data": {
            "text/html": [
              "<span style=\"color:#7E57C2\"><h2 style=\"font-size:16px\">Hp values:</h2></span>"
            ],
            "text/plain": [
              "<IPython.core.display.HTML object>"
            ]
          },
          "metadata": {
            "tags": []
          }
        },
        {
          "output_type": "display_data",
          "data": {
            "text/html": [
              "<span style=\"color:cyan\"> |-dense_block_1/dropout_rate: 0.0</span>"
            ],
            "text/plain": [
              "<IPython.core.display.HTML object>"
            ]
          },
          "metadata": {
            "tags": []
          }
        },
        {
          "output_type": "display_data",
          "data": {
            "text/html": [
              "<span style=\"color:blue\"> |-dense_block_1/num_layers: 2</span>"
            ],
            "text/plain": [
              "<IPython.core.display.HTML object>"
            ]
          },
          "metadata": {
            "tags": []
          }
        },
        {
          "output_type": "display_data",
          "data": {
            "text/html": [
              "<span style=\"color:cyan\"> |-dense_block_1/units_0: 128</span>"
            ],
            "text/plain": [
              "<IPython.core.display.HTML object>"
            ]
          },
          "metadata": {
            "tags": []
          }
        },
        {
          "output_type": "display_data",
          "data": {
            "text/html": [
              "<span style=\"color:blue\"> |-dense_block_1/units_1: 256</span>"
            ],
            "text/plain": [
              "<IPython.core.display.HTML object>"
            ]
          },
          "metadata": {
            "tags": []
          }
        },
        {
          "output_type": "display_data",
          "data": {
            "text/html": [
              "<span style=\"color:cyan\"> |-dense_block_1/use_batchnorm: True</span>"
            ],
            "text/plain": [
              "<IPython.core.display.HTML object>"
            ]
          },
          "metadata": {
            "tags": []
          }
        },
        {
          "output_type": "display_data",
          "data": {
            "text/html": [
              "<span style=\"color:blue\"> |-optimizer: adam</span>"
            ],
            "text/plain": [
              "<IPython.core.display.HTML object>"
            ]
          },
          "metadata": {
            "tags": []
          }
        },
        {
          "output_type": "display_data",
          "data": {
            "text/html": [
              "<span style=\"color:cyan\"> |-Score: 0.2994298551763807</span>"
            ],
            "text/plain": [
              "<IPython.core.display.HTML object>"
            ]
          },
          "metadata": {
            "tags": []
          }
        },
        {
          "output_type": "display_data",
          "data": {
            "text/html": [
              "<span style=\"color:cyan\"> |-Best step: 0</span>"
            ],
            "text/plain": [
              "<IPython.core.display.HTML object>"
            ]
          },
          "metadata": {
            "tags": []
          }
        },
        {
          "output_type": "stream",
          "text": [
            "Epoch 1/50\n",
            "27/27 [==============================] - 2s 77ms/step - loss: 0.6883 - accuracy: 0.5988 - val_loss: 0.0000e+00 - val_accuracy: 0.0000e+00\n",
            "Epoch 2/50\n",
            "27/27 [==============================] - 2s 58ms/step - loss: 0.6852 - accuracy: 0.6036 - val_loss: 0.6913 - val_accuracy: 0.5403\n",
            "Epoch 3/50\n",
            "27/27 [==============================] - 1s 54ms/step - loss: 0.6806 - accuracy: 0.6036 - val_loss: 0.6907 - val_accuracy: 0.5403\n",
            "Epoch 4/50\n",
            "27/27 [==============================] - 2s 57ms/step - loss: 0.6784 - accuracy: 0.6036 - val_loss: 0.6904 - val_accuracy: 0.5403\n",
            "Epoch 5/50\n",
            "27/27 [==============================] - 1s 55ms/step - loss: 0.6765 - accuracy: 0.6036 - val_loss: 0.6902 - val_accuracy: 0.5403\n",
            "Epoch 6/50\n",
            "27/27 [==============================] - 2s 58ms/step - loss: 0.6746 - accuracy: 0.6036 - val_loss: 0.6902 - val_accuracy: 0.5403\n",
            "Epoch 7/50\n",
            "27/27 [==============================] - 1s 54ms/step - loss: 0.6714 - accuracy: 0.6036 - val_loss: 0.6904 - val_accuracy: 0.5403\n",
            "Epoch 8/50\n",
            "27/27 [==============================] - 2s 56ms/step - loss: 0.6705 - accuracy: 0.6036 - val_loss: 0.6905 - val_accuracy: 0.5403\n",
            "Epoch 9/50\n",
            "27/27 [==============================] - 1s 54ms/step - loss: 0.6698 - accuracy: 0.6036 - val_loss: 0.6906 - val_accuracy: 0.5403\n",
            "Epoch 10/50\n",
            "27/27 [==============================] - 2s 56ms/step - loss: 0.6675 - accuracy: 0.6036 - val_loss: 0.6907 - val_accuracy: 0.5403\n",
            "Epoch 11/50\n",
            "27/27 [==============================] - 1s 54ms/step - loss: 0.6672 - accuracy: 0.6036 - val_loss: 0.6908 - val_accuracy: 0.5403\n",
            "Epoch 12/50\n",
            "27/27 [==============================] - 2s 57ms/step - loss: 0.6647 - accuracy: 0.6036 - val_loss: 0.6909 - val_accuracy: 0.5403\n",
            "Epoch 13/50\n",
            "27/27 [==============================] - 1s 55ms/step - loss: 0.6659 - accuracy: 0.6036 - val_loss: 0.6908 - val_accuracy: 0.5403\n",
            "Epoch 14/50\n",
            "27/27 [==============================] - 2s 56ms/step - loss: 0.6630 - accuracy: 0.6036 - val_loss: 0.6908 - val_accuracy: 0.5403\n",
            "Epoch 15/50\n",
            "27/27 [==============================] - 2s 56ms/step - loss: 0.6655 - accuracy: 0.6036 - val_loss: 0.6905 - val_accuracy: 0.5403\n",
            "Epoch 16/50\n",
            "27/27 [==============================] - 1s 55ms/step - loss: 0.6642 - accuracy: 0.6036 - val_loss: 0.6902 - val_accuracy: 0.5403\n",
            "Epoch 17/50\n",
            "27/27 [==============================] - 1s 55ms/step - loss: 0.6632 - accuracy: 0.6036 - val_loss: 0.6898 - val_accuracy: 0.5403\n",
            "Epoch 18/50\n",
            "27/27 [==============================] - 1s 53ms/step - loss: 0.6620 - accuracy: 0.6036 - val_loss: 0.6896 - val_accuracy: 0.5403\n",
            "Epoch 19/50\n",
            "27/27 [==============================] - 1s 54ms/step - loss: 0.6615 - accuracy: 0.6036 - val_loss: 0.6893 - val_accuracy: 0.5403\n",
            "Epoch 20/50\n",
            "27/27 [==============================] - 1s 55ms/step - loss: 0.6603 - accuracy: 0.6036 - val_loss: 0.6890 - val_accuracy: 0.5403\n",
            "Epoch 21/50\n",
            "27/27 [==============================] - 2s 58ms/step - loss: 0.6599 - accuracy: 0.6036 - val_loss: 0.6886 - val_accuracy: 0.5403\n",
            "Epoch 22/50\n",
            "27/27 [==============================] - 2s 56ms/step - loss: 0.6600 - accuracy: 0.6036 - val_loss: 0.6881 - val_accuracy: 0.5403\n",
            "Epoch 23/50\n",
            "27/27 [==============================] - 1s 54ms/step - loss: 0.6588 - accuracy: 0.6036 - val_loss: 0.6876 - val_accuracy: 0.5403\n",
            "Epoch 24/50\n",
            "27/27 [==============================] - 1s 54ms/step - loss: 0.6585 - accuracy: 0.6036 - val_loss: 0.6870 - val_accuracy: 0.5403\n",
            "Epoch 25/50\n",
            "27/27 [==============================] - 2s 56ms/step - loss: 0.6572 - accuracy: 0.6036 - val_loss: 0.6866 - val_accuracy: 0.5403\n",
            "Epoch 26/50\n",
            "27/27 [==============================] - 1s 55ms/step - loss: 0.6555 - accuracy: 0.6036 - val_loss: 0.6862 - val_accuracy: 0.5403\n",
            "Epoch 27/50\n",
            "27/27 [==============================] - 1s 54ms/step - loss: 0.6537 - accuracy: 0.6036 - val_loss: 0.6859 - val_accuracy: 0.5403\n",
            "Epoch 28/50\n",
            "27/27 [==============================] - 2s 56ms/step - loss: 0.6543 - accuracy: 0.6036 - val_loss: 0.6854 - val_accuracy: 0.5403\n",
            "Epoch 29/50\n",
            "27/27 [==============================] - 1s 55ms/step - loss: 0.6527 - accuracy: 0.6036 - val_loss: 0.6850 - val_accuracy: 0.5403\n",
            "Epoch 30/50\n",
            "27/27 [==============================] - 1s 55ms/step - loss: 0.6515 - accuracy: 0.6036 - val_loss: 0.6845 - val_accuracy: 0.5403\n",
            "Epoch 31/50\n",
            "27/27 [==============================] - 1s 54ms/step - loss: 0.6530 - accuracy: 0.6036 - val_loss: 0.6839 - val_accuracy: 0.5403\n",
            "Epoch 32/50\n",
            "27/27 [==============================] - 2s 56ms/step - loss: 0.6521 - accuracy: 0.6036 - val_loss: 0.6833 - val_accuracy: 0.5403\n",
            "Epoch 33/50\n",
            "27/27 [==============================] - 1s 54ms/step - loss: 0.6523 - accuracy: 0.6036 - val_loss: 0.6826 - val_accuracy: 0.5403\n",
            "Epoch 34/50\n",
            "27/27 [==============================] - 1s 53ms/step - loss: 0.6519 - accuracy: 0.6036 - val_loss: 0.6818 - val_accuracy: 0.5403\n",
            "Epoch 35/50\n",
            "27/27 [==============================] - 2s 56ms/step - loss: 0.6492 - accuracy: 0.6036 - val_loss: 0.6812 - val_accuracy: 0.5403\n",
            "Epoch 36/50\n",
            "27/27 [==============================] - 1s 53ms/step - loss: 0.6492 - accuracy: 0.6036 - val_loss: 0.6807 - val_accuracy: 0.5403\n",
            "Epoch 37/50\n",
            "27/27 [==============================] - 1s 54ms/step - loss: 0.6489 - accuracy: 0.6036 - val_loss: 0.6799 - val_accuracy: 0.5403\n",
            "Epoch 38/50\n",
            "27/27 [==============================] - 1s 55ms/step - loss: 0.6488 - accuracy: 0.6036 - val_loss: 0.6792 - val_accuracy: 0.5403\n",
            "Epoch 39/50\n",
            "27/27 [==============================] - 2s 56ms/step - loss: 0.6456 - accuracy: 0.6036 - val_loss: 0.6786 - val_accuracy: 0.5403\n",
            "Epoch 40/50\n",
            "27/27 [==============================] - 2s 56ms/step - loss: 0.6460 - accuracy: 0.6036 - val_loss: 0.6779 - val_accuracy: 0.5403\n",
            "Epoch 41/50\n",
            "27/27 [==============================] - 2s 56ms/step - loss: 0.6445 - accuracy: 0.6036 - val_loss: 0.6773 - val_accuracy: 0.5403\n",
            "Epoch 42/50\n",
            "27/27 [==============================] - 1s 55ms/step - loss: 0.6457 - accuracy: 0.6036 - val_loss: 0.6765 - val_accuracy: 0.5403\n",
            "Epoch 43/50\n",
            "27/27 [==============================] - 2s 56ms/step - loss: 0.6452 - accuracy: 0.6036 - val_loss: 0.6760 - val_accuracy: 0.5403\n",
            "Epoch 44/50\n",
            "27/27 [==============================] - 1s 53ms/step - loss: 0.6444 - accuracy: 0.6036 - val_loss: 0.6753 - val_accuracy: 0.5403\n",
            "Epoch 45/50\n",
            "27/27 [==============================] - 2s 58ms/step - loss: 0.6429 - accuracy: 0.6036 - val_loss: 0.6745 - val_accuracy: 0.5403\n",
            "Epoch 46/50\n",
            "27/27 [==============================] - 2s 58ms/step - loss: 0.6433 - accuracy: 0.6036 - val_loss: 0.6738 - val_accuracy: 0.5403\n",
            "Epoch 47/50\n",
            "27/27 [==============================] - 1s 55ms/step - loss: 0.6416 - accuracy: 0.6036 - val_loss: 0.6731 - val_accuracy: 0.5403\n",
            "Epoch 48/50\n",
            "27/27 [==============================] - 1s 52ms/step - loss: 0.6396 - accuracy: 0.6036 - val_loss: 0.6725 - val_accuracy: 0.5403\n",
            "Epoch 49/50\n",
            "27/27 [==============================] - 1s 56ms/step - loss: 0.6407 - accuracy: 0.6036 - val_loss: 0.6719 - val_accuracy: 0.5403\n",
            "Epoch 50/50\n",
            "27/27 [==============================] - 1s 55ms/step - loss: 0.6415 - accuracy: 0.6036 - val_loss: 0.6711 - val_accuracy: 0.5403\n"
          ],
          "name": "stdout"
        },
        {
          "output_type": "display_data",
          "data": {
            "text/html": [
              "<span style=\"color:#4527A0\"><h1 style=\"font-size:18px\">Trial complete</h1></span>"
            ],
            "text/plain": [
              "<IPython.core.display.HTML object>"
            ]
          },
          "metadata": {
            "tags": []
          }
        },
        {
          "output_type": "display_data",
          "data": {
            "text/html": [
              "<span style=\"color:#4527A0\"><h1 style=\"font-size:18px\">Trial summary</h1></span>"
            ],
            "text/plain": [
              "<IPython.core.display.HTML object>"
            ]
          },
          "metadata": {
            "tags": []
          }
        },
        {
          "output_type": "display_data",
          "data": {
            "text/html": [
              "<span style=\"color:#7E57C2\"><h2 style=\"font-size:16px\">Hp values:</h2></span>"
            ],
            "text/plain": [
              "<IPython.core.display.HTML object>"
            ]
          },
          "metadata": {
            "tags": []
          }
        },
        {
          "output_type": "display_data",
          "data": {
            "text/html": [
              "<span style=\"color:cyan\"> |-dense_block_1/dropout_rate: 0.25</span>"
            ],
            "text/plain": [
              "<IPython.core.display.HTML object>"
            ]
          },
          "metadata": {
            "tags": []
          }
        },
        {
          "output_type": "display_data",
          "data": {
            "text/html": [
              "<span style=\"color:blue\"> |-dense_block_1/num_layers: 1</span>"
            ],
            "text/plain": [
              "<IPython.core.display.HTML object>"
            ]
          },
          "metadata": {
            "tags": []
          }
        },
        {
          "output_type": "display_data",
          "data": {
            "text/html": [
              "<span style=\"color:cyan\"> |-dense_block_1/units_0: 16</span>"
            ],
            "text/plain": [
              "<IPython.core.display.HTML object>"
            ]
          },
          "metadata": {
            "tags": []
          }
        },
        {
          "output_type": "display_data",
          "data": {
            "text/html": [
              "<span style=\"color:blue\"> |-dense_block_1/units_1: 256</span>"
            ],
            "text/plain": [
              "<IPython.core.display.HTML object>"
            ]
          },
          "metadata": {
            "tags": []
          }
        },
        {
          "output_type": "display_data",
          "data": {
            "text/html": [
              "<span style=\"color:cyan\"> |-dense_block_1/use_batchnorm: False</span>"
            ],
            "text/plain": [
              "<IPython.core.display.HTML object>"
            ]
          },
          "metadata": {
            "tags": []
          }
        },
        {
          "output_type": "display_data",
          "data": {
            "text/html": [
              "<span style=\"color:blue\"> |-optimizer: sgd</span>"
            ],
            "text/plain": [
              "<IPython.core.display.HTML object>"
            ]
          },
          "metadata": {
            "tags": []
          }
        },
        {
          "output_type": "display_data",
          "data": {
            "text/html": [
              "<span style=\"color:cyan\"> |-Score: 0.6710585185459682</span>"
            ],
            "text/plain": [
              "<IPython.core.display.HTML object>"
            ]
          },
          "metadata": {
            "tags": []
          }
        },
        {
          "output_type": "display_data",
          "data": {
            "text/html": [
              "<span style=\"color:cyan\"> |-Best step: 0</span>"
            ],
            "text/plain": [
              "<IPython.core.display.HTML object>"
            ]
          },
          "metadata": {
            "tags": []
          }
        },
        {
          "output_type": "stream",
          "text": [
            "Epoch 1/50\n",
            "27/27 [==============================] - 3s 106ms/step - loss: 0.6868 - accuracy: 0.5751 - val_loss: 0.0000e+00 - val_accuracy: 0.0000e+00\n",
            "Epoch 2/50\n",
            "27/27 [==============================] - 2s 81ms/step - loss: 0.6348 - accuracy: 0.6852 - val_loss: 0.5970 - val_accuracy: 0.7014\n",
            "Epoch 3/50\n",
            "27/27 [==============================] - 2s 78ms/step - loss: 0.4594 - accuracy: 0.8095 - val_loss: 0.3862 - val_accuracy: 0.8531\n",
            "Epoch 4/50\n",
            "27/27 [==============================] - 2s 79ms/step - loss: 0.2553 - accuracy: 0.9053 - val_loss: 0.2859 - val_accuracy: 0.8910\n",
            "Epoch 5/50\n",
            "27/27 [==============================] - 2s 77ms/step - loss: 0.1156 - accuracy: 0.9822 - val_loss: 0.3139 - val_accuracy: 0.8910\n",
            "Epoch 6/50\n",
            "27/27 [==============================] - 2s 76ms/step - loss: 0.0711 - accuracy: 0.9846 - val_loss: 0.3347 - val_accuracy: 0.8957\n",
            "Epoch 7/50\n",
            "27/27 [==============================] - 2s 81ms/step - loss: 0.0435 - accuracy: 0.9870 - val_loss: 0.3837 - val_accuracy: 0.8957\n",
            "Epoch 8/50\n",
            "27/27 [==============================] - 2s 78ms/step - loss: 0.0290 - accuracy: 0.9929 - val_loss: 0.4276 - val_accuracy: 0.8957\n",
            "Epoch 9/50\n",
            "27/27 [==============================] - 2s 76ms/step - loss: 0.0295 - accuracy: 0.9917 - val_loss: 0.4623 - val_accuracy: 0.9052\n",
            "Epoch 10/50\n",
            "27/27 [==============================] - 2s 80ms/step - loss: 0.0252 - accuracy: 0.9929 - val_loss: 0.4800 - val_accuracy: 0.9005\n",
            "Epoch 11/50\n",
            "27/27 [==============================] - 2s 77ms/step - loss: 0.0230 - accuracy: 0.9964 - val_loss: 0.5238 - val_accuracy: 0.9052\n",
            "Epoch 12/50\n",
            "27/27 [==============================] - 2s 77ms/step - loss: 0.0182 - accuracy: 0.9929 - val_loss: 0.5720 - val_accuracy: 0.9052\n",
            "Epoch 13/50\n",
            "27/27 [==============================] - 2s 75ms/step - loss: 0.0139 - accuracy: 0.9988 - val_loss: 0.6008 - val_accuracy: 0.9052\n",
            "Epoch 14/50\n",
            "27/27 [==============================] - 2s 76ms/step - loss: 0.0172 - accuracy: 0.9941 - val_loss: 0.6272 - val_accuracy: 0.9052\n"
          ],
          "name": "stdout"
        },
        {
          "output_type": "display_data",
          "data": {
            "text/html": [
              "<span style=\"color:#4527A0\"><h1 style=\"font-size:18px\">Trial complete</h1></span>"
            ],
            "text/plain": [
              "<IPython.core.display.HTML object>"
            ]
          },
          "metadata": {
            "tags": []
          }
        },
        {
          "output_type": "display_data",
          "data": {
            "text/html": [
              "<span style=\"color:#4527A0\"><h1 style=\"font-size:18px\">Trial summary</h1></span>"
            ],
            "text/plain": [
              "<IPython.core.display.HTML object>"
            ]
          },
          "metadata": {
            "tags": []
          }
        },
        {
          "output_type": "display_data",
          "data": {
            "text/html": [
              "<span style=\"color:#7E57C2\"><h2 style=\"font-size:16px\">Hp values:</h2></span>"
            ],
            "text/plain": [
              "<IPython.core.display.HTML object>"
            ]
          },
          "metadata": {
            "tags": []
          }
        },
        {
          "output_type": "display_data",
          "data": {
            "text/html": [
              "<span style=\"color:cyan\"> |-dense_block_1/dropout_rate: 0.5</span>"
            ],
            "text/plain": [
              "<IPython.core.display.HTML object>"
            ]
          },
          "metadata": {
            "tags": []
          }
        },
        {
          "output_type": "display_data",
          "data": {
            "text/html": [
              "<span style=\"color:blue\"> |-dense_block_1/num_layers: 3</span>"
            ],
            "text/plain": [
              "<IPython.core.display.HTML object>"
            ]
          },
          "metadata": {
            "tags": []
          }
        },
        {
          "output_type": "display_data",
          "data": {
            "text/html": [
              "<span style=\"color:cyan\"> |-dense_block_1/units_0: 1024</span>"
            ],
            "text/plain": [
              "<IPython.core.display.HTML object>"
            ]
          },
          "metadata": {
            "tags": []
          }
        },
        {
          "output_type": "display_data",
          "data": {
            "text/html": [
              "<span style=\"color:blue\"> |-dense_block_1/units_1: 16</span>"
            ],
            "text/plain": [
              "<IPython.core.display.HTML object>"
            ]
          },
          "metadata": {
            "tags": []
          }
        },
        {
          "output_type": "display_data",
          "data": {
            "text/html": [
              "<span style=\"color:cyan\"> |-dense_block_1/units_2: 32</span>"
            ],
            "text/plain": [
              "<IPython.core.display.HTML object>"
            ]
          },
          "metadata": {
            "tags": []
          }
        },
        {
          "output_type": "display_data",
          "data": {
            "text/html": [
              "<span style=\"color:blue\"> |-dense_block_1/use_batchnorm: False</span>"
            ],
            "text/plain": [
              "<IPython.core.display.HTML object>"
            ]
          },
          "metadata": {
            "tags": []
          }
        },
        {
          "output_type": "display_data",
          "data": {
            "text/html": [
              "<span style=\"color:cyan\"> |-optimizer: adam</span>"
            ],
            "text/plain": [
              "<IPython.core.display.HTML object>"
            ]
          },
          "metadata": {
            "tags": []
          }
        },
        {
          "output_type": "display_data",
          "data": {
            "text/html": [
              "<span style=\"color:cyan\"> |-Score: 0.2859399063246591</span>"
            ],
            "text/plain": [
              "<IPython.core.display.HTML object>"
            ]
          },
          "metadata": {
            "tags": []
          }
        },
        {
          "output_type": "display_data",
          "data": {
            "text/html": [
              "<span style=\"color:cyan\"> |-Best step: 0</span>"
            ],
            "text/plain": [
              "<IPython.core.display.HTML object>"
            ]
          },
          "metadata": {
            "tags": []
          }
        },
        {
          "output_type": "stream",
          "text": [
            "Epoch 1/50\n",
            "27/27 [==============================] - 2s 84ms/step - loss: 0.6805 - accuracy: 0.5905 - val_loss: 0.0000e+00 - val_accuracy: 0.0000e+00\n",
            "Epoch 2/50\n",
            "27/27 [==============================] - 1s 55ms/step - loss: 0.6102 - accuracy: 0.6071 - val_loss: 0.5897 - val_accuracy: 0.5687\n",
            "Epoch 3/50\n",
            "27/27 [==============================] - 2s 59ms/step - loss: 0.4134 - accuracy: 0.8402 - val_loss: 0.4098 - val_accuracy: 0.8626\n",
            "Epoch 4/50\n",
            "27/27 [==============================] - 2s 56ms/step - loss: 0.1959 - accuracy: 0.9669 - val_loss: 0.2973 - val_accuracy: 0.8910\n",
            "Epoch 5/50\n",
            "27/27 [==============================] - 2s 56ms/step - loss: 0.0771 - accuracy: 0.9941 - val_loss: 0.2782 - val_accuracy: 0.8957\n",
            "Epoch 6/50\n",
            "27/27 [==============================] - 1s 54ms/step - loss: 0.0386 - accuracy: 0.9917 - val_loss: 0.2849 - val_accuracy: 0.8910\n",
            "Epoch 7/50\n",
            "27/27 [==============================] - 1s 55ms/step - loss: 0.0200 - accuracy: 0.9976 - val_loss: 0.2976 - val_accuracy: 0.8910\n",
            "Epoch 8/50\n",
            "27/27 [==============================] - 2s 57ms/step - loss: 0.0122 - accuracy: 1.0000 - val_loss: 0.3093 - val_accuracy: 0.8863\n",
            "Epoch 9/50\n",
            "27/27 [==============================] - 2s 58ms/step - loss: 0.0086 - accuracy: 1.0000 - val_loss: 0.3209 - val_accuracy: 0.8863\n",
            "Epoch 10/50\n",
            "27/27 [==============================] - 2s 56ms/step - loss: 0.0059 - accuracy: 1.0000 - val_loss: 0.3323 - val_accuracy: 0.8910\n",
            "Epoch 11/50\n",
            "27/27 [==============================] - 1s 55ms/step - loss: 0.0045 - accuracy: 1.0000 - val_loss: 0.3388 - val_accuracy: 0.8910\n",
            "Epoch 12/50\n",
            "27/27 [==============================] - 2s 56ms/step - loss: 0.0033 - accuracy: 1.0000 - val_loss: 0.3482 - val_accuracy: 0.8910\n",
            "Epoch 13/50\n",
            "27/27 [==============================] - 1s 55ms/step - loss: 0.0029 - accuracy: 1.0000 - val_loss: 0.3550 - val_accuracy: 0.8957\n",
            "Epoch 14/50\n",
            "27/27 [==============================] - 1s 55ms/step - loss: 0.0023 - accuracy: 1.0000 - val_loss: 0.3640 - val_accuracy: 0.8957\n",
            "Epoch 15/50\n",
            "27/27 [==============================] - 1s 54ms/step - loss: 0.0019 - accuracy: 1.0000 - val_loss: 0.3690 - val_accuracy: 0.8957\n"
          ],
          "name": "stdout"
        },
        {
          "output_type": "display_data",
          "data": {
            "text/html": [
              "<span style=\"color:#4527A0\"><h1 style=\"font-size:18px\">Trial complete</h1></span>"
            ],
            "text/plain": [
              "<IPython.core.display.HTML object>"
            ]
          },
          "metadata": {
            "tags": []
          }
        },
        {
          "output_type": "display_data",
          "data": {
            "text/html": [
              "<span style=\"color:#4527A0\"><h1 style=\"font-size:18px\">Trial summary</h1></span>"
            ],
            "text/plain": [
              "<IPython.core.display.HTML object>"
            ]
          },
          "metadata": {
            "tags": []
          }
        },
        {
          "output_type": "display_data",
          "data": {
            "text/html": [
              "<span style=\"color:#7E57C2\"><h2 style=\"font-size:16px\">Hp values:</h2></span>"
            ],
            "text/plain": [
              "<IPython.core.display.HTML object>"
            ]
          },
          "metadata": {
            "tags": []
          }
        },
        {
          "output_type": "display_data",
          "data": {
            "text/html": [
              "<span style=\"color:cyan\"> |-dense_block_1/dropout_rate: 0.25</span>"
            ],
            "text/plain": [
              "<IPython.core.display.HTML object>"
            ]
          },
          "metadata": {
            "tags": []
          }
        },
        {
          "output_type": "display_data",
          "data": {
            "text/html": [
              "<span style=\"color:blue\"> |-dense_block_1/num_layers: 2</span>"
            ],
            "text/plain": [
              "<IPython.core.display.HTML object>"
            ]
          },
          "metadata": {
            "tags": []
          }
        },
        {
          "output_type": "display_data",
          "data": {
            "text/html": [
              "<span style=\"color:cyan\"> |-dense_block_1/units_0: 32</span>"
            ],
            "text/plain": [
              "<IPython.core.display.HTML object>"
            ]
          },
          "metadata": {
            "tags": []
          }
        },
        {
          "output_type": "display_data",
          "data": {
            "text/html": [
              "<span style=\"color:blue\"> |-dense_block_1/units_1: 128</span>"
            ],
            "text/plain": [
              "<IPython.core.display.HTML object>"
            ]
          },
          "metadata": {
            "tags": []
          }
        },
        {
          "output_type": "display_data",
          "data": {
            "text/html": [
              "<span style=\"color:cyan\"> |-dense_block_1/units_2: 256</span>"
            ],
            "text/plain": [
              "<IPython.core.display.HTML object>"
            ]
          },
          "metadata": {
            "tags": []
          }
        },
        {
          "output_type": "display_data",
          "data": {
            "text/html": [
              "<span style=\"color:blue\"> |-dense_block_1/use_batchnorm: False</span>"
            ],
            "text/plain": [
              "<IPython.core.display.HTML object>"
            ]
          },
          "metadata": {
            "tags": []
          }
        },
        {
          "output_type": "display_data",
          "data": {
            "text/html": [
              "<span style=\"color:cyan\"> |-optimizer: adam</span>"
            ],
            "text/plain": [
              "<IPython.core.display.HTML object>"
            ]
          },
          "metadata": {
            "tags": []
          }
        },
        {
          "output_type": "display_data",
          "data": {
            "text/html": [
              "<span style=\"color:cyan\"> |-Score: 0.2782226481607982</span>"
            ],
            "text/plain": [
              "<IPython.core.display.HTML object>"
            ]
          },
          "metadata": {
            "tags": []
          }
        },
        {
          "output_type": "display_data",
          "data": {
            "text/html": [
              "<span style=\"color:cyan\"> |-Best step: 0</span>"
            ],
            "text/plain": [
              "<IPython.core.display.HTML object>"
            ]
          },
          "metadata": {
            "tags": []
          }
        },
        {
          "output_type": "stream",
          "text": [
            "Epoch 1/50\n",
            "27/27 [==============================] - 2s 92ms/step - loss: 0.6346 - accuracy: 0.6024 - val_loss: 0.0000e+00 - val_accuracy: 0.0000e+00\n",
            "Epoch 2/50\n",
            "27/27 [==============================] - 2s 68ms/step - loss: 0.3056 - accuracy: 0.8828 - val_loss: 0.3179 - val_accuracy: 0.8910\n",
            "Epoch 3/50\n",
            "27/27 [==============================] - 2s 65ms/step - loss: 0.0436 - accuracy: 0.9905 - val_loss: 0.3534 - val_accuracy: 0.9005\n",
            "Epoch 4/50\n",
            "27/27 [==============================] - 2s 65ms/step - loss: 0.0097 - accuracy: 0.9976 - val_loss: 0.3580 - val_accuracy: 0.8910\n",
            "Epoch 5/50\n",
            "27/27 [==============================] - 2s 64ms/step - loss: 0.0029 - accuracy: 1.0000 - val_loss: 0.3786 - val_accuracy: 0.8910\n",
            "Epoch 6/50\n",
            "27/27 [==============================] - 2s 67ms/step - loss: 0.0014 - accuracy: 1.0000 - val_loss: 0.3878 - val_accuracy: 0.8957\n",
            "Epoch 7/50\n",
            "27/27 [==============================] - 2s 64ms/step - loss: 7.1605e-04 - accuracy: 1.0000 - val_loss: 0.3958 - val_accuracy: 0.8910\n",
            "Epoch 8/50\n",
            "27/27 [==============================] - 2s 65ms/step - loss: 5.7491e-04 - accuracy: 1.0000 - val_loss: 0.4033 - val_accuracy: 0.8957\n",
            "Epoch 9/50\n",
            "27/27 [==============================] - 2s 65ms/step - loss: 5.2933e-04 - accuracy: 1.0000 - val_loss: 0.4118 - val_accuracy: 0.8910\n",
            "Epoch 10/50\n",
            "27/27 [==============================] - 2s 66ms/step - loss: 3.2911e-04 - accuracy: 1.0000 - val_loss: 0.4194 - val_accuracy: 0.8910\n",
            "Epoch 11/50\n",
            "27/27 [==============================] - 2s 65ms/step - loss: 3.0085e-04 - accuracy: 1.0000 - val_loss: 0.4260 - val_accuracy: 0.8910\n",
            "Epoch 12/50\n",
            "27/27 [==============================] - 2s 66ms/step - loss: 2.4174e-04 - accuracy: 1.0000 - val_loss: 0.4317 - val_accuracy: 0.8910\n"
          ],
          "name": "stdout"
        },
        {
          "output_type": "display_data",
          "data": {
            "text/html": [
              "<span style=\"color:#4527A0\"><h1 style=\"font-size:18px\">Trial complete</h1></span>"
            ],
            "text/plain": [
              "<IPython.core.display.HTML object>"
            ]
          },
          "metadata": {
            "tags": []
          }
        },
        {
          "output_type": "display_data",
          "data": {
            "text/html": [
              "<span style=\"color:#4527A0\"><h1 style=\"font-size:18px\">Trial summary</h1></span>"
            ],
            "text/plain": [
              "<IPython.core.display.HTML object>"
            ]
          },
          "metadata": {
            "tags": []
          }
        },
        {
          "output_type": "display_data",
          "data": {
            "text/html": [
              "<span style=\"color:#7E57C2\"><h2 style=\"font-size:16px\">Hp values:</h2></span>"
            ],
            "text/plain": [
              "<IPython.core.display.HTML object>"
            ]
          },
          "metadata": {
            "tags": []
          }
        },
        {
          "output_type": "display_data",
          "data": {
            "text/html": [
              "<span style=\"color:cyan\"> |-dense_block_1/dropout_rate: 0.25</span>"
            ],
            "text/plain": [
              "<IPython.core.display.HTML object>"
            ]
          },
          "metadata": {
            "tags": []
          }
        },
        {
          "output_type": "display_data",
          "data": {
            "text/html": [
              "<span style=\"color:blue\"> |-dense_block_1/num_layers: 2</span>"
            ],
            "text/plain": [
              "<IPython.core.display.HTML object>"
            ]
          },
          "metadata": {
            "tags": []
          }
        },
        {
          "output_type": "display_data",
          "data": {
            "text/html": [
              "<span style=\"color:cyan\"> |-dense_block_1/units_0: 256</span>"
            ],
            "text/plain": [
              "<IPython.core.display.HTML object>"
            ]
          },
          "metadata": {
            "tags": []
          }
        },
        {
          "output_type": "display_data",
          "data": {
            "text/html": [
              "<span style=\"color:blue\"> |-dense_block_1/units_1: 512</span>"
            ],
            "text/plain": [
              "<IPython.core.display.HTML object>"
            ]
          },
          "metadata": {
            "tags": []
          }
        },
        {
          "output_type": "display_data",
          "data": {
            "text/html": [
              "<span style=\"color:cyan\"> |-dense_block_1/units_2: 512</span>"
            ],
            "text/plain": [
              "<IPython.core.display.HTML object>"
            ]
          },
          "metadata": {
            "tags": []
          }
        },
        {
          "output_type": "display_data",
          "data": {
            "text/html": [
              "<span style=\"color:blue\"> |-dense_block_1/use_batchnorm: False</span>"
            ],
            "text/plain": [
              "<IPython.core.display.HTML object>"
            ]
          },
          "metadata": {
            "tags": []
          }
        },
        {
          "output_type": "display_data",
          "data": {
            "text/html": [
              "<span style=\"color:cyan\"> |-optimizer: adam</span>"
            ],
            "text/plain": [
              "<IPython.core.display.HTML object>"
            ]
          },
          "metadata": {
            "tags": []
          }
        },
        {
          "output_type": "display_data",
          "data": {
            "text/html": [
              "<span style=\"color:cyan\"> |-Score: 0.31791031786373686</span>"
            ],
            "text/plain": [
              "<IPython.core.display.HTML object>"
            ]
          },
          "metadata": {
            "tags": []
          }
        },
        {
          "output_type": "display_data",
          "data": {
            "text/html": [
              "<span style=\"color:cyan\"> |-Best step: 0</span>"
            ],
            "text/plain": [
              "<IPython.core.display.HTML object>"
            ]
          },
          "metadata": {
            "tags": []
          }
        },
        {
          "output_type": "stream",
          "text": [
            "Epoch 1/50\n",
            "27/27 [==============================] - 3s 95ms/step - loss: 0.3812 - accuracy: 0.8284 - val_loss: 0.0000e+00 - val_accuracy: 0.0000e+00\n",
            "Epoch 2/50\n",
            "27/27 [==============================] - 2s 64ms/step - loss: 0.0371 - accuracy: 0.9953 - val_loss: 0.6037 - val_accuracy: 0.7346\n",
            "Epoch 3/50\n",
            "27/27 [==============================] - 2s 64ms/step - loss: 0.0158 - accuracy: 1.0000 - val_loss: 0.5829 - val_accuracy: 0.7773\n",
            "Epoch 4/50\n",
            "27/27 [==============================] - 2s 65ms/step - loss: 0.0095 - accuracy: 1.0000 - val_loss: 0.5623 - val_accuracy: 0.7915\n",
            "Epoch 5/50\n",
            "27/27 [==============================] - 2s 62ms/step - loss: 0.0066 - accuracy: 1.0000 - val_loss: 0.5406 - val_accuracy: 0.8104\n",
            "Epoch 6/50\n",
            "27/27 [==============================] - 2s 62ms/step - loss: 0.0048 - accuracy: 1.0000 - val_loss: 0.5178 - val_accuracy: 0.8436\n",
            "Epoch 7/50\n",
            "27/27 [==============================] - 2s 64ms/step - loss: 0.0037 - accuracy: 1.0000 - val_loss: 0.4939 - val_accuracy: 0.8436\n",
            "Epoch 8/50\n",
            "27/27 [==============================] - 2s 62ms/step - loss: 0.0030 - accuracy: 1.0000 - val_loss: 0.4693 - val_accuracy: 0.8531\n",
            "Epoch 9/50\n",
            "27/27 [==============================] - 2s 62ms/step - loss: 0.0024 - accuracy: 1.0000 - val_loss: 0.4442 - val_accuracy: 0.8673\n",
            "Epoch 10/50\n",
            "27/27 [==============================] - 2s 61ms/step - loss: 0.0020 - accuracy: 1.0000 - val_loss: 0.4190 - val_accuracy: 0.8768\n",
            "Epoch 11/50\n",
            "27/27 [==============================] - 2s 64ms/step - loss: 0.0017 - accuracy: 1.0000 - val_loss: 0.3943 - val_accuracy: 0.8768\n",
            "Epoch 12/50\n",
            "27/27 [==============================] - 2s 64ms/step - loss: 0.0015 - accuracy: 1.0000 - val_loss: 0.3707 - val_accuracy: 0.8910\n",
            "Epoch 13/50\n",
            "27/27 [==============================] - 2s 63ms/step - loss: 0.0013 - accuracy: 1.0000 - val_loss: 0.3490 - val_accuracy: 0.8910\n",
            "Epoch 14/50\n",
            "27/27 [==============================] - 2s 62ms/step - loss: 0.0011 - accuracy: 1.0000 - val_loss: 0.3297 - val_accuracy: 0.8863\n",
            "Epoch 15/50\n",
            "27/27 [==============================] - 2s 61ms/step - loss: 9.9801e-04 - accuracy: 1.0000 - val_loss: 0.3135 - val_accuracy: 0.8910\n",
            "Epoch 16/50\n",
            "27/27 [==============================] - 2s 66ms/step - loss: 8.9041e-04 - accuracy: 1.0000 - val_loss: 0.3007 - val_accuracy: 0.8957\n",
            "Epoch 17/50\n",
            "27/27 [==============================] - 2s 63ms/step - loss: 7.9971e-04 - accuracy: 1.0000 - val_loss: 0.2916 - val_accuracy: 0.9005\n",
            "Epoch 18/50\n",
            "27/27 [==============================] - 2s 63ms/step - loss: 7.2238e-04 - accuracy: 1.0000 - val_loss: 0.2861 - val_accuracy: 0.9005\n",
            "Epoch 19/50\n",
            "27/27 [==============================] - 2s 64ms/step - loss: 6.5588e-04 - accuracy: 1.0000 - val_loss: 0.2841 - val_accuracy: 0.9005\n",
            "Epoch 20/50\n",
            "27/27 [==============================] - 2s 62ms/step - loss: 5.9839e-04 - accuracy: 1.0000 - val_loss: 0.2851 - val_accuracy: 0.8957\n",
            "Epoch 21/50\n",
            "27/27 [==============================] - 2s 62ms/step - loss: 5.4821e-04 - accuracy: 1.0000 - val_loss: 0.2886 - val_accuracy: 0.8957\n",
            "Epoch 22/50\n",
            "27/27 [==============================] - 2s 64ms/step - loss: 5.0414e-04 - accuracy: 1.0000 - val_loss: 0.2939 - val_accuracy: 0.8957\n",
            "Epoch 23/50\n",
            "27/27 [==============================] - 2s 64ms/step - loss: 4.6524e-04 - accuracy: 1.0000 - val_loss: 0.3005 - val_accuracy: 0.8910\n",
            "Epoch 24/50\n",
            "27/27 [==============================] - 2s 64ms/step - loss: 4.3073e-04 - accuracy: 1.0000 - val_loss: 0.3078 - val_accuracy: 0.8863\n",
            "Epoch 25/50\n",
            "27/27 [==============================] - 2s 68ms/step - loss: 3.9994e-04 - accuracy: 1.0000 - val_loss: 0.3153 - val_accuracy: 0.8863\n",
            "Epoch 26/50\n",
            "27/27 [==============================] - 2s 67ms/step - loss: 3.7237e-04 - accuracy: 1.0000 - val_loss: 0.3225 - val_accuracy: 0.8863\n",
            "Epoch 27/50\n",
            "27/27 [==============================] - 2s 64ms/step - loss: 3.4756e-04 - accuracy: 1.0000 - val_loss: 0.3292 - val_accuracy: 0.8863\n",
            "Epoch 28/50\n",
            "27/27 [==============================] - 2s 63ms/step - loss: 3.2514e-04 - accuracy: 1.0000 - val_loss: 0.3354 - val_accuracy: 0.8815\n",
            "Epoch 29/50\n",
            "27/27 [==============================] - 2s 63ms/step - loss: 3.0485e-04 - accuracy: 1.0000 - val_loss: 0.3409 - val_accuracy: 0.8815\n"
          ],
          "name": "stdout"
        },
        {
          "output_type": "display_data",
          "data": {
            "text/html": [
              "<span style=\"color:#4527A0\"><h1 style=\"font-size:18px\">Trial complete</h1></span>"
            ],
            "text/plain": [
              "<IPython.core.display.HTML object>"
            ]
          },
          "metadata": {
            "tags": []
          }
        },
        {
          "output_type": "display_data",
          "data": {
            "text/html": [
              "<span style=\"color:#4527A0\"><h1 style=\"font-size:18px\">Trial summary</h1></span>"
            ],
            "text/plain": [
              "<IPython.core.display.HTML object>"
            ]
          },
          "metadata": {
            "tags": []
          }
        },
        {
          "output_type": "display_data",
          "data": {
            "text/html": [
              "<span style=\"color:#7E57C2\"><h2 style=\"font-size:16px\">Hp values:</h2></span>"
            ],
            "text/plain": [
              "<IPython.core.display.HTML object>"
            ]
          },
          "metadata": {
            "tags": []
          }
        },
        {
          "output_type": "display_data",
          "data": {
            "text/html": [
              "<span style=\"color:cyan\"> |-dense_block_1/dropout_rate: 0.0</span>"
            ],
            "text/plain": [
              "<IPython.core.display.HTML object>"
            ]
          },
          "metadata": {
            "tags": []
          }
        },
        {
          "output_type": "display_data",
          "data": {
            "text/html": [
              "<span style=\"color:blue\"> |-dense_block_1/num_layers: 1</span>"
            ],
            "text/plain": [
              "<IPython.core.display.HTML object>"
            ]
          },
          "metadata": {
            "tags": []
          }
        },
        {
          "output_type": "display_data",
          "data": {
            "text/html": [
              "<span style=\"color:cyan\"> |-dense_block_1/units_0: 256</span>"
            ],
            "text/plain": [
              "<IPython.core.display.HTML object>"
            ]
          },
          "metadata": {
            "tags": []
          }
        },
        {
          "output_type": "display_data",
          "data": {
            "text/html": [
              "<span style=\"color:blue\"> |-dense_block_1/units_1: 512</span>"
            ],
            "text/plain": [
              "<IPython.core.display.HTML object>"
            ]
          },
          "metadata": {
            "tags": []
          }
        },
        {
          "output_type": "display_data",
          "data": {
            "text/html": [
              "<span style=\"color:cyan\"> |-dense_block_1/units_2: 128</span>"
            ],
            "text/plain": [
              "<IPython.core.display.HTML object>"
            ]
          },
          "metadata": {
            "tags": []
          }
        },
        {
          "output_type": "display_data",
          "data": {
            "text/html": [
              "<span style=\"color:blue\"> |-dense_block_1/use_batchnorm: True</span>"
            ],
            "text/plain": [
              "<IPython.core.display.HTML object>"
            ]
          },
          "metadata": {
            "tags": []
          }
        },
        {
          "output_type": "display_data",
          "data": {
            "text/html": [
              "<span style=\"color:cyan\"> |-optimizer: adam</span>"
            ],
            "text/plain": [
              "<IPython.core.display.HTML object>"
            ]
          },
          "metadata": {
            "tags": []
          }
        },
        {
          "output_type": "display_data",
          "data": {
            "text/html": [
              "<span style=\"color:cyan\"> |-Score: 0.2840968945196697</span>"
            ],
            "text/plain": [
              "<IPython.core.display.HTML object>"
            ]
          },
          "metadata": {
            "tags": []
          }
        },
        {
          "output_type": "display_data",
          "data": {
            "text/html": [
              "<span style=\"color:cyan\"> |-Best step: 0</span>"
            ],
            "text/plain": [
              "<IPython.core.display.HTML object>"
            ]
          },
          "metadata": {
            "tags": []
          }
        },
        {
          "output_type": "stream",
          "text": [
            "Epoch 1/50\n",
            "27/27 [==============================] - 3s 128ms/step - loss: 0.7039 - accuracy: 0.5740 - val_loss: 0.0000e+00 - val_accuracy: 0.0000e+00\n",
            "Epoch 2/50\n",
            "27/27 [==============================] - 2s 61ms/step - loss: 0.5060 - accuracy: 0.7491 - val_loss: 0.6861 - val_accuracy: 0.5403\n",
            "Epoch 3/50\n",
            "27/27 [==============================] - 2s 62ms/step - loss: 0.3642 - accuracy: 0.8734 - val_loss: 0.6770 - val_accuracy: 0.5450\n",
            "Epoch 4/50\n",
            "27/27 [==============================] - 2s 63ms/step - loss: 0.2525 - accuracy: 0.9302 - val_loss: 0.6612 - val_accuracy: 0.6209\n",
            "Epoch 5/50\n",
            "27/27 [==============================] - 2s 59ms/step - loss: 0.1750 - accuracy: 0.9728 - val_loss: 0.6395 - val_accuracy: 0.7299\n",
            "Epoch 6/50\n",
            "27/27 [==============================] - 2s 60ms/step - loss: 0.1384 - accuracy: 0.9799 - val_loss: 0.6121 - val_accuracy: 0.7630\n",
            "Epoch 7/50\n",
            "27/27 [==============================] - 2s 61ms/step - loss: 0.0984 - accuracy: 0.9882 - val_loss: 0.5830 - val_accuracy: 0.7867\n",
            "Epoch 8/50\n",
            "27/27 [==============================] - 2s 58ms/step - loss: 0.0766 - accuracy: 0.9905 - val_loss: 0.5522 - val_accuracy: 0.7962\n",
            "Epoch 9/50\n",
            "27/27 [==============================] - 2s 62ms/step - loss: 0.0634 - accuracy: 0.9929 - val_loss: 0.5155 - val_accuracy: 0.8199\n",
            "Epoch 10/50\n",
            "27/27 [==============================] - 2s 63ms/step - loss: 0.0492 - accuracy: 0.9941 - val_loss: 0.4822 - val_accuracy: 0.8199\n",
            "Epoch 11/50\n",
            "27/27 [==============================] - 2s 58ms/step - loss: 0.0388 - accuracy: 1.0000 - val_loss: 0.4504 - val_accuracy: 0.8152\n",
            "Epoch 12/50\n",
            "27/27 [==============================] - 2s 61ms/step - loss: 0.0325 - accuracy: 0.9964 - val_loss: 0.4176 - val_accuracy: 0.8294\n",
            "Epoch 13/50\n",
            "27/27 [==============================] - 2s 60ms/step - loss: 0.0306 - accuracy: 1.0000 - val_loss: 0.3849 - val_accuracy: 0.8483\n",
            "Epoch 14/50\n",
            "27/27 [==============================] - 2s 63ms/step - loss: 0.0280 - accuracy: 0.9988 - val_loss: 0.3568 - val_accuracy: 0.8578\n",
            "Epoch 15/50\n",
            "27/27 [==============================] - 2s 58ms/step - loss: 0.0224 - accuracy: 0.9988 - val_loss: 0.3380 - val_accuracy: 0.8626\n",
            "Epoch 16/50\n",
            "27/27 [==============================] - 2s 60ms/step - loss: 0.0206 - accuracy: 0.9988 - val_loss: 0.3262 - val_accuracy: 0.8673\n",
            "Epoch 17/50\n",
            "27/27 [==============================] - 2s 61ms/step - loss: 0.0172 - accuracy: 1.0000 - val_loss: 0.3193 - val_accuracy: 0.8673\n",
            "Epoch 18/50\n",
            "27/27 [==============================] - 2s 62ms/step - loss: 0.0147 - accuracy: 1.0000 - val_loss: 0.3140 - val_accuracy: 0.8626\n",
            "Epoch 19/50\n",
            "27/27 [==============================] - 2s 59ms/step - loss: 0.0126 - accuracy: 0.9988 - val_loss: 0.3149 - val_accuracy: 0.8720\n",
            "Epoch 20/50\n",
            "27/27 [==============================] - 2s 59ms/step - loss: 0.0114 - accuracy: 1.0000 - val_loss: 0.3163 - val_accuracy: 0.8720\n",
            "Epoch 21/50\n",
            "27/27 [==============================] - 2s 62ms/step - loss: 0.0117 - accuracy: 1.0000 - val_loss: 0.3220 - val_accuracy: 0.8720\n",
            "Epoch 22/50\n",
            "27/27 [==============================] - 2s 59ms/step - loss: 0.0106 - accuracy: 0.9988 - val_loss: 0.3330 - val_accuracy: 0.8815\n",
            "Epoch 23/50\n",
            "27/27 [==============================] - 2s 61ms/step - loss: 0.0085 - accuracy: 1.0000 - val_loss: 0.3406 - val_accuracy: 0.8815\n",
            "Epoch 24/50\n",
            "27/27 [==============================] - 2s 61ms/step - loss: 0.0098 - accuracy: 0.9988 - val_loss: 0.3544 - val_accuracy: 0.8910\n",
            "Epoch 25/50\n",
            "27/27 [==============================] - 2s 61ms/step - loss: 0.0076 - accuracy: 1.0000 - val_loss: 0.3719 - val_accuracy: 0.8863\n",
            "Epoch 26/50\n",
            "27/27 [==============================] - 2s 61ms/step - loss: 0.0076 - accuracy: 1.0000 - val_loss: 0.3785 - val_accuracy: 0.8910\n",
            "Epoch 27/50\n",
            "27/27 [==============================] - 2s 60ms/step - loss: 0.0061 - accuracy: 1.0000 - val_loss: 0.3858 - val_accuracy: 0.8910\n",
            "Epoch 28/50\n",
            "27/27 [==============================] - 2s 58ms/step - loss: 0.0055 - accuracy: 1.0000 - val_loss: 0.3891 - val_accuracy: 0.8957\n"
          ],
          "name": "stdout"
        },
        {
          "output_type": "display_data",
          "data": {
            "text/html": [
              "<span style=\"color:#4527A0\"><h1 style=\"font-size:18px\">Trial complete</h1></span>"
            ],
            "text/plain": [
              "<IPython.core.display.HTML object>"
            ]
          },
          "metadata": {
            "tags": []
          }
        },
        {
          "output_type": "display_data",
          "data": {
            "text/html": [
              "<span style=\"color:#4527A0\"><h1 style=\"font-size:18px\">Trial summary</h1></span>"
            ],
            "text/plain": [
              "<IPython.core.display.HTML object>"
            ]
          },
          "metadata": {
            "tags": []
          }
        },
        {
          "output_type": "display_data",
          "data": {
            "text/html": [
              "<span style=\"color:#7E57C2\"><h2 style=\"font-size:16px\">Hp values:</h2></span>"
            ],
            "text/plain": [
              "<IPython.core.display.HTML object>"
            ]
          },
          "metadata": {
            "tags": []
          }
        },
        {
          "output_type": "display_data",
          "data": {
            "text/html": [
              "<span style=\"color:cyan\"> |-dense_block_1/dropout_rate: 0.25</span>"
            ],
            "text/plain": [
              "<IPython.core.display.HTML object>"
            ]
          },
          "metadata": {
            "tags": []
          }
        },
        {
          "output_type": "display_data",
          "data": {
            "text/html": [
              "<span style=\"color:blue\"> |-dense_block_1/num_layers: 3</span>"
            ],
            "text/plain": [
              "<IPython.core.display.HTML object>"
            ]
          },
          "metadata": {
            "tags": []
          }
        },
        {
          "output_type": "display_data",
          "data": {
            "text/html": [
              "<span style=\"color:cyan\"> |-dense_block_1/units_0: 128</span>"
            ],
            "text/plain": [
              "<IPython.core.display.HTML object>"
            ]
          },
          "metadata": {
            "tags": []
          }
        },
        {
          "output_type": "display_data",
          "data": {
            "text/html": [
              "<span style=\"color:blue\"> |-dense_block_1/units_1: 32</span>"
            ],
            "text/plain": [
              "<IPython.core.display.HTML object>"
            ]
          },
          "metadata": {
            "tags": []
          }
        },
        {
          "output_type": "display_data",
          "data": {
            "text/html": [
              "<span style=\"color:cyan\"> |-dense_block_1/units_2: 32</span>"
            ],
            "text/plain": [
              "<IPython.core.display.HTML object>"
            ]
          },
          "metadata": {
            "tags": []
          }
        },
        {
          "output_type": "display_data",
          "data": {
            "text/html": [
              "<span style=\"color:blue\"> |-dense_block_1/use_batchnorm: True</span>"
            ],
            "text/plain": [
              "<IPython.core.display.HTML object>"
            ]
          },
          "metadata": {
            "tags": []
          }
        },
        {
          "output_type": "display_data",
          "data": {
            "text/html": [
              "<span style=\"color:cyan\"> |-optimizer: adam</span>"
            ],
            "text/plain": [
              "<IPython.core.display.HTML object>"
            ]
          },
          "metadata": {
            "tags": []
          }
        },
        {
          "output_type": "display_data",
          "data": {
            "text/html": [
              "<span style=\"color:cyan\"> |-Score: 0.3139704955475671</span>"
            ],
            "text/plain": [
              "<IPython.core.display.HTML object>"
            ]
          },
          "metadata": {
            "tags": []
          }
        },
        {
          "output_type": "display_data",
          "data": {
            "text/html": [
              "<span style=\"color:cyan\"> |-Best step: 0</span>"
            ],
            "text/plain": [
              "<IPython.core.display.HTML object>"
            ]
          },
          "metadata": {
            "tags": []
          }
        },
        {
          "output_type": "stream",
          "text": [
            "Epoch 1/50\n",
            "27/27 [==============================] - 3s 105ms/step - loss: 0.6153 - accuracy: 0.6012 - val_loss: 0.0000e+00 - val_accuracy: 0.0000e+00\n",
            "Epoch 2/50\n",
            "27/27 [==============================] - 2s 74ms/step - loss: 0.1750 - accuracy: 0.9692 - val_loss: 0.4200 - val_accuracy: 0.8815\n",
            "Epoch 3/50\n",
            "27/27 [==============================] - 2s 72ms/step - loss: 0.0179 - accuracy: 0.9929 - val_loss: 0.4317 - val_accuracy: 0.8910\n",
            "Epoch 4/50\n",
            "27/27 [==============================] - 2s 74ms/step - loss: 0.0052 - accuracy: 0.9976 - val_loss: 0.4640 - val_accuracy: 0.9052\n",
            "Epoch 5/50\n",
            "27/27 [==============================] - 2s 77ms/step - loss: 5.7127e-04 - accuracy: 1.0000 - val_loss: 0.5824 - val_accuracy: 0.8720\n",
            "Epoch 6/50\n",
            "27/27 [==============================] - 2s 74ms/step - loss: 4.7977e-04 - accuracy: 1.0000 - val_loss: 0.5274 - val_accuracy: 0.8910\n",
            "Epoch 7/50\n",
            "27/27 [==============================] - 2s 75ms/step - loss: 1.6394e-04 - accuracy: 1.0000 - val_loss: 0.5323 - val_accuracy: 0.8957\n",
            "Epoch 8/50\n",
            "27/27 [==============================] - 2s 75ms/step - loss: 1.2433e-04 - accuracy: 1.0000 - val_loss: 0.5387 - val_accuracy: 0.8957\n",
            "Epoch 9/50\n",
            "27/27 [==============================] - 2s 76ms/step - loss: 8.9031e-05 - accuracy: 1.0000 - val_loss: 0.5447 - val_accuracy: 0.8957\n",
            "Epoch 10/50\n",
            "27/27 [==============================] - 2s 73ms/step - loss: 8.1494e-05 - accuracy: 1.0000 - val_loss: 0.5504 - val_accuracy: 0.8957\n",
            "Epoch 11/50\n",
            "27/27 [==============================] - 2s 73ms/step - loss: 7.2045e-05 - accuracy: 1.0000 - val_loss: 0.5560 - val_accuracy: 0.9005\n",
            "Epoch 12/50\n",
            "27/27 [==============================] - 2s 75ms/step - loss: 5.0649e-05 - accuracy: 1.0000 - val_loss: 0.5616 - val_accuracy: 0.9005\n"
          ],
          "name": "stdout"
        },
        {
          "output_type": "display_data",
          "data": {
            "text/html": [
              "<span style=\"color:#4527A0\"><h1 style=\"font-size:18px\">Trial complete</h1></span>"
            ],
            "text/plain": [
              "<IPython.core.display.HTML object>"
            ]
          },
          "metadata": {
            "tags": []
          }
        },
        {
          "output_type": "display_data",
          "data": {
            "text/html": [
              "<span style=\"color:#4527A0\"><h1 style=\"font-size:18px\">Trial summary</h1></span>"
            ],
            "text/plain": [
              "<IPython.core.display.HTML object>"
            ]
          },
          "metadata": {
            "tags": []
          }
        },
        {
          "output_type": "display_data",
          "data": {
            "text/html": [
              "<span style=\"color:#7E57C2\"><h2 style=\"font-size:16px\">Hp values:</h2></span>"
            ],
            "text/plain": [
              "<IPython.core.display.HTML object>"
            ]
          },
          "metadata": {
            "tags": []
          }
        },
        {
          "output_type": "display_data",
          "data": {
            "text/html": [
              "<span style=\"color:cyan\"> |-dense_block_1/dropout_rate: 0.25</span>"
            ],
            "text/plain": [
              "<IPython.core.display.HTML object>"
            ]
          },
          "metadata": {
            "tags": []
          }
        },
        {
          "output_type": "display_data",
          "data": {
            "text/html": [
              "<span style=\"color:blue\"> |-dense_block_1/num_layers: 3</span>"
            ],
            "text/plain": [
              "<IPython.core.display.HTML object>"
            ]
          },
          "metadata": {
            "tags": []
          }
        },
        {
          "output_type": "display_data",
          "data": {
            "text/html": [
              "<span style=\"color:cyan\"> |-dense_block_1/units_0: 512</span>"
            ],
            "text/plain": [
              "<IPython.core.display.HTML object>"
            ]
          },
          "metadata": {
            "tags": []
          }
        },
        {
          "output_type": "display_data",
          "data": {
            "text/html": [
              "<span style=\"color:blue\"> |-dense_block_1/units_1: 512</span>"
            ],
            "text/plain": [
              "<IPython.core.display.HTML object>"
            ]
          },
          "metadata": {
            "tags": []
          }
        },
        {
          "output_type": "display_data",
          "data": {
            "text/html": [
              "<span style=\"color:cyan\"> |-dense_block_1/units_2: 128</span>"
            ],
            "text/plain": [
              "<IPython.core.display.HTML object>"
            ]
          },
          "metadata": {
            "tags": []
          }
        },
        {
          "output_type": "display_data",
          "data": {
            "text/html": [
              "<span style=\"color:blue\"> |-dense_block_1/use_batchnorm: False</span>"
            ],
            "text/plain": [
              "<IPython.core.display.HTML object>"
            ]
          },
          "metadata": {
            "tags": []
          }
        },
        {
          "output_type": "display_data",
          "data": {
            "text/html": [
              "<span style=\"color:cyan\"> |-optimizer: adam</span>"
            ],
            "text/plain": [
              "<IPython.core.display.HTML object>"
            ]
          },
          "metadata": {
            "tags": []
          }
        },
        {
          "output_type": "display_data",
          "data": {
            "text/html": [
              "<span style=\"color:cyan\"> |-Score: 0.41996815694229944</span>"
            ],
            "text/plain": [
              "<IPython.core.display.HTML object>"
            ]
          },
          "metadata": {
            "tags": []
          }
        },
        {
          "output_type": "display_data",
          "data": {
            "text/html": [
              "<span style=\"color:cyan\"> |-Best step: 0</span>"
            ],
            "text/plain": [
              "<IPython.core.display.HTML object>"
            ]
          },
          "metadata": {
            "tags": []
          }
        },
        {
          "output_type": "stream",
          "text": [
            "Epoch 1/50\n",
            "27/27 [==============================] - 3s 111ms/step - loss: 0.8213 - accuracy: 0.5148 - val_loss: 0.0000e+00 - val_accuracy: 0.0000e+00\n",
            "Epoch 2/50\n",
            "27/27 [==============================] - 2s 58ms/step - loss: 0.6594 - accuracy: 0.6189 - val_loss: 0.6864 - val_accuracy: 0.5735\n",
            "Epoch 3/50\n",
            "27/27 [==============================] - 2s 58ms/step - loss: 0.5732 - accuracy: 0.6876 - val_loss: 0.6800 - val_accuracy: 0.6445\n",
            "Epoch 4/50\n",
            "27/27 [==============================] - 2s 58ms/step - loss: 0.4969 - accuracy: 0.7538 - val_loss: 0.6713 - val_accuracy: 0.7725\n",
            "Epoch 5/50\n",
            "27/27 [==============================] - 2s 58ms/step - loss: 0.4400 - accuracy: 0.7858 - val_loss: 0.6584 - val_accuracy: 0.8246\n",
            "Epoch 6/50\n",
            "27/27 [==============================] - 2s 56ms/step - loss: 0.3786 - accuracy: 0.8296 - val_loss: 0.6420 - val_accuracy: 0.8436\n",
            "Epoch 7/50\n",
            "27/27 [==============================] - 2s 58ms/step - loss: 0.3457 - accuracy: 0.8485 - val_loss: 0.6240 - val_accuracy: 0.8531\n",
            "Epoch 8/50\n",
            "27/27 [==============================] - 2s 58ms/step - loss: 0.3216 - accuracy: 0.8627 - val_loss: 0.6056 - val_accuracy: 0.8531\n",
            "Epoch 9/50\n",
            "27/27 [==============================] - 2s 58ms/step - loss: 0.2910 - accuracy: 0.8852 - val_loss: 0.5813 - val_accuracy: 0.8531\n",
            "Epoch 10/50\n",
            "27/27 [==============================] - 2s 56ms/step - loss: 0.2542 - accuracy: 0.9065 - val_loss: 0.5546 - val_accuracy: 0.8483\n",
            "Epoch 11/50\n",
            "27/27 [==============================] - 2s 60ms/step - loss: 0.2396 - accuracy: 0.9018 - val_loss: 0.5248 - val_accuracy: 0.8531\n",
            "Epoch 12/50\n",
            "27/27 [==============================] - 1s 53ms/step - loss: 0.2168 - accuracy: 0.9183 - val_loss: 0.4922 - val_accuracy: 0.8531\n",
            "Epoch 13/50\n",
            "27/27 [==============================] - 2s 57ms/step - loss: 0.1870 - accuracy: 0.9396 - val_loss: 0.4558 - val_accuracy: 0.8578\n",
            "Epoch 14/50\n",
            "27/27 [==============================] - 1s 55ms/step - loss: 0.1917 - accuracy: 0.9195 - val_loss: 0.4197 - val_accuracy: 0.8626\n",
            "Epoch 15/50\n",
            "27/27 [==============================] - 2s 58ms/step - loss: 0.1508 - accuracy: 0.9574 - val_loss: 0.3892 - val_accuracy: 0.8578\n",
            "Epoch 16/50\n",
            "27/27 [==============================] - 2s 57ms/step - loss: 0.1670 - accuracy: 0.9385 - val_loss: 0.3571 - val_accuracy: 0.8673\n",
            "Epoch 17/50\n",
            "27/27 [==============================] - 2s 58ms/step - loss: 0.1306 - accuracy: 0.9609 - val_loss: 0.3318 - val_accuracy: 0.8815\n",
            "Epoch 18/50\n",
            "27/27 [==============================] - 1s 54ms/step - loss: 0.1235 - accuracy: 0.9645 - val_loss: 0.3107 - val_accuracy: 0.8768\n",
            "Epoch 19/50\n",
            "27/27 [==============================] - 2s 57ms/step - loss: 0.1259 - accuracy: 0.9621 - val_loss: 0.2946 - val_accuracy: 0.8768\n",
            "Epoch 20/50\n",
            "27/27 [==============================] - 2s 57ms/step - loss: 0.1129 - accuracy: 0.9692 - val_loss: 0.2826 - val_accuracy: 0.8863\n",
            "Epoch 21/50\n",
            "27/27 [==============================] - 2s 58ms/step - loss: 0.1000 - accuracy: 0.9740 - val_loss: 0.2742 - val_accuracy: 0.8863\n",
            "Epoch 22/50\n",
            "27/27 [==============================] - 2s 57ms/step - loss: 0.1019 - accuracy: 0.9609 - val_loss: 0.2677 - val_accuracy: 0.8957\n",
            "Epoch 23/50\n",
            "27/27 [==============================] - 2s 57ms/step - loss: 0.0927 - accuracy: 0.9680 - val_loss: 0.2689 - val_accuracy: 0.8910\n",
            "Epoch 24/50\n",
            "27/27 [==============================] - 2s 59ms/step - loss: 0.0933 - accuracy: 0.9704 - val_loss: 0.2732 - val_accuracy: 0.8910\n",
            "Epoch 25/50\n",
            "27/27 [==============================] - 2s 57ms/step - loss: 0.0825 - accuracy: 0.9716 - val_loss: 0.2771 - val_accuracy: 0.8957\n",
            "Epoch 26/50\n",
            "27/27 [==============================] - 1s 54ms/step - loss: 0.0859 - accuracy: 0.9645 - val_loss: 0.2806 - val_accuracy: 0.8910\n",
            "Epoch 27/50\n",
            "27/27 [==============================] - 2s 56ms/step - loss: 0.0726 - accuracy: 0.9763 - val_loss: 0.2818 - val_accuracy: 0.8910\n",
            "Epoch 28/50\n",
            "27/27 [==============================] - 2s 56ms/step - loss: 0.0701 - accuracy: 0.9763 - val_loss: 0.2782 - val_accuracy: 0.8957\n",
            "Epoch 29/50\n",
            "27/27 [==============================] - 2s 57ms/step - loss: 0.0712 - accuracy: 0.9728 - val_loss: 0.2792 - val_accuracy: 0.9005\n",
            "Epoch 30/50\n",
            "27/27 [==============================] - 2s 57ms/step - loss: 0.0644 - accuracy: 0.9787 - val_loss: 0.2813 - val_accuracy: 0.8957\n",
            "Epoch 31/50\n",
            "27/27 [==============================] - 2s 56ms/step - loss: 0.0700 - accuracy: 0.9740 - val_loss: 0.2800 - val_accuracy: 0.8957\n",
            "Epoch 32/50\n",
            "27/27 [==============================] - 2s 56ms/step - loss: 0.0648 - accuracy: 0.9763 - val_loss: 0.2827 - val_accuracy: 0.8957\n"
          ],
          "name": "stdout"
        },
        {
          "output_type": "display_data",
          "data": {
            "text/html": [
              "<span style=\"color:#4527A0\"><h1 style=\"font-size:18px\">Trial complete</h1></span>"
            ],
            "text/plain": [
              "<IPython.core.display.HTML object>"
            ]
          },
          "metadata": {
            "tags": []
          }
        },
        {
          "output_type": "display_data",
          "data": {
            "text/html": [
              "<span style=\"color:#4527A0\"><h1 style=\"font-size:18px\">Trial summary</h1></span>"
            ],
            "text/plain": [
              "<IPython.core.display.HTML object>"
            ]
          },
          "metadata": {
            "tags": []
          }
        },
        {
          "output_type": "display_data",
          "data": {
            "text/html": [
              "<span style=\"color:#7E57C2\"><h2 style=\"font-size:16px\">Hp values:</h2></span>"
            ],
            "text/plain": [
              "<IPython.core.display.HTML object>"
            ]
          },
          "metadata": {
            "tags": []
          }
        },
        {
          "output_type": "display_data",
          "data": {
            "text/html": [
              "<span style=\"color:cyan\"> |-dense_block_1/dropout_rate: 0.5</span>"
            ],
            "text/plain": [
              "<IPython.core.display.HTML object>"
            ]
          },
          "metadata": {
            "tags": []
          }
        },
        {
          "output_type": "display_data",
          "data": {
            "text/html": [
              "<span style=\"color:blue\"> |-dense_block_1/num_layers: 2</span>"
            ],
            "text/plain": [
              "<IPython.core.display.HTML object>"
            ]
          },
          "metadata": {
            "tags": []
          }
        },
        {
          "output_type": "display_data",
          "data": {
            "text/html": [
              "<span style=\"color:cyan\"> |-dense_block_1/units_0: 16</span>"
            ],
            "text/plain": [
              "<IPython.core.display.HTML object>"
            ]
          },
          "metadata": {
            "tags": []
          }
        },
        {
          "output_type": "display_data",
          "data": {
            "text/html": [
              "<span style=\"color:blue\"> |-dense_block_1/units_1: 32</span>"
            ],
            "text/plain": [
              "<IPython.core.display.HTML object>"
            ]
          },
          "metadata": {
            "tags": []
          }
        },
        {
          "output_type": "display_data",
          "data": {
            "text/html": [
              "<span style=\"color:cyan\"> |-dense_block_1/units_2: 1024</span>"
            ],
            "text/plain": [
              "<IPython.core.display.HTML object>"
            ]
          },
          "metadata": {
            "tags": []
          }
        },
        {
          "output_type": "display_data",
          "data": {
            "text/html": [
              "<span style=\"color:blue\"> |-dense_block_1/use_batchnorm: True</span>"
            ],
            "text/plain": [
              "<IPython.core.display.HTML object>"
            ]
          },
          "metadata": {
            "tags": []
          }
        },
        {
          "output_type": "display_data",
          "data": {
            "text/html": [
              "<span style=\"color:cyan\"> |-optimizer: adam</span>"
            ],
            "text/plain": [
              "<IPython.core.display.HTML object>"
            ]
          },
          "metadata": {
            "tags": []
          }
        },
        {
          "output_type": "display_data",
          "data": {
            "text/html": [
              "<span style=\"color:cyan\"> |-Score: 0.2677438812596457</span>"
            ],
            "text/plain": [
              "<IPython.core.display.HTML object>"
            ]
          },
          "metadata": {
            "tags": []
          }
        },
        {
          "output_type": "display_data",
          "data": {
            "text/html": [
              "<span style=\"color:cyan\"> |-Best step: 0</span>"
            ],
            "text/plain": [
              "<IPython.core.display.HTML object>"
            ]
          },
          "metadata": {
            "tags": []
          }
        },
        {
          "output_type": "stream",
          "text": [
            "Epoch 1/50\n",
            "27/27 [==============================] - 4s 139ms/step - loss: 0.3927 - accuracy: 0.8000 - val_loss: 0.0000e+00 - val_accuracy: 0.0000e+00\n",
            "Epoch 2/50\n",
            "27/27 [==============================] - 2s 79ms/step - loss: 0.0213 - accuracy: 0.9905 - val_loss: 0.6363 - val_accuracy: 0.5403\n",
            "Epoch 3/50\n",
            "27/27 [==============================] - 2s 75ms/step - loss: 0.0037 - accuracy: 0.9988 - val_loss: 0.6198 - val_accuracy: 0.5450\n",
            "Epoch 4/50\n",
            "27/27 [==============================] - 2s 77ms/step - loss: 0.0012 - accuracy: 1.0000 - val_loss: 0.6125 - val_accuracy: 0.5450\n",
            "Epoch 5/50\n",
            "27/27 [==============================] - 2s 74ms/step - loss: 8.3503e-04 - accuracy: 1.0000 - val_loss: 0.5922 - val_accuracy: 0.5640\n",
            "Epoch 6/50\n",
            "27/27 [==============================] - 2s 75ms/step - loss: 6.2517e-04 - accuracy: 1.0000 - val_loss: 0.5706 - val_accuracy: 0.5829\n",
            "Epoch 7/50\n",
            "27/27 [==============================] - 2s 76ms/step - loss: 5.0730e-04 - accuracy: 1.0000 - val_loss: 0.5476 - val_accuracy: 0.6303\n",
            "Epoch 8/50\n",
            "27/27 [==============================] - 2s 74ms/step - loss: 4.2799e-04 - accuracy: 1.0000 - val_loss: 0.5225 - val_accuracy: 0.6730\n",
            "Epoch 9/50\n",
            "27/27 [==============================] - 2s 77ms/step - loss: 3.6946e-04 - accuracy: 1.0000 - val_loss: 0.4952 - val_accuracy: 0.7251\n",
            "Epoch 10/50\n",
            "27/27 [==============================] - 2s 76ms/step - loss: 3.2422e-04 - accuracy: 1.0000 - val_loss: 0.4660 - val_accuracy: 0.7725\n",
            "Epoch 11/50\n",
            "27/27 [==============================] - 2s 77ms/step - loss: 2.8804e-04 - accuracy: 1.0000 - val_loss: 0.4358 - val_accuracy: 0.8152\n",
            "Epoch 12/50\n",
            "27/27 [==============================] - 2s 75ms/step - loss: 2.5845e-04 - accuracy: 1.0000 - val_loss: 0.4058 - val_accuracy: 0.8104\n",
            "Epoch 13/50\n",
            "27/27 [==============================] - 2s 75ms/step - loss: 2.3385e-04 - accuracy: 1.0000 - val_loss: 0.3772 - val_accuracy: 0.8199\n",
            "Epoch 14/50\n",
            "27/27 [==============================] - 2s 74ms/step - loss: 2.1305e-04 - accuracy: 1.0000 - val_loss: 0.3524 - val_accuracy: 0.8483\n",
            "Epoch 15/50\n",
            "27/27 [==============================] - 2s 75ms/step - loss: 1.9523e-04 - accuracy: 1.0000 - val_loss: 0.3323 - val_accuracy: 0.8483\n",
            "Epoch 16/50\n",
            "27/27 [==============================] - 2s 74ms/step - loss: 1.7980e-04 - accuracy: 1.0000 - val_loss: 0.3175 - val_accuracy: 0.8531\n",
            "Epoch 17/50\n",
            "27/27 [==============================] - 2s 77ms/step - loss: 1.6631e-04 - accuracy: 1.0000 - val_loss: 0.3088 - val_accuracy: 0.8483\n",
            "Epoch 18/50\n",
            "27/27 [==============================] - 2s 75ms/step - loss: 1.5444e-04 - accuracy: 1.0000 - val_loss: 0.3061 - val_accuracy: 0.8578\n",
            "Epoch 19/50\n",
            "27/27 [==============================] - 2s 75ms/step - loss: 1.4394e-04 - accuracy: 1.0000 - val_loss: 0.3085 - val_accuracy: 0.8626\n",
            "Epoch 20/50\n",
            "27/27 [==============================] - 2s 76ms/step - loss: 1.3457e-04 - accuracy: 1.0000 - val_loss: 0.3147 - val_accuracy: 0.8863\n",
            "Epoch 21/50\n",
            "27/27 [==============================] - 2s 76ms/step - loss: 1.2617e-04 - accuracy: 1.0000 - val_loss: 0.3241 - val_accuracy: 0.8910\n",
            "Epoch 22/50\n",
            "27/27 [==============================] - 2s 74ms/step - loss: 1.1860e-04 - accuracy: 1.0000 - val_loss: 0.3359 - val_accuracy: 0.8910\n",
            "Epoch 23/50\n",
            "27/27 [==============================] - 2s 73ms/step - loss: 1.1177e-04 - accuracy: 1.0000 - val_loss: 0.3493 - val_accuracy: 0.8910\n",
            "Epoch 24/50\n",
            "27/27 [==============================] - 2s 73ms/step - loss: 1.0556e-04 - accuracy: 1.0000 - val_loss: 0.3632 - val_accuracy: 0.8768\n",
            "Epoch 25/50\n",
            "27/27 [==============================] - 2s 75ms/step - loss: 9.9905e-05 - accuracy: 1.0000 - val_loss: 0.3769 - val_accuracy: 0.8768\n",
            "Epoch 26/50\n",
            "27/27 [==============================] - 2s 73ms/step - loss: 9.4729e-05 - accuracy: 1.0000 - val_loss: 0.3896 - val_accuracy: 0.8768\n",
            "Epoch 27/50\n",
            "27/27 [==============================] - 2s 73ms/step - loss: 8.9976e-05 - accuracy: 1.0000 - val_loss: 0.4009 - val_accuracy: 0.8815\n",
            "Epoch 28/50\n",
            "27/27 [==============================] - 2s 77ms/step - loss: 8.5601e-05 - accuracy: 1.0000 - val_loss: 0.4107 - val_accuracy: 0.8815\n"
          ],
          "name": "stdout"
        },
        {
          "output_type": "display_data",
          "data": {
            "text/html": [
              "<span style=\"color:#4527A0\"><h1 style=\"font-size:18px\">Trial complete</h1></span>"
            ],
            "text/plain": [
              "<IPython.core.display.HTML object>"
            ]
          },
          "metadata": {
            "tags": []
          }
        },
        {
          "output_type": "display_data",
          "data": {
            "text/html": [
              "<span style=\"color:#4527A0\"><h1 style=\"font-size:18px\">Trial summary</h1></span>"
            ],
            "text/plain": [
              "<IPython.core.display.HTML object>"
            ]
          },
          "metadata": {
            "tags": []
          }
        },
        {
          "output_type": "display_data",
          "data": {
            "text/html": [
              "<span style=\"color:#7E57C2\"><h2 style=\"font-size:16px\">Hp values:</h2></span>"
            ],
            "text/plain": [
              "<IPython.core.display.HTML object>"
            ]
          },
          "metadata": {
            "tags": []
          }
        },
        {
          "output_type": "display_data",
          "data": {
            "text/html": [
              "<span style=\"color:cyan\"> |-dense_block_1/dropout_rate: 0.0</span>"
            ],
            "text/plain": [
              "<IPython.core.display.HTML object>"
            ]
          },
          "metadata": {
            "tags": []
          }
        },
        {
          "output_type": "display_data",
          "data": {
            "text/html": [
              "<span style=\"color:blue\"> |-dense_block_1/num_layers: 3</span>"
            ],
            "text/plain": [
              "<IPython.core.display.HTML object>"
            ]
          },
          "metadata": {
            "tags": []
          }
        },
        {
          "output_type": "display_data",
          "data": {
            "text/html": [
              "<span style=\"color:cyan\"> |-dense_block_1/units_0: 512</span>"
            ],
            "text/plain": [
              "<IPython.core.display.HTML object>"
            ]
          },
          "metadata": {
            "tags": []
          }
        },
        {
          "output_type": "display_data",
          "data": {
            "text/html": [
              "<span style=\"color:blue\"> |-dense_block_1/units_1: 256</span>"
            ],
            "text/plain": [
              "<IPython.core.display.HTML object>"
            ]
          },
          "metadata": {
            "tags": []
          }
        },
        {
          "output_type": "display_data",
          "data": {
            "text/html": [
              "<span style=\"color:cyan\"> |-dense_block_1/units_2: 512</span>"
            ],
            "text/plain": [
              "<IPython.core.display.HTML object>"
            ]
          },
          "metadata": {
            "tags": []
          }
        },
        {
          "output_type": "display_data",
          "data": {
            "text/html": [
              "<span style=\"color:blue\"> |-dense_block_1/use_batchnorm: True</span>"
            ],
            "text/plain": [
              "<IPython.core.display.HTML object>"
            ]
          },
          "metadata": {
            "tags": []
          }
        },
        {
          "output_type": "display_data",
          "data": {
            "text/html": [
              "<span style=\"color:cyan\"> |-optimizer: adam</span>"
            ],
            "text/plain": [
              "<IPython.core.display.HTML object>"
            ]
          },
          "metadata": {
            "tags": []
          }
        },
        {
          "output_type": "display_data",
          "data": {
            "text/html": [
              "<span style=\"color:cyan\"> |-Score: 0.30610997336251394</span>"
            ],
            "text/plain": [
              "<IPython.core.display.HTML object>"
            ]
          },
          "metadata": {
            "tags": []
          }
        },
        {
          "output_type": "display_data",
          "data": {
            "text/html": [
              "<span style=\"color:cyan\"> |-Best step: 0</span>"
            ],
            "text/plain": [
              "<IPython.core.display.HTML object>"
            ]
          },
          "metadata": {
            "tags": []
          }
        },
        {
          "output_type": "stream",
          "text": [
            "Epoch 1/50\n",
            "27/27 [==============================] - 3s 122ms/step - loss: 0.6333 - accuracy: 0.6592 - val_loss: 0.0000e+00 - val_accuracy: 0.0000e+00\n",
            "Epoch 2/50\n",
            "27/27 [==============================] - 2s 57ms/step - loss: 0.2554 - accuracy: 0.9408 - val_loss: 0.6835 - val_accuracy: 0.5403\n",
            "Epoch 3/50\n",
            "27/27 [==============================] - 2s 58ms/step - loss: 0.0923 - accuracy: 0.9905 - val_loss: 0.6844 - val_accuracy: 0.5403\n",
            "Epoch 4/50\n",
            "27/27 [==============================] - 2s 58ms/step - loss: 0.0347 - accuracy: 0.9988 - val_loss: 0.6942 - val_accuracy: 0.5403\n",
            "Epoch 5/50\n",
            "27/27 [==============================] - 2s 60ms/step - loss: 0.0179 - accuracy: 0.9988 - val_loss: 0.7089 - val_accuracy: 0.5403\n",
            "Epoch 6/50\n",
            "27/27 [==============================] - 2s 57ms/step - loss: 0.0118 - accuracy: 0.9988 - val_loss: 0.7267 - val_accuracy: 0.5403\n",
            "Epoch 7/50\n",
            "27/27 [==============================] - 2s 58ms/step - loss: 0.0088 - accuracy: 0.9988 - val_loss: 0.7416 - val_accuracy: 0.5403\n",
            "Epoch 8/50\n",
            "27/27 [==============================] - 2s 57ms/step - loss: 0.0063 - accuracy: 1.0000 - val_loss: 0.7524 - val_accuracy: 0.5403\n",
            "Epoch 9/50\n",
            "27/27 [==============================] - 2s 58ms/step - loss: 0.0049 - accuracy: 1.0000 - val_loss: 0.7555 - val_accuracy: 0.5450\n",
            "Epoch 10/50\n",
            "27/27 [==============================] - 2s 58ms/step - loss: 0.0040 - accuracy: 1.0000 - val_loss: 0.7489 - val_accuracy: 0.5592\n",
            "Epoch 11/50\n",
            "27/27 [==============================] - 2s 61ms/step - loss: 0.0034 - accuracy: 1.0000 - val_loss: 0.7330 - val_accuracy: 0.5640\n",
            "Epoch 12/50\n",
            "27/27 [==============================] - 2s 57ms/step - loss: 0.0029 - accuracy: 1.0000 - val_loss: 0.7093 - val_accuracy: 0.6066\n"
          ],
          "name": "stdout"
        },
        {
          "output_type": "display_data",
          "data": {
            "text/html": [
              "<span style=\"color:#4527A0\"><h1 style=\"font-size:18px\">Trial complete</h1></span>"
            ],
            "text/plain": [
              "<IPython.core.display.HTML object>"
            ]
          },
          "metadata": {
            "tags": []
          }
        },
        {
          "output_type": "display_data",
          "data": {
            "text/html": [
              "<span style=\"color:#4527A0\"><h1 style=\"font-size:18px\">Trial summary</h1></span>"
            ],
            "text/plain": [
              "<IPython.core.display.HTML object>"
            ]
          },
          "metadata": {
            "tags": []
          }
        },
        {
          "output_type": "display_data",
          "data": {
            "text/html": [
              "<span style=\"color:#7E57C2\"><h2 style=\"font-size:16px\">Hp values:</h2></span>"
            ],
            "text/plain": [
              "<IPython.core.display.HTML object>"
            ]
          },
          "metadata": {
            "tags": []
          }
        },
        {
          "output_type": "display_data",
          "data": {
            "text/html": [
              "<span style=\"color:cyan\"> |-dense_block_1/dropout_rate: 0.0</span>"
            ],
            "text/plain": [
              "<IPython.core.display.HTML object>"
            ]
          },
          "metadata": {
            "tags": []
          }
        },
        {
          "output_type": "display_data",
          "data": {
            "text/html": [
              "<span style=\"color:blue\"> |-dense_block_1/num_layers: 3</span>"
            ],
            "text/plain": [
              "<IPython.core.display.HTML object>"
            ]
          },
          "metadata": {
            "tags": []
          }
        },
        {
          "output_type": "display_data",
          "data": {
            "text/html": [
              "<span style=\"color:cyan\"> |-dense_block_1/units_0: 32</span>"
            ],
            "text/plain": [
              "<IPython.core.display.HTML object>"
            ]
          },
          "metadata": {
            "tags": []
          }
        },
        {
          "output_type": "display_data",
          "data": {
            "text/html": [
              "<span style=\"color:blue\"> |-dense_block_1/units_1: 16</span>"
            ],
            "text/plain": [
              "<IPython.core.display.HTML object>"
            ]
          },
          "metadata": {
            "tags": []
          }
        },
        {
          "output_type": "display_data",
          "data": {
            "text/html": [
              "<span style=\"color:cyan\"> |-dense_block_1/units_2: 128</span>"
            ],
            "text/plain": [
              "<IPython.core.display.HTML object>"
            ]
          },
          "metadata": {
            "tags": []
          }
        },
        {
          "output_type": "display_data",
          "data": {
            "text/html": [
              "<span style=\"color:blue\"> |-dense_block_1/use_batchnorm: True</span>"
            ],
            "text/plain": [
              "<IPython.core.display.HTML object>"
            ]
          },
          "metadata": {
            "tags": []
          }
        },
        {
          "output_type": "display_data",
          "data": {
            "text/html": [
              "<span style=\"color:cyan\"> |-optimizer: adam</span>"
            ],
            "text/plain": [
              "<IPython.core.display.HTML object>"
            ]
          },
          "metadata": {
            "tags": []
          }
        },
        {
          "output_type": "display_data",
          "data": {
            "text/html": [
              "<span style=\"color:cyan\"> |-Score: 0.6835401739392962</span>"
            ],
            "text/plain": [
              "<IPython.core.display.HTML object>"
            ]
          },
          "metadata": {
            "tags": []
          }
        },
        {
          "output_type": "display_data",
          "data": {
            "text/html": [
              "<span style=\"color:cyan\"> |-Best step: 0</span>"
            ],
            "text/plain": [
              "<IPython.core.display.HTML object>"
            ]
          },
          "metadata": {
            "tags": []
          }
        },
        {
          "output_type": "stream",
          "text": [
            "Epoch 1/50\n",
            "27/27 [==============================] - 2s 80ms/step - loss: 0.6725 - accuracy: 0.6260 - val_loss: 0.0000e+00 - val_accuracy: 0.0000e+00\n",
            "Epoch 2/50\n",
            "27/27 [==============================] - 1s 55ms/step - loss: 0.5823 - accuracy: 0.8178 - val_loss: 0.5709 - val_accuracy: 0.7915\n",
            "Epoch 3/50\n",
            "27/27 [==============================] - 1s 55ms/step - loss: 0.4514 - accuracy: 0.9503 - val_loss: 0.4706 - val_accuracy: 0.8673\n",
            "Epoch 4/50\n",
            "27/27 [==============================] - 2s 56ms/step - loss: 0.3213 - accuracy: 0.9834 - val_loss: 0.3908 - val_accuracy: 0.8815\n",
            "Epoch 5/50\n",
            "27/27 [==============================] - 2s 59ms/step - loss: 0.2247 - accuracy: 0.9893 - val_loss: 0.3394 - val_accuracy: 0.8910\n",
            "Epoch 6/50\n",
            "27/27 [==============================] - 2s 59ms/step - loss: 0.1610 - accuracy: 0.9917 - val_loss: 0.3081 - val_accuracy: 0.8815\n",
            "Epoch 7/50\n",
            "27/27 [==============================] - 1s 55ms/step - loss: 0.1194 - accuracy: 0.9929 - val_loss: 0.2889 - val_accuracy: 0.8910\n",
            "Epoch 8/50\n",
            "27/27 [==============================] - 2s 57ms/step - loss: 0.0915 - accuracy: 0.9953 - val_loss: 0.2769 - val_accuracy: 0.8910\n",
            "Epoch 9/50\n",
            "27/27 [==============================] - 2s 59ms/step - loss: 0.0719 - accuracy: 0.9964 - val_loss: 0.2692 - val_accuracy: 0.8910\n",
            "Epoch 10/50\n",
            "27/27 [==============================] - 2s 57ms/step - loss: 0.0578 - accuracy: 0.9964 - val_loss: 0.2643 - val_accuracy: 0.8910\n",
            "Epoch 11/50\n",
            "27/27 [==============================] - 2s 58ms/step - loss: 0.0473 - accuracy: 0.9976 - val_loss: 0.2612 - val_accuracy: 0.8957\n",
            "Epoch 12/50\n",
            "27/27 [==============================] - 1s 55ms/step - loss: 0.0393 - accuracy: 0.9988 - val_loss: 0.2594 - val_accuracy: 0.8957\n",
            "Epoch 13/50\n",
            "27/27 [==============================] - 2s 57ms/step - loss: 0.0331 - accuracy: 0.9988 - val_loss: 0.2586 - val_accuracy: 0.8957\n",
            "Epoch 14/50\n",
            "27/27 [==============================] - 2s 56ms/step - loss: 0.0282 - accuracy: 0.9988 - val_loss: 0.2583 - val_accuracy: 0.8957\n",
            "Epoch 15/50\n",
            "27/27 [==============================] - 2s 57ms/step - loss: 0.0243 - accuracy: 0.9988 - val_loss: 0.2586 - val_accuracy: 0.8957\n",
            "Epoch 16/50\n",
            "27/27 [==============================] - 2s 58ms/step - loss: 0.0211 - accuracy: 0.9988 - val_loss: 0.2591 - val_accuracy: 0.8957\n",
            "Epoch 17/50\n",
            "27/27 [==============================] - 1s 53ms/step - loss: 0.0185 - accuracy: 0.9988 - val_loss: 0.2600 - val_accuracy: 0.8957\n",
            "Epoch 18/50\n",
            "27/27 [==============================] - 1s 54ms/step - loss: 0.0163 - accuracy: 0.9988 - val_loss: 0.2610 - val_accuracy: 0.8910\n",
            "Epoch 19/50\n",
            "27/27 [==============================] - 2s 58ms/step - loss: 0.0145 - accuracy: 1.0000 - val_loss: 0.2621 - val_accuracy: 0.8910\n",
            "Epoch 20/50\n",
            "27/27 [==============================] - 2s 58ms/step - loss: 0.0129 - accuracy: 1.0000 - val_loss: 0.2634 - val_accuracy: 0.8910\n",
            "Epoch 21/50\n",
            "27/27 [==============================] - 2s 56ms/step - loss: 0.0116 - accuracy: 1.0000 - val_loss: 0.2647 - val_accuracy: 0.8863\n",
            "Epoch 22/50\n",
            "27/27 [==============================] - 2s 57ms/step - loss: 0.0105 - accuracy: 1.0000 - val_loss: 0.2661 - val_accuracy: 0.8910\n",
            "Epoch 23/50\n",
            "27/27 [==============================] - 1s 54ms/step - loss: 0.0095 - accuracy: 1.0000 - val_loss: 0.2675 - val_accuracy: 0.8910\n",
            "Epoch 24/50\n",
            "27/27 [==============================] - 2s 57ms/step - loss: 0.0086 - accuracy: 1.0000 - val_loss: 0.2690 - val_accuracy: 0.8910\n"
          ],
          "name": "stdout"
        },
        {
          "output_type": "display_data",
          "data": {
            "text/html": [
              "<span style=\"color:#4527A0\"><h1 style=\"font-size:18px\">Trial complete</h1></span>"
            ],
            "text/plain": [
              "<IPython.core.display.HTML object>"
            ]
          },
          "metadata": {
            "tags": []
          }
        },
        {
          "output_type": "display_data",
          "data": {
            "text/html": [
              "<span style=\"color:#4527A0\"><h1 style=\"font-size:18px\">Trial summary</h1></span>"
            ],
            "text/plain": [
              "<IPython.core.display.HTML object>"
            ]
          },
          "metadata": {
            "tags": []
          }
        },
        {
          "output_type": "display_data",
          "data": {
            "text/html": [
              "<span style=\"color:#7E57C2\"><h2 style=\"font-size:16px\">Hp values:</h2></span>"
            ],
            "text/plain": [
              "<IPython.core.display.HTML object>"
            ]
          },
          "metadata": {
            "tags": []
          }
        },
        {
          "output_type": "display_data",
          "data": {
            "text/html": [
              "<span style=\"color:cyan\"> |-dense_block_1/dropout_rate: 0.0</span>"
            ],
            "text/plain": [
              "<IPython.core.display.HTML object>"
            ]
          },
          "metadata": {
            "tags": []
          }
        },
        {
          "output_type": "display_data",
          "data": {
            "text/html": [
              "<span style=\"color:blue\"> |-dense_block_1/num_layers: 1</span>"
            ],
            "text/plain": [
              "<IPython.core.display.HTML object>"
            ]
          },
          "metadata": {
            "tags": []
          }
        },
        {
          "output_type": "display_data",
          "data": {
            "text/html": [
              "<span style=\"color:cyan\"> |-dense_block_1/units_0: 64</span>"
            ],
            "text/plain": [
              "<IPython.core.display.HTML object>"
            ]
          },
          "metadata": {
            "tags": []
          }
        },
        {
          "output_type": "display_data",
          "data": {
            "text/html": [
              "<span style=\"color:blue\"> |-dense_block_1/units_1: 16</span>"
            ],
            "text/plain": [
              "<IPython.core.display.HTML object>"
            ]
          },
          "metadata": {
            "tags": []
          }
        },
        {
          "output_type": "display_data",
          "data": {
            "text/html": [
              "<span style=\"color:cyan\"> |-dense_block_1/units_2: 16</span>"
            ],
            "text/plain": [
              "<IPython.core.display.HTML object>"
            ]
          },
          "metadata": {
            "tags": []
          }
        },
        {
          "output_type": "display_data",
          "data": {
            "text/html": [
              "<span style=\"color:blue\"> |-dense_block_1/use_batchnorm: False</span>"
            ],
            "text/plain": [
              "<IPython.core.display.HTML object>"
            ]
          },
          "metadata": {
            "tags": []
          }
        },
        {
          "output_type": "display_data",
          "data": {
            "text/html": [
              "<span style=\"color:cyan\"> |-optimizer: adam</span>"
            ],
            "text/plain": [
              "<IPython.core.display.HTML object>"
            ]
          },
          "metadata": {
            "tags": []
          }
        },
        {
          "output_type": "display_data",
          "data": {
            "text/html": [
              "<span style=\"color:cyan\"> |-Score: 0.2583166871752058</span>"
            ],
            "text/plain": [
              "<IPython.core.display.HTML object>"
            ]
          },
          "metadata": {
            "tags": []
          }
        },
        {
          "output_type": "display_data",
          "data": {
            "text/html": [
              "<span style=\"color:cyan\"> |-Best step: 0</span>"
            ],
            "text/plain": [
              "<IPython.core.display.HTML object>"
            ]
          },
          "metadata": {
            "tags": []
          }
        },
        {
          "output_type": "stream",
          "text": [
            "Epoch 1/50\n",
            "27/27 [==============================] - 2s 81ms/step - loss: 0.6803 - accuracy: 0.5905 - val_loss: 0.0000e+00 - val_accuracy: 0.0000e+00\n",
            "Epoch 2/50\n",
            "27/27 [==============================] - 1s 55ms/step - loss: 0.6289 - accuracy: 0.6414 - val_loss: 0.6321 - val_accuracy: 0.5735\n",
            "Epoch 3/50\n",
            "27/27 [==============================] - 2s 56ms/step - loss: 0.5572 - accuracy: 0.7432 - val_loss: 0.5769 - val_accuracy: 0.7014\n",
            "Epoch 4/50\n",
            "27/27 [==============================] - 2s 56ms/step - loss: 0.4797 - accuracy: 0.8769 - val_loss: 0.5165 - val_accuracy: 0.8009\n",
            "Epoch 5/50\n",
            "27/27 [==============================] - 2s 56ms/step - loss: 0.4039 - accuracy: 0.9491 - val_loss: 0.4626 - val_accuracy: 0.8578\n",
            "Epoch 6/50\n",
            "27/27 [==============================] - 1s 55ms/step - loss: 0.3331 - accuracy: 0.9609 - val_loss: 0.4182 - val_accuracy: 0.8815\n",
            "Epoch 7/50\n",
            "27/27 [==============================] - 2s 56ms/step - loss: 0.2759 - accuracy: 0.9728 - val_loss: 0.3828 - val_accuracy: 0.8863\n",
            "Epoch 8/50\n",
            "27/27 [==============================] - 2s 58ms/step - loss: 0.2357 - accuracy: 0.9811 - val_loss: 0.3546 - val_accuracy: 0.8815\n",
            "Epoch 9/50\n",
            "27/27 [==============================] - 2s 56ms/step - loss: 0.1996 - accuracy: 0.9822 - val_loss: 0.3334 - val_accuracy: 0.9005\n",
            "Epoch 10/50\n",
            "27/27 [==============================] - 1s 54ms/step - loss: 0.1706 - accuracy: 0.9822 - val_loss: 0.3181 - val_accuracy: 0.8957\n",
            "Epoch 11/50\n",
            "27/27 [==============================] - 2s 58ms/step - loss: 0.1508 - accuracy: 0.9870 - val_loss: 0.3074 - val_accuracy: 0.9005\n",
            "Epoch 12/50\n",
            "27/27 [==============================] - 1s 55ms/step - loss: 0.1311 - accuracy: 0.9822 - val_loss: 0.2980 - val_accuracy: 0.8957\n",
            "Epoch 13/50\n",
            "27/27 [==============================] - 2s 56ms/step - loss: 0.1116 - accuracy: 0.9917 - val_loss: 0.2903 - val_accuracy: 0.8957\n",
            "Epoch 14/50\n",
            "27/27 [==============================] - 1s 56ms/step - loss: 0.1008 - accuracy: 0.9964 - val_loss: 0.2848 - val_accuracy: 0.8910\n",
            "Epoch 15/50\n",
            "27/27 [==============================] - 2s 57ms/step - loss: 0.0879 - accuracy: 0.9893 - val_loss: 0.2810 - val_accuracy: 0.8957\n",
            "Epoch 16/50\n",
            "27/27 [==============================] - 2s 56ms/step - loss: 0.0825 - accuracy: 0.9905 - val_loss: 0.2759 - val_accuracy: 0.8910\n",
            "Epoch 17/50\n",
            "27/27 [==============================] - 2s 56ms/step - loss: 0.0753 - accuracy: 0.9953 - val_loss: 0.2732 - val_accuracy: 0.8910\n",
            "Epoch 18/50\n",
            "27/27 [==============================] - 1s 55ms/step - loss: 0.0669 - accuracy: 0.9953 - val_loss: 0.2710 - val_accuracy: 0.8910\n",
            "Epoch 19/50\n",
            "27/27 [==============================] - 2s 58ms/step - loss: 0.0611 - accuracy: 0.9953 - val_loss: 0.2697 - val_accuracy: 0.8910\n",
            "Epoch 20/50\n",
            "27/27 [==============================] - 1s 55ms/step - loss: 0.0542 - accuracy: 0.9976 - val_loss: 0.2682 - val_accuracy: 0.8863\n",
            "Epoch 21/50\n",
            "27/27 [==============================] - 2s 56ms/step - loss: 0.0524 - accuracy: 0.9976 - val_loss: 0.2676 - val_accuracy: 0.8863\n",
            "Epoch 22/50\n",
            "27/27 [==============================] - 1s 54ms/step - loss: 0.0456 - accuracy: 0.9976 - val_loss: 0.2685 - val_accuracy: 0.8910\n",
            "Epoch 23/50\n",
            "27/27 [==============================] - 1s 55ms/step - loss: 0.0460 - accuracy: 0.9941 - val_loss: 0.2685 - val_accuracy: 0.8863\n",
            "Epoch 24/50\n",
            "27/27 [==============================] - 2s 59ms/step - loss: 0.0401 - accuracy: 0.9976 - val_loss: 0.2675 - val_accuracy: 0.8863\n",
            "Epoch 25/50\n",
            "27/27 [==============================] - 1s 56ms/step - loss: 0.0379 - accuracy: 1.0000 - val_loss: 0.2681 - val_accuracy: 0.8863\n",
            "Epoch 26/50\n",
            "27/27 [==============================] - 2s 56ms/step - loss: 0.0350 - accuracy: 0.9976 - val_loss: 0.2699 - val_accuracy: 0.8910\n",
            "Epoch 27/50\n",
            "27/27 [==============================] - 2s 58ms/step - loss: 0.0337 - accuracy: 0.9988 - val_loss: 0.2705 - val_accuracy: 0.8863\n",
            "Epoch 28/50\n",
            "27/27 [==============================] - 2s 59ms/step - loss: 0.0297 - accuracy: 0.9988 - val_loss: 0.2709 - val_accuracy: 0.8863\n",
            "Epoch 29/50\n",
            "27/27 [==============================] - 2s 58ms/step - loss: 0.0273 - accuracy: 1.0000 - val_loss: 0.2713 - val_accuracy: 0.8863\n",
            "Epoch 30/50\n",
            "27/27 [==============================] - 2s 58ms/step - loss: 0.0248 - accuracy: 1.0000 - val_loss: 0.2725 - val_accuracy: 0.8863\n",
            "Epoch 31/50\n",
            "27/27 [==============================] - 1s 55ms/step - loss: 0.0262 - accuracy: 0.9976 - val_loss: 0.2734 - val_accuracy: 0.8910\n",
            "Epoch 32/50\n",
            "27/27 [==============================] - 1s 55ms/step - loss: 0.0224 - accuracy: 1.0000 - val_loss: 0.2748 - val_accuracy: 0.8910\n",
            "Epoch 33/50\n",
            "27/27 [==============================] - 2s 59ms/step - loss: 0.0238 - accuracy: 0.9988 - val_loss: 0.2751 - val_accuracy: 0.8910\n",
            "Epoch 34/50\n",
            "27/27 [==============================] - 2s 61ms/step - loss: 0.0215 - accuracy: 0.9988 - val_loss: 0.2764 - val_accuracy: 0.8910\n"
          ],
          "name": "stdout"
        },
        {
          "output_type": "display_data",
          "data": {
            "text/html": [
              "<span style=\"color:#4527A0\"><h1 style=\"font-size:18px\">Trial complete</h1></span>"
            ],
            "text/plain": [
              "<IPython.core.display.HTML object>"
            ]
          },
          "metadata": {
            "tags": []
          }
        },
        {
          "output_type": "display_data",
          "data": {
            "text/html": [
              "<span style=\"color:#4527A0\"><h1 style=\"font-size:18px\">Trial summary</h1></span>"
            ],
            "text/plain": [
              "<IPython.core.display.HTML object>"
            ]
          },
          "metadata": {
            "tags": []
          }
        },
        {
          "output_type": "display_data",
          "data": {
            "text/html": [
              "<span style=\"color:#7E57C2\"><h2 style=\"font-size:16px\">Hp values:</h2></span>"
            ],
            "text/plain": [
              "<IPython.core.display.HTML object>"
            ]
          },
          "metadata": {
            "tags": []
          }
        },
        {
          "output_type": "display_data",
          "data": {
            "text/html": [
              "<span style=\"color:cyan\"> |-dense_block_1/dropout_rate: 0.5</span>"
            ],
            "text/plain": [
              "<IPython.core.display.HTML object>"
            ]
          },
          "metadata": {
            "tags": []
          }
        },
        {
          "output_type": "display_data",
          "data": {
            "text/html": [
              "<span style=\"color:blue\"> |-dense_block_1/num_layers: 1</span>"
            ],
            "text/plain": [
              "<IPython.core.display.HTML object>"
            ]
          },
          "metadata": {
            "tags": []
          }
        },
        {
          "output_type": "display_data",
          "data": {
            "text/html": [
              "<span style=\"color:cyan\"> |-dense_block_1/units_0: 32</span>"
            ],
            "text/plain": [
              "<IPython.core.display.HTML object>"
            ]
          },
          "metadata": {
            "tags": []
          }
        },
        {
          "output_type": "display_data",
          "data": {
            "text/html": [
              "<span style=\"color:blue\"> |-dense_block_1/units_1: 128</span>"
            ],
            "text/plain": [
              "<IPython.core.display.HTML object>"
            ]
          },
          "metadata": {
            "tags": []
          }
        },
        {
          "output_type": "display_data",
          "data": {
            "text/html": [
              "<span style=\"color:cyan\"> |-dense_block_1/units_2: 1024</span>"
            ],
            "text/plain": [
              "<IPython.core.display.HTML object>"
            ]
          },
          "metadata": {
            "tags": []
          }
        },
        {
          "output_type": "display_data",
          "data": {
            "text/html": [
              "<span style=\"color:blue\"> |-dense_block_1/use_batchnorm: False</span>"
            ],
            "text/plain": [
              "<IPython.core.display.HTML object>"
            ]
          },
          "metadata": {
            "tags": []
          }
        },
        {
          "output_type": "display_data",
          "data": {
            "text/html": [
              "<span style=\"color:cyan\"> |-optimizer: adam</span>"
            ],
            "text/plain": [
              "<IPython.core.display.HTML object>"
            ]
          },
          "metadata": {
            "tags": []
          }
        },
        {
          "output_type": "display_data",
          "data": {
            "text/html": [
              "<span style=\"color:cyan\"> |-Score: 0.26750817043440683</span>"
            ],
            "text/plain": [
              "<IPython.core.display.HTML object>"
            ]
          },
          "metadata": {
            "tags": []
          }
        },
        {
          "output_type": "display_data",
          "data": {
            "text/html": [
              "<span style=\"color:cyan\"> |-Best step: 0</span>"
            ],
            "text/plain": [
              "<IPython.core.display.HTML object>"
            ]
          },
          "metadata": {
            "tags": []
          }
        },
        {
          "output_type": "stream",
          "text": [
            "Epoch 1/50\n",
            "27/27 [==============================] - 3s 116ms/step - loss: 0.7270 - accuracy: 0.5870 - val_loss: 0.0000e+00 - val_accuracy: 0.0000e+00\n",
            "Epoch 2/50\n",
            "27/27 [==============================] - 1s 54ms/step - loss: 0.4347 - accuracy: 0.8012 - val_loss: 0.6792 - val_accuracy: 0.5403\n",
            "Epoch 3/50\n",
            "27/27 [==============================] - 2s 58ms/step - loss: 0.2658 - accuracy: 0.9077 - val_loss: 0.6615 - val_accuracy: 0.5640\n",
            "Epoch 4/50\n",
            "27/27 [==============================] - 2s 57ms/step - loss: 0.1761 - accuracy: 0.9538 - val_loss: 0.6411 - val_accuracy: 0.5877\n",
            "Epoch 5/50\n",
            "27/27 [==============================] - 2s 59ms/step - loss: 0.1150 - accuracy: 0.9680 - val_loss: 0.6159 - val_accuracy: 0.6635\n",
            "Epoch 6/50\n",
            "27/27 [==============================] - 2s 57ms/step - loss: 0.0773 - accuracy: 0.9787 - val_loss: 0.5883 - val_accuracy: 0.7299\n",
            "Epoch 7/50\n",
            "27/27 [==============================] - 2s 56ms/step - loss: 0.0696 - accuracy: 0.9775 - val_loss: 0.5521 - val_accuracy: 0.7915\n",
            "Epoch 8/50\n",
            "27/27 [==============================] - 2s 57ms/step - loss: 0.0463 - accuracy: 0.9941 - val_loss: 0.5170 - val_accuracy: 0.7962\n",
            "Epoch 9/50\n",
            "27/27 [==============================] - 1s 54ms/step - loss: 0.0316 - accuracy: 0.9929 - val_loss: 0.4810 - val_accuracy: 0.8199\n",
            "Epoch 10/50\n",
            "27/27 [==============================] - 2s 57ms/step - loss: 0.0349 - accuracy: 0.9941 - val_loss: 0.4429 - val_accuracy: 0.8199\n",
            "Epoch 11/50\n",
            "27/27 [==============================] - 2s 58ms/step - loss: 0.0225 - accuracy: 0.9964 - val_loss: 0.4088 - val_accuracy: 0.8341\n",
            "Epoch 12/50\n",
            "27/27 [==============================] - 2s 61ms/step - loss: 0.0242 - accuracy: 0.9929 - val_loss: 0.3783 - val_accuracy: 0.8436\n",
            "Epoch 13/50\n",
            "27/27 [==============================] - 2s 58ms/step - loss: 0.0186 - accuracy: 0.9976 - val_loss: 0.3541 - val_accuracy: 0.8483\n",
            "Epoch 14/50\n",
            "27/27 [==============================] - 2s 57ms/step - loss: 0.0235 - accuracy: 0.9917 - val_loss: 0.3366 - val_accuracy: 0.8436\n",
            "Epoch 15/50\n",
            "27/27 [==============================] - 2s 58ms/step - loss: 0.0265 - accuracy: 0.9917 - val_loss: 0.3251 - val_accuracy: 0.8436\n",
            "Epoch 16/50\n",
            "27/27 [==============================] - 2s 57ms/step - loss: 0.0169 - accuracy: 0.9964 - val_loss: 0.3278 - val_accuracy: 0.8531\n",
            "Epoch 17/50\n",
            "27/27 [==============================] - 2s 56ms/step - loss: 0.0147 - accuracy: 0.9976 - val_loss: 0.3329 - val_accuracy: 0.8578\n",
            "Epoch 18/50\n",
            "27/27 [==============================] - 2s 56ms/step - loss: 0.0126 - accuracy: 0.9976 - val_loss: 0.3429 - val_accuracy: 0.8720\n",
            "Epoch 19/50\n",
            "27/27 [==============================] - 2s 56ms/step - loss: 0.0129 - accuracy: 0.9964 - val_loss: 0.3611 - val_accuracy: 0.8626\n",
            "Epoch 20/50\n",
            "27/27 [==============================] - 1s 54ms/step - loss: 0.0115 - accuracy: 0.9964 - val_loss: 0.3749 - val_accuracy: 0.8768\n",
            "Epoch 21/50\n",
            "27/27 [==============================] - 1s 54ms/step - loss: 0.0116 - accuracy: 0.9976 - val_loss: 0.3856 - val_accuracy: 0.8768\n",
            "Epoch 22/50\n",
            "27/27 [==============================] - 2s 56ms/step - loss: 0.0117 - accuracy: 0.9964 - val_loss: 0.3986 - val_accuracy: 0.8815\n",
            "Epoch 23/50\n",
            "27/27 [==============================] - 2s 56ms/step - loss: 0.0054 - accuracy: 1.0000 - val_loss: 0.4091 - val_accuracy: 0.8673\n",
            "Epoch 24/50\n",
            "27/27 [==============================] - 2s 58ms/step - loss: 0.0096 - accuracy: 0.9976 - val_loss: 0.4276 - val_accuracy: 0.8673\n",
            "Epoch 25/50\n",
            "27/27 [==============================] - 2s 57ms/step - loss: 0.0053 - accuracy: 1.0000 - val_loss: 0.4464 - val_accuracy: 0.8720\n"
          ],
          "name": "stdout"
        },
        {
          "output_type": "display_data",
          "data": {
            "text/html": [
              "<span style=\"color:#4527A0\"><h1 style=\"font-size:18px\">Trial complete</h1></span>"
            ],
            "text/plain": [
              "<IPython.core.display.HTML object>"
            ]
          },
          "metadata": {
            "tags": []
          }
        },
        {
          "output_type": "display_data",
          "data": {
            "text/html": [
              "<span style=\"color:#4527A0\"><h1 style=\"font-size:18px\">Trial summary</h1></span>"
            ],
            "text/plain": [
              "<IPython.core.display.HTML object>"
            ]
          },
          "metadata": {
            "tags": []
          }
        },
        {
          "output_type": "display_data",
          "data": {
            "text/html": [
              "<span style=\"color:#7E57C2\"><h2 style=\"font-size:16px\">Hp values:</h2></span>"
            ],
            "text/plain": [
              "<IPython.core.display.HTML object>"
            ]
          },
          "metadata": {
            "tags": []
          }
        },
        {
          "output_type": "display_data",
          "data": {
            "text/html": [
              "<span style=\"color:cyan\"> |-dense_block_1/dropout_rate: 0.25</span>"
            ],
            "text/plain": [
              "<IPython.core.display.HTML object>"
            ]
          },
          "metadata": {
            "tags": []
          }
        },
        {
          "output_type": "display_data",
          "data": {
            "text/html": [
              "<span style=\"color:blue\"> |-dense_block_1/num_layers: 2</span>"
            ],
            "text/plain": [
              "<IPython.core.display.HTML object>"
            ]
          },
          "metadata": {
            "tags": []
          }
        },
        {
          "output_type": "display_data",
          "data": {
            "text/html": [
              "<span style=\"color:cyan\"> |-dense_block_1/units_0: 16</span>"
            ],
            "text/plain": [
              "<IPython.core.display.HTML object>"
            ]
          },
          "metadata": {
            "tags": []
          }
        },
        {
          "output_type": "display_data",
          "data": {
            "text/html": [
              "<span style=\"color:blue\"> |-dense_block_1/units_1: 128</span>"
            ],
            "text/plain": [
              "<IPython.core.display.HTML object>"
            ]
          },
          "metadata": {
            "tags": []
          }
        },
        {
          "output_type": "display_data",
          "data": {
            "text/html": [
              "<span style=\"color:cyan\"> |-dense_block_1/units_2: 128</span>"
            ],
            "text/plain": [
              "<IPython.core.display.HTML object>"
            ]
          },
          "metadata": {
            "tags": []
          }
        },
        {
          "output_type": "display_data",
          "data": {
            "text/html": [
              "<span style=\"color:blue\"> |-dense_block_1/use_batchnorm: True</span>"
            ],
            "text/plain": [
              "<IPython.core.display.HTML object>"
            ]
          },
          "metadata": {
            "tags": []
          }
        },
        {
          "output_type": "display_data",
          "data": {
            "text/html": [
              "<span style=\"color:cyan\"> |-optimizer: adam</span>"
            ],
            "text/plain": [
              "<IPython.core.display.HTML object>"
            ]
          },
          "metadata": {
            "tags": []
          }
        },
        {
          "output_type": "display_data",
          "data": {
            "text/html": [
              "<span style=\"color:cyan\"> |-Score: 0.3251133305685861</span>"
            ],
            "text/plain": [
              "<IPython.core.display.HTML object>"
            ]
          },
          "metadata": {
            "tags": []
          }
        },
        {
          "output_type": "display_data",
          "data": {
            "text/html": [
              "<span style=\"color:cyan\"> |-Best step: 0</span>"
            ],
            "text/plain": [
              "<IPython.core.display.HTML object>"
            ]
          },
          "metadata": {
            "tags": []
          }
        },
        {
          "output_type": "stream",
          "text": [
            "Epoch 1/50\n",
            "27/27 [==============================] - 3s 102ms/step - loss: 0.6345 - accuracy: 0.6012 - val_loss: 0.0000e+00 - val_accuracy: 0.0000e+00\n",
            "Epoch 2/50\n",
            "27/27 [==============================] - 2s 72ms/step - loss: 0.2383 - accuracy: 0.9195 - val_loss: 0.3462 - val_accuracy: 0.8957\n",
            "Epoch 3/50\n",
            "27/27 [==============================] - 2s 71ms/step - loss: 0.0199 - accuracy: 0.9953 - val_loss: 0.4085 - val_accuracy: 0.8910\n",
            "Epoch 4/50\n",
            "27/27 [==============================] - 2s 72ms/step - loss: 0.0023 - accuracy: 1.0000 - val_loss: 0.4451 - val_accuracy: 0.8957\n",
            "Epoch 5/50\n",
            "27/27 [==============================] - 2s 70ms/step - loss: 6.2328e-04 - accuracy: 1.0000 - val_loss: 0.4770 - val_accuracy: 0.8910\n",
            "Epoch 6/50\n",
            "27/27 [==============================] - 2s 70ms/step - loss: 2.6133e-04 - accuracy: 1.0000 - val_loss: 0.4816 - val_accuracy: 0.8910\n",
            "Epoch 7/50\n",
            "27/27 [==============================] - 2s 70ms/step - loss: 1.8070e-04 - accuracy: 1.0000 - val_loss: 0.4942 - val_accuracy: 0.8910\n",
            "Epoch 8/50\n",
            "27/27 [==============================] - 2s 69ms/step - loss: 1.4154e-04 - accuracy: 1.0000 - val_loss: 0.5078 - val_accuracy: 0.8957\n",
            "Epoch 9/50\n",
            "27/27 [==============================] - 2s 70ms/step - loss: 1.3496e-04 - accuracy: 1.0000 - val_loss: 0.5165 - val_accuracy: 0.8910\n",
            "Epoch 10/50\n",
            "27/27 [==============================] - 2s 72ms/step - loss: 1.0361e-04 - accuracy: 1.0000 - val_loss: 0.5231 - val_accuracy: 0.8910\n",
            "Epoch 11/50\n",
            "27/27 [==============================] - 2s 70ms/step - loss: 7.1328e-05 - accuracy: 1.0000 - val_loss: 0.5291 - val_accuracy: 0.8910\n",
            "Epoch 12/50\n",
            "27/27 [==============================] - 2s 69ms/step - loss: 6.0376e-05 - accuracy: 1.0000 - val_loss: 0.5348 - val_accuracy: 0.8910\n"
          ],
          "name": "stdout"
        },
        {
          "output_type": "display_data",
          "data": {
            "text/html": [
              "<span style=\"color:#4527A0\"><h1 style=\"font-size:18px\">Trial complete</h1></span>"
            ],
            "text/plain": [
              "<IPython.core.display.HTML object>"
            ]
          },
          "metadata": {
            "tags": []
          }
        },
        {
          "output_type": "display_data",
          "data": {
            "text/html": [
              "<span style=\"color:#4527A0\"><h1 style=\"font-size:18px\">Trial summary</h1></span>"
            ],
            "text/plain": [
              "<IPython.core.display.HTML object>"
            ]
          },
          "metadata": {
            "tags": []
          }
        },
        {
          "output_type": "display_data",
          "data": {
            "text/html": [
              "<span style=\"color:#7E57C2\"><h2 style=\"font-size:16px\">Hp values:</h2></span>"
            ],
            "text/plain": [
              "<IPython.core.display.HTML object>"
            ]
          },
          "metadata": {
            "tags": []
          }
        },
        {
          "output_type": "display_data",
          "data": {
            "text/html": [
              "<span style=\"color:cyan\"> |-dense_block_1/dropout_rate: 0.25</span>"
            ],
            "text/plain": [
              "<IPython.core.display.HTML object>"
            ]
          },
          "metadata": {
            "tags": []
          }
        },
        {
          "output_type": "display_data",
          "data": {
            "text/html": [
              "<span style=\"color:blue\"> |-dense_block_1/num_layers: 3</span>"
            ],
            "text/plain": [
              "<IPython.core.display.HTML object>"
            ]
          },
          "metadata": {
            "tags": []
          }
        },
        {
          "output_type": "display_data",
          "data": {
            "text/html": [
              "<span style=\"color:cyan\"> |-dense_block_1/units_0: 512</span>"
            ],
            "text/plain": [
              "<IPython.core.display.HTML object>"
            ]
          },
          "metadata": {
            "tags": []
          }
        },
        {
          "output_type": "display_data",
          "data": {
            "text/html": [
              "<span style=\"color:blue\"> |-dense_block_1/units_1: 256</span>"
            ],
            "text/plain": [
              "<IPython.core.display.HTML object>"
            ]
          },
          "metadata": {
            "tags": []
          }
        },
        {
          "output_type": "display_data",
          "data": {
            "text/html": [
              "<span style=\"color:cyan\"> |-dense_block_1/units_2: 128</span>"
            ],
            "text/plain": [
              "<IPython.core.display.HTML object>"
            ]
          },
          "metadata": {
            "tags": []
          }
        },
        {
          "output_type": "display_data",
          "data": {
            "text/html": [
              "<span style=\"color:blue\"> |-dense_block_1/use_batchnorm: False</span>"
            ],
            "text/plain": [
              "<IPython.core.display.HTML object>"
            ]
          },
          "metadata": {
            "tags": []
          }
        },
        {
          "output_type": "display_data",
          "data": {
            "text/html": [
              "<span style=\"color:cyan\"> |-optimizer: adam</span>"
            ],
            "text/plain": [
              "<IPython.core.display.HTML object>"
            ]
          },
          "metadata": {
            "tags": []
          }
        },
        {
          "output_type": "display_data",
          "data": {
            "text/html": [
              "<span style=\"color:cyan\"> |-Score: 0.34624755276100977</span>"
            ],
            "text/plain": [
              "<IPython.core.display.HTML object>"
            ]
          },
          "metadata": {
            "tags": []
          }
        },
        {
          "output_type": "display_data",
          "data": {
            "text/html": [
              "<span style=\"color:cyan\"> |-Best step: 0</span>"
            ],
            "text/plain": [
              "<IPython.core.display.HTML object>"
            ]
          },
          "metadata": {
            "tags": []
          }
        },
        {
          "output_type": "stream",
          "text": [
            "Epoch 1/50\n",
            "27/27 [==============================] - 2s 90ms/step - loss: 0.6459 - accuracy: 0.5953 - val_loss: 0.0000e+00 - val_accuracy: 0.0000e+00\n",
            "Epoch 2/50\n",
            "27/27 [==============================] - 2s 71ms/step - loss: 0.4778 - accuracy: 0.7799 - val_loss: 0.4635 - val_accuracy: 0.8294\n",
            "Epoch 3/50\n",
            "27/27 [==============================] - 2s 73ms/step - loss: 0.2682 - accuracy: 0.9728 - val_loss: 0.3246 - val_accuracy: 0.8863\n",
            "Epoch 4/50\n",
            "27/27 [==============================] - 2s 75ms/step - loss: 0.1332 - accuracy: 0.9858 - val_loss: 0.2773 - val_accuracy: 0.8910\n",
            "Epoch 5/50\n",
            "27/27 [==============================] - 2s 72ms/step - loss: 0.0754 - accuracy: 0.9917 - val_loss: 0.2608 - val_accuracy: 0.8910\n",
            "Epoch 6/50\n",
            "27/27 [==============================] - 2s 70ms/step - loss: 0.0459 - accuracy: 0.9964 - val_loss: 0.2568 - val_accuracy: 0.8910\n",
            "Epoch 7/50\n",
            "27/27 [==============================] - 2s 71ms/step - loss: 0.0300 - accuracy: 0.9976 - val_loss: 0.2558 - val_accuracy: 0.8957\n",
            "Epoch 8/50\n",
            "27/27 [==============================] - 2s 66ms/step - loss: 0.0224 - accuracy: 0.9988 - val_loss: 0.2574 - val_accuracy: 0.8957\n",
            "Epoch 9/50\n",
            "27/27 [==============================] - 2s 68ms/step - loss: 0.0167 - accuracy: 0.9988 - val_loss: 0.2606 - val_accuracy: 0.9005\n",
            "Epoch 10/50\n",
            "27/27 [==============================] - 2s 65ms/step - loss: 0.0128 - accuracy: 0.9988 - val_loss: 0.2646 - val_accuracy: 0.9005\n",
            "Epoch 11/50\n",
            "27/27 [==============================] - 2s 68ms/step - loss: 0.0096 - accuracy: 1.0000 - val_loss: 0.2685 - val_accuracy: 0.9005\n",
            "Epoch 12/50\n",
            "27/27 [==============================] - 2s 67ms/step - loss: 0.0081 - accuracy: 1.0000 - val_loss: 0.2720 - val_accuracy: 0.9005\n",
            "Epoch 13/50\n",
            "27/27 [==============================] - 2s 63ms/step - loss: 0.0070 - accuracy: 1.0000 - val_loss: 0.2751 - val_accuracy: 0.9005\n",
            "Epoch 14/50\n",
            "27/27 [==============================] - 2s 69ms/step - loss: 0.0057 - accuracy: 1.0000 - val_loss: 0.2785 - val_accuracy: 0.9005\n",
            "Epoch 15/50\n",
            "27/27 [==============================] - 2s 68ms/step - loss: 0.0049 - accuracy: 1.0000 - val_loss: 0.2821 - val_accuracy: 0.8957\n",
            "Epoch 16/50\n",
            "27/27 [==============================] - 2s 66ms/step - loss: 0.0043 - accuracy: 1.0000 - val_loss: 0.2856 - val_accuracy: 0.8957\n",
            "Epoch 17/50\n",
            "27/27 [==============================] - 2s 66ms/step - loss: 0.0037 - accuracy: 1.0000 - val_loss: 0.2883 - val_accuracy: 0.8957\n"
          ],
          "name": "stdout"
        },
        {
          "output_type": "display_data",
          "data": {
            "text/html": [
              "<span style=\"color:#4527A0\"><h1 style=\"font-size:18px\">Trial complete</h1></span>"
            ],
            "text/plain": [
              "<IPython.core.display.HTML object>"
            ]
          },
          "metadata": {
            "tags": []
          }
        },
        {
          "output_type": "display_data",
          "data": {
            "text/html": [
              "<span style=\"color:#4527A0\"><h1 style=\"font-size:18px\">Trial summary</h1></span>"
            ],
            "text/plain": [
              "<IPython.core.display.HTML object>"
            ]
          },
          "metadata": {
            "tags": []
          }
        },
        {
          "output_type": "display_data",
          "data": {
            "text/html": [
              "<span style=\"color:#7E57C2\"><h2 style=\"font-size:16px\">Hp values:</h2></span>"
            ],
            "text/plain": [
              "<IPython.core.display.HTML object>"
            ]
          },
          "metadata": {
            "tags": []
          }
        },
        {
          "output_type": "display_data",
          "data": {
            "text/html": [
              "<span style=\"color:cyan\"> |-dense_block_1/dropout_rate: 0.5</span>"
            ],
            "text/plain": [
              "<IPython.core.display.HTML object>"
            ]
          },
          "metadata": {
            "tags": []
          }
        },
        {
          "output_type": "display_data",
          "data": {
            "text/html": [
              "<span style=\"color:blue\"> |-dense_block_1/num_layers: 1</span>"
            ],
            "text/plain": [
              "<IPython.core.display.HTML object>"
            ]
          },
          "metadata": {
            "tags": []
          }
        },
        {
          "output_type": "display_data",
          "data": {
            "text/html": [
              "<span style=\"color:cyan\"> |-dense_block_1/units_0: 512</span>"
            ],
            "text/plain": [
              "<IPython.core.display.HTML object>"
            ]
          },
          "metadata": {
            "tags": []
          }
        },
        {
          "output_type": "display_data",
          "data": {
            "text/html": [
              "<span style=\"color:blue\"> |-dense_block_1/units_1: 1024</span>"
            ],
            "text/plain": [
              "<IPython.core.display.HTML object>"
            ]
          },
          "metadata": {
            "tags": []
          }
        },
        {
          "output_type": "display_data",
          "data": {
            "text/html": [
              "<span style=\"color:cyan\"> |-dense_block_1/units_2: 64</span>"
            ],
            "text/plain": [
              "<IPython.core.display.HTML object>"
            ]
          },
          "metadata": {
            "tags": []
          }
        },
        {
          "output_type": "display_data",
          "data": {
            "text/html": [
              "<span style=\"color:blue\"> |-dense_block_1/use_batchnorm: False</span>"
            ],
            "text/plain": [
              "<IPython.core.display.HTML object>"
            ]
          },
          "metadata": {
            "tags": []
          }
        },
        {
          "output_type": "display_data",
          "data": {
            "text/html": [
              "<span style=\"color:cyan\"> |-optimizer: adam</span>"
            ],
            "text/plain": [
              "<IPython.core.display.HTML object>"
            ]
          },
          "metadata": {
            "tags": []
          }
        },
        {
          "output_type": "display_data",
          "data": {
            "text/html": [
              "<span style=\"color:cyan\"> |-Score: 0.2557682565280369</span>"
            ],
            "text/plain": [
              "<IPython.core.display.HTML object>"
            ]
          },
          "metadata": {
            "tags": []
          }
        },
        {
          "output_type": "display_data",
          "data": {
            "text/html": [
              "<span style=\"color:cyan\"> |-Best step: 0</span>"
            ],
            "text/plain": [
              "<IPython.core.display.HTML object>"
            ]
          },
          "metadata": {
            "tags": []
          }
        },
        {
          "output_type": "stream",
          "text": [
            "Epoch 1/50\n",
            "27/27 [==============================] - 3s 113ms/step - loss: 0.5059 - accuracy: 0.7160 - val_loss: 0.0000e+00 - val_accuracy: 0.0000e+00\n",
            "Epoch 2/50\n",
            "27/27 [==============================] - 2s 85ms/step - loss: 0.0611 - accuracy: 0.9834 - val_loss: 0.5431 - val_accuracy: 0.8863\n",
            "Epoch 3/50\n",
            "27/27 [==============================] - 2s 85ms/step - loss: 0.0102 - accuracy: 0.9964 - val_loss: 0.6209 - val_accuracy: 0.8863\n",
            "Epoch 4/50\n",
            "27/27 [==============================] - 2s 88ms/step - loss: 0.0051 - accuracy: 0.9976 - val_loss: 0.5520 - val_accuracy: 0.8815\n",
            "Epoch 5/50\n",
            "27/27 [==============================] - 2s 87ms/step - loss: 0.0043 - accuracy: 0.9988 - val_loss: 0.5700 - val_accuracy: 0.8863\n",
            "Epoch 6/50\n",
            "27/27 [==============================] - 2s 88ms/step - loss: 0.0011 - accuracy: 0.9988 - val_loss: 0.5954 - val_accuracy: 0.8768\n",
            "Epoch 7/50\n",
            "27/27 [==============================] - 2s 87ms/step - loss: 9.6240e-05 - accuracy: 1.0000 - val_loss: 0.6052 - val_accuracy: 0.8768\n",
            "Epoch 8/50\n",
            "27/27 [==============================] - 2s 84ms/step - loss: 7.6874e-05 - accuracy: 1.0000 - val_loss: 0.6088 - val_accuracy: 0.8768\n",
            "Epoch 9/50\n",
            "27/27 [==============================] - 2s 85ms/step - loss: 6.1653e-05 - accuracy: 1.0000 - val_loss: 0.6120 - val_accuracy: 0.8768\n",
            "Epoch 10/50\n",
            "27/27 [==============================] - 2s 84ms/step - loss: 5.0736e-05 - accuracy: 1.0000 - val_loss: 0.6151 - val_accuracy: 0.8815\n",
            "Epoch 11/50\n",
            "27/27 [==============================] - 2s 86ms/step - loss: 4.2651e-05 - accuracy: 1.0000 - val_loss: 0.6182 - val_accuracy: 0.8815\n"
          ],
          "name": "stdout"
        },
        {
          "output_type": "display_data",
          "data": {
            "text/html": [
              "<span style=\"color:#4527A0\"><h1 style=\"font-size:18px\">Trial complete</h1></span>"
            ],
            "text/plain": [
              "<IPython.core.display.HTML object>"
            ]
          },
          "metadata": {
            "tags": []
          }
        },
        {
          "output_type": "display_data",
          "data": {
            "text/html": [
              "<span style=\"color:#4527A0\"><h1 style=\"font-size:18px\">Trial summary</h1></span>"
            ],
            "text/plain": [
              "<IPython.core.display.HTML object>"
            ]
          },
          "metadata": {
            "tags": []
          }
        },
        {
          "output_type": "display_data",
          "data": {
            "text/html": [
              "<span style=\"color:#7E57C2\"><h2 style=\"font-size:16px\">Hp values:</h2></span>"
            ],
            "text/plain": [
              "<IPython.core.display.HTML object>"
            ]
          },
          "metadata": {
            "tags": []
          }
        },
        {
          "output_type": "display_data",
          "data": {
            "text/html": [
              "<span style=\"color:cyan\"> |-dense_block_1/dropout_rate: 0.0</span>"
            ],
            "text/plain": [
              "<IPython.core.display.HTML object>"
            ]
          },
          "metadata": {
            "tags": []
          }
        },
        {
          "output_type": "display_data",
          "data": {
            "text/html": [
              "<span style=\"color:blue\"> |-dense_block_1/num_layers: 3</span>"
            ],
            "text/plain": [
              "<IPython.core.display.HTML object>"
            ]
          },
          "metadata": {
            "tags": []
          }
        },
        {
          "output_type": "display_data",
          "data": {
            "text/html": [
              "<span style=\"color:cyan\"> |-dense_block_1/units_0: 1024</span>"
            ],
            "text/plain": [
              "<IPython.core.display.HTML object>"
            ]
          },
          "metadata": {
            "tags": []
          }
        },
        {
          "output_type": "display_data",
          "data": {
            "text/html": [
              "<span style=\"color:blue\"> |-dense_block_1/units_1: 512</span>"
            ],
            "text/plain": [
              "<IPython.core.display.HTML object>"
            ]
          },
          "metadata": {
            "tags": []
          }
        },
        {
          "output_type": "display_data",
          "data": {
            "text/html": [
              "<span style=\"color:cyan\"> |-dense_block_1/units_2: 128</span>"
            ],
            "text/plain": [
              "<IPython.core.display.HTML object>"
            ]
          },
          "metadata": {
            "tags": []
          }
        },
        {
          "output_type": "display_data",
          "data": {
            "text/html": [
              "<span style=\"color:blue\"> |-dense_block_1/use_batchnorm: False</span>"
            ],
            "text/plain": [
              "<IPython.core.display.HTML object>"
            ]
          },
          "metadata": {
            "tags": []
          }
        },
        {
          "output_type": "display_data",
          "data": {
            "text/html": [
              "<span style=\"color:cyan\"> |-optimizer: adam</span>"
            ],
            "text/plain": [
              "<IPython.core.display.HTML object>"
            ]
          },
          "metadata": {
            "tags": []
          }
        },
        {
          "output_type": "display_data",
          "data": {
            "text/html": [
              "<span style=\"color:cyan\"> |-Score: 0.3373228354113443</span>"
            ],
            "text/plain": [
              "<IPython.core.display.HTML object>"
            ]
          },
          "metadata": {
            "tags": []
          }
        },
        {
          "output_type": "display_data",
          "data": {
            "text/html": [
              "<span style=\"color:cyan\"> |-Best step: 0</span>"
            ],
            "text/plain": [
              "<IPython.core.display.HTML object>"
            ]
          },
          "metadata": {
            "tags": []
          }
        },
        {
          "output_type": "stream",
          "text": [
            "Epoch 1/50\n",
            "27/27 [==============================] - 2s 91ms/step - loss: 0.6285 - accuracy: 0.6142 - val_loss: 0.0000e+00 - val_accuracy: 0.0000e+00\n",
            "Epoch 2/50\n",
            "27/27 [==============================] - 2s 68ms/step - loss: 0.4069 - accuracy: 0.8935 - val_loss: 0.3912 - val_accuracy: 0.8815\n",
            "Epoch 3/50\n",
            "27/27 [==============================] - 2s 67ms/step - loss: 0.1883 - accuracy: 0.9811 - val_loss: 0.2913 - val_accuracy: 0.8863\n",
            "Epoch 4/50\n",
            "27/27 [==============================] - 2s 68ms/step - loss: 0.0869 - accuracy: 0.9905 - val_loss: 0.2639 - val_accuracy: 0.8863\n",
            "Epoch 5/50\n",
            "27/27 [==============================] - 2s 69ms/step - loss: 0.0477 - accuracy: 0.9976 - val_loss: 0.2577 - val_accuracy: 0.8910\n",
            "Epoch 6/50\n",
            "27/27 [==============================] - 2s 69ms/step - loss: 0.0294 - accuracy: 0.9988 - val_loss: 0.2583 - val_accuracy: 0.8957\n",
            "Epoch 7/50\n",
            "27/27 [==============================] - 2s 68ms/step - loss: 0.0202 - accuracy: 0.9988 - val_loss: 0.2607 - val_accuracy: 0.8957\n",
            "Epoch 8/50\n",
            "27/27 [==============================] - 2s 65ms/step - loss: 0.0141 - accuracy: 0.9988 - val_loss: 0.2643 - val_accuracy: 0.8957\n",
            "Epoch 9/50\n",
            "27/27 [==============================] - 2s 67ms/step - loss: 0.0109 - accuracy: 0.9988 - val_loss: 0.2683 - val_accuracy: 0.8957\n",
            "Epoch 10/50\n",
            "27/27 [==============================] - 2s 68ms/step - loss: 0.0084 - accuracy: 1.0000 - val_loss: 0.2723 - val_accuracy: 0.9005\n",
            "Epoch 11/50\n",
            "27/27 [==============================] - 2s 66ms/step - loss: 0.0067 - accuracy: 1.0000 - val_loss: 0.2759 - val_accuracy: 0.9005\n",
            "Epoch 12/50\n",
            "27/27 [==============================] - 2s 66ms/step - loss: 0.0054 - accuracy: 1.0000 - val_loss: 0.2794 - val_accuracy: 0.9005\n",
            "Epoch 13/50\n",
            "27/27 [==============================] - 2s 66ms/step - loss: 0.0044 - accuracy: 1.0000 - val_loss: 0.2832 - val_accuracy: 0.9005\n",
            "Epoch 14/50\n",
            "27/27 [==============================] - 2s 67ms/step - loss: 0.0038 - accuracy: 1.0000 - val_loss: 0.2865 - val_accuracy: 0.9005\n",
            "Epoch 15/50\n",
            "27/27 [==============================] - 2s 65ms/step - loss: 0.0033 - accuracy: 1.0000 - val_loss: 0.2899 - val_accuracy: 0.9005\n"
          ],
          "name": "stdout"
        },
        {
          "output_type": "display_data",
          "data": {
            "text/html": [
              "<span style=\"color:#4527A0\"><h1 style=\"font-size:18px\">Trial complete</h1></span>"
            ],
            "text/plain": [
              "<IPython.core.display.HTML object>"
            ]
          },
          "metadata": {
            "tags": []
          }
        },
        {
          "output_type": "display_data",
          "data": {
            "text/html": [
              "<span style=\"color:#4527A0\"><h1 style=\"font-size:18px\">Trial summary</h1></span>"
            ],
            "text/plain": [
              "<IPython.core.display.HTML object>"
            ]
          },
          "metadata": {
            "tags": []
          }
        },
        {
          "output_type": "display_data",
          "data": {
            "text/html": [
              "<span style=\"color:#7E57C2\"><h2 style=\"font-size:16px\">Hp values:</h2></span>"
            ],
            "text/plain": [
              "<IPython.core.display.HTML object>"
            ]
          },
          "metadata": {
            "tags": []
          }
        },
        {
          "output_type": "display_data",
          "data": {
            "text/html": [
              "<span style=\"color:cyan\"> |-dense_block_1/dropout_rate: 0.25</span>"
            ],
            "text/plain": [
              "<IPython.core.display.HTML object>"
            ]
          },
          "metadata": {
            "tags": []
          }
        },
        {
          "output_type": "display_data",
          "data": {
            "text/html": [
              "<span style=\"color:blue\"> |-dense_block_1/num_layers: 1</span>"
            ],
            "text/plain": [
              "<IPython.core.display.HTML object>"
            ]
          },
          "metadata": {
            "tags": []
          }
        },
        {
          "output_type": "display_data",
          "data": {
            "text/html": [
              "<span style=\"color:cyan\"> |-dense_block_1/units_0: 512</span>"
            ],
            "text/plain": [
              "<IPython.core.display.HTML object>"
            ]
          },
          "metadata": {
            "tags": []
          }
        },
        {
          "output_type": "display_data",
          "data": {
            "text/html": [
              "<span style=\"color:blue\"> |-dense_block_1/units_1: 32</span>"
            ],
            "text/plain": [
              "<IPython.core.display.HTML object>"
            ]
          },
          "metadata": {
            "tags": []
          }
        },
        {
          "output_type": "display_data",
          "data": {
            "text/html": [
              "<span style=\"color:cyan\"> |-dense_block_1/units_2: 128</span>"
            ],
            "text/plain": [
              "<IPython.core.display.HTML object>"
            ]
          },
          "metadata": {
            "tags": []
          }
        },
        {
          "output_type": "display_data",
          "data": {
            "text/html": [
              "<span style=\"color:blue\"> |-dense_block_1/use_batchnorm: False</span>"
            ],
            "text/plain": [
              "<IPython.core.display.HTML object>"
            ]
          },
          "metadata": {
            "tags": []
          }
        },
        {
          "output_type": "display_data",
          "data": {
            "text/html": [
              "<span style=\"color:cyan\"> |-optimizer: adam</span>"
            ],
            "text/plain": [
              "<IPython.core.display.HTML object>"
            ]
          },
          "metadata": {
            "tags": []
          }
        },
        {
          "output_type": "display_data",
          "data": {
            "text/html": [
              "<span style=\"color:cyan\"> |-Score: 0.25768241712025236</span>"
            ],
            "text/plain": [
              "<IPython.core.display.HTML object>"
            ]
          },
          "metadata": {
            "tags": []
          }
        },
        {
          "output_type": "display_data",
          "data": {
            "text/html": [
              "<span style=\"color:cyan\"> |-Best step: 0</span>"
            ],
            "text/plain": [
              "<IPython.core.display.HTML object>"
            ]
          },
          "metadata": {
            "tags": []
          }
        },
        {
          "output_type": "stream",
          "text": [
            "Epoch 1/50\n",
            "27/27 [==============================] - 2s 85ms/step - loss: 0.6888 - accuracy: 0.5941 - val_loss: 0.0000e+00 - val_accuracy: 0.0000e+00\n",
            "Epoch 2/50\n",
            "27/27 [==============================] - 2s 65ms/step - loss: 0.6839 - accuracy: 0.6012 - val_loss: 0.6902 - val_accuracy: 0.5403\n",
            "Epoch 3/50\n",
            "27/27 [==============================] - 2s 64ms/step - loss: 0.6812 - accuracy: 0.6036 - val_loss: 0.6898 - val_accuracy: 0.5403\n",
            "Epoch 4/50\n",
            "27/27 [==============================] - 2s 65ms/step - loss: 0.6791 - accuracy: 0.6036 - val_loss: 0.6896 - val_accuracy: 0.5403\n",
            "Epoch 5/50\n",
            "27/27 [==============================] - 2s 67ms/step - loss: 0.6774 - accuracy: 0.6036 - val_loss: 0.6895 - val_accuracy: 0.5403\n",
            "Epoch 6/50\n",
            "27/27 [==============================] - 2s 62ms/step - loss: 0.6746 - accuracy: 0.6036 - val_loss: 0.6895 - val_accuracy: 0.5403\n",
            "Epoch 7/50\n",
            "27/27 [==============================] - 2s 64ms/step - loss: 0.6736 - accuracy: 0.6036 - val_loss: 0.6896 - val_accuracy: 0.5403\n",
            "Epoch 8/50\n",
            "27/27 [==============================] - 2s 64ms/step - loss: 0.6724 - accuracy: 0.6036 - val_loss: 0.6897 - val_accuracy: 0.5403\n",
            "Epoch 9/50\n",
            "27/27 [==============================] - 2s 66ms/step - loss: 0.6706 - accuracy: 0.6036 - val_loss: 0.6899 - val_accuracy: 0.5403\n",
            "Epoch 10/50\n",
            "27/27 [==============================] - 2s 63ms/step - loss: 0.6701 - accuracy: 0.6036 - val_loss: 0.6900 - val_accuracy: 0.5403\n",
            "Epoch 11/50\n",
            "27/27 [==============================] - 2s 64ms/step - loss: 0.6690 - accuracy: 0.6036 - val_loss: 0.6902 - val_accuracy: 0.5403\n",
            "Epoch 12/50\n",
            "27/27 [==============================] - 2s 64ms/step - loss: 0.6674 - accuracy: 0.6036 - val_loss: 0.6903 - val_accuracy: 0.5403\n",
            "Epoch 13/50\n",
            "27/27 [==============================] - 2s 61ms/step - loss: 0.6672 - accuracy: 0.6036 - val_loss: 0.6904 - val_accuracy: 0.5403\n",
            "Epoch 14/50\n",
            "27/27 [==============================] - 2s 65ms/step - loss: 0.6661 - accuracy: 0.6036 - val_loss: 0.6905 - val_accuracy: 0.5403\n",
            "Epoch 15/50\n",
            "27/27 [==============================] - 2s 65ms/step - loss: 0.6652 - accuracy: 0.6036 - val_loss: 0.6906 - val_accuracy: 0.5403\n"
          ],
          "name": "stdout"
        },
        {
          "output_type": "display_data",
          "data": {
            "text/html": [
              "<span style=\"color:#4527A0\"><h1 style=\"font-size:18px\">Trial complete</h1></span>"
            ],
            "text/plain": [
              "<IPython.core.display.HTML object>"
            ]
          },
          "metadata": {
            "tags": []
          }
        },
        {
          "output_type": "display_data",
          "data": {
            "text/html": [
              "<span style=\"color:#4527A0\"><h1 style=\"font-size:18px\">Trial summary</h1></span>"
            ],
            "text/plain": [
              "<IPython.core.display.HTML object>"
            ]
          },
          "metadata": {
            "tags": []
          }
        },
        {
          "output_type": "display_data",
          "data": {
            "text/html": [
              "<span style=\"color:#7E57C2\"><h2 style=\"font-size:16px\">Hp values:</h2></span>"
            ],
            "text/plain": [
              "<IPython.core.display.HTML object>"
            ]
          },
          "metadata": {
            "tags": []
          }
        },
        {
          "output_type": "display_data",
          "data": {
            "text/html": [
              "<span style=\"color:cyan\"> |-dense_block_1/dropout_rate: 0.5</span>"
            ],
            "text/plain": [
              "<IPython.core.display.HTML object>"
            ]
          },
          "metadata": {
            "tags": []
          }
        },
        {
          "output_type": "display_data",
          "data": {
            "text/html": [
              "<span style=\"color:blue\"> |-dense_block_1/num_layers: 1</span>"
            ],
            "text/plain": [
              "<IPython.core.display.HTML object>"
            ]
          },
          "metadata": {
            "tags": []
          }
        },
        {
          "output_type": "display_data",
          "data": {
            "text/html": [
              "<span style=\"color:cyan\"> |-dense_block_1/units_0: 512</span>"
            ],
            "text/plain": [
              "<IPython.core.display.HTML object>"
            ]
          },
          "metadata": {
            "tags": []
          }
        },
        {
          "output_type": "display_data",
          "data": {
            "text/html": [
              "<span style=\"color:blue\"> |-dense_block_1/units_1: 1024</span>"
            ],
            "text/plain": [
              "<IPython.core.display.HTML object>"
            ]
          },
          "metadata": {
            "tags": []
          }
        },
        {
          "output_type": "display_data",
          "data": {
            "text/html": [
              "<span style=\"color:cyan\"> |-dense_block_1/units_2: 64</span>"
            ],
            "text/plain": [
              "<IPython.core.display.HTML object>"
            ]
          },
          "metadata": {
            "tags": []
          }
        },
        {
          "output_type": "display_data",
          "data": {
            "text/html": [
              "<span style=\"color:blue\"> |-dense_block_1/use_batchnorm: False</span>"
            ],
            "text/plain": [
              "<IPython.core.display.HTML object>"
            ]
          },
          "metadata": {
            "tags": []
          }
        },
        {
          "output_type": "display_data",
          "data": {
            "text/html": [
              "<span style=\"color:cyan\"> |-optimizer: sgd</span>"
            ],
            "text/plain": [
              "<IPython.core.display.HTML object>"
            ]
          },
          "metadata": {
            "tags": []
          }
        },
        {
          "output_type": "display_data",
          "data": {
            "text/html": [
              "<span style=\"color:cyan\"> |-Score: 0.6894649863243103</span>"
            ],
            "text/plain": [
              "<IPython.core.display.HTML object>"
            ]
          },
          "metadata": {
            "tags": []
          }
        },
        {
          "output_type": "display_data",
          "data": {
            "text/html": [
              "<span style=\"color:cyan\"> |-Best step: 0</span>"
            ],
            "text/plain": [
              "<IPython.core.display.HTML object>"
            ]
          },
          "metadata": {
            "tags": []
          }
        },
        {
          "output_type": "stream",
          "text": [
            "Epoch 1/50\n",
            "27/27 [==============================] - 3s 118ms/step - loss: 0.5557 - accuracy: 0.7136 - val_loss: 0.0000e+00 - val_accuracy: 0.0000e+00\n",
            "Epoch 2/50\n",
            "27/27 [==============================] - 2s 63ms/step - loss: 0.2270 - accuracy: 0.9515 - val_loss: 0.6339 - val_accuracy: 0.7583\n",
            "Epoch 3/50\n",
            "27/27 [==============================] - 2s 63ms/step - loss: 0.1542 - accuracy: 0.9976 - val_loss: 0.6157 - val_accuracy: 0.7346\n",
            "Epoch 4/50\n",
            "27/27 [==============================] - 2s 63ms/step - loss: 0.1154 - accuracy: 0.9976 - val_loss: 0.5994 - val_accuracy: 0.7156\n",
            "Epoch 5/50\n",
            "27/27 [==============================] - 2s 65ms/step - loss: 0.0919 - accuracy: 0.9988 - val_loss: 0.5831 - val_accuracy: 0.7204\n",
            "Epoch 6/50\n",
            "27/27 [==============================] - 2s 66ms/step - loss: 0.0808 - accuracy: 0.9988 - val_loss: 0.5641 - val_accuracy: 0.7204\n",
            "Epoch 7/50\n",
            "27/27 [==============================] - 2s 65ms/step - loss: 0.0679 - accuracy: 1.0000 - val_loss: 0.5444 - val_accuracy: 0.7204\n",
            "Epoch 8/50\n",
            "27/27 [==============================] - 2s 63ms/step - loss: 0.0558 - accuracy: 1.0000 - val_loss: 0.5239 - val_accuracy: 0.7251\n",
            "Epoch 9/50\n",
            "27/27 [==============================] - 2s 62ms/step - loss: 0.0492 - accuracy: 1.0000 - val_loss: 0.5006 - val_accuracy: 0.7346\n",
            "Epoch 10/50\n",
            "27/27 [==============================] - 2s 62ms/step - loss: 0.0404 - accuracy: 1.0000 - val_loss: 0.4753 - val_accuracy: 0.7583\n",
            "Epoch 11/50\n",
            "27/27 [==============================] - 2s 63ms/step - loss: 0.0373 - accuracy: 0.9988 - val_loss: 0.4528 - val_accuracy: 0.7773\n",
            "Epoch 12/50\n",
            "27/27 [==============================] - 2s 63ms/step - loss: 0.0313 - accuracy: 1.0000 - val_loss: 0.4291 - val_accuracy: 0.7773\n",
            "Epoch 13/50\n",
            "27/27 [==============================] - 2s 65ms/step - loss: 0.0264 - accuracy: 1.0000 - val_loss: 0.4036 - val_accuracy: 0.8199\n",
            "Epoch 14/50\n",
            "27/27 [==============================] - 2s 63ms/step - loss: 0.0236 - accuracy: 1.0000 - val_loss: 0.3816 - val_accuracy: 0.8294\n",
            "Epoch 15/50\n",
            "27/27 [==============================] - 2s 63ms/step - loss: 0.0210 - accuracy: 1.0000 - val_loss: 0.3597 - val_accuracy: 0.8436\n",
            "Epoch 16/50\n",
            "27/27 [==============================] - 2s 64ms/step - loss: 0.0210 - accuracy: 1.0000 - val_loss: 0.3393 - val_accuracy: 0.8436\n",
            "Epoch 17/50\n",
            "27/27 [==============================] - 2s 62ms/step - loss: 0.0163 - accuracy: 1.0000 - val_loss: 0.3214 - val_accuracy: 0.8720\n",
            "Epoch 18/50\n",
            "27/27 [==============================] - 2s 62ms/step - loss: 0.0177 - accuracy: 1.0000 - val_loss: 0.3075 - val_accuracy: 0.8910\n",
            "Epoch 19/50\n",
            "27/27 [==============================] - 2s 66ms/step - loss: 0.0145 - accuracy: 1.0000 - val_loss: 0.2947 - val_accuracy: 0.9005\n",
            "Epoch 20/50\n",
            "27/27 [==============================] - 2s 62ms/step - loss: 0.0148 - accuracy: 1.0000 - val_loss: 0.2858 - val_accuracy: 0.9100\n",
            "Epoch 21/50\n",
            "27/27 [==============================] - 2s 63ms/step - loss: 0.0144 - accuracy: 1.0000 - val_loss: 0.2846 - val_accuracy: 0.9052\n",
            "Epoch 22/50\n",
            "27/27 [==============================] - 2s 65ms/step - loss: 0.0120 - accuracy: 1.0000 - val_loss: 0.2858 - val_accuracy: 0.9005\n",
            "Epoch 23/50\n",
            "27/27 [==============================] - 2s 65ms/step - loss: 0.0101 - accuracy: 1.0000 - val_loss: 0.2858 - val_accuracy: 0.9005\n",
            "Epoch 24/50\n",
            "27/27 [==============================] - 2s 63ms/step - loss: 0.0101 - accuracy: 1.0000 - val_loss: 0.2915 - val_accuracy: 0.9005\n",
            "Epoch 25/50\n",
            "27/27 [==============================] - 2s 62ms/step - loss: 0.0109 - accuracy: 1.0000 - val_loss: 0.2974 - val_accuracy: 0.9005\n",
            "Epoch 26/50\n",
            "27/27 [==============================] - 2s 64ms/step - loss: 0.0115 - accuracy: 1.0000 - val_loss: 0.3018 - val_accuracy: 0.9005\n",
            "Epoch 27/50\n",
            "27/27 [==============================] - 2s 65ms/step - loss: 0.0094 - accuracy: 1.0000 - val_loss: 0.3085 - val_accuracy: 0.9005\n",
            "Epoch 28/50\n",
            "27/27 [==============================] - 2s 64ms/step - loss: 0.0081 - accuracy: 1.0000 - val_loss: 0.3098 - val_accuracy: 0.9005\n",
            "Epoch 29/50\n",
            "27/27 [==============================] - 2s 63ms/step - loss: 0.0073 - accuracy: 1.0000 - val_loss: 0.3135 - val_accuracy: 0.9005\n",
            "Epoch 30/50\n",
            "27/27 [==============================] - 2s 59ms/step - loss: 0.0071 - accuracy: 1.0000 - val_loss: 0.3166 - val_accuracy: 0.9005\n",
            "Epoch 31/50\n",
            "27/27 [==============================] - 2s 63ms/step - loss: 0.0065 - accuracy: 1.0000 - val_loss: 0.3216 - val_accuracy: 0.9005\n"
          ],
          "name": "stdout"
        },
        {
          "output_type": "display_data",
          "data": {
            "text/html": [
              "<span style=\"color:#4527A0\"><h1 style=\"font-size:18px\">Trial complete</h1></span>"
            ],
            "text/plain": [
              "<IPython.core.display.HTML object>"
            ]
          },
          "metadata": {
            "tags": []
          }
        },
        {
          "output_type": "display_data",
          "data": {
            "text/html": [
              "<span style=\"color:#4527A0\"><h1 style=\"font-size:18px\">Trial summary</h1></span>"
            ],
            "text/plain": [
              "<IPython.core.display.HTML object>"
            ]
          },
          "metadata": {
            "tags": []
          }
        },
        {
          "output_type": "display_data",
          "data": {
            "text/html": [
              "<span style=\"color:#7E57C2\"><h2 style=\"font-size:16px\">Hp values:</h2></span>"
            ],
            "text/plain": [
              "<IPython.core.display.HTML object>"
            ]
          },
          "metadata": {
            "tags": []
          }
        },
        {
          "output_type": "display_data",
          "data": {
            "text/html": [
              "<span style=\"color:cyan\"> |-dense_block_1/dropout_rate: 0.25</span>"
            ],
            "text/plain": [
              "<IPython.core.display.HTML object>"
            ]
          },
          "metadata": {
            "tags": []
          }
        },
        {
          "output_type": "display_data",
          "data": {
            "text/html": [
              "<span style=\"color:blue\"> |-dense_block_1/num_layers: 2</span>"
            ],
            "text/plain": [
              "<IPython.core.display.HTML object>"
            ]
          },
          "metadata": {
            "tags": []
          }
        },
        {
          "output_type": "display_data",
          "data": {
            "text/html": [
              "<span style=\"color:cyan\"> |-dense_block_1/units_0: 256</span>"
            ],
            "text/plain": [
              "<IPython.core.display.HTML object>"
            ]
          },
          "metadata": {
            "tags": []
          }
        },
        {
          "output_type": "display_data",
          "data": {
            "text/html": [
              "<span style=\"color:blue\"> |-dense_block_1/units_1: 16</span>"
            ],
            "text/plain": [
              "<IPython.core.display.HTML object>"
            ]
          },
          "metadata": {
            "tags": []
          }
        },
        {
          "output_type": "display_data",
          "data": {
            "text/html": [
              "<span style=\"color:cyan\"> |-dense_block_1/units_2: 128</span>"
            ],
            "text/plain": [
              "<IPython.core.display.HTML object>"
            ]
          },
          "metadata": {
            "tags": []
          }
        },
        {
          "output_type": "display_data",
          "data": {
            "text/html": [
              "<span style=\"color:blue\"> |-dense_block_1/use_batchnorm: True</span>"
            ],
            "text/plain": [
              "<IPython.core.display.HTML object>"
            ]
          },
          "metadata": {
            "tags": []
          }
        },
        {
          "output_type": "display_data",
          "data": {
            "text/html": [
              "<span style=\"color:cyan\"> |-optimizer: adam</span>"
            ],
            "text/plain": [
              "<IPython.core.display.HTML object>"
            ]
          },
          "metadata": {
            "tags": []
          }
        },
        {
          "output_type": "display_data",
          "data": {
            "text/html": [
              "<span style=\"color:cyan\"> |-Score: 0.2846028506755829</span>"
            ],
            "text/plain": [
              "<IPython.core.display.HTML object>"
            ]
          },
          "metadata": {
            "tags": []
          }
        },
        {
          "output_type": "display_data",
          "data": {
            "text/html": [
              "<span style=\"color:cyan\"> |-Best step: 0</span>"
            ],
            "text/plain": [
              "<IPython.core.display.HTML object>"
            ]
          },
          "metadata": {
            "tags": []
          }
        },
        {
          "output_type": "stream",
          "text": [
            "INFO:tensorflow:Oracle triggered exit\n",
            "Epoch 1/50\n",
            "34/34 [==============================] - 3s 82ms/step - loss: 0.6337 - accuracy: 0.6070 - val_loss: 0.0000e+00 - val_accuracy: 0.0000e+00\n",
            "Epoch 2/50\n",
            "34/34 [==============================] - 2s 64ms/step - loss: 0.4190 - accuracy: 0.8892 - val_loss: 0.3203 - val_accuracy: 0.9289\n",
            "Epoch 3/50\n",
            "34/34 [==============================] - 2s 64ms/step - loss: 0.2026 - accuracy: 0.9697 - val_loss: 0.1885 - val_accuracy: 0.9336\n",
            "Epoch 4/50\n",
            "34/34 [==============================] - 2s 67ms/step - loss: 0.1076 - accuracy: 0.9820 - val_loss: 0.1246 - val_accuracy: 0.9573\n",
            "Epoch 5/50\n",
            "34/34 [==============================] - 2s 64ms/step - loss: 0.0639 - accuracy: 0.9915 - val_loss: 0.0851 - val_accuracy: 0.9763\n",
            "Epoch 6/50\n",
            "34/34 [==============================] - 2s 65ms/step - loss: 0.0426 - accuracy: 0.9924 - val_loss: 0.0616 - val_accuracy: 0.9858\n",
            "Epoch 7/50\n",
            "34/34 [==============================] - 2s 66ms/step - loss: 0.0312 - accuracy: 0.9953 - val_loss: 0.0463 - val_accuracy: 0.9905\n",
            "Epoch 8/50\n",
            "34/34 [==============================] - 2s 64ms/step - loss: 0.0256 - accuracy: 0.9943 - val_loss: 0.0362 - val_accuracy: 0.9953\n",
            "Epoch 9/50\n",
            "34/34 [==============================] - 2s 70ms/step - loss: 0.0190 - accuracy: 0.9953 - val_loss: 0.0293 - val_accuracy: 0.9953\n",
            "Epoch 10/50\n",
            "34/34 [==============================] - 2s 65ms/step - loss: 0.0158 - accuracy: 0.9953 - val_loss: 0.0246 - val_accuracy: 0.9953\n",
            "Epoch 11/50\n",
            "34/34 [==============================] - 2s 64ms/step - loss: 0.0137 - accuracy: 0.9962 - val_loss: 0.0216 - val_accuracy: 0.9953\n",
            "Epoch 12/50\n",
            "34/34 [==============================] - 2s 61ms/step - loss: 0.0116 - accuracy: 0.9962 - val_loss: 0.0196 - val_accuracy: 0.9953\n",
            "Epoch 13/50\n",
            "34/34 [==============================] - 2s 64ms/step - loss: 0.0101 - accuracy: 0.9962 - val_loss: 0.0175 - val_accuracy: 0.9953\n",
            "Epoch 14/50\n",
            "34/34 [==============================] - 2s 63ms/step - loss: 0.0093 - accuracy: 0.9972 - val_loss: 0.0160 - val_accuracy: 0.9953\n",
            "Epoch 15/50\n",
            "34/34 [==============================] - 2s 65ms/step - loss: 0.0078 - accuracy: 0.9981 - val_loss: 0.0151 - val_accuracy: 0.9905\n",
            "Epoch 16/50\n",
            "34/34 [==============================] - 2s 64ms/step - loss: 0.0086 - accuracy: 0.9962 - val_loss: 0.0149 - val_accuracy: 0.9905\n",
            "Epoch 17/50\n",
            "34/34 [==============================] - 2s 65ms/step - loss: 0.0069 - accuracy: 0.9972 - val_loss: 0.0129 - val_accuracy: 0.9953\n",
            "Epoch 18/50\n",
            "34/34 [==============================] - 2s 66ms/step - loss: 0.0068 - accuracy: 0.9972 - val_loss: 0.0123 - val_accuracy: 1.0000\n",
            "Epoch 19/50\n",
            "34/34 [==============================] - 2s 64ms/step - loss: 0.0068 - accuracy: 0.9972 - val_loss: 0.0118 - val_accuracy: 0.9953\n",
            "Epoch 20/50\n",
            "34/34 [==============================] - 2s 66ms/step - loss: 0.0056 - accuracy: 0.9972 - val_loss: 0.0106 - val_accuracy: 0.9953\n",
            "Epoch 21/50\n",
            "34/34 [==============================] - 2s 67ms/step - loss: 0.0081 - accuracy: 0.9962 - val_loss: 0.0108 - val_accuracy: 0.9953\n",
            "Epoch 22/50\n",
            "34/34 [==============================] - 2s 65ms/step - loss: 0.0066 - accuracy: 0.9962 - val_loss: 0.0107 - val_accuracy: 0.9953\n",
            "Epoch 23/50\n",
            "34/34 [==============================] - 2s 65ms/step - loss: 0.0051 - accuracy: 0.9991 - val_loss: 0.0104 - val_accuracy: 0.9953\n",
            "Epoch 24/50\n",
            "34/34 [==============================] - 2s 66ms/step - loss: 0.0047 - accuracy: 0.9991 - val_loss: 0.0102 - val_accuracy: 0.9953\n",
            "Epoch 25/50\n",
            "34/34 [==============================] - 2s 66ms/step - loss: 0.0048 - accuracy: 0.9981 - val_loss: 0.0095 - val_accuracy: 0.9953\n",
            "Epoch 26/50\n",
            "34/34 [==============================] - 2s 63ms/step - loss: 0.0061 - accuracy: 0.9962 - val_loss: 0.0090 - val_accuracy: 0.9953\n",
            "Epoch 27/50\n",
            "34/34 [==============================] - 2s 64ms/step - loss: 0.0047 - accuracy: 0.9972 - val_loss: 0.0086 - val_accuracy: 0.9953\n",
            "Epoch 28/50\n",
            "34/34 [==============================] - 2s 65ms/step - loss: 0.0044 - accuracy: 0.9981 - val_loss: 0.0090 - val_accuracy: 1.0000\n",
            "Epoch 29/50\n",
            "34/34 [==============================] - 2s 64ms/step - loss: 0.0048 - accuracy: 0.9972 - val_loss: 0.0100 - val_accuracy: 0.9905\n",
            "Epoch 30/50\n",
            "34/34 [==============================] - 2s 67ms/step - loss: 0.0051 - accuracy: 0.9962 - val_loss: 0.0103 - val_accuracy: 0.9905\n",
            "Epoch 31/50\n",
            "34/34 [==============================] - 2s 68ms/step - loss: 0.0048 - accuracy: 0.9972 - val_loss: 0.0107 - val_accuracy: 0.9905\n",
            "Epoch 32/50\n",
            "34/34 [==============================] - 2s 67ms/step - loss: 0.0049 - accuracy: 0.9981 - val_loss: 0.0104 - val_accuracy: 0.9905\n",
            "Epoch 33/50\n",
            "34/34 [==============================] - 2s 64ms/step - loss: 0.0046 - accuracy: 0.9972 - val_loss: 0.0095 - val_accuracy: 0.9953\n",
            "Epoch 34/50\n",
            "34/34 [==============================] - 2s 66ms/step - loss: 0.0043 - accuracy: 0.9972 - val_loss: 0.0082 - val_accuracy: 0.9953\n",
            "Epoch 35/50\n",
            "34/34 [==============================] - 2s 64ms/step - loss: 0.0050 - accuracy: 0.9962 - val_loss: 0.0079 - val_accuracy: 1.0000\n",
            "Epoch 36/50\n",
            "34/34 [==============================] - 2s 64ms/step - loss: 0.0052 - accuracy: 0.9972 - val_loss: 0.0072 - val_accuracy: 0.9953\n",
            "Epoch 37/50\n",
            "34/34 [==============================] - 2s 65ms/step - loss: 0.0053 - accuracy: 0.9962 - val_loss: 0.0072 - val_accuracy: 0.9953\n",
            "Epoch 38/50\n",
            "34/34 [==============================] - 2s 64ms/step - loss: 0.0039 - accuracy: 0.9972 - val_loss: 0.0076 - val_accuracy: 0.9953\n",
            "Epoch 39/50\n",
            "34/34 [==============================] - 2s 66ms/step - loss: 0.0040 - accuracy: 0.9981 - val_loss: 0.0085 - val_accuracy: 0.9905\n",
            "Epoch 40/50\n",
            "34/34 [==============================] - 2s 63ms/step - loss: 0.0041 - accuracy: 0.9981 - val_loss: 0.0079 - val_accuracy: 0.9953\n",
            "Epoch 41/50\n",
            "34/34 [==============================] - 2s 65ms/step - loss: 0.0045 - accuracy: 0.9972 - val_loss: 0.0073 - val_accuracy: 0.9953\n",
            "Epoch 42/50\n",
            "34/34 [==============================] - 2s 66ms/step - loss: 0.0042 - accuracy: 0.9972 - val_loss: 0.0075 - val_accuracy: 0.9953\n",
            "Epoch 43/50\n",
            "34/34 [==============================] - 2s 63ms/step - loss: 0.0042 - accuracy: 0.9981 - val_loss: 0.0082 - val_accuracy: 0.9953\n",
            "Epoch 44/50\n",
            "34/34 [==============================] - 2s 66ms/step - loss: 0.0049 - accuracy: 0.9962 - val_loss: 0.0090 - val_accuracy: 0.9953\n",
            "Epoch 45/50\n",
            "34/34 [==============================] - 2s 66ms/step - loss: 0.0025 - accuracy: 0.9991 - val_loss: 0.0090 - val_accuracy: 0.9953\n",
            "Epoch 46/50\n",
            "34/34 [==============================] - 2s 64ms/step - loss: 0.0034 - accuracy: 0.9981 - val_loss: 0.0084 - val_accuracy: 0.9953\n",
            "Epoch 47/50\n",
            "34/34 [==============================] - 2s 66ms/step - loss: 0.0045 - accuracy: 0.9972 - val_loss: 0.0082 - val_accuracy: 0.9953\n",
            "Epoch 48/50\n",
            "34/34 [==============================] - 2s 65ms/step - loss: 0.0041 - accuracy: 0.9972 - val_loss: 0.0074 - val_accuracy: 0.9953\n",
            "Epoch 49/50\n",
            "34/34 [==============================] - 2s 65ms/step - loss: 0.0051 - accuracy: 0.9962 - val_loss: 0.0070 - val_accuracy: 0.9953\n",
            "Epoch 50/50\n",
            "34/34 [==============================] - 2s 63ms/step - loss: 0.0035 - accuracy: 0.9991 - val_loss: 0.0071 - val_accuracy: 0.9953\n"
          ],
          "name": "stdout"
        }
      ]
    },
    {
      "cell_type": "code",
      "metadata": {
        "id": "tPbY8vnGwwCK",
        "colab_type": "code",
        "colab": {
          "base_uri": "https://localhost:8080/",
          "height": 34
        },
        "outputId": "b7b5d917-3903-4407-aafb-0d1f4ecaa772"
      },
      "source": [
        ""
      ],
      "execution_count": 18,
      "outputs": [
        {
          "output_type": "execute_result",
          "data": {
            "text/plain": [
              "<autokeras.task.TextClassifier at 0x7f493f5ecdd8>"
            ]
          },
          "metadata": {
            "tags": []
          },
          "execution_count": 18
        }
      ]
    },
    {
      "cell_type": "code",
      "metadata": {
        "id": "DrUPxKGX6F1i",
        "colab_type": "code",
        "colab": {
          "base_uri": "https://localhost:8080/",
          "height": 71
        },
        "outputId": "a3375f91-4752-4d59-87b3-fb138a780765"
      },
      "source": [
        "test_mix[0]"
      ],
      "execution_count": 19,
      "outputs": [
        {
          "output_type": "execute_result",
          "data": {
            "text/plain": [
              "(\"www.breakingnews247.net/59bc13819a723/world-s-most-popular-candy-to-be-removed-from-shelves-by-october-2017.html, World's most popular candy to be removed from shelves by October 2017!\",\n",
              " 'fake')"
            ]
          },
          "metadata": {
            "tags": []
          },
          "execution_count": 19
        }
      ]
    },
    {
      "cell_type": "code",
      "metadata": {
        "id": "NJiG0lWi6OA3",
        "colab_type": "code",
        "colab": {
          "base_uri": "https://localhost:8080/",
          "height": 54
        },
        "outputId": "006c91f5-a362-4cae-cb82-9ef422f3056b"
      },
      "source": [
        "test_mix[0][0]"
      ],
      "execution_count": 20,
      "outputs": [
        {
          "output_type": "execute_result",
          "data": {
            "text/plain": [
              "\"www.breakingnews247.net/59bc13819a723/world-s-most-popular-candy-to-be-removed-from-shelves-by-october-2017.html, World's most popular candy to be removed from shelves by October 2017!\""
            ]
          },
          "metadata": {
            "tags": []
          },
          "execution_count": 20
        }
      ]
    },
    {
      "cell_type": "code",
      "metadata": {
        "id": "_eKi0az_6P_7",
        "colab_type": "code",
        "colab": {
          "base_uri": "https://localhost:8080/",
          "height": 34
        },
        "outputId": "45f49ac8-9602-4862-ddd2-f670ca85bc4e"
      },
      "source": [
        "clf.predict(np.array([test_mix[0][0]]))"
      ],
      "execution_count": 31,
      "outputs": [
        {
          "output_type": "execute_result",
          "data": {
            "text/plain": [
              "array([['fake']], dtype='<U4')"
            ]
          },
          "metadata": {
            "tags": []
          },
          "execution_count": 31
        }
      ]
    },
    {
      "cell_type": "code",
      "metadata": {
        "id": "xT_Uj-dW6UPz",
        "colab_type": "code",
        "colab": {}
      },
      "source": [
        "y_true = [label for x, label in test_mix]\n",
        "x_test = [x for x, label in test_mix]\n",
        "y_true = np.array(y_true)\n",
        "x_test = np.array(x_test)"
      ],
      "execution_count": 0,
      "outputs": []
    },
    {
      "cell_type": "code",
      "metadata": {
        "id": "_zsKXJZR611a",
        "colab_type": "code",
        "colab": {
          "base_uri": "https://localhost:8080/",
          "height": 1000
        },
        "outputId": "d04c667d-8ba8-408d-ae3c-10512a5641a1"
      },
      "source": [
        "y_pre = clf.predict(x_test)\n",
        "y_pre"
      ],
      "execution_count": 33,
      "outputs": [
        {
          "output_type": "stream",
          "text": [
            "WARNING:tensorflow:Unresolved object in checkpoint: (root).optimizer.iter\n",
            "WARNING:tensorflow:Unresolved object in checkpoint: (root).optimizer.beta_1\n",
            "WARNING:tensorflow:Unresolved object in checkpoint: (root).optimizer.beta_2\n",
            "WARNING:tensorflow:Unresolved object in checkpoint: (root).optimizer.decay\n",
            "WARNING:tensorflow:Unresolved object in checkpoint: (root).optimizer.learning_rate\n",
            "WARNING:tensorflow:A checkpoint was restored (e.g. tf.train.Checkpoint.restore or tf.keras.Model.load_weights) but not all checkpointed values were used. See above for specific issues. Use expect_partial() on the load status object, e.g. tf.train.Checkpoint.restore(...).expect_partial(), to silence these warnings, or use assert_consumed() to make the check explicit. See https://www.tensorflow.org/alpha/guide/checkpoints#loading_mechanics for details.\n"
          ],
          "name": "stdout"
        },
        {
          "output_type": "execute_result",
          "data": {
            "text/plain": [
              "array([['fake'],\n",
              "       ['real'],\n",
              "       ['real'],\n",
              "       ['real'],\n",
              "       ['fake'],\n",
              "       ['real'],\n",
              "       ['fake'],\n",
              "       ['real'],\n",
              "       ['fake'],\n",
              "       ['real'],\n",
              "       ['fake'],\n",
              "       ['fake'],\n",
              "       ['fake'],\n",
              "       ['fake'],\n",
              "       ['real'],\n",
              "       ['fake'],\n",
              "       ['fake'],\n",
              "       ['real'],\n",
              "       ['fake'],\n",
              "       ['fake'],\n",
              "       ['fake'],\n",
              "       ['real'],\n",
              "       ['real'],\n",
              "       ['real'],\n",
              "       ['fake'],\n",
              "       ['real'],\n",
              "       ['fake'],\n",
              "       ['real'],\n",
              "       ['real'],\n",
              "       ['real'],\n",
              "       ['real'],\n",
              "       ['real'],\n",
              "       ['fake'],\n",
              "       ['fake'],\n",
              "       ['fake'],\n",
              "       ['real'],\n",
              "       ['fake'],\n",
              "       ['real'],\n",
              "       ['real'],\n",
              "       ['real'],\n",
              "       ['real'],\n",
              "       ['real'],\n",
              "       ['real'],\n",
              "       ['real'],\n",
              "       ['real'],\n",
              "       ['fake'],\n",
              "       ['fake'],\n",
              "       ['fake'],\n",
              "       ['fake'],\n",
              "       ['fake'],\n",
              "       ['real'],\n",
              "       ['real'],\n",
              "       ['real'],\n",
              "       ['real'],\n",
              "       ['fake'],\n",
              "       ['real'],\n",
              "       ['fake'],\n",
              "       ['real'],\n",
              "       ['real'],\n",
              "       ['real'],\n",
              "       ['fake'],\n",
              "       ['real'],\n",
              "       ['fake'],\n",
              "       ['fake'],\n",
              "       ['fake'],\n",
              "       ['fake'],\n",
              "       ['fake'],\n",
              "       ['real'],\n",
              "       ['real'],\n",
              "       ['real'],\n",
              "       ['real'],\n",
              "       ['real'],\n",
              "       ['fake'],\n",
              "       ['real'],\n",
              "       ['real'],\n",
              "       ['fake'],\n",
              "       ['fake'],\n",
              "       ['real'],\n",
              "       ['real'],\n",
              "       ['fake'],\n",
              "       ['fake'],\n",
              "       ['real'],\n",
              "       ['real'],\n",
              "       ['fake'],\n",
              "       ['real'],\n",
              "       ['fake'],\n",
              "       ['real'],\n",
              "       ['fake'],\n",
              "       ['real'],\n",
              "       ['fake'],\n",
              "       ['fake'],\n",
              "       ['real'],\n",
              "       ['fake'],\n",
              "       ['fake'],\n",
              "       ['fake'],\n",
              "       ['real'],\n",
              "       ['real'],\n",
              "       ['real'],\n",
              "       ['real'],\n",
              "       ['real'],\n",
              "       ['real'],\n",
              "       ['fake'],\n",
              "       ['real'],\n",
              "       ['real'],\n",
              "       ['real'],\n",
              "       ['real'],\n",
              "       ['fake'],\n",
              "       ['real'],\n",
              "       ['real'],\n",
              "       ['fake'],\n",
              "       ['real'],\n",
              "       ['real'],\n",
              "       ['real'],\n",
              "       ['fake'],\n",
              "       ['fake'],\n",
              "       ['fake'],\n",
              "       ['real'],\n",
              "       ['real'],\n",
              "       ['real'],\n",
              "       ['real'],\n",
              "       ['fake'],\n",
              "       ['fake'],\n",
              "       ['real'],\n",
              "       ['fake'],\n",
              "       ['fake'],\n",
              "       ['real'],\n",
              "       ['fake'],\n",
              "       ['fake'],\n",
              "       ['fake'],\n",
              "       ['real'],\n",
              "       ['real'],\n",
              "       ['real'],\n",
              "       ['real'],\n",
              "       ['fake'],\n",
              "       ['real'],\n",
              "       ['fake'],\n",
              "       ['fake'],\n",
              "       ['real'],\n",
              "       ['real'],\n",
              "       ['fake'],\n",
              "       ['fake'],\n",
              "       ['fake'],\n",
              "       ['fake'],\n",
              "       ['real'],\n",
              "       ['fake'],\n",
              "       ['real'],\n",
              "       ['fake'],\n",
              "       ['fake'],\n",
              "       ['real'],\n",
              "       ['real'],\n",
              "       ['real'],\n",
              "       ['real'],\n",
              "       ['real'],\n",
              "       ['fake'],\n",
              "       ['real'],\n",
              "       ['fake'],\n",
              "       ['fake'],\n",
              "       ['fake'],\n",
              "       ['fake'],\n",
              "       ['fake'],\n",
              "       ['fake'],\n",
              "       ['fake'],\n",
              "       ['real'],\n",
              "       ['fake'],\n",
              "       ['real'],\n",
              "       ['real'],\n",
              "       ['real'],\n",
              "       ['fake'],\n",
              "       ['fake'],\n",
              "       ['real'],\n",
              "       ['fake'],\n",
              "       ['real'],\n",
              "       ['real'],\n",
              "       ['fake'],\n",
              "       ['real'],\n",
              "       ['fake'],\n",
              "       ['fake'],\n",
              "       ['real'],\n",
              "       ['real'],\n",
              "       ['real'],\n",
              "       ['real'],\n",
              "       ['fake'],\n",
              "       ['real'],\n",
              "       ['real'],\n",
              "       ['fake'],\n",
              "       ['fake'],\n",
              "       ['fake'],\n",
              "       ['real'],\n",
              "       ['real'],\n",
              "       ['real'],\n",
              "       ['real'],\n",
              "       ['fake'],\n",
              "       ['real'],\n",
              "       ['fake'],\n",
              "       ['real'],\n",
              "       ['real'],\n",
              "       ['real'],\n",
              "       ['fake'],\n",
              "       ['fake'],\n",
              "       ['real'],\n",
              "       ['real'],\n",
              "       ['fake'],\n",
              "       ['real'],\n",
              "       ['fake'],\n",
              "       ['fake'],\n",
              "       ['real'],\n",
              "       ['fake'],\n",
              "       ['fake'],\n",
              "       ['real'],\n",
              "       ['fake'],\n",
              "       ['fake'],\n",
              "       ['fake']], dtype='<U4')"
            ]
          },
          "metadata": {
            "tags": []
          },
          "execution_count": 33
        }
      ]
    },
    {
      "cell_type": "code",
      "metadata": {
        "id": "mv6lx4vI6uep",
        "colab_type": "code",
        "colab": {
          "base_uri": "https://localhost:8080/",
          "height": 85
        },
        "outputId": "b2e42226-ca17-4a01-c00d-fac5fe9fa374"
      },
      "source": [
        "acc, precision, recall, f1 = calculate_metrics(y_true, y_pre)\n",
        "print(\"acc: \", acc)\n",
        "print(\"precision: \", precision)\n",
        "print(\"recall: \", recall)\n",
        "print(\"f1: \", f1)"
      ],
      "execution_count": 34,
      "outputs": [
        {
          "output_type": "stream",
          "text": [
            "acc:  0.9952830188679245\n",
            "precision:  0.98989898989899\n",
            "recall:  1.0\n",
            "f1:  0.9949238578680203\n"
          ],
          "name": "stdout"
        }
      ]
    },
    {
      "cell_type": "code",
      "metadata": {
        "id": "7b2BV5qT7Cs5",
        "colab_type": "code",
        "colab": {}
      },
      "source": [
        ""
      ],
      "execution_count": 0,
      "outputs": []
    }
  ]
}
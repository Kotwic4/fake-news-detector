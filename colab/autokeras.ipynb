{
  "nbformat": 4,
  "nbformat_minor": 0,
  "metadata": {
    "colab": {
      "name": "Copy of eksploracja danych - autokeras",
      "provenance": [],
      "include_colab_link": true
    },
    "kernelspec": {
      "name": "python3",
      "display_name": "Python 3"
    },
    "accelerator": "GPU"
  },
  "cells": [
    {
      "cell_type": "markdown",
      "metadata": {
        "id": "view-in-github",
        "colab_type": "text"
      },
      "source": [
        "<a href=\"https://colab.research.google.com/github/Kotwic4/fake-news-detector/blob/colab/colab/autokeras.ipynb\" target=\"_parent\"><img src=\"https://colab.research.google.com/assets/colab-badge.svg\" alt=\"Open In Colab\"/></a>"
      ]
    },
    {
      "cell_type": "code",
      "metadata": {
        "id": "OB2TeXhKiKEo",
        "colab_type": "code",
        "outputId": "a2262dc5-6e22-4b93-f6fc-c547879d4958",
        "colab": {
          "base_uri": "https://localhost:8080/",
          "height": 1000
        }
      },
      "source": [
        "!pip install requests numpy matplotlib pandas git+git://github.com/keras-team/autokeras@master#egg=autokeras"
      ],
      "execution_count": 1,
      "outputs": [
        {
          "output_type": "stream",
          "text": [
            "Requirement already satisfied: requests in /usr/local/lib/python3.6/dist-packages (2.21.0)\n",
            "Requirement already satisfied: numpy in /usr/local/lib/python3.6/dist-packages (1.17.4)\n",
            "Requirement already satisfied: matplotlib in /usr/local/lib/python3.6/dist-packages (3.1.2)\n",
            "Requirement already satisfied: pandas in /usr/local/lib/python3.6/dist-packages (0.25.3)\n",
            "Collecting autokeras\n",
            "  Cloning git://github.com/keras-team/autokeras (to revision master) to /tmp/pip-install-n8pyg77u/autokeras\n",
            "  Running command git clone -q git://github.com/keras-team/autokeras /tmp/pip-install-n8pyg77u/autokeras\n",
            "Requirement already satisfied: certifi>=2017.4.17 in /usr/local/lib/python3.6/dist-packages (from requests) (2019.11.28)\n",
            "Requirement already satisfied: idna<2.9,>=2.5 in /usr/local/lib/python3.6/dist-packages (from requests) (2.8)\n",
            "Requirement already satisfied: urllib3<1.25,>=1.21.1 in /usr/local/lib/python3.6/dist-packages (from requests) (1.24.3)\n",
            "Requirement already satisfied: chardet<3.1.0,>=3.0.2 in /usr/local/lib/python3.6/dist-packages (from requests) (3.0.4)\n",
            "Requirement already satisfied: cycler>=0.10 in /usr/local/lib/python3.6/dist-packages (from matplotlib) (0.10.0)\n",
            "Requirement already satisfied: python-dateutil>=2.1 in /usr/local/lib/python3.6/dist-packages (from matplotlib) (2.6.1)\n",
            "Requirement already satisfied: pyparsing!=2.0.4,!=2.1.2,!=2.1.6,>=2.0.1 in /usr/local/lib/python3.6/dist-packages (from matplotlib) (2.4.5)\n",
            "Requirement already satisfied: kiwisolver>=1.0.1 in /usr/local/lib/python3.6/dist-packages (from matplotlib) (1.1.0)\n",
            "Requirement already satisfied: pytz>=2017.2 in /usr/local/lib/python3.6/dist-packages (from pandas) (2018.9)\n",
            "Collecting tensorflow>=2.0.0\n",
            "\u001b[?25l  Downloading https://files.pythonhosted.org/packages/46/0f/7bd55361168bb32796b360ad15a25de6966c9c1beb58a8e30c01c8279862/tensorflow-2.0.0-cp36-cp36m-manylinux2010_x86_64.whl (86.3MB)\n",
            "\u001b[K     |████████████████████████████████| 86.3MB 122kB/s \n",
            "\u001b[?25hCollecting keras-tuner>=1.0.0\n",
            "\u001b[?25l  Downloading https://files.pythonhosted.org/packages/db/93/5db8ac61f6547ce94b534a1cf614961a6e302559f0cdd1b37248052c9761/keras_tuner-1.0.0-py2.py3-none-any.whl (88kB)\n",
            "\u001b[K     |████████████████████████████████| 92kB 13.5MB/s \n",
            "\u001b[?25hRequirement already satisfied: scikit-learn in /usr/local/lib/python3.6/dist-packages (from autokeras) (0.21.3)\n",
            "Requirement already satisfied: lightgbm in /usr/local/lib/python3.6/dist-packages (from autokeras) (2.2.3)\n",
            "Requirement already satisfied: six in /usr/local/lib/python3.6/dist-packages (from cycler>=0.10->matplotlib) (1.12.0)\n",
            "Requirement already satisfied: setuptools in /usr/local/lib/python3.6/dist-packages (from kiwisolver>=1.0.1->matplotlib) (42.0.2)\n",
            "Requirement already satisfied: keras-applications>=1.0.8 in /usr/local/lib/python3.6/dist-packages (from tensorflow>=2.0.0->autokeras) (1.0.8)\n",
            "Requirement already satisfied: wheel>=0.26 in /usr/local/lib/python3.6/dist-packages (from tensorflow>=2.0.0->autokeras) (0.33.6)\n",
            "Requirement already satisfied: absl-py>=0.7.0 in /usr/local/lib/python3.6/dist-packages (from tensorflow>=2.0.0->autokeras) (0.8.1)\n",
            "Requirement already satisfied: astor>=0.6.0 in /usr/local/lib/python3.6/dist-packages (from tensorflow>=2.0.0->autokeras) (0.8.0)\n",
            "Requirement already satisfied: gast==0.2.2 in /usr/local/lib/python3.6/dist-packages (from tensorflow>=2.0.0->autokeras) (0.2.2)\n",
            "Requirement already satisfied: wrapt>=1.11.1 in /usr/local/lib/python3.6/dist-packages (from tensorflow>=2.0.0->autokeras) (1.11.2)\n",
            "Requirement already satisfied: keras-preprocessing>=1.0.5 in /usr/local/lib/python3.6/dist-packages (from tensorflow>=2.0.0->autokeras) (1.1.0)\n",
            "Requirement already satisfied: opt-einsum>=2.3.2 in /usr/local/lib/python3.6/dist-packages (from tensorflow>=2.0.0->autokeras) (3.1.0)\n",
            "Collecting tensorboard<2.1.0,>=2.0.0\n",
            "\u001b[?25l  Downloading https://files.pythonhosted.org/packages/76/54/99b9d5d52d5cb732f099baaaf7740403e83fe6b0cedde940fabd2b13d75a/tensorboard-2.0.2-py3-none-any.whl (3.8MB)\n",
            "\u001b[K     |████████████████████████████████| 3.8MB 54.7MB/s \n",
            "\u001b[?25hCollecting tensorflow-estimator<2.1.0,>=2.0.0\n",
            "\u001b[?25l  Downloading https://files.pythonhosted.org/packages/fc/08/8b927337b7019c374719145d1dceba21a8bb909b93b1ad6f8fb7d22c1ca1/tensorflow_estimator-2.0.1-py2.py3-none-any.whl (449kB)\n",
            "\u001b[K     |████████████████████████████████| 450kB 63.2MB/s \n",
            "\u001b[?25hRequirement already satisfied: grpcio>=1.8.6 in /usr/local/lib/python3.6/dist-packages (from tensorflow>=2.0.0->autokeras) (1.15.0)\n",
            "Requirement already satisfied: protobuf>=3.6.1 in /usr/local/lib/python3.6/dist-packages (from tensorflow>=2.0.0->autokeras) (3.10.0)\n",
            "Requirement already satisfied: google-pasta>=0.1.6 in /usr/local/lib/python3.6/dist-packages (from tensorflow>=2.0.0->autokeras) (0.1.8)\n",
            "Requirement already satisfied: termcolor>=1.1.0 in /usr/local/lib/python3.6/dist-packages (from tensorflow>=2.0.0->autokeras) (1.1.0)\n",
            "Requirement already satisfied: tqdm in /usr/local/lib/python3.6/dist-packages (from keras-tuner>=1.0.0->autokeras) (4.28.1)\n",
            "Requirement already satisfied: psutil in /usr/local/lib/python3.6/dist-packages (from keras-tuner>=1.0.0->autokeras) (5.4.8)\n",
            "Requirement already satisfied: tabulate in /usr/local/lib/python3.6/dist-packages (from keras-tuner>=1.0.0->autokeras) (0.8.6)\n",
            "Collecting colorama\n",
            "  Downloading https://files.pythonhosted.org/packages/c9/dc/45cdef1b4d119eb96316b3117e6d5708a08029992b2fee2c143c7a0a5cc5/colorama-0.4.3-py2.py3-none-any.whl\n",
            "Requirement already satisfied: scipy in /usr/local/lib/python3.6/dist-packages (from keras-tuner>=1.0.0->autokeras) (1.3.3)\n",
            "Collecting terminaltables\n",
            "  Downloading https://files.pythonhosted.org/packages/9b/c4/4a21174f32f8a7e1104798c445dacdc1d4df86f2f26722767034e4de4bff/terminaltables-3.1.0.tar.gz\n",
            "Requirement already satisfied: joblib>=0.11 in /usr/local/lib/python3.6/dist-packages (from scikit-learn->autokeras) (0.14.0)\n",
            "Requirement already satisfied: h5py in /usr/local/lib/python3.6/dist-packages (from keras-applications>=1.0.8->tensorflow>=2.0.0->autokeras) (2.8.0)\n",
            "Requirement already satisfied: google-auth-oauthlib<0.5,>=0.4.1 in /usr/local/lib/python3.6/dist-packages (from tensorboard<2.1.0,>=2.0.0->tensorflow>=2.0.0->autokeras) (0.4.1)\n",
            "Requirement already satisfied: markdown>=2.6.8 in /usr/local/lib/python3.6/dist-packages (from tensorboard<2.1.0,>=2.0.0->tensorflow>=2.0.0->autokeras) (3.1.1)\n",
            "Requirement already satisfied: werkzeug>=0.11.15 in /usr/local/lib/python3.6/dist-packages (from tensorboard<2.1.0,>=2.0.0->tensorflow>=2.0.0->autokeras) (0.16.0)\n",
            "Collecting google-auth<2,>=1.6.3\n",
            "\u001b[?25l  Downloading https://files.pythonhosted.org/packages/b6/48/50934afa81c9ab6d68acc19c1c0543f765699fa4e3a36d675baa97816bb1/google_auth-1.8.1-py2.py3-none-any.whl (75kB)\n",
            "\u001b[K     |████████████████████████████████| 81kB 12.7MB/s \n",
            "\u001b[?25hRequirement already satisfied: requests-oauthlib>=0.7.0 in /usr/local/lib/python3.6/dist-packages (from google-auth-oauthlib<0.5,>=0.4.1->tensorboard<2.1.0,>=2.0.0->tensorflow>=2.0.0->autokeras) (1.3.0)\n",
            "Requirement already satisfied: cachetools<3.2,>=2.0.0 in /usr/local/lib/python3.6/dist-packages (from google-auth<2,>=1.6.3->tensorboard<2.1.0,>=2.0.0->tensorflow>=2.0.0->autokeras) (3.1.1)\n",
            "Requirement already satisfied: rsa<4.1,>=3.1.4 in /usr/local/lib/python3.6/dist-packages (from google-auth<2,>=1.6.3->tensorboard<2.1.0,>=2.0.0->tensorflow>=2.0.0->autokeras) (4.0)\n",
            "Requirement already satisfied: pyasn1-modules>=0.2.1 in /usr/local/lib/python3.6/dist-packages (from google-auth<2,>=1.6.3->tensorboard<2.1.0,>=2.0.0->tensorflow>=2.0.0->autokeras) (0.2.7)\n",
            "Requirement already satisfied: oauthlib>=3.0.0 in /usr/local/lib/python3.6/dist-packages (from requests-oauthlib>=0.7.0->google-auth-oauthlib<0.5,>=0.4.1->tensorboard<2.1.0,>=2.0.0->tensorflow>=2.0.0->autokeras) (3.1.0)\n",
            "Requirement already satisfied: pyasn1>=0.1.3 in /usr/local/lib/python3.6/dist-packages (from rsa<4.1,>=3.1.4->google-auth<2,>=1.6.3->tensorboard<2.1.0,>=2.0.0->tensorflow>=2.0.0->autokeras) (0.4.8)\n",
            "Building wheels for collected packages: autokeras, terminaltables\n",
            "  Building wheel for autokeras (setup.py) ... \u001b[?25l\u001b[?25hdone\n",
            "  Created wheel for autokeras: filename=autokeras-1.0.0a0-cp36-none-any.whl size=50331 sha256=7a1fc09a5afcacf4478449b58f71679f79f870993cd85d614bd29f0bfdb08c15\n",
            "  Stored in directory: /tmp/pip-ephem-wheel-cache-dvja_qyl/wheels/55/b0/bc/7304f4fcafa1a7f163e4e4da7cb951f17b1cacf2e76b7d3146\n",
            "  Building wheel for terminaltables (setup.py) ... \u001b[?25l\u001b[?25hdone\n",
            "  Created wheel for terminaltables: filename=terminaltables-3.1.0-cp36-none-any.whl size=15354 sha256=468177694ff532878c59e00406bf1964eb1c5c15eb503b900878a1d11c8636b2\n",
            "  Stored in directory: /root/.cache/pip/wheels/30/6b/50/6c75775b681fb36cdfac7f19799888ef9d8813aff9e379663e\n",
            "Successfully built autokeras terminaltables\n",
            "\u001b[31mERROR: tensorboard 2.0.2 has requirement grpcio>=1.24.3, but you'll have grpcio 1.15.0 which is incompatible.\u001b[0m\n",
            "\u001b[31mERROR: google-colab 1.0.0 has requirement google-auth~=1.4.0, but you'll have google-auth 1.8.1 which is incompatible.\u001b[0m\n",
            "Installing collected packages: google-auth, tensorboard, tensorflow-estimator, tensorflow, colorama, terminaltables, keras-tuner, autokeras\n",
            "  Found existing installation: google-auth 1.4.2\n",
            "    Uninstalling google-auth-1.4.2:\n",
            "      Successfully uninstalled google-auth-1.4.2\n",
            "  Found existing installation: tensorboard 1.15.0\n",
            "    Uninstalling tensorboard-1.15.0:\n",
            "      Successfully uninstalled tensorboard-1.15.0\n",
            "  Found existing installation: tensorflow-estimator 1.15.1\n",
            "    Uninstalling tensorflow-estimator-1.15.1:\n",
            "      Successfully uninstalled tensorflow-estimator-1.15.1\n",
            "  Found existing installation: tensorflow 1.15.0\n",
            "    Uninstalling tensorflow-1.15.0:\n",
            "      Successfully uninstalled tensorflow-1.15.0\n",
            "Successfully installed autokeras-1.0.0a0 colorama-0.4.3 google-auth-1.8.1 keras-tuner-1.0.0 tensorboard-2.0.2 tensorflow-2.0.0 tensorflow-estimator-2.0.1 terminaltables-3.1.0\n"
          ],
          "name": "stdout"
        },
        {
          "output_type": "display_data",
          "data": {
            "application/vnd.colab-display-data+json": {
              "pip_warning": {
                "packages": [
                  "google"
                ]
              }
            }
          },
          "metadata": {
            "tags": []
          }
        }
      ]
    },
    {
      "cell_type": "code",
      "metadata": {
        "id": "XIUl6fL7HcG4",
        "colab_type": "code",
        "outputId": "3a8dcf49-0a66-42f4-d2e4-3d33ff8baf5e",
        "colab": {
          "base_uri": "https://localhost:8080/",
          "height": 306
        }
      },
      "source": [
        "!nvidia-smi"
      ],
      "execution_count": 0,
      "outputs": [
        {
          "output_type": "stream",
          "text": [
            "Tue Dec 10 21:40:42 2019       \n",
            "+-----------------------------------------------------------------------------+\n",
            "| NVIDIA-SMI 440.36       Driver Version: 418.67       CUDA Version: 10.1     |\n",
            "|-------------------------------+----------------------+----------------------+\n",
            "| GPU  Name        Persistence-M| Bus-Id        Disp.A | Volatile Uncorr. ECC |\n",
            "| Fan  Temp  Perf  Pwr:Usage/Cap|         Memory-Usage | GPU-Util  Compute M. |\n",
            "|===============================+======================+======================|\n",
            "|   0  Tesla K80           Off  | 00000000:00:04.0 Off |                    0 |\n",
            "| N/A   38C    P8    28W / 149W |      0MiB / 11441MiB |      0%      Default |\n",
            "+-------------------------------+----------------------+----------------------+\n",
            "                                                                               \n",
            "+-----------------------------------------------------------------------------+\n",
            "| Processes:                                                       GPU Memory |\n",
            "|  GPU       PID   Type   Process name                             Usage      |\n",
            "|=============================================================================|\n",
            "|  No running processes found                                                 |\n",
            "+-----------------------------------------------------------------------------+\n"
          ],
          "name": "stdout"
        }
      ]
    },
    {
      "cell_type": "code",
      "metadata": {
        "colab_type": "code",
        "outputId": "50ce2e90-7149-4383-9e72-bcdbf15491da",
        "id": "6O8DVIdyJfyc",
        "colab": {
          "base_uri": "https://localhost:8080/",
          "height": 819
        }
      },
      "source": [
        "!wget - O politifact_fake.csv https://raw.githubusercontent.com/KaiDMML/FakeNewsNet/master/dataset/politifact_fake.csv\n",
        "!wget - O politifact_real.csv https://raw.githubusercontent.com/KaiDMML/FakeNewsNet/master/dataset/politifact_real.csv"
      ],
      "execution_count": 0,
      "outputs": [
        {
          "output_type": "stream",
          "text": [
            "--2019-12-10 21:40:48--  http://-/\n",
            "Resolving - (-)... failed: Name or service not known.\n",
            "wget: unable to resolve host address ‘-’\n",
            "--2019-12-10 21:40:48--  http://o/\n",
            "Resolving o (o)... failed: Name or service not known.\n",
            "wget: unable to resolve host address ‘o’\n",
            "--2019-12-10 21:40:48--  http://politifact_fake.csv/\n",
            "Resolving politifact_fake.csv (politifact_fake.csv)... failed: Name or service not known.\n",
            "wget: unable to resolve host address ‘politifact_fake.csv’\n",
            "--2019-12-10 21:40:48--  https://raw.githubusercontent.com/KaiDMML/FakeNewsNet/master/dataset/politifact_fake.csv\n",
            "Resolving raw.githubusercontent.com (raw.githubusercontent.com)... 151.101.0.133, 151.101.64.133, 151.101.128.133, ...\n",
            "Connecting to raw.githubusercontent.com (raw.githubusercontent.com)|151.101.0.133|:443... connected.\n",
            "HTTP request sent, awaiting response... 200 OK\n",
            "Length: 3286418 (3.1M) [text/plain]\n",
            "Saving to: ‘politifact_fake.csv.1’\n",
            "\n",
            "\rpolitifact_fake.csv   0%[                    ]       0  --.-KB/s               \rpolitifact_fake.csv 100%[===================>]   3.13M  --.-KB/s    in 0.08s   \n",
            "\n",
            "2019-12-10 21:40:49 (38.4 MB/s) - ‘politifact_fake.csv.1’ saved [3286418/3286418]\n",
            "\n",
            "FINISHED --2019-12-10 21:40:49--\n",
            "Total wall clock time: 0.3s\n",
            "Downloaded: 1 files, 3.1M in 0.08s (38.4 MB/s)\n",
            "--2019-12-10 21:40:50--  http://-/\n",
            "Resolving - (-)... failed: Name or service not known.\n",
            "wget: unable to resolve host address ‘-’\n",
            "--2019-12-10 21:40:50--  http://o/\n",
            "Resolving o (o)... failed: Name or service not known.\n",
            "wget: unable to resolve host address ‘o’\n",
            "--2019-12-10 21:40:50--  http://politifact_real.csv/\n",
            "Resolving politifact_real.csv (politifact_real.csv)... failed: Name or service not known.\n",
            "wget: unable to resolve host address ‘politifact_real.csv’\n",
            "--2019-12-10 21:40:50--  https://raw.githubusercontent.com/KaiDMML/FakeNewsNet/master/dataset/politifact_real.csv\n",
            "Resolving raw.githubusercontent.com (raw.githubusercontent.com)... 151.101.0.133, 151.101.64.133, 151.101.128.133, ...\n",
            "Connecting to raw.githubusercontent.com (raw.githubusercontent.com)|151.101.0.133|:443... connected.\n",
            "HTTP request sent, awaiting response... 200 OK\n",
            "Length: 8278658 (7.9M) [text/plain]\n",
            "Saving to: ‘politifact_real.csv.1’\n",
            "\n",
            "politifact_real.csv 100%[===================>]   7.89M  --.-KB/s    in 0.1s    \n",
            "\n",
            "2019-12-10 21:40:50 (76.5 MB/s) - ‘politifact_real.csv.1’ saved [8278658/8278658]\n",
            "\n",
            "FINISHED --2019-12-10 21:40:50--\n",
            "Total wall clock time: 0.4s\n",
            "Downloaded: 1 files, 7.9M in 0.1s (76.5 MB/s)\n"
          ],
          "name": "stdout"
        }
      ]
    },
    {
      "cell_type": "code",
      "metadata": {
        "id": "T_0nQXIyJbQf",
        "colab_type": "code",
        "outputId": "1d4b6307-688b-4e93-cae8-600f448c7053",
        "colab": {
          "base_uri": "https://localhost:8080/",
          "height": 136
        }
      },
      "source": [
        "!ls -l"
      ],
      "execution_count": 0,
      "outputs": [
        {
          "output_type": "stream",
          "text": [
            "total 22608\n",
            "-rw-r--r--  1 root root 3286418 Dec 10 20:38 politifact_fake.csv\n",
            "-rw-r--r--  1 root root 3286418 Dec 10 21:40 politifact_fake.csv.1\n",
            "-rw-r--r--  1 root root 8278658 Dec 10 20:38 politifact_real.csv\n",
            "-rw-r--r--  1 root root 8278658 Dec 10 21:40 politifact_real.csv.1\n",
            "drwxr-xr-x  1 root root    4096 Dec  6 16:53 sample_data\n",
            "drwxr-xr-x 15 root root    4096 Dec 10 21:39 text_classifier\n"
          ],
          "name": "stdout"
        }
      ]
    },
    {
      "cell_type": "code",
      "metadata": {
        "id": "PLvpKFNmJyUn",
        "colab_type": "code",
        "colab": {}
      },
      "source": [
        "import os\n",
        "import json\n",
        "import numpy as np\n",
        "import matplotlib.pyplot as plt\n",
        "from collections import Counter\n",
        "import pandas as pd\n",
        "import os\n",
        "from sklearn.metrics import f1_score, accuracy_score, recall_score, precision_score\n",
        "from sklearn.model_selection import train_test_split\n",
        "from autokeras import TextClassifier"
      ],
      "execution_count": 0,
      "outputs": []
    },
    {
      "cell_type": "code",
      "metadata": {
        "id": "ntSJWKqJKVGa",
        "colab_type": "code",
        "colab": {}
      },
      "source": [
        "DATASET_NAME = 'politifact'\n",
        "DATASET_PATH = './{}'.format(DATASET_NAME)\n",
        "REAL_DATA_PATH = '{}_real.csv'.format(DATASET_PATH)\n",
        "FAKE_DATA_PATH = '{}_fake.csv'.format(DATASET_PATH)"
      ],
      "execution_count": 0,
      "outputs": []
    },
    {
      "cell_type": "code",
      "metadata": {
        "id": "m-WYXGglKpox",
        "colab_type": "code",
        "colab": {}
      },
      "source": [
        "fake_arts = pd.read_csv(FAKE_DATA_PATH, na_values=['nan'], keep_default_na=False)\n",
        "real_arts = pd.read_csv(REAL_DATA_PATH, na_values=['nan'], keep_default_na=False)"
      ],
      "execution_count": 0,
      "outputs": []
    },
    {
      "cell_type": "code",
      "metadata": {
        "id": "OQgUChXnKt7L",
        "colab_type": "code",
        "colab": {}
      },
      "source": [
        "def parse_art_data_frame(df):\n",
        "    return [{'id': id, 'url': url, 'title': title} for id, url, title, tweets in df.values]\n",
        "    \n",
        "fake_arts_with_content = parse_art_data_frame(fake_arts)\n",
        "real_arts_with_content = parse_art_data_frame(real_arts)"
      ],
      "execution_count": 0,
      "outputs": []
    },
    {
      "cell_type": "code",
      "metadata": {
        "id": "XltXs2XdKv1c",
        "colab_type": "code",
        "colab": {}
      },
      "source": [
        "fake_data = [(art, 'fake') for art in fake_arts_with_content]\n",
        "real_data = [(art, 'real') for art in real_arts_with_content]"
      ],
      "execution_count": 0,
      "outputs": []
    },
    {
      "cell_type": "code",
      "metadata": {
        "id": "SLQEORGsKxxm",
        "colab_type": "code",
        "colab": {}
      },
      "source": [
        "all_data = fake_data + real_data\n",
        "X = [x for x,y in all_data]\n",
        "y = [y for x,y in all_data]\n",
        "X_train, X_test, y_train, y_test = train_test_split(X, y, test_size=0.2, random_state=42)\n",
        "\n",
        "train_data = list(zip(X_train, y_train))\n",
        "test_data = list(zip(X_test, y_test))"
      ],
      "execution_count": 0,
      "outputs": []
    },
    {
      "cell_type": "code",
      "metadata": {
        "id": "fmpjjmBTKz6o",
        "colab_type": "code",
        "outputId": "c532c0d6-4fca-4d54-b7c2-61871ee4e9b9",
        "colab": {
          "base_uri": "https://localhost:8080/",
          "height": 85
        }
      },
      "source": [
        "print(len(train_data))\n",
        "print(len(test_data))\n",
        "print(len(train_data) + len(test_data))\n",
        "print(len(fake_data) + len(real_data))"
      ],
      "execution_count": 0,
      "outputs": [
        {
          "output_type": "stream",
          "text": [
            "844\n",
            "212\n",
            "1056\n",
            "1056\n"
          ],
          "name": "stdout"
        }
      ]
    },
    {
      "cell_type": "code",
      "metadata": {
        "id": "08B3YnoripKw",
        "colab_type": "code",
        "outputId": "f6b5a336-fd04-4222-845a-278d8008e614",
        "colab": {
          "base_uri": "https://localhost:8080/",
          "height": 85
        }
      },
      "source": [
        "print(len([y for y in y_train if y == 'fake']))\n",
        "print(len([y for y in y_test if y == 'fake']))\n",
        "\n",
        "print(len([y for y in y_train if y == 'real']))\n",
        "print(len([y for y in y_test if y == 'real']))"
      ],
      "execution_count": 0,
      "outputs": [
        {
          "output_type": "stream",
          "text": [
            "334\n",
            "98\n",
            "510\n",
            "114\n"
          ],
          "name": "stdout"
        }
      ]
    },
    {
      "cell_type": "code",
      "metadata": {
        "id": "3n74zwgCK1Xw",
        "colab_type": "code",
        "colab": {}
      },
      "source": [
        "def clear_text(text):\n",
        "    return ' '.join(text.split())\n",
        "\n",
        "class Classifier():\n",
        "    def __init__(self, classifier):\n",
        "        self.classifier = classifier\n",
        "        \n",
        "    def predict(self, text):\n",
        "        text = clear_text(text)\n",
        "        sentence = Sentence(text)\n",
        "        self.classifier.predict(sentence)\n",
        "        return sentence.labels[0]\n",
        "    \n",
        "def train_model(train_data,\n",
        "               data_folder = '.',\n",
        "               model_folder = '.',\n",
        "               max_epochs=1\n",
        "               ):\n",
        "    clf = TextClassifier(verbose=True)\n",
        "    train_data\n",
        "    clf.fit(x=x_train, y=y_train)\n",
        "    return Classifier(clf)\n",
        "\n",
        "def calculate_metrics(y_true, y_pred, pos_label = 'fake'):\n",
        "    acc = accuracy_score(y_true, y_pred)\n",
        "    precision = precision_score(y_true, y_pred, pos_label=pos_label)\n",
        "    recall = recall_score(y_true, y_pred, pos_label=pos_label)\n",
        "    f1 = f1_score(y_true, y_pred, pos_label=pos_label)\n",
        "    return acc, precision, recall, f1\n",
        "\n",
        "def validate_model(test_data, classifier):\n",
        "    y_true = [label for x, label in test_data]\n",
        "    y_pred = [classifier.predict(x).value for x, label in test_data]\n",
        "    acc, precision, recall, f1 = calculate_metrics(y_true, y_pred)\n",
        "    print(\"acc: \", acc)\n",
        "    print(\"precision: \", precision)\n",
        "    print(\"recall: \", recall)\n",
        "    print(\"f1: \", f1)\n",
        "    return acc, precision, recall, f1\n",
        "\n",
        "def make_test(train_data, test_data, data_folder, model_folder, max_epochs):\n",
        "    classifier = train_model(train_data, data_folder, model_folder, max_epochs)\n",
        "    validate_model(test_data, classifier)"
      ],
      "execution_count": 0,
      "outputs": []
    },
    {
      "cell_type": "code",
      "metadata": {
        "id": "lMqZCSOSK4Ky",
        "colab_type": "code",
        "colab": {}
      },
      "source": [
        "train_content = [(x, label) for x, label in train_data] \n",
        "test_content = [(x, label) for x, label in test_data]"
      ],
      "execution_count": 0,
      "outputs": []
    },
    {
      "cell_type": "code",
      "metadata": {
        "id": "XmYv9RdmK5ks",
        "colab_type": "code",
        "outputId": "5f76cd9a-9627-431a-fd88-caf549c99830",
        "colab": {
          "base_uri": "https://localhost:8080/",
          "height": 85
        }
      },
      "source": [
        "train_title = [(x['title'], label) for x, label in train_content]\n",
        "test_title = [(x['title'], label) for x, label in test_content]\n",
        "print(len([x for x, label in train_title if x == '']))\n",
        "print(len([x for x, label in test_title if x == '']))\n",
        "train_title = [(x, label) for x, label in train_title if x != ''] \n",
        "test_title = [(x, label) for x, label in test_title if x != '']\n",
        "print(len(train_title))\n",
        "print(len(test_title))"
      ],
      "execution_count": 0,
      "outputs": [
        {
          "output_type": "stream",
          "text": [
            "0\n",
            "0\n",
            "844\n",
            "212\n"
          ],
          "name": "stdout"
        }
      ]
    },
    {
      "cell_type": "code",
      "metadata": {
        "id": "1AJwo3TzLIBW",
        "colab_type": "code",
        "outputId": "9bf0e1f3-8620-4179-bee0-fca97087d5f8",
        "colab": {
          "base_uri": "https://localhost:8080/",
          "height": 85
        }
      },
      "source": [
        "train_url = [(x['url'], label) for x, label in train_content] \n",
        "test_url = [(x['url'], label) for x, label in test_content]\n",
        "print(len([x for x, label in train_url if x == '']))\n",
        "print(len([x for x, label in test_url if x == '']))\n",
        "train_url = [(x, label) for x, label in train_url if x != ''] \n",
        "test_url = [(x, label) for x, label in test_url if x != '']\n",
        "print(len(train_url))\n",
        "print(len(test_url))"
      ],
      "execution_count": 0,
      "outputs": [
        {
          "output_type": "stream",
          "text": [
            "39\n",
            "22\n",
            "805\n",
            "190\n"
          ],
          "name": "stdout"
        }
      ]
    },
    {
      "cell_type": "code",
      "metadata": {
        "id": "j1M55hjsLV6Z",
        "colab_type": "code",
        "outputId": "c28627c6-1ab5-4e4c-c610-6a7326c03c99",
        "colab": {
          "base_uri": "https://localhost:8080/",
          "height": 85
        }
      },
      "source": [
        "train_mix = [(x['url'] + ', ' + x['title'], label) for x, label in train_content] \n",
        "test_mix = [(x['url'] + ', ' + x['title'], label) for x, label in test_content]\n",
        "print(len([x for x, label in train_mix if x == '']))\n",
        "print(len([x for x, label in test_mix if x == '']))\n",
        "train_mix = [(x, label) for x, label in train_mix if x != ''] \n",
        "test_mix = [(x, label) for x, label in test_mix if x != '']\n",
        "print(len(train_mix))\n",
        "print(len(test_mix))"
      ],
      "execution_count": 0,
      "outputs": [
        {
          "output_type": "stream",
          "text": [
            "0\n",
            "0\n",
            "844\n",
            "212\n"
          ],
          "name": "stdout"
        }
      ]
    },
    {
      "cell_type": "code",
      "metadata": {
        "id": "V6SOqZJ9L0An",
        "colab_type": "code",
        "outputId": "fe0da0cb-9d36-4828-a240-d9f2d11c91be",
        "colab": {
          "base_uri": "https://localhost:8080/",
          "height": 1000
        }
      },
      "source": [
        "x_train, y_train = zip(*train_mix)\n",
        "x_train = np.array(x_train)\n",
        "y_train = np.array(y_train)\n",
        "clf = TextClassifier(max_trials=50)\n",
        "clf.fit(x=x_train, y=y_train, validation_split=0.2, epochs=50)"
      ],
      "execution_count": 0,
      "outputs": [
        {
          "output_type": "stream",
          "text": [
            "Epoch 1/50\n",
            "22/22 [==============================] - 2s 92ms/step - loss: 0.6758 - accuracy: 0.6050 - val_loss: 0.0000e+00 - val_accuracy: 0.0000e+00\n",
            "Epoch 2/50\n",
            "22/22 [==============================] - 1s 53ms/step - loss: 0.6178 - accuracy: 0.6036 - val_loss: 0.5855 - val_accuracy: 0.6190\n",
            "Epoch 3/50\n",
            "22/22 [==============================] - 1s 54ms/step - loss: 0.4991 - accuracy: 0.7574 - val_loss: 0.4604 - val_accuracy: 0.8214\n",
            "Epoch 4/50\n",
            "22/22 [==============================] - 1s 52ms/step - loss: 0.3445 - accuracy: 0.9453 - val_loss: 0.3334 - val_accuracy: 0.8929\n",
            "Epoch 5/50\n",
            "22/22 [==============================] - 1s 49ms/step - loss: 0.2088 - accuracy: 0.9822 - val_loss: 0.2418 - val_accuracy: 0.9286\n",
            "Epoch 6/50\n",
            "22/22 [==============================] - 1s 57ms/step - loss: 0.1175 - accuracy: 0.9926 - val_loss: 0.1910 - val_accuracy: 0.9345\n",
            "Epoch 7/50\n",
            "22/22 [==============================] - 1s 55ms/step - loss: 0.0663 - accuracy: 0.9970 - val_loss: 0.1686 - val_accuracy: 0.9345\n",
            "Epoch 8/50\n",
            "22/22 [==============================] - 1s 57ms/step - loss: 0.0397 - accuracy: 0.9970 - val_loss: 0.1606 - val_accuracy: 0.9345\n",
            "Epoch 9/50\n",
            "22/22 [==============================] - 1s 55ms/step - loss: 0.0256 - accuracy: 0.9985 - val_loss: 0.1580 - val_accuracy: 0.9345\n",
            "Epoch 10/50\n",
            "22/22 [==============================] - 1s 55ms/step - loss: 0.0176 - accuracy: 0.9985 - val_loss: 0.1581 - val_accuracy: 0.9345\n",
            "Epoch 11/50\n",
            "22/22 [==============================] - 1s 58ms/step - loss: 0.0127 - accuracy: 1.0000 - val_loss: 0.1589 - val_accuracy: 0.9405\n",
            "Epoch 12/50\n",
            "22/22 [==============================] - 1s 54ms/step - loss: 0.0096 - accuracy: 1.0000 - val_loss: 0.1609 - val_accuracy: 0.9405\n",
            "Epoch 13/50\n",
            "22/22 [==============================] - 1s 55ms/step - loss: 0.0075 - accuracy: 1.0000 - val_loss: 0.1626 - val_accuracy: 0.9405\n",
            "Epoch 14/50\n",
            "22/22 [==============================] - 1s 58ms/step - loss: 0.0060 - accuracy: 1.0000 - val_loss: 0.1649 - val_accuracy: 0.9405\n",
            "Epoch 15/50\n",
            "22/22 [==============================] - 1s 59ms/step - loss: 0.0049 - accuracy: 1.0000 - val_loss: 0.1668 - val_accuracy: 0.9405\n",
            "Epoch 16/50\n",
            "22/22 [==============================] - 1s 55ms/step - loss: 0.0041 - accuracy: 1.0000 - val_loss: 0.1689 - val_accuracy: 0.9405\n",
            "Epoch 17/50\n",
            "22/22 [==============================] - 1s 57ms/step - loss: 0.0035 - accuracy: 1.0000 - val_loss: 0.1707 - val_accuracy: 0.9405\n",
            "Epoch 18/50\n",
            "22/22 [==============================] - 1s 55ms/step - loss: 0.0030 - accuracy: 1.0000 - val_loss: 0.1727 - val_accuracy: 0.9405\n",
            "Epoch 19/50\n",
            "22/22 [==============================] - 1s 59ms/step - loss: 0.0026 - accuracy: 1.0000 - val_loss: 0.1744 - val_accuracy: 0.9405\n"
          ],
          "name": "stdout"
        },
        {
          "output_type": "display_data",
          "data": {
            "text/html": [
              "<span style=\"color:#4527A0\"><h1 style=\"font-size:18px\">Trial complete</h1></span>"
            ],
            "text/plain": [
              "<IPython.core.display.HTML object>"
            ]
          },
          "metadata": {
            "tags": []
          }
        },
        {
          "output_type": "display_data",
          "data": {
            "text/html": [
              "<span style=\"color:#4527A0\"><h1 style=\"font-size:18px\">Trial summary</h1></span>"
            ],
            "text/plain": [
              "<IPython.core.display.HTML object>"
            ]
          },
          "metadata": {
            "tags": []
          }
        },
        {
          "output_type": "display_data",
          "data": {
            "text/html": [
              "<span style=\"color:#7E57C2\"><h2 style=\"font-size:16px\">Hp values:</h2></span>"
            ],
            "text/plain": [
              "<IPython.core.display.HTML object>"
            ]
          },
          "metadata": {
            "tags": []
          }
        },
        {
          "output_type": "display_data",
          "data": {
            "text/html": [
              "<span style=\"color:cyan\"> |-dense_block_1/dropout_rate: 0</span>"
            ],
            "text/plain": [
              "<IPython.core.display.HTML object>"
            ]
          },
          "metadata": {
            "tags": []
          }
        },
        {
          "output_type": "display_data",
          "data": {
            "text/html": [
              "<span style=\"color:blue\"> |-dense_block_1/num_layers: 2</span>"
            ],
            "text/plain": [
              "<IPython.core.display.HTML object>"
            ]
          },
          "metadata": {
            "tags": []
          }
        },
        {
          "output_type": "display_data",
          "data": {
            "text/html": [
              "<span style=\"color:cyan\"> |-dense_block_1/units_0: 32</span>"
            ],
            "text/plain": [
              "<IPython.core.display.HTML object>"
            ]
          },
          "metadata": {
            "tags": []
          }
        },
        {
          "output_type": "display_data",
          "data": {
            "text/html": [
              "<span style=\"color:blue\"> |-dense_block_1/units_1: 32</span>"
            ],
            "text/plain": [
              "<IPython.core.display.HTML object>"
            ]
          },
          "metadata": {
            "tags": []
          }
        },
        {
          "output_type": "display_data",
          "data": {
            "text/html": [
              "<span style=\"color:cyan\"> |-dense_block_1/use_batchnorm: False</span>"
            ],
            "text/plain": [
              "<IPython.core.display.HTML object>"
            ]
          },
          "metadata": {
            "tags": []
          }
        },
        {
          "output_type": "display_data",
          "data": {
            "text/html": [
              "<span style=\"color:blue\"> |-optimizer: adam</span>"
            ],
            "text/plain": [
              "<IPython.core.display.HTML object>"
            ]
          },
          "metadata": {
            "tags": []
          }
        },
        {
          "output_type": "display_data",
          "data": {
            "text/html": [
              "<span style=\"color:cyan\"> |-Score: 0.1579519398510456</span>"
            ],
            "text/plain": [
              "<IPython.core.display.HTML object>"
            ]
          },
          "metadata": {
            "tags": []
          }
        },
        {
          "output_type": "display_data",
          "data": {
            "text/html": [
              "<span style=\"color:cyan\"> |-Best step: 0</span>"
            ],
            "text/plain": [
              "<IPython.core.display.HTML object>"
            ]
          },
          "metadata": {
            "tags": []
          }
        },
        {
          "output_type": "stream",
          "text": [
            "Epoch 1/50\n",
            "22/22 [==============================] - 2s 87ms/step - loss: 0.6960 - accuracy: 0.3994 - val_loss: 0.0000e+00 - val_accuracy: 0.0000e+00\n",
            "Epoch 2/50\n",
            "22/22 [==============================] - 1s 59ms/step - loss: 0.6956 - accuracy: 0.4009 - val_loss: 0.6959 - val_accuracy: 0.3690\n",
            "Epoch 3/50\n",
            "22/22 [==============================] - 1s 57ms/step - loss: 0.6956 - accuracy: 0.4009 - val_loss: 0.6959 - val_accuracy: 0.3750\n",
            "Epoch 4/50\n",
            "22/22 [==============================] - 1s 57ms/step - loss: 0.6956 - accuracy: 0.4024 - val_loss: 0.6959 - val_accuracy: 0.3750\n",
            "Epoch 5/50\n",
            "22/22 [==============================] - 1s 59ms/step - loss: 0.6956 - accuracy: 0.4024 - val_loss: 0.6959 - val_accuracy: 0.3750\n",
            "Epoch 6/50\n",
            "22/22 [==============================] - 1s 55ms/step - loss: 0.6956 - accuracy: 0.4024 - val_loss: 0.6959 - val_accuracy: 0.3750\n",
            "Epoch 7/50\n",
            "22/22 [==============================] - 1s 56ms/step - loss: 0.6956 - accuracy: 0.4024 - val_loss: 0.6959 - val_accuracy: 0.3750\n",
            "Epoch 8/50\n",
            "22/22 [==============================] - 1s 57ms/step - loss: 0.6955 - accuracy: 0.4024 - val_loss: 0.6958 - val_accuracy: 0.3750\n",
            "Epoch 9/50\n",
            "22/22 [==============================] - 1s 56ms/step - loss: 0.6955 - accuracy: 0.4024 - val_loss: 0.6958 - val_accuracy: 0.3750\n",
            "Epoch 10/50\n",
            "22/22 [==============================] - 1s 57ms/step - loss: 0.6955 - accuracy: 0.4009 - val_loss: 0.6958 - val_accuracy: 0.3750\n",
            "Epoch 11/50\n",
            "22/22 [==============================] - 1s 59ms/step - loss: 0.6955 - accuracy: 0.4009 - val_loss: 0.6958 - val_accuracy: 0.3690\n",
            "Epoch 12/50\n",
            "22/22 [==============================] - 1s 57ms/step - loss: 0.6955 - accuracy: 0.4009 - val_loss: 0.6958 - val_accuracy: 0.3690\n",
            "Epoch 13/50\n",
            "22/22 [==============================] - 1s 57ms/step - loss: 0.6954 - accuracy: 0.3994 - val_loss: 0.6958 - val_accuracy: 0.3690\n",
            "Epoch 14/50\n",
            "22/22 [==============================] - 1s 56ms/step - loss: 0.6954 - accuracy: 0.3994 - val_loss: 0.6957 - val_accuracy: 0.3690\n",
            "Epoch 15/50\n",
            "22/22 [==============================] - 1s 55ms/step - loss: 0.6954 - accuracy: 0.4009 - val_loss: 0.6957 - val_accuracy: 0.3690\n",
            "Epoch 16/50\n",
            "22/22 [==============================] - 1s 56ms/step - loss: 0.6954 - accuracy: 0.4024 - val_loss: 0.6957 - val_accuracy: 0.3690\n",
            "Epoch 17/50\n",
            "22/22 [==============================] - 1s 55ms/step - loss: 0.6954 - accuracy: 0.4038 - val_loss: 0.6957 - val_accuracy: 0.3690\n",
            "Epoch 18/50\n",
            "22/22 [==============================] - 1s 56ms/step - loss: 0.6954 - accuracy: 0.4024 - val_loss: 0.6957 - val_accuracy: 0.3690\n",
            "Epoch 19/50\n",
            "22/22 [==============================] - 1s 58ms/step - loss: 0.6953 - accuracy: 0.4038 - val_loss: 0.6957 - val_accuracy: 0.3690\n",
            "Epoch 20/50\n",
            "22/22 [==============================] - 1s 55ms/step - loss: 0.6953 - accuracy: 0.4053 - val_loss: 0.6957 - val_accuracy: 0.3690\n",
            "Epoch 21/50\n",
            "22/22 [==============================] - 1s 59ms/step - loss: 0.6953 - accuracy: 0.4098 - val_loss: 0.6956 - val_accuracy: 0.3690\n",
            "Epoch 22/50\n",
            "22/22 [==============================] - 1s 55ms/step - loss: 0.6953 - accuracy: 0.4098 - val_loss: 0.6956 - val_accuracy: 0.3690\n",
            "Epoch 23/50\n",
            "22/22 [==============================] - 1s 54ms/step - loss: 0.6953 - accuracy: 0.4127 - val_loss: 0.6956 - val_accuracy: 0.3690\n",
            "Epoch 24/50\n",
            "22/22 [==============================] - 1s 54ms/step - loss: 0.6953 - accuracy: 0.4127 - val_loss: 0.6956 - val_accuracy: 0.3690\n",
            "Epoch 25/50\n",
            "22/22 [==============================] - 1s 56ms/step - loss: 0.6952 - accuracy: 0.4127 - val_loss: 0.6956 - val_accuracy: 0.3690\n",
            "Epoch 26/50\n",
            "22/22 [==============================] - 1s 53ms/step - loss: 0.6952 - accuracy: 0.4142 - val_loss: 0.6956 - val_accuracy: 0.3690\n",
            "Epoch 27/50\n",
            "22/22 [==============================] - 1s 56ms/step - loss: 0.6952 - accuracy: 0.4142 - val_loss: 0.6956 - val_accuracy: 0.3690\n",
            "Epoch 28/50\n",
            "22/22 [==============================] - 1s 56ms/step - loss: 0.6952 - accuracy: 0.4142 - val_loss: 0.6955 - val_accuracy: 0.3690\n",
            "Epoch 29/50\n",
            "22/22 [==============================] - 1s 57ms/step - loss: 0.6952 - accuracy: 0.4142 - val_loss: 0.6955 - val_accuracy: 0.3690\n",
            "Epoch 30/50\n",
            "22/22 [==============================] - 1s 60ms/step - loss: 0.6952 - accuracy: 0.4127 - val_loss: 0.6955 - val_accuracy: 0.3690\n",
            "Epoch 31/50\n",
            "22/22 [==============================] - 1s 60ms/step - loss: 0.6951 - accuracy: 0.4112 - val_loss: 0.6955 - val_accuracy: 0.3690\n",
            "Epoch 32/50\n",
            "22/22 [==============================] - 1s 56ms/step - loss: 0.6951 - accuracy: 0.4112 - val_loss: 0.6955 - val_accuracy: 0.3690\n",
            "Epoch 33/50\n",
            "22/22 [==============================] - 1s 57ms/step - loss: 0.6951 - accuracy: 0.4112 - val_loss: 0.6955 - val_accuracy: 0.3690\n",
            "Epoch 34/50\n",
            "22/22 [==============================] - 1s 54ms/step - loss: 0.6951 - accuracy: 0.4112 - val_loss: 0.6955 - val_accuracy: 0.3690\n",
            "Epoch 35/50\n",
            "22/22 [==============================] - 1s 57ms/step - loss: 0.6951 - accuracy: 0.4127 - val_loss: 0.6954 - val_accuracy: 0.3690\n",
            "Epoch 36/50\n",
            "22/22 [==============================] - 1s 57ms/step - loss: 0.6951 - accuracy: 0.4142 - val_loss: 0.6954 - val_accuracy: 0.3690\n",
            "Epoch 37/50\n",
            "22/22 [==============================] - 1s 57ms/step - loss: 0.6950 - accuracy: 0.4142 - val_loss: 0.6954 - val_accuracy: 0.3690\n",
            "Epoch 38/50\n",
            "22/22 [==============================] - 1s 56ms/step - loss: 0.6950 - accuracy: 0.4127 - val_loss: 0.6954 - val_accuracy: 0.3631\n",
            "Epoch 39/50\n",
            "22/22 [==============================] - 1s 57ms/step - loss: 0.6950 - accuracy: 0.4112 - val_loss: 0.6954 - val_accuracy: 0.3631\n",
            "Epoch 40/50\n",
            "22/22 [==============================] - 1s 54ms/step - loss: 0.6950 - accuracy: 0.4112 - val_loss: 0.6954 - val_accuracy: 0.3631\n",
            "Epoch 41/50\n",
            "22/22 [==============================] - 1s 53ms/step - loss: 0.6950 - accuracy: 0.4127 - val_loss: 0.6954 - val_accuracy: 0.3631\n",
            "Epoch 42/50\n",
            "22/22 [==============================] - 1s 54ms/step - loss: 0.6950 - accuracy: 0.4142 - val_loss: 0.6953 - val_accuracy: 0.3631\n",
            "Epoch 43/50\n",
            "22/22 [==============================] - 1s 56ms/step - loss: 0.6949 - accuracy: 0.4157 - val_loss: 0.6953 - val_accuracy: 0.3631\n",
            "Epoch 44/50\n",
            "22/22 [==============================] - 1s 55ms/step - loss: 0.6949 - accuracy: 0.4172 - val_loss: 0.6953 - val_accuracy: 0.3571\n",
            "Epoch 45/50\n",
            "22/22 [==============================] - 1s 54ms/step - loss: 0.6949 - accuracy: 0.4157 - val_loss: 0.6953 - val_accuracy: 0.3512\n",
            "Epoch 46/50\n",
            "22/22 [==============================] - 1s 56ms/step - loss: 0.6949 - accuracy: 0.4157 - val_loss: 0.6953 - val_accuracy: 0.3452\n",
            "Epoch 47/50\n",
            "22/22 [==============================] - 1s 52ms/step - loss: 0.6949 - accuracy: 0.4157 - val_loss: 0.6953 - val_accuracy: 0.3452\n",
            "Epoch 48/50\n",
            "22/22 [==============================] - 1s 52ms/step - loss: 0.6949 - accuracy: 0.4157 - val_loss: 0.6953 - val_accuracy: 0.3512\n",
            "Epoch 49/50\n",
            "22/22 [==============================] - 1s 54ms/step - loss: 0.6949 - accuracy: 0.4172 - val_loss: 0.6952 - val_accuracy: 0.3512\n",
            "Epoch 50/50\n",
            "22/22 [==============================] - 1s 54ms/step - loss: 0.6948 - accuracy: 0.4172 - val_loss: 0.6952 - val_accuracy: 0.3512\n"
          ],
          "name": "stdout"
        },
        {
          "output_type": "display_data",
          "data": {
            "text/html": [
              "<span style=\"color:#4527A0\"><h1 style=\"font-size:18px\">Trial complete</h1></span>"
            ],
            "text/plain": [
              "<IPython.core.display.HTML object>"
            ]
          },
          "metadata": {
            "tags": []
          }
        },
        {
          "output_type": "display_data",
          "data": {
            "text/html": [
              "<span style=\"color:#4527A0\"><h1 style=\"font-size:18px\">Trial summary</h1></span>"
            ],
            "text/plain": [
              "<IPython.core.display.HTML object>"
            ]
          },
          "metadata": {
            "tags": []
          }
        },
        {
          "output_type": "display_data",
          "data": {
            "text/html": [
              "<span style=\"color:#7E57C2\"><h2 style=\"font-size:16px\">Hp values:</h2></span>"
            ],
            "text/plain": [
              "<IPython.core.display.HTML object>"
            ]
          },
          "metadata": {
            "tags": []
          }
        },
        {
          "output_type": "display_data",
          "data": {
            "text/html": [
              "<span style=\"color:cyan\"> |-dense_block_1/dropout_rate: 0</span>"
            ],
            "text/plain": [
              "<IPython.core.display.HTML object>"
            ]
          },
          "metadata": {
            "tags": []
          }
        },
        {
          "output_type": "display_data",
          "data": {
            "text/html": [
              "<span style=\"color:blue\"> |-dense_block_1/num_layers: 2</span>"
            ],
            "text/plain": [
              "<IPython.core.display.HTML object>"
            ]
          },
          "metadata": {
            "tags": []
          }
        },
        {
          "output_type": "display_data",
          "data": {
            "text/html": [
              "<span style=\"color:cyan\"> |-dense_block_1/units_0: 32</span>"
            ],
            "text/plain": [
              "<IPython.core.display.HTML object>"
            ]
          },
          "metadata": {
            "tags": []
          }
        },
        {
          "output_type": "display_data",
          "data": {
            "text/html": [
              "<span style=\"color:blue\"> |-dense_block_1/units_1: 32</span>"
            ],
            "text/plain": [
              "<IPython.core.display.HTML object>"
            ]
          },
          "metadata": {
            "tags": []
          }
        },
        {
          "output_type": "display_data",
          "data": {
            "text/html": [
              "<span style=\"color:cyan\"> |-dense_block_1/use_batchnorm: False</span>"
            ],
            "text/plain": [
              "<IPython.core.display.HTML object>"
            ]
          },
          "metadata": {
            "tags": []
          }
        },
        {
          "output_type": "display_data",
          "data": {
            "text/html": [
              "<span style=\"color:blue\"> |-optimizer: adadelta</span>"
            ],
            "text/plain": [
              "<IPython.core.display.HTML object>"
            ]
          },
          "metadata": {
            "tags": []
          }
        },
        {
          "output_type": "display_data",
          "data": {
            "text/html": [
              "<span style=\"color:cyan\"> |-Score: 0.695232997337977</span>"
            ],
            "text/plain": [
              "<IPython.core.display.HTML object>"
            ]
          },
          "metadata": {
            "tags": []
          }
        },
        {
          "output_type": "display_data",
          "data": {
            "text/html": [
              "<span style=\"color:cyan\"> |-Best step: 0</span>"
            ],
            "text/plain": [
              "<IPython.core.display.HTML object>"
            ]
          },
          "metadata": {
            "tags": []
          }
        },
        {
          "output_type": "stream",
          "text": [
            "Epoch 1/50\n",
            "22/22 [==============================] - 2s 85ms/step - loss: 0.6556 - accuracy: 0.6331 - val_loss: 0.0000e+00 - val_accuracy: 0.0000e+00\n",
            "Epoch 2/50\n",
            "22/22 [==============================] - 1s 59ms/step - loss: 0.5228 - accuracy: 0.8358 - val_loss: 0.4656 - val_accuracy: 0.8631\n",
            "Epoch 3/50\n",
            "22/22 [==============================] - 1s 62ms/step - loss: 0.3462 - accuracy: 0.9586 - val_loss: 0.3139 - val_accuracy: 0.9405\n",
            "Epoch 4/50\n",
            "22/22 [==============================] - 1s 61ms/step - loss: 0.1977 - accuracy: 0.9882 - val_loss: 0.2234 - val_accuracy: 0.9405\n",
            "Epoch 5/50\n",
            "22/22 [==============================] - 1s 62ms/step - loss: 0.1153 - accuracy: 0.9926 - val_loss: 0.1819 - val_accuracy: 0.9464\n",
            "Epoch 6/50\n",
            "22/22 [==============================] - 1s 61ms/step - loss: 0.0729 - accuracy: 0.9941 - val_loss: 0.1631 - val_accuracy: 0.9464\n",
            "Epoch 7/50\n",
            "22/22 [==============================] - 1s 63ms/step - loss: 0.0496 - accuracy: 0.9970 - val_loss: 0.1540 - val_accuracy: 0.9524\n",
            "Epoch 8/50\n",
            "22/22 [==============================] - 1s 63ms/step - loss: 0.0357 - accuracy: 0.9985 - val_loss: 0.1494 - val_accuracy: 0.9524\n",
            "Epoch 9/50\n",
            "22/22 [==============================] - 1s 58ms/step - loss: 0.0268 - accuracy: 0.9985 - val_loss: 0.1472 - val_accuracy: 0.9524\n",
            "Epoch 10/50\n",
            "22/22 [==============================] - 1s 61ms/step - loss: 0.0209 - accuracy: 0.9985 - val_loss: 0.1464 - val_accuracy: 0.9464\n",
            "Epoch 11/50\n",
            "22/22 [==============================] - 1s 63ms/step - loss: 0.0167 - accuracy: 1.0000 - val_loss: 0.1464 - val_accuracy: 0.9464\n",
            "Epoch 12/50\n",
            "22/22 [==============================] - 1s 63ms/step - loss: 0.0136 - accuracy: 1.0000 - val_loss: 0.1468 - val_accuracy: 0.9464\n",
            "Epoch 13/50\n",
            "22/22 [==============================] - 1s 59ms/step - loss: 0.0113 - accuracy: 1.0000 - val_loss: 0.1476 - val_accuracy: 0.9464\n",
            "Epoch 14/50\n",
            "22/22 [==============================] - 1s 59ms/step - loss: 0.0096 - accuracy: 1.0000 - val_loss: 0.1486 - val_accuracy: 0.9464\n",
            "Epoch 15/50\n",
            "22/22 [==============================] - 1s 59ms/step - loss: 0.0082 - accuracy: 1.0000 - val_loss: 0.1496 - val_accuracy: 0.9464\n",
            "Epoch 16/50\n",
            "22/22 [==============================] - 1s 59ms/step - loss: 0.0071 - accuracy: 1.0000 - val_loss: 0.1508 - val_accuracy: 0.9524\n",
            "Epoch 17/50\n",
            "22/22 [==============================] - 1s 59ms/step - loss: 0.0062 - accuracy: 1.0000 - val_loss: 0.1519 - val_accuracy: 0.9524\n",
            "Epoch 18/50\n",
            "22/22 [==============================] - 1s 62ms/step - loss: 0.0054 - accuracy: 1.0000 - val_loss: 0.1531 - val_accuracy: 0.9524\n",
            "Epoch 19/50\n",
            "22/22 [==============================] - 1s 60ms/step - loss: 0.0048 - accuracy: 1.0000 - val_loss: 0.1543 - val_accuracy: 0.9524\n",
            "Epoch 20/50\n",
            "22/22 [==============================] - 1s 60ms/step - loss: 0.0043 - accuracy: 1.0000 - val_loss: 0.1555 - val_accuracy: 0.9524\n",
            "Epoch 21/50\n",
            "22/22 [==============================] - 1s 59ms/step - loss: 0.0039 - accuracy: 1.0000 - val_loss: 0.1567 - val_accuracy: 0.9524\n"
          ],
          "name": "stdout"
        },
        {
          "output_type": "display_data",
          "data": {
            "text/html": [
              "<span style=\"color:#4527A0\"><h1 style=\"font-size:18px\">Trial complete</h1></span>"
            ],
            "text/plain": [
              "<IPython.core.display.HTML object>"
            ]
          },
          "metadata": {
            "tags": []
          }
        },
        {
          "output_type": "display_data",
          "data": {
            "text/html": [
              "<span style=\"color:#4527A0\"><h1 style=\"font-size:18px\">Trial summary</h1></span>"
            ],
            "text/plain": [
              "<IPython.core.display.HTML object>"
            ]
          },
          "metadata": {
            "tags": []
          }
        },
        {
          "output_type": "display_data",
          "data": {
            "text/html": [
              "<span style=\"color:#7E57C2\"><h2 style=\"font-size:16px\">Hp values:</h2></span>"
            ],
            "text/plain": [
              "<IPython.core.display.HTML object>"
            ]
          },
          "metadata": {
            "tags": []
          }
        },
        {
          "output_type": "display_data",
          "data": {
            "text/html": [
              "<span style=\"color:cyan\"> |-dense_block_1/dropout_rate: 0.0</span>"
            ],
            "text/plain": [
              "<IPython.core.display.HTML object>"
            ]
          },
          "metadata": {
            "tags": []
          }
        },
        {
          "output_type": "display_data",
          "data": {
            "text/html": [
              "<span style=\"color:blue\"> |-dense_block_1/num_layers: 1</span>"
            ],
            "text/plain": [
              "<IPython.core.display.HTML object>"
            ]
          },
          "metadata": {
            "tags": []
          }
        },
        {
          "output_type": "display_data",
          "data": {
            "text/html": [
              "<span style=\"color:cyan\"> |-dense_block_1/units_0: 256</span>"
            ],
            "text/plain": [
              "<IPython.core.display.HTML object>"
            ]
          },
          "metadata": {
            "tags": []
          }
        },
        {
          "output_type": "display_data",
          "data": {
            "text/html": [
              "<span style=\"color:blue\"> |-dense_block_1/units_1: 32</span>"
            ],
            "text/plain": [
              "<IPython.core.display.HTML object>"
            ]
          },
          "metadata": {
            "tags": []
          }
        },
        {
          "output_type": "display_data",
          "data": {
            "text/html": [
              "<span style=\"color:cyan\"> |-dense_block_1/use_batchnorm: False</span>"
            ],
            "text/plain": [
              "<IPython.core.display.HTML object>"
            ]
          },
          "metadata": {
            "tags": []
          }
        },
        {
          "output_type": "display_data",
          "data": {
            "text/html": [
              "<span style=\"color:blue\"> |-optimizer: adam</span>"
            ],
            "text/plain": [
              "<IPython.core.display.HTML object>"
            ]
          },
          "metadata": {
            "tags": []
          }
        },
        {
          "output_type": "display_data",
          "data": {
            "text/html": [
              "<span style=\"color:cyan\"> |-Score: 0.14639176179965338</span>"
            ],
            "text/plain": [
              "<IPython.core.display.HTML object>"
            ]
          },
          "metadata": {
            "tags": []
          }
        },
        {
          "output_type": "display_data",
          "data": {
            "text/html": [
              "<span style=\"color:cyan\"> |-Best step: 0</span>"
            ],
            "text/plain": [
              "<IPython.core.display.HTML object>"
            ]
          },
          "metadata": {
            "tags": []
          }
        },
        {
          "output_type": "stream",
          "text": [
            "Epoch 1/50\n",
            "22/22 [==============================] - 2s 87ms/step - loss: 0.6672 - accuracy: 0.6065 - val_loss: 0.0000e+00 - val_accuracy: 0.0000e+00\n",
            "Epoch 2/50\n",
            "22/22 [==============================] - 1s 57ms/step - loss: 0.5786 - accuracy: 0.7160 - val_loss: 0.5432 - val_accuracy: 0.7321\n",
            "Epoch 3/50\n",
            "22/22 [==============================] - 1s 57ms/step - loss: 0.4588 - accuracy: 0.9024 - val_loss: 0.4311 - val_accuracy: 0.9048\n",
            "Epoch 4/50\n",
            "22/22 [==============================] - 1s 58ms/step - loss: 0.3309 - accuracy: 0.9615 - val_loss: 0.3296 - val_accuracy: 0.9286\n",
            "Epoch 5/50\n",
            "22/22 [==============================] - 1s 58ms/step - loss: 0.2264 - accuracy: 0.9837 - val_loss: 0.2585 - val_accuracy: 0.9405\n",
            "Epoch 6/50\n",
            "22/22 [==============================] - 1s 57ms/step - loss: 0.1590 - accuracy: 0.9911 - val_loss: 0.2156 - val_accuracy: 0.9464\n",
            "Epoch 7/50\n",
            "22/22 [==============================] - 1s 57ms/step - loss: 0.1151 - accuracy: 0.9896 - val_loss: 0.1896 - val_accuracy: 0.9464\n",
            "Epoch 8/50\n",
            "22/22 [==============================] - 1s 56ms/step - loss: 0.0875 - accuracy: 0.9926 - val_loss: 0.1736 - val_accuracy: 0.9464\n",
            "Epoch 9/50\n",
            "22/22 [==============================] - 1s 60ms/step - loss: 0.0680 - accuracy: 0.9941 - val_loss: 0.1637 - val_accuracy: 0.9464\n",
            "Epoch 10/50\n",
            "22/22 [==============================] - 1s 60ms/step - loss: 0.0538 - accuracy: 0.9970 - val_loss: 0.1564 - val_accuracy: 0.9524\n",
            "Epoch 11/50\n",
            "22/22 [==============================] - 1s 58ms/step - loss: 0.0435 - accuracy: 0.9985 - val_loss: 0.1520 - val_accuracy: 0.9583\n",
            "Epoch 12/50\n",
            "22/22 [==============================] - 1s 59ms/step - loss: 0.0358 - accuracy: 0.9985 - val_loss: 0.1491 - val_accuracy: 0.9583\n",
            "Epoch 13/50\n",
            "22/22 [==============================] - 1s 59ms/step - loss: 0.0296 - accuracy: 0.9985 - val_loss: 0.1471 - val_accuracy: 0.9583\n",
            "Epoch 14/50\n",
            "22/22 [==============================] - 1s 58ms/step - loss: 0.0245 - accuracy: 1.0000 - val_loss: 0.1457 - val_accuracy: 0.9643\n",
            "Epoch 15/50\n",
            "22/22 [==============================] - 1s 59ms/step - loss: 0.0210 - accuracy: 1.0000 - val_loss: 0.1448 - val_accuracy: 0.9583\n",
            "Epoch 16/50\n",
            "22/22 [==============================] - 1s 57ms/step - loss: 0.0188 - accuracy: 0.9985 - val_loss: 0.1444 - val_accuracy: 0.9643\n",
            "Epoch 17/50\n",
            "22/22 [==============================] - 1s 54ms/step - loss: 0.0165 - accuracy: 1.0000 - val_loss: 0.1442 - val_accuracy: 0.9643\n",
            "Epoch 18/50\n",
            "22/22 [==============================] - 1s 58ms/step - loss: 0.0142 - accuracy: 1.0000 - val_loss: 0.1439 - val_accuracy: 0.9643\n",
            "Epoch 19/50\n",
            "22/22 [==============================] - 1s 54ms/step - loss: 0.0126 - accuracy: 1.0000 - val_loss: 0.1447 - val_accuracy: 0.9583\n",
            "Epoch 20/50\n",
            "22/22 [==============================] - 1s 58ms/step - loss: 0.0117 - accuracy: 1.0000 - val_loss: 0.1445 - val_accuracy: 0.9583\n",
            "Epoch 21/50\n",
            "22/22 [==============================] - 1s 59ms/step - loss: 0.0103 - accuracy: 1.0000 - val_loss: 0.1454 - val_accuracy: 0.9583\n",
            "Epoch 22/50\n",
            "22/22 [==============================] - 1s 58ms/step - loss: 0.0094 - accuracy: 1.0000 - val_loss: 0.1463 - val_accuracy: 0.9583\n",
            "Epoch 23/50\n",
            "22/22 [==============================] - 1s 58ms/step - loss: 0.0085 - accuracy: 1.0000 - val_loss: 0.1468 - val_accuracy: 0.9583\n",
            "Epoch 24/50\n",
            "22/22 [==============================] - 1s 56ms/step - loss: 0.0073 - accuracy: 1.0000 - val_loss: 0.1484 - val_accuracy: 0.9583\n",
            "Epoch 25/50\n",
            "22/22 [==============================] - 1s 55ms/step - loss: 0.0073 - accuracy: 1.0000 - val_loss: 0.1490 - val_accuracy: 0.9524\n",
            "Epoch 26/50\n",
            "22/22 [==============================] - 1s 59ms/step - loss: 0.0063 - accuracy: 1.0000 - val_loss: 0.1496 - val_accuracy: 0.9524\n",
            "Epoch 27/50\n",
            "22/22 [==============================] - 1s 57ms/step - loss: 0.0057 - accuracy: 1.0000 - val_loss: 0.1504 - val_accuracy: 0.9524\n",
            "Epoch 28/50\n",
            "22/22 [==============================] - 1s 59ms/step - loss: 0.0055 - accuracy: 1.0000 - val_loss: 0.1509 - val_accuracy: 0.9583\n"
          ],
          "name": "stdout"
        },
        {
          "output_type": "display_data",
          "data": {
            "text/html": [
              "<span style=\"color:#4527A0\"><h1 style=\"font-size:18px\">Trial complete</h1></span>"
            ],
            "text/plain": [
              "<IPython.core.display.HTML object>"
            ]
          },
          "metadata": {
            "tags": []
          }
        },
        {
          "output_type": "display_data",
          "data": {
            "text/html": [
              "<span style=\"color:#4527A0\"><h1 style=\"font-size:18px\">Trial summary</h1></span>"
            ],
            "text/plain": [
              "<IPython.core.display.HTML object>"
            ]
          },
          "metadata": {
            "tags": []
          }
        },
        {
          "output_type": "display_data",
          "data": {
            "text/html": [
              "<span style=\"color:#7E57C2\"><h2 style=\"font-size:16px\">Hp values:</h2></span>"
            ],
            "text/plain": [
              "<IPython.core.display.HTML object>"
            ]
          },
          "metadata": {
            "tags": []
          }
        },
        {
          "output_type": "display_data",
          "data": {
            "text/html": [
              "<span style=\"color:cyan\"> |-dense_block_1/dropout_rate: 0.25</span>"
            ],
            "text/plain": [
              "<IPython.core.display.HTML object>"
            ]
          },
          "metadata": {
            "tags": []
          }
        },
        {
          "output_type": "display_data",
          "data": {
            "text/html": [
              "<span style=\"color:blue\"> |-dense_block_1/num_layers: 1</span>"
            ],
            "text/plain": [
              "<IPython.core.display.HTML object>"
            ]
          },
          "metadata": {
            "tags": []
          }
        },
        {
          "output_type": "display_data",
          "data": {
            "text/html": [
              "<span style=\"color:cyan\"> |-dense_block_1/units_0: 128</span>"
            ],
            "text/plain": [
              "<IPython.core.display.HTML object>"
            ]
          },
          "metadata": {
            "tags": []
          }
        },
        {
          "output_type": "display_data",
          "data": {
            "text/html": [
              "<span style=\"color:blue\"> |-dense_block_1/units_1: 16</span>"
            ],
            "text/plain": [
              "<IPython.core.display.HTML object>"
            ]
          },
          "metadata": {
            "tags": []
          }
        },
        {
          "output_type": "display_data",
          "data": {
            "text/html": [
              "<span style=\"color:cyan\"> |-dense_block_1/use_batchnorm: False</span>"
            ],
            "text/plain": [
              "<IPython.core.display.HTML object>"
            ]
          },
          "metadata": {
            "tags": []
          }
        },
        {
          "output_type": "display_data",
          "data": {
            "text/html": [
              "<span style=\"color:blue\"> |-optimizer: adam</span>"
            ],
            "text/plain": [
              "<IPython.core.display.HTML object>"
            ]
          },
          "metadata": {
            "tags": []
          }
        },
        {
          "output_type": "display_data",
          "data": {
            "text/html": [
              "<span style=\"color:cyan\"> |-Score: 0.1438857348014911</span>"
            ],
            "text/plain": [
              "<IPython.core.display.HTML object>"
            ]
          },
          "metadata": {
            "tags": []
          }
        },
        {
          "output_type": "display_data",
          "data": {
            "text/html": [
              "<span style=\"color:cyan\"> |-Best step: 0</span>"
            ],
            "text/plain": [
              "<IPython.core.display.HTML object>"
            ]
          },
          "metadata": {
            "tags": []
          }
        },
        {
          "output_type": "stream",
          "text": [
            "Epoch 1/50\n",
            "22/22 [==============================] - 2s 85ms/step - loss: 0.6836 - accuracy: 0.5902 - val_loss: 0.0000e+00 - val_accuracy: 0.0000e+00\n",
            "Epoch 2/50\n",
            "22/22 [==============================] - 1s 57ms/step - loss: 0.6315 - accuracy: 0.8210 - val_loss: 0.5874 - val_accuracy: 0.8810\n",
            "Epoch 3/50\n",
            "22/22 [==============================] - 1s 59ms/step - loss: 0.4977 - accuracy: 0.9586 - val_loss: 0.4309 - val_accuracy: 0.9464\n",
            "Epoch 4/50\n",
            "22/22 [==============================] - 1s 55ms/step - loss: 0.3048 - accuracy: 0.9867 - val_loss: 0.2767 - val_accuracy: 0.9702\n",
            "Epoch 5/50\n",
            "22/22 [==============================] - 1s 57ms/step - loss: 0.1533 - accuracy: 0.9926 - val_loss: 0.1928 - val_accuracy: 0.9583\n",
            "Epoch 6/50\n",
            "22/22 [==============================] - 1s 57ms/step - loss: 0.0766 - accuracy: 0.9956 - val_loss: 0.1604 - val_accuracy: 0.9583\n",
            "Epoch 7/50\n",
            "22/22 [==============================] - 1s 56ms/step - loss: 0.0428 - accuracy: 0.9985 - val_loss: 0.1482 - val_accuracy: 0.9583\n",
            "Epoch 8/50\n",
            "22/22 [==============================] - 1s 60ms/step - loss: 0.0269 - accuracy: 0.9985 - val_loss: 0.1439 - val_accuracy: 0.9583\n",
            "Epoch 9/50\n",
            "22/22 [==============================] - 1s 59ms/step - loss: 0.0183 - accuracy: 0.9985 - val_loss: 0.1429 - val_accuracy: 0.9583\n",
            "Epoch 10/50\n",
            "22/22 [==============================] - 1s 56ms/step - loss: 0.0133 - accuracy: 1.0000 - val_loss: 0.1432 - val_accuracy: 0.9524\n",
            "Epoch 11/50\n",
            "22/22 [==============================] - 1s 55ms/step - loss: 0.0101 - accuracy: 1.0000 - val_loss: 0.1445 - val_accuracy: 0.9524\n",
            "Epoch 12/50\n",
            "22/22 [==============================] - 1s 58ms/step - loss: 0.0079 - accuracy: 1.0000 - val_loss: 0.1461 - val_accuracy: 0.9524\n",
            "Epoch 13/50\n",
            "22/22 [==============================] - 1s 54ms/step - loss: 0.0064 - accuracy: 1.0000 - val_loss: 0.1478 - val_accuracy: 0.9524\n",
            "Epoch 14/50\n",
            "22/22 [==============================] - 1s 55ms/step - loss: 0.0053 - accuracy: 1.0000 - val_loss: 0.1497 - val_accuracy: 0.9524\n",
            "Epoch 15/50\n",
            "22/22 [==============================] - 1s 53ms/step - loss: 0.0044 - accuracy: 1.0000 - val_loss: 0.1515 - val_accuracy: 0.9524\n",
            "Epoch 16/50\n",
            "22/22 [==============================] - 1s 54ms/step - loss: 0.0037 - accuracy: 1.0000 - val_loss: 0.1536 - val_accuracy: 0.9524\n",
            "Epoch 17/50\n",
            "22/22 [==============================] - 1s 57ms/step - loss: 0.0032 - accuracy: 1.0000 - val_loss: 0.1553 - val_accuracy: 0.9524\n",
            "Epoch 18/50\n",
            "22/22 [==============================] - 1s 54ms/step - loss: 0.0028 - accuracy: 1.0000 - val_loss: 0.1571 - val_accuracy: 0.9464\n",
            "Epoch 19/50\n",
            "22/22 [==============================] - 1s 57ms/step - loss: 0.0025 - accuracy: 1.0000 - val_loss: 0.1589 - val_accuracy: 0.9464\n"
          ],
          "name": "stdout"
        },
        {
          "output_type": "display_data",
          "data": {
            "text/html": [
              "<span style=\"color:#4527A0\"><h1 style=\"font-size:18px\">Trial complete</h1></span>"
            ],
            "text/plain": [
              "<IPython.core.display.HTML object>"
            ]
          },
          "metadata": {
            "tags": []
          }
        },
        {
          "output_type": "display_data",
          "data": {
            "text/html": [
              "<span style=\"color:#4527A0\"><h1 style=\"font-size:18px\">Trial summary</h1></span>"
            ],
            "text/plain": [
              "<IPython.core.display.HTML object>"
            ]
          },
          "metadata": {
            "tags": []
          }
        },
        {
          "output_type": "display_data",
          "data": {
            "text/html": [
              "<span style=\"color:#7E57C2\"><h2 style=\"font-size:16px\">Hp values:</h2></span>"
            ],
            "text/plain": [
              "<IPython.core.display.HTML object>"
            ]
          },
          "metadata": {
            "tags": []
          }
        },
        {
          "output_type": "display_data",
          "data": {
            "text/html": [
              "<span style=\"color:cyan\"> |-dense_block_1/dropout_rate: 0.0</span>"
            ],
            "text/plain": [
              "<IPython.core.display.HTML object>"
            ]
          },
          "metadata": {
            "tags": []
          }
        },
        {
          "output_type": "display_data",
          "data": {
            "text/html": [
              "<span style=\"color:blue\"> |-dense_block_1/num_layers: 2</span>"
            ],
            "text/plain": [
              "<IPython.core.display.HTML object>"
            ]
          },
          "metadata": {
            "tags": []
          }
        },
        {
          "output_type": "display_data",
          "data": {
            "text/html": [
              "<span style=\"color:cyan\"> |-dense_block_1/units_0: 64</span>"
            ],
            "text/plain": [
              "<IPython.core.display.HTML object>"
            ]
          },
          "metadata": {
            "tags": []
          }
        },
        {
          "output_type": "display_data",
          "data": {
            "text/html": [
              "<span style=\"color:blue\"> |-dense_block_1/units_1: 16</span>"
            ],
            "text/plain": [
              "<IPython.core.display.HTML object>"
            ]
          },
          "metadata": {
            "tags": []
          }
        },
        {
          "output_type": "display_data",
          "data": {
            "text/html": [
              "<span style=\"color:cyan\"> |-dense_block_1/use_batchnorm: False</span>"
            ],
            "text/plain": [
              "<IPython.core.display.HTML object>"
            ]
          },
          "metadata": {
            "tags": []
          }
        },
        {
          "output_type": "display_data",
          "data": {
            "text/html": [
              "<span style=\"color:blue\"> |-optimizer: adam</span>"
            ],
            "text/plain": [
              "<IPython.core.display.HTML object>"
            ]
          },
          "metadata": {
            "tags": []
          }
        },
        {
          "output_type": "display_data",
          "data": {
            "text/html": [
              "<span style=\"color:cyan\"> |-Score: 0.14287409279495478</span>"
            ],
            "text/plain": [
              "<IPython.core.display.HTML object>"
            ]
          },
          "metadata": {
            "tags": []
          }
        },
        {
          "output_type": "display_data",
          "data": {
            "text/html": [
              "<span style=\"color:cyan\"> |-Best step: 0</span>"
            ],
            "text/plain": [
              "<IPython.core.display.HTML object>"
            ]
          },
          "metadata": {
            "tags": []
          }
        },
        {
          "output_type": "stream",
          "text": [
            "Epoch 1/50\n",
            "22/22 [==============================] - 2s 86ms/step - loss: 0.6713 - accuracy: 0.6080 - val_loss: 0.0000e+00 - val_accuracy: 0.0000e+00\n",
            "Epoch 2/50\n",
            "22/22 [==============================] - 1s 57ms/step - loss: 0.6183 - accuracy: 0.6139 - val_loss: 0.5976 - val_accuracy: 0.6131\n",
            "Epoch 3/50\n",
            "22/22 [==============================] - 1s 53ms/step - loss: 0.5512 - accuracy: 0.6642 - val_loss: 0.5330 - val_accuracy: 0.6667\n",
            "Epoch 4/50\n",
            "22/22 [==============================] - 1s 53ms/step - loss: 0.4699 - accuracy: 0.8269 - val_loss: 0.4644 - val_accuracy: 0.8214\n",
            "Epoch 5/50\n",
            "22/22 [==============================] - 1s 55ms/step - loss: 0.3923 - accuracy: 0.9275 - val_loss: 0.3997 - val_accuracy: 0.8690\n",
            "Epoch 6/50\n",
            "22/22 [==============================] - 1s 57ms/step - loss: 0.3195 - accuracy: 0.9630 - val_loss: 0.3439 - val_accuracy: 0.9048\n",
            "Epoch 7/50\n",
            "22/22 [==============================] - 1s 59ms/step - loss: 0.2563 - accuracy: 0.9763 - val_loss: 0.2986 - val_accuracy: 0.9345\n",
            "Epoch 8/50\n",
            "22/22 [==============================] - 1s 60ms/step - loss: 0.2150 - accuracy: 0.9837 - val_loss: 0.2628 - val_accuracy: 0.9345\n",
            "Epoch 9/50\n",
            "22/22 [==============================] - 1s 59ms/step - loss: 0.1732 - accuracy: 0.9896 - val_loss: 0.2365 - val_accuracy: 0.9345\n",
            "Epoch 10/50\n",
            "22/22 [==============================] - 1s 57ms/step - loss: 0.1446 - accuracy: 0.9911 - val_loss: 0.2162 - val_accuracy: 0.9405\n",
            "Epoch 11/50\n",
            "22/22 [==============================] - 1s 57ms/step - loss: 0.1247 - accuracy: 0.9926 - val_loss: 0.2008 - val_accuracy: 0.9405\n",
            "Epoch 12/50\n",
            "22/22 [==============================] - 1s 59ms/step - loss: 0.1052 - accuracy: 0.9911 - val_loss: 0.1900 - val_accuracy: 0.9405\n",
            "Epoch 13/50\n",
            "22/22 [==============================] - 1s 55ms/step - loss: 0.0877 - accuracy: 0.9970 - val_loss: 0.1801 - val_accuracy: 0.9405\n",
            "Epoch 14/50\n",
            "22/22 [==============================] - 1s 57ms/step - loss: 0.0781 - accuracy: 0.9941 - val_loss: 0.1724 - val_accuracy: 0.9405\n",
            "Epoch 15/50\n",
            "22/22 [==============================] - 1s 56ms/step - loss: 0.0689 - accuracy: 0.9956 - val_loss: 0.1674 - val_accuracy: 0.9405\n",
            "Epoch 16/50\n",
            "22/22 [==============================] - 1s 59ms/step - loss: 0.0623 - accuracy: 0.9985 - val_loss: 0.1638 - val_accuracy: 0.9405\n",
            "Epoch 17/50\n",
            "22/22 [==============================] - 1s 58ms/step - loss: 0.0536 - accuracy: 0.9970 - val_loss: 0.1599 - val_accuracy: 0.9464\n",
            "Epoch 18/50\n",
            "22/22 [==============================] - 1s 55ms/step - loss: 0.0478 - accuracy: 0.9956 - val_loss: 0.1581 - val_accuracy: 0.9405\n",
            "Epoch 19/50\n",
            "22/22 [==============================] - 1s 54ms/step - loss: 0.0486 - accuracy: 0.9970 - val_loss: 0.1557 - val_accuracy: 0.9464\n",
            "Epoch 20/50\n",
            "22/22 [==============================] - 1s 56ms/step - loss: 0.0416 - accuracy: 0.9970 - val_loss: 0.1542 - val_accuracy: 0.9464\n",
            "Epoch 21/50\n",
            "22/22 [==============================] - 1s 58ms/step - loss: 0.0345 - accuracy: 1.0000 - val_loss: 0.1541 - val_accuracy: 0.9405\n",
            "Epoch 22/50\n",
            "22/22 [==============================] - 1s 54ms/step - loss: 0.0311 - accuracy: 0.9985 - val_loss: 0.1528 - val_accuracy: 0.9464\n",
            "Epoch 23/50\n",
            "22/22 [==============================] - 1s 58ms/step - loss: 0.0306 - accuracy: 1.0000 - val_loss: 0.1526 - val_accuracy: 0.9405\n",
            "Epoch 24/50\n",
            "22/22 [==============================] - 1s 55ms/step - loss: 0.0273 - accuracy: 1.0000 - val_loss: 0.1508 - val_accuracy: 0.9464\n",
            "Epoch 25/50\n",
            "22/22 [==============================] - 1s 55ms/step - loss: 0.0248 - accuracy: 0.9985 - val_loss: 0.1500 - val_accuracy: 0.9464\n",
            "Epoch 26/50\n",
            "22/22 [==============================] - 1s 56ms/step - loss: 0.0229 - accuracy: 1.0000 - val_loss: 0.1499 - val_accuracy: 0.9524\n",
            "Epoch 27/50\n",
            "22/22 [==============================] - 1s 53ms/step - loss: 0.0193 - accuracy: 1.0000 - val_loss: 0.1510 - val_accuracy: 0.9464\n",
            "Epoch 28/50\n",
            "22/22 [==============================] - 1s 56ms/step - loss: 0.0211 - accuracy: 1.0000 - val_loss: 0.1513 - val_accuracy: 0.9464\n",
            "Epoch 29/50\n",
            "22/22 [==============================] - 1s 57ms/step - loss: 0.0176 - accuracy: 1.0000 - val_loss: 0.1498 - val_accuracy: 0.9524\n",
            "Epoch 30/50\n",
            "22/22 [==============================] - 1s 57ms/step - loss: 0.0177 - accuracy: 1.0000 - val_loss: 0.1500 - val_accuracy: 0.9524\n",
            "Epoch 31/50\n",
            "22/22 [==============================] - 1s 58ms/step - loss: 0.0157 - accuracy: 1.0000 - val_loss: 0.1523 - val_accuracy: 0.9464\n",
            "Epoch 32/50\n",
            "22/22 [==============================] - 1s 55ms/step - loss: 0.0160 - accuracy: 1.0000 - val_loss: 0.1526 - val_accuracy: 0.9464\n",
            "Epoch 33/50\n",
            "22/22 [==============================] - 1s 54ms/step - loss: 0.0133 - accuracy: 1.0000 - val_loss: 0.1545 - val_accuracy: 0.9405\n",
            "Epoch 34/50\n",
            "22/22 [==============================] - 1s 59ms/step - loss: 0.0158 - accuracy: 1.0000 - val_loss: 0.1538 - val_accuracy: 0.9464\n",
            "Epoch 35/50\n",
            "22/22 [==============================] - 1s 55ms/step - loss: 0.0139 - accuracy: 1.0000 - val_loss: 0.1538 - val_accuracy: 0.9464\n",
            "Epoch 36/50\n",
            "22/22 [==============================] - 1s 56ms/step - loss: 0.0121 - accuracy: 0.9985 - val_loss: 0.1537 - val_accuracy: 0.9524\n",
            "Epoch 37/50\n",
            "22/22 [==============================] - 1s 54ms/step - loss: 0.0125 - accuracy: 1.0000 - val_loss: 0.1539 - val_accuracy: 0.9524\n",
            "Epoch 38/50\n",
            "22/22 [==============================] - 1s 55ms/step - loss: 0.0112 - accuracy: 0.9985 - val_loss: 0.1552 - val_accuracy: 0.9524\n",
            "Epoch 39/50\n",
            "22/22 [==============================] - 1s 57ms/step - loss: 0.0096 - accuracy: 1.0000 - val_loss: 0.1564 - val_accuracy: 0.9524\n"
          ],
          "name": "stdout"
        },
        {
          "output_type": "display_data",
          "data": {
            "text/html": [
              "<span style=\"color:#4527A0\"><h1 style=\"font-size:18px\">Trial complete</h1></span>"
            ],
            "text/plain": [
              "<IPython.core.display.HTML object>"
            ]
          },
          "metadata": {
            "tags": []
          }
        },
        {
          "output_type": "display_data",
          "data": {
            "text/html": [
              "<span style=\"color:#4527A0\"><h1 style=\"font-size:18px\">Trial summary</h1></span>"
            ],
            "text/plain": [
              "<IPython.core.display.HTML object>"
            ]
          },
          "metadata": {
            "tags": []
          }
        },
        {
          "output_type": "display_data",
          "data": {
            "text/html": [
              "<span style=\"color:#7E57C2\"><h2 style=\"font-size:16px\">Hp values:</h2></span>"
            ],
            "text/plain": [
              "<IPython.core.display.HTML object>"
            ]
          },
          "metadata": {
            "tags": []
          }
        },
        {
          "output_type": "display_data",
          "data": {
            "text/html": [
              "<span style=\"color:cyan\"> |-dense_block_1/dropout_rate: 0.5</span>"
            ],
            "text/plain": [
              "<IPython.core.display.HTML object>"
            ]
          },
          "metadata": {
            "tags": []
          }
        },
        {
          "output_type": "display_data",
          "data": {
            "text/html": [
              "<span style=\"color:blue\"> |-dense_block_1/num_layers: 1</span>"
            ],
            "text/plain": [
              "<IPython.core.display.HTML object>"
            ]
          },
          "metadata": {
            "tags": []
          }
        },
        {
          "output_type": "display_data",
          "data": {
            "text/html": [
              "<span style=\"color:cyan\"> |-dense_block_1/units_0: 64</span>"
            ],
            "text/plain": [
              "<IPython.core.display.HTML object>"
            ]
          },
          "metadata": {
            "tags": []
          }
        },
        {
          "output_type": "display_data",
          "data": {
            "text/html": [
              "<span style=\"color:blue\"> |-dense_block_1/units_1: 1024</span>"
            ],
            "text/plain": [
              "<IPython.core.display.HTML object>"
            ]
          },
          "metadata": {
            "tags": []
          }
        },
        {
          "output_type": "display_data",
          "data": {
            "text/html": [
              "<span style=\"color:cyan\"> |-dense_block_1/use_batchnorm: False</span>"
            ],
            "text/plain": [
              "<IPython.core.display.HTML object>"
            ]
          },
          "metadata": {
            "tags": []
          }
        },
        {
          "output_type": "display_data",
          "data": {
            "text/html": [
              "<span style=\"color:blue\"> |-optimizer: adam</span>"
            ],
            "text/plain": [
              "<IPython.core.display.HTML object>"
            ]
          },
          "metadata": {
            "tags": []
          }
        },
        {
          "output_type": "display_data",
          "data": {
            "text/html": [
              "<span style=\"color:cyan\"> |-Score: 0.1497941225146254</span>"
            ],
            "text/plain": [
              "<IPython.core.display.HTML object>"
            ]
          },
          "metadata": {
            "tags": []
          }
        },
        {
          "output_type": "display_data",
          "data": {
            "text/html": [
              "<span style=\"color:cyan\"> |-Best step: 0</span>"
            ],
            "text/plain": [
              "<IPython.core.display.HTML object>"
            ]
          },
          "metadata": {
            "tags": []
          }
        },
        {
          "output_type": "stream",
          "text": [
            "Epoch 1/50\n",
            "22/22 [==============================] - 2s 81ms/step - loss: 0.6916 - accuracy: 0.5488 - val_loss: 0.0000e+00 - val_accuracy: 0.0000e+00\n",
            "Epoch 2/50\n",
            "22/22 [==============================] - 1s 56ms/step - loss: 0.6873 - accuracy: 0.6036 - val_loss: 0.6860 - val_accuracy: 0.6071\n",
            "Epoch 3/50\n",
            "22/22 [==============================] - 1s 52ms/step - loss: 0.6837 - accuracy: 0.6036 - val_loss: 0.6835 - val_accuracy: 0.6071\n",
            "Epoch 4/50\n",
            "22/22 [==============================] - 1s 55ms/step - loss: 0.6810 - accuracy: 0.6036 - val_loss: 0.6815 - val_accuracy: 0.6071\n",
            "Epoch 5/50\n",
            "22/22 [==============================] - 1s 55ms/step - loss: 0.6788 - accuracy: 0.6036 - val_loss: 0.6799 - val_accuracy: 0.6071\n",
            "Epoch 6/50\n",
            "22/22 [==============================] - 1s 56ms/step - loss: 0.6769 - accuracy: 0.6036 - val_loss: 0.6785 - val_accuracy: 0.6071\n",
            "Epoch 7/50\n",
            "22/22 [==============================] - 1s 55ms/step - loss: 0.6753 - accuracy: 0.6036 - val_loss: 0.6773 - val_accuracy: 0.6071\n",
            "Epoch 8/50\n",
            "22/22 [==============================] - 1s 54ms/step - loss: 0.6740 - accuracy: 0.6036 - val_loss: 0.6763 - val_accuracy: 0.6071\n",
            "Epoch 9/50\n",
            "22/22 [==============================] - 1s 56ms/step - loss: 0.6729 - accuracy: 0.6036 - val_loss: 0.6755 - val_accuracy: 0.6071\n",
            "Epoch 10/50\n",
            "22/22 [==============================] - 1s 54ms/step - loss: 0.6720 - accuracy: 0.6036 - val_loss: 0.6748 - val_accuracy: 0.6071\n",
            "Epoch 11/50\n",
            "22/22 [==============================] - 1s 57ms/step - loss: 0.6712 - accuracy: 0.6036 - val_loss: 0.6743 - val_accuracy: 0.6071\n",
            "Epoch 12/50\n",
            "22/22 [==============================] - 1s 56ms/step - loss: 0.6705 - accuracy: 0.6036 - val_loss: 0.6738 - val_accuracy: 0.6071\n",
            "Epoch 13/50\n",
            "22/22 [==============================] - 1s 54ms/step - loss: 0.6699 - accuracy: 0.6036 - val_loss: 0.6734 - val_accuracy: 0.6071\n",
            "Epoch 14/50\n",
            "22/22 [==============================] - 1s 57ms/step - loss: 0.6694 - accuracy: 0.6036 - val_loss: 0.6731 - val_accuracy: 0.6071\n",
            "Epoch 15/50\n",
            "22/22 [==============================] - 1s 54ms/step - loss: 0.6690 - accuracy: 0.6036 - val_loss: 0.6728 - val_accuracy: 0.6071\n",
            "Epoch 16/50\n",
            "22/22 [==============================] - 1s 63ms/step - loss: 0.6686 - accuracy: 0.6036 - val_loss: 0.6725 - val_accuracy: 0.6071\n",
            "Epoch 17/50\n",
            "22/22 [==============================] - 1s 63ms/step - loss: 0.6682 - accuracy: 0.6036 - val_loss: 0.6723 - val_accuracy: 0.6071\n",
            "Epoch 18/50\n",
            "22/22 [==============================] - 1s 63ms/step - loss: 0.6678 - accuracy: 0.6036 - val_loss: 0.6720 - val_accuracy: 0.6071\n",
            "Epoch 19/50\n",
            "22/22 [==============================] - 1s 62ms/step - loss: 0.6675 - accuracy: 0.6036 - val_loss: 0.6718 - val_accuracy: 0.6071\n",
            "Epoch 20/50\n",
            "22/22 [==============================] - 1s 55ms/step - loss: 0.6672 - accuracy: 0.6036 - val_loss: 0.6716 - val_accuracy: 0.6071\n",
            "Epoch 21/50\n",
            "22/22 [==============================] - 1s 53ms/step - loss: 0.6669 - accuracy: 0.6036 - val_loss: 0.6714 - val_accuracy: 0.6071\n",
            "Epoch 22/50\n",
            "22/22 [==============================] - 1s 52ms/step - loss: 0.6667 - accuracy: 0.6036 - val_loss: 0.6712 - val_accuracy: 0.6071\n",
            "Epoch 23/50\n",
            "22/22 [==============================] - 1s 52ms/step - loss: 0.6664 - accuracy: 0.6036 - val_loss: 0.6710 - val_accuracy: 0.6071\n",
            "Epoch 24/50\n",
            "22/22 [==============================] - 1s 56ms/step - loss: 0.6661 - accuracy: 0.6036 - val_loss: 0.6708 - val_accuracy: 0.6071\n",
            "Epoch 25/50\n",
            "22/22 [==============================] - 1s 56ms/step - loss: 0.6658 - accuracy: 0.6036 - val_loss: 0.6706 - val_accuracy: 0.6071\n",
            "Epoch 26/50\n",
            "22/22 [==============================] - 1s 63ms/step - loss: 0.6655 - accuracy: 0.6036 - val_loss: 0.6703 - val_accuracy: 0.6071\n",
            "Epoch 27/50\n",
            "22/22 [==============================] - 1s 59ms/step - loss: 0.6653 - accuracy: 0.6036 - val_loss: 0.6701 - val_accuracy: 0.6071\n",
            "Epoch 28/50\n",
            "22/22 [==============================] - 1s 61ms/step - loss: 0.6649 - accuracy: 0.6036 - val_loss: 0.6698 - val_accuracy: 0.6071\n",
            "Epoch 29/50\n",
            "22/22 [==============================] - 1s 63ms/step - loss: 0.6646 - accuracy: 0.6036 - val_loss: 0.6695 - val_accuracy: 0.6071\n",
            "Epoch 30/50\n",
            "22/22 [==============================] - 1s 61ms/step - loss: 0.6643 - accuracy: 0.6036 - val_loss: 0.6692 - val_accuracy: 0.6071\n",
            "Epoch 31/50\n",
            "22/22 [==============================] - 1s 60ms/step - loss: 0.6640 - accuracy: 0.6036 - val_loss: 0.6689 - val_accuracy: 0.6071\n",
            "Epoch 32/50\n",
            "22/22 [==============================] - 1s 62ms/step - loss: 0.6636 - accuracy: 0.6036 - val_loss: 0.6685 - val_accuracy: 0.6071\n",
            "Epoch 33/50\n",
            "22/22 [==============================] - 1s 59ms/step - loss: 0.6632 - accuracy: 0.6036 - val_loss: 0.6682 - val_accuracy: 0.6071\n",
            "Epoch 34/50\n",
            "22/22 [==============================] - 1s 57ms/step - loss: 0.6628 - accuracy: 0.6036 - val_loss: 0.6678 - val_accuracy: 0.6071\n",
            "Epoch 35/50\n",
            "22/22 [==============================] - 1s 55ms/step - loss: 0.6624 - accuracy: 0.6036 - val_loss: 0.6674 - val_accuracy: 0.6071\n",
            "Epoch 36/50\n",
            "22/22 [==============================] - 1s 57ms/step - loss: 0.6619 - accuracy: 0.6036 - val_loss: 0.6669 - val_accuracy: 0.6071\n",
            "Epoch 37/50\n",
            "22/22 [==============================] - 1s 54ms/step - loss: 0.6614 - accuracy: 0.6036 - val_loss: 0.6663 - val_accuracy: 0.6071\n",
            "Epoch 38/50\n",
            "22/22 [==============================] - 1s 54ms/step - loss: 0.6609 - accuracy: 0.6036 - val_loss: 0.6657 - val_accuracy: 0.6071\n",
            "Epoch 39/50\n",
            "22/22 [==============================] - 1s 56ms/step - loss: 0.6604 - accuracy: 0.6036 - val_loss: 0.6652 - val_accuracy: 0.6071\n",
            "Epoch 40/50\n",
            "22/22 [==============================] - 1s 57ms/step - loss: 0.6598 - accuracy: 0.6036 - val_loss: 0.6647 - val_accuracy: 0.6071\n",
            "Epoch 41/50\n",
            "22/22 [==============================] - 1s 53ms/step - loss: 0.6593 - accuracy: 0.6036 - val_loss: 0.6641 - val_accuracy: 0.6071\n",
            "Epoch 42/50\n",
            "22/22 [==============================] - 1s 53ms/step - loss: 0.6587 - accuracy: 0.6036 - val_loss: 0.6636 - val_accuracy: 0.6071\n",
            "Epoch 43/50\n",
            "22/22 [==============================] - 1s 54ms/step - loss: 0.6581 - accuracy: 0.6036 - val_loss: 0.6631 - val_accuracy: 0.6071\n",
            "Epoch 44/50\n",
            "22/22 [==============================] - 1s 55ms/step - loss: 0.6575 - accuracy: 0.6036 - val_loss: 0.6625 - val_accuracy: 0.6071\n",
            "Epoch 45/50\n",
            "22/22 [==============================] - 1s 56ms/step - loss: 0.6569 - accuracy: 0.6036 - val_loss: 0.6620 - val_accuracy: 0.6071\n",
            "Epoch 46/50\n",
            "22/22 [==============================] - 1s 55ms/step - loss: 0.6562 - accuracy: 0.6036 - val_loss: 0.6615 - val_accuracy: 0.6071\n",
            "Epoch 47/50\n",
            "22/22 [==============================] - 1s 57ms/step - loss: 0.6556 - accuracy: 0.6036 - val_loss: 0.6609 - val_accuracy: 0.6071\n",
            "Epoch 48/50\n",
            "22/22 [==============================] - 1s 55ms/step - loss: 0.6550 - accuracy: 0.6036 - val_loss: 0.6603 - val_accuracy: 0.6071\n",
            "Epoch 49/50\n",
            "22/22 [==============================] - 1s 54ms/step - loss: 0.6543 - accuracy: 0.6036 - val_loss: 0.6597 - val_accuracy: 0.6071\n",
            "Epoch 50/50\n",
            "22/22 [==============================] - 1s 57ms/step - loss: 0.6536 - accuracy: 0.6036 - val_loss: 0.6591 - val_accuracy: 0.6071\n"
          ],
          "name": "stdout"
        },
        {
          "output_type": "display_data",
          "data": {
            "text/html": [
              "<span style=\"color:#4527A0\"><h1 style=\"font-size:18px\">Trial complete</h1></span>"
            ],
            "text/plain": [
              "<IPython.core.display.HTML object>"
            ]
          },
          "metadata": {
            "tags": []
          }
        },
        {
          "output_type": "display_data",
          "data": {
            "text/html": [
              "<span style=\"color:#4527A0\"><h1 style=\"font-size:18px\">Trial summary</h1></span>"
            ],
            "text/plain": [
              "<IPython.core.display.HTML object>"
            ]
          },
          "metadata": {
            "tags": []
          }
        },
        {
          "output_type": "display_data",
          "data": {
            "text/html": [
              "<span style=\"color:#7E57C2\"><h2 style=\"font-size:16px\">Hp values:</h2></span>"
            ],
            "text/plain": [
              "<IPython.core.display.HTML object>"
            ]
          },
          "metadata": {
            "tags": []
          }
        },
        {
          "output_type": "display_data",
          "data": {
            "text/html": [
              "<span style=\"color:cyan\"> |-dense_block_1/dropout_rate: 0.0</span>"
            ],
            "text/plain": [
              "<IPython.core.display.HTML object>"
            ]
          },
          "metadata": {
            "tags": []
          }
        },
        {
          "output_type": "display_data",
          "data": {
            "text/html": [
              "<span style=\"color:blue\"> |-dense_block_1/num_layers: 2</span>"
            ],
            "text/plain": [
              "<IPython.core.display.HTML object>"
            ]
          },
          "metadata": {
            "tags": []
          }
        },
        {
          "output_type": "display_data",
          "data": {
            "text/html": [
              "<span style=\"color:cyan\"> |-dense_block_1/units_0: 64</span>"
            ],
            "text/plain": [
              "<IPython.core.display.HTML object>"
            ]
          },
          "metadata": {
            "tags": []
          }
        },
        {
          "output_type": "display_data",
          "data": {
            "text/html": [
              "<span style=\"color:blue\"> |-dense_block_1/units_1: 16</span>"
            ],
            "text/plain": [
              "<IPython.core.display.HTML object>"
            ]
          },
          "metadata": {
            "tags": []
          }
        },
        {
          "output_type": "display_data",
          "data": {
            "text/html": [
              "<span style=\"color:cyan\"> |-dense_block_1/use_batchnorm: False</span>"
            ],
            "text/plain": [
              "<IPython.core.display.HTML object>"
            ]
          },
          "metadata": {
            "tags": []
          }
        },
        {
          "output_type": "display_data",
          "data": {
            "text/html": [
              "<span style=\"color:blue\"> |-optimizer: sgd</span>"
            ],
            "text/plain": [
              "<IPython.core.display.HTML object>"
            ]
          },
          "metadata": {
            "tags": []
          }
        },
        {
          "output_type": "display_data",
          "data": {
            "text/html": [
              "<span style=\"color:cyan\"> |-Score: 0.6590601901213328</span>"
            ],
            "text/plain": [
              "<IPython.core.display.HTML object>"
            ]
          },
          "metadata": {
            "tags": []
          }
        },
        {
          "output_type": "display_data",
          "data": {
            "text/html": [
              "<span style=\"color:cyan\"> |-Best step: 0</span>"
            ],
            "text/plain": [
              "<IPython.core.display.HTML object>"
            ]
          },
          "metadata": {
            "tags": []
          }
        },
        {
          "output_type": "stream",
          "text": [
            "Epoch 1/50\n",
            "22/22 [==============================] - 3s 149ms/step - loss: 0.7603 - accuracy: 0.5754 - val_loss: 0.0000e+00 - val_accuracy: 0.0000e+00\n",
            "Epoch 2/50\n",
            "22/22 [==============================] - 1s 68ms/step - loss: 0.6237 - accuracy: 0.6420 - val_loss: 0.6815 - val_accuracy: 0.6548\n",
            "Epoch 3/50\n",
            "22/22 [==============================] - 1s 68ms/step - loss: 0.5395 - accuracy: 0.7175 - val_loss: 0.6733 - val_accuracy: 0.6488\n",
            "Epoch 4/50\n",
            "22/22 [==============================] - 2s 68ms/step - loss: 0.4969 - accuracy: 0.7781 - val_loss: 0.6639 - val_accuracy: 0.7202\n",
            "Epoch 5/50\n",
            "22/22 [==============================] - 2s 71ms/step - loss: 0.4423 - accuracy: 0.8047 - val_loss: 0.6528 - val_accuracy: 0.8095\n",
            "Epoch 6/50\n",
            "22/22 [==============================] - 1s 68ms/step - loss: 0.3664 - accuracy: 0.8654 - val_loss: 0.6386 - val_accuracy: 0.8929\n",
            "Epoch 7/50\n",
            "22/22 [==============================] - 1s 67ms/step - loss: 0.3372 - accuracy: 0.8817 - val_loss: 0.6231 - val_accuracy: 0.9286\n",
            "Epoch 8/50\n",
            "22/22 [==============================] - 2s 69ms/step - loss: 0.2931 - accuracy: 0.9053 - val_loss: 0.6014 - val_accuracy: 0.9286\n",
            "Epoch 9/50\n",
            "22/22 [==============================] - 2s 70ms/step - loss: 0.2634 - accuracy: 0.9083 - val_loss: 0.5802 - val_accuracy: 0.9286\n",
            "Epoch 10/50\n",
            "22/22 [==============================] - 2s 69ms/step - loss: 0.2392 - accuracy: 0.9320 - val_loss: 0.5563 - val_accuracy: 0.9286\n",
            "Epoch 11/50\n",
            "22/22 [==============================] - 2s 69ms/step - loss: 0.2030 - accuracy: 0.9482 - val_loss: 0.5282 - val_accuracy: 0.9345\n",
            "Epoch 12/50\n",
            "22/22 [==============================] - 1s 68ms/step - loss: 0.1855 - accuracy: 0.9601 - val_loss: 0.4990 - val_accuracy: 0.9286\n",
            "Epoch 13/50\n",
            "22/22 [==============================] - 1s 67ms/step - loss: 0.1733 - accuracy: 0.9675 - val_loss: 0.4673 - val_accuracy: 0.9345\n",
            "Epoch 14/50\n",
            "22/22 [==============================] - 1s 67ms/step - loss: 0.1545 - accuracy: 0.9615 - val_loss: 0.4326 - val_accuracy: 0.9345\n",
            "Epoch 15/50\n",
            "22/22 [==============================] - 1s 63ms/step - loss: 0.1319 - accuracy: 0.9822 - val_loss: 0.3991 - val_accuracy: 0.9345\n",
            "Epoch 16/50\n",
            "22/22 [==============================] - 1s 66ms/step - loss: 0.1197 - accuracy: 0.9763 - val_loss: 0.3677 - val_accuracy: 0.9286\n",
            "Epoch 17/50\n",
            "22/22 [==============================] - 1s 66ms/step - loss: 0.1044 - accuracy: 0.9734 - val_loss: 0.3411 - val_accuracy: 0.9345\n",
            "Epoch 18/50\n",
            "22/22 [==============================] - 2s 70ms/step - loss: 0.1057 - accuracy: 0.9778 - val_loss: 0.3044 - val_accuracy: 0.9345\n",
            "Epoch 19/50\n",
            "22/22 [==============================] - 2s 70ms/step - loss: 0.0832 - accuracy: 0.9852 - val_loss: 0.2722 - val_accuracy: 0.9405\n",
            "Epoch 20/50\n",
            "22/22 [==============================] - 1s 67ms/step - loss: 0.0860 - accuracy: 0.9867 - val_loss: 0.2436 - val_accuracy: 0.9524\n",
            "Epoch 21/50\n",
            "22/22 [==============================] - 1s 66ms/step - loss: 0.0745 - accuracy: 0.9852 - val_loss: 0.2154 - val_accuracy: 0.9524\n",
            "Epoch 22/50\n",
            "22/22 [==============================] - 2s 70ms/step - loss: 0.0719 - accuracy: 0.9896 - val_loss: 0.1956 - val_accuracy: 0.9643\n",
            "Epoch 23/50\n",
            "22/22 [==============================] - 1s 67ms/step - loss: 0.0706 - accuracy: 0.9926 - val_loss: 0.1813 - val_accuracy: 0.9583\n",
            "Epoch 24/50\n",
            "22/22 [==============================] - 2s 70ms/step - loss: 0.0671 - accuracy: 0.9911 - val_loss: 0.1717 - val_accuracy: 0.9643\n",
            "Epoch 25/50\n",
            "22/22 [==============================] - 2s 70ms/step - loss: 0.0532 - accuracy: 0.9911 - val_loss: 0.1622 - val_accuracy: 0.9643\n",
            "Epoch 26/50\n",
            "22/22 [==============================] - 1s 66ms/step - loss: 0.0545 - accuracy: 0.9882 - val_loss: 0.1522 - val_accuracy: 0.9702\n",
            "Epoch 27/50\n",
            "22/22 [==============================] - 1s 65ms/step - loss: 0.0516 - accuracy: 0.9941 - val_loss: 0.1412 - val_accuracy: 0.9702\n",
            "Epoch 28/50\n",
            "22/22 [==============================] - 2s 70ms/step - loss: 0.0363 - accuracy: 0.9956 - val_loss: 0.1346 - val_accuracy: 0.9702\n",
            "Epoch 29/50\n",
            "22/22 [==============================] - 1s 66ms/step - loss: 0.0415 - accuracy: 0.9941 - val_loss: 0.1280 - val_accuracy: 0.9702\n",
            "Epoch 30/50\n",
            "22/22 [==============================] - 1s 67ms/step - loss: 0.0439 - accuracy: 0.9941 - val_loss: 0.1248 - val_accuracy: 0.9702\n",
            "Epoch 31/50\n",
            "22/22 [==============================] - 2s 70ms/step - loss: 0.0362 - accuracy: 0.9956 - val_loss: 0.1222 - val_accuracy: 0.9702\n",
            "Epoch 32/50\n",
            "22/22 [==============================] - 1s 67ms/step - loss: 0.0431 - accuracy: 0.9911 - val_loss: 0.1201 - val_accuracy: 0.9702\n",
            "Epoch 33/50\n",
            "22/22 [==============================] - 1s 66ms/step - loss: 0.0357 - accuracy: 0.9956 - val_loss: 0.1206 - val_accuracy: 0.9643\n",
            "Epoch 34/50\n",
            "22/22 [==============================] - 1s 65ms/step - loss: 0.0325 - accuracy: 0.9985 - val_loss: 0.1211 - val_accuracy: 0.9643\n",
            "Epoch 35/50\n",
            "22/22 [==============================] - 1s 65ms/step - loss: 0.0336 - accuracy: 0.9911 - val_loss: 0.1203 - val_accuracy: 0.9643\n",
            "Epoch 36/50\n",
            "22/22 [==============================] - 1s 66ms/step - loss: 0.0343 - accuracy: 0.9956 - val_loss: 0.1193 - val_accuracy: 0.9643\n",
            "Epoch 37/50\n",
            "22/22 [==============================] - 2s 69ms/step - loss: 0.0299 - accuracy: 0.9970 - val_loss: 0.1190 - val_accuracy: 0.9643\n",
            "Epoch 38/50\n",
            "22/22 [==============================] - 1s 65ms/step - loss: 0.0252 - accuracy: 0.9956 - val_loss: 0.1194 - val_accuracy: 0.9643\n",
            "Epoch 39/50\n",
            "22/22 [==============================] - 1s 67ms/step - loss: 0.0251 - accuracy: 0.9985 - val_loss: 0.1206 - val_accuracy: 0.9643\n",
            "Epoch 40/50\n",
            "22/22 [==============================] - 1s 65ms/step - loss: 0.0253 - accuracy: 0.9941 - val_loss: 0.1228 - val_accuracy: 0.9643\n",
            "Epoch 41/50\n",
            "22/22 [==============================] - 2s 69ms/step - loss: 0.0261 - accuracy: 0.9956 - val_loss: 0.1232 - val_accuracy: 0.9643\n",
            "Epoch 42/50\n",
            "22/22 [==============================] - 1s 65ms/step - loss: 0.0345 - accuracy: 0.9911 - val_loss: 0.1259 - val_accuracy: 0.9702\n",
            "Epoch 43/50\n",
            "22/22 [==============================] - 1s 67ms/step - loss: 0.0333 - accuracy: 0.9896 - val_loss: 0.1261 - val_accuracy: 0.9702\n",
            "Epoch 44/50\n",
            "22/22 [==============================] - 1s 65ms/step - loss: 0.0219 - accuracy: 0.9956 - val_loss: 0.1289 - val_accuracy: 0.9702\n",
            "Epoch 45/50\n",
            "22/22 [==============================] - 2s 70ms/step - loss: 0.0284 - accuracy: 0.9941 - val_loss: 0.1298 - val_accuracy: 0.9702\n",
            "Epoch 46/50\n",
            "22/22 [==============================] - 1s 65ms/step - loss: 0.0260 - accuracy: 0.9926 - val_loss: 0.1311 - val_accuracy: 0.9702\n",
            "Epoch 47/50\n",
            "22/22 [==============================] - 1s 66ms/step - loss: 0.0300 - accuracy: 0.9896 - val_loss: 0.1379 - val_accuracy: 0.9702\n"
          ],
          "name": "stdout"
        },
        {
          "output_type": "display_data",
          "data": {
            "text/html": [
              "<span style=\"color:#4527A0\"><h1 style=\"font-size:18px\">Trial complete</h1></span>"
            ],
            "text/plain": [
              "<IPython.core.display.HTML object>"
            ]
          },
          "metadata": {
            "tags": []
          }
        },
        {
          "output_type": "display_data",
          "data": {
            "text/html": [
              "<span style=\"color:#4527A0\"><h1 style=\"font-size:18px\">Trial summary</h1></span>"
            ],
            "text/plain": [
              "<IPython.core.display.HTML object>"
            ]
          },
          "metadata": {
            "tags": []
          }
        },
        {
          "output_type": "display_data",
          "data": {
            "text/html": [
              "<span style=\"color:#7E57C2\"><h2 style=\"font-size:16px\">Hp values:</h2></span>"
            ],
            "text/plain": [
              "<IPython.core.display.HTML object>"
            ]
          },
          "metadata": {
            "tags": []
          }
        },
        {
          "output_type": "display_data",
          "data": {
            "text/html": [
              "<span style=\"color:cyan\"> |-dense_block_1/dropout_rate: 0.5</span>"
            ],
            "text/plain": [
              "<IPython.core.display.HTML object>"
            ]
          },
          "metadata": {
            "tags": []
          }
        },
        {
          "output_type": "display_data",
          "data": {
            "text/html": [
              "<span style=\"color:blue\"> |-dense_block_1/num_layers: 3</span>"
            ],
            "text/plain": [
              "<IPython.core.display.HTML object>"
            ]
          },
          "metadata": {
            "tags": []
          }
        },
        {
          "output_type": "display_data",
          "data": {
            "text/html": [
              "<span style=\"color:cyan\"> |-dense_block_1/units_0: 512</span>"
            ],
            "text/plain": [
              "<IPython.core.display.HTML object>"
            ]
          },
          "metadata": {
            "tags": []
          }
        },
        {
          "output_type": "display_data",
          "data": {
            "text/html": [
              "<span style=\"color:blue\"> |-dense_block_1/units_1: 16</span>"
            ],
            "text/plain": [
              "<IPython.core.display.HTML object>"
            ]
          },
          "metadata": {
            "tags": []
          }
        },
        {
          "output_type": "display_data",
          "data": {
            "text/html": [
              "<span style=\"color:cyan\"> |-dense_block_1/units_2: 32</span>"
            ],
            "text/plain": [
              "<IPython.core.display.HTML object>"
            ]
          },
          "metadata": {
            "tags": []
          }
        },
        {
          "output_type": "display_data",
          "data": {
            "text/html": [
              "<span style=\"color:blue\"> |-dense_block_1/use_batchnorm: True</span>"
            ],
            "text/plain": [
              "<IPython.core.display.HTML object>"
            ]
          },
          "metadata": {
            "tags": []
          }
        },
        {
          "output_type": "display_data",
          "data": {
            "text/html": [
              "<span style=\"color:cyan\"> |-optimizer: adam</span>"
            ],
            "text/plain": [
              "<IPython.core.display.HTML object>"
            ]
          },
          "metadata": {
            "tags": []
          }
        },
        {
          "output_type": "display_data",
          "data": {
            "text/html": [
              "<span style=\"color:cyan\"> |-Score: 0.11904587286214034</span>"
            ],
            "text/plain": [
              "<IPython.core.display.HTML object>"
            ]
          },
          "metadata": {
            "tags": []
          }
        },
        {
          "output_type": "display_data",
          "data": {
            "text/html": [
              "<span style=\"color:cyan\"> |-Best step: 0</span>"
            ],
            "text/plain": [
              "<IPython.core.display.HTML object>"
            ]
          },
          "metadata": {
            "tags": []
          }
        },
        {
          "output_type": "stream",
          "text": [
            "Epoch 1/50\n",
            "22/22 [==============================] - 2s 98ms/step - loss: 0.6608 - accuracy: 0.6139 - val_loss: 0.0000e+00 - val_accuracy: 0.0000e+00\n",
            "Epoch 2/50\n",
            "22/22 [==============================] - 1s 58ms/step - loss: 0.2953 - accuracy: 0.9186 - val_loss: 0.6435 - val_accuracy: 0.8333\n",
            "Epoch 3/50\n",
            "22/22 [==============================] - 1s 58ms/step - loss: 0.1860 - accuracy: 0.9645 - val_loss: 0.6193 - val_accuracy: 0.8631\n",
            "Epoch 4/50\n",
            "22/22 [==============================] - 1s 58ms/step - loss: 0.1285 - accuracy: 0.9837 - val_loss: 0.5955 - val_accuracy: 0.8810\n",
            "Epoch 5/50\n",
            "22/22 [==============================] - 1s 56ms/step - loss: 0.0889 - accuracy: 0.9941 - val_loss: 0.5716 - val_accuracy: 0.8929\n",
            "Epoch 6/50\n",
            "22/22 [==============================] - 1s 53ms/step - loss: 0.0648 - accuracy: 0.9985 - val_loss: 0.5469 - val_accuracy: 0.8988\n",
            "Epoch 7/50\n",
            "22/22 [==============================] - 1s 56ms/step - loss: 0.0477 - accuracy: 1.0000 - val_loss: 0.5221 - val_accuracy: 0.9107\n",
            "Epoch 8/50\n",
            "22/22 [==============================] - 1s 56ms/step - loss: 0.0439 - accuracy: 0.9970 - val_loss: 0.4967 - val_accuracy: 0.9107\n",
            "Epoch 9/50\n",
            "22/22 [==============================] - 1s 57ms/step - loss: 0.0338 - accuracy: 1.0000 - val_loss: 0.4694 - val_accuracy: 0.9226\n",
            "Epoch 10/50\n",
            "22/22 [==============================] - 1s 56ms/step - loss: 0.0246 - accuracy: 1.0000 - val_loss: 0.4423 - val_accuracy: 0.9226\n",
            "Epoch 11/50\n",
            "22/22 [==============================] - 1s 57ms/step - loss: 0.0231 - accuracy: 1.0000 - val_loss: 0.4145 - val_accuracy: 0.9226\n",
            "Epoch 12/50\n",
            "22/22 [==============================] - 1s 59ms/step - loss: 0.0191 - accuracy: 1.0000 - val_loss: 0.3862 - val_accuracy: 0.9286\n",
            "Epoch 13/50\n",
            "22/22 [==============================] - 1s 59ms/step - loss: 0.0205 - accuracy: 0.9985 - val_loss: 0.3588 - val_accuracy: 0.9345\n",
            "Epoch 14/50\n",
            "22/22 [==============================] - 1s 55ms/step - loss: 0.0161 - accuracy: 1.0000 - val_loss: 0.3314 - val_accuracy: 0.9345\n",
            "Epoch 15/50\n",
            "22/22 [==============================] - 1s 54ms/step - loss: 0.0149 - accuracy: 1.0000 - val_loss: 0.3048 - val_accuracy: 0.9345\n",
            "Epoch 16/50\n",
            "22/22 [==============================] - 1s 56ms/step - loss: 0.0121 - accuracy: 1.0000 - val_loss: 0.2795 - val_accuracy: 0.9464\n",
            "Epoch 17/50\n",
            "22/22 [==============================] - 1s 55ms/step - loss: 0.0114 - accuracy: 1.0000 - val_loss: 0.2565 - val_accuracy: 0.9464\n",
            "Epoch 18/50\n",
            "22/22 [==============================] - 1s 56ms/step - loss: 0.0101 - accuracy: 1.0000 - val_loss: 0.2360 - val_accuracy: 0.9524\n",
            "Epoch 19/50\n",
            "22/22 [==============================] - 1s 54ms/step - loss: 0.0084 - accuracy: 1.0000 - val_loss: 0.2167 - val_accuracy: 0.9524\n",
            "Epoch 20/50\n",
            "22/22 [==============================] - 1s 55ms/step - loss: 0.0090 - accuracy: 1.0000 - val_loss: 0.1996 - val_accuracy: 0.9524\n",
            "Epoch 21/50\n",
            "22/22 [==============================] - 1s 57ms/step - loss: 0.0061 - accuracy: 1.0000 - val_loss: 0.1858 - val_accuracy: 0.9524\n",
            "Epoch 22/50\n",
            "22/22 [==============================] - 1s 59ms/step - loss: 0.0068 - accuracy: 1.0000 - val_loss: 0.1746 - val_accuracy: 0.9583\n",
            "Epoch 23/50\n",
            "22/22 [==============================] - 1s 56ms/step - loss: 0.0063 - accuracy: 1.0000 - val_loss: 0.1660 - val_accuracy: 0.9583\n",
            "Epoch 24/50\n",
            "22/22 [==============================] - 1s 59ms/step - loss: 0.0063 - accuracy: 1.0000 - val_loss: 0.1587 - val_accuracy: 0.9643\n",
            "Epoch 25/50\n",
            "22/22 [==============================] - 1s 55ms/step - loss: 0.0049 - accuracy: 1.0000 - val_loss: 0.1537 - val_accuracy: 0.9643\n",
            "Epoch 26/50\n",
            "22/22 [==============================] - 1s 57ms/step - loss: 0.0057 - accuracy: 1.0000 - val_loss: 0.1509 - val_accuracy: 0.9643\n",
            "Epoch 27/50\n",
            "22/22 [==============================] - 1s 60ms/step - loss: 0.0045 - accuracy: 1.0000 - val_loss: 0.1490 - val_accuracy: 0.9643\n",
            "Epoch 28/50\n",
            "22/22 [==============================] - 1s 57ms/step - loss: 0.0049 - accuracy: 1.0000 - val_loss: 0.1478 - val_accuracy: 0.9643\n",
            "Epoch 29/50\n",
            "22/22 [==============================] - 1s 56ms/step - loss: 0.0035 - accuracy: 1.0000 - val_loss: 0.1467 - val_accuracy: 0.9643\n",
            "Epoch 30/50\n",
            "22/22 [==============================] - 1s 57ms/step - loss: 0.0036 - accuracy: 1.0000 - val_loss: 0.1466 - val_accuracy: 0.9643\n",
            "Epoch 31/50\n",
            "22/22 [==============================] - 1s 56ms/step - loss: 0.0048 - accuracy: 1.0000 - val_loss: 0.1473 - val_accuracy: 0.9643\n",
            "Epoch 32/50\n",
            "22/22 [==============================] - 1s 57ms/step - loss: 0.0033 - accuracy: 1.0000 - val_loss: 0.1476 - val_accuracy: 0.9643\n",
            "Epoch 33/50\n",
            "22/22 [==============================] - 1s 53ms/step - loss: 0.0040 - accuracy: 1.0000 - val_loss: 0.1478 - val_accuracy: 0.9643\n",
            "Epoch 34/50\n",
            "22/22 [==============================] - 1s 56ms/step - loss: 0.0039 - accuracy: 1.0000 - val_loss: 0.1489 - val_accuracy: 0.9643\n",
            "Epoch 35/50\n",
            "22/22 [==============================] - 1s 57ms/step - loss: 0.0034 - accuracy: 1.0000 - val_loss: 0.1499 - val_accuracy: 0.9643\n",
            "Epoch 36/50\n",
            "22/22 [==============================] - 1s 55ms/step - loss: 0.0030 - accuracy: 1.0000 - val_loss: 0.1513 - val_accuracy: 0.9643\n",
            "Epoch 37/50\n",
            "22/22 [==============================] - 1s 54ms/step - loss: 0.0027 - accuracy: 1.0000 - val_loss: 0.1518 - val_accuracy: 0.9643\n",
            "Epoch 38/50\n",
            "22/22 [==============================] - 1s 57ms/step - loss: 0.0028 - accuracy: 1.0000 - val_loss: 0.1522 - val_accuracy: 0.9643\n",
            "Epoch 39/50\n",
            "22/22 [==============================] - 1s 60ms/step - loss: 0.0029 - accuracy: 1.0000 - val_loss: 0.1517 - val_accuracy: 0.9643\n",
            "Epoch 40/50\n",
            "22/22 [==============================] - 1s 56ms/step - loss: 0.0032 - accuracy: 1.0000 - val_loss: 0.1518 - val_accuracy: 0.9643\n"
          ],
          "name": "stdout"
        },
        {
          "output_type": "display_data",
          "data": {
            "text/html": [
              "<span style=\"color:#4527A0\"><h1 style=\"font-size:18px\">Trial complete</h1></span>"
            ],
            "text/plain": [
              "<IPython.core.display.HTML object>"
            ]
          },
          "metadata": {
            "tags": []
          }
        },
        {
          "output_type": "display_data",
          "data": {
            "text/html": [
              "<span style=\"color:#4527A0\"><h1 style=\"font-size:18px\">Trial summary</h1></span>"
            ],
            "text/plain": [
              "<IPython.core.display.HTML object>"
            ]
          },
          "metadata": {
            "tags": []
          }
        },
        {
          "output_type": "display_data",
          "data": {
            "text/html": [
              "<span style=\"color:#7E57C2\"><h2 style=\"font-size:16px\">Hp values:</h2></span>"
            ],
            "text/plain": [
              "<IPython.core.display.HTML object>"
            ]
          },
          "metadata": {
            "tags": []
          }
        },
        {
          "output_type": "display_data",
          "data": {
            "text/html": [
              "<span style=\"color:cyan\"> |-dense_block_1/dropout_rate: 0.5</span>"
            ],
            "text/plain": [
              "<IPython.core.display.HTML object>"
            ]
          },
          "metadata": {
            "tags": []
          }
        },
        {
          "output_type": "display_data",
          "data": {
            "text/html": [
              "<span style=\"color:blue\"> |-dense_block_1/num_layers: 1</span>"
            ],
            "text/plain": [
              "<IPython.core.display.HTML object>"
            ]
          },
          "metadata": {
            "tags": []
          }
        },
        {
          "output_type": "display_data",
          "data": {
            "text/html": [
              "<span style=\"color:cyan\"> |-dense_block_1/units_0: 64</span>"
            ],
            "text/plain": [
              "<IPython.core.display.HTML object>"
            ]
          },
          "metadata": {
            "tags": []
          }
        },
        {
          "output_type": "display_data",
          "data": {
            "text/html": [
              "<span style=\"color:blue\"> |-dense_block_1/units_1: 64</span>"
            ],
            "text/plain": [
              "<IPython.core.display.HTML object>"
            ]
          },
          "metadata": {
            "tags": []
          }
        },
        {
          "output_type": "display_data",
          "data": {
            "text/html": [
              "<span style=\"color:cyan\"> |-dense_block_1/units_2: 1024</span>"
            ],
            "text/plain": [
              "<IPython.core.display.HTML object>"
            ]
          },
          "metadata": {
            "tags": []
          }
        },
        {
          "output_type": "display_data",
          "data": {
            "text/html": [
              "<span style=\"color:blue\"> |-dense_block_1/use_batchnorm: True</span>"
            ],
            "text/plain": [
              "<IPython.core.display.HTML object>"
            ]
          },
          "metadata": {
            "tags": []
          }
        },
        {
          "output_type": "display_data",
          "data": {
            "text/html": [
              "<span style=\"color:cyan\"> |-optimizer: adam</span>"
            ],
            "text/plain": [
              "<IPython.core.display.HTML object>"
            ]
          },
          "metadata": {
            "tags": []
          }
        },
        {
          "output_type": "display_data",
          "data": {
            "text/html": [
              "<span style=\"color:cyan\"> |-Score: 0.14663500525057316</span>"
            ],
            "text/plain": [
              "<IPython.core.display.HTML object>"
            ]
          },
          "metadata": {
            "tags": []
          }
        },
        {
          "output_type": "display_data",
          "data": {
            "text/html": [
              "<span style=\"color:cyan\"> |-Best step: 0</span>"
            ],
            "text/plain": [
              "<IPython.core.display.HTML object>"
            ]
          },
          "metadata": {
            "tags": []
          }
        },
        {
          "output_type": "stream",
          "text": [
            "Epoch 1/50\n",
            "22/22 [==============================] - 2s 100ms/step - loss: 0.6072 - accuracy: 0.6198 - val_loss: 0.0000e+00 - val_accuracy: 0.0000e+00\n",
            "Epoch 2/50\n",
            "22/22 [==============================] - 2s 76ms/step - loss: 0.3573 - accuracy: 0.9112 - val_loss: 0.2763 - val_accuracy: 0.9405\n",
            "Epoch 3/50\n",
            "22/22 [==============================] - 2s 77ms/step - loss: 0.1409 - accuracy: 0.9896 - val_loss: 0.1687 - val_accuracy: 0.9464\n",
            "Epoch 4/50\n",
            "22/22 [==============================] - 2s 73ms/step - loss: 0.0568 - accuracy: 0.9941 - val_loss: 0.1442 - val_accuracy: 0.9524\n",
            "Epoch 5/50\n",
            "22/22 [==============================] - 2s 73ms/step - loss: 0.0277 - accuracy: 0.9985 - val_loss: 0.1417 - val_accuracy: 0.9524\n",
            "Epoch 6/50\n",
            "22/22 [==============================] - 2s 76ms/step - loss: 0.0163 - accuracy: 0.9985 - val_loss: 0.1420 - val_accuracy: 0.9524\n",
            "Epoch 7/50\n",
            "22/22 [==============================] - 2s 76ms/step - loss: 0.0108 - accuracy: 1.0000 - val_loss: 0.1441 - val_accuracy: 0.9524\n",
            "Epoch 8/50\n",
            "22/22 [==============================] - 2s 73ms/step - loss: 0.0077 - accuracy: 1.0000 - val_loss: 0.1465 - val_accuracy: 0.9524\n",
            "Epoch 9/50\n",
            "22/22 [==============================] - 2s 75ms/step - loss: 0.0058 - accuracy: 1.0000 - val_loss: 0.1490 - val_accuracy: 0.9524\n",
            "Epoch 10/50\n",
            "22/22 [==============================] - 2s 74ms/step - loss: 0.0046 - accuracy: 1.0000 - val_loss: 0.1515 - val_accuracy: 0.9524\n",
            "Epoch 11/50\n",
            "22/22 [==============================] - 2s 72ms/step - loss: 0.0037 - accuracy: 1.0000 - val_loss: 0.1538 - val_accuracy: 0.9524\n",
            "Epoch 12/50\n",
            "22/22 [==============================] - 2s 74ms/step - loss: 0.0031 - accuracy: 1.0000 - val_loss: 0.1561 - val_accuracy: 0.9524\n",
            "Epoch 13/50\n",
            "22/22 [==============================] - 2s 72ms/step - loss: 0.0026 - accuracy: 1.0000 - val_loss: 0.1583 - val_accuracy: 0.9524\n",
            "Epoch 14/50\n",
            "22/22 [==============================] - 2s 72ms/step - loss: 0.0022 - accuracy: 1.0000 - val_loss: 0.1603 - val_accuracy: 0.9524\n",
            "Epoch 15/50\n",
            "22/22 [==============================] - 2s 74ms/step - loss: 0.0019 - accuracy: 1.0000 - val_loss: 0.1623 - val_accuracy: 0.9524\n"
          ],
          "name": "stdout"
        },
        {
          "output_type": "display_data",
          "data": {
            "text/html": [
              "<span style=\"color:#4527A0\"><h1 style=\"font-size:18px\">Trial complete</h1></span>"
            ],
            "text/plain": [
              "<IPython.core.display.HTML object>"
            ]
          },
          "metadata": {
            "tags": []
          }
        },
        {
          "output_type": "display_data",
          "data": {
            "text/html": [
              "<span style=\"color:#4527A0\"><h1 style=\"font-size:18px\">Trial summary</h1></span>"
            ],
            "text/plain": [
              "<IPython.core.display.HTML object>"
            ]
          },
          "metadata": {
            "tags": []
          }
        },
        {
          "output_type": "display_data",
          "data": {
            "text/html": [
              "<span style=\"color:#7E57C2\"><h2 style=\"font-size:16px\">Hp values:</h2></span>"
            ],
            "text/plain": [
              "<IPython.core.display.HTML object>"
            ]
          },
          "metadata": {
            "tags": []
          }
        },
        {
          "output_type": "display_data",
          "data": {
            "text/html": [
              "<span style=\"color:cyan\"> |-dense_block_1/dropout_rate: 0.0</span>"
            ],
            "text/plain": [
              "<IPython.core.display.HTML object>"
            ]
          },
          "metadata": {
            "tags": []
          }
        },
        {
          "output_type": "display_data",
          "data": {
            "text/html": [
              "<span style=\"color:blue\"> |-dense_block_1/num_layers: 1</span>"
            ],
            "text/plain": [
              "<IPython.core.display.HTML object>"
            ]
          },
          "metadata": {
            "tags": []
          }
        },
        {
          "output_type": "display_data",
          "data": {
            "text/html": [
              "<span style=\"color:cyan\"> |-dense_block_1/units_0: 1024</span>"
            ],
            "text/plain": [
              "<IPython.core.display.HTML object>"
            ]
          },
          "metadata": {
            "tags": []
          }
        },
        {
          "output_type": "display_data",
          "data": {
            "text/html": [
              "<span style=\"color:blue\"> |-dense_block_1/units_1: 1024</span>"
            ],
            "text/plain": [
              "<IPython.core.display.HTML object>"
            ]
          },
          "metadata": {
            "tags": []
          }
        },
        {
          "output_type": "display_data",
          "data": {
            "text/html": [
              "<span style=\"color:cyan\"> |-dense_block_1/units_2: 128</span>"
            ],
            "text/plain": [
              "<IPython.core.display.HTML object>"
            ]
          },
          "metadata": {
            "tags": []
          }
        },
        {
          "output_type": "display_data",
          "data": {
            "text/html": [
              "<span style=\"color:blue\"> |-dense_block_1/use_batchnorm: False</span>"
            ],
            "text/plain": [
              "<IPython.core.display.HTML object>"
            ]
          },
          "metadata": {
            "tags": []
          }
        },
        {
          "output_type": "display_data",
          "data": {
            "text/html": [
              "<span style=\"color:cyan\"> |-optimizer: adam</span>"
            ],
            "text/plain": [
              "<IPython.core.display.HTML object>"
            ]
          },
          "metadata": {
            "tags": []
          }
        },
        {
          "output_type": "display_data",
          "data": {
            "text/html": [
              "<span style=\"color:cyan\"> |-Score: 0.14173827040940523</span>"
            ],
            "text/plain": [
              "<IPython.core.display.HTML object>"
            ]
          },
          "metadata": {
            "tags": []
          }
        },
        {
          "output_type": "display_data",
          "data": {
            "text/html": [
              "<span style=\"color:cyan\"> |-Best step: 0</span>"
            ],
            "text/plain": [
              "<IPython.core.display.HTML object>"
            ]
          },
          "metadata": {
            "tags": []
          }
        },
        {
          "output_type": "stream",
          "text": [
            "Epoch 1/50\n",
            "22/22 [==============================] - 3s 115ms/step - loss: 0.4424 - accuracy: 0.7825 - val_loss: 0.0000e+00 - val_accuracy: 0.0000e+00\n",
            "Epoch 2/50\n",
            "22/22 [==============================] - 2s 77ms/step - loss: 0.0312 - accuracy: 0.9956 - val_loss: 0.5800 - val_accuracy: 0.8571\n",
            "Epoch 3/50\n",
            "22/22 [==============================] - 2s 77ms/step - loss: 0.0104 - accuracy: 1.0000 - val_loss: 0.5620 - val_accuracy: 0.8631\n",
            "Epoch 4/50\n",
            "22/22 [==============================] - 2s 75ms/step - loss: 0.0049 - accuracy: 1.0000 - val_loss: 0.5445 - val_accuracy: 0.8750\n",
            "Epoch 5/50\n",
            "22/22 [==============================] - 2s 87ms/step - loss: 0.0037 - accuracy: 1.0000 - val_loss: 0.5261 - val_accuracy: 0.8869\n",
            "Epoch 6/50\n",
            "22/22 [==============================] - 2s 76ms/step - loss: 0.0026 - accuracy: 1.0000 - val_loss: 0.5070 - val_accuracy: 0.8869\n",
            "Epoch 7/50\n",
            "22/22 [==============================] - 2s 79ms/step - loss: 0.0020 - accuracy: 1.0000 - val_loss: 0.4867 - val_accuracy: 0.8929\n",
            "Epoch 8/50\n",
            "22/22 [==============================] - 2s 76ms/step - loss: 0.0017 - accuracy: 1.0000 - val_loss: 0.4653 - val_accuracy: 0.8988\n",
            "Epoch 9/50\n",
            "22/22 [==============================] - 2s 75ms/step - loss: 0.0014 - accuracy: 1.0000 - val_loss: 0.4428 - val_accuracy: 0.9048\n",
            "Epoch 10/50\n",
            "22/22 [==============================] - 2s 76ms/step - loss: 0.0012 - accuracy: 1.0000 - val_loss: 0.4195 - val_accuracy: 0.9107\n",
            "Epoch 11/50\n",
            "22/22 [==============================] - 2s 79ms/step - loss: 9.9997e-04 - accuracy: 1.0000 - val_loss: 0.3957 - val_accuracy: 0.9107\n",
            "Epoch 12/50\n",
            "22/22 [==============================] - 2s 78ms/step - loss: 7.8837e-04 - accuracy: 1.0000 - val_loss: 0.3716 - val_accuracy: 0.9107\n",
            "Epoch 13/50\n",
            "22/22 [==============================] - 2s 76ms/step - loss: 7.9986e-04 - accuracy: 1.0000 - val_loss: 0.3472 - val_accuracy: 0.9107\n",
            "Epoch 14/50\n",
            "22/22 [==============================] - 2s 76ms/step - loss: 6.5109e-04 - accuracy: 1.0000 - val_loss: 0.3231 - val_accuracy: 0.9107\n",
            "Epoch 15/50\n",
            "22/22 [==============================] - 2s 77ms/step - loss: 6.0667e-04 - accuracy: 1.0000 - val_loss: 0.2996 - val_accuracy: 0.9167\n",
            "Epoch 16/50\n",
            "22/22 [==============================] - 2s 75ms/step - loss: 5.6491e-04 - accuracy: 1.0000 - val_loss: 0.2769 - val_accuracy: 0.9167\n",
            "Epoch 17/50\n",
            "22/22 [==============================] - 2s 76ms/step - loss: 4.8885e-04 - accuracy: 1.0000 - val_loss: 0.2558 - val_accuracy: 0.9167\n",
            "Epoch 18/50\n",
            "22/22 [==============================] - 2s 76ms/step - loss: 4.7227e-04 - accuracy: 1.0000 - val_loss: 0.2365 - val_accuracy: 0.9226\n",
            "Epoch 19/50\n",
            "22/22 [==============================] - 2s 77ms/step - loss: 4.1584e-04 - accuracy: 1.0000 - val_loss: 0.2193 - val_accuracy: 0.9226\n",
            "Epoch 20/50\n",
            "22/22 [==============================] - 2s 77ms/step - loss: 3.6810e-04 - accuracy: 1.0000 - val_loss: 0.2042 - val_accuracy: 0.9226\n",
            "Epoch 21/50\n",
            "22/22 [==============================] - 2s 76ms/step - loss: 3.5055e-04 - accuracy: 1.0000 - val_loss: 0.1914 - val_accuracy: 0.9226\n",
            "Epoch 22/50\n",
            "22/22 [==============================] - 2s 76ms/step - loss: 3.4321e-04 - accuracy: 1.0000 - val_loss: 0.1808 - val_accuracy: 0.9345\n",
            "Epoch 23/50\n",
            "22/22 [==============================] - 2s 79ms/step - loss: 3.1526e-04 - accuracy: 1.0000 - val_loss: 0.1725 - val_accuracy: 0.9345\n",
            "Epoch 24/50\n",
            "22/22 [==============================] - 2s 75ms/step - loss: 2.9715e-04 - accuracy: 1.0000 - val_loss: 0.1666 - val_accuracy: 0.9405\n",
            "Epoch 25/50\n",
            "22/22 [==============================] - 2s 75ms/step - loss: 2.6655e-04 - accuracy: 1.0000 - val_loss: 0.1624 - val_accuracy: 0.9405\n",
            "Epoch 26/50\n",
            "22/22 [==============================] - 2s 84ms/step - loss: 2.6811e-04 - accuracy: 1.0000 - val_loss: 0.1596 - val_accuracy: 0.9405\n",
            "Epoch 27/50\n",
            "22/22 [==============================] - 2s 78ms/step - loss: 2.4621e-04 - accuracy: 1.0000 - val_loss: 0.1581 - val_accuracy: 0.9405\n",
            "Epoch 28/50\n",
            "22/22 [==============================] - 2s 75ms/step - loss: 2.7395e-04 - accuracy: 1.0000 - val_loss: 0.1579 - val_accuracy: 0.9405\n",
            "Epoch 29/50\n",
            "22/22 [==============================] - 2s 75ms/step - loss: 1.9411e-04 - accuracy: 1.0000 - val_loss: 0.1580 - val_accuracy: 0.9405\n",
            "Epoch 30/50\n",
            "22/22 [==============================] - 2s 74ms/step - loss: 2.0423e-04 - accuracy: 1.0000 - val_loss: 0.1588 - val_accuracy: 0.9405\n",
            "Epoch 31/50\n",
            "22/22 [==============================] - 2s 74ms/step - loss: 1.8316e-04 - accuracy: 1.0000 - val_loss: 0.1599 - val_accuracy: 0.9405\n",
            "Epoch 32/50\n",
            "22/22 [==============================] - 2s 76ms/step - loss: 1.7995e-04 - accuracy: 1.0000 - val_loss: 0.1611 - val_accuracy: 0.9405\n",
            "Epoch 33/50\n",
            "22/22 [==============================] - 2s 73ms/step - loss: 1.6741e-04 - accuracy: 1.0000 - val_loss: 0.1627 - val_accuracy: 0.9405\n",
            "Epoch 34/50\n",
            "22/22 [==============================] - 2s 74ms/step - loss: 1.6615e-04 - accuracy: 1.0000 - val_loss: 0.1643 - val_accuracy: 0.9405\n",
            "Epoch 35/50\n",
            "22/22 [==============================] - 2s 76ms/step - loss: 1.6131e-04 - accuracy: 1.0000 - val_loss: 0.1657 - val_accuracy: 0.9405\n",
            "Epoch 36/50\n",
            "22/22 [==============================] - 2s 73ms/step - loss: 1.5670e-04 - accuracy: 1.0000 - val_loss: 0.1669 - val_accuracy: 0.9405\n",
            "Epoch 37/50\n",
            "22/22 [==============================] - 2s 73ms/step - loss: 1.3104e-04 - accuracy: 1.0000 - val_loss: 0.1680 - val_accuracy: 0.9405\n",
            "Epoch 38/50\n",
            "22/22 [==============================] - 2s 73ms/step - loss: 1.2530e-04 - accuracy: 1.0000 - val_loss: 0.1690 - val_accuracy: 0.9405\n"
          ],
          "name": "stdout"
        },
        {
          "output_type": "display_data",
          "data": {
            "text/html": [
              "<span style=\"color:#4527A0\"><h1 style=\"font-size:18px\">Trial complete</h1></span>"
            ],
            "text/plain": [
              "<IPython.core.display.HTML object>"
            ]
          },
          "metadata": {
            "tags": []
          }
        },
        {
          "output_type": "display_data",
          "data": {
            "text/html": [
              "<span style=\"color:#4527A0\"><h1 style=\"font-size:18px\">Trial summary</h1></span>"
            ],
            "text/plain": [
              "<IPython.core.display.HTML object>"
            ]
          },
          "metadata": {
            "tags": []
          }
        },
        {
          "output_type": "display_data",
          "data": {
            "text/html": [
              "<span style=\"color:#7E57C2\"><h2 style=\"font-size:16px\">Hp values:</h2></span>"
            ],
            "text/plain": [
              "<IPython.core.display.HTML object>"
            ]
          },
          "metadata": {
            "tags": []
          }
        },
        {
          "output_type": "display_data",
          "data": {
            "text/html": [
              "<span style=\"color:cyan\"> |-dense_block_1/dropout_rate: 0.5</span>"
            ],
            "text/plain": [
              "<IPython.core.display.HTML object>"
            ]
          },
          "metadata": {
            "tags": []
          }
        },
        {
          "output_type": "display_data",
          "data": {
            "text/html": [
              "<span style=\"color:blue\"> |-dense_block_1/num_layers: 1</span>"
            ],
            "text/plain": [
              "<IPython.core.display.HTML object>"
            ]
          },
          "metadata": {
            "tags": []
          }
        },
        {
          "output_type": "display_data",
          "data": {
            "text/html": [
              "<span style=\"color:cyan\"> |-dense_block_1/units_0: 1024</span>"
            ],
            "text/plain": [
              "<IPython.core.display.HTML object>"
            ]
          },
          "metadata": {
            "tags": []
          }
        },
        {
          "output_type": "display_data",
          "data": {
            "text/html": [
              "<span style=\"color:blue\"> |-dense_block_1/units_1: 32</span>"
            ],
            "text/plain": [
              "<IPython.core.display.HTML object>"
            ]
          },
          "metadata": {
            "tags": []
          }
        },
        {
          "output_type": "display_data",
          "data": {
            "text/html": [
              "<span style=\"color:cyan\"> |-dense_block_1/units_2: 64</span>"
            ],
            "text/plain": [
              "<IPython.core.display.HTML object>"
            ]
          },
          "metadata": {
            "tags": []
          }
        },
        {
          "output_type": "display_data",
          "data": {
            "text/html": [
              "<span style=\"color:blue\"> |-dense_block_1/use_batchnorm: True</span>"
            ],
            "text/plain": [
              "<IPython.core.display.HTML object>"
            ]
          },
          "metadata": {
            "tags": []
          }
        },
        {
          "output_type": "display_data",
          "data": {
            "text/html": [
              "<span style=\"color:cyan\"> |-optimizer: adam</span>"
            ],
            "text/plain": [
              "<IPython.core.display.HTML object>"
            ]
          },
          "metadata": {
            "tags": []
          }
        },
        {
          "output_type": "display_data",
          "data": {
            "text/html": [
              "<span style=\"color:cyan\"> |-Score: 0.1578884640087684</span>"
            ],
            "text/plain": [
              "<IPython.core.display.HTML object>"
            ]
          },
          "metadata": {
            "tags": []
          }
        },
        {
          "output_type": "display_data",
          "data": {
            "text/html": [
              "<span style=\"color:cyan\"> |-Best step: 0</span>"
            ],
            "text/plain": [
              "<IPython.core.display.HTML object>"
            ]
          },
          "metadata": {
            "tags": []
          }
        },
        {
          "output_type": "stream",
          "text": [
            "Epoch 1/50\n",
            "22/22 [==============================] - 3s 148ms/step - loss: 0.7665 - accuracy: 0.5533 - val_loss: 0.0000e+00 - val_accuracy: 0.0000e+00\n",
            "Epoch 2/50\n",
            "22/22 [==============================] - 1s 68ms/step - loss: 0.6468 - accuracy: 0.6065 - val_loss: 0.6756 - val_accuracy: 0.6071\n",
            "Epoch 3/50\n",
            "22/22 [==============================] - 1s 68ms/step - loss: 0.6063 - accuracy: 0.6553 - val_loss: 0.6668 - val_accuracy: 0.6071\n",
            "Epoch 4/50\n",
            "22/22 [==============================] - 1s 68ms/step - loss: 0.5685 - accuracy: 0.6686 - val_loss: 0.6588 - val_accuracy: 0.6131\n",
            "Epoch 5/50\n",
            "22/22 [==============================] - 2s 70ms/step - loss: 0.5140 - accuracy: 0.7189 - val_loss: 0.6487 - val_accuracy: 0.6548\n",
            "Epoch 6/50\n",
            "22/22 [==============================] - 2s 68ms/step - loss: 0.4557 - accuracy: 0.7707 - val_loss: 0.6392 - val_accuracy: 0.7143\n",
            "Epoch 7/50\n",
            "22/22 [==============================] - 2s 68ms/step - loss: 0.3881 - accuracy: 0.8225 - val_loss: 0.6241 - val_accuracy: 0.7381\n",
            "Epoch 8/50\n",
            "22/22 [==============================] - 2s 70ms/step - loss: 0.3514 - accuracy: 0.8595 - val_loss: 0.6091 - val_accuracy: 0.8393\n",
            "Epoch 9/50\n",
            "22/22 [==============================] - 1s 67ms/step - loss: 0.3274 - accuracy: 0.8713 - val_loss: 0.5876 - val_accuracy: 0.8631\n",
            "Epoch 10/50\n",
            "22/22 [==============================] - 2s 69ms/step - loss: 0.2907 - accuracy: 0.8846 - val_loss: 0.5647 - val_accuracy: 0.8988\n",
            "Epoch 11/50\n",
            "22/22 [==============================] - 2s 71ms/step - loss: 0.2493 - accuracy: 0.9172 - val_loss: 0.5370 - val_accuracy: 0.9226\n",
            "Epoch 12/50\n",
            "22/22 [==============================] - 2s 70ms/step - loss: 0.2250 - accuracy: 0.9349 - val_loss: 0.5060 - val_accuracy: 0.9405\n",
            "Epoch 13/50\n",
            "22/22 [==============================] - 2s 69ms/step - loss: 0.2002 - accuracy: 0.9527 - val_loss: 0.4701 - val_accuracy: 0.9405\n",
            "Epoch 14/50\n",
            "22/22 [==============================] - 1s 68ms/step - loss: 0.1919 - accuracy: 0.9438 - val_loss: 0.4337 - val_accuracy: 0.9464\n",
            "Epoch 15/50\n",
            "22/22 [==============================] - 2s 69ms/step - loss: 0.1721 - accuracy: 0.9586 - val_loss: 0.3979 - val_accuracy: 0.9464\n",
            "Epoch 16/50\n",
            "22/22 [==============================] - 2s 72ms/step - loss: 0.1570 - accuracy: 0.9601 - val_loss: 0.3645 - val_accuracy: 0.9464\n",
            "Epoch 17/50\n",
            "22/22 [==============================] - 1s 66ms/step - loss: 0.1424 - accuracy: 0.9749 - val_loss: 0.3307 - val_accuracy: 0.9524\n",
            "Epoch 18/50\n",
            "22/22 [==============================] - 2s 70ms/step - loss: 0.1256 - accuracy: 0.9704 - val_loss: 0.2953 - val_accuracy: 0.9643\n",
            "Epoch 19/50\n",
            "22/22 [==============================] - 2s 69ms/step - loss: 0.1212 - accuracy: 0.9704 - val_loss: 0.2666 - val_accuracy: 0.9643\n",
            "Epoch 20/50\n",
            "22/22 [==============================] - 2s 70ms/step - loss: 0.1130 - accuracy: 0.9749 - val_loss: 0.2409 - val_accuracy: 0.9643\n",
            "Epoch 21/50\n",
            "22/22 [==============================] - 2s 70ms/step - loss: 0.0997 - accuracy: 0.9837 - val_loss: 0.2131 - val_accuracy: 0.9643\n",
            "Epoch 22/50\n",
            "22/22 [==============================] - 2s 71ms/step - loss: 0.0930 - accuracy: 0.9822 - val_loss: 0.1899 - val_accuracy: 0.9583\n",
            "Epoch 23/50\n",
            "22/22 [==============================] - 2s 70ms/step - loss: 0.0861 - accuracy: 0.9837 - val_loss: 0.1741 - val_accuracy: 0.9583\n",
            "Epoch 24/50\n",
            "22/22 [==============================] - 1s 68ms/step - loss: 0.0743 - accuracy: 0.9896 - val_loss: 0.1581 - val_accuracy: 0.9643\n",
            "Epoch 25/50\n",
            "22/22 [==============================] - 2s 72ms/step - loss: 0.0740 - accuracy: 0.9882 - val_loss: 0.1487 - val_accuracy: 0.9583\n",
            "Epoch 26/50\n",
            "22/22 [==============================] - 2s 69ms/step - loss: 0.0717 - accuracy: 0.9867 - val_loss: 0.1408 - val_accuracy: 0.9702\n",
            "Epoch 27/50\n",
            "22/22 [==============================] - 2s 69ms/step - loss: 0.0687 - accuracy: 0.9822 - val_loss: 0.1330 - val_accuracy: 0.9702\n",
            "Epoch 28/50\n",
            "22/22 [==============================] - 2s 70ms/step - loss: 0.0629 - accuracy: 0.9896 - val_loss: 0.1288 - val_accuracy: 0.9702\n",
            "Epoch 29/50\n",
            "22/22 [==============================] - 2s 74ms/step - loss: 0.0529 - accuracy: 0.9867 - val_loss: 0.1258 - val_accuracy: 0.9702\n",
            "Epoch 30/50\n",
            "22/22 [==============================] - 2s 73ms/step - loss: 0.0532 - accuracy: 0.9911 - val_loss: 0.1237 - val_accuracy: 0.9583\n",
            "Epoch 31/50\n",
            "22/22 [==============================] - 2s 74ms/step - loss: 0.0538 - accuracy: 0.9911 - val_loss: 0.1218 - val_accuracy: 0.9583\n",
            "Epoch 32/50\n",
            "22/22 [==============================] - 2s 70ms/step - loss: 0.0530 - accuracy: 0.9911 - val_loss: 0.1199 - val_accuracy: 0.9643\n",
            "Epoch 33/50\n",
            "22/22 [==============================] - 1s 66ms/step - loss: 0.0472 - accuracy: 0.9926 - val_loss: 0.1206 - val_accuracy: 0.9583\n",
            "Epoch 34/50\n",
            "22/22 [==============================] - 2s 68ms/step - loss: 0.0527 - accuracy: 0.9896 - val_loss: 0.1192 - val_accuracy: 0.9583\n",
            "Epoch 35/50\n",
            "22/22 [==============================] - 1s 66ms/step - loss: 0.0410 - accuracy: 0.9926 - val_loss: 0.1198 - val_accuracy: 0.9583\n",
            "Epoch 36/50\n",
            "22/22 [==============================] - 1s 68ms/step - loss: 0.0368 - accuracy: 0.9882 - val_loss: 0.1195 - val_accuracy: 0.9583\n",
            "Epoch 37/50\n",
            "22/22 [==============================] - 1s 65ms/step - loss: 0.0327 - accuracy: 0.9956 - val_loss: 0.1200 - val_accuracy: 0.9583\n",
            "Epoch 38/50\n",
            "22/22 [==============================] - 1s 67ms/step - loss: 0.0385 - accuracy: 0.9911 - val_loss: 0.1215 - val_accuracy: 0.9643\n",
            "Epoch 39/50\n",
            "22/22 [==============================] - 1s 67ms/step - loss: 0.0296 - accuracy: 0.9970 - val_loss: 0.1242 - val_accuracy: 0.9583\n",
            "Epoch 40/50\n",
            "22/22 [==============================] - 2s 71ms/step - loss: 0.0350 - accuracy: 0.9941 - val_loss: 0.1265 - val_accuracy: 0.9583\n",
            "Epoch 41/50\n",
            "22/22 [==============================] - 2s 70ms/step - loss: 0.0353 - accuracy: 0.9926 - val_loss: 0.1308 - val_accuracy: 0.9583\n",
            "Epoch 42/50\n",
            "22/22 [==============================] - 1s 68ms/step - loss: 0.0288 - accuracy: 0.9970 - val_loss: 0.1318 - val_accuracy: 0.9583\n",
            "Epoch 43/50\n",
            "22/22 [==============================] - 2s 69ms/step - loss: 0.0362 - accuracy: 0.9896 - val_loss: 0.1296 - val_accuracy: 0.9583\n",
            "Epoch 44/50\n",
            "22/22 [==============================] - 2s 72ms/step - loss: 0.0283 - accuracy: 0.9926 - val_loss: 0.1282 - val_accuracy: 0.9643\n"
          ],
          "name": "stdout"
        },
        {
          "output_type": "display_data",
          "data": {
            "text/html": [
              "<span style=\"color:#4527A0\"><h1 style=\"font-size:18px\">Trial complete</h1></span>"
            ],
            "text/plain": [
              "<IPython.core.display.HTML object>"
            ]
          },
          "metadata": {
            "tags": []
          }
        },
        {
          "output_type": "display_data",
          "data": {
            "text/html": [
              "<span style=\"color:#4527A0\"><h1 style=\"font-size:18px\">Trial summary</h1></span>"
            ],
            "text/plain": [
              "<IPython.core.display.HTML object>"
            ]
          },
          "metadata": {
            "tags": []
          }
        },
        {
          "output_type": "display_data",
          "data": {
            "text/html": [
              "<span style=\"color:#7E57C2\"><h2 style=\"font-size:16px\">Hp values:</h2></span>"
            ],
            "text/plain": [
              "<IPython.core.display.HTML object>"
            ]
          },
          "metadata": {
            "tags": []
          }
        },
        {
          "output_type": "display_data",
          "data": {
            "text/html": [
              "<span style=\"color:cyan\"> |-dense_block_1/dropout_rate: 0.5</span>"
            ],
            "text/plain": [
              "<IPython.core.display.HTML object>"
            ]
          },
          "metadata": {
            "tags": []
          }
        },
        {
          "output_type": "display_data",
          "data": {
            "text/html": [
              "<span style=\"color:blue\"> |-dense_block_1/num_layers: 3</span>"
            ],
            "text/plain": [
              "<IPython.core.display.HTML object>"
            ]
          },
          "metadata": {
            "tags": []
          }
        },
        {
          "output_type": "display_data",
          "data": {
            "text/html": [
              "<span style=\"color:cyan\"> |-dense_block_1/units_0: 512</span>"
            ],
            "text/plain": [
              "<IPython.core.display.HTML object>"
            ]
          },
          "metadata": {
            "tags": []
          }
        },
        {
          "output_type": "display_data",
          "data": {
            "text/html": [
              "<span style=\"color:blue\"> |-dense_block_1/units_1: 16</span>"
            ],
            "text/plain": [
              "<IPython.core.display.HTML object>"
            ]
          },
          "metadata": {
            "tags": []
          }
        },
        {
          "output_type": "display_data",
          "data": {
            "text/html": [
              "<span style=\"color:cyan\"> |-dense_block_1/units_2: 32</span>"
            ],
            "text/plain": [
              "<IPython.core.display.HTML object>"
            ]
          },
          "metadata": {
            "tags": []
          }
        },
        {
          "output_type": "display_data",
          "data": {
            "text/html": [
              "<span style=\"color:blue\"> |-dense_block_1/use_batchnorm: True</span>"
            ],
            "text/plain": [
              "<IPython.core.display.HTML object>"
            ]
          },
          "metadata": {
            "tags": []
          }
        },
        {
          "output_type": "display_data",
          "data": {
            "text/html": [
              "<span style=\"color:cyan\"> |-optimizer: adam</span>"
            ],
            "text/plain": [
              "<IPython.core.display.HTML object>"
            ]
          },
          "metadata": {
            "tags": []
          }
        },
        {
          "output_type": "display_data",
          "data": {
            "text/html": [
              "<span style=\"color:cyan\"> |-Score: 0.11918078269809484</span>"
            ],
            "text/plain": [
              "<IPython.core.display.HTML object>"
            ]
          },
          "metadata": {
            "tags": []
          }
        },
        {
          "output_type": "display_data",
          "data": {
            "text/html": [
              "<span style=\"color:cyan\"> |-Best step: 0</span>"
            ],
            "text/plain": [
              "<IPython.core.display.HTML object>"
            ]
          },
          "metadata": {
            "tags": []
          }
        },
        {
          "output_type": "stream",
          "text": [
            "Epoch 1/50\n",
            "22/22 [==============================] - 3s 142ms/step - loss: 0.7695 - accuracy: 0.4970 - val_loss: 0.0000e+00 - val_accuracy: 0.0000e+00\n",
            "Epoch 2/50\n",
            "22/22 [==============================] - 1s 63ms/step - loss: 0.7679 - accuracy: 0.5237 - val_loss: 0.6825 - val_accuracy: 0.6071\n",
            "Epoch 3/50\n",
            "22/22 [==============================] - 1s 63ms/step - loss: 0.7315 - accuracy: 0.5725 - val_loss: 0.6787 - val_accuracy: 0.6071\n",
            "Epoch 4/50\n",
            "22/22 [==============================] - 1s 62ms/step - loss: 0.6985 - accuracy: 0.5888 - val_loss: 0.6761 - val_accuracy: 0.6071\n",
            "Epoch 5/50\n",
            "22/22 [==============================] - 1s 62ms/step - loss: 0.6515 - accuracy: 0.6391 - val_loss: 0.6741 - val_accuracy: 0.6071\n",
            "Epoch 6/50\n",
            "22/22 [==============================] - 1s 64ms/step - loss: 0.6429 - accuracy: 0.6331 - val_loss: 0.6730 - val_accuracy: 0.6071\n",
            "Epoch 7/50\n",
            "22/22 [==============================] - 1s 64ms/step - loss: 0.6339 - accuracy: 0.6450 - val_loss: 0.6722 - val_accuracy: 0.6071\n",
            "Epoch 8/50\n",
            "22/22 [==============================] - 1s 64ms/step - loss: 0.6454 - accuracy: 0.6331 - val_loss: 0.6711 - val_accuracy: 0.6071\n",
            "Epoch 9/50\n",
            "22/22 [==============================] - 1s 66ms/step - loss: 0.6348 - accuracy: 0.6391 - val_loss: 0.6698 - val_accuracy: 0.6071\n",
            "Epoch 10/50\n",
            "22/22 [==============================] - 1s 65ms/step - loss: 0.5724 - accuracy: 0.7012 - val_loss: 0.6683 - val_accuracy: 0.6071\n",
            "Epoch 11/50\n",
            "22/22 [==============================] - 1s 65ms/step - loss: 0.6062 - accuracy: 0.6820 - val_loss: 0.6671 - val_accuracy: 0.6071\n",
            "Epoch 12/50\n",
            "22/22 [==============================] - 1s 65ms/step - loss: 0.5649 - accuracy: 0.7204 - val_loss: 0.6655 - val_accuracy: 0.6071\n",
            "Epoch 13/50\n",
            "22/22 [==============================] - 1s 63ms/step - loss: 0.5437 - accuracy: 0.7204 - val_loss: 0.6631 - val_accuracy: 0.6071\n",
            "Epoch 14/50\n",
            "22/22 [==============================] - 1s 64ms/step - loss: 0.5527 - accuracy: 0.7278 - val_loss: 0.6601 - val_accuracy: 0.6071\n",
            "Epoch 15/50\n",
            "22/22 [==============================] - 1s 65ms/step - loss: 0.5319 - accuracy: 0.7574 - val_loss: 0.6566 - val_accuracy: 0.6071\n",
            "Epoch 16/50\n",
            "22/22 [==============================] - 1s 66ms/step - loss: 0.5347 - accuracy: 0.7382 - val_loss: 0.6521 - val_accuracy: 0.6071\n",
            "Epoch 17/50\n",
            "22/22 [==============================] - 1s 67ms/step - loss: 0.4809 - accuracy: 0.7988 - val_loss: 0.6456 - val_accuracy: 0.6071\n",
            "Epoch 18/50\n",
            "22/22 [==============================] - 1s 66ms/step - loss: 0.5038 - accuracy: 0.7692 - val_loss: 0.6354 - val_accuracy: 0.6071\n",
            "Epoch 19/50\n",
            "22/22 [==============================] - 1s 65ms/step - loss: 0.4940 - accuracy: 0.7692 - val_loss: 0.6259 - val_accuracy: 0.6131\n",
            "Epoch 20/50\n",
            "22/22 [==============================] - 1s 65ms/step - loss: 0.4718 - accuracy: 0.7840 - val_loss: 0.6137 - val_accuracy: 0.6190\n",
            "Epoch 21/50\n",
            "22/22 [==============================] - 2s 68ms/step - loss: 0.4506 - accuracy: 0.8107 - val_loss: 0.5975 - val_accuracy: 0.6429\n",
            "Epoch 22/50\n",
            "22/22 [==============================] - 1s 65ms/step - loss: 0.4451 - accuracy: 0.8092 - val_loss: 0.5821 - val_accuracy: 0.6667\n",
            "Epoch 23/50\n",
            "22/22 [==============================] - 1s 63ms/step - loss: 0.4281 - accuracy: 0.8299 - val_loss: 0.5625 - val_accuracy: 0.6786\n",
            "Epoch 24/50\n",
            "22/22 [==============================] - 1s 65ms/step - loss: 0.4285 - accuracy: 0.8343 - val_loss: 0.5464 - val_accuracy: 0.6786\n",
            "Epoch 25/50\n",
            "22/22 [==============================] - 1s 66ms/step - loss: 0.4220 - accuracy: 0.8254 - val_loss: 0.5240 - val_accuracy: 0.7202\n",
            "Epoch 26/50\n",
            "22/22 [==============================] - 1s 64ms/step - loss: 0.3823 - accuracy: 0.8432 - val_loss: 0.5037 - val_accuracy: 0.7857\n",
            "Epoch 27/50\n",
            "22/22 [==============================] - 1s 66ms/step - loss: 0.4000 - accuracy: 0.8388 - val_loss: 0.4762 - val_accuracy: 0.8095\n",
            "Epoch 28/50\n",
            "22/22 [==============================] - 2s 68ms/step - loss: 0.3857 - accuracy: 0.8447 - val_loss: 0.4512 - val_accuracy: 0.8333\n",
            "Epoch 29/50\n",
            "22/22 [==============================] - 1s 63ms/step - loss: 0.3622 - accuracy: 0.8609 - val_loss: 0.4321 - val_accuracy: 0.8452\n",
            "Epoch 30/50\n",
            "22/22 [==============================] - 1s 65ms/step - loss: 0.3654 - accuracy: 0.8432 - val_loss: 0.4103 - val_accuracy: 0.8690\n",
            "Epoch 31/50\n",
            "22/22 [==============================] - 1s 62ms/step - loss: 0.3497 - accuracy: 0.8683 - val_loss: 0.3918 - val_accuracy: 0.8810\n",
            "Epoch 32/50\n",
            "22/22 [==============================] - 1s 66ms/step - loss: 0.3312 - accuracy: 0.8802 - val_loss: 0.3742 - val_accuracy: 0.8869\n",
            "Epoch 33/50\n",
            "22/22 [==============================] - 1s 63ms/step - loss: 0.3412 - accuracy: 0.8817 - val_loss: 0.3593 - val_accuracy: 0.8929\n",
            "Epoch 34/50\n",
            "22/22 [==============================] - 1s 66ms/step - loss: 0.3096 - accuracy: 0.9068 - val_loss: 0.3442 - val_accuracy: 0.8988\n",
            "Epoch 35/50\n",
            "22/22 [==============================] - 1s 64ms/step - loss: 0.3325 - accuracy: 0.8728 - val_loss: 0.3303 - val_accuracy: 0.8988\n",
            "Epoch 36/50\n",
            "22/22 [==============================] - 1s 65ms/step - loss: 0.3059 - accuracy: 0.9068 - val_loss: 0.3169 - val_accuracy: 0.8988\n",
            "Epoch 37/50\n",
            "22/22 [==============================] - 1s 66ms/step - loss: 0.3034 - accuracy: 0.8817 - val_loss: 0.3079 - val_accuracy: 0.8988\n",
            "Epoch 38/50\n",
            "22/22 [==============================] - 1s 66ms/step - loss: 0.2969 - accuracy: 0.8950 - val_loss: 0.2962 - val_accuracy: 0.8988\n",
            "Epoch 39/50\n",
            "22/22 [==============================] - 1s 64ms/step - loss: 0.2883 - accuracy: 0.9024 - val_loss: 0.2889 - val_accuracy: 0.8988\n",
            "Epoch 40/50\n",
            "22/22 [==============================] - 1s 64ms/step - loss: 0.2732 - accuracy: 0.9142 - val_loss: 0.2789 - val_accuracy: 0.8988\n",
            "Epoch 41/50\n",
            "22/22 [==============================] - 1s 65ms/step - loss: 0.2547 - accuracy: 0.9216 - val_loss: 0.2707 - val_accuracy: 0.8988\n",
            "Epoch 42/50\n",
            "22/22 [==============================] - 1s 62ms/step - loss: 0.2509 - accuracy: 0.9231 - val_loss: 0.2649 - val_accuracy: 0.8988\n",
            "Epoch 43/50\n",
            "22/22 [==============================] - 1s 65ms/step - loss: 0.2415 - accuracy: 0.9334 - val_loss: 0.2591 - val_accuracy: 0.9167\n",
            "Epoch 44/50\n",
            "22/22 [==============================] - 1s 67ms/step - loss: 0.2656 - accuracy: 0.9053 - val_loss: 0.2526 - val_accuracy: 0.9167\n",
            "Epoch 45/50\n",
            "22/22 [==============================] - 1s 64ms/step - loss: 0.2393 - accuracy: 0.9246 - val_loss: 0.2453 - val_accuracy: 0.9167\n",
            "Epoch 46/50\n",
            "22/22 [==============================] - 1s 66ms/step - loss: 0.2526 - accuracy: 0.9098 - val_loss: 0.2404 - val_accuracy: 0.9167\n",
            "Epoch 47/50\n",
            "22/22 [==============================] - 1s 60ms/step - loss: 0.2189 - accuracy: 0.9305 - val_loss: 0.2360 - val_accuracy: 0.9167\n",
            "Epoch 48/50\n",
            "22/22 [==============================] - 1s 64ms/step - loss: 0.2145 - accuracy: 0.9231 - val_loss: 0.2316 - val_accuracy: 0.9167\n",
            "Epoch 49/50\n",
            "22/22 [==============================] - 1s 65ms/step - loss: 0.2043 - accuracy: 0.9438 - val_loss: 0.2280 - val_accuracy: 0.9167\n",
            "Epoch 50/50\n",
            "22/22 [==============================] - 1s 64ms/step - loss: 0.2069 - accuracy: 0.9423 - val_loss: 0.2235 - val_accuracy: 0.9226\n"
          ],
          "name": "stdout"
        },
        {
          "output_type": "display_data",
          "data": {
            "text/html": [
              "<span style=\"color:#4527A0\"><h1 style=\"font-size:18px\">Trial complete</h1></span>"
            ],
            "text/plain": [
              "<IPython.core.display.HTML object>"
            ]
          },
          "metadata": {
            "tags": []
          }
        },
        {
          "output_type": "display_data",
          "data": {
            "text/html": [
              "<span style=\"color:#4527A0\"><h1 style=\"font-size:18px\">Trial summary</h1></span>"
            ],
            "text/plain": [
              "<IPython.core.display.HTML object>"
            ]
          },
          "metadata": {
            "tags": []
          }
        },
        {
          "output_type": "display_data",
          "data": {
            "text/html": [
              "<span style=\"color:#7E57C2\"><h2 style=\"font-size:16px\">Hp values:</h2></span>"
            ],
            "text/plain": [
              "<IPython.core.display.HTML object>"
            ]
          },
          "metadata": {
            "tags": []
          }
        },
        {
          "output_type": "display_data",
          "data": {
            "text/html": [
              "<span style=\"color:cyan\"> |-dense_block_1/dropout_rate: 0.5</span>"
            ],
            "text/plain": [
              "<IPython.core.display.HTML object>"
            ]
          },
          "metadata": {
            "tags": []
          }
        },
        {
          "output_type": "display_data",
          "data": {
            "text/html": [
              "<span style=\"color:blue\"> |-dense_block_1/num_layers: 3</span>"
            ],
            "text/plain": [
              "<IPython.core.display.HTML object>"
            ]
          },
          "metadata": {
            "tags": []
          }
        },
        {
          "output_type": "display_data",
          "data": {
            "text/html": [
              "<span style=\"color:cyan\"> |-dense_block_1/units_0: 512</span>"
            ],
            "text/plain": [
              "<IPython.core.display.HTML object>"
            ]
          },
          "metadata": {
            "tags": []
          }
        },
        {
          "output_type": "display_data",
          "data": {
            "text/html": [
              "<span style=\"color:blue\"> |-dense_block_1/units_1: 16</span>"
            ],
            "text/plain": [
              "<IPython.core.display.HTML object>"
            ]
          },
          "metadata": {
            "tags": []
          }
        },
        {
          "output_type": "display_data",
          "data": {
            "text/html": [
              "<span style=\"color:cyan\"> |-dense_block_1/units_2: 32</span>"
            ],
            "text/plain": [
              "<IPython.core.display.HTML object>"
            ]
          },
          "metadata": {
            "tags": []
          }
        },
        {
          "output_type": "display_data",
          "data": {
            "text/html": [
              "<span style=\"color:blue\"> |-dense_block_1/use_batchnorm: True</span>"
            ],
            "text/plain": [
              "<IPython.core.display.HTML object>"
            ]
          },
          "metadata": {
            "tags": []
          }
        },
        {
          "output_type": "display_data",
          "data": {
            "text/html": [
              "<span style=\"color:cyan\"> |-optimizer: sgd</span>"
            ],
            "text/plain": [
              "<IPython.core.display.HTML object>"
            ]
          },
          "metadata": {
            "tags": []
          }
        },
        {
          "output_type": "display_data",
          "data": {
            "text/html": [
              "<span style=\"color:cyan\"> |-Score: 0.2235262170433998</span>"
            ],
            "text/plain": [
              "<IPython.core.display.HTML object>"
            ]
          },
          "metadata": {
            "tags": []
          }
        },
        {
          "output_type": "display_data",
          "data": {
            "text/html": [
              "<span style=\"color:cyan\"> |-Best step: 0</span>"
            ],
            "text/plain": [
              "<IPython.core.display.HTML object>"
            ]
          },
          "metadata": {
            "tags": []
          }
        },
        {
          "output_type": "stream",
          "text": [
            "Epoch 1/50\n",
            "22/22 [==============================] - 2s 86ms/step - loss: 0.6732 - accuracy: 0.6405 - val_loss: 0.0000e+00 - val_accuracy: 0.0000e+00\n",
            "Epoch 2/50\n",
            "22/22 [==============================] - 1s 56ms/step - loss: 0.6147 - accuracy: 0.7189 - val_loss: 0.5895 - val_accuracy: 0.7083\n",
            "Epoch 3/50\n",
            "22/22 [==============================] - 1s 53ms/step - loss: 0.5259 - accuracy: 0.8595 - val_loss: 0.5071 - val_accuracy: 0.8274\n",
            "Epoch 4/50\n",
            "22/22 [==============================] - 1s 56ms/step - loss: 0.4289 - accuracy: 0.9349 - val_loss: 0.4224 - val_accuracy: 0.9167\n",
            "Epoch 5/50\n",
            "22/22 [==============================] - 1s 57ms/step - loss: 0.3365 - accuracy: 0.9689 - val_loss: 0.3494 - val_accuracy: 0.9286\n",
            "Epoch 6/50\n",
            "22/22 [==============================] - 1s 56ms/step - loss: 0.2560 - accuracy: 0.9822 - val_loss: 0.2931 - val_accuracy: 0.9405\n",
            "Epoch 7/50\n",
            "22/22 [==============================] - 1s 57ms/step - loss: 0.1981 - accuracy: 0.9896 - val_loss: 0.2523 - val_accuracy: 0.9405\n",
            "Epoch 8/50\n",
            "22/22 [==============================] - 1s 56ms/step - loss: 0.1573 - accuracy: 0.9911 - val_loss: 0.2236 - val_accuracy: 0.9405\n",
            "Epoch 9/50\n",
            "22/22 [==============================] - 1s 58ms/step - loss: 0.1230 - accuracy: 0.9926 - val_loss: 0.2035 - val_accuracy: 0.9405\n",
            "Epoch 10/50\n",
            "22/22 [==============================] - 1s 55ms/step - loss: 0.1038 - accuracy: 0.9941 - val_loss: 0.1881 - val_accuracy: 0.9405\n",
            "Epoch 11/50\n",
            "22/22 [==============================] - 1s 55ms/step - loss: 0.0850 - accuracy: 0.9941 - val_loss: 0.1769 - val_accuracy: 0.9464\n",
            "Epoch 12/50\n",
            "22/22 [==============================] - 1s 58ms/step - loss: 0.0726 - accuracy: 0.9970 - val_loss: 0.1688 - val_accuracy: 0.9464\n",
            "Epoch 13/50\n",
            "22/22 [==============================] - 1s 61ms/step - loss: 0.0592 - accuracy: 0.9956 - val_loss: 0.1632 - val_accuracy: 0.9524\n",
            "Epoch 14/50\n",
            "22/22 [==============================] - 1s 56ms/step - loss: 0.0519 - accuracy: 0.9970 - val_loss: 0.1585 - val_accuracy: 0.9524\n",
            "Epoch 15/50\n",
            "22/22 [==============================] - 1s 58ms/step - loss: 0.0463 - accuracy: 0.9970 - val_loss: 0.1550 - val_accuracy: 0.9524\n",
            "Epoch 16/50\n",
            "22/22 [==============================] - 1s 56ms/step - loss: 0.0409 - accuracy: 0.9970 - val_loss: 0.1529 - val_accuracy: 0.9524\n",
            "Epoch 17/50\n",
            "22/22 [==============================] - 1s 57ms/step - loss: 0.0361 - accuracy: 0.9985 - val_loss: 0.1508 - val_accuracy: 0.9464\n",
            "Epoch 18/50\n",
            "22/22 [==============================] - 1s 56ms/step - loss: 0.0303 - accuracy: 0.9985 - val_loss: 0.1497 - val_accuracy: 0.9464\n",
            "Epoch 19/50\n",
            "22/22 [==============================] - 1s 53ms/step - loss: 0.0277 - accuracy: 0.9985 - val_loss: 0.1482 - val_accuracy: 0.9464\n",
            "Epoch 20/50\n",
            "22/22 [==============================] - 1s 59ms/step - loss: 0.0242 - accuracy: 0.9985 - val_loss: 0.1477 - val_accuracy: 0.9464\n",
            "Epoch 21/50\n",
            "22/22 [==============================] - 1s 56ms/step - loss: 0.0227 - accuracy: 0.9985 - val_loss: 0.1464 - val_accuracy: 0.9583\n",
            "Epoch 22/50\n",
            "22/22 [==============================] - 1s 59ms/step - loss: 0.0208 - accuracy: 1.0000 - val_loss: 0.1464 - val_accuracy: 0.9583\n",
            "Epoch 23/50\n",
            "22/22 [==============================] - 1s 59ms/step - loss: 0.0186 - accuracy: 1.0000 - val_loss: 0.1465 - val_accuracy: 0.9583\n",
            "Epoch 24/50\n",
            "22/22 [==============================] - 1s 59ms/step - loss: 0.0167 - accuracy: 1.0000 - val_loss: 0.1470 - val_accuracy: 0.9524\n",
            "Epoch 25/50\n",
            "22/22 [==============================] - 1s 53ms/step - loss: 0.0157 - accuracy: 1.0000 - val_loss: 0.1466 - val_accuracy: 0.9524\n",
            "Epoch 26/50\n",
            "22/22 [==============================] - 1s 58ms/step - loss: 0.0132 - accuracy: 1.0000 - val_loss: 0.1464 - val_accuracy: 0.9524\n",
            "Epoch 27/50\n",
            "22/22 [==============================] - 1s 55ms/step - loss: 0.0126 - accuracy: 1.0000 - val_loss: 0.1466 - val_accuracy: 0.9524\n",
            "Epoch 28/50\n",
            "22/22 [==============================] - 1s 55ms/step - loss: 0.0117 - accuracy: 1.0000 - val_loss: 0.1474 - val_accuracy: 0.9524\n",
            "Epoch 29/50\n",
            "22/22 [==============================] - 1s 56ms/step - loss: 0.0116 - accuracy: 1.0000 - val_loss: 0.1477 - val_accuracy: 0.9524\n",
            "Epoch 30/50\n",
            "22/22 [==============================] - 1s 57ms/step - loss: 0.0101 - accuracy: 1.0000 - val_loss: 0.1474 - val_accuracy: 0.9524\n",
            "Epoch 31/50\n",
            "22/22 [==============================] - 1s 55ms/step - loss: 0.0098 - accuracy: 1.0000 - val_loss: 0.1484 - val_accuracy: 0.9524\n",
            "Epoch 32/50\n",
            "22/22 [==============================] - 1s 59ms/step - loss: 0.0098 - accuracy: 1.0000 - val_loss: 0.1483 - val_accuracy: 0.9524\n"
          ],
          "name": "stdout"
        },
        {
          "output_type": "display_data",
          "data": {
            "text/html": [
              "<span style=\"color:#4527A0\"><h1 style=\"font-size:18px\">Trial complete</h1></span>"
            ],
            "text/plain": [
              "<IPython.core.display.HTML object>"
            ]
          },
          "metadata": {
            "tags": []
          }
        },
        {
          "output_type": "display_data",
          "data": {
            "text/html": [
              "<span style=\"color:#4527A0\"><h1 style=\"font-size:18px\">Trial summary</h1></span>"
            ],
            "text/plain": [
              "<IPython.core.display.HTML object>"
            ]
          },
          "metadata": {
            "tags": []
          }
        },
        {
          "output_type": "display_data",
          "data": {
            "text/html": [
              "<span style=\"color:#7E57C2\"><h2 style=\"font-size:16px\">Hp values:</h2></span>"
            ],
            "text/plain": [
              "<IPython.core.display.HTML object>"
            ]
          },
          "metadata": {
            "tags": []
          }
        },
        {
          "output_type": "display_data",
          "data": {
            "text/html": [
              "<span style=\"color:cyan\"> |-dense_block_1/dropout_rate: 0.25</span>"
            ],
            "text/plain": [
              "<IPython.core.display.HTML object>"
            ]
          },
          "metadata": {
            "tags": []
          }
        },
        {
          "output_type": "display_data",
          "data": {
            "text/html": [
              "<span style=\"color:blue\"> |-dense_block_1/num_layers: 1</span>"
            ],
            "text/plain": [
              "<IPython.core.display.HTML object>"
            ]
          },
          "metadata": {
            "tags": []
          }
        },
        {
          "output_type": "display_data",
          "data": {
            "text/html": [
              "<span style=\"color:cyan\"> |-dense_block_1/units_0: 64</span>"
            ],
            "text/plain": [
              "<IPython.core.display.HTML object>"
            ]
          },
          "metadata": {
            "tags": []
          }
        },
        {
          "output_type": "display_data",
          "data": {
            "text/html": [
              "<span style=\"color:blue\"> |-dense_block_1/units_1: 16</span>"
            ],
            "text/plain": [
              "<IPython.core.display.HTML object>"
            ]
          },
          "metadata": {
            "tags": []
          }
        },
        {
          "output_type": "display_data",
          "data": {
            "text/html": [
              "<span style=\"color:cyan\"> |-dense_block_1/units_2: 512</span>"
            ],
            "text/plain": [
              "<IPython.core.display.HTML object>"
            ]
          },
          "metadata": {
            "tags": []
          }
        },
        {
          "output_type": "display_data",
          "data": {
            "text/html": [
              "<span style=\"color:blue\"> |-dense_block_1/use_batchnorm: False</span>"
            ],
            "text/plain": [
              "<IPython.core.display.HTML object>"
            ]
          },
          "metadata": {
            "tags": []
          }
        },
        {
          "output_type": "display_data",
          "data": {
            "text/html": [
              "<span style=\"color:cyan\"> |-optimizer: adam</span>"
            ],
            "text/plain": [
              "<IPython.core.display.HTML object>"
            ]
          },
          "metadata": {
            "tags": []
          }
        },
        {
          "output_type": "display_data",
          "data": {
            "text/html": [
              "<span style=\"color:cyan\"> |-Score: 0.14637146486590305</span>"
            ],
            "text/plain": [
              "<IPython.core.display.HTML object>"
            ]
          },
          "metadata": {
            "tags": []
          }
        },
        {
          "output_type": "display_data",
          "data": {
            "text/html": [
              "<span style=\"color:cyan\"> |-Best step: 0</span>"
            ],
            "text/plain": [
              "<IPython.core.display.HTML object>"
            ]
          },
          "metadata": {
            "tags": []
          }
        },
        {
          "output_type": "stream",
          "text": [
            "Epoch 1/50\n",
            "22/22 [==============================] - 3s 154ms/step - loss: 0.8072 - accuracy: 0.5754 - val_loss: 0.0000e+00 - val_accuracy: 0.0000e+00\n",
            "Epoch 2/50\n",
            "22/22 [==============================] - 2s 76ms/step - loss: 0.4821 - accuracy: 0.7559 - val_loss: 0.6594 - val_accuracy: 0.6548\n",
            "Epoch 3/50\n",
            "22/22 [==============================] - 2s 73ms/step - loss: 0.2067 - accuracy: 0.9201 - val_loss: 0.6277 - val_accuracy: 0.7440\n",
            "Epoch 4/50\n",
            "22/22 [==============================] - 2s 75ms/step - loss: 0.1193 - accuracy: 0.9571 - val_loss: 0.5952 - val_accuracy: 0.7798\n",
            "Epoch 5/50\n",
            "22/22 [==============================] - 2s 77ms/step - loss: 0.0765 - accuracy: 0.9704 - val_loss: 0.5669 - val_accuracy: 0.7857\n",
            "Epoch 6/50\n",
            "22/22 [==============================] - 2s 75ms/step - loss: 0.0390 - accuracy: 0.9911 - val_loss: 0.5316 - val_accuracy: 0.8571\n",
            "Epoch 7/50\n",
            "22/22 [==============================] - 2s 73ms/step - loss: 0.0328 - accuracy: 0.9852 - val_loss: 0.4983 - val_accuracy: 0.9345\n",
            "Epoch 8/50\n",
            "22/22 [==============================] - 2s 76ms/step - loss: 0.0256 - accuracy: 0.9941 - val_loss: 0.4629 - val_accuracy: 0.9464\n",
            "Epoch 9/50\n",
            "22/22 [==============================] - 2s 74ms/step - loss: 0.0195 - accuracy: 0.9926 - val_loss: 0.4243 - val_accuracy: 0.9464\n",
            "Epoch 10/50\n",
            "22/22 [==============================] - 2s 73ms/step - loss: 0.0117 - accuracy: 0.9985 - val_loss: 0.3902 - val_accuracy: 0.9583\n",
            "Epoch 11/50\n",
            "22/22 [==============================] - 2s 75ms/step - loss: 0.0164 - accuracy: 0.9970 - val_loss: 0.3584 - val_accuracy: 0.9702\n",
            "Epoch 12/50\n",
            "22/22 [==============================] - 2s 74ms/step - loss: 0.0086 - accuracy: 0.9985 - val_loss: 0.3220 - val_accuracy: 0.9643\n",
            "Epoch 13/50\n",
            "22/22 [==============================] - 2s 72ms/step - loss: 0.0110 - accuracy: 0.9970 - val_loss: 0.2897 - val_accuracy: 0.9524\n",
            "Epoch 14/50\n",
            "22/22 [==============================] - 2s 75ms/step - loss: 0.0140 - accuracy: 0.9941 - val_loss: 0.2549 - val_accuracy: 0.9583\n",
            "Epoch 15/50\n",
            "22/22 [==============================] - 2s 76ms/step - loss: 0.0106 - accuracy: 0.9970 - val_loss: 0.2332 - val_accuracy: 0.9702\n",
            "Epoch 16/50\n",
            "22/22 [==============================] - 2s 73ms/step - loss: 0.0071 - accuracy: 0.9985 - val_loss: 0.2099 - val_accuracy: 0.9524\n",
            "Epoch 17/50\n",
            "22/22 [==============================] - 2s 77ms/step - loss: 0.0035 - accuracy: 1.0000 - val_loss: 0.1958 - val_accuracy: 0.9702\n",
            "Epoch 18/50\n",
            "22/22 [==============================] - 2s 73ms/step - loss: 0.0043 - accuracy: 1.0000 - val_loss: 0.1821 - val_accuracy: 0.9702\n",
            "Epoch 19/50\n",
            "22/22 [==============================] - 2s 75ms/step - loss: 0.0041 - accuracy: 1.0000 - val_loss: 0.1714 - val_accuracy: 0.9702\n",
            "Epoch 20/50\n",
            "22/22 [==============================] - 2s 77ms/step - loss: 0.0046 - accuracy: 0.9985 - val_loss: 0.1676 - val_accuracy: 0.9702\n",
            "Epoch 21/50\n",
            "22/22 [==============================] - 2s 71ms/step - loss: 0.0037 - accuracy: 1.0000 - val_loss: 0.1601 - val_accuracy: 0.9702\n",
            "Epoch 22/50\n",
            "22/22 [==============================] - 2s 76ms/step - loss: 0.0055 - accuracy: 0.9970 - val_loss: 0.1552 - val_accuracy: 0.9643\n",
            "Epoch 23/50\n",
            "22/22 [==============================] - 2s 74ms/step - loss: 0.0018 - accuracy: 1.0000 - val_loss: 0.1545 - val_accuracy: 0.9702\n",
            "Epoch 24/50\n",
            "22/22 [==============================] - 2s 73ms/step - loss: 0.0027 - accuracy: 1.0000 - val_loss: 0.1539 - val_accuracy: 0.9702\n",
            "Epoch 25/50\n",
            "22/22 [==============================] - 2s 73ms/step - loss: 0.0024 - accuracy: 0.9985 - val_loss: 0.1573 - val_accuracy: 0.9702\n",
            "Epoch 26/50\n",
            "22/22 [==============================] - 2s 70ms/step - loss: 0.0017 - accuracy: 1.0000 - val_loss: 0.1693 - val_accuracy: 0.9643\n",
            "Epoch 27/50\n",
            "22/22 [==============================] - 2s 72ms/step - loss: 0.0034 - accuracy: 0.9985 - val_loss: 0.1731 - val_accuracy: 0.9643\n",
            "Epoch 28/50\n",
            "22/22 [==============================] - 2s 72ms/step - loss: 0.0098 - accuracy: 0.9985 - val_loss: 0.1833 - val_accuracy: 0.9583\n",
            "Epoch 29/50\n",
            "22/22 [==============================] - 2s 71ms/step - loss: 0.0024 - accuracy: 1.0000 - val_loss: 0.1915 - val_accuracy: 0.9583\n",
            "Epoch 30/50\n",
            "22/22 [==============================] - 2s 74ms/step - loss: 0.0013 - accuracy: 1.0000 - val_loss: 0.1931 - val_accuracy: 0.9583\n",
            "Epoch 31/50\n",
            "22/22 [==============================] - 2s 73ms/step - loss: 9.9413e-04 - accuracy: 1.0000 - val_loss: 0.1944 - val_accuracy: 0.9643\n",
            "Epoch 32/50\n",
            "22/22 [==============================] - 2s 71ms/step - loss: 0.0029 - accuracy: 0.9985 - val_loss: 0.1990 - val_accuracy: 0.9702\n",
            "Epoch 33/50\n",
            "22/22 [==============================] - 2s 70ms/step - loss: 0.0025 - accuracy: 0.9985 - val_loss: 0.2033 - val_accuracy: 0.9702\n",
            "Epoch 34/50\n",
            "22/22 [==============================] - 2s 71ms/step - loss: 0.0024 - accuracy: 1.0000 - val_loss: 0.2059 - val_accuracy: 0.9702\n"
          ],
          "name": "stdout"
        },
        {
          "output_type": "display_data",
          "data": {
            "text/html": [
              "<span style=\"color:#4527A0\"><h1 style=\"font-size:18px\">Trial complete</h1></span>"
            ],
            "text/plain": [
              "<IPython.core.display.HTML object>"
            ]
          },
          "metadata": {
            "tags": []
          }
        },
        {
          "output_type": "display_data",
          "data": {
            "text/html": [
              "<span style=\"color:#4527A0\"><h1 style=\"font-size:18px\">Trial summary</h1></span>"
            ],
            "text/plain": [
              "<IPython.core.display.HTML object>"
            ]
          },
          "metadata": {
            "tags": []
          }
        },
        {
          "output_type": "display_data",
          "data": {
            "text/html": [
              "<span style=\"color:#7E57C2\"><h2 style=\"font-size:16px\">Hp values:</h2></span>"
            ],
            "text/plain": [
              "<IPython.core.display.HTML object>"
            ]
          },
          "metadata": {
            "tags": []
          }
        },
        {
          "output_type": "display_data",
          "data": {
            "text/html": [
              "<span style=\"color:cyan\"> |-dense_block_1/dropout_rate: 0.5</span>"
            ],
            "text/plain": [
              "<IPython.core.display.HTML object>"
            ]
          },
          "metadata": {
            "tags": []
          }
        },
        {
          "output_type": "display_data",
          "data": {
            "text/html": [
              "<span style=\"color:blue\"> |-dense_block_1/num_layers: 3</span>"
            ],
            "text/plain": [
              "<IPython.core.display.HTML object>"
            ]
          },
          "metadata": {
            "tags": []
          }
        },
        {
          "output_type": "display_data",
          "data": {
            "text/html": [
              "<span style=\"color:cyan\"> |-dense_block_1/units_0: 512</span>"
            ],
            "text/plain": [
              "<IPython.core.display.HTML object>"
            ]
          },
          "metadata": {
            "tags": []
          }
        },
        {
          "output_type": "display_data",
          "data": {
            "text/html": [
              "<span style=\"color:blue\"> |-dense_block_1/units_1: 128</span>"
            ],
            "text/plain": [
              "<IPython.core.display.HTML object>"
            ]
          },
          "metadata": {
            "tags": []
          }
        },
        {
          "output_type": "display_data",
          "data": {
            "text/html": [
              "<span style=\"color:cyan\"> |-dense_block_1/units_2: 1024</span>"
            ],
            "text/plain": [
              "<IPython.core.display.HTML object>"
            ]
          },
          "metadata": {
            "tags": []
          }
        },
        {
          "output_type": "display_data",
          "data": {
            "text/html": [
              "<span style=\"color:blue\"> |-dense_block_1/use_batchnorm: True</span>"
            ],
            "text/plain": [
              "<IPython.core.display.HTML object>"
            ]
          },
          "metadata": {
            "tags": []
          }
        },
        {
          "output_type": "display_data",
          "data": {
            "text/html": [
              "<span style=\"color:cyan\"> |-optimizer: adam</span>"
            ],
            "text/plain": [
              "<IPython.core.display.HTML object>"
            ]
          },
          "metadata": {
            "tags": []
          }
        },
        {
          "output_type": "display_data",
          "data": {
            "text/html": [
              "<span style=\"color:cyan\"> |-Score: 0.15389170373479524</span>"
            ],
            "text/plain": [
              "<IPython.core.display.HTML object>"
            ]
          },
          "metadata": {
            "tags": []
          }
        },
        {
          "output_type": "display_data",
          "data": {
            "text/html": [
              "<span style=\"color:cyan\"> |-Best step: 0</span>"
            ],
            "text/plain": [
              "<IPython.core.display.HTML object>"
            ]
          },
          "metadata": {
            "tags": []
          }
        },
        {
          "output_type": "stream",
          "text": [
            "Epoch 1/50\n",
            "22/22 [==============================] - 2s 106ms/step - loss: 0.4444 - accuracy: 0.7737 - val_loss: 0.0000e+00 - val_accuracy: 0.0000e+00\n",
            "Epoch 2/50\n",
            "22/22 [==============================] - 2s 69ms/step - loss: 0.0406 - accuracy: 0.9926 - val_loss: 0.5886 - val_accuracy: 0.7976\n",
            "Epoch 3/50\n",
            "22/22 [==============================] - 1s 68ms/step - loss: 0.0151 - accuracy: 1.0000 - val_loss: 0.5699 - val_accuracy: 0.8214\n",
            "Epoch 4/50\n",
            "22/22 [==============================] - 1s 68ms/step - loss: 0.0081 - accuracy: 1.0000 - val_loss: 0.5523 - val_accuracy: 0.8333\n",
            "Epoch 5/50\n",
            "22/22 [==============================] - 1s 67ms/step - loss: 0.0057 - accuracy: 1.0000 - val_loss: 0.5343 - val_accuracy: 0.8571\n",
            "Epoch 6/50\n",
            "22/22 [==============================] - 1s 66ms/step - loss: 0.0043 - accuracy: 1.0000 - val_loss: 0.5152 - val_accuracy: 0.8750\n",
            "Epoch 7/50\n",
            "22/22 [==============================] - 2s 71ms/step - loss: 0.0033 - accuracy: 1.0000 - val_loss: 0.4952 - val_accuracy: 0.8929\n",
            "Epoch 8/50\n",
            "22/22 [==============================] - 2s 69ms/step - loss: 0.0029 - accuracy: 1.0000 - val_loss: 0.4741 - val_accuracy: 0.8988\n",
            "Epoch 9/50\n",
            "22/22 [==============================] - 2s 69ms/step - loss: 0.0022 - accuracy: 1.0000 - val_loss: 0.4521 - val_accuracy: 0.8988\n",
            "Epoch 10/50\n",
            "22/22 [==============================] - 1s 67ms/step - loss: 0.0020 - accuracy: 1.0000 - val_loss: 0.4292 - val_accuracy: 0.9167\n",
            "Epoch 11/50\n",
            "22/22 [==============================] - 1s 66ms/step - loss: 0.0016 - accuracy: 1.0000 - val_loss: 0.4057 - val_accuracy: 0.9167\n",
            "Epoch 12/50\n",
            "22/22 [==============================] - 1s 66ms/step - loss: 0.0014 - accuracy: 1.0000 - val_loss: 0.3816 - val_accuracy: 0.9167\n",
            "Epoch 13/50\n",
            "22/22 [==============================] - 2s 69ms/step - loss: 0.0013 - accuracy: 1.0000 - val_loss: 0.3572 - val_accuracy: 0.9167\n",
            "Epoch 14/50\n",
            "22/22 [==============================] - 1s 67ms/step - loss: 0.0011 - accuracy: 1.0000 - val_loss: 0.3330 - val_accuracy: 0.9167\n",
            "Epoch 15/50\n",
            "22/22 [==============================] - 2s 68ms/step - loss: 0.0010 - accuracy: 1.0000 - val_loss: 0.3095 - val_accuracy: 0.9167\n",
            "Epoch 16/50\n",
            "22/22 [==============================] - 1s 68ms/step - loss: 9.2174e-04 - accuracy: 1.0000 - val_loss: 0.2871 - val_accuracy: 0.9167\n",
            "Epoch 17/50\n",
            "22/22 [==============================] - 1s 63ms/step - loss: 8.0151e-04 - accuracy: 1.0000 - val_loss: 0.2658 - val_accuracy: 0.9167\n",
            "Epoch 18/50\n",
            "22/22 [==============================] - 1s 66ms/step - loss: 7.1058e-04 - accuracy: 1.0000 - val_loss: 0.2464 - val_accuracy: 0.9167\n",
            "Epoch 19/50\n",
            "22/22 [==============================] - 1s 68ms/step - loss: 6.3311e-04 - accuracy: 1.0000 - val_loss: 0.2290 - val_accuracy: 0.9286\n",
            "Epoch 20/50\n",
            "22/22 [==============================] - 1s 67ms/step - loss: 6.1104e-04 - accuracy: 1.0000 - val_loss: 0.2137 - val_accuracy: 0.9286\n",
            "Epoch 21/50\n",
            "22/22 [==============================] - 1s 67ms/step - loss: 5.5798e-04 - accuracy: 1.0000 - val_loss: 0.2009 - val_accuracy: 0.9286\n",
            "Epoch 22/50\n",
            "22/22 [==============================] - 1s 67ms/step - loss: 5.1105e-04 - accuracy: 1.0000 - val_loss: 0.1905 - val_accuracy: 0.9286\n",
            "Epoch 23/50\n",
            "22/22 [==============================] - 1s 67ms/step - loss: 5.0874e-04 - accuracy: 1.0000 - val_loss: 0.1823 - val_accuracy: 0.9286\n",
            "Epoch 24/50\n",
            "22/22 [==============================] - 2s 69ms/step - loss: 4.3513e-04 - accuracy: 1.0000 - val_loss: 0.1763 - val_accuracy: 0.9345\n",
            "Epoch 25/50\n",
            "22/22 [==============================] - 1s 67ms/step - loss: 4.1191e-04 - accuracy: 1.0000 - val_loss: 0.1721 - val_accuracy: 0.9345\n",
            "Epoch 26/50\n",
            "22/22 [==============================] - 1s 65ms/step - loss: 3.6939e-04 - accuracy: 1.0000 - val_loss: 0.1697 - val_accuracy: 0.9405\n",
            "Epoch 27/50\n",
            "22/22 [==============================] - 1s 67ms/step - loss: 3.6669e-04 - accuracy: 1.0000 - val_loss: 0.1684 - val_accuracy: 0.9405\n",
            "Epoch 28/50\n",
            "22/22 [==============================] - 1s 64ms/step - loss: 3.4803e-04 - accuracy: 1.0000 - val_loss: 0.1681 - val_accuracy: 0.9405\n",
            "Epoch 29/50\n",
            "22/22 [==============================] - 1s 66ms/step - loss: 3.2228e-04 - accuracy: 1.0000 - val_loss: 0.1687 - val_accuracy: 0.9405\n",
            "Epoch 30/50\n",
            "22/22 [==============================] - 1s 67ms/step - loss: 3.2091e-04 - accuracy: 1.0000 - val_loss: 0.1698 - val_accuracy: 0.9405\n",
            "Epoch 31/50\n",
            "22/22 [==============================] - 1s 65ms/step - loss: 2.8073e-04 - accuracy: 1.0000 - val_loss: 0.1710 - val_accuracy: 0.9405\n",
            "Epoch 32/50\n",
            "22/22 [==============================] - 1s 67ms/step - loss: 2.9279e-04 - accuracy: 1.0000 - val_loss: 0.1724 - val_accuracy: 0.9405\n",
            "Epoch 33/50\n",
            "22/22 [==============================] - 1s 65ms/step - loss: 2.5611e-04 - accuracy: 1.0000 - val_loss: 0.1736 - val_accuracy: 0.9405\n",
            "Epoch 34/50\n",
            "22/22 [==============================] - 1s 64ms/step - loss: 2.4628e-04 - accuracy: 1.0000 - val_loss: 0.1750 - val_accuracy: 0.9405\n",
            "Epoch 35/50\n",
            "22/22 [==============================] - 1s 68ms/step - loss: 2.3791e-04 - accuracy: 1.0000 - val_loss: 0.1762 - val_accuracy: 0.9405\n",
            "Epoch 36/50\n",
            "22/22 [==============================] - 1s 64ms/step - loss: 2.1926e-04 - accuracy: 1.0000 - val_loss: 0.1777 - val_accuracy: 0.9405\n",
            "Epoch 37/50\n",
            "22/22 [==============================] - 1s 63ms/step - loss: 2.1178e-04 - accuracy: 1.0000 - val_loss: 0.1790 - val_accuracy: 0.9405\n",
            "Epoch 38/50\n",
            "22/22 [==============================] - 1s 64ms/step - loss: 1.9935e-04 - accuracy: 1.0000 - val_loss: 0.1802 - val_accuracy: 0.9405\n"
          ],
          "name": "stdout"
        },
        {
          "output_type": "display_data",
          "data": {
            "text/html": [
              "<span style=\"color:#4527A0\"><h1 style=\"font-size:18px\">Trial complete</h1></span>"
            ],
            "text/plain": [
              "<IPython.core.display.HTML object>"
            ]
          },
          "metadata": {
            "tags": []
          }
        },
        {
          "output_type": "display_data",
          "data": {
            "text/html": [
              "<span style=\"color:#4527A0\"><h1 style=\"font-size:18px\">Trial summary</h1></span>"
            ],
            "text/plain": [
              "<IPython.core.display.HTML object>"
            ]
          },
          "metadata": {
            "tags": []
          }
        },
        {
          "output_type": "display_data",
          "data": {
            "text/html": [
              "<span style=\"color:#7E57C2\"><h2 style=\"font-size:16px\">Hp values:</h2></span>"
            ],
            "text/plain": [
              "<IPython.core.display.HTML object>"
            ]
          },
          "metadata": {
            "tags": []
          }
        },
        {
          "output_type": "display_data",
          "data": {
            "text/html": [
              "<span style=\"color:cyan\"> |-dense_block_1/dropout_rate: 0.25</span>"
            ],
            "text/plain": [
              "<IPython.core.display.HTML object>"
            ]
          },
          "metadata": {
            "tags": []
          }
        },
        {
          "output_type": "display_data",
          "data": {
            "text/html": [
              "<span style=\"color:blue\"> |-dense_block_1/num_layers: 1</span>"
            ],
            "text/plain": [
              "<IPython.core.display.HTML object>"
            ]
          },
          "metadata": {
            "tags": []
          }
        },
        {
          "output_type": "display_data",
          "data": {
            "text/html": [
              "<span style=\"color:cyan\"> |-dense_block_1/units_0: 512</span>"
            ],
            "text/plain": [
              "<IPython.core.display.HTML object>"
            ]
          },
          "metadata": {
            "tags": []
          }
        },
        {
          "output_type": "display_data",
          "data": {
            "text/html": [
              "<span style=\"color:blue\"> |-dense_block_1/units_1: 256</span>"
            ],
            "text/plain": [
              "<IPython.core.display.HTML object>"
            ]
          },
          "metadata": {
            "tags": []
          }
        },
        {
          "output_type": "display_data",
          "data": {
            "text/html": [
              "<span style=\"color:cyan\"> |-dense_block_1/units_2: 128</span>"
            ],
            "text/plain": [
              "<IPython.core.display.HTML object>"
            ]
          },
          "metadata": {
            "tags": []
          }
        },
        {
          "output_type": "display_data",
          "data": {
            "text/html": [
              "<span style=\"color:blue\"> |-dense_block_1/use_batchnorm: True</span>"
            ],
            "text/plain": [
              "<IPython.core.display.HTML object>"
            ]
          },
          "metadata": {
            "tags": []
          }
        },
        {
          "output_type": "display_data",
          "data": {
            "text/html": [
              "<span style=\"color:cyan\"> |-optimizer: adam</span>"
            ],
            "text/plain": [
              "<IPython.core.display.HTML object>"
            ]
          },
          "metadata": {
            "tags": []
          }
        },
        {
          "output_type": "display_data",
          "data": {
            "text/html": [
              "<span style=\"color:cyan\"> |-Score: 0.16808601220448813</span>"
            ],
            "text/plain": [
              "<IPython.core.display.HTML object>"
            ]
          },
          "metadata": {
            "tags": []
          }
        },
        {
          "output_type": "display_data",
          "data": {
            "text/html": [
              "<span style=\"color:cyan\"> |-Best step: 0</span>"
            ],
            "text/plain": [
              "<IPython.core.display.HTML object>"
            ]
          },
          "metadata": {
            "tags": []
          }
        },
        {
          "output_type": "stream",
          "text": [
            "Epoch 1/50\n",
            "22/22 [==============================] - 2s 84ms/step - loss: 0.6797 - accuracy: 0.6198 - val_loss: 0.0000e+00 - val_accuracy: 0.0000e+00\n",
            "Epoch 2/50\n",
            "22/22 [==============================] - 1s 57ms/step - loss: 0.6339 - accuracy: 0.6672 - val_loss: 0.6157 - val_accuracy: 0.6488\n",
            "Epoch 3/50\n",
            "22/22 [==============================] - 1s 55ms/step - loss: 0.5731 - accuracy: 0.7441 - val_loss: 0.5514 - val_accuracy: 0.7738\n",
            "Epoch 4/50\n",
            "22/22 [==============================] - 1s 56ms/step - loss: 0.4898 - accuracy: 0.8920 - val_loss: 0.4766 - val_accuracy: 0.8869\n",
            "Epoch 5/50\n",
            "22/22 [==============================] - 1s 56ms/step - loss: 0.4002 - accuracy: 0.9527 - val_loss: 0.4029 - val_accuracy: 0.9167\n",
            "Epoch 6/50\n",
            "22/22 [==============================] - 1s 63ms/step - loss: 0.3227 - accuracy: 0.9645 - val_loss: 0.3405 - val_accuracy: 0.9286\n",
            "Epoch 7/50\n",
            "22/22 [==============================] - 1s 57ms/step - loss: 0.2562 - accuracy: 0.9837 - val_loss: 0.2919 - val_accuracy: 0.9464\n",
            "Epoch 8/50\n",
            "22/22 [==============================] - 1s 58ms/step - loss: 0.2069 - accuracy: 0.9882 - val_loss: 0.2559 - val_accuracy: 0.9464\n",
            "Epoch 9/50\n",
            "22/22 [==============================] - 1s 55ms/step - loss: 0.1718 - accuracy: 0.9882 - val_loss: 0.2292 - val_accuracy: 0.9464\n",
            "Epoch 10/50\n",
            "22/22 [==============================] - 1s 55ms/step - loss: 0.1446 - accuracy: 0.9896 - val_loss: 0.2093 - val_accuracy: 0.9524\n",
            "Epoch 11/50\n",
            "22/22 [==============================] - 1s 56ms/step - loss: 0.1190 - accuracy: 0.9896 - val_loss: 0.1950 - val_accuracy: 0.9524\n",
            "Epoch 12/50\n",
            "22/22 [==============================] - 1s 56ms/step - loss: 0.1054 - accuracy: 0.9867 - val_loss: 0.1839 - val_accuracy: 0.9524\n",
            "Epoch 13/50\n",
            "22/22 [==============================] - 1s 54ms/step - loss: 0.0870 - accuracy: 0.9956 - val_loss: 0.1755 - val_accuracy: 0.9524\n",
            "Epoch 14/50\n",
            "22/22 [==============================] - 1s 57ms/step - loss: 0.0783 - accuracy: 0.9941 - val_loss: 0.1682 - val_accuracy: 0.9583\n",
            "Epoch 15/50\n",
            "22/22 [==============================] - 1s 55ms/step - loss: 0.0656 - accuracy: 0.9970 - val_loss: 0.1631 - val_accuracy: 0.9583\n",
            "Epoch 16/50\n",
            "22/22 [==============================] - 1s 55ms/step - loss: 0.0570 - accuracy: 0.9970 - val_loss: 0.1591 - val_accuracy: 0.9583\n",
            "Epoch 17/50\n",
            "22/22 [==============================] - 1s 57ms/step - loss: 0.0524 - accuracy: 0.9985 - val_loss: 0.1561 - val_accuracy: 0.9583\n",
            "Epoch 18/50\n",
            "22/22 [==============================] - 1s 56ms/step - loss: 0.0491 - accuracy: 0.9970 - val_loss: 0.1530 - val_accuracy: 0.9583\n",
            "Epoch 19/50\n",
            "22/22 [==============================] - 1s 57ms/step - loss: 0.0409 - accuracy: 0.9985 - val_loss: 0.1500 - val_accuracy: 0.9583\n",
            "Epoch 20/50\n",
            "22/22 [==============================] - 1s 56ms/step - loss: 0.0389 - accuracy: 0.9970 - val_loss: 0.1487 - val_accuracy: 0.9524\n",
            "Epoch 21/50\n",
            "22/22 [==============================] - 1s 55ms/step - loss: 0.0328 - accuracy: 1.0000 - val_loss: 0.1475 - val_accuracy: 0.9524\n",
            "Epoch 22/50\n",
            "22/22 [==============================] - 1s 53ms/step - loss: 0.0306 - accuracy: 0.9985 - val_loss: 0.1462 - val_accuracy: 0.9524\n",
            "Epoch 23/50\n",
            "22/22 [==============================] - 1s 56ms/step - loss: 0.0297 - accuracy: 0.9956 - val_loss: 0.1456 - val_accuracy: 0.9524\n",
            "Epoch 24/50\n",
            "22/22 [==============================] - 1s 57ms/step - loss: 0.0255 - accuracy: 1.0000 - val_loss: 0.1452 - val_accuracy: 0.9524\n",
            "Epoch 25/50\n",
            "22/22 [==============================] - 1s 56ms/step - loss: 0.0252 - accuracy: 0.9985 - val_loss: 0.1453 - val_accuracy: 0.9524\n",
            "Epoch 26/50\n",
            "22/22 [==============================] - 1s 56ms/step - loss: 0.0215 - accuracy: 1.0000 - val_loss: 0.1452 - val_accuracy: 0.9524\n",
            "Epoch 27/50\n",
            "22/22 [==============================] - 1s 55ms/step - loss: 0.0204 - accuracy: 1.0000 - val_loss: 0.1446 - val_accuracy: 0.9524\n",
            "Epoch 28/50\n",
            "22/22 [==============================] - 1s 56ms/step - loss: 0.0181 - accuracy: 0.9985 - val_loss: 0.1449 - val_accuracy: 0.9524\n",
            "Epoch 29/50\n",
            "22/22 [==============================] - 1s 57ms/step - loss: 0.0197 - accuracy: 1.0000 - val_loss: 0.1457 - val_accuracy: 0.9524\n",
            "Epoch 30/50\n",
            "22/22 [==============================] - 1s 57ms/step - loss: 0.0158 - accuracy: 1.0000 - val_loss: 0.1459 - val_accuracy: 0.9524\n",
            "Epoch 31/50\n",
            "22/22 [==============================] - 1s 60ms/step - loss: 0.0147 - accuracy: 1.0000 - val_loss: 0.1450 - val_accuracy: 0.9524\n",
            "Epoch 32/50\n",
            "22/22 [==============================] - 1s 57ms/step - loss: 0.0132 - accuracy: 1.0000 - val_loss: 0.1459 - val_accuracy: 0.9524\n",
            "Epoch 33/50\n",
            "22/22 [==============================] - 1s 57ms/step - loss: 0.0149 - accuracy: 0.9985 - val_loss: 0.1455 - val_accuracy: 0.9524\n",
            "Epoch 34/50\n",
            "22/22 [==============================] - 1s 59ms/step - loss: 0.0118 - accuracy: 1.0000 - val_loss: 0.1456 - val_accuracy: 0.9524\n",
            "Epoch 35/50\n",
            "22/22 [==============================] - 1s 55ms/step - loss: 0.0138 - accuracy: 1.0000 - val_loss: 0.1462 - val_accuracy: 0.9524\n",
            "Epoch 36/50\n",
            "22/22 [==============================] - 1s 58ms/step - loss: 0.0107 - accuracy: 1.0000 - val_loss: 0.1472 - val_accuracy: 0.9524\n",
            "Epoch 37/50\n",
            "22/22 [==============================] - 1s 55ms/step - loss: 0.0104 - accuracy: 1.0000 - val_loss: 0.1482 - val_accuracy: 0.9524\n"
          ],
          "name": "stdout"
        },
        {
          "output_type": "display_data",
          "data": {
            "text/html": [
              "<span style=\"color:#4527A0\"><h1 style=\"font-size:18px\">Trial complete</h1></span>"
            ],
            "text/plain": [
              "<IPython.core.display.HTML object>"
            ]
          },
          "metadata": {
            "tags": []
          }
        },
        {
          "output_type": "display_data",
          "data": {
            "text/html": [
              "<span style=\"color:#4527A0\"><h1 style=\"font-size:18px\">Trial summary</h1></span>"
            ],
            "text/plain": [
              "<IPython.core.display.HTML object>"
            ]
          },
          "metadata": {
            "tags": []
          }
        },
        {
          "output_type": "display_data",
          "data": {
            "text/html": [
              "<span style=\"color:#7E57C2\"><h2 style=\"font-size:16px\">Hp values:</h2></span>"
            ],
            "text/plain": [
              "<IPython.core.display.HTML object>"
            ]
          },
          "metadata": {
            "tags": []
          }
        },
        {
          "output_type": "display_data",
          "data": {
            "text/html": [
              "<span style=\"color:cyan\"> |-dense_block_1/dropout_rate: 0.5</span>"
            ],
            "text/plain": [
              "<IPython.core.display.HTML object>"
            ]
          },
          "metadata": {
            "tags": []
          }
        },
        {
          "output_type": "display_data",
          "data": {
            "text/html": [
              "<span style=\"color:blue\"> |-dense_block_1/num_layers: 1</span>"
            ],
            "text/plain": [
              "<IPython.core.display.HTML object>"
            ]
          },
          "metadata": {
            "tags": []
          }
        },
        {
          "output_type": "display_data",
          "data": {
            "text/html": [
              "<span style=\"color:cyan\"> |-dense_block_1/units_0: 64</span>"
            ],
            "text/plain": [
              "<IPython.core.display.HTML object>"
            ]
          },
          "metadata": {
            "tags": []
          }
        },
        {
          "output_type": "display_data",
          "data": {
            "text/html": [
              "<span style=\"color:blue\"> |-dense_block_1/units_1: 32</span>"
            ],
            "text/plain": [
              "<IPython.core.display.HTML object>"
            ]
          },
          "metadata": {
            "tags": []
          }
        },
        {
          "output_type": "display_data",
          "data": {
            "text/html": [
              "<span style=\"color:cyan\"> |-dense_block_1/units_2: 64</span>"
            ],
            "text/plain": [
              "<IPython.core.display.HTML object>"
            ]
          },
          "metadata": {
            "tags": []
          }
        },
        {
          "output_type": "display_data",
          "data": {
            "text/html": [
              "<span style=\"color:blue\"> |-dense_block_1/use_batchnorm: False</span>"
            ],
            "text/plain": [
              "<IPython.core.display.HTML object>"
            ]
          },
          "metadata": {
            "tags": []
          }
        },
        {
          "output_type": "display_data",
          "data": {
            "text/html": [
              "<span style=\"color:cyan\"> |-optimizer: adam</span>"
            ],
            "text/plain": [
              "<IPython.core.display.HTML object>"
            ]
          },
          "metadata": {
            "tags": []
          }
        },
        {
          "output_type": "display_data",
          "data": {
            "text/html": [
              "<span style=\"color:cyan\"> |-Score: 0.14458218278984228</span>"
            ],
            "text/plain": [
              "<IPython.core.display.HTML object>"
            ]
          },
          "metadata": {
            "tags": []
          }
        },
        {
          "output_type": "display_data",
          "data": {
            "text/html": [
              "<span style=\"color:cyan\"> |-Best step: 0</span>"
            ],
            "text/plain": [
              "<IPython.core.display.HTML object>"
            ]
          },
          "metadata": {
            "tags": []
          }
        },
        {
          "output_type": "stream",
          "text": [
            "Epoch 1/50\n",
            "22/22 [==============================] - 3s 128ms/step - loss: 0.7609 - accuracy: 0.5518 - val_loss: 0.0000e+00 - val_accuracy: 0.0000e+00\n",
            "Epoch 2/50\n",
            "22/22 [==============================] - 1s 61ms/step - loss: 0.7156 - accuracy: 0.5843 - val_loss: 0.6872 - val_accuracy: 0.6071\n",
            "Epoch 3/50\n",
            "22/22 [==============================] - 1s 63ms/step - loss: 0.5327 - accuracy: 0.7189 - val_loss: 0.6836 - val_accuracy: 0.8274\n",
            "Epoch 4/50\n",
            "22/22 [==============================] - 1s 58ms/step - loss: 0.3814 - accuracy: 0.8462 - val_loss: 0.6783 - val_accuracy: 0.6250\n",
            "Epoch 5/50\n",
            "22/22 [==============================] - 1s 54ms/step - loss: 0.3357 - accuracy: 0.8580 - val_loss: 0.6724 - val_accuracy: 0.5893\n",
            "Epoch 6/50\n",
            "22/22 [==============================] - 1s 59ms/step - loss: 0.2581 - accuracy: 0.8935 - val_loss: 0.6671 - val_accuracy: 0.5179\n",
            "Epoch 7/50\n",
            "22/22 [==============================] - 1s 55ms/step - loss: 0.1946 - accuracy: 0.9364 - val_loss: 0.6599 - val_accuracy: 0.5119\n",
            "Epoch 8/50\n",
            "22/22 [==============================] - 1s 58ms/step - loss: 0.1410 - accuracy: 0.9556 - val_loss: 0.6555 - val_accuracy: 0.4881\n",
            "Epoch 9/50\n",
            "22/22 [==============================] - 1s 54ms/step - loss: 0.1169 - accuracy: 0.9675 - val_loss: 0.6506 - val_accuracy: 0.4821\n",
            "Epoch 10/50\n",
            "22/22 [==============================] - 1s 60ms/step - loss: 0.1241 - accuracy: 0.9586 - val_loss: 0.6420 - val_accuracy: 0.4821\n",
            "Epoch 11/50\n",
            "22/22 [==============================] - 1s 56ms/step - loss: 0.0977 - accuracy: 0.9734 - val_loss: 0.6284 - val_accuracy: 0.5060\n",
            "Epoch 12/50\n",
            "22/22 [==============================] - 1s 55ms/step - loss: 0.0928 - accuracy: 0.9689 - val_loss: 0.6110 - val_accuracy: 0.5595\n",
            "Epoch 13/50\n",
            "22/22 [==============================] - 1s 56ms/step - loss: 0.0820 - accuracy: 0.9734 - val_loss: 0.5848 - val_accuracy: 0.6190\n",
            "Epoch 14/50\n",
            "22/22 [==============================] - 1s 56ms/step - loss: 0.0841 - accuracy: 0.9749 - val_loss: 0.5639 - val_accuracy: 0.6488\n",
            "Epoch 15/50\n",
            "22/22 [==============================] - 1s 60ms/step - loss: 0.0742 - accuracy: 0.9749 - val_loss: 0.5484 - val_accuracy: 0.6607\n",
            "Epoch 16/50\n",
            "22/22 [==============================] - 1s 57ms/step - loss: 0.0846 - accuracy: 0.9793 - val_loss: 0.5005 - val_accuracy: 0.7024\n",
            "Epoch 17/50\n",
            "22/22 [==============================] - 1s 59ms/step - loss: 0.0508 - accuracy: 0.9882 - val_loss: 0.4457 - val_accuracy: 0.7500\n",
            "Epoch 18/50\n",
            "22/22 [==============================] - 1s 64ms/step - loss: 0.0488 - accuracy: 0.9896 - val_loss: 0.4031 - val_accuracy: 0.7976\n",
            "Epoch 19/50\n",
            "22/22 [==============================] - 1s 61ms/step - loss: 0.0412 - accuracy: 0.9882 - val_loss: 0.3579 - val_accuracy: 0.8393\n",
            "Epoch 20/50\n",
            "22/22 [==============================] - 1s 64ms/step - loss: 0.0622 - accuracy: 0.9867 - val_loss: 0.3159 - val_accuracy: 0.8631\n",
            "Epoch 21/50\n",
            "22/22 [==============================] - 1s 64ms/step - loss: 0.0533 - accuracy: 0.9808 - val_loss: 0.2750 - val_accuracy: 0.8750\n",
            "Epoch 22/50\n",
            "22/22 [==============================] - 1s 63ms/step - loss: 0.0444 - accuracy: 0.9911 - val_loss: 0.2361 - val_accuracy: 0.8810\n",
            "Epoch 23/50\n",
            "22/22 [==============================] - 1s 65ms/step - loss: 0.0483 - accuracy: 0.9911 - val_loss: 0.2086 - val_accuracy: 0.8988\n",
            "Epoch 24/50\n",
            "22/22 [==============================] - 1s 62ms/step - loss: 0.0569 - accuracy: 0.9867 - val_loss: 0.1939 - val_accuracy: 0.9048\n",
            "Epoch 25/50\n",
            "22/22 [==============================] - 1s 58ms/step - loss: 0.0427 - accuracy: 0.9882 - val_loss: 0.1884 - val_accuracy: 0.9048\n",
            "Epoch 26/50\n",
            "22/22 [==============================] - 1s 57ms/step - loss: 0.0352 - accuracy: 0.9911 - val_loss: 0.1881 - val_accuracy: 0.9048\n",
            "Epoch 27/50\n",
            "22/22 [==============================] - 1s 56ms/step - loss: 0.0355 - accuracy: 0.9882 - val_loss: 0.1952 - val_accuracy: 0.9167\n",
            "Epoch 28/50\n",
            "22/22 [==============================] - 1s 58ms/step - loss: 0.0429 - accuracy: 0.9911 - val_loss: 0.2007 - val_accuracy: 0.9167\n",
            "Epoch 29/50\n",
            "22/22 [==============================] - 1s 54ms/step - loss: 0.0224 - accuracy: 0.9941 - val_loss: 0.2067 - val_accuracy: 0.9167\n",
            "Epoch 30/50\n",
            "22/22 [==============================] - 1s 54ms/step - loss: 0.0246 - accuracy: 0.9911 - val_loss: 0.2089 - val_accuracy: 0.9167\n",
            "Epoch 31/50\n",
            "22/22 [==============================] - 1s 59ms/step - loss: 0.0500 - accuracy: 0.9852 - val_loss: 0.2166 - val_accuracy: 0.9167\n",
            "Epoch 32/50\n",
            "22/22 [==============================] - 1s 60ms/step - loss: 0.0262 - accuracy: 0.9911 - val_loss: 0.2308 - val_accuracy: 0.9107\n",
            "Epoch 33/50\n",
            "22/22 [==============================] - 1s 56ms/step - loss: 0.0466 - accuracy: 0.9867 - val_loss: 0.2352 - val_accuracy: 0.9107\n",
            "Epoch 34/50\n",
            "22/22 [==============================] - 1s 54ms/step - loss: 0.0438 - accuracy: 0.9837 - val_loss: 0.2368 - val_accuracy: 0.9226\n",
            "Epoch 35/50\n",
            "22/22 [==============================] - 1s 55ms/step - loss: 0.0428 - accuracy: 0.9896 - val_loss: 0.2474 - val_accuracy: 0.9167\n",
            "Epoch 36/50\n",
            "22/22 [==============================] - 1s 58ms/step - loss: 0.0321 - accuracy: 0.9926 - val_loss: 0.2583 - val_accuracy: 0.9226\n"
          ],
          "name": "stdout"
        },
        {
          "output_type": "display_data",
          "data": {
            "text/html": [
              "<span style=\"color:#4527A0\"><h1 style=\"font-size:18px\">Trial complete</h1></span>"
            ],
            "text/plain": [
              "<IPython.core.display.HTML object>"
            ]
          },
          "metadata": {
            "tags": []
          }
        },
        {
          "output_type": "display_data",
          "data": {
            "text/html": [
              "<span style=\"color:#4527A0\"><h1 style=\"font-size:18px\">Trial summary</h1></span>"
            ],
            "text/plain": [
              "<IPython.core.display.HTML object>"
            ]
          },
          "metadata": {
            "tags": []
          }
        },
        {
          "output_type": "display_data",
          "data": {
            "text/html": [
              "<span style=\"color:#7E57C2\"><h2 style=\"font-size:16px\">Hp values:</h2></span>"
            ],
            "text/plain": [
              "<IPython.core.display.HTML object>"
            ]
          },
          "metadata": {
            "tags": []
          }
        },
        {
          "output_type": "display_data",
          "data": {
            "text/html": [
              "<span style=\"color:cyan\"> |-dense_block_1/dropout_rate: 0.5</span>"
            ],
            "text/plain": [
              "<IPython.core.display.HTML object>"
            ]
          },
          "metadata": {
            "tags": []
          }
        },
        {
          "output_type": "display_data",
          "data": {
            "text/html": [
              "<span style=\"color:blue\"> |-dense_block_1/num_layers: 2</span>"
            ],
            "text/plain": [
              "<IPython.core.display.HTML object>"
            ]
          },
          "metadata": {
            "tags": []
          }
        },
        {
          "output_type": "display_data",
          "data": {
            "text/html": [
              "<span style=\"color:cyan\"> |-dense_block_1/units_0: 16</span>"
            ],
            "text/plain": [
              "<IPython.core.display.HTML object>"
            ]
          },
          "metadata": {
            "tags": []
          }
        },
        {
          "output_type": "display_data",
          "data": {
            "text/html": [
              "<span style=\"color:blue\"> |-dense_block_1/units_1: 512</span>"
            ],
            "text/plain": [
              "<IPython.core.display.HTML object>"
            ]
          },
          "metadata": {
            "tags": []
          }
        },
        {
          "output_type": "display_data",
          "data": {
            "text/html": [
              "<span style=\"color:cyan\"> |-dense_block_1/units_2: 64</span>"
            ],
            "text/plain": [
              "<IPython.core.display.HTML object>"
            ]
          },
          "metadata": {
            "tags": []
          }
        },
        {
          "output_type": "display_data",
          "data": {
            "text/html": [
              "<span style=\"color:blue\"> |-dense_block_1/use_batchnorm: True</span>"
            ],
            "text/plain": [
              "<IPython.core.display.HTML object>"
            ]
          },
          "metadata": {
            "tags": []
          }
        },
        {
          "output_type": "display_data",
          "data": {
            "text/html": [
              "<span style=\"color:cyan\"> |-optimizer: adam</span>"
            ],
            "text/plain": [
              "<IPython.core.display.HTML object>"
            ]
          },
          "metadata": {
            "tags": []
          }
        },
        {
          "output_type": "display_data",
          "data": {
            "text/html": [
              "<span style=\"color:cyan\"> |-Score: 0.18812322213004032</span>"
            ],
            "text/plain": [
              "<IPython.core.display.HTML object>"
            ]
          },
          "metadata": {
            "tags": []
          }
        },
        {
          "output_type": "display_data",
          "data": {
            "text/html": [
              "<span style=\"color:cyan\"> |-Best step: 0</span>"
            ],
            "text/plain": [
              "<IPython.core.display.HTML object>"
            ]
          },
          "metadata": {
            "tags": []
          }
        },
        {
          "output_type": "stream",
          "text": [
            "Epoch 1/50\n",
            "22/22 [==============================] - 3s 122ms/step - loss: 0.6150 - accuracy: 0.6376 - val_loss: 0.0000e+00 - val_accuracy: 0.0000e+00\n",
            "Epoch 2/50\n",
            "22/22 [==============================] - 1s 56ms/step - loss: 0.2507 - accuracy: 0.9172 - val_loss: 0.6743 - val_accuracy: 0.6190\n",
            "Epoch 3/50\n",
            "22/22 [==============================] - 1s 57ms/step - loss: 0.0758 - accuracy: 0.9852 - val_loss: 0.6605 - val_accuracy: 0.6190\n",
            "Epoch 4/50\n",
            "22/22 [==============================] - 1s 58ms/step - loss: 0.0237 - accuracy: 0.9985 - val_loss: 0.6474 - val_accuracy: 0.6131\n",
            "Epoch 5/50\n",
            "22/22 [==============================] - 1s 58ms/step - loss: 0.0096 - accuracy: 1.0000 - val_loss: 0.6350 - val_accuracy: 0.6131\n",
            "Epoch 6/50\n",
            "22/22 [==============================] - 1s 55ms/step - loss: 0.0057 - accuracy: 1.0000 - val_loss: 0.6224 - val_accuracy: 0.6250\n",
            "Epoch 7/50\n",
            "22/22 [==============================] - 1s 58ms/step - loss: 0.0039 - accuracy: 1.0000 - val_loss: 0.6091 - val_accuracy: 0.6310\n",
            "Epoch 8/50\n",
            "22/22 [==============================] - 1s 55ms/step - loss: 0.0029 - accuracy: 1.0000 - val_loss: 0.5950 - val_accuracy: 0.6310\n",
            "Epoch 9/50\n",
            "22/22 [==============================] - 1s 54ms/step - loss: 0.0023 - accuracy: 1.0000 - val_loss: 0.5797 - val_accuracy: 0.6607\n",
            "Epoch 10/50\n",
            "22/22 [==============================] - 1s 58ms/step - loss: 0.0018 - accuracy: 1.0000 - val_loss: 0.5630 - val_accuracy: 0.6726\n",
            "Epoch 11/50\n",
            "22/22 [==============================] - 1s 56ms/step - loss: 0.0015 - accuracy: 1.0000 - val_loss: 0.5447 - val_accuracy: 0.6845\n",
            "Epoch 12/50\n",
            "22/22 [==============================] - 1s 55ms/step - loss: 0.0013 - accuracy: 1.0000 - val_loss: 0.5246 - val_accuracy: 0.6905\n",
            "Epoch 13/50\n",
            "22/22 [==============================] - 1s 57ms/step - loss: 0.0011 - accuracy: 1.0000 - val_loss: 0.5030 - val_accuracy: 0.7321\n",
            "Epoch 14/50\n",
            "22/22 [==============================] - 1s 55ms/step - loss: 9.6768e-04 - accuracy: 1.0000 - val_loss: 0.4802 - val_accuracy: 0.7619\n",
            "Epoch 15/50\n",
            "22/22 [==============================] - 1s 55ms/step - loss: 8.5239e-04 - accuracy: 1.0000 - val_loss: 0.4566 - val_accuracy: 0.7857\n",
            "Epoch 16/50\n",
            "22/22 [==============================] - 1s 57ms/step - loss: 7.5817e-04 - accuracy: 1.0000 - val_loss: 0.4333 - val_accuracy: 0.7857\n",
            "Epoch 17/50\n",
            "22/22 [==============================] - 1s 56ms/step - loss: 6.7969e-04 - accuracy: 1.0000 - val_loss: 0.4111 - val_accuracy: 0.8036\n",
            "Epoch 18/50\n",
            "22/22 [==============================] - 1s 56ms/step - loss: 6.1348e-04 - accuracy: 1.0000 - val_loss: 0.3912 - val_accuracy: 0.7976\n",
            "Epoch 19/50\n",
            "22/22 [==============================] - 1s 60ms/step - loss: 5.5722e-04 - accuracy: 1.0000 - val_loss: 0.3741 - val_accuracy: 0.7857\n",
            "Epoch 20/50\n",
            "22/22 [==============================] - 1s 57ms/step - loss: 5.0874e-04 - accuracy: 1.0000 - val_loss: 0.3607 - val_accuracy: 0.7857\n",
            "Epoch 21/50\n",
            "22/22 [==============================] - 1s 59ms/step - loss: 4.6673e-04 - accuracy: 1.0000 - val_loss: 0.3517 - val_accuracy: 0.7976\n",
            "Epoch 22/50\n",
            "22/22 [==============================] - 1s 56ms/step - loss: 4.2984e-04 - accuracy: 1.0000 - val_loss: 0.3471 - val_accuracy: 0.8155\n",
            "Epoch 23/50\n",
            "22/22 [==============================] - 1s 58ms/step - loss: 3.9720e-04 - accuracy: 1.0000 - val_loss: 0.3468 - val_accuracy: 0.8274\n",
            "Epoch 24/50\n",
            "22/22 [==============================] - 1s 58ms/step - loss: 3.6838e-04 - accuracy: 1.0000 - val_loss: 0.3499 - val_accuracy: 0.8274\n",
            "Epoch 25/50\n",
            "22/22 [==============================] - 1s 56ms/step - loss: 3.4277e-04 - accuracy: 1.0000 - val_loss: 0.3558 - val_accuracy: 0.8274\n",
            "Epoch 26/50\n",
            "22/22 [==============================] - 1s 56ms/step - loss: 3.1994e-04 - accuracy: 1.0000 - val_loss: 0.3639 - val_accuracy: 0.8333\n",
            "Epoch 27/50\n",
            "22/22 [==============================] - 1s 55ms/step - loss: 2.9945e-04 - accuracy: 1.0000 - val_loss: 0.3735 - val_accuracy: 0.8333\n",
            "Epoch 28/50\n",
            "22/22 [==============================] - 1s 58ms/step - loss: 2.8092e-04 - accuracy: 1.0000 - val_loss: 0.3838 - val_accuracy: 0.8393\n",
            "Epoch 29/50\n",
            "22/22 [==============================] - 1s 56ms/step - loss: 2.6411e-04 - accuracy: 1.0000 - val_loss: 0.3942 - val_accuracy: 0.8393\n",
            "Epoch 30/50\n",
            "22/22 [==============================] - 1s 54ms/step - loss: 2.4883e-04 - accuracy: 1.0000 - val_loss: 0.4046 - val_accuracy: 0.8393\n",
            "Epoch 31/50\n",
            "22/22 [==============================] - 1s 53ms/step - loss: 2.3490e-04 - accuracy: 1.0000 - val_loss: 0.4144 - val_accuracy: 0.8333\n",
            "Epoch 32/50\n",
            "22/22 [==============================] - 1s 55ms/step - loss: 2.2218e-04 - accuracy: 1.0000 - val_loss: 0.4235 - val_accuracy: 0.8393\n",
            "Epoch 33/50\n",
            "22/22 [==============================] - 1s 57ms/step - loss: 2.1052e-04 - accuracy: 1.0000 - val_loss: 0.4318 - val_accuracy: 0.8393\n"
          ],
          "name": "stdout"
        },
        {
          "output_type": "display_data",
          "data": {
            "text/html": [
              "<span style=\"color:#4527A0\"><h1 style=\"font-size:18px\">Trial complete</h1></span>"
            ],
            "text/plain": [
              "<IPython.core.display.HTML object>"
            ]
          },
          "metadata": {
            "tags": []
          }
        },
        {
          "output_type": "display_data",
          "data": {
            "text/html": [
              "<span style=\"color:#4527A0\"><h1 style=\"font-size:18px\">Trial summary</h1></span>"
            ],
            "text/plain": [
              "<IPython.core.display.HTML object>"
            ]
          },
          "metadata": {
            "tags": []
          }
        },
        {
          "output_type": "display_data",
          "data": {
            "text/html": [
              "<span style=\"color:#7E57C2\"><h2 style=\"font-size:16px\">Hp values:</h2></span>"
            ],
            "text/plain": [
              "<IPython.core.display.HTML object>"
            ]
          },
          "metadata": {
            "tags": []
          }
        },
        {
          "output_type": "display_data",
          "data": {
            "text/html": [
              "<span style=\"color:cyan\"> |-dense_block_1/dropout_rate: 0.0</span>"
            ],
            "text/plain": [
              "<IPython.core.display.HTML object>"
            ]
          },
          "metadata": {
            "tags": []
          }
        },
        {
          "output_type": "display_data",
          "data": {
            "text/html": [
              "<span style=\"color:blue\"> |-dense_block_1/num_layers: 2</span>"
            ],
            "text/plain": [
              "<IPython.core.display.HTML object>"
            ]
          },
          "metadata": {
            "tags": []
          }
        },
        {
          "output_type": "display_data",
          "data": {
            "text/html": [
              "<span style=\"color:cyan\"> |-dense_block_1/units_0: 16</span>"
            ],
            "text/plain": [
              "<IPython.core.display.HTML object>"
            ]
          },
          "metadata": {
            "tags": []
          }
        },
        {
          "output_type": "display_data",
          "data": {
            "text/html": [
              "<span style=\"color:blue\"> |-dense_block_1/units_1: 512</span>"
            ],
            "text/plain": [
              "<IPython.core.display.HTML object>"
            ]
          },
          "metadata": {
            "tags": []
          }
        },
        {
          "output_type": "display_data",
          "data": {
            "text/html": [
              "<span style=\"color:cyan\"> |-dense_block_1/units_2: 32</span>"
            ],
            "text/plain": [
              "<IPython.core.display.HTML object>"
            ]
          },
          "metadata": {
            "tags": []
          }
        },
        {
          "output_type": "display_data",
          "data": {
            "text/html": [
              "<span style=\"color:blue\"> |-dense_block_1/use_batchnorm: True</span>"
            ],
            "text/plain": [
              "<IPython.core.display.HTML object>"
            ]
          },
          "metadata": {
            "tags": []
          }
        },
        {
          "output_type": "display_data",
          "data": {
            "text/html": [
              "<span style=\"color:cyan\"> |-optimizer: adam</span>"
            ],
            "text/plain": [
              "<IPython.core.display.HTML object>"
            ]
          },
          "metadata": {
            "tags": []
          }
        },
        {
          "output_type": "display_data",
          "data": {
            "text/html": [
              "<span style=\"color:cyan\"> |-Score: 0.346799577275912</span>"
            ],
            "text/plain": [
              "<IPython.core.display.HTML object>"
            ]
          },
          "metadata": {
            "tags": []
          }
        },
        {
          "output_type": "display_data",
          "data": {
            "text/html": [
              "<span style=\"color:cyan\"> |-Best step: 0</span>"
            ],
            "text/plain": [
              "<IPython.core.display.HTML object>"
            ]
          },
          "metadata": {
            "tags": []
          }
        },
        {
          "output_type": "stream",
          "text": [
            "Epoch 1/50\n",
            "22/22 [==============================] - 3s 143ms/step - loss: 0.8057 - accuracy: 0.5311 - val_loss: 0.0000e+00 - val_accuracy: 0.0000e+00\n",
            "Epoch 2/50\n",
            "22/22 [==============================] - 1s 61ms/step - loss: 0.7079 - accuracy: 0.6154 - val_loss: 0.6781 - val_accuracy: 0.6071\n",
            "Epoch 3/50\n",
            "22/22 [==============================] - 1s 61ms/step - loss: 0.5795 - accuracy: 0.6849 - val_loss: 0.6708 - val_accuracy: 0.6071\n",
            "Epoch 4/50\n",
            "22/22 [==============================] - 1s 58ms/step - loss: 0.4580 - accuracy: 0.7722 - val_loss: 0.6578 - val_accuracy: 0.6190\n",
            "Epoch 5/50\n",
            "22/22 [==============================] - 1s 57ms/step - loss: 0.3172 - accuracy: 0.8565 - val_loss: 0.6426 - val_accuracy: 0.8393\n",
            "Epoch 6/50\n",
            "22/22 [==============================] - 1s 62ms/step - loss: 0.2661 - accuracy: 0.8846 - val_loss: 0.6221 - val_accuracy: 0.9107\n",
            "Epoch 7/50\n",
            "22/22 [==============================] - 1s 61ms/step - loss: 0.1741 - accuracy: 0.9320 - val_loss: 0.5998 - val_accuracy: 0.9107\n",
            "Epoch 8/50\n",
            "22/22 [==============================] - 1s 61ms/step - loss: 0.1732 - accuracy: 0.9201 - val_loss: 0.5789 - val_accuracy: 0.8810\n",
            "Epoch 9/50\n",
            "22/22 [==============================] - 1s 60ms/step - loss: 0.1186 - accuracy: 0.9689 - val_loss: 0.5449 - val_accuracy: 0.8810\n",
            "Epoch 10/50\n",
            "22/22 [==============================] - 1s 62ms/step - loss: 0.1089 - accuracy: 0.9630 - val_loss: 0.5196 - val_accuracy: 0.8690\n",
            "Epoch 11/50\n",
            "22/22 [==============================] - 1s 62ms/step - loss: 0.0983 - accuracy: 0.9645 - val_loss: 0.5056 - val_accuracy: 0.8274\n",
            "Epoch 12/50\n",
            "22/22 [==============================] - 1s 59ms/step - loss: 0.0778 - accuracy: 0.9734 - val_loss: 0.4761 - val_accuracy: 0.8214\n",
            "Epoch 13/50\n",
            "22/22 [==============================] - 1s 60ms/step - loss: 0.0659 - accuracy: 0.9867 - val_loss: 0.4564 - val_accuracy: 0.8274\n",
            "Epoch 14/50\n",
            "22/22 [==============================] - 1s 63ms/step - loss: 0.0553 - accuracy: 0.9837 - val_loss: 0.4171 - val_accuracy: 0.8452\n",
            "Epoch 15/50\n",
            "22/22 [==============================] - 1s 60ms/step - loss: 0.0631 - accuracy: 0.9778 - val_loss: 0.3693 - val_accuracy: 0.8690\n",
            "Epoch 16/50\n",
            "22/22 [==============================] - 1s 57ms/step - loss: 0.0424 - accuracy: 0.9882 - val_loss: 0.3320 - val_accuracy: 0.8750\n",
            "Epoch 17/50\n",
            "22/22 [==============================] - 1s 58ms/step - loss: 0.0372 - accuracy: 0.9896 - val_loss: 0.2903 - val_accuracy: 0.8929\n",
            "Epoch 18/50\n",
            "22/22 [==============================] - 1s 59ms/step - loss: 0.0431 - accuracy: 0.9837 - val_loss: 0.2592 - val_accuracy: 0.9048\n",
            "Epoch 19/50\n",
            "22/22 [==============================] - 1s 59ms/step - loss: 0.0209 - accuracy: 0.9956 - val_loss: 0.2324 - val_accuracy: 0.9167\n",
            "Epoch 20/50\n",
            "22/22 [==============================] - 1s 57ms/step - loss: 0.0347 - accuracy: 0.9882 - val_loss: 0.2074 - val_accuracy: 0.9226\n",
            "Epoch 21/50\n",
            "22/22 [==============================] - 1s 60ms/step - loss: 0.0336 - accuracy: 0.9896 - val_loss: 0.1904 - val_accuracy: 0.9405\n",
            "Epoch 22/50\n",
            "22/22 [==============================] - 1s 58ms/step - loss: 0.0380 - accuracy: 0.9837 - val_loss: 0.1845 - val_accuracy: 0.9345\n",
            "Epoch 23/50\n",
            "22/22 [==============================] - 1s 58ms/step - loss: 0.0308 - accuracy: 0.9911 - val_loss: 0.1719 - val_accuracy: 0.9345\n",
            "Epoch 24/50\n",
            "22/22 [==============================] - 1s 61ms/step - loss: 0.0394 - accuracy: 0.9896 - val_loss: 0.1686 - val_accuracy: 0.9345\n",
            "Epoch 25/50\n",
            "22/22 [==============================] - 1s 60ms/step - loss: 0.0275 - accuracy: 0.9911 - val_loss: 0.1635 - val_accuracy: 0.9464\n",
            "Epoch 26/50\n",
            "22/22 [==============================] - 1s 59ms/step - loss: 0.0353 - accuracy: 0.9882 - val_loss: 0.1602 - val_accuracy: 0.9524\n",
            "Epoch 27/50\n",
            "22/22 [==============================] - 1s 63ms/step - loss: 0.0248 - accuracy: 0.9926 - val_loss: 0.1605 - val_accuracy: 0.9464\n",
            "Epoch 28/50\n",
            "22/22 [==============================] - 1s 60ms/step - loss: 0.0151 - accuracy: 0.9970 - val_loss: 0.1555 - val_accuracy: 0.9524\n",
            "Epoch 29/50\n",
            "22/22 [==============================] - 1s 61ms/step - loss: 0.0220 - accuracy: 0.9911 - val_loss: 0.1526 - val_accuracy: 0.9583\n",
            "Epoch 30/50\n",
            "22/22 [==============================] - 1s 61ms/step - loss: 0.0159 - accuracy: 1.0000 - val_loss: 0.1511 - val_accuracy: 0.9583\n",
            "Epoch 31/50\n",
            "22/22 [==============================] - 1s 62ms/step - loss: 0.0177 - accuracy: 0.9941 - val_loss: 0.1518 - val_accuracy: 0.9524\n",
            "Epoch 32/50\n",
            "22/22 [==============================] - 1s 58ms/step - loss: 0.0171 - accuracy: 0.9956 - val_loss: 0.1553 - val_accuracy: 0.9583\n",
            "Epoch 33/50\n",
            "22/22 [==============================] - 1s 58ms/step - loss: 0.0123 - accuracy: 0.9985 - val_loss: 0.1556 - val_accuracy: 0.9583\n",
            "Epoch 34/50\n",
            "22/22 [==============================] - 1s 57ms/step - loss: 0.0155 - accuracy: 0.9956 - val_loss: 0.1567 - val_accuracy: 0.9583\n",
            "Epoch 35/50\n",
            "22/22 [==============================] - 1s 60ms/step - loss: 0.0163 - accuracy: 0.9970 - val_loss: 0.1549 - val_accuracy: 0.9583\n",
            "Epoch 36/50\n",
            "22/22 [==============================] - 1s 55ms/step - loss: 0.0202 - accuracy: 0.9941 - val_loss: 0.1562 - val_accuracy: 0.9643\n",
            "Epoch 37/50\n",
            "22/22 [==============================] - 1s 59ms/step - loss: 0.0161 - accuracy: 0.9941 - val_loss: 0.1557 - val_accuracy: 0.9583\n",
            "Epoch 38/50\n",
            "22/22 [==============================] - 1s 56ms/step - loss: 0.0111 - accuracy: 0.9970 - val_loss: 0.1549 - val_accuracy: 0.9643\n",
            "Epoch 39/50\n",
            "22/22 [==============================] - 1s 61ms/step - loss: 0.0102 - accuracy: 0.9970 - val_loss: 0.1571 - val_accuracy: 0.9583\n",
            "Epoch 40/50\n",
            "22/22 [==============================] - 1s 58ms/step - loss: 0.0056 - accuracy: 1.0000 - val_loss: 0.1622 - val_accuracy: 0.9524\n"
          ],
          "name": "stdout"
        },
        {
          "output_type": "display_data",
          "data": {
            "text/html": [
              "<span style=\"color:#4527A0\"><h1 style=\"font-size:18px\">Trial complete</h1></span>"
            ],
            "text/plain": [
              "<IPython.core.display.HTML object>"
            ]
          },
          "metadata": {
            "tags": []
          }
        },
        {
          "output_type": "display_data",
          "data": {
            "text/html": [
              "<span style=\"color:#4527A0\"><h1 style=\"font-size:18px\">Trial summary</h1></span>"
            ],
            "text/plain": [
              "<IPython.core.display.HTML object>"
            ]
          },
          "metadata": {
            "tags": []
          }
        },
        {
          "output_type": "display_data",
          "data": {
            "text/html": [
              "<span style=\"color:#7E57C2\"><h2 style=\"font-size:16px\">Hp values:</h2></span>"
            ],
            "text/plain": [
              "<IPython.core.display.HTML object>"
            ]
          },
          "metadata": {
            "tags": []
          }
        },
        {
          "output_type": "display_data",
          "data": {
            "text/html": [
              "<span style=\"color:cyan\"> |-dense_block_1/dropout_rate: 0.5</span>"
            ],
            "text/plain": [
              "<IPython.core.display.HTML object>"
            ]
          },
          "metadata": {
            "tags": []
          }
        },
        {
          "output_type": "display_data",
          "data": {
            "text/html": [
              "<span style=\"color:blue\"> |-dense_block_1/num_layers: 3</span>"
            ],
            "text/plain": [
              "<IPython.core.display.HTML object>"
            ]
          },
          "metadata": {
            "tags": []
          }
        },
        {
          "output_type": "display_data",
          "data": {
            "text/html": [
              "<span style=\"color:cyan\"> |-dense_block_1/units_0: 32</span>"
            ],
            "text/plain": [
              "<IPython.core.display.HTML object>"
            ]
          },
          "metadata": {
            "tags": []
          }
        },
        {
          "output_type": "display_data",
          "data": {
            "text/html": [
              "<span style=\"color:blue\"> |-dense_block_1/units_1: 256</span>"
            ],
            "text/plain": [
              "<IPython.core.display.HTML object>"
            ]
          },
          "metadata": {
            "tags": []
          }
        },
        {
          "output_type": "display_data",
          "data": {
            "text/html": [
              "<span style=\"color:cyan\"> |-dense_block_1/units_2: 256</span>"
            ],
            "text/plain": [
              "<IPython.core.display.HTML object>"
            ]
          },
          "metadata": {
            "tags": []
          }
        },
        {
          "output_type": "display_data",
          "data": {
            "text/html": [
              "<span style=\"color:blue\"> |-dense_block_1/use_batchnorm: True</span>"
            ],
            "text/plain": [
              "<IPython.core.display.HTML object>"
            ]
          },
          "metadata": {
            "tags": []
          }
        },
        {
          "output_type": "display_data",
          "data": {
            "text/html": [
              "<span style=\"color:cyan\"> |-optimizer: adam</span>"
            ],
            "text/plain": [
              "<IPython.core.display.HTML object>"
            ]
          },
          "metadata": {
            "tags": []
          }
        },
        {
          "output_type": "display_data",
          "data": {
            "text/html": [
              "<span style=\"color:cyan\"> |-Score: 0.15107472303013006</span>"
            ],
            "text/plain": [
              "<IPython.core.display.HTML object>"
            ]
          },
          "metadata": {
            "tags": []
          }
        },
        {
          "output_type": "display_data",
          "data": {
            "text/html": [
              "<span style=\"color:cyan\"> |-Best step: 0</span>"
            ],
            "text/plain": [
              "<IPython.core.display.HTML object>"
            ]
          },
          "metadata": {
            "tags": []
          }
        },
        {
          "output_type": "stream",
          "text": [
            "Epoch 1/50\n",
            "22/22 [==============================] - 2s 98ms/step - loss: 0.7493 - accuracy: 0.5814 - val_loss: 0.0000e+00 - val_accuracy: 0.0000e+00\n",
            "Epoch 2/50\n",
            "22/22 [==============================] - 1s 58ms/step - loss: 0.3405 - accuracy: 0.8787 - val_loss: 0.6444 - val_accuracy: 0.7262\n",
            "Epoch 3/50\n",
            "22/22 [==============================] - 1s 57ms/step - loss: 0.2048 - accuracy: 0.9675 - val_loss: 0.6244 - val_accuracy: 0.7202\n",
            "Epoch 4/50\n",
            "22/22 [==============================] - 1s 57ms/step - loss: 0.1430 - accuracy: 0.9822 - val_loss: 0.6049 - val_accuracy: 0.7262\n",
            "Epoch 5/50\n",
            "22/22 [==============================] - 1s 58ms/step - loss: 0.1065 - accuracy: 0.9911 - val_loss: 0.5852 - val_accuracy: 0.7440\n",
            "Epoch 6/50\n",
            "22/22 [==============================] - 1s 59ms/step - loss: 0.0811 - accuracy: 0.9956 - val_loss: 0.5636 - val_accuracy: 0.7500\n",
            "Epoch 7/50\n",
            "22/22 [==============================] - 1s 54ms/step - loss: 0.0669 - accuracy: 0.9956 - val_loss: 0.5412 - val_accuracy: 0.7917\n",
            "Epoch 8/50\n",
            "22/22 [==============================] - 1s 55ms/step - loss: 0.0504 - accuracy: 0.9985 - val_loss: 0.5178 - val_accuracy: 0.8214\n",
            "Epoch 9/50\n",
            "22/22 [==============================] - 1s 58ms/step - loss: 0.0463 - accuracy: 0.9985 - val_loss: 0.4939 - val_accuracy: 0.8393\n",
            "Epoch 10/50\n",
            "22/22 [==============================] - 1s 56ms/step - loss: 0.0354 - accuracy: 0.9985 - val_loss: 0.4687 - val_accuracy: 0.8512\n",
            "Epoch 11/50\n",
            "22/22 [==============================] - 1s 59ms/step - loss: 0.0303 - accuracy: 1.0000 - val_loss: 0.4435 - val_accuracy: 0.8571\n",
            "Epoch 12/50\n",
            "22/22 [==============================] - 1s 59ms/step - loss: 0.0297 - accuracy: 1.0000 - val_loss: 0.4179 - val_accuracy: 0.8631\n",
            "Epoch 13/50\n",
            "22/22 [==============================] - 1s 55ms/step - loss: 0.0248 - accuracy: 1.0000 - val_loss: 0.3912 - val_accuracy: 0.8690\n",
            "Epoch 14/50\n",
            "22/22 [==============================] - 1s 58ms/step - loss: 0.0200 - accuracy: 1.0000 - val_loss: 0.3651 - val_accuracy: 0.8690\n",
            "Epoch 15/50\n",
            "22/22 [==============================] - 1s 58ms/step - loss: 0.0185 - accuracy: 1.0000 - val_loss: 0.3397 - val_accuracy: 0.8750\n",
            "Epoch 16/50\n",
            "22/22 [==============================] - 1s 56ms/step - loss: 0.0158 - accuracy: 1.0000 - val_loss: 0.3135 - val_accuracy: 0.8929\n",
            "Epoch 17/50\n",
            "22/22 [==============================] - 1s 60ms/step - loss: 0.0170 - accuracy: 1.0000 - val_loss: 0.2885 - val_accuracy: 0.8988\n",
            "Epoch 18/50\n",
            "22/22 [==============================] - 1s 59ms/step - loss: 0.0153 - accuracy: 1.0000 - val_loss: 0.2664 - val_accuracy: 0.9048\n",
            "Epoch 19/50\n",
            "22/22 [==============================] - 1s 57ms/step - loss: 0.0122 - accuracy: 1.0000 - val_loss: 0.2459 - val_accuracy: 0.9107\n",
            "Epoch 20/50\n",
            "22/22 [==============================] - 1s 58ms/step - loss: 0.0116 - accuracy: 1.0000 - val_loss: 0.2287 - val_accuracy: 0.9107\n",
            "Epoch 21/50\n",
            "22/22 [==============================] - 1s 57ms/step - loss: 0.0105 - accuracy: 1.0000 - val_loss: 0.2132 - val_accuracy: 0.9107\n",
            "Epoch 22/50\n",
            "22/22 [==============================] - 1s 59ms/step - loss: 0.0101 - accuracy: 1.0000 - val_loss: 0.2000 - val_accuracy: 0.9107\n",
            "Epoch 23/50\n",
            "22/22 [==============================] - 1s 54ms/step - loss: 0.0089 - accuracy: 1.0000 - val_loss: 0.1895 - val_accuracy: 0.9107\n",
            "Epoch 24/50\n",
            "22/22 [==============================] - 1s 56ms/step - loss: 0.0071 - accuracy: 1.0000 - val_loss: 0.1805 - val_accuracy: 0.9107\n",
            "Epoch 25/50\n",
            "22/22 [==============================] - 1s 56ms/step - loss: 0.0095 - accuracy: 1.0000 - val_loss: 0.1746 - val_accuracy: 0.9107\n",
            "Epoch 26/50\n",
            "22/22 [==============================] - 1s 55ms/step - loss: 0.0082 - accuracy: 1.0000 - val_loss: 0.1690 - val_accuracy: 0.9167\n",
            "Epoch 27/50\n",
            "22/22 [==============================] - 1s 56ms/step - loss: 0.0083 - accuracy: 1.0000 - val_loss: 0.1660 - val_accuracy: 0.9167\n",
            "Epoch 28/50\n",
            "22/22 [==============================] - 1s 55ms/step - loss: 0.0060 - accuracy: 1.0000 - val_loss: 0.1635 - val_accuracy: 0.9345\n",
            "Epoch 29/50\n",
            "22/22 [==============================] - 1s 57ms/step - loss: 0.0055 - accuracy: 1.0000 - val_loss: 0.1615 - val_accuracy: 0.9345\n",
            "Epoch 30/50\n",
            "22/22 [==============================] - 1s 58ms/step - loss: 0.0061 - accuracy: 1.0000 - val_loss: 0.1602 - val_accuracy: 0.9345\n",
            "Epoch 31/50\n",
            "22/22 [==============================] - 1s 57ms/step - loss: 0.0065 - accuracy: 1.0000 - val_loss: 0.1589 - val_accuracy: 0.9405\n",
            "Epoch 32/50\n",
            "22/22 [==============================] - 1s 58ms/step - loss: 0.0045 - accuracy: 1.0000 - val_loss: 0.1590 - val_accuracy: 0.9405\n",
            "Epoch 33/50\n",
            "22/22 [==============================] - 1s 58ms/step - loss: 0.0053 - accuracy: 1.0000 - val_loss: 0.1594 - val_accuracy: 0.9405\n",
            "Epoch 34/50\n",
            "22/22 [==============================] - 1s 58ms/step - loss: 0.0045 - accuracy: 1.0000 - val_loss: 0.1595 - val_accuracy: 0.9464\n",
            "Epoch 35/50\n",
            "22/22 [==============================] - 1s 57ms/step - loss: 0.0049 - accuracy: 1.0000 - val_loss: 0.1599 - val_accuracy: 0.9405\n",
            "Epoch 36/50\n",
            "22/22 [==============================] - 1s 59ms/step - loss: 0.0046 - accuracy: 1.0000 - val_loss: 0.1602 - val_accuracy: 0.9405\n",
            "Epoch 37/50\n",
            "22/22 [==============================] - 1s 55ms/step - loss: 0.0038 - accuracy: 1.0000 - val_loss: 0.1608 - val_accuracy: 0.9405\n",
            "Epoch 38/50\n",
            "22/22 [==============================] - 1s 57ms/step - loss: 0.0045 - accuracy: 1.0000 - val_loss: 0.1613 - val_accuracy: 0.9405\n",
            "Epoch 39/50\n",
            "22/22 [==============================] - 1s 57ms/step - loss: 0.0035 - accuracy: 1.0000 - val_loss: 0.1610 - val_accuracy: 0.9405\n",
            "Epoch 40/50\n",
            "22/22 [==============================] - 1s 55ms/step - loss: 0.0034 - accuracy: 1.0000 - val_loss: 0.1616 - val_accuracy: 0.9405\n",
            "Epoch 41/50\n",
            "22/22 [==============================] - 1s 57ms/step - loss: 0.0033 - accuracy: 1.0000 - val_loss: 0.1625 - val_accuracy: 0.9405\n"
          ],
          "name": "stdout"
        },
        {
          "output_type": "display_data",
          "data": {
            "text/html": [
              "<span style=\"color:#4527A0\"><h1 style=\"font-size:18px\">Trial complete</h1></span>"
            ],
            "text/plain": [
              "<IPython.core.display.HTML object>"
            ]
          },
          "metadata": {
            "tags": []
          }
        },
        {
          "output_type": "display_data",
          "data": {
            "text/html": [
              "<span style=\"color:#4527A0\"><h1 style=\"font-size:18px\">Trial summary</h1></span>"
            ],
            "text/plain": [
              "<IPython.core.display.HTML object>"
            ]
          },
          "metadata": {
            "tags": []
          }
        },
        {
          "output_type": "display_data",
          "data": {
            "text/html": [
              "<span style=\"color:#7E57C2\"><h2 style=\"font-size:16px\">Hp values:</h2></span>"
            ],
            "text/plain": [
              "<IPython.core.display.HTML object>"
            ]
          },
          "metadata": {
            "tags": []
          }
        },
        {
          "output_type": "display_data",
          "data": {
            "text/html": [
              "<span style=\"color:cyan\"> |-dense_block_1/dropout_rate: 0.5</span>"
            ],
            "text/plain": [
              "<IPython.core.display.HTML object>"
            ]
          },
          "metadata": {
            "tags": []
          }
        },
        {
          "output_type": "display_data",
          "data": {
            "text/html": [
              "<span style=\"color:blue\"> |-dense_block_1/num_layers: 1</span>"
            ],
            "text/plain": [
              "<IPython.core.display.HTML object>"
            ]
          },
          "metadata": {
            "tags": []
          }
        },
        {
          "output_type": "display_data",
          "data": {
            "text/html": [
              "<span style=\"color:cyan\"> |-dense_block_1/units_0: 64</span>"
            ],
            "text/plain": [
              "<IPython.core.display.HTML object>"
            ]
          },
          "metadata": {
            "tags": []
          }
        },
        {
          "output_type": "display_data",
          "data": {
            "text/html": [
              "<span style=\"color:blue\"> |-dense_block_1/units_1: 512</span>"
            ],
            "text/plain": [
              "<IPython.core.display.HTML object>"
            ]
          },
          "metadata": {
            "tags": []
          }
        },
        {
          "output_type": "display_data",
          "data": {
            "text/html": [
              "<span style=\"color:cyan\"> |-dense_block_1/units_2: 16</span>"
            ],
            "text/plain": [
              "<IPython.core.display.HTML object>"
            ]
          },
          "metadata": {
            "tags": []
          }
        },
        {
          "output_type": "display_data",
          "data": {
            "text/html": [
              "<span style=\"color:blue\"> |-dense_block_1/use_batchnorm: True</span>"
            ],
            "text/plain": [
              "<IPython.core.display.HTML object>"
            ]
          },
          "metadata": {
            "tags": []
          }
        },
        {
          "output_type": "display_data",
          "data": {
            "text/html": [
              "<span style=\"color:cyan\"> |-optimizer: adam</span>"
            ],
            "text/plain": [
              "<IPython.core.display.HTML object>"
            ]
          },
          "metadata": {
            "tags": []
          }
        },
        {
          "output_type": "display_data",
          "data": {
            "text/html": [
              "<span style=\"color:cyan\"> |-Score: 0.15889840200543404</span>"
            ],
            "text/plain": [
              "<IPython.core.display.HTML object>"
            ]
          },
          "metadata": {
            "tags": []
          }
        },
        {
          "output_type": "display_data",
          "data": {
            "text/html": [
              "<span style=\"color:cyan\"> |-Best step: 0</span>"
            ],
            "text/plain": [
              "<IPython.core.display.HTML object>"
            ]
          },
          "metadata": {
            "tags": []
          }
        },
        {
          "output_type": "stream",
          "text": [
            "Epoch 1/50\n",
            "22/22 [==============================] - 3s 147ms/step - loss: 0.8093 - accuracy: 0.5340 - val_loss: 0.0000e+00 - val_accuracy: 0.0000e+00\n",
            "Epoch 2/50\n",
            "22/22 [==============================] - 1s 67ms/step - loss: 0.8306 - accuracy: 0.5133 - val_loss: 0.6950 - val_accuracy: 0.3929\n",
            "Epoch 3/50\n",
            "22/22 [==============================] - 2s 69ms/step - loss: 0.8291 - accuracy: 0.5059 - val_loss: 0.6965 - val_accuracy: 0.3929\n",
            "Epoch 4/50\n",
            "22/22 [==============================] - 1s 67ms/step - loss: 0.8005 - accuracy: 0.4985 - val_loss: 0.6985 - val_accuracy: 0.3929\n",
            "Epoch 5/50\n",
            "22/22 [==============================] - 2s 69ms/step - loss: 0.8137 - accuracy: 0.5104 - val_loss: 0.6998 - val_accuracy: 0.3929\n",
            "Epoch 6/50\n",
            "22/22 [==============================] - 1s 66ms/step - loss: 0.8405 - accuracy: 0.5030 - val_loss: 0.6997 - val_accuracy: 0.3929\n",
            "Epoch 7/50\n",
            "22/22 [==============================] - 1s 66ms/step - loss: 0.8050 - accuracy: 0.5370 - val_loss: 0.7003 - val_accuracy: 0.3929\n",
            "Epoch 8/50\n",
            "22/22 [==============================] - 2s 69ms/step - loss: 0.8393 - accuracy: 0.4734 - val_loss: 0.7025 - val_accuracy: 0.3929\n",
            "Epoch 9/50\n",
            "22/22 [==============================] - 1s 67ms/step - loss: 0.8290 - accuracy: 0.5074 - val_loss: 0.7006 - val_accuracy: 0.3988\n",
            "Epoch 10/50\n",
            "22/22 [==============================] - 2s 69ms/step - loss: 0.8248 - accuracy: 0.5104 - val_loss: 0.6994 - val_accuracy: 0.3929\n",
            "Epoch 11/50\n",
            "22/22 [==============================] - 1s 65ms/step - loss: 0.8175 - accuracy: 0.5266 - val_loss: 0.6999 - val_accuracy: 0.3869\n"
          ],
          "name": "stdout"
        },
        {
          "output_type": "display_data",
          "data": {
            "text/html": [
              "<span style=\"color:#4527A0\"><h1 style=\"font-size:18px\">Trial complete</h1></span>"
            ],
            "text/plain": [
              "<IPython.core.display.HTML object>"
            ]
          },
          "metadata": {
            "tags": []
          }
        },
        {
          "output_type": "display_data",
          "data": {
            "text/html": [
              "<span style=\"color:#4527A0\"><h1 style=\"font-size:18px\">Trial summary</h1></span>"
            ],
            "text/plain": [
              "<IPython.core.display.HTML object>"
            ]
          },
          "metadata": {
            "tags": []
          }
        },
        {
          "output_type": "display_data",
          "data": {
            "text/html": [
              "<span style=\"color:#7E57C2\"><h2 style=\"font-size:16px\">Hp values:</h2></span>"
            ],
            "text/plain": [
              "<IPython.core.display.HTML object>"
            ]
          },
          "metadata": {
            "tags": []
          }
        },
        {
          "output_type": "display_data",
          "data": {
            "text/html": [
              "<span style=\"color:cyan\"> |-dense_block_1/dropout_rate: 0.5</span>"
            ],
            "text/plain": [
              "<IPython.core.display.HTML object>"
            ]
          },
          "metadata": {
            "tags": []
          }
        },
        {
          "output_type": "display_data",
          "data": {
            "text/html": [
              "<span style=\"color:blue\"> |-dense_block_1/num_layers: 3</span>"
            ],
            "text/plain": [
              "<IPython.core.display.HTML object>"
            ]
          },
          "metadata": {
            "tags": []
          }
        },
        {
          "output_type": "display_data",
          "data": {
            "text/html": [
              "<span style=\"color:cyan\"> |-dense_block_1/units_0: 512</span>"
            ],
            "text/plain": [
              "<IPython.core.display.HTML object>"
            ]
          },
          "metadata": {
            "tags": []
          }
        },
        {
          "output_type": "display_data",
          "data": {
            "text/html": [
              "<span style=\"color:blue\"> |-dense_block_1/units_1: 16</span>"
            ],
            "text/plain": [
              "<IPython.core.display.HTML object>"
            ]
          },
          "metadata": {
            "tags": []
          }
        },
        {
          "output_type": "display_data",
          "data": {
            "text/html": [
              "<span style=\"color:cyan\"> |-dense_block_1/units_2: 32</span>"
            ],
            "text/plain": [
              "<IPython.core.display.HTML object>"
            ]
          },
          "metadata": {
            "tags": []
          }
        },
        {
          "output_type": "display_data",
          "data": {
            "text/html": [
              "<span style=\"color:blue\"> |-dense_block_1/use_batchnorm: True</span>"
            ],
            "text/plain": [
              "<IPython.core.display.HTML object>"
            ]
          },
          "metadata": {
            "tags": []
          }
        },
        {
          "output_type": "display_data",
          "data": {
            "text/html": [
              "<span style=\"color:cyan\"> |-optimizer: adadelta</span>"
            ],
            "text/plain": [
              "<IPython.core.display.HTML object>"
            ]
          },
          "metadata": {
            "tags": []
          }
        },
        {
          "output_type": "display_data",
          "data": {
            "text/html": [
              "<span style=\"color:cyan\"> |-Score: 0.6942079365253448</span>"
            ],
            "text/plain": [
              "<IPython.core.display.HTML object>"
            ]
          },
          "metadata": {
            "tags": []
          }
        },
        {
          "output_type": "display_data",
          "data": {
            "text/html": [
              "<span style=\"color:cyan\"> |-Best step: 0</span>"
            ],
            "text/plain": [
              "<IPython.core.display.HTML object>"
            ]
          },
          "metadata": {
            "tags": []
          }
        },
        {
          "output_type": "stream",
          "text": [
            "Epoch 1/50\n",
            "22/22 [==============================] - 3s 130ms/step - loss: 0.5261 - accuracy: 0.7544 - val_loss: 0.0000e+00 - val_accuracy: 0.0000e+00\n",
            "Epoch 2/50\n",
            "22/22 [==============================] - 2s 70ms/step - loss: 0.0601 - accuracy: 0.9852 - val_loss: 0.6390 - val_accuracy: 0.7917\n",
            "Epoch 3/50\n",
            "22/22 [==============================] - 1s 68ms/step - loss: 0.0109 - accuracy: 1.0000 - val_loss: 0.6193 - val_accuracy: 0.8988\n",
            "Epoch 4/50\n",
            "22/22 [==============================] - 2s 69ms/step - loss: 0.0048 - accuracy: 1.0000 - val_loss: 0.6030 - val_accuracy: 0.9107\n",
            "Epoch 5/50\n",
            "22/22 [==============================] - 2s 71ms/step - loss: 0.0034 - accuracy: 1.0000 - val_loss: 0.5862 - val_accuracy: 0.9345\n",
            "Epoch 6/50\n",
            "22/22 [==============================] - 2s 72ms/step - loss: 0.0019 - accuracy: 1.0000 - val_loss: 0.5659 - val_accuracy: 0.9226\n",
            "Epoch 7/50\n",
            "22/22 [==============================] - 2s 69ms/step - loss: 0.0022 - accuracy: 1.0000 - val_loss: 0.5427 - val_accuracy: 0.9167\n",
            "Epoch 8/50\n",
            "22/22 [==============================] - 2s 69ms/step - loss: 0.0012 - accuracy: 1.0000 - val_loss: 0.5156 - val_accuracy: 0.9167\n",
            "Epoch 9/50\n",
            "22/22 [==============================] - 2s 70ms/step - loss: 0.0015 - accuracy: 1.0000 - val_loss: 0.4902 - val_accuracy: 0.9048\n",
            "Epoch 10/50\n",
            "22/22 [==============================] - 2s 69ms/step - loss: 7.1088e-04 - accuracy: 1.0000 - val_loss: 0.4613 - val_accuracy: 0.9048\n",
            "Epoch 11/50\n",
            "22/22 [==============================] - 2s 70ms/step - loss: 6.5893e-04 - accuracy: 1.0000 - val_loss: 0.4314 - val_accuracy: 0.9048\n",
            "Epoch 12/50\n",
            "22/22 [==============================] - 1s 67ms/step - loss: 5.7909e-04 - accuracy: 1.0000 - val_loss: 0.4026 - val_accuracy: 0.9048\n",
            "Epoch 13/50\n",
            "22/22 [==============================] - 2s 68ms/step - loss: 5.0211e-04 - accuracy: 1.0000 - val_loss: 0.3734 - val_accuracy: 0.9048\n",
            "Epoch 14/50\n",
            "22/22 [==============================] - 2s 70ms/step - loss: 4.6669e-04 - accuracy: 1.0000 - val_loss: 0.3406 - val_accuracy: 0.9048\n",
            "Epoch 15/50\n",
            "22/22 [==============================] - 2s 68ms/step - loss: 3.9118e-04 - accuracy: 1.0000 - val_loss: 0.3139 - val_accuracy: 0.9107\n",
            "Epoch 16/50\n",
            "22/22 [==============================] - 2s 70ms/step - loss: 4.0046e-04 - accuracy: 1.0000 - val_loss: 0.2858 - val_accuracy: 0.9226\n",
            "Epoch 17/50\n",
            "22/22 [==============================] - 2s 69ms/step - loss: 3.5059e-04 - accuracy: 1.0000 - val_loss: 0.2623 - val_accuracy: 0.9345\n",
            "Epoch 18/50\n",
            "22/22 [==============================] - 2s 69ms/step - loss: 3.2252e-04 - accuracy: 1.0000 - val_loss: 0.2412 - val_accuracy: 0.9345\n",
            "Epoch 19/50\n",
            "22/22 [==============================] - 2s 69ms/step - loss: 3.9267e-04 - accuracy: 1.0000 - val_loss: 0.2227 - val_accuracy: 0.9345\n",
            "Epoch 20/50\n",
            "22/22 [==============================] - 2s 68ms/step - loss: 2.6393e-04 - accuracy: 1.0000 - val_loss: 0.2075 - val_accuracy: 0.9345\n",
            "Epoch 21/50\n",
            "22/22 [==============================] - 1s 68ms/step - loss: 2.0043e-04 - accuracy: 1.0000 - val_loss: 0.1954 - val_accuracy: 0.9464\n",
            "Epoch 22/50\n",
            "22/22 [==============================] - 2s 69ms/step - loss: 2.8963e-04 - accuracy: 1.0000 - val_loss: 0.1865 - val_accuracy: 0.9405\n",
            "Epoch 23/50\n",
            "22/22 [==============================] - 2s 70ms/step - loss: 1.8935e-04 - accuracy: 1.0000 - val_loss: 0.1791 - val_accuracy: 0.9405\n",
            "Epoch 24/50\n",
            "22/22 [==============================] - 2s 70ms/step - loss: 1.5121e-04 - accuracy: 1.0000 - val_loss: 0.1753 - val_accuracy: 0.9405\n",
            "Epoch 25/50\n",
            "22/22 [==============================] - 2s 70ms/step - loss: 1.9909e-04 - accuracy: 1.0000 - val_loss: 0.1736 - val_accuracy: 0.9405\n",
            "Epoch 26/50\n",
            "22/22 [==============================] - 2s 69ms/step - loss: 2.4922e-04 - accuracy: 1.0000 - val_loss: 0.1745 - val_accuracy: 0.9345\n",
            "Epoch 27/50\n",
            "22/22 [==============================] - 1s 66ms/step - loss: 1.7239e-04 - accuracy: 1.0000 - val_loss: 0.1769 - val_accuracy: 0.9286\n",
            "Epoch 28/50\n",
            "22/22 [==============================] - 1s 66ms/step - loss: 1.4945e-04 - accuracy: 1.0000 - val_loss: 0.1797 - val_accuracy: 0.9286\n",
            "Epoch 29/50\n",
            "22/22 [==============================] - 2s 70ms/step - loss: 1.3791e-04 - accuracy: 1.0000 - val_loss: 0.1830 - val_accuracy: 0.9286\n",
            "Epoch 30/50\n",
            "22/22 [==============================] - 1s 68ms/step - loss: 1.3214e-04 - accuracy: 1.0000 - val_loss: 0.1872 - val_accuracy: 0.9286\n",
            "Epoch 31/50\n",
            "22/22 [==============================] - 2s 69ms/step - loss: 1.0425e-04 - accuracy: 1.0000 - val_loss: 0.1911 - val_accuracy: 0.9286\n",
            "Epoch 32/50\n",
            "22/22 [==============================] - 2s 68ms/step - loss: 1.6598e-04 - accuracy: 1.0000 - val_loss: 0.1957 - val_accuracy: 0.9286\n",
            "Epoch 33/50\n",
            "22/22 [==============================] - 2s 69ms/step - loss: 1.1119e-04 - accuracy: 1.0000 - val_loss: 0.2009 - val_accuracy: 0.9286\n",
            "Epoch 34/50\n",
            "22/22 [==============================] - 1s 67ms/step - loss: 9.8181e-05 - accuracy: 1.0000 - val_loss: 0.2048 - val_accuracy: 0.9286\n",
            "Epoch 35/50\n",
            "22/22 [==============================] - 1s 65ms/step - loss: 1.2250e-04 - accuracy: 1.0000 - val_loss: 0.2084 - val_accuracy: 0.9286\n"
          ],
          "name": "stdout"
        },
        {
          "output_type": "display_data",
          "data": {
            "text/html": [
              "<span style=\"color:#4527A0\"><h1 style=\"font-size:18px\">Trial complete</h1></span>"
            ],
            "text/plain": [
              "<IPython.core.display.HTML object>"
            ]
          },
          "metadata": {
            "tags": []
          }
        },
        {
          "output_type": "display_data",
          "data": {
            "text/html": [
              "<span style=\"color:#4527A0\"><h1 style=\"font-size:18px\">Trial summary</h1></span>"
            ],
            "text/plain": [
              "<IPython.core.display.HTML object>"
            ]
          },
          "metadata": {
            "tags": []
          }
        },
        {
          "output_type": "display_data",
          "data": {
            "text/html": [
              "<span style=\"color:#7E57C2\"><h2 style=\"font-size:16px\">Hp values:</h2></span>"
            ],
            "text/plain": [
              "<IPython.core.display.HTML object>"
            ]
          },
          "metadata": {
            "tags": []
          }
        },
        {
          "output_type": "display_data",
          "data": {
            "text/html": [
              "<span style=\"color:cyan\"> |-dense_block_1/dropout_rate: 0.25</span>"
            ],
            "text/plain": [
              "<IPython.core.display.HTML object>"
            ]
          },
          "metadata": {
            "tags": []
          }
        },
        {
          "output_type": "display_data",
          "data": {
            "text/html": [
              "<span style=\"color:blue\"> |-dense_block_1/num_layers: 2</span>"
            ],
            "text/plain": [
              "<IPython.core.display.HTML object>"
            ]
          },
          "metadata": {
            "tags": []
          }
        },
        {
          "output_type": "display_data",
          "data": {
            "text/html": [
              "<span style=\"color:cyan\"> |-dense_block_1/units_0: 256</span>"
            ],
            "text/plain": [
              "<IPython.core.display.HTML object>"
            ]
          },
          "metadata": {
            "tags": []
          }
        },
        {
          "output_type": "display_data",
          "data": {
            "text/html": [
              "<span style=\"color:blue\"> |-dense_block_1/units_1: 1024</span>"
            ],
            "text/plain": [
              "<IPython.core.display.HTML object>"
            ]
          },
          "metadata": {
            "tags": []
          }
        },
        {
          "output_type": "display_data",
          "data": {
            "text/html": [
              "<span style=\"color:cyan\"> |-dense_block_1/units_2: 16</span>"
            ],
            "text/plain": [
              "<IPython.core.display.HTML object>"
            ]
          },
          "metadata": {
            "tags": []
          }
        },
        {
          "output_type": "display_data",
          "data": {
            "text/html": [
              "<span style=\"color:blue\"> |-dense_block_1/use_batchnorm: True</span>"
            ],
            "text/plain": [
              "<IPython.core.display.HTML object>"
            ]
          },
          "metadata": {
            "tags": []
          }
        },
        {
          "output_type": "display_data",
          "data": {
            "text/html": [
              "<span style=\"color:cyan\"> |-optimizer: adam</span>"
            ],
            "text/plain": [
              "<IPython.core.display.HTML object>"
            ]
          },
          "metadata": {
            "tags": []
          }
        },
        {
          "output_type": "display_data",
          "data": {
            "text/html": [
              "<span style=\"color:cyan\"> |-Score: 0.17361200787127018</span>"
            ],
            "text/plain": [
              "<IPython.core.display.HTML object>"
            ]
          },
          "metadata": {
            "tags": []
          }
        },
        {
          "output_type": "display_data",
          "data": {
            "text/html": [
              "<span style=\"color:cyan\"> |-Best step: 0</span>"
            ],
            "text/plain": [
              "<IPython.core.display.HTML object>"
            ]
          },
          "metadata": {
            "tags": []
          }
        },
        {
          "output_type": "stream",
          "text": [
            "Epoch 1/50\n",
            "22/22 [==============================] - 3s 115ms/step - loss: 0.4374 - accuracy: 0.7751 - val_loss: 0.0000e+00 - val_accuracy: 0.0000e+00\n",
            "Epoch 2/50\n",
            "22/22 [==============================] - 2s 77ms/step - loss: 0.0347 - accuracy: 0.9926 - val_loss: 0.5813 - val_accuracy: 0.8214\n",
            "Epoch 3/50\n",
            "22/22 [==============================] - 2s 75ms/step - loss: 0.0108 - accuracy: 0.9985 - val_loss: 0.5630 - val_accuracy: 0.8512\n",
            "Epoch 4/50\n",
            "22/22 [==============================] - 2s 77ms/step - loss: 0.0049 - accuracy: 1.0000 - val_loss: 0.5458 - val_accuracy: 0.8690\n",
            "Epoch 5/50\n",
            "22/22 [==============================] - 2s 75ms/step - loss: 0.0034 - accuracy: 1.0000 - val_loss: 0.5277 - val_accuracy: 0.8869\n",
            "Epoch 6/50\n",
            "22/22 [==============================] - 2s 76ms/step - loss: 0.0030 - accuracy: 1.0000 - val_loss: 0.5091 - val_accuracy: 0.8869\n",
            "Epoch 7/50\n",
            "22/22 [==============================] - 2s 78ms/step - loss: 0.0023 - accuracy: 1.0000 - val_loss: 0.4893 - val_accuracy: 0.8869\n",
            "Epoch 8/50\n",
            "22/22 [==============================] - 2s 80ms/step - loss: 0.0016 - accuracy: 1.0000 - val_loss: 0.4685 - val_accuracy: 0.8869\n",
            "Epoch 9/50\n",
            "22/22 [==============================] - 2s 76ms/step - loss: 0.0014 - accuracy: 1.0000 - val_loss: 0.4462 - val_accuracy: 0.8869\n",
            "Epoch 10/50\n",
            "22/22 [==============================] - 2s 73ms/step - loss: 0.0012 - accuracy: 1.0000 - val_loss: 0.4234 - val_accuracy: 0.8869\n",
            "Epoch 11/50\n",
            "22/22 [==============================] - 2s 73ms/step - loss: 9.9008e-04 - accuracy: 1.0000 - val_loss: 0.4000 - val_accuracy: 0.8988\n",
            "Epoch 12/50\n",
            "22/22 [==============================] - 2s 78ms/step - loss: 9.6836e-04 - accuracy: 1.0000 - val_loss: 0.3761 - val_accuracy: 0.9048\n",
            "Epoch 13/50\n",
            "22/22 [==============================] - 2s 77ms/step - loss: 7.7227e-04 - accuracy: 1.0000 - val_loss: 0.3524 - val_accuracy: 0.9107\n",
            "Epoch 14/50\n",
            "22/22 [==============================] - 2s 72ms/step - loss: 6.4390e-04 - accuracy: 1.0000 - val_loss: 0.3288 - val_accuracy: 0.9167\n",
            "Epoch 15/50\n",
            "22/22 [==============================] - 2s 76ms/step - loss: 6.0804e-04 - accuracy: 1.0000 - val_loss: 0.3058 - val_accuracy: 0.9167\n",
            "Epoch 16/50\n",
            "22/22 [==============================] - 2s 74ms/step - loss: 5.3959e-04 - accuracy: 1.0000 - val_loss: 0.2840 - val_accuracy: 0.9167\n",
            "Epoch 17/50\n",
            "22/22 [==============================] - 2s 76ms/step - loss: 5.3507e-04 - accuracy: 1.0000 - val_loss: 0.2636 - val_accuracy: 0.9226\n",
            "Epoch 18/50\n",
            "22/22 [==============================] - 2s 78ms/step - loss: 4.8755e-04 - accuracy: 1.0000 - val_loss: 0.2449 - val_accuracy: 0.9226\n",
            "Epoch 19/50\n",
            "22/22 [==============================] - 2s 80ms/step - loss: 4.2277e-04 - accuracy: 1.0000 - val_loss: 0.2280 - val_accuracy: 0.9226\n",
            "Epoch 20/50\n",
            "22/22 [==============================] - 2s 82ms/step - loss: 3.7097e-04 - accuracy: 1.0000 - val_loss: 0.2134 - val_accuracy: 0.9286\n",
            "Epoch 21/50\n",
            "22/22 [==============================] - 2s 79ms/step - loss: 3.5673e-04 - accuracy: 1.0000 - val_loss: 0.2013 - val_accuracy: 0.9345\n",
            "Epoch 22/50\n",
            "22/22 [==============================] - 2s 84ms/step - loss: 3.4307e-04 - accuracy: 1.0000 - val_loss: 0.1914 - val_accuracy: 0.9345\n",
            "Epoch 23/50\n",
            "22/22 [==============================] - 2s 74ms/step - loss: 3.6482e-04 - accuracy: 1.0000 - val_loss: 0.1844 - val_accuracy: 0.9345\n",
            "Epoch 24/50\n",
            "22/22 [==============================] - 2s 77ms/step - loss: 2.9243e-04 - accuracy: 1.0000 - val_loss: 0.1791 - val_accuracy: 0.9345\n",
            "Epoch 25/50\n",
            "22/22 [==============================] - 2s 77ms/step - loss: 2.7934e-04 - accuracy: 1.0000 - val_loss: 0.1755 - val_accuracy: 0.9345\n",
            "Epoch 26/50\n",
            "22/22 [==============================] - 2s 78ms/step - loss: 2.6950e-04 - accuracy: 1.0000 - val_loss: 0.1738 - val_accuracy: 0.9345\n",
            "Epoch 27/50\n",
            "22/22 [==============================] - 2s 75ms/step - loss: 2.3151e-04 - accuracy: 1.0000 - val_loss: 0.1730 - val_accuracy: 0.9405\n",
            "Epoch 28/50\n",
            "22/22 [==============================] - 2s 76ms/step - loss: 2.4073e-04 - accuracy: 1.0000 - val_loss: 0.1732 - val_accuracy: 0.9405\n",
            "Epoch 29/50\n",
            "22/22 [==============================] - 2s 75ms/step - loss: 2.2230e-04 - accuracy: 1.0000 - val_loss: 0.1741 - val_accuracy: 0.9405\n",
            "Epoch 30/50\n",
            "22/22 [==============================] - 2s 70ms/step - loss: 2.0374e-04 - accuracy: 1.0000 - val_loss: 0.1753 - val_accuracy: 0.9405\n",
            "Epoch 31/50\n",
            "22/22 [==============================] - 2s 71ms/step - loss: 2.0535e-04 - accuracy: 1.0000 - val_loss: 0.1768 - val_accuracy: 0.9405\n",
            "Epoch 32/50\n",
            "22/22 [==============================] - 2s 75ms/step - loss: 1.9512e-04 - accuracy: 1.0000 - val_loss: 0.1781 - val_accuracy: 0.9405\n",
            "Epoch 33/50\n",
            "22/22 [==============================] - 2s 74ms/step - loss: 1.7096e-04 - accuracy: 1.0000 - val_loss: 0.1795 - val_accuracy: 0.9405\n",
            "Epoch 34/50\n",
            "22/22 [==============================] - 2s 74ms/step - loss: 1.5517e-04 - accuracy: 1.0000 - val_loss: 0.1809 - val_accuracy: 0.9405\n",
            "Epoch 35/50\n",
            "22/22 [==============================] - 2s 76ms/step - loss: 1.7194e-04 - accuracy: 1.0000 - val_loss: 0.1828 - val_accuracy: 0.9405\n",
            "Epoch 36/50\n",
            "22/22 [==============================] - 2s 78ms/step - loss: 1.4025e-04 - accuracy: 1.0000 - val_loss: 0.1844 - val_accuracy: 0.9405\n",
            "Epoch 37/50\n",
            "22/22 [==============================] - 2s 75ms/step - loss: 1.6351e-04 - accuracy: 1.0000 - val_loss: 0.1856 - val_accuracy: 0.9405\n"
          ],
          "name": "stdout"
        },
        {
          "output_type": "display_data",
          "data": {
            "text/html": [
              "<span style=\"color:#4527A0\"><h1 style=\"font-size:18px\">Trial complete</h1></span>"
            ],
            "text/plain": [
              "<IPython.core.display.HTML object>"
            ]
          },
          "metadata": {
            "tags": []
          }
        },
        {
          "output_type": "display_data",
          "data": {
            "text/html": [
              "<span style=\"color:#4527A0\"><h1 style=\"font-size:18px\">Trial summary</h1></span>"
            ],
            "text/plain": [
              "<IPython.core.display.HTML object>"
            ]
          },
          "metadata": {
            "tags": []
          }
        },
        {
          "output_type": "display_data",
          "data": {
            "text/html": [
              "<span style=\"color:#7E57C2\"><h2 style=\"font-size:16px\">Hp values:</h2></span>"
            ],
            "text/plain": [
              "<IPython.core.display.HTML object>"
            ]
          },
          "metadata": {
            "tags": []
          }
        },
        {
          "output_type": "display_data",
          "data": {
            "text/html": [
              "<span style=\"color:cyan\"> |-dense_block_1/dropout_rate: 0.5</span>"
            ],
            "text/plain": [
              "<IPython.core.display.HTML object>"
            ]
          },
          "metadata": {
            "tags": []
          }
        },
        {
          "output_type": "display_data",
          "data": {
            "text/html": [
              "<span style=\"color:blue\"> |-dense_block_1/num_layers: 1</span>"
            ],
            "text/plain": [
              "<IPython.core.display.HTML object>"
            ]
          },
          "metadata": {
            "tags": []
          }
        },
        {
          "output_type": "display_data",
          "data": {
            "text/html": [
              "<span style=\"color:cyan\"> |-dense_block_1/units_0: 1024</span>"
            ],
            "text/plain": [
              "<IPython.core.display.HTML object>"
            ]
          },
          "metadata": {
            "tags": []
          }
        },
        {
          "output_type": "display_data",
          "data": {
            "text/html": [
              "<span style=\"color:blue\"> |-dense_block_1/units_1: 256</span>"
            ],
            "text/plain": [
              "<IPython.core.display.HTML object>"
            ]
          },
          "metadata": {
            "tags": []
          }
        },
        {
          "output_type": "display_data",
          "data": {
            "text/html": [
              "<span style=\"color:cyan\"> |-dense_block_1/units_2: 16</span>"
            ],
            "text/plain": [
              "<IPython.core.display.HTML object>"
            ]
          },
          "metadata": {
            "tags": []
          }
        },
        {
          "output_type": "display_data",
          "data": {
            "text/html": [
              "<span style=\"color:blue\"> |-dense_block_1/use_batchnorm: True</span>"
            ],
            "text/plain": [
              "<IPython.core.display.HTML object>"
            ]
          },
          "metadata": {
            "tags": []
          }
        },
        {
          "output_type": "display_data",
          "data": {
            "text/html": [
              "<span style=\"color:cyan\"> |-optimizer: adam</span>"
            ],
            "text/plain": [
              "<IPython.core.display.HTML object>"
            ]
          },
          "metadata": {
            "tags": []
          }
        },
        {
          "output_type": "display_data",
          "data": {
            "text/html": [
              "<span style=\"color:cyan\"> |-Score: 0.17302173065642515</span>"
            ],
            "text/plain": [
              "<IPython.core.display.HTML object>"
            ]
          },
          "metadata": {
            "tags": []
          }
        },
        {
          "output_type": "display_data",
          "data": {
            "text/html": [
              "<span style=\"color:cyan\"> |-Best step: 0</span>"
            ],
            "text/plain": [
              "<IPython.core.display.HTML object>"
            ]
          },
          "metadata": {
            "tags": []
          }
        },
        {
          "output_type": "stream",
          "text": [
            "Epoch 1/50\n",
            "22/22 [==============================] - 3s 148ms/step - loss: 0.6383 - accuracy: 0.6494 - val_loss: 0.0000e+00 - val_accuracy: 0.0000e+00\n",
            "Epoch 2/50\n",
            "22/22 [==============================] - 1s 65ms/step - loss: 0.4758 - accuracy: 0.7589 - val_loss: 0.6590 - val_accuracy: 0.6071\n",
            "Epoch 3/50\n",
            "22/22 [==============================] - 1s 63ms/step - loss: 0.3770 - accuracy: 0.8550 - val_loss: 0.6388 - val_accuracy: 0.6131\n",
            "Epoch 4/50\n",
            "22/22 [==============================] - 1s 62ms/step - loss: 0.2869 - accuracy: 0.9231 - val_loss: 0.6162 - val_accuracy: 0.6190\n",
            "Epoch 5/50\n",
            "22/22 [==============================] - 1s 61ms/step - loss: 0.2321 - accuracy: 0.9482 - val_loss: 0.5923 - val_accuracy: 0.6190\n",
            "Epoch 6/50\n",
            "22/22 [==============================] - 1s 66ms/step - loss: 0.1913 - accuracy: 0.9675 - val_loss: 0.5668 - val_accuracy: 0.6369\n",
            "Epoch 7/50\n",
            "22/22 [==============================] - 1s 62ms/step - loss: 0.1464 - accuracy: 0.9763 - val_loss: 0.5383 - val_accuracy: 0.6429\n",
            "Epoch 8/50\n",
            "22/22 [==============================] - 1s 63ms/step - loss: 0.1217 - accuracy: 0.9793 - val_loss: 0.5134 - val_accuracy: 0.6726\n",
            "Epoch 9/50\n",
            "22/22 [==============================] - 1s 65ms/step - loss: 0.1046 - accuracy: 0.9763 - val_loss: 0.4866 - val_accuracy: 0.7024\n",
            "Epoch 10/50\n",
            "22/22 [==============================] - 1s 64ms/step - loss: 0.0829 - accuracy: 0.9941 - val_loss: 0.4576 - val_accuracy: 0.7381\n",
            "Epoch 11/50\n",
            "22/22 [==============================] - 1s 63ms/step - loss: 0.0710 - accuracy: 0.9941 - val_loss: 0.4288 - val_accuracy: 0.7619\n",
            "Epoch 12/50\n",
            "22/22 [==============================] - 1s 60ms/step - loss: 0.0581 - accuracy: 0.9941 - val_loss: 0.3969 - val_accuracy: 0.8095\n",
            "Epoch 13/50\n",
            "22/22 [==============================] - 1s 63ms/step - loss: 0.0536 - accuracy: 0.9911 - val_loss: 0.3721 - val_accuracy: 0.8214\n",
            "Epoch 14/50\n",
            "22/22 [==============================] - 1s 62ms/step - loss: 0.0546 - accuracy: 0.9926 - val_loss: 0.3394 - val_accuracy: 0.8512\n",
            "Epoch 15/50\n",
            "22/22 [==============================] - 1s 63ms/step - loss: 0.0411 - accuracy: 0.9970 - val_loss: 0.3112 - val_accuracy: 0.8631\n",
            "Epoch 16/50\n",
            "22/22 [==============================] - 1s 63ms/step - loss: 0.0384 - accuracy: 0.9985 - val_loss: 0.2787 - val_accuracy: 0.8869\n",
            "Epoch 17/50\n",
            "22/22 [==============================] - 1s 59ms/step - loss: 0.0317 - accuracy: 1.0000 - val_loss: 0.2450 - val_accuracy: 0.8988\n",
            "Epoch 18/50\n",
            "22/22 [==============================] - 1s 65ms/step - loss: 0.0258 - accuracy: 0.9985 - val_loss: 0.2230 - val_accuracy: 0.9345\n",
            "Epoch 19/50\n",
            "22/22 [==============================] - 1s 63ms/step - loss: 0.0277 - accuracy: 0.9970 - val_loss: 0.2049 - val_accuracy: 0.9345\n",
            "Epoch 20/50\n",
            "22/22 [==============================] - 1s 59ms/step - loss: 0.0244 - accuracy: 0.9970 - val_loss: 0.1917 - val_accuracy: 0.9464\n",
            "Epoch 21/50\n",
            "22/22 [==============================] - 1s 63ms/step - loss: 0.0203 - accuracy: 0.9970 - val_loss: 0.1794 - val_accuracy: 0.9524\n",
            "Epoch 22/50\n",
            "22/22 [==============================] - 1s 59ms/step - loss: 0.0219 - accuracy: 0.9985 - val_loss: 0.1786 - val_accuracy: 0.9524\n",
            "Epoch 23/50\n",
            "22/22 [==============================] - 1s 64ms/step - loss: 0.0241 - accuracy: 0.9985 - val_loss: 0.1714 - val_accuracy: 0.9464\n",
            "Epoch 24/50\n",
            "22/22 [==============================] - 1s 62ms/step - loss: 0.0200 - accuracy: 0.9970 - val_loss: 0.1650 - val_accuracy: 0.9464\n",
            "Epoch 25/50\n",
            "22/22 [==============================] - 1s 63ms/step - loss: 0.0179 - accuracy: 0.9970 - val_loss: 0.1602 - val_accuracy: 0.9464\n",
            "Epoch 26/50\n",
            "22/22 [==============================] - 1s 65ms/step - loss: 0.0192 - accuracy: 0.9970 - val_loss: 0.1560 - val_accuracy: 0.9464\n",
            "Epoch 27/50\n",
            "22/22 [==============================] - 1s 65ms/step - loss: 0.0156 - accuracy: 0.9985 - val_loss: 0.1534 - val_accuracy: 0.9464\n",
            "Epoch 28/50\n",
            "22/22 [==============================] - 1s 64ms/step - loss: 0.0177 - accuracy: 0.9970 - val_loss: 0.1496 - val_accuracy: 0.9464\n",
            "Epoch 29/50\n",
            "22/22 [==============================] - 1s 64ms/step - loss: 0.0162 - accuracy: 1.0000 - val_loss: 0.1446 - val_accuracy: 0.9524\n",
            "Epoch 30/50\n",
            "22/22 [==============================] - 1s 62ms/step - loss: 0.0142 - accuracy: 0.9985 - val_loss: 0.1466 - val_accuracy: 0.9524\n",
            "Epoch 31/50\n",
            "22/22 [==============================] - 1s 60ms/step - loss: 0.0112 - accuracy: 0.9985 - val_loss: 0.1491 - val_accuracy: 0.9464\n",
            "Epoch 32/50\n",
            "22/22 [==============================] - 1s 63ms/step - loss: 0.0113 - accuracy: 0.9985 - val_loss: 0.1488 - val_accuracy: 0.9464\n",
            "Epoch 33/50\n",
            "22/22 [==============================] - 1s 60ms/step - loss: 0.0106 - accuracy: 1.0000 - val_loss: 0.1479 - val_accuracy: 0.9464\n",
            "Epoch 34/50\n",
            "22/22 [==============================] - 1s 61ms/step - loss: 0.0110 - accuracy: 0.9985 - val_loss: 0.1487 - val_accuracy: 0.9464\n",
            "Epoch 35/50\n",
            "22/22 [==============================] - 1s 60ms/step - loss: 0.0118 - accuracy: 0.9985 - val_loss: 0.1529 - val_accuracy: 0.9405\n",
            "Epoch 36/50\n",
            "22/22 [==============================] - 1s 62ms/step - loss: 0.0096 - accuracy: 0.9985 - val_loss: 0.1587 - val_accuracy: 0.9405\n",
            "Epoch 37/50\n",
            "22/22 [==============================] - 1s 61ms/step - loss: 0.0064 - accuracy: 1.0000 - val_loss: 0.1586 - val_accuracy: 0.9464\n",
            "Epoch 38/50\n",
            "22/22 [==============================] - 1s 63ms/step - loss: 0.0103 - accuracy: 0.9985 - val_loss: 0.1606 - val_accuracy: 0.9464\n",
            "Epoch 39/50\n",
            "22/22 [==============================] - 1s 62ms/step - loss: 0.0080 - accuracy: 0.9985 - val_loss: 0.1592 - val_accuracy: 0.9524\n"
          ],
          "name": "stdout"
        },
        {
          "output_type": "display_data",
          "data": {
            "text/html": [
              "<span style=\"color:#4527A0\"><h1 style=\"font-size:18px\">Trial complete</h1></span>"
            ],
            "text/plain": [
              "<IPython.core.display.HTML object>"
            ]
          },
          "metadata": {
            "tags": []
          }
        },
        {
          "output_type": "display_data",
          "data": {
            "text/html": [
              "<span style=\"color:#4527A0\"><h1 style=\"font-size:18px\">Trial summary</h1></span>"
            ],
            "text/plain": [
              "<IPython.core.display.HTML object>"
            ]
          },
          "metadata": {
            "tags": []
          }
        },
        {
          "output_type": "display_data",
          "data": {
            "text/html": [
              "<span style=\"color:#7E57C2\"><h2 style=\"font-size:16px\">Hp values:</h2></span>"
            ],
            "text/plain": [
              "<IPython.core.display.HTML object>"
            ]
          },
          "metadata": {
            "tags": []
          }
        },
        {
          "output_type": "display_data",
          "data": {
            "text/html": [
              "<span style=\"color:cyan\"> |-dense_block_1/dropout_rate: 0.25</span>"
            ],
            "text/plain": [
              "<IPython.core.display.HTML object>"
            ]
          },
          "metadata": {
            "tags": []
          }
        },
        {
          "output_type": "display_data",
          "data": {
            "text/html": [
              "<span style=\"color:blue\"> |-dense_block_1/num_layers: 3</span>"
            ],
            "text/plain": [
              "<IPython.core.display.HTML object>"
            ]
          },
          "metadata": {
            "tags": []
          }
        },
        {
          "output_type": "display_data",
          "data": {
            "text/html": [
              "<span style=\"color:cyan\"> |-dense_block_1/units_0: 256</span>"
            ],
            "text/plain": [
              "<IPython.core.display.HTML object>"
            ]
          },
          "metadata": {
            "tags": []
          }
        },
        {
          "output_type": "display_data",
          "data": {
            "text/html": [
              "<span style=\"color:blue\"> |-dense_block_1/units_1: 16</span>"
            ],
            "text/plain": [
              "<IPython.core.display.HTML object>"
            ]
          },
          "metadata": {
            "tags": []
          }
        },
        {
          "output_type": "display_data",
          "data": {
            "text/html": [
              "<span style=\"color:cyan\"> |-dense_block_1/units_2: 32</span>"
            ],
            "text/plain": [
              "<IPython.core.display.HTML object>"
            ]
          },
          "metadata": {
            "tags": []
          }
        },
        {
          "output_type": "display_data",
          "data": {
            "text/html": [
              "<span style=\"color:blue\"> |-dense_block_1/use_batchnorm: True</span>"
            ],
            "text/plain": [
              "<IPython.core.display.HTML object>"
            ]
          },
          "metadata": {
            "tags": []
          }
        },
        {
          "output_type": "display_data",
          "data": {
            "text/html": [
              "<span style=\"color:cyan\"> |-optimizer: adam</span>"
            ],
            "text/plain": [
              "<IPython.core.display.HTML object>"
            ]
          },
          "metadata": {
            "tags": []
          }
        },
        {
          "output_type": "display_data",
          "data": {
            "text/html": [
              "<span style=\"color:cyan\"> |-Score: 0.14463498753805956</span>"
            ],
            "text/plain": [
              "<IPython.core.display.HTML object>"
            ]
          },
          "metadata": {
            "tags": []
          }
        },
        {
          "output_type": "display_data",
          "data": {
            "text/html": [
              "<span style=\"color:cyan\"> |-Best step: 0</span>"
            ],
            "text/plain": [
              "<IPython.core.display.HTML object>"
            ]
          },
          "metadata": {
            "tags": []
          }
        },
        {
          "output_type": "stream",
          "text": [
            "Epoch 1/50\n",
            "22/22 [==============================] - 2s 94ms/step - loss: 0.6722 - accuracy: 0.5976 - val_loss: 0.0000e+00 - val_accuracy: 0.0000e+00\n",
            "Epoch 2/50\n",
            "22/22 [==============================] - 1s 61ms/step - loss: 0.6103 - accuracy: 0.6036 - val_loss: 0.5432 - val_accuracy: 0.6071\n",
            "Epoch 3/50\n",
            "22/22 [==============================] - 1s 57ms/step - loss: 0.4001 - accuracy: 0.7796 - val_loss: 0.3561 - val_accuracy: 0.8631\n",
            "Epoch 4/50\n",
            "22/22 [==============================] - 1s 59ms/step - loss: 0.2290 - accuracy: 0.9763 - val_loss: 0.2256 - val_accuracy: 0.9048\n",
            "Epoch 5/50\n",
            "22/22 [==============================] - 1s 61ms/step - loss: 0.0783 - accuracy: 0.9911 - val_loss: 0.1753 - val_accuracy: 0.9286\n",
            "Epoch 6/50\n",
            "22/22 [==============================] - 1s 58ms/step - loss: 0.0267 - accuracy: 0.9926 - val_loss: 0.2286 - val_accuracy: 0.9107\n",
            "Epoch 7/50\n",
            "22/22 [==============================] - 1s 56ms/step - loss: 0.0095 - accuracy: 0.9985 - val_loss: 0.2984 - val_accuracy: 0.8869\n",
            "Epoch 8/50\n",
            "22/22 [==============================] - 1s 55ms/step - loss: 0.0042 - accuracy: 1.0000 - val_loss: 0.2934 - val_accuracy: 0.8929\n",
            "Epoch 9/50\n",
            "22/22 [==============================] - 1s 58ms/step - loss: 0.0024 - accuracy: 1.0000 - val_loss: 0.3631 - val_accuracy: 0.8810\n",
            "Epoch 10/50\n",
            "22/22 [==============================] - 1s 58ms/step - loss: 0.0021 - accuracy: 1.0000 - val_loss: 0.3945 - val_accuracy: 0.8810\n",
            "Epoch 11/50\n",
            "22/22 [==============================] - 1s 58ms/step - loss: 0.0011 - accuracy: 1.0000 - val_loss: 0.3413 - val_accuracy: 0.8929\n",
            "Epoch 12/50\n",
            "22/22 [==============================] - 1s 55ms/step - loss: 0.0070 - accuracy: 0.9985 - val_loss: 0.6164 - val_accuracy: 0.8571\n",
            "Epoch 13/50\n",
            "22/22 [==============================] - 1s 57ms/step - loss: 0.0021 - accuracy: 1.0000 - val_loss: 0.3517 - val_accuracy: 0.9048\n",
            "Epoch 14/50\n",
            "22/22 [==============================] - 1s 55ms/step - loss: 6.6908e-04 - accuracy: 1.0000 - val_loss: 0.3720 - val_accuracy: 0.8929\n",
            "Epoch 15/50\n",
            "22/22 [==============================] - 1s 57ms/step - loss: 7.5598e-04 - accuracy: 1.0000 - val_loss: 0.4608 - val_accuracy: 0.8810\n"
          ],
          "name": "stdout"
        },
        {
          "output_type": "display_data",
          "data": {
            "text/html": [
              "<span style=\"color:#4527A0\"><h1 style=\"font-size:18px\">Trial complete</h1></span>"
            ],
            "text/plain": [
              "<IPython.core.display.HTML object>"
            ]
          },
          "metadata": {
            "tags": []
          }
        },
        {
          "output_type": "display_data",
          "data": {
            "text/html": [
              "<span style=\"color:#4527A0\"><h1 style=\"font-size:18px\">Trial summary</h1></span>"
            ],
            "text/plain": [
              "<IPython.core.display.HTML object>"
            ]
          },
          "metadata": {
            "tags": []
          }
        },
        {
          "output_type": "display_data",
          "data": {
            "text/html": [
              "<span style=\"color:#7E57C2\"><h2 style=\"font-size:16px\">Hp values:</h2></span>"
            ],
            "text/plain": [
              "<IPython.core.display.HTML object>"
            ]
          },
          "metadata": {
            "tags": []
          }
        },
        {
          "output_type": "display_data",
          "data": {
            "text/html": [
              "<span style=\"color:cyan\"> |-dense_block_1/dropout_rate: 0.25</span>"
            ],
            "text/plain": [
              "<IPython.core.display.HTML object>"
            ]
          },
          "metadata": {
            "tags": []
          }
        },
        {
          "output_type": "display_data",
          "data": {
            "text/html": [
              "<span style=\"color:blue\"> |-dense_block_1/num_layers: 3</span>"
            ],
            "text/plain": [
              "<IPython.core.display.HTML object>"
            ]
          },
          "metadata": {
            "tags": []
          }
        },
        {
          "output_type": "display_data",
          "data": {
            "text/html": [
              "<span style=\"color:cyan\"> |-dense_block_1/units_0: 16</span>"
            ],
            "text/plain": [
              "<IPython.core.display.HTML object>"
            ]
          },
          "metadata": {
            "tags": []
          }
        },
        {
          "output_type": "display_data",
          "data": {
            "text/html": [
              "<span style=\"color:blue\"> |-dense_block_1/units_1: 256</span>"
            ],
            "text/plain": [
              "<IPython.core.display.HTML object>"
            ]
          },
          "metadata": {
            "tags": []
          }
        },
        {
          "output_type": "display_data",
          "data": {
            "text/html": [
              "<span style=\"color:cyan\"> |-dense_block_1/units_2: 256</span>"
            ],
            "text/plain": [
              "<IPython.core.display.HTML object>"
            ]
          },
          "metadata": {
            "tags": []
          }
        },
        {
          "output_type": "display_data",
          "data": {
            "text/html": [
              "<span style=\"color:blue\"> |-dense_block_1/use_batchnorm: False</span>"
            ],
            "text/plain": [
              "<IPython.core.display.HTML object>"
            ]
          },
          "metadata": {
            "tags": []
          }
        },
        {
          "output_type": "display_data",
          "data": {
            "text/html": [
              "<span style=\"color:cyan\"> |-optimizer: adam</span>"
            ],
            "text/plain": [
              "<IPython.core.display.HTML object>"
            ]
          },
          "metadata": {
            "tags": []
          }
        },
        {
          "output_type": "display_data",
          "data": {
            "text/html": [
              "<span style=\"color:cyan\"> |-Score: 0.1752517962207397</span>"
            ],
            "text/plain": [
              "<IPython.core.display.HTML object>"
            ]
          },
          "metadata": {
            "tags": []
          }
        },
        {
          "output_type": "display_data",
          "data": {
            "text/html": [
              "<span style=\"color:cyan\"> |-Best step: 0</span>"
            ],
            "text/plain": [
              "<IPython.core.display.HTML object>"
            ]
          },
          "metadata": {
            "tags": []
          }
        },
        {
          "output_type": "stream",
          "text": [
            "Epoch 1/50\n",
            "22/22 [==============================] - 2s 83ms/step - loss: 0.6660 - accuracy: 0.6154 - val_loss: 0.0000e+00 - val_accuracy: 0.0000e+00\n",
            "Epoch 2/50\n",
            "22/22 [==============================] - 1s 54ms/step - loss: 0.5863 - accuracy: 0.7278 - val_loss: 0.5595 - val_accuracy: 0.7440\n",
            "Epoch 3/50\n",
            "22/22 [==============================] - 1s 60ms/step - loss: 0.4831 - accuracy: 0.8905 - val_loss: 0.4666 - val_accuracy: 0.8869\n",
            "Epoch 4/50\n",
            "22/22 [==============================] - 1s 54ms/step - loss: 0.3741 - accuracy: 0.9601 - val_loss: 0.3808 - val_accuracy: 0.9226\n",
            "Epoch 5/50\n",
            "22/22 [==============================] - 1s 55ms/step - loss: 0.2806 - accuracy: 0.9852 - val_loss: 0.3130 - val_accuracy: 0.9345\n",
            "Epoch 6/50\n",
            "22/22 [==============================] - 1s 56ms/step - loss: 0.2098 - accuracy: 0.9911 - val_loss: 0.2642 - val_accuracy: 0.9345\n",
            "Epoch 7/50\n",
            "22/22 [==============================] - 1s 58ms/step - loss: 0.1592 - accuracy: 0.9911 - val_loss: 0.2305 - val_accuracy: 0.9345\n",
            "Epoch 8/50\n",
            "22/22 [==============================] - 1s 55ms/step - loss: 0.1234 - accuracy: 0.9926 - val_loss: 0.2076 - val_accuracy: 0.9345\n",
            "Epoch 9/50\n",
            "22/22 [==============================] - 1s 60ms/step - loss: 0.0978 - accuracy: 0.9941 - val_loss: 0.1917 - val_accuracy: 0.9345\n",
            "Epoch 10/50\n",
            "22/22 [==============================] - 1s 56ms/step - loss: 0.0789 - accuracy: 0.9956 - val_loss: 0.1805 - val_accuracy: 0.9345\n",
            "Epoch 11/50\n",
            "22/22 [==============================] - 1s 56ms/step - loss: 0.0648 - accuracy: 0.9970 - val_loss: 0.1726 - val_accuracy: 0.9405\n",
            "Epoch 12/50\n",
            "22/22 [==============================] - 1s 55ms/step - loss: 0.0539 - accuracy: 0.9970 - val_loss: 0.1669 - val_accuracy: 0.9405\n",
            "Epoch 13/50\n",
            "22/22 [==============================] - 1s 59ms/step - loss: 0.0455 - accuracy: 0.9985 - val_loss: 0.1627 - val_accuracy: 0.9405\n",
            "Epoch 14/50\n",
            "22/22 [==============================] - 1s 57ms/step - loss: 0.0388 - accuracy: 0.9985 - val_loss: 0.1597 - val_accuracy: 0.9405\n",
            "Epoch 15/50\n",
            "22/22 [==============================] - 1s 58ms/step - loss: 0.0334 - accuracy: 0.9985 - val_loss: 0.1576 - val_accuracy: 0.9405\n",
            "Epoch 16/50\n",
            "22/22 [==============================] - 1s 60ms/step - loss: 0.0290 - accuracy: 0.9985 - val_loss: 0.1561 - val_accuracy: 0.9405\n",
            "Epoch 17/50\n",
            "22/22 [==============================] - 1s 58ms/step - loss: 0.0254 - accuracy: 1.0000 - val_loss: 0.1550 - val_accuracy: 0.9405\n",
            "Epoch 18/50\n",
            "22/22 [==============================] - 1s 57ms/step - loss: 0.0224 - accuracy: 1.0000 - val_loss: 0.1543 - val_accuracy: 0.9405\n",
            "Epoch 19/50\n",
            "22/22 [==============================] - 1s 57ms/step - loss: 0.0199 - accuracy: 1.0000 - val_loss: 0.1540 - val_accuracy: 0.9405\n",
            "Epoch 20/50\n",
            "22/22 [==============================] - 1s 55ms/step - loss: 0.0178 - accuracy: 1.0000 - val_loss: 0.1538 - val_accuracy: 0.9405\n",
            "Epoch 21/50\n",
            "22/22 [==============================] - 1s 54ms/step - loss: 0.0160 - accuracy: 1.0000 - val_loss: 0.1538 - val_accuracy: 0.9405\n",
            "Epoch 22/50\n",
            "22/22 [==============================] - 1s 58ms/step - loss: 0.0144 - accuracy: 1.0000 - val_loss: 0.1539 - val_accuracy: 0.9405\n",
            "Epoch 23/50\n",
            "22/22 [==============================] - 1s 57ms/step - loss: 0.0131 - accuracy: 1.0000 - val_loss: 0.1542 - val_accuracy: 0.9405\n",
            "Epoch 24/50\n",
            "22/22 [==============================] - 1s 56ms/step - loss: 0.0119 - accuracy: 1.0000 - val_loss: 0.1545 - val_accuracy: 0.9405\n",
            "Epoch 25/50\n",
            "22/22 [==============================] - 1s 55ms/step - loss: 0.0109 - accuracy: 1.0000 - val_loss: 0.1549 - val_accuracy: 0.9405\n",
            "Epoch 26/50\n",
            "22/22 [==============================] - 1s 57ms/step - loss: 0.0100 - accuracy: 1.0000 - val_loss: 0.1554 - val_accuracy: 0.9405\n",
            "Epoch 27/50\n",
            "22/22 [==============================] - 1s 55ms/step - loss: 0.0092 - accuracy: 1.0000 - val_loss: 0.1559 - val_accuracy: 0.9405\n",
            "Epoch 28/50\n",
            "22/22 [==============================] - 1s 55ms/step - loss: 0.0085 - accuracy: 1.0000 - val_loss: 0.1564 - val_accuracy: 0.9405\n",
            "Epoch 29/50\n",
            "22/22 [==============================] - 1s 58ms/step - loss: 0.0078 - accuracy: 1.0000 - val_loss: 0.1570 - val_accuracy: 0.9405\n",
            "Epoch 30/50\n",
            "22/22 [==============================] - 1s 56ms/step - loss: 0.0073 - accuracy: 1.0000 - val_loss: 0.1576 - val_accuracy: 0.9405\n"
          ],
          "name": "stdout"
        },
        {
          "output_type": "display_data",
          "data": {
            "text/html": [
              "<span style=\"color:#4527A0\"><h1 style=\"font-size:18px\">Trial complete</h1></span>"
            ],
            "text/plain": [
              "<IPython.core.display.HTML object>"
            ]
          },
          "metadata": {
            "tags": []
          }
        },
        {
          "output_type": "display_data",
          "data": {
            "text/html": [
              "<span style=\"color:#4527A0\"><h1 style=\"font-size:18px\">Trial summary</h1></span>"
            ],
            "text/plain": [
              "<IPython.core.display.HTML object>"
            ]
          },
          "metadata": {
            "tags": []
          }
        },
        {
          "output_type": "display_data",
          "data": {
            "text/html": [
              "<span style=\"color:#7E57C2\"><h2 style=\"font-size:16px\">Hp values:</h2></span>"
            ],
            "text/plain": [
              "<IPython.core.display.HTML object>"
            ]
          },
          "metadata": {
            "tags": []
          }
        },
        {
          "output_type": "display_data",
          "data": {
            "text/html": [
              "<span style=\"color:cyan\"> |-dense_block_1/dropout_rate: 0.0</span>"
            ],
            "text/plain": [
              "<IPython.core.display.HTML object>"
            ]
          },
          "metadata": {
            "tags": []
          }
        },
        {
          "output_type": "display_data",
          "data": {
            "text/html": [
              "<span style=\"color:blue\"> |-dense_block_1/num_layers: 1</span>"
            ],
            "text/plain": [
              "<IPython.core.display.HTML object>"
            ]
          },
          "metadata": {
            "tags": []
          }
        },
        {
          "output_type": "display_data",
          "data": {
            "text/html": [
              "<span style=\"color:cyan\"> |-dense_block_1/units_0: 64</span>"
            ],
            "text/plain": [
              "<IPython.core.display.HTML object>"
            ]
          },
          "metadata": {
            "tags": []
          }
        },
        {
          "output_type": "display_data",
          "data": {
            "text/html": [
              "<span style=\"color:blue\"> |-dense_block_1/units_1: 512</span>"
            ],
            "text/plain": [
              "<IPython.core.display.HTML object>"
            ]
          },
          "metadata": {
            "tags": []
          }
        },
        {
          "output_type": "display_data",
          "data": {
            "text/html": [
              "<span style=\"color:cyan\"> |-dense_block_1/units_2: 32</span>"
            ],
            "text/plain": [
              "<IPython.core.display.HTML object>"
            ]
          },
          "metadata": {
            "tags": []
          }
        },
        {
          "output_type": "display_data",
          "data": {
            "text/html": [
              "<span style=\"color:blue\"> |-dense_block_1/use_batchnorm: False</span>"
            ],
            "text/plain": [
              "<IPython.core.display.HTML object>"
            ]
          },
          "metadata": {
            "tags": []
          }
        },
        {
          "output_type": "display_data",
          "data": {
            "text/html": [
              "<span style=\"color:cyan\"> |-optimizer: adam</span>"
            ],
            "text/plain": [
              "<IPython.core.display.HTML object>"
            ]
          },
          "metadata": {
            "tags": []
          }
        },
        {
          "output_type": "display_data",
          "data": {
            "text/html": [
              "<span style=\"color:cyan\"> |-Score: 0.15377359775205454</span>"
            ],
            "text/plain": [
              "<IPython.core.display.HTML object>"
            ]
          },
          "metadata": {
            "tags": []
          }
        },
        {
          "output_type": "display_data",
          "data": {
            "text/html": [
              "<span style=\"color:cyan\"> |-Best step: 0</span>"
            ],
            "text/plain": [
              "<IPython.core.display.HTML object>"
            ]
          },
          "metadata": {
            "tags": []
          }
        },
        {
          "output_type": "stream",
          "text": [
            "Epoch 1/50\n",
            "22/22 [==============================] - 2s 85ms/step - loss: 0.6808 - accuracy: 0.6317 - val_loss: 0.0000e+00 - val_accuracy: 0.0000e+00\n",
            "Epoch 2/50\n",
            "22/22 [==============================] - 1s 55ms/step - loss: 0.6334 - accuracy: 0.7751 - val_loss: 0.6121 - val_accuracy: 0.7381\n",
            "Epoch 3/50\n",
            "22/22 [==============================] - 1s 56ms/step - loss: 0.5600 - accuracy: 0.8891 - val_loss: 0.5370 - val_accuracy: 0.8750\n",
            "Epoch 4/50\n",
            "22/22 [==============================] - 1s 57ms/step - loss: 0.4629 - accuracy: 0.9527 - val_loss: 0.4495 - val_accuracy: 0.9286\n",
            "Epoch 5/50\n",
            "22/22 [==============================] - 1s 58ms/step - loss: 0.3643 - accuracy: 0.9734 - val_loss: 0.3693 - val_accuracy: 0.9464\n",
            "Epoch 6/50\n",
            "22/22 [==============================] - 1s 57ms/step - loss: 0.2762 - accuracy: 0.9882 - val_loss: 0.3071 - val_accuracy: 0.9464\n",
            "Epoch 7/50\n",
            "22/22 [==============================] - 1s 61ms/step - loss: 0.2161 - accuracy: 0.9882 - val_loss: 0.2622 - val_accuracy: 0.9464\n",
            "Epoch 8/50\n",
            "22/22 [==============================] - 1s 58ms/step - loss: 0.1684 - accuracy: 0.9926 - val_loss: 0.2305 - val_accuracy: 0.9464\n",
            "Epoch 9/50\n",
            "22/22 [==============================] - 1s 56ms/step - loss: 0.1338 - accuracy: 0.9926 - val_loss: 0.2080 - val_accuracy: 0.9524\n",
            "Epoch 10/50\n",
            "22/22 [==============================] - 1s 56ms/step - loss: 0.1111 - accuracy: 0.9941 - val_loss: 0.1919 - val_accuracy: 0.9524\n",
            "Epoch 11/50\n",
            "22/22 [==============================] - 1s 58ms/step - loss: 0.0934 - accuracy: 0.9956 - val_loss: 0.1805 - val_accuracy: 0.9524\n",
            "Epoch 12/50\n",
            "22/22 [==============================] - 1s 56ms/step - loss: 0.0758 - accuracy: 0.9941 - val_loss: 0.1722 - val_accuracy: 0.9524\n",
            "Epoch 13/50\n",
            "22/22 [==============================] - 1s 51ms/step - loss: 0.0638 - accuracy: 0.9970 - val_loss: 0.1649 - val_accuracy: 0.9583\n",
            "Epoch 14/50\n",
            "22/22 [==============================] - 1s 56ms/step - loss: 0.0563 - accuracy: 0.9985 - val_loss: 0.1598 - val_accuracy: 0.9583\n",
            "Epoch 15/50\n",
            "22/22 [==============================] - 1s 56ms/step - loss: 0.0478 - accuracy: 0.9970 - val_loss: 0.1560 - val_accuracy: 0.9583\n",
            "Epoch 16/50\n",
            "22/22 [==============================] - 1s 59ms/step - loss: 0.0403 - accuracy: 0.9985 - val_loss: 0.1535 - val_accuracy: 0.9583\n",
            "Epoch 17/50\n",
            "22/22 [==============================] - 1s 56ms/step - loss: 0.0369 - accuracy: 0.9985 - val_loss: 0.1508 - val_accuracy: 0.9583\n",
            "Epoch 18/50\n",
            "22/22 [==============================] - 1s 56ms/step - loss: 0.0316 - accuracy: 0.9985 - val_loss: 0.1493 - val_accuracy: 0.9583\n",
            "Epoch 19/50\n",
            "22/22 [==============================] - 1s 54ms/step - loss: 0.0294 - accuracy: 0.9985 - val_loss: 0.1479 - val_accuracy: 0.9583\n",
            "Epoch 20/50\n",
            "22/22 [==============================] - 1s 59ms/step - loss: 0.0252 - accuracy: 0.9985 - val_loss: 0.1475 - val_accuracy: 0.9583\n",
            "Epoch 21/50\n",
            "22/22 [==============================] - 1s 54ms/step - loss: 0.0231 - accuracy: 0.9985 - val_loss: 0.1471 - val_accuracy: 0.9524\n",
            "Epoch 22/50\n",
            "22/22 [==============================] - 1s 57ms/step - loss: 0.0209 - accuracy: 0.9985 - val_loss: 0.1461 - val_accuracy: 0.9524\n",
            "Epoch 23/50\n",
            "22/22 [==============================] - 1s 54ms/step - loss: 0.0194 - accuracy: 1.0000 - val_loss: 0.1465 - val_accuracy: 0.9524\n",
            "Epoch 24/50\n",
            "22/22 [==============================] - 1s 58ms/step - loss: 0.0182 - accuracy: 0.9985 - val_loss: 0.1457 - val_accuracy: 0.9583\n",
            "Epoch 25/50\n",
            "22/22 [==============================] - 1s 57ms/step - loss: 0.0171 - accuracy: 0.9985 - val_loss: 0.1457 - val_accuracy: 0.9583\n",
            "Epoch 26/50\n",
            "22/22 [==============================] - 1s 55ms/step - loss: 0.0155 - accuracy: 1.0000 - val_loss: 0.1461 - val_accuracy: 0.9583\n",
            "Epoch 27/50\n",
            "22/22 [==============================] - 1s 54ms/step - loss: 0.0132 - accuracy: 1.0000 - val_loss: 0.1465 - val_accuracy: 0.9524\n",
            "Epoch 28/50\n",
            "22/22 [==============================] - 1s 56ms/step - loss: 0.0129 - accuracy: 1.0000 - val_loss: 0.1465 - val_accuracy: 0.9583\n",
            "Epoch 29/50\n",
            "22/22 [==============================] - 1s 52ms/step - loss: 0.0120 - accuracy: 1.0000 - val_loss: 0.1476 - val_accuracy: 0.9524\n",
            "Epoch 30/50\n",
            "22/22 [==============================] - 1s 56ms/step - loss: 0.0101 - accuracy: 1.0000 - val_loss: 0.1471 - val_accuracy: 0.9583\n",
            "Epoch 31/50\n",
            "22/22 [==============================] - 1s 54ms/step - loss: 0.0102 - accuracy: 1.0000 - val_loss: 0.1477 - val_accuracy: 0.9524\n",
            "Epoch 32/50\n",
            "22/22 [==============================] - 1s 58ms/step - loss: 0.0094 - accuracy: 1.0000 - val_loss: 0.1479 - val_accuracy: 0.9524\n",
            "Epoch 33/50\n",
            "22/22 [==============================] - 1s 57ms/step - loss: 0.0094 - accuracy: 1.0000 - val_loss: 0.1485 - val_accuracy: 0.9524\n",
            "Epoch 34/50\n",
            "22/22 [==============================] - 1s 54ms/step - loss: 0.0075 - accuracy: 1.0000 - val_loss: 0.1489 - val_accuracy: 0.9524\n"
          ],
          "name": "stdout"
        },
        {
          "output_type": "display_data",
          "data": {
            "text/html": [
              "<span style=\"color:#4527A0\"><h1 style=\"font-size:18px\">Trial complete</h1></span>"
            ],
            "text/plain": [
              "<IPython.core.display.HTML object>"
            ]
          },
          "metadata": {
            "tags": []
          }
        },
        {
          "output_type": "display_data",
          "data": {
            "text/html": [
              "<span style=\"color:#4527A0\"><h1 style=\"font-size:18px\">Trial summary</h1></span>"
            ],
            "text/plain": [
              "<IPython.core.display.HTML object>"
            ]
          },
          "metadata": {
            "tags": []
          }
        },
        {
          "output_type": "display_data",
          "data": {
            "text/html": [
              "<span style=\"color:#7E57C2\"><h2 style=\"font-size:16px\">Hp values:</h2></span>"
            ],
            "text/plain": [
              "<IPython.core.display.HTML object>"
            ]
          },
          "metadata": {
            "tags": []
          }
        },
        {
          "output_type": "display_data",
          "data": {
            "text/html": [
              "<span style=\"color:cyan\"> |-dense_block_1/dropout_rate: 0.25</span>"
            ],
            "text/plain": [
              "<IPython.core.display.HTML object>"
            ]
          },
          "metadata": {
            "tags": []
          }
        },
        {
          "output_type": "display_data",
          "data": {
            "text/html": [
              "<span style=\"color:blue\"> |-dense_block_1/num_layers: 1</span>"
            ],
            "text/plain": [
              "<IPython.core.display.HTML object>"
            ]
          },
          "metadata": {
            "tags": []
          }
        },
        {
          "output_type": "display_data",
          "data": {
            "text/html": [
              "<span style=\"color:cyan\"> |-dense_block_1/units_0: 64</span>"
            ],
            "text/plain": [
              "<IPython.core.display.HTML object>"
            ]
          },
          "metadata": {
            "tags": []
          }
        },
        {
          "output_type": "display_data",
          "data": {
            "text/html": [
              "<span style=\"color:blue\"> |-dense_block_1/units_1: 512</span>"
            ],
            "text/plain": [
              "<IPython.core.display.HTML object>"
            ]
          },
          "metadata": {
            "tags": []
          }
        },
        {
          "output_type": "display_data",
          "data": {
            "text/html": [
              "<span style=\"color:cyan\"> |-dense_block_1/units_2: 256</span>"
            ],
            "text/plain": [
              "<IPython.core.display.HTML object>"
            ]
          },
          "metadata": {
            "tags": []
          }
        },
        {
          "output_type": "display_data",
          "data": {
            "text/html": [
              "<span style=\"color:blue\"> |-dense_block_1/use_batchnorm: False</span>"
            ],
            "text/plain": [
              "<IPython.core.display.HTML object>"
            ]
          },
          "metadata": {
            "tags": []
          }
        },
        {
          "output_type": "display_data",
          "data": {
            "text/html": [
              "<span style=\"color:cyan\"> |-optimizer: adam</span>"
            ],
            "text/plain": [
              "<IPython.core.display.HTML object>"
            ]
          },
          "metadata": {
            "tags": []
          }
        },
        {
          "output_type": "display_data",
          "data": {
            "text/html": [
              "<span style=\"color:cyan\"> |-Score: 0.1457346503933271</span>"
            ],
            "text/plain": [
              "<IPython.core.display.HTML object>"
            ]
          },
          "metadata": {
            "tags": []
          }
        },
        {
          "output_type": "display_data",
          "data": {
            "text/html": [
              "<span style=\"color:cyan\"> |-Best step: 0</span>"
            ],
            "text/plain": [
              "<IPython.core.display.HTML object>"
            ]
          },
          "metadata": {
            "tags": []
          }
        },
        {
          "output_type": "stream",
          "text": [
            "Epoch 1/50\n",
            "22/22 [==============================] - 2s 102ms/step - loss: 0.4925 - accuracy: 0.7604 - val_loss: 0.0000e+00 - val_accuracy: 0.0000e+00\n",
            "Epoch 2/50\n",
            "22/22 [==============================] - 1s 62ms/step - loss: 0.0890 - accuracy: 0.9852 - val_loss: 0.6032 - val_accuracy: 0.7321\n",
            "Epoch 3/50\n",
            "22/22 [==============================] - 1s 60ms/step - loss: 0.0342 - accuracy: 0.9956 - val_loss: 0.5827 - val_accuracy: 0.7917\n",
            "Epoch 4/50\n",
            "22/22 [==============================] - 1s 61ms/step - loss: 0.0202 - accuracy: 1.0000 - val_loss: 0.5633 - val_accuracy: 0.8155\n",
            "Epoch 5/50\n",
            "22/22 [==============================] - 1s 61ms/step - loss: 0.0132 - accuracy: 1.0000 - val_loss: 0.5433 - val_accuracy: 0.8333\n",
            "Epoch 6/50\n",
            "22/22 [==============================] - 1s 62ms/step - loss: 0.0092 - accuracy: 1.0000 - val_loss: 0.5230 - val_accuracy: 0.8333\n",
            "Epoch 7/50\n",
            "22/22 [==============================] - 1s 62ms/step - loss: 0.0074 - accuracy: 1.0000 - val_loss: 0.5023 - val_accuracy: 0.8452\n",
            "Epoch 8/50\n",
            "22/22 [==============================] - 1s 61ms/step - loss: 0.0055 - accuracy: 1.0000 - val_loss: 0.4804 - val_accuracy: 0.8571\n",
            "Epoch 9/50\n",
            "22/22 [==============================] - 1s 64ms/step - loss: 0.0044 - accuracy: 1.0000 - val_loss: 0.4579 - val_accuracy: 0.8690\n",
            "Epoch 10/50\n",
            "22/22 [==============================] - 1s 62ms/step - loss: 0.0039 - accuracy: 1.0000 - val_loss: 0.4347 - val_accuracy: 0.8810\n",
            "Epoch 11/50\n",
            "22/22 [==============================] - 1s 62ms/step - loss: 0.0033 - accuracy: 1.0000 - val_loss: 0.4109 - val_accuracy: 0.8869\n",
            "Epoch 12/50\n",
            "22/22 [==============================] - 1s 60ms/step - loss: 0.0028 - accuracy: 1.0000 - val_loss: 0.3868 - val_accuracy: 0.8869\n",
            "Epoch 13/50\n",
            "22/22 [==============================] - 1s 61ms/step - loss: 0.0024 - accuracy: 1.0000 - val_loss: 0.3625 - val_accuracy: 0.8988\n",
            "Epoch 14/50\n",
            "22/22 [==============================] - 1s 63ms/step - loss: 0.0022 - accuracy: 1.0000 - val_loss: 0.3384 - val_accuracy: 0.9167\n",
            "Epoch 15/50\n",
            "22/22 [==============================] - 1s 61ms/step - loss: 0.0019 - accuracy: 1.0000 - val_loss: 0.3147 - val_accuracy: 0.9167\n",
            "Epoch 16/50\n",
            "22/22 [==============================] - 1s 61ms/step - loss: 0.0016 - accuracy: 1.0000 - val_loss: 0.2920 - val_accuracy: 0.9167\n",
            "Epoch 17/50\n",
            "22/22 [==============================] - 1s 62ms/step - loss: 0.0016 - accuracy: 1.0000 - val_loss: 0.2704 - val_accuracy: 0.9286\n",
            "Epoch 18/50\n",
            "22/22 [==============================] - 1s 60ms/step - loss: 0.0014 - accuracy: 1.0000 - val_loss: 0.2506 - val_accuracy: 0.9286\n",
            "Epoch 19/50\n",
            "22/22 [==============================] - 1s 60ms/step - loss: 0.0013 - accuracy: 1.0000 - val_loss: 0.2329 - val_accuracy: 0.9286\n",
            "Epoch 20/50\n",
            "22/22 [==============================] - 1s 65ms/step - loss: 0.0012 - accuracy: 1.0000 - val_loss: 0.2174 - val_accuracy: 0.9286\n",
            "Epoch 21/50\n",
            "22/22 [==============================] - 1s 62ms/step - loss: 0.0011 - accuracy: 1.0000 - val_loss: 0.2045 - val_accuracy: 0.9286\n",
            "Epoch 22/50\n",
            "22/22 [==============================] - 1s 63ms/step - loss: 9.8415e-04 - accuracy: 1.0000 - val_loss: 0.1936 - val_accuracy: 0.9286\n",
            "Epoch 23/50\n",
            "22/22 [==============================] - 1s 59ms/step - loss: 9.1894e-04 - accuracy: 1.0000 - val_loss: 0.1848 - val_accuracy: 0.9286\n",
            "Epoch 24/50\n",
            "22/22 [==============================] - 1s 60ms/step - loss: 7.8261e-04 - accuracy: 1.0000 - val_loss: 0.1782 - val_accuracy: 0.9286\n",
            "Epoch 25/50\n",
            "22/22 [==============================] - 1s 60ms/step - loss: 7.9214e-04 - accuracy: 1.0000 - val_loss: 0.1736 - val_accuracy: 0.9286\n",
            "Epoch 26/50\n",
            "22/22 [==============================] - 1s 61ms/step - loss: 7.7619e-04 - accuracy: 1.0000 - val_loss: 0.1705 - val_accuracy: 0.9345\n",
            "Epoch 27/50\n",
            "22/22 [==============================] - 1s 59ms/step - loss: 6.6430e-04 - accuracy: 1.0000 - val_loss: 0.1687 - val_accuracy: 0.9345\n",
            "Epoch 28/50\n",
            "22/22 [==============================] - 1s 61ms/step - loss: 6.3148e-04 - accuracy: 1.0000 - val_loss: 0.1678 - val_accuracy: 0.9345\n",
            "Epoch 29/50\n",
            "22/22 [==============================] - 1s 66ms/step - loss: 5.6595e-04 - accuracy: 1.0000 - val_loss: 0.1675 - val_accuracy: 0.9345\n",
            "Epoch 30/50\n",
            "22/22 [==============================] - 1s 61ms/step - loss: 5.6014e-04 - accuracy: 1.0000 - val_loss: 0.1678 - val_accuracy: 0.9345\n",
            "Epoch 31/50\n",
            "22/22 [==============================] - 1s 60ms/step - loss: 5.0443e-04 - accuracy: 1.0000 - val_loss: 0.1683 - val_accuracy: 0.9345\n",
            "Epoch 32/50\n",
            "22/22 [==============================] - 1s 60ms/step - loss: 5.0117e-04 - accuracy: 1.0000 - val_loss: 0.1691 - val_accuracy: 0.9345\n",
            "Epoch 33/50\n",
            "22/22 [==============================] - 1s 61ms/step - loss: 4.7046e-04 - accuracy: 1.0000 - val_loss: 0.1700 - val_accuracy: 0.9345\n",
            "Epoch 34/50\n",
            "22/22 [==============================] - 1s 60ms/step - loss: 4.4563e-04 - accuracy: 1.0000 - val_loss: 0.1708 - val_accuracy: 0.9345\n",
            "Epoch 35/50\n",
            "22/22 [==============================] - 1s 63ms/step - loss: 3.9824e-04 - accuracy: 1.0000 - val_loss: 0.1716 - val_accuracy: 0.9345\n",
            "Epoch 36/50\n",
            "22/22 [==============================] - 1s 65ms/step - loss: 3.9511e-04 - accuracy: 1.0000 - val_loss: 0.1726 - val_accuracy: 0.9345\n",
            "Epoch 37/50\n",
            "22/22 [==============================] - 1s 62ms/step - loss: 3.5779e-04 - accuracy: 1.0000 - val_loss: 0.1733 - val_accuracy: 0.9345\n",
            "Epoch 38/50\n",
            "22/22 [==============================] - 1s 64ms/step - loss: 3.5350e-04 - accuracy: 1.0000 - val_loss: 0.1741 - val_accuracy: 0.9345\n",
            "Epoch 39/50\n",
            "22/22 [==============================] - 1s 59ms/step - loss: 3.5513e-04 - accuracy: 1.0000 - val_loss: 0.1750 - val_accuracy: 0.9345\n"
          ],
          "name": "stdout"
        },
        {
          "output_type": "display_data",
          "data": {
            "text/html": [
              "<span style=\"color:#4527A0\"><h1 style=\"font-size:18px\">Trial complete</h1></span>"
            ],
            "text/plain": [
              "<IPython.core.display.HTML object>"
            ]
          },
          "metadata": {
            "tags": []
          }
        },
        {
          "output_type": "display_data",
          "data": {
            "text/html": [
              "<span style=\"color:#4527A0\"><h1 style=\"font-size:18px\">Trial summary</h1></span>"
            ],
            "text/plain": [
              "<IPython.core.display.HTML object>"
            ]
          },
          "metadata": {
            "tags": []
          }
        },
        {
          "output_type": "display_data",
          "data": {
            "text/html": [
              "<span style=\"color:#7E57C2\"><h2 style=\"font-size:16px\">Hp values:</h2></span>"
            ],
            "text/plain": [
              "<IPython.core.display.HTML object>"
            ]
          },
          "metadata": {
            "tags": []
          }
        },
        {
          "output_type": "display_data",
          "data": {
            "text/html": [
              "<span style=\"color:cyan\"> |-dense_block_1/dropout_rate: 0.25</span>"
            ],
            "text/plain": [
              "<IPython.core.display.HTML object>"
            ]
          },
          "metadata": {
            "tags": []
          }
        },
        {
          "output_type": "display_data",
          "data": {
            "text/html": [
              "<span style=\"color:blue\"> |-dense_block_1/num_layers: 1</span>"
            ],
            "text/plain": [
              "<IPython.core.display.HTML object>"
            ]
          },
          "metadata": {
            "tags": []
          }
        },
        {
          "output_type": "display_data",
          "data": {
            "text/html": [
              "<span style=\"color:cyan\"> |-dense_block_1/units_0: 256</span>"
            ],
            "text/plain": [
              "<IPython.core.display.HTML object>"
            ]
          },
          "metadata": {
            "tags": []
          }
        },
        {
          "output_type": "display_data",
          "data": {
            "text/html": [
              "<span style=\"color:blue\"> |-dense_block_1/units_1: 32</span>"
            ],
            "text/plain": [
              "<IPython.core.display.HTML object>"
            ]
          },
          "metadata": {
            "tags": []
          }
        },
        {
          "output_type": "display_data",
          "data": {
            "text/html": [
              "<span style=\"color:cyan\"> |-dense_block_1/units_2: 1024</span>"
            ],
            "text/plain": [
              "<IPython.core.display.HTML object>"
            ]
          },
          "metadata": {
            "tags": []
          }
        },
        {
          "output_type": "display_data",
          "data": {
            "text/html": [
              "<span style=\"color:blue\"> |-dense_block_1/use_batchnorm: True</span>"
            ],
            "text/plain": [
              "<IPython.core.display.HTML object>"
            ]
          },
          "metadata": {
            "tags": []
          }
        },
        {
          "output_type": "display_data",
          "data": {
            "text/html": [
              "<span style=\"color:cyan\"> |-optimizer: adam</span>"
            ],
            "text/plain": [
              "<IPython.core.display.HTML object>"
            ]
          },
          "metadata": {
            "tags": []
          }
        },
        {
          "output_type": "display_data",
          "data": {
            "text/html": [
              "<span style=\"color:cyan\"> |-Score: 0.16747219984730086</span>"
            ],
            "text/plain": [
              "<IPython.core.display.HTML object>"
            ]
          },
          "metadata": {
            "tags": []
          }
        },
        {
          "output_type": "display_data",
          "data": {
            "text/html": [
              "<span style=\"color:cyan\"> |-Best step: 0</span>"
            ],
            "text/plain": [
              "<IPython.core.display.HTML object>"
            ]
          },
          "metadata": {
            "tags": []
          }
        },
        {
          "output_type": "stream",
          "text": [
            "Epoch 1/50\n",
            "22/22 [==============================] - 3s 118ms/step - loss: 0.6945 - accuracy: 0.6228 - val_loss: 0.0000e+00 - val_accuracy: 0.0000e+00\n",
            "Epoch 2/50\n",
            "22/22 [==============================] - 1s 55ms/step - loss: 0.3023 - accuracy: 0.9068 - val_loss: 0.6664 - val_accuracy: 0.6131\n",
            "Epoch 3/50\n",
            "22/22 [==============================] - 1s 54ms/step - loss: 0.1906 - accuracy: 0.9763 - val_loss: 0.6528 - val_accuracy: 0.6071\n",
            "Epoch 4/50\n",
            "22/22 [==============================] - 1s 55ms/step - loss: 0.1301 - accuracy: 0.9926 - val_loss: 0.6392 - val_accuracy: 0.6071\n",
            "Epoch 5/50\n",
            "22/22 [==============================] - 1s 55ms/step - loss: 0.0952 - accuracy: 0.9970 - val_loss: 0.6261 - val_accuracy: 0.6071\n",
            "Epoch 6/50\n",
            "22/22 [==============================] - 1s 53ms/step - loss: 0.0734 - accuracy: 0.9985 - val_loss: 0.6147 - val_accuracy: 0.6071\n",
            "Epoch 7/50\n",
            "22/22 [==============================] - 1s 56ms/step - loss: 0.0588 - accuracy: 0.9985 - val_loss: 0.6043 - val_accuracy: 0.6071\n",
            "Epoch 8/50\n",
            "22/22 [==============================] - 1s 56ms/step - loss: 0.0484 - accuracy: 1.0000 - val_loss: 0.5943 - val_accuracy: 0.6071\n",
            "Epoch 9/50\n",
            "22/22 [==============================] - 1s 55ms/step - loss: 0.0405 - accuracy: 1.0000 - val_loss: 0.5847 - val_accuracy: 0.6131\n",
            "Epoch 10/50\n",
            "22/22 [==============================] - 1s 56ms/step - loss: 0.0345 - accuracy: 1.0000 - val_loss: 0.5751 - val_accuracy: 0.6131\n",
            "Epoch 11/50\n",
            "22/22 [==============================] - 1s 56ms/step - loss: 0.0298 - accuracy: 1.0000 - val_loss: 0.5649 - val_accuracy: 0.6310\n",
            "Epoch 12/50\n",
            "22/22 [==============================] - 1s 56ms/step - loss: 0.0261 - accuracy: 1.0000 - val_loss: 0.5534 - val_accuracy: 0.6369\n",
            "Epoch 13/50\n",
            "22/22 [==============================] - 1s 53ms/step - loss: 0.0231 - accuracy: 1.0000 - val_loss: 0.5396 - val_accuracy: 0.6429\n",
            "Epoch 14/50\n",
            "22/22 [==============================] - 1s 55ms/step - loss: 0.0207 - accuracy: 1.0000 - val_loss: 0.5235 - val_accuracy: 0.6488\n",
            "Epoch 15/50\n",
            "22/22 [==============================] - 1s 54ms/step - loss: 0.0187 - accuracy: 1.0000 - val_loss: 0.5049 - val_accuracy: 0.6607\n",
            "Epoch 16/50\n",
            "22/22 [==============================] - 1s 58ms/step - loss: 0.0169 - accuracy: 1.0000 - val_loss: 0.4838 - val_accuracy: 0.6905\n",
            "Epoch 17/50\n",
            "22/22 [==============================] - 1s 54ms/step - loss: 0.0155 - accuracy: 1.0000 - val_loss: 0.4602 - val_accuracy: 0.7202\n",
            "Epoch 18/50\n",
            "22/22 [==============================] - 1s 55ms/step - loss: 0.0142 - accuracy: 1.0000 - val_loss: 0.4346 - val_accuracy: 0.7679\n",
            "Epoch 19/50\n",
            "22/22 [==============================] - 1s 56ms/step - loss: 0.0130 - accuracy: 1.0000 - val_loss: 0.4083 - val_accuracy: 0.8036\n",
            "Epoch 20/50\n",
            "22/22 [==============================] - 1s 56ms/step - loss: 0.0120 - accuracy: 1.0000 - val_loss: 0.3819 - val_accuracy: 0.8214\n",
            "Epoch 21/50\n",
            "22/22 [==============================] - 1s 54ms/step - loss: 0.0111 - accuracy: 1.0000 - val_loss: 0.3565 - val_accuracy: 0.8452\n",
            "Epoch 22/50\n",
            "22/22 [==============================] - 1s 59ms/step - loss: 0.0103 - accuracy: 1.0000 - val_loss: 0.3323 - val_accuracy: 0.8452\n",
            "Epoch 23/50\n",
            "22/22 [==============================] - 1s 56ms/step - loss: 0.0096 - accuracy: 1.0000 - val_loss: 0.3097 - val_accuracy: 0.8810\n",
            "Epoch 24/50\n",
            "22/22 [==============================] - 1s 55ms/step - loss: 0.0090 - accuracy: 1.0000 - val_loss: 0.2889 - val_accuracy: 0.8869\n",
            "Epoch 25/50\n",
            "22/22 [==============================] - 1s 54ms/step - loss: 0.0084 - accuracy: 1.0000 - val_loss: 0.2715 - val_accuracy: 0.8929\n",
            "Epoch 26/50\n",
            "22/22 [==============================] - 1s 54ms/step - loss: 0.0079 - accuracy: 1.0000 - val_loss: 0.2571 - val_accuracy: 0.9048\n",
            "Epoch 27/50\n",
            "22/22 [==============================] - 1s 55ms/step - loss: 0.0074 - accuracy: 1.0000 - val_loss: 0.2449 - val_accuracy: 0.8988\n",
            "Epoch 28/50\n",
            "22/22 [==============================] - 1s 59ms/step - loss: 0.0069 - accuracy: 1.0000 - val_loss: 0.2352 - val_accuracy: 0.8988\n",
            "Epoch 29/50\n",
            "22/22 [==============================] - 1s 56ms/step - loss: 0.0065 - accuracy: 1.0000 - val_loss: 0.2277 - val_accuracy: 0.9167\n",
            "Epoch 30/50\n",
            "22/22 [==============================] - 1s 52ms/step - loss: 0.0061 - accuracy: 1.0000 - val_loss: 0.2222 - val_accuracy: 0.9167\n",
            "Epoch 31/50\n",
            "22/22 [==============================] - 1s 56ms/step - loss: 0.0058 - accuracy: 1.0000 - val_loss: 0.2184 - val_accuracy: 0.9107\n",
            "Epoch 32/50\n",
            "22/22 [==============================] - 1s 54ms/step - loss: 0.0055 - accuracy: 1.0000 - val_loss: 0.2161 - val_accuracy: 0.9167\n",
            "Epoch 33/50\n",
            "22/22 [==============================] - 1s 56ms/step - loss: 0.0052 - accuracy: 1.0000 - val_loss: 0.2131 - val_accuracy: 0.9107\n",
            "Epoch 34/50\n",
            "22/22 [==============================] - 1s 55ms/step - loss: 0.0049 - accuracy: 1.0000 - val_loss: 0.2085 - val_accuracy: 0.9167\n",
            "Epoch 35/50\n",
            "22/22 [==============================] - 1s 56ms/step - loss: 0.0047 - accuracy: 1.0000 - val_loss: 0.2084 - val_accuracy: 0.9167\n",
            "Epoch 36/50\n",
            "22/22 [==============================] - 1s 56ms/step - loss: 0.0044 - accuracy: 1.0000 - val_loss: 0.2079 - val_accuracy: 0.9107\n",
            "Epoch 37/50\n",
            "22/22 [==============================] - 1s 55ms/step - loss: 0.0042 - accuracy: 1.0000 - val_loss: 0.2078 - val_accuracy: 0.9107\n",
            "Epoch 38/50\n",
            "22/22 [==============================] - 1s 55ms/step - loss: 0.0040 - accuracy: 1.0000 - val_loss: 0.2072 - val_accuracy: 0.9107\n",
            "Epoch 39/50\n",
            "22/22 [==============================] - 1s 55ms/step - loss: 0.0038 - accuracy: 1.0000 - val_loss: 0.2073 - val_accuracy: 0.8988\n",
            "Epoch 40/50\n",
            "22/22 [==============================] - 1s 52ms/step - loss: 0.0036 - accuracy: 1.0000 - val_loss: 0.2075 - val_accuracy: 0.8988\n",
            "Epoch 41/50\n",
            "22/22 [==============================] - 1s 53ms/step - loss: 0.0035 - accuracy: 1.0000 - val_loss: 0.2077 - val_accuracy: 0.8988\n",
            "Epoch 42/50\n",
            "22/22 [==============================] - 1s 57ms/step - loss: 0.0033 - accuracy: 1.0000 - val_loss: 0.2077 - val_accuracy: 0.8988\n",
            "Epoch 43/50\n",
            "22/22 [==============================] - 1s 53ms/step - loss: 0.0032 - accuracy: 1.0000 - val_loss: 0.2075 - val_accuracy: 0.8988\n",
            "Epoch 44/50\n",
            "22/22 [==============================] - 1s 56ms/step - loss: 0.0030 - accuracy: 1.0000 - val_loss: 0.2079 - val_accuracy: 0.8988\n",
            "Epoch 45/50\n",
            "22/22 [==============================] - 1s 58ms/step - loss: 0.0029 - accuracy: 1.0000 - val_loss: 0.2092 - val_accuracy: 0.8988\n",
            "Epoch 46/50\n",
            "22/22 [==============================] - 1s 57ms/step - loss: 0.0028 - accuracy: 1.0000 - val_loss: 0.2088 - val_accuracy: 0.8988\n",
            "Epoch 47/50\n",
            "22/22 [==============================] - 1s 61ms/step - loss: 0.0027 - accuracy: 1.0000 - val_loss: 0.2069 - val_accuracy: 0.9048\n",
            "Epoch 48/50\n",
            "22/22 [==============================] - 1s 59ms/step - loss: 0.0026 - accuracy: 1.0000 - val_loss: 0.2070 - val_accuracy: 0.9048\n",
            "Epoch 49/50\n",
            "22/22 [==============================] - 1s 62ms/step - loss: 0.0025 - accuracy: 1.0000 - val_loss: 0.2077 - val_accuracy: 0.8988\n",
            "Epoch 50/50\n",
            "22/22 [==============================] - 1s 59ms/step - loss: 0.0024 - accuracy: 1.0000 - val_loss: 0.2085 - val_accuracy: 0.8988\n"
          ],
          "name": "stdout"
        },
        {
          "output_type": "display_data",
          "data": {
            "text/html": [
              "<span style=\"color:#4527A0\"><h1 style=\"font-size:18px\">Trial complete</h1></span>"
            ],
            "text/plain": [
              "<IPython.core.display.HTML object>"
            ]
          },
          "metadata": {
            "tags": []
          }
        },
        {
          "output_type": "display_data",
          "data": {
            "text/html": [
              "<span style=\"color:#4527A0\"><h1 style=\"font-size:18px\">Trial summary</h1></span>"
            ],
            "text/plain": [
              "<IPython.core.display.HTML object>"
            ]
          },
          "metadata": {
            "tags": []
          }
        },
        {
          "output_type": "display_data",
          "data": {
            "text/html": [
              "<span style=\"color:#7E57C2\"><h2 style=\"font-size:16px\">Hp values:</h2></span>"
            ],
            "text/plain": [
              "<IPython.core.display.HTML object>"
            ]
          },
          "metadata": {
            "tags": []
          }
        },
        {
          "output_type": "display_data",
          "data": {
            "text/html": [
              "<span style=\"color:cyan\"> |-dense_block_1/dropout_rate: 0.0</span>"
            ],
            "text/plain": [
              "<IPython.core.display.HTML object>"
            ]
          },
          "metadata": {
            "tags": []
          }
        },
        {
          "output_type": "display_data",
          "data": {
            "text/html": [
              "<span style=\"color:blue\"> |-dense_block_1/num_layers: 2</span>"
            ],
            "text/plain": [
              "<IPython.core.display.HTML object>"
            ]
          },
          "metadata": {
            "tags": []
          }
        },
        {
          "output_type": "display_data",
          "data": {
            "text/html": [
              "<span style=\"color:cyan\"> |-dense_block_1/units_0: 16</span>"
            ],
            "text/plain": [
              "<IPython.core.display.HTML object>"
            ]
          },
          "metadata": {
            "tags": []
          }
        },
        {
          "output_type": "display_data",
          "data": {
            "text/html": [
              "<span style=\"color:blue\"> |-dense_block_1/units_1: 16</span>"
            ],
            "text/plain": [
              "<IPython.core.display.HTML object>"
            ]
          },
          "metadata": {
            "tags": []
          }
        },
        {
          "output_type": "display_data",
          "data": {
            "text/html": [
              "<span style=\"color:cyan\"> |-dense_block_1/units_2: 128</span>"
            ],
            "text/plain": [
              "<IPython.core.display.HTML object>"
            ]
          },
          "metadata": {
            "tags": []
          }
        },
        {
          "output_type": "display_data",
          "data": {
            "text/html": [
              "<span style=\"color:blue\"> |-dense_block_1/use_batchnorm: True</span>"
            ],
            "text/plain": [
              "<IPython.core.display.HTML object>"
            ]
          },
          "metadata": {
            "tags": []
          }
        },
        {
          "output_type": "display_data",
          "data": {
            "text/html": [
              "<span style=\"color:cyan\"> |-optimizer: adam</span>"
            ],
            "text/plain": [
              "<IPython.core.display.HTML object>"
            ]
          },
          "metadata": {
            "tags": []
          }
        },
        {
          "output_type": "display_data",
          "data": {
            "text/html": [
              "<span style=\"color:cyan\"> |-Score: 0.20689685146013895</span>"
            ],
            "text/plain": [
              "<IPython.core.display.HTML object>"
            ]
          },
          "metadata": {
            "tags": []
          }
        },
        {
          "output_type": "display_data",
          "data": {
            "text/html": [
              "<span style=\"color:cyan\"> |-Best step: 0</span>"
            ],
            "text/plain": [
              "<IPython.core.display.HTML object>"
            ]
          },
          "metadata": {
            "tags": []
          }
        },
        {
          "output_type": "stream",
          "text": [
            "Epoch 1/50\n",
            "22/22 [==============================] - 2s 113ms/step - loss: 0.6534 - accuracy: 0.6183 - val_loss: 0.0000e+00 - val_accuracy: 0.0000e+00\n",
            "Epoch 2/50\n",
            "22/22 [==============================] - 2s 76ms/step - loss: 0.4858 - accuracy: 0.8225 - val_loss: 0.3472 - val_accuracy: 0.9167\n",
            "Epoch 3/50\n",
            "22/22 [==============================] - 2s 75ms/step - loss: 0.2419 - accuracy: 0.9527 - val_loss: 0.1783 - val_accuracy: 0.9464\n",
            "Epoch 4/50\n",
            "22/22 [==============================] - 2s 72ms/step - loss: 0.1107 - accuracy: 0.9882 - val_loss: 0.1577 - val_accuracy: 0.9405\n",
            "Epoch 5/50\n",
            "22/22 [==============================] - 2s 73ms/step - loss: 0.0518 - accuracy: 0.9956 - val_loss: 0.1411 - val_accuracy: 0.9643\n",
            "Epoch 6/50\n",
            "22/22 [==============================] - 2s 73ms/step - loss: 0.0321 - accuracy: 0.9985 - val_loss: 0.1660 - val_accuracy: 0.9583\n",
            "Epoch 7/50\n",
            "22/22 [==============================] - 2s 75ms/step - loss: 0.0219 - accuracy: 0.9970 - val_loss: 0.1613 - val_accuracy: 0.9643\n",
            "Epoch 8/50\n",
            "22/22 [==============================] - 2s 74ms/step - loss: 0.0164 - accuracy: 0.9970 - val_loss: 0.2104 - val_accuracy: 0.9345\n",
            "Epoch 9/50\n",
            "22/22 [==============================] - 2s 71ms/step - loss: 0.0115 - accuracy: 0.9985 - val_loss: 0.2097 - val_accuracy: 0.9524\n",
            "Epoch 10/50\n",
            "22/22 [==============================] - 2s 73ms/step - loss: 0.0077 - accuracy: 1.0000 - val_loss: 0.2026 - val_accuracy: 0.9524\n",
            "Epoch 11/50\n",
            "22/22 [==============================] - 2s 73ms/step - loss: 0.0095 - accuracy: 0.9985 - val_loss: 0.2125 - val_accuracy: 0.9524\n",
            "Epoch 12/50\n",
            "22/22 [==============================] - 2s 72ms/step - loss: 0.0058 - accuracy: 1.0000 - val_loss: 0.2261 - val_accuracy: 0.9524\n",
            "Epoch 13/50\n",
            "22/22 [==============================] - 2s 75ms/step - loss: 0.0077 - accuracy: 0.9985 - val_loss: 0.2351 - val_accuracy: 0.9524\n",
            "Epoch 14/50\n",
            "22/22 [==============================] - 2s 75ms/step - loss: 0.0040 - accuracy: 1.0000 - val_loss: 0.2631 - val_accuracy: 0.9524\n",
            "Epoch 15/50\n",
            "22/22 [==============================] - 2s 79ms/step - loss: 0.0057 - accuracy: 0.9985 - val_loss: 0.2512 - val_accuracy: 0.9583\n"
          ],
          "name": "stdout"
        },
        {
          "output_type": "display_data",
          "data": {
            "text/html": [
              "<span style=\"color:#4527A0\"><h1 style=\"font-size:18px\">Trial complete</h1></span>"
            ],
            "text/plain": [
              "<IPython.core.display.HTML object>"
            ]
          },
          "metadata": {
            "tags": []
          }
        },
        {
          "output_type": "display_data",
          "data": {
            "text/html": [
              "<span style=\"color:#4527A0\"><h1 style=\"font-size:18px\">Trial summary</h1></span>"
            ],
            "text/plain": [
              "<IPython.core.display.HTML object>"
            ]
          },
          "metadata": {
            "tags": []
          }
        },
        {
          "output_type": "display_data",
          "data": {
            "text/html": [
              "<span style=\"color:#7E57C2\"><h2 style=\"font-size:16px\">Hp values:</h2></span>"
            ],
            "text/plain": [
              "<IPython.core.display.HTML object>"
            ]
          },
          "metadata": {
            "tags": []
          }
        },
        {
          "output_type": "display_data",
          "data": {
            "text/html": [
              "<span style=\"color:cyan\"> |-dense_block_1/dropout_rate: 0.25</span>"
            ],
            "text/plain": [
              "<IPython.core.display.HTML object>"
            ]
          },
          "metadata": {
            "tags": []
          }
        },
        {
          "output_type": "display_data",
          "data": {
            "text/html": [
              "<span style=\"color:blue\"> |-dense_block_1/num_layers: 3</span>"
            ],
            "text/plain": [
              "<IPython.core.display.HTML object>"
            ]
          },
          "metadata": {
            "tags": []
          }
        },
        {
          "output_type": "display_data",
          "data": {
            "text/html": [
              "<span style=\"color:cyan\"> |-dense_block_1/units_0: 1024</span>"
            ],
            "text/plain": [
              "<IPython.core.display.HTML object>"
            ]
          },
          "metadata": {
            "tags": []
          }
        },
        {
          "output_type": "display_data",
          "data": {
            "text/html": [
              "<span style=\"color:blue\"> |-dense_block_1/units_1: 16</span>"
            ],
            "text/plain": [
              "<IPython.core.display.HTML object>"
            ]
          },
          "metadata": {
            "tags": []
          }
        },
        {
          "output_type": "display_data",
          "data": {
            "text/html": [
              "<span style=\"color:cyan\"> |-dense_block_1/units_2: 16</span>"
            ],
            "text/plain": [
              "<IPython.core.display.HTML object>"
            ]
          },
          "metadata": {
            "tags": []
          }
        },
        {
          "output_type": "display_data",
          "data": {
            "text/html": [
              "<span style=\"color:blue\"> |-dense_block_1/use_batchnorm: False</span>"
            ],
            "text/plain": [
              "<IPython.core.display.HTML object>"
            ]
          },
          "metadata": {
            "tags": []
          }
        },
        {
          "output_type": "display_data",
          "data": {
            "text/html": [
              "<span style=\"color:cyan\"> |-optimizer: adam</span>"
            ],
            "text/plain": [
              "<IPython.core.display.HTML object>"
            ]
          },
          "metadata": {
            "tags": []
          }
        },
        {
          "output_type": "display_data",
          "data": {
            "text/html": [
              "<span style=\"color:cyan\"> |-Score: 0.14113106578588486</span>"
            ],
            "text/plain": [
              "<IPython.core.display.HTML object>"
            ]
          },
          "metadata": {
            "tags": []
          }
        },
        {
          "output_type": "display_data",
          "data": {
            "text/html": [
              "<span style=\"color:cyan\"> |-Best step: 0</span>"
            ],
            "text/plain": [
              "<IPython.core.display.HTML object>"
            ]
          },
          "metadata": {
            "tags": []
          }
        },
        {
          "output_type": "stream",
          "text": [
            "Epoch 1/50\n",
            "22/22 [==============================] - 3s 127ms/step - loss: 0.6096 - accuracy: 0.6376 - val_loss: 0.0000e+00 - val_accuracy: 0.0000e+00\n",
            "Epoch 2/50\n",
            "22/22 [==============================] - 1s 65ms/step - loss: 0.1604 - accuracy: 0.9541 - val_loss: 0.6367 - val_accuracy: 0.6190\n",
            "Epoch 3/50\n",
            "22/22 [==============================] - 1s 65ms/step - loss: 0.0594 - accuracy: 0.9896 - val_loss: 0.6123 - val_accuracy: 0.6607\n",
            "Epoch 4/50\n",
            "22/22 [==============================] - 1s 63ms/step - loss: 0.0283 - accuracy: 1.0000 - val_loss: 0.5894 - val_accuracy: 0.7083\n",
            "Epoch 5/50\n",
            "22/22 [==============================] - 1s 63ms/step - loss: 0.0155 - accuracy: 1.0000 - val_loss: 0.5654 - val_accuracy: 0.7440\n",
            "Epoch 6/50\n",
            "22/22 [==============================] - 1s 64ms/step - loss: 0.0095 - accuracy: 1.0000 - val_loss: 0.5398 - val_accuracy: 0.7857\n",
            "Epoch 7/50\n",
            "22/22 [==============================] - 1s 59ms/step - loss: 0.0071 - accuracy: 1.0000 - val_loss: 0.5139 - val_accuracy: 0.8095\n",
            "Epoch 8/50\n",
            "22/22 [==============================] - 1s 61ms/step - loss: 0.0057 - accuracy: 1.0000 - val_loss: 0.4853 - val_accuracy: 0.8333\n",
            "Epoch 9/50\n",
            "22/22 [==============================] - 1s 55ms/step - loss: 0.0043 - accuracy: 1.0000 - val_loss: 0.4568 - val_accuracy: 0.8452\n",
            "Epoch 10/50\n",
            "22/22 [==============================] - 1s 58ms/step - loss: 0.0038 - accuracy: 1.0000 - val_loss: 0.4277 - val_accuracy: 0.8690\n",
            "Epoch 11/50\n",
            "22/22 [==============================] - 1s 56ms/step - loss: 0.0032 - accuracy: 1.0000 - val_loss: 0.3982 - val_accuracy: 0.8810\n",
            "Epoch 12/50\n",
            "22/22 [==============================] - 1s 60ms/step - loss: 0.0027 - accuracy: 1.0000 - val_loss: 0.3684 - val_accuracy: 0.8869\n",
            "Epoch 13/50\n",
            "22/22 [==============================] - 1s 59ms/step - loss: 0.0024 - accuracy: 1.0000 - val_loss: 0.3392 - val_accuracy: 0.8988\n",
            "Epoch 14/50\n",
            "22/22 [==============================] - 1s 59ms/step - loss: 0.0022 - accuracy: 1.0000 - val_loss: 0.3101 - val_accuracy: 0.9107\n",
            "Epoch 15/50\n",
            "22/22 [==============================] - 1s 55ms/step - loss: 0.0020 - accuracy: 1.0000 - val_loss: 0.2821 - val_accuracy: 0.9107\n",
            "Epoch 16/50\n",
            "22/22 [==============================] - 1s 59ms/step - loss: 0.0018 - accuracy: 1.0000 - val_loss: 0.2572 - val_accuracy: 0.9107\n",
            "Epoch 17/50\n",
            "22/22 [==============================] - 1s 60ms/step - loss: 0.0016 - accuracy: 1.0000 - val_loss: 0.2359 - val_accuracy: 0.9167\n",
            "Epoch 18/50\n",
            "22/22 [==============================] - 1s 63ms/step - loss: 0.0015 - accuracy: 1.0000 - val_loss: 0.2162 - val_accuracy: 0.9167\n",
            "Epoch 19/50\n",
            "22/22 [==============================] - 1s 58ms/step - loss: 0.0013 - accuracy: 1.0000 - val_loss: 0.1987 - val_accuracy: 0.9286\n",
            "Epoch 20/50\n",
            "22/22 [==============================] - 1s 59ms/step - loss: 0.0011 - accuracy: 1.0000 - val_loss: 0.1842 - val_accuracy: 0.9405\n",
            "Epoch 21/50\n",
            "22/22 [==============================] - 1s 62ms/step - loss: 0.0011 - accuracy: 1.0000 - val_loss: 0.1714 - val_accuracy: 0.9405\n",
            "Epoch 22/50\n",
            "22/22 [==============================] - 1s 56ms/step - loss: 9.7681e-04 - accuracy: 1.0000 - val_loss: 0.1625 - val_accuracy: 0.9405\n",
            "Epoch 23/50\n",
            "22/22 [==============================] - 1s 59ms/step - loss: 9.7543e-04 - accuracy: 1.0000 - val_loss: 0.1573 - val_accuracy: 0.9405\n",
            "Epoch 24/50\n",
            "22/22 [==============================] - 1s 58ms/step - loss: 8.3483e-04 - accuracy: 1.0000 - val_loss: 0.1521 - val_accuracy: 0.9405\n",
            "Epoch 25/50\n",
            "22/22 [==============================] - 1s 58ms/step - loss: 7.0190e-04 - accuracy: 1.0000 - val_loss: 0.1487 - val_accuracy: 0.9464\n",
            "Epoch 26/50\n",
            "22/22 [==============================] - 1s 56ms/step - loss: 7.0726e-04 - accuracy: 1.0000 - val_loss: 0.1469 - val_accuracy: 0.9464\n",
            "Epoch 27/50\n",
            "22/22 [==============================] - 1s 60ms/step - loss: 8.0009e-04 - accuracy: 1.0000 - val_loss: 0.1465 - val_accuracy: 0.9464\n",
            "Epoch 28/50\n",
            "22/22 [==============================] - 1s 57ms/step - loss: 6.0266e-04 - accuracy: 1.0000 - val_loss: 0.1465 - val_accuracy: 0.9464\n",
            "Epoch 29/50\n",
            "22/22 [==============================] - 1s 58ms/step - loss: 5.6501e-04 - accuracy: 1.0000 - val_loss: 0.1466 - val_accuracy: 0.9464\n",
            "Epoch 30/50\n",
            "22/22 [==============================] - 1s 57ms/step - loss: 6.8087e-04 - accuracy: 1.0000 - val_loss: 0.1472 - val_accuracy: 0.9464\n",
            "Epoch 31/50\n",
            "22/22 [==============================] - 1s 61ms/step - loss: 5.7687e-04 - accuracy: 1.0000 - val_loss: 0.1489 - val_accuracy: 0.9464\n",
            "Epoch 32/50\n",
            "22/22 [==============================] - 1s 59ms/step - loss: 5.9545e-04 - accuracy: 1.0000 - val_loss: 0.1517 - val_accuracy: 0.9464\n",
            "Epoch 33/50\n",
            "22/22 [==============================] - 1s 55ms/step - loss: 5.3131e-04 - accuracy: 1.0000 - val_loss: 0.1530 - val_accuracy: 0.9464\n",
            "Epoch 34/50\n",
            "22/22 [==============================] - 1s 54ms/step - loss: 6.8354e-04 - accuracy: 1.0000 - val_loss: 0.1529 - val_accuracy: 0.9464\n",
            "Epoch 35/50\n",
            "22/22 [==============================] - 1s 57ms/step - loss: 5.4041e-04 - accuracy: 1.0000 - val_loss: 0.1547 - val_accuracy: 0.9464\n",
            "Epoch 36/50\n",
            "22/22 [==============================] - 1s 60ms/step - loss: 5.5147e-04 - accuracy: 1.0000 - val_loss: 0.1559 - val_accuracy: 0.9464\n",
            "Epoch 37/50\n",
            "22/22 [==============================] - 1s 59ms/step - loss: 3.6764e-04 - accuracy: 1.0000 - val_loss: 0.1567 - val_accuracy: 0.9464\n",
            "Epoch 38/50\n",
            "22/22 [==============================] - 1s 59ms/step - loss: 4.3757e-04 - accuracy: 1.0000 - val_loss: 0.1583 - val_accuracy: 0.9464\n"
          ],
          "name": "stdout"
        },
        {
          "output_type": "display_data",
          "data": {
            "text/html": [
              "<span style=\"color:#4527A0\"><h1 style=\"font-size:18px\">Trial complete</h1></span>"
            ],
            "text/plain": [
              "<IPython.core.display.HTML object>"
            ]
          },
          "metadata": {
            "tags": []
          }
        },
        {
          "output_type": "display_data",
          "data": {
            "text/html": [
              "<span style=\"color:#4527A0\"><h1 style=\"font-size:18px\">Trial summary</h1></span>"
            ],
            "text/plain": [
              "<IPython.core.display.HTML object>"
            ]
          },
          "metadata": {
            "tags": []
          }
        },
        {
          "output_type": "display_data",
          "data": {
            "text/html": [
              "<span style=\"color:#7E57C2\"><h2 style=\"font-size:16px\">Hp values:</h2></span>"
            ],
            "text/plain": [
              "<IPython.core.display.HTML object>"
            ]
          },
          "metadata": {
            "tags": []
          }
        },
        {
          "output_type": "display_data",
          "data": {
            "text/html": [
              "<span style=\"color:cyan\"> |-dense_block_1/dropout_rate: 0.25</span>"
            ],
            "text/plain": [
              "<IPython.core.display.HTML object>"
            ]
          },
          "metadata": {
            "tags": []
          }
        },
        {
          "output_type": "display_data",
          "data": {
            "text/html": [
              "<span style=\"color:blue\"> |-dense_block_1/num_layers: 2</span>"
            ],
            "text/plain": [
              "<IPython.core.display.HTML object>"
            ]
          },
          "metadata": {
            "tags": []
          }
        },
        {
          "output_type": "display_data",
          "data": {
            "text/html": [
              "<span style=\"color:cyan\"> |-dense_block_1/units_0: 128</span>"
            ],
            "text/plain": [
              "<IPython.core.display.HTML object>"
            ]
          },
          "metadata": {
            "tags": []
          }
        },
        {
          "output_type": "display_data",
          "data": {
            "text/html": [
              "<span style=\"color:blue\"> |-dense_block_1/units_1: 256</span>"
            ],
            "text/plain": [
              "<IPython.core.display.HTML object>"
            ]
          },
          "metadata": {
            "tags": []
          }
        },
        {
          "output_type": "display_data",
          "data": {
            "text/html": [
              "<span style=\"color:cyan\"> |-dense_block_1/units_2: 16</span>"
            ],
            "text/plain": [
              "<IPython.core.display.HTML object>"
            ]
          },
          "metadata": {
            "tags": []
          }
        },
        {
          "output_type": "display_data",
          "data": {
            "text/html": [
              "<span style=\"color:blue\"> |-dense_block_1/use_batchnorm: True</span>"
            ],
            "text/plain": [
              "<IPython.core.display.HTML object>"
            ]
          },
          "metadata": {
            "tags": []
          }
        },
        {
          "output_type": "display_data",
          "data": {
            "text/html": [
              "<span style=\"color:cyan\"> |-optimizer: adam</span>"
            ],
            "text/plain": [
              "<IPython.core.display.HTML object>"
            ]
          },
          "metadata": {
            "tags": []
          }
        },
        {
          "output_type": "display_data",
          "data": {
            "text/html": [
              "<span style=\"color:cyan\"> |-Score: 0.14648971458276114</span>"
            ],
            "text/plain": [
              "<IPython.core.display.HTML object>"
            ]
          },
          "metadata": {
            "tags": []
          }
        },
        {
          "output_type": "display_data",
          "data": {
            "text/html": [
              "<span style=\"color:cyan\"> |-Best step: 0</span>"
            ],
            "text/plain": [
              "<IPython.core.display.HTML object>"
            ]
          },
          "metadata": {
            "tags": []
          }
        },
        {
          "output_type": "stream",
          "text": [
            "Epoch 1/50\n",
            "22/22 [==============================] - 3s 124ms/step - loss: 0.6088 - accuracy: 0.6790 - val_loss: 0.0000e+00 - val_accuracy: 0.0000e+00\n",
            "Epoch 2/50\n",
            "22/22 [==============================] - 1s 58ms/step - loss: 0.2568 - accuracy: 0.9172 - val_loss: 0.6688 - val_accuracy: 0.8810\n",
            "Epoch 3/50\n",
            "22/22 [==============================] - 1s 57ms/step - loss: 0.1054 - accuracy: 0.9867 - val_loss: 0.6494 - val_accuracy: 0.8690\n",
            "Epoch 4/50\n",
            "22/22 [==============================] - 1s 59ms/step - loss: 0.0564 - accuracy: 0.9911 - val_loss: 0.6364 - val_accuracy: 0.8095\n",
            "Epoch 5/50\n",
            "22/22 [==============================] - 1s 61ms/step - loss: 0.0262 - accuracy: 0.9985 - val_loss: 0.6203 - val_accuracy: 0.7679\n",
            "Epoch 6/50\n",
            "22/22 [==============================] - 1s 55ms/step - loss: 0.0200 - accuracy: 1.0000 - val_loss: 0.6033 - val_accuracy: 0.7560\n",
            "Epoch 7/50\n",
            "22/22 [==============================] - 1s 57ms/step - loss: 0.0104 - accuracy: 1.0000 - val_loss: 0.5905 - val_accuracy: 0.7024\n",
            "Epoch 8/50\n",
            "22/22 [==============================] - 1s 62ms/step - loss: 0.0113 - accuracy: 1.0000 - val_loss: 0.5703 - val_accuracy: 0.7500\n",
            "Epoch 9/50\n",
            "22/22 [==============================] - 1s 59ms/step - loss: 0.0078 - accuracy: 1.0000 - val_loss: 0.5473 - val_accuracy: 0.7619\n",
            "Epoch 10/50\n",
            "22/22 [==============================] - 1s 58ms/step - loss: 0.0066 - accuracy: 1.0000 - val_loss: 0.5204 - val_accuracy: 0.7798\n",
            "Epoch 11/50\n",
            "22/22 [==============================] - 1s 58ms/step - loss: 0.0049 - accuracy: 1.0000 - val_loss: 0.4905 - val_accuracy: 0.7976\n",
            "Epoch 12/50\n",
            "22/22 [==============================] - 1s 59ms/step - loss: 0.0042 - accuracy: 1.0000 - val_loss: 0.4668 - val_accuracy: 0.8095\n",
            "Epoch 13/50\n",
            "22/22 [==============================] - 1s 56ms/step - loss: 0.0046 - accuracy: 1.0000 - val_loss: 0.4355 - val_accuracy: 0.8214\n",
            "Epoch 14/50\n",
            "22/22 [==============================] - 1s 57ms/step - loss: 0.0032 - accuracy: 1.0000 - val_loss: 0.4080 - val_accuracy: 0.8214\n",
            "Epoch 15/50\n",
            "22/22 [==============================] - 1s 58ms/step - loss: 0.0030 - accuracy: 1.0000 - val_loss: 0.3757 - val_accuracy: 0.8333\n",
            "Epoch 16/50\n",
            "22/22 [==============================] - 1s 56ms/step - loss: 0.0035 - accuracy: 1.0000 - val_loss: 0.3412 - val_accuracy: 0.8750\n",
            "Epoch 17/50\n",
            "22/22 [==============================] - 1s 58ms/step - loss: 0.0036 - accuracy: 1.0000 - val_loss: 0.3145 - val_accuracy: 0.8750\n",
            "Epoch 18/50\n",
            "22/22 [==============================] - 1s 55ms/step - loss: 0.0021 - accuracy: 1.0000 - val_loss: 0.2869 - val_accuracy: 0.8988\n",
            "Epoch 19/50\n",
            "22/22 [==============================] - 1s 59ms/step - loss: 0.0023 - accuracy: 1.0000 - val_loss: 0.2616 - val_accuracy: 0.9048\n",
            "Epoch 20/50\n",
            "22/22 [==============================] - 1s 61ms/step - loss: 0.0023 - accuracy: 1.0000 - val_loss: 0.2402 - val_accuracy: 0.9167\n",
            "Epoch 21/50\n",
            "22/22 [==============================] - 1s 57ms/step - loss: 0.0020 - accuracy: 1.0000 - val_loss: 0.2200 - val_accuracy: 0.9286\n",
            "Epoch 22/50\n",
            "22/22 [==============================] - 1s 58ms/step - loss: 0.0028 - accuracy: 1.0000 - val_loss: 0.2074 - val_accuracy: 0.9286\n",
            "Epoch 23/50\n",
            "22/22 [==============================] - 1s 58ms/step - loss: 0.0017 - accuracy: 1.0000 - val_loss: 0.1941 - val_accuracy: 0.9286\n",
            "Epoch 24/50\n",
            "22/22 [==============================] - 1s 55ms/step - loss: 0.0019 - accuracy: 1.0000 - val_loss: 0.1840 - val_accuracy: 0.9345\n",
            "Epoch 25/50\n",
            "22/22 [==============================] - 1s 56ms/step - loss: 0.0016 - accuracy: 1.0000 - val_loss: 0.1793 - val_accuracy: 0.9405\n",
            "Epoch 26/50\n",
            "22/22 [==============================] - 1s 53ms/step - loss: 0.0012 - accuracy: 1.0000 - val_loss: 0.1790 - val_accuracy: 0.9464\n",
            "Epoch 27/50\n",
            "22/22 [==============================] - 1s 58ms/step - loss: 0.0020 - accuracy: 1.0000 - val_loss: 0.1819 - val_accuracy: 0.9464\n",
            "Epoch 28/50\n",
            "22/22 [==============================] - 1s 58ms/step - loss: 0.0014 - accuracy: 1.0000 - val_loss: 0.1842 - val_accuracy: 0.9464\n",
            "Epoch 29/50\n",
            "22/22 [==============================] - 1s 57ms/step - loss: 0.0011 - accuracy: 1.0000 - val_loss: 0.1893 - val_accuracy: 0.9464\n",
            "Epoch 30/50\n",
            "22/22 [==============================] - 1s 54ms/step - loss: 0.0012 - accuracy: 1.0000 - val_loss: 0.1931 - val_accuracy: 0.9464\n",
            "Epoch 31/50\n",
            "22/22 [==============================] - 1s 61ms/step - loss: 9.7716e-04 - accuracy: 1.0000 - val_loss: 0.1981 - val_accuracy: 0.9464\n",
            "Epoch 32/50\n",
            "22/22 [==============================] - 1s 58ms/step - loss: 0.0014 - accuracy: 1.0000 - val_loss: 0.2024 - val_accuracy: 0.9464\n",
            "Epoch 33/50\n",
            "22/22 [==============================] - 1s 63ms/step - loss: 9.6277e-04 - accuracy: 1.0000 - val_loss: 0.2092 - val_accuracy: 0.9464\n",
            "Epoch 34/50\n",
            "22/22 [==============================] - 1s 61ms/step - loss: 0.0011 - accuracy: 1.0000 - val_loss: 0.2166 - val_accuracy: 0.9464\n",
            "Epoch 35/50\n",
            "22/22 [==============================] - 1s 57ms/step - loss: 6.0039e-04 - accuracy: 1.0000 - val_loss: 0.2208 - val_accuracy: 0.9464\n",
            "Epoch 36/50\n",
            "22/22 [==============================] - 1s 61ms/step - loss: 8.0993e-04 - accuracy: 1.0000 - val_loss: 0.2290 - val_accuracy: 0.9405\n"
          ],
          "name": "stdout"
        },
        {
          "output_type": "display_data",
          "data": {
            "text/html": [
              "<span style=\"color:#4527A0\"><h1 style=\"font-size:18px\">Trial complete</h1></span>"
            ],
            "text/plain": [
              "<IPython.core.display.HTML object>"
            ]
          },
          "metadata": {
            "tags": []
          }
        },
        {
          "output_type": "display_data",
          "data": {
            "text/html": [
              "<span style=\"color:#4527A0\"><h1 style=\"font-size:18px\">Trial summary</h1></span>"
            ],
            "text/plain": [
              "<IPython.core.display.HTML object>"
            ]
          },
          "metadata": {
            "tags": []
          }
        },
        {
          "output_type": "display_data",
          "data": {
            "text/html": [
              "<span style=\"color:#7E57C2\"><h2 style=\"font-size:16px\">Hp values:</h2></span>"
            ],
            "text/plain": [
              "<IPython.core.display.HTML object>"
            ]
          },
          "metadata": {
            "tags": []
          }
        },
        {
          "output_type": "display_data",
          "data": {
            "text/html": [
              "<span style=\"color:cyan\"> |-dense_block_1/dropout_rate: 0.25</span>"
            ],
            "text/plain": [
              "<IPython.core.display.HTML object>"
            ]
          },
          "metadata": {
            "tags": []
          }
        },
        {
          "output_type": "display_data",
          "data": {
            "text/html": [
              "<span style=\"color:blue\"> |-dense_block_1/num_layers: 2</span>"
            ],
            "text/plain": [
              "<IPython.core.display.HTML object>"
            ]
          },
          "metadata": {
            "tags": []
          }
        },
        {
          "output_type": "display_data",
          "data": {
            "text/html": [
              "<span style=\"color:cyan\"> |-dense_block_1/units_0: 64</span>"
            ],
            "text/plain": [
              "<IPython.core.display.HTML object>"
            ]
          },
          "metadata": {
            "tags": []
          }
        },
        {
          "output_type": "display_data",
          "data": {
            "text/html": [
              "<span style=\"color:blue\"> |-dense_block_1/units_1: 256</span>"
            ],
            "text/plain": [
              "<IPython.core.display.HTML object>"
            ]
          },
          "metadata": {
            "tags": []
          }
        },
        {
          "output_type": "display_data",
          "data": {
            "text/html": [
              "<span style=\"color:cyan\"> |-dense_block_1/units_2: 16</span>"
            ],
            "text/plain": [
              "<IPython.core.display.HTML object>"
            ]
          },
          "metadata": {
            "tags": []
          }
        },
        {
          "output_type": "display_data",
          "data": {
            "text/html": [
              "<span style=\"color:blue\"> |-dense_block_1/use_batchnorm: True</span>"
            ],
            "text/plain": [
              "<IPython.core.display.HTML object>"
            ]
          },
          "metadata": {
            "tags": []
          }
        },
        {
          "output_type": "display_data",
          "data": {
            "text/html": [
              "<span style=\"color:cyan\"> |-optimizer: adam</span>"
            ],
            "text/plain": [
              "<IPython.core.display.HTML object>"
            ]
          },
          "metadata": {
            "tags": []
          }
        },
        {
          "output_type": "display_data",
          "data": {
            "text/html": [
              "<span style=\"color:cyan\"> |-Score: 0.1789511094490687</span>"
            ],
            "text/plain": [
              "<IPython.core.display.HTML object>"
            ]
          },
          "metadata": {
            "tags": []
          }
        },
        {
          "output_type": "display_data",
          "data": {
            "text/html": [
              "<span style=\"color:cyan\"> |-Best step: 0</span>"
            ],
            "text/plain": [
              "<IPython.core.display.HTML object>"
            ]
          },
          "metadata": {
            "tags": []
          }
        },
        {
          "output_type": "stream",
          "text": [
            "Epoch 1/50\n",
            "22/22 [==============================] - 2s 89ms/step - loss: 0.6621 - accuracy: 0.6050 - val_loss: 0.0000e+00 - val_accuracy: 0.0000e+00\n",
            "Epoch 2/50\n",
            "22/22 [==============================] - 1s 58ms/step - loss: 0.5323 - accuracy: 0.6538 - val_loss: 0.4399 - val_accuracy: 0.7917\n",
            "Epoch 3/50\n",
            "22/22 [==============================] - 1s 58ms/step - loss: 0.2820 - accuracy: 0.9497 - val_loss: 0.2265 - val_accuracy: 0.9286\n",
            "Epoch 4/50\n",
            "22/22 [==============================] - 1s 58ms/step - loss: 0.0975 - accuracy: 0.9926 - val_loss: 0.1478 - val_accuracy: 0.9583\n",
            "Epoch 5/50\n",
            "22/22 [==============================] - 1s 56ms/step - loss: 0.0303 - accuracy: 0.9970 - val_loss: 0.1448 - val_accuracy: 0.9524\n",
            "Epoch 6/50\n",
            "22/22 [==============================] - 1s 58ms/step - loss: 0.0124 - accuracy: 0.9985 - val_loss: 0.1491 - val_accuracy: 0.9464\n",
            "Epoch 7/50\n",
            "22/22 [==============================] - 1s 59ms/step - loss: 0.0067 - accuracy: 1.0000 - val_loss: 0.1554 - val_accuracy: 0.9464\n",
            "Epoch 8/50\n",
            "22/22 [==============================] - 1s 58ms/step - loss: 0.0043 - accuracy: 1.0000 - val_loss: 0.1603 - val_accuracy: 0.9464\n",
            "Epoch 9/50\n",
            "22/22 [==============================] - 1s 58ms/step - loss: 0.0030 - accuracy: 1.0000 - val_loss: 0.1647 - val_accuracy: 0.9464\n",
            "Epoch 10/50\n",
            "22/22 [==============================] - 1s 61ms/step - loss: 0.0023 - accuracy: 1.0000 - val_loss: 0.1686 - val_accuracy: 0.9464\n",
            "Epoch 11/50\n",
            "22/22 [==============================] - 1s 60ms/step - loss: 0.0018 - accuracy: 1.0000 - val_loss: 0.1721 - val_accuracy: 0.9464\n",
            "Epoch 12/50\n",
            "22/22 [==============================] - 1s 62ms/step - loss: 0.0014 - accuracy: 1.0000 - val_loss: 0.1752 - val_accuracy: 0.9464\n",
            "Epoch 13/50\n",
            "22/22 [==============================] - 1s 56ms/step - loss: 0.0012 - accuracy: 1.0000 - val_loss: 0.1782 - val_accuracy: 0.9464\n",
            "Epoch 14/50\n",
            "22/22 [==============================] - 1s 60ms/step - loss: 9.8267e-04 - accuracy: 1.0000 - val_loss: 0.1808 - val_accuracy: 0.9464\n",
            "Epoch 15/50\n",
            "22/22 [==============================] - 1s 59ms/step - loss: 8.3583e-04 - accuracy: 1.0000 - val_loss: 0.1834 - val_accuracy: 0.9464\n"
          ],
          "name": "stdout"
        },
        {
          "output_type": "display_data",
          "data": {
            "text/html": [
              "<span style=\"color:#4527A0\"><h1 style=\"font-size:18px\">Trial complete</h1></span>"
            ],
            "text/plain": [
              "<IPython.core.display.HTML object>"
            ]
          },
          "metadata": {
            "tags": []
          }
        },
        {
          "output_type": "display_data",
          "data": {
            "text/html": [
              "<span style=\"color:#4527A0\"><h1 style=\"font-size:18px\">Trial summary</h1></span>"
            ],
            "text/plain": [
              "<IPython.core.display.HTML object>"
            ]
          },
          "metadata": {
            "tags": []
          }
        },
        {
          "output_type": "display_data",
          "data": {
            "text/html": [
              "<span style=\"color:#7E57C2\"><h2 style=\"font-size:16px\">Hp values:</h2></span>"
            ],
            "text/plain": [
              "<IPython.core.display.HTML object>"
            ]
          },
          "metadata": {
            "tags": []
          }
        },
        {
          "output_type": "display_data",
          "data": {
            "text/html": [
              "<span style=\"color:cyan\"> |-dense_block_1/dropout_rate: 0.0</span>"
            ],
            "text/plain": [
              "<IPython.core.display.HTML object>"
            ]
          },
          "metadata": {
            "tags": []
          }
        },
        {
          "output_type": "display_data",
          "data": {
            "text/html": [
              "<span style=\"color:blue\"> |-dense_block_1/num_layers: 2</span>"
            ],
            "text/plain": [
              "<IPython.core.display.HTML object>"
            ]
          },
          "metadata": {
            "tags": []
          }
        },
        {
          "output_type": "display_data",
          "data": {
            "text/html": [
              "<span style=\"color:cyan\"> |-dense_block_1/units_0: 64</span>"
            ],
            "text/plain": [
              "<IPython.core.display.HTML object>"
            ]
          },
          "metadata": {
            "tags": []
          }
        },
        {
          "output_type": "display_data",
          "data": {
            "text/html": [
              "<span style=\"color:blue\"> |-dense_block_1/units_1: 128</span>"
            ],
            "text/plain": [
              "<IPython.core.display.HTML object>"
            ]
          },
          "metadata": {
            "tags": []
          }
        },
        {
          "output_type": "display_data",
          "data": {
            "text/html": [
              "<span style=\"color:cyan\"> |-dense_block_1/units_2: 16</span>"
            ],
            "text/plain": [
              "<IPython.core.display.HTML object>"
            ]
          },
          "metadata": {
            "tags": []
          }
        },
        {
          "output_type": "display_data",
          "data": {
            "text/html": [
              "<span style=\"color:blue\"> |-dense_block_1/use_batchnorm: False</span>"
            ],
            "text/plain": [
              "<IPython.core.display.HTML object>"
            ]
          },
          "metadata": {
            "tags": []
          }
        },
        {
          "output_type": "display_data",
          "data": {
            "text/html": [
              "<span style=\"color:cyan\"> |-optimizer: adam</span>"
            ],
            "text/plain": [
              "<IPython.core.display.HTML object>"
            ]
          },
          "metadata": {
            "tags": []
          }
        },
        {
          "output_type": "display_data",
          "data": {
            "text/html": [
              "<span style=\"color:cyan\"> |-Score: 0.14484405455489954</span>"
            ],
            "text/plain": [
              "<IPython.core.display.HTML object>"
            ]
          },
          "metadata": {
            "tags": []
          }
        },
        {
          "output_type": "display_data",
          "data": {
            "text/html": [
              "<span style=\"color:cyan\"> |-Best step: 0</span>"
            ],
            "text/plain": [
              "<IPython.core.display.HTML object>"
            ]
          },
          "metadata": {
            "tags": []
          }
        },
        {
          "output_type": "stream",
          "text": [
            "Epoch 1/50\n",
            "22/22 [==============================] - 2s 89ms/step - loss: 0.6808 - accuracy: 0.5902 - val_loss: 0.0000e+00 - val_accuracy: 0.0000e+00\n",
            "Epoch 2/50\n",
            "22/22 [==============================] - 1s 58ms/step - loss: 0.6338 - accuracy: 0.6036 - val_loss: 0.5870 - val_accuracy: 0.6071\n",
            "Epoch 3/50\n",
            "22/22 [==============================] - 1s 60ms/step - loss: 0.4604 - accuracy: 0.7604 - val_loss: 0.3747 - val_accuracy: 0.8810\n",
            "Epoch 4/50\n",
            "22/22 [==============================] - 1s 61ms/step - loss: 0.2216 - accuracy: 0.9734 - val_loss: 0.2093 - val_accuracy: 0.9286\n",
            "Epoch 5/50\n",
            "22/22 [==============================] - 1s 56ms/step - loss: 0.0741 - accuracy: 0.9926 - val_loss: 0.1628 - val_accuracy: 0.9464\n",
            "Epoch 6/50\n",
            "22/22 [==============================] - 1s 55ms/step - loss: 0.0219 - accuracy: 0.9970 - val_loss: 0.1669 - val_accuracy: 0.9464\n",
            "Epoch 7/50\n",
            "22/22 [==============================] - 1s 56ms/step - loss: 0.0088 - accuracy: 0.9985 - val_loss: 0.1677 - val_accuracy: 0.9405\n",
            "Epoch 8/50\n",
            "22/22 [==============================] - 1s 54ms/step - loss: 0.0046 - accuracy: 1.0000 - val_loss: 0.1785 - val_accuracy: 0.9405\n",
            "Epoch 9/50\n",
            "22/22 [==============================] - 1s 55ms/step - loss: 0.0029 - accuracy: 1.0000 - val_loss: 0.1850 - val_accuracy: 0.9405\n",
            "Epoch 10/50\n",
            "22/22 [==============================] - 1s 54ms/step - loss: 0.0020 - accuracy: 1.0000 - val_loss: 0.1900 - val_accuracy: 0.9405\n",
            "Epoch 11/50\n",
            "22/22 [==============================] - 1s 54ms/step - loss: 0.0015 - accuracy: 1.0000 - val_loss: 0.1950 - val_accuracy: 0.9405\n",
            "Epoch 12/50\n",
            "22/22 [==============================] - 1s 55ms/step - loss: 0.0012 - accuracy: 1.0000 - val_loss: 0.1991 - val_accuracy: 0.9405\n",
            "Epoch 13/50\n",
            "22/22 [==============================] - 1s 53ms/step - loss: 9.5642e-04 - accuracy: 1.0000 - val_loss: 0.2028 - val_accuracy: 0.9464\n",
            "Epoch 14/50\n",
            "22/22 [==============================] - 1s 54ms/step - loss: 7.8635e-04 - accuracy: 1.0000 - val_loss: 0.2062 - val_accuracy: 0.9464\n",
            "Epoch 15/50\n",
            "22/22 [==============================] - 1s 53ms/step - loss: 6.5816e-04 - accuracy: 1.0000 - val_loss: 0.2095 - val_accuracy: 0.9464\n"
          ],
          "name": "stdout"
        },
        {
          "output_type": "display_data",
          "data": {
            "text/html": [
              "<span style=\"color:#4527A0\"><h1 style=\"font-size:18px\">Trial complete</h1></span>"
            ],
            "text/plain": [
              "<IPython.core.display.HTML object>"
            ]
          },
          "metadata": {
            "tags": []
          }
        },
        {
          "output_type": "display_data",
          "data": {
            "text/html": [
              "<span style=\"color:#4527A0\"><h1 style=\"font-size:18px\">Trial summary</h1></span>"
            ],
            "text/plain": [
              "<IPython.core.display.HTML object>"
            ]
          },
          "metadata": {
            "tags": []
          }
        },
        {
          "output_type": "display_data",
          "data": {
            "text/html": [
              "<span style=\"color:#7E57C2\"><h2 style=\"font-size:16px\">Hp values:</h2></span>"
            ],
            "text/plain": [
              "<IPython.core.display.HTML object>"
            ]
          },
          "metadata": {
            "tags": []
          }
        },
        {
          "output_type": "display_data",
          "data": {
            "text/html": [
              "<span style=\"color:cyan\"> |-dense_block_1/dropout_rate: 0.0</span>"
            ],
            "text/plain": [
              "<IPython.core.display.HTML object>"
            ]
          },
          "metadata": {
            "tags": []
          }
        },
        {
          "output_type": "display_data",
          "data": {
            "text/html": [
              "<span style=\"color:blue\"> |-dense_block_1/num_layers: 3</span>"
            ],
            "text/plain": [
              "<IPython.core.display.HTML object>"
            ]
          },
          "metadata": {
            "tags": []
          }
        },
        {
          "output_type": "display_data",
          "data": {
            "text/html": [
              "<span style=\"color:cyan\"> |-dense_block_1/units_0: 16</span>"
            ],
            "text/plain": [
              "<IPython.core.display.HTML object>"
            ]
          },
          "metadata": {
            "tags": []
          }
        },
        {
          "output_type": "display_data",
          "data": {
            "text/html": [
              "<span style=\"color:blue\"> |-dense_block_1/units_1: 32</span>"
            ],
            "text/plain": [
              "<IPython.core.display.HTML object>"
            ]
          },
          "metadata": {
            "tags": []
          }
        },
        {
          "output_type": "display_data",
          "data": {
            "text/html": [
              "<span style=\"color:cyan\"> |-dense_block_1/units_2: 128</span>"
            ],
            "text/plain": [
              "<IPython.core.display.HTML object>"
            ]
          },
          "metadata": {
            "tags": []
          }
        },
        {
          "output_type": "display_data",
          "data": {
            "text/html": [
              "<span style=\"color:blue\"> |-dense_block_1/use_batchnorm: False</span>"
            ],
            "text/plain": [
              "<IPython.core.display.HTML object>"
            ]
          },
          "metadata": {
            "tags": []
          }
        },
        {
          "output_type": "display_data",
          "data": {
            "text/html": [
              "<span style=\"color:cyan\"> |-optimizer: adam</span>"
            ],
            "text/plain": [
              "<IPython.core.display.HTML object>"
            ]
          },
          "metadata": {
            "tags": []
          }
        },
        {
          "output_type": "display_data",
          "data": {
            "text/html": [
              "<span style=\"color:cyan\"> |-Score: 0.1627735272049904</span>"
            ],
            "text/plain": [
              "<IPython.core.display.HTML object>"
            ]
          },
          "metadata": {
            "tags": []
          }
        },
        {
          "output_type": "display_data",
          "data": {
            "text/html": [
              "<span style=\"color:cyan\"> |-Best step: 0</span>"
            ],
            "text/plain": [
              "<IPython.core.display.HTML object>"
            ]
          },
          "metadata": {
            "tags": []
          }
        },
        {
          "output_type": "stream",
          "text": [
            "Epoch 1/50\n",
            "22/22 [==============================] - 2s 98ms/step - loss: 0.5633 - accuracy: 0.6746 - val_loss: 0.0000e+00 - val_accuracy: 0.0000e+00\n",
            "Epoch 2/50\n",
            "22/22 [==============================] - 1s 53ms/step - loss: 0.1665 - accuracy: 0.9822 - val_loss: 0.6239 - val_accuracy: 0.6786\n",
            "Epoch 3/50\n",
            "22/22 [==============================] - 1s 62ms/step - loss: 0.0901 - accuracy: 0.9956 - val_loss: 0.6019 - val_accuracy: 0.7143\n",
            "Epoch 4/50\n",
            "22/22 [==============================] - 1s 57ms/step - loss: 0.0568 - accuracy: 1.0000 - val_loss: 0.5805 - val_accuracy: 0.7381\n",
            "Epoch 5/50\n",
            "22/22 [==============================] - 1s 58ms/step - loss: 0.0391 - accuracy: 1.0000 - val_loss: 0.5585 - val_accuracy: 0.7798\n",
            "Epoch 6/50\n",
            "22/22 [==============================] - 1s 56ms/step - loss: 0.0286 - accuracy: 1.0000 - val_loss: 0.5360 - val_accuracy: 0.8155\n",
            "Epoch 7/50\n",
            "22/22 [==============================] - 1s 56ms/step - loss: 0.0219 - accuracy: 1.0000 - val_loss: 0.5128 - val_accuracy: 0.8393\n",
            "Epoch 8/50\n",
            "22/22 [==============================] - 1s 58ms/step - loss: 0.0173 - accuracy: 1.0000 - val_loss: 0.4890 - val_accuracy: 0.8571\n",
            "Epoch 9/50\n",
            "22/22 [==============================] - 1s 55ms/step - loss: 0.0141 - accuracy: 1.0000 - val_loss: 0.4645 - val_accuracy: 0.8750\n",
            "Epoch 10/50\n",
            "22/22 [==============================] - 1s 56ms/step - loss: 0.0117 - accuracy: 1.0000 - val_loss: 0.4394 - val_accuracy: 0.8929\n",
            "Epoch 11/50\n",
            "22/22 [==============================] - 1s 55ms/step - loss: 0.0099 - accuracy: 1.0000 - val_loss: 0.4139 - val_accuracy: 0.9048\n",
            "Epoch 12/50\n",
            "22/22 [==============================] - 1s 55ms/step - loss: 0.0085 - accuracy: 1.0000 - val_loss: 0.3881 - val_accuracy: 0.9107\n",
            "Epoch 13/50\n",
            "22/22 [==============================] - 1s 56ms/step - loss: 0.0073 - accuracy: 1.0000 - val_loss: 0.3622 - val_accuracy: 0.9107\n",
            "Epoch 14/50\n",
            "22/22 [==============================] - 1s 56ms/step - loss: 0.0064 - accuracy: 1.0000 - val_loss: 0.3366 - val_accuracy: 0.9167\n",
            "Epoch 15/50\n",
            "22/22 [==============================] - 1s 54ms/step - loss: 0.0057 - accuracy: 1.0000 - val_loss: 0.3115 - val_accuracy: 0.9226\n",
            "Epoch 16/50\n",
            "22/22 [==============================] - 1s 57ms/step - loss: 0.0051 - accuracy: 1.0000 - val_loss: 0.2874 - val_accuracy: 0.9286\n",
            "Epoch 17/50\n",
            "22/22 [==============================] - 1s 58ms/step - loss: 0.0045 - accuracy: 1.0000 - val_loss: 0.2647 - val_accuracy: 0.9345\n",
            "Epoch 18/50\n",
            "22/22 [==============================] - 1s 55ms/step - loss: 0.0041 - accuracy: 1.0000 - val_loss: 0.2435 - val_accuracy: 0.9345\n",
            "Epoch 19/50\n",
            "22/22 [==============================] - 1s 56ms/step - loss: 0.0037 - accuracy: 1.0000 - val_loss: 0.2243 - val_accuracy: 0.9345\n",
            "Epoch 20/50\n",
            "22/22 [==============================] - 1s 56ms/step - loss: 0.0034 - accuracy: 1.0000 - val_loss: 0.2072 - val_accuracy: 0.9345\n",
            "Epoch 21/50\n",
            "22/22 [==============================] - 1s 56ms/step - loss: 0.0031 - accuracy: 1.0000 - val_loss: 0.1924 - val_accuracy: 0.9464\n",
            "Epoch 22/50\n",
            "22/22 [==============================] - 1s 54ms/step - loss: 0.0028 - accuracy: 1.0000 - val_loss: 0.1799 - val_accuracy: 0.9464\n",
            "Epoch 23/50\n",
            "22/22 [==============================] - 1s 55ms/step - loss: 0.0026 - accuracy: 1.0000 - val_loss: 0.1695 - val_accuracy: 0.9524\n",
            "Epoch 24/50\n",
            "22/22 [==============================] - 1s 58ms/step - loss: 0.0024 - accuracy: 1.0000 - val_loss: 0.1612 - val_accuracy: 0.9524\n",
            "Epoch 25/50\n",
            "22/22 [==============================] - 1s 58ms/step - loss: 0.0023 - accuracy: 1.0000 - val_loss: 0.1547 - val_accuracy: 0.9524\n",
            "Epoch 26/50\n",
            "22/22 [==============================] - 1s 56ms/step - loss: 0.0021 - accuracy: 1.0000 - val_loss: 0.1498 - val_accuracy: 0.9524\n",
            "Epoch 27/50\n",
            "22/22 [==============================] - 1s 55ms/step - loss: 0.0020 - accuracy: 1.0000 - val_loss: 0.1461 - val_accuracy: 0.9524\n",
            "Epoch 28/50\n",
            "22/22 [==============================] - 1s 57ms/step - loss: 0.0018 - accuracy: 1.0000 - val_loss: 0.1435 - val_accuracy: 0.9524\n",
            "Epoch 29/50\n",
            "22/22 [==============================] - 1s 59ms/step - loss: 0.0017 - accuracy: 1.0000 - val_loss: 0.1418 - val_accuracy: 0.9583\n",
            "Epoch 30/50\n",
            "22/22 [==============================] - 1s 58ms/step - loss: 0.0016 - accuracy: 1.0000 - val_loss: 0.1406 - val_accuracy: 0.9583\n",
            "Epoch 31/50\n",
            "22/22 [==============================] - 1s 54ms/step - loss: 0.0015 - accuracy: 1.0000 - val_loss: 0.1400 - val_accuracy: 0.9583\n",
            "Epoch 32/50\n",
            "22/22 [==============================] - 1s 59ms/step - loss: 0.0014 - accuracy: 1.0000 - val_loss: 0.1397 - val_accuracy: 0.9583\n",
            "Epoch 33/50\n",
            "22/22 [==============================] - 1s 57ms/step - loss: 0.0014 - accuracy: 1.0000 - val_loss: 0.1396 - val_accuracy: 0.9583\n",
            "Epoch 34/50\n",
            "22/22 [==============================] - 1s 59ms/step - loss: 0.0013 - accuracy: 1.0000 - val_loss: 0.1397 - val_accuracy: 0.9583\n",
            "Epoch 35/50\n",
            "22/22 [==============================] - 1s 56ms/step - loss: 0.0012 - accuracy: 1.0000 - val_loss: 0.1399 - val_accuracy: 0.9583\n",
            "Epoch 36/50\n",
            "22/22 [==============================] - 1s 57ms/step - loss: 0.0011 - accuracy: 1.0000 - val_loss: 0.1401 - val_accuracy: 0.9583\n",
            "Epoch 37/50\n",
            "22/22 [==============================] - 1s 58ms/step - loss: 0.0011 - accuracy: 1.0000 - val_loss: 0.1404 - val_accuracy: 0.9583\n",
            "Epoch 38/50\n",
            "22/22 [==============================] - 1s 56ms/step - loss: 0.0010 - accuracy: 1.0000 - val_loss: 0.1408 - val_accuracy: 0.9583\n",
            "Epoch 39/50\n",
            "22/22 [==============================] - 1s 55ms/step - loss: 9.8632e-04 - accuracy: 1.0000 - val_loss: 0.1411 - val_accuracy: 0.9583\n",
            "Epoch 40/50\n",
            "22/22 [==============================] - 1s 56ms/step - loss: 9.4009e-04 - accuracy: 1.0000 - val_loss: 0.1414 - val_accuracy: 0.9583\n",
            "Epoch 41/50\n",
            "22/22 [==============================] - 1s 56ms/step - loss: 8.9703e-04 - accuracy: 1.0000 - val_loss: 0.1417 - val_accuracy: 0.9583\n",
            "Epoch 42/50\n",
            "22/22 [==============================] - 1s 53ms/step - loss: 8.5681e-04 - accuracy: 1.0000 - val_loss: 0.1420 - val_accuracy: 0.9583\n",
            "Epoch 43/50\n",
            "22/22 [==============================] - 1s 57ms/step - loss: 8.1915e-04 - accuracy: 1.0000 - val_loss: 0.1423 - val_accuracy: 0.9583\n"
          ],
          "name": "stdout"
        },
        {
          "output_type": "display_data",
          "data": {
            "text/html": [
              "<span style=\"color:#4527A0\"><h1 style=\"font-size:18px\">Trial complete</h1></span>"
            ],
            "text/plain": [
              "<IPython.core.display.HTML object>"
            ]
          },
          "metadata": {
            "tags": []
          }
        },
        {
          "output_type": "display_data",
          "data": {
            "text/html": [
              "<span style=\"color:#4527A0\"><h1 style=\"font-size:18px\">Trial summary</h1></span>"
            ],
            "text/plain": [
              "<IPython.core.display.HTML object>"
            ]
          },
          "metadata": {
            "tags": []
          }
        },
        {
          "output_type": "display_data",
          "data": {
            "text/html": [
              "<span style=\"color:#7E57C2\"><h2 style=\"font-size:16px\">Hp values:</h2></span>"
            ],
            "text/plain": [
              "<IPython.core.display.HTML object>"
            ]
          },
          "metadata": {
            "tags": []
          }
        },
        {
          "output_type": "display_data",
          "data": {
            "text/html": [
              "<span style=\"color:cyan\"> |-dense_block_1/dropout_rate: 0.0</span>"
            ],
            "text/plain": [
              "<IPython.core.display.HTML object>"
            ]
          },
          "metadata": {
            "tags": []
          }
        },
        {
          "output_type": "display_data",
          "data": {
            "text/html": [
              "<span style=\"color:blue\"> |-dense_block_1/num_layers: 1</span>"
            ],
            "text/plain": [
              "<IPython.core.display.HTML object>"
            ]
          },
          "metadata": {
            "tags": []
          }
        },
        {
          "output_type": "display_data",
          "data": {
            "text/html": [
              "<span style=\"color:cyan\"> |-dense_block_1/units_0: 64</span>"
            ],
            "text/plain": [
              "<IPython.core.display.HTML object>"
            ]
          },
          "metadata": {
            "tags": []
          }
        },
        {
          "output_type": "display_data",
          "data": {
            "text/html": [
              "<span style=\"color:blue\"> |-dense_block_1/units_1: 128</span>"
            ],
            "text/plain": [
              "<IPython.core.display.HTML object>"
            ]
          },
          "metadata": {
            "tags": []
          }
        },
        {
          "output_type": "display_data",
          "data": {
            "text/html": [
              "<span style=\"color:cyan\"> |-dense_block_1/units_2: 16</span>"
            ],
            "text/plain": [
              "<IPython.core.display.HTML object>"
            ]
          },
          "metadata": {
            "tags": []
          }
        },
        {
          "output_type": "display_data",
          "data": {
            "text/html": [
              "<span style=\"color:blue\"> |-dense_block_1/use_batchnorm: True</span>"
            ],
            "text/plain": [
              "<IPython.core.display.HTML object>"
            ]
          },
          "metadata": {
            "tags": []
          }
        },
        {
          "output_type": "display_data",
          "data": {
            "text/html": [
              "<span style=\"color:cyan\"> |-optimizer: adam</span>"
            ],
            "text/plain": [
              "<IPython.core.display.HTML object>"
            ]
          },
          "metadata": {
            "tags": []
          }
        },
        {
          "output_type": "display_data",
          "data": {
            "text/html": [
              "<span style=\"color:cyan\"> |-Score: 0.1395937061558167</span>"
            ],
            "text/plain": [
              "<IPython.core.display.HTML object>"
            ]
          },
          "metadata": {
            "tags": []
          }
        },
        {
          "output_type": "display_data",
          "data": {
            "text/html": [
              "<span style=\"color:cyan\"> |-Best step: 0</span>"
            ],
            "text/plain": [
              "<IPython.core.display.HTML object>"
            ]
          },
          "metadata": {
            "tags": []
          }
        },
        {
          "output_type": "stream",
          "text": [
            "Epoch 1/50\n",
            "22/22 [==============================] - 3s 124ms/step - loss: 0.7002 - accuracy: 0.5991 - val_loss: 0.0000e+00 - val_accuracy: 0.0000e+00\n",
            "Epoch 2/50\n",
            "22/22 [==============================] - 1s 56ms/step - loss: 0.4397 - accuracy: 0.8003 - val_loss: 0.6868 - val_accuracy: 0.5000\n",
            "Epoch 3/50\n",
            "22/22 [==============================] - 1s 58ms/step - loss: 0.2746 - accuracy: 0.8979 - val_loss: 0.6796 - val_accuracy: 0.5000\n",
            "Epoch 4/50\n",
            "22/22 [==============================] - 1s 58ms/step - loss: 0.1647 - accuracy: 0.9527 - val_loss: 0.6752 - val_accuracy: 0.4524\n",
            "Epoch 5/50\n",
            "22/22 [==============================] - 1s 62ms/step - loss: 0.0813 - accuracy: 0.9822 - val_loss: 0.6762 - val_accuracy: 0.4048\n",
            "Epoch 6/50\n",
            "22/22 [==============================] - 1s 53ms/step - loss: 0.0690 - accuracy: 0.9822 - val_loss: 0.6729 - val_accuracy: 0.3988\n",
            "Epoch 7/50\n",
            "22/22 [==============================] - 1s 57ms/step - loss: 0.0447 - accuracy: 0.9911 - val_loss: 0.6693 - val_accuracy: 0.4048\n",
            "Epoch 8/50\n",
            "22/22 [==============================] - 1s 55ms/step - loss: 0.0335 - accuracy: 0.9941 - val_loss: 0.6692 - val_accuracy: 0.3988\n",
            "Epoch 9/50\n",
            "22/22 [==============================] - 1s 57ms/step - loss: 0.0331 - accuracy: 0.9941 - val_loss: 0.6689 - val_accuracy: 0.3988\n",
            "Epoch 10/50\n",
            "22/22 [==============================] - 1s 56ms/step - loss: 0.0297 - accuracy: 0.9941 - val_loss: 0.6578 - val_accuracy: 0.4167\n",
            "Epoch 11/50\n",
            "22/22 [==============================] - 1s 57ms/step - loss: 0.0171 - accuracy: 1.0000 - val_loss: 0.6449 - val_accuracy: 0.4524\n",
            "Epoch 12/50\n",
            "22/22 [==============================] - 1s 57ms/step - loss: 0.0235 - accuracy: 0.9926 - val_loss: 0.6171 - val_accuracy: 0.5238\n",
            "Epoch 13/50\n",
            "22/22 [==============================] - 1s 57ms/step - loss: 0.0155 - accuracy: 0.9985 - val_loss: 0.5724 - val_accuracy: 0.6131\n",
            "Epoch 14/50\n",
            "22/22 [==============================] - 1s 55ms/step - loss: 0.0207 - accuracy: 0.9941 - val_loss: 0.5368 - val_accuracy: 0.6667\n",
            "Epoch 15/50\n",
            "22/22 [==============================] - 1s 58ms/step - loss: 0.0111 - accuracy: 0.9985 - val_loss: 0.4901 - val_accuracy: 0.7381\n",
            "Epoch 16/50\n",
            "22/22 [==============================] - 1s 55ms/step - loss: 0.0121 - accuracy: 0.9985 - val_loss: 0.4372 - val_accuracy: 0.7798\n",
            "Epoch 17/50\n",
            "22/22 [==============================] - 1s 58ms/step - loss: 0.0102 - accuracy: 0.9985 - val_loss: 0.3876 - val_accuracy: 0.8214\n",
            "Epoch 18/50\n",
            "22/22 [==============================] - 1s 57ms/step - loss: 0.0061 - accuracy: 1.0000 - val_loss: 0.3506 - val_accuracy: 0.8333\n",
            "Epoch 19/50\n",
            "22/22 [==============================] - 1s 55ms/step - loss: 0.0118 - accuracy: 0.9970 - val_loss: 0.3114 - val_accuracy: 0.8690\n",
            "Epoch 20/50\n",
            "22/22 [==============================] - 1s 54ms/step - loss: 0.0086 - accuracy: 0.9970 - val_loss: 0.2784 - val_accuracy: 0.8988\n",
            "Epoch 21/50\n",
            "22/22 [==============================] - 1s 58ms/step - loss: 0.0106 - accuracy: 0.9985 - val_loss: 0.2353 - val_accuracy: 0.9405\n",
            "Epoch 22/50\n",
            "22/22 [==============================] - 1s 56ms/step - loss: 0.0060 - accuracy: 0.9985 - val_loss: 0.2097 - val_accuracy: 0.9405\n",
            "Epoch 23/50\n",
            "22/22 [==============================] - 1s 55ms/step - loss: 0.0082 - accuracy: 0.9985 - val_loss: 0.2010 - val_accuracy: 0.9226\n",
            "Epoch 24/50\n",
            "22/22 [==============================] - 1s 56ms/step - loss: 0.0127 - accuracy: 0.9970 - val_loss: 0.1969 - val_accuracy: 0.9167\n",
            "Epoch 25/50\n",
            "22/22 [==============================] - 1s 56ms/step - loss: 0.0065 - accuracy: 1.0000 - val_loss: 0.1918 - val_accuracy: 0.9226\n",
            "Epoch 26/50\n",
            "22/22 [==============================] - 1s 52ms/step - loss: 0.0043 - accuracy: 1.0000 - val_loss: 0.1973 - val_accuracy: 0.9286\n",
            "Epoch 27/50\n",
            "22/22 [==============================] - 1s 57ms/step - loss: 0.0075 - accuracy: 0.9970 - val_loss: 0.2003 - val_accuracy: 0.9286\n",
            "Epoch 28/50\n",
            "22/22 [==============================] - 1s 61ms/step - loss: 0.0045 - accuracy: 0.9985 - val_loss: 0.2099 - val_accuracy: 0.9226\n",
            "Epoch 29/50\n",
            "22/22 [==============================] - 1s 57ms/step - loss: 0.0101 - accuracy: 0.9985 - val_loss: 0.2180 - val_accuracy: 0.9226\n",
            "Epoch 30/50\n",
            "22/22 [==============================] - 1s 55ms/step - loss: 0.0030 - accuracy: 1.0000 - val_loss: 0.2238 - val_accuracy: 0.9286\n",
            "Epoch 31/50\n",
            "22/22 [==============================] - 1s 55ms/step - loss: 0.0036 - accuracy: 1.0000 - val_loss: 0.2367 - val_accuracy: 0.9286\n",
            "Epoch 32/50\n",
            "22/22 [==============================] - 1s 54ms/step - loss: 0.0032 - accuracy: 1.0000 - val_loss: 0.2430 - val_accuracy: 0.9286\n",
            "Epoch 33/50\n",
            "22/22 [==============================] - 1s 55ms/step - loss: 0.0054 - accuracy: 0.9985 - val_loss: 0.2389 - val_accuracy: 0.9286\n",
            "Epoch 34/50\n",
            "22/22 [==============================] - 1s 55ms/step - loss: 0.0097 - accuracy: 0.9970 - val_loss: 0.2360 - val_accuracy: 0.9286\n",
            "Epoch 35/50\n",
            "22/22 [==============================] - 1s 53ms/step - loss: 0.0124 - accuracy: 0.9926 - val_loss: 0.2500 - val_accuracy: 0.9286\n"
          ],
          "name": "stdout"
        },
        {
          "output_type": "display_data",
          "data": {
            "text/html": [
              "<span style=\"color:#4527A0\"><h1 style=\"font-size:18px\">Trial complete</h1></span>"
            ],
            "text/plain": [
              "<IPython.core.display.HTML object>"
            ]
          },
          "metadata": {
            "tags": []
          }
        },
        {
          "output_type": "display_data",
          "data": {
            "text/html": [
              "<span style=\"color:#4527A0\"><h1 style=\"font-size:18px\">Trial summary</h1></span>"
            ],
            "text/plain": [
              "<IPython.core.display.HTML object>"
            ]
          },
          "metadata": {
            "tags": []
          }
        },
        {
          "output_type": "display_data",
          "data": {
            "text/html": [
              "<span style=\"color:#7E57C2\"><h2 style=\"font-size:16px\">Hp values:</h2></span>"
            ],
            "text/plain": [
              "<IPython.core.display.HTML object>"
            ]
          },
          "metadata": {
            "tags": []
          }
        },
        {
          "output_type": "display_data",
          "data": {
            "text/html": [
              "<span style=\"color:cyan\"> |-dense_block_1/dropout_rate: 0.25</span>"
            ],
            "text/plain": [
              "<IPython.core.display.HTML object>"
            ]
          },
          "metadata": {
            "tags": []
          }
        },
        {
          "output_type": "display_data",
          "data": {
            "text/html": [
              "<span style=\"color:blue\"> |-dense_block_1/num_layers: 2</span>"
            ],
            "text/plain": [
              "<IPython.core.display.HTML object>"
            ]
          },
          "metadata": {
            "tags": []
          }
        },
        {
          "output_type": "display_data",
          "data": {
            "text/html": [
              "<span style=\"color:cyan\"> |-dense_block_1/units_0: 16</span>"
            ],
            "text/plain": [
              "<IPython.core.display.HTML object>"
            ]
          },
          "metadata": {
            "tags": []
          }
        },
        {
          "output_type": "display_data",
          "data": {
            "text/html": [
              "<span style=\"color:blue\"> |-dense_block_1/units_1: 256</span>"
            ],
            "text/plain": [
              "<IPython.core.display.HTML object>"
            ]
          },
          "metadata": {
            "tags": []
          }
        },
        {
          "output_type": "display_data",
          "data": {
            "text/html": [
              "<span style=\"color:cyan\"> |-dense_block_1/units_2: 32</span>"
            ],
            "text/plain": [
              "<IPython.core.display.HTML object>"
            ]
          },
          "metadata": {
            "tags": []
          }
        },
        {
          "output_type": "display_data",
          "data": {
            "text/html": [
              "<span style=\"color:blue\"> |-dense_block_1/use_batchnorm: True</span>"
            ],
            "text/plain": [
              "<IPython.core.display.HTML object>"
            ]
          },
          "metadata": {
            "tags": []
          }
        },
        {
          "output_type": "display_data",
          "data": {
            "text/html": [
              "<span style=\"color:cyan\"> |-optimizer: adam</span>"
            ],
            "text/plain": [
              "<IPython.core.display.HTML object>"
            ]
          },
          "metadata": {
            "tags": []
          }
        },
        {
          "output_type": "display_data",
          "data": {
            "text/html": [
              "<span style=\"color:cyan\"> |-Score: 0.19180697947740555</span>"
            ],
            "text/plain": [
              "<IPython.core.display.HTML object>"
            ]
          },
          "metadata": {
            "tags": []
          }
        },
        {
          "output_type": "display_data",
          "data": {
            "text/html": [
              "<span style=\"color:cyan\"> |-Best step: 0</span>"
            ],
            "text/plain": [
              "<IPython.core.display.HTML object>"
            ]
          },
          "metadata": {
            "tags": []
          }
        },
        {
          "output_type": "stream",
          "text": [
            "Epoch 1/50\n",
            "22/22 [==============================] - 2s 97ms/step - loss: 0.6651 - accuracy: 0.6006 - val_loss: 0.0000e+00 - val_accuracy: 0.0000e+00\n",
            "Epoch 2/50\n",
            "22/22 [==============================] - 1s 62ms/step - loss: 0.5611 - accuracy: 0.7308 - val_loss: 0.4988 - val_accuracy: 0.7857\n",
            "Epoch 3/50\n",
            "22/22 [==============================] - 1s 61ms/step - loss: 0.3769 - accuracy: 0.9364 - val_loss: 0.2983 - val_accuracy: 0.9464\n",
            "Epoch 4/50\n",
            "22/22 [==============================] - 1s 62ms/step - loss: 0.1878 - accuracy: 0.9822 - val_loss: 0.1751 - val_accuracy: 0.9524\n",
            "Epoch 5/50\n",
            "22/22 [==============================] - 1s 63ms/step - loss: 0.0889 - accuracy: 0.9911 - val_loss: 0.1432 - val_accuracy: 0.9524\n",
            "Epoch 6/50\n",
            "22/22 [==============================] - 1s 62ms/step - loss: 0.0439 - accuracy: 0.9956 - val_loss: 0.1386 - val_accuracy: 0.9464\n",
            "Epoch 7/50\n",
            "22/22 [==============================] - 1s 62ms/step - loss: 0.0283 - accuracy: 0.9970 - val_loss: 0.1352 - val_accuracy: 0.9524\n",
            "Epoch 8/50\n",
            "22/22 [==============================] - 1s 63ms/step - loss: 0.0200 - accuracy: 0.9985 - val_loss: 0.1421 - val_accuracy: 0.9464\n",
            "Epoch 9/50\n",
            "22/22 [==============================] - 1s 63ms/step - loss: 0.0113 - accuracy: 1.0000 - val_loss: 0.1435 - val_accuracy: 0.9524\n",
            "Epoch 10/50\n",
            "22/22 [==============================] - 1s 58ms/step - loss: 0.0104 - accuracy: 1.0000 - val_loss: 0.1488 - val_accuracy: 0.9464\n",
            "Epoch 11/50\n",
            "22/22 [==============================] - 1s 64ms/step - loss: 0.0086 - accuracy: 1.0000 - val_loss: 0.1501 - val_accuracy: 0.9524\n",
            "Epoch 12/50\n",
            "22/22 [==============================] - 1s 61ms/step - loss: 0.0049 - accuracy: 1.0000 - val_loss: 0.1561 - val_accuracy: 0.9524\n",
            "Epoch 13/50\n",
            "22/22 [==============================] - 1s 61ms/step - loss: 0.0058 - accuracy: 1.0000 - val_loss: 0.1597 - val_accuracy: 0.9524\n",
            "Epoch 14/50\n",
            "22/22 [==============================] - 1s 64ms/step - loss: 0.0039 - accuracy: 1.0000 - val_loss: 0.1610 - val_accuracy: 0.9524\n",
            "Epoch 15/50\n",
            "22/22 [==============================] - 1s 62ms/step - loss: 0.0036 - accuracy: 1.0000 - val_loss: 0.1694 - val_accuracy: 0.9524\n",
            "Epoch 16/50\n",
            "22/22 [==============================] - 1s 67ms/step - loss: 0.0029 - accuracy: 1.0000 - val_loss: 0.1684 - val_accuracy: 0.9524\n",
            "Epoch 17/50\n",
            "22/22 [==============================] - 1s 61ms/step - loss: 0.0034 - accuracy: 1.0000 - val_loss: 0.1707 - val_accuracy: 0.9524\n"
          ],
          "name": "stdout"
        },
        {
          "output_type": "display_data",
          "data": {
            "text/html": [
              "<span style=\"color:#4527A0\"><h1 style=\"font-size:18px\">Trial complete</h1></span>"
            ],
            "text/plain": [
              "<IPython.core.display.HTML object>"
            ]
          },
          "metadata": {
            "tags": []
          }
        },
        {
          "output_type": "display_data",
          "data": {
            "text/html": [
              "<span style=\"color:#4527A0\"><h1 style=\"font-size:18px\">Trial summary</h1></span>"
            ],
            "text/plain": [
              "<IPython.core.display.HTML object>"
            ]
          },
          "metadata": {
            "tags": []
          }
        },
        {
          "output_type": "display_data",
          "data": {
            "text/html": [
              "<span style=\"color:#7E57C2\"><h2 style=\"font-size:16px\">Hp values:</h2></span>"
            ],
            "text/plain": [
              "<IPython.core.display.HTML object>"
            ]
          },
          "metadata": {
            "tags": []
          }
        },
        {
          "output_type": "display_data",
          "data": {
            "text/html": [
              "<span style=\"color:cyan\"> |-dense_block_1/dropout_rate: 0.25</span>"
            ],
            "text/plain": [
              "<IPython.core.display.HTML object>"
            ]
          },
          "metadata": {
            "tags": []
          }
        },
        {
          "output_type": "display_data",
          "data": {
            "text/html": [
              "<span style=\"color:blue\"> |-dense_block_1/num_layers: 2</span>"
            ],
            "text/plain": [
              "<IPython.core.display.HTML object>"
            ]
          },
          "metadata": {
            "tags": []
          }
        },
        {
          "output_type": "display_data",
          "data": {
            "text/html": [
              "<span style=\"color:cyan\"> |-dense_block_1/units_0: 256</span>"
            ],
            "text/plain": [
              "<IPython.core.display.HTML object>"
            ]
          },
          "metadata": {
            "tags": []
          }
        },
        {
          "output_type": "display_data",
          "data": {
            "text/html": [
              "<span style=\"color:blue\"> |-dense_block_1/units_1: 16</span>"
            ],
            "text/plain": [
              "<IPython.core.display.HTML object>"
            ]
          },
          "metadata": {
            "tags": []
          }
        },
        {
          "output_type": "display_data",
          "data": {
            "text/html": [
              "<span style=\"color:cyan\"> |-dense_block_1/units_2: 512</span>"
            ],
            "text/plain": [
              "<IPython.core.display.HTML object>"
            ]
          },
          "metadata": {
            "tags": []
          }
        },
        {
          "output_type": "display_data",
          "data": {
            "text/html": [
              "<span style=\"color:blue\"> |-dense_block_1/use_batchnorm: False</span>"
            ],
            "text/plain": [
              "<IPython.core.display.HTML object>"
            ]
          },
          "metadata": {
            "tags": []
          }
        },
        {
          "output_type": "display_data",
          "data": {
            "text/html": [
              "<span style=\"color:cyan\"> |-optimizer: adam</span>"
            ],
            "text/plain": [
              "<IPython.core.display.HTML object>"
            ]
          },
          "metadata": {
            "tags": []
          }
        },
        {
          "output_type": "display_data",
          "data": {
            "text/html": [
              "<span style=\"color:cyan\"> |-Score: 0.1351596744110187</span>"
            ],
            "text/plain": [
              "<IPython.core.display.HTML object>"
            ]
          },
          "metadata": {
            "tags": []
          }
        },
        {
          "output_type": "display_data",
          "data": {
            "text/html": [
              "<span style=\"color:cyan\"> |-Best step: 0</span>"
            ],
            "text/plain": [
              "<IPython.core.display.HTML object>"
            ]
          },
          "metadata": {
            "tags": []
          }
        },
        {
          "output_type": "stream",
          "text": [
            "Epoch 1/50\n",
            "22/22 [==============================] - 2s 86ms/step - loss: 0.6764 - accuracy: 0.6109 - val_loss: 0.0000e+00 - val_accuracy: 0.0000e+00\n",
            "Epoch 2/50\n",
            "22/22 [==============================] - 1s 58ms/step - loss: 0.6131 - accuracy: 0.6464 - val_loss: 0.5753 - val_accuracy: 0.7202\n",
            "Epoch 3/50\n",
            "22/22 [==============================] - 1s 55ms/step - loss: 0.4773 - accuracy: 0.8817 - val_loss: 0.4270 - val_accuracy: 0.8929\n",
            "Epoch 4/50\n",
            "22/22 [==============================] - 1s 54ms/step - loss: 0.3063 - accuracy: 0.9660 - val_loss: 0.3007 - val_accuracy: 0.9286\n",
            "Epoch 5/50\n",
            "22/22 [==============================] - 1s 61ms/step - loss: 0.1792 - accuracy: 0.9896 - val_loss: 0.2267 - val_accuracy: 0.9286\n",
            "Epoch 6/50\n",
            "22/22 [==============================] - 1s 66ms/step - loss: 0.1050 - accuracy: 0.9941 - val_loss: 0.1901 - val_accuracy: 0.9345\n",
            "Epoch 7/50\n",
            "22/22 [==============================] - 1s 63ms/step - loss: 0.0649 - accuracy: 0.9970 - val_loss: 0.1735 - val_accuracy: 0.9345\n",
            "Epoch 8/50\n",
            "22/22 [==============================] - 1s 60ms/step - loss: 0.0428 - accuracy: 0.9985 - val_loss: 0.1660 - val_accuracy: 0.9405\n",
            "Epoch 9/50\n",
            "22/22 [==============================] - 1s 54ms/step - loss: 0.0299 - accuracy: 0.9985 - val_loss: 0.1633 - val_accuracy: 0.9405\n",
            "Epoch 10/50\n",
            "22/22 [==============================] - 1s 55ms/step - loss: 0.0219 - accuracy: 0.9985 - val_loss: 0.1626 - val_accuracy: 0.9405\n",
            "Epoch 11/50\n",
            "22/22 [==============================] - 1s 53ms/step - loss: 0.0166 - accuracy: 1.0000 - val_loss: 0.1631 - val_accuracy: 0.9405\n",
            "Epoch 12/50\n",
            "22/22 [==============================] - 1s 55ms/step - loss: 0.0130 - accuracy: 1.0000 - val_loss: 0.1642 - val_accuracy: 0.9464\n",
            "Epoch 13/50\n",
            "22/22 [==============================] - 1s 55ms/step - loss: 0.0104 - accuracy: 1.0000 - val_loss: 0.1656 - val_accuracy: 0.9464\n",
            "Epoch 14/50\n",
            "22/22 [==============================] - 1s 57ms/step - loss: 0.0086 - accuracy: 1.0000 - val_loss: 0.1674 - val_accuracy: 0.9464\n",
            "Epoch 15/50\n",
            "22/22 [==============================] - 1s 56ms/step - loss: 0.0071 - accuracy: 1.0000 - val_loss: 0.1691 - val_accuracy: 0.9464\n",
            "Epoch 16/50\n",
            "22/22 [==============================] - 1s 57ms/step - loss: 0.0060 - accuracy: 1.0000 - val_loss: 0.1707 - val_accuracy: 0.9464\n",
            "Epoch 17/50\n",
            "22/22 [==============================] - 1s 57ms/step - loss: 0.0052 - accuracy: 1.0000 - val_loss: 0.1725 - val_accuracy: 0.9464\n",
            "Epoch 18/50\n",
            "22/22 [==============================] - 1s 54ms/step - loss: 0.0045 - accuracy: 1.0000 - val_loss: 0.1741 - val_accuracy: 0.9464\n",
            "Epoch 19/50\n",
            "22/22 [==============================] - 1s 55ms/step - loss: 0.0039 - accuracy: 1.0000 - val_loss: 0.1758 - val_accuracy: 0.9464\n",
            "Epoch 20/50\n",
            "22/22 [==============================] - 1s 56ms/step - loss: 0.0035 - accuracy: 1.0000 - val_loss: 0.1773 - val_accuracy: 0.9464\n"
          ],
          "name": "stdout"
        },
        {
          "output_type": "display_data",
          "data": {
            "text/html": [
              "<span style=\"color:#4527A0\"><h1 style=\"font-size:18px\">Trial complete</h1></span>"
            ],
            "text/plain": [
              "<IPython.core.display.HTML object>"
            ]
          },
          "metadata": {
            "tags": []
          }
        },
        {
          "output_type": "display_data",
          "data": {
            "text/html": [
              "<span style=\"color:#4527A0\"><h1 style=\"font-size:18px\">Trial summary</h1></span>"
            ],
            "text/plain": [
              "<IPython.core.display.HTML object>"
            ]
          },
          "metadata": {
            "tags": []
          }
        },
        {
          "output_type": "display_data",
          "data": {
            "text/html": [
              "<span style=\"color:#7E57C2\"><h2 style=\"font-size:16px\">Hp values:</h2></span>"
            ],
            "text/plain": [
              "<IPython.core.display.HTML object>"
            ]
          },
          "metadata": {
            "tags": []
          }
        },
        {
          "output_type": "display_data",
          "data": {
            "text/html": [
              "<span style=\"color:cyan\"> |-dense_block_1/dropout_rate: 0.0</span>"
            ],
            "text/plain": [
              "<IPython.core.display.HTML object>"
            ]
          },
          "metadata": {
            "tags": []
          }
        },
        {
          "output_type": "display_data",
          "data": {
            "text/html": [
              "<span style=\"color:blue\"> |-dense_block_1/num_layers: 2</span>"
            ],
            "text/plain": [
              "<IPython.core.display.HTML object>"
            ]
          },
          "metadata": {
            "tags": []
          }
        },
        {
          "output_type": "display_data",
          "data": {
            "text/html": [
              "<span style=\"color:cyan\"> |-dense_block_1/units_0: 32</span>"
            ],
            "text/plain": [
              "<IPython.core.display.HTML object>"
            ]
          },
          "metadata": {
            "tags": []
          }
        },
        {
          "output_type": "display_data",
          "data": {
            "text/html": [
              "<span style=\"color:blue\"> |-dense_block_1/units_1: 16</span>"
            ],
            "text/plain": [
              "<IPython.core.display.HTML object>"
            ]
          },
          "metadata": {
            "tags": []
          }
        },
        {
          "output_type": "display_data",
          "data": {
            "text/html": [
              "<span style=\"color:cyan\"> |-dense_block_1/units_2: 512</span>"
            ],
            "text/plain": [
              "<IPython.core.display.HTML object>"
            ]
          },
          "metadata": {
            "tags": []
          }
        },
        {
          "output_type": "display_data",
          "data": {
            "text/html": [
              "<span style=\"color:blue\"> |-dense_block_1/use_batchnorm: False</span>"
            ],
            "text/plain": [
              "<IPython.core.display.HTML object>"
            ]
          },
          "metadata": {
            "tags": []
          }
        },
        {
          "output_type": "display_data",
          "data": {
            "text/html": [
              "<span style=\"color:cyan\"> |-optimizer: adam</span>"
            ],
            "text/plain": [
              "<IPython.core.display.HTML object>"
            ]
          },
          "metadata": {
            "tags": []
          }
        },
        {
          "output_type": "display_data",
          "data": {
            "text/html": [
              "<span style=\"color:cyan\"> |-Score: 0.16260579166313013</span>"
            ],
            "text/plain": [
              "<IPython.core.display.HTML object>"
            ]
          },
          "metadata": {
            "tags": []
          }
        },
        {
          "output_type": "display_data",
          "data": {
            "text/html": [
              "<span style=\"color:cyan\"> |-Best step: 0</span>"
            ],
            "text/plain": [
              "<IPython.core.display.HTML object>"
            ]
          },
          "metadata": {
            "tags": []
          }
        },
        {
          "output_type": "stream",
          "text": [
            "Epoch 1/50\n",
            "22/22 [==============================] - 3s 134ms/step - loss: 0.5651 - accuracy: 0.7293 - val_loss: 0.0000e+00 - val_accuracy: 0.0000e+00\n",
            "Epoch 2/50\n",
            "22/22 [==============================] - 2s 69ms/step - loss: 0.0442 - accuracy: 0.9926 - val_loss: 0.6295 - val_accuracy: 0.6369\n",
            "Epoch 3/50\n",
            "22/22 [==============================] - 2s 69ms/step - loss: 0.0100 - accuracy: 1.0000 - val_loss: 0.6049 - val_accuracy: 0.6786\n",
            "Epoch 4/50\n",
            "22/22 [==============================] - 2s 73ms/step - loss: 0.0063 - accuracy: 1.0000 - val_loss: 0.5826 - val_accuracy: 0.7262\n",
            "Epoch 5/50\n",
            "22/22 [==============================] - 2s 68ms/step - loss: 0.0032 - accuracy: 1.0000 - val_loss: 0.5606 - val_accuracy: 0.8214\n",
            "Epoch 6/50\n",
            "22/22 [==============================] - 2s 71ms/step - loss: 0.0020 - accuracy: 1.0000 - val_loss: 0.5361 - val_accuracy: 0.8452\n",
            "Epoch 7/50\n",
            "22/22 [==============================] - 2s 70ms/step - loss: 0.0011 - accuracy: 1.0000 - val_loss: 0.5101 - val_accuracy: 0.8571\n",
            "Epoch 8/50\n",
            "22/22 [==============================] - 2s 71ms/step - loss: 9.3599e-04 - accuracy: 1.0000 - val_loss: 0.4827 - val_accuracy: 0.8810\n",
            "Epoch 9/50\n",
            "22/22 [==============================] - 1s 66ms/step - loss: 9.6167e-04 - accuracy: 1.0000 - val_loss: 0.4529 - val_accuracy: 0.8929\n",
            "Epoch 10/50\n",
            "22/22 [==============================] - 2s 70ms/step - loss: 8.6728e-04 - accuracy: 1.0000 - val_loss: 0.4223 - val_accuracy: 0.9107\n",
            "Epoch 11/50\n",
            "22/22 [==============================] - 2s 73ms/step - loss: 6.4761e-04 - accuracy: 1.0000 - val_loss: 0.3910 - val_accuracy: 0.9226\n",
            "Epoch 12/50\n",
            "22/22 [==============================] - 2s 73ms/step - loss: 4.8551e-04 - accuracy: 1.0000 - val_loss: 0.3599 - val_accuracy: 0.9226\n",
            "Epoch 13/50\n",
            "22/22 [==============================] - 2s 75ms/step - loss: 5.2148e-04 - accuracy: 1.0000 - val_loss: 0.3298 - val_accuracy: 0.9226\n",
            "Epoch 14/50\n",
            "22/22 [==============================] - 2s 70ms/step - loss: 5.5596e-04 - accuracy: 1.0000 - val_loss: 0.3012 - val_accuracy: 0.9286\n",
            "Epoch 15/50\n",
            "22/22 [==============================] - 2s 76ms/step - loss: 3.6522e-04 - accuracy: 1.0000 - val_loss: 0.2749 - val_accuracy: 0.9286\n",
            "Epoch 16/50\n",
            "22/22 [==============================] - 2s 70ms/step - loss: 6.8017e-04 - accuracy: 1.0000 - val_loss: 0.2501 - val_accuracy: 0.9286\n",
            "Epoch 17/50\n",
            "22/22 [==============================] - 1s 66ms/step - loss: 3.2379e-04 - accuracy: 1.0000 - val_loss: 0.2291 - val_accuracy: 0.9405\n",
            "Epoch 18/50\n",
            "22/22 [==============================] - 1s 68ms/step - loss: 3.5219e-04 - accuracy: 1.0000 - val_loss: 0.2119 - val_accuracy: 0.9464\n",
            "Epoch 19/50\n",
            "22/22 [==============================] - 2s 71ms/step - loss: 3.2975e-04 - accuracy: 1.0000 - val_loss: 0.1976 - val_accuracy: 0.9464\n",
            "Epoch 20/50\n",
            "22/22 [==============================] - 1s 68ms/step - loss: 2.7387e-04 - accuracy: 1.0000 - val_loss: 0.1851 - val_accuracy: 0.9524\n",
            "Epoch 21/50\n",
            "22/22 [==============================] - 2s 72ms/step - loss: 3.8338e-04 - accuracy: 1.0000 - val_loss: 0.1773 - val_accuracy: 0.9524\n",
            "Epoch 22/50\n",
            "22/22 [==============================] - 2s 72ms/step - loss: 2.2790e-04 - accuracy: 1.0000 - val_loss: 0.1718 - val_accuracy: 0.9405\n",
            "Epoch 23/50\n",
            "22/22 [==============================] - 2s 69ms/step - loss: 2.1898e-04 - accuracy: 1.0000 - val_loss: 0.1686 - val_accuracy: 0.9464\n",
            "Epoch 24/50\n",
            "22/22 [==============================] - 2s 68ms/step - loss: 2.4113e-04 - accuracy: 1.0000 - val_loss: 0.1674 - val_accuracy: 0.9345\n",
            "Epoch 25/50\n",
            "22/22 [==============================] - 2s 72ms/step - loss: 2.3436e-04 - accuracy: 1.0000 - val_loss: 0.1671 - val_accuracy: 0.9345\n",
            "Epoch 26/50\n",
            "22/22 [==============================] - 2s 69ms/step - loss: 3.0442e-04 - accuracy: 1.0000 - val_loss: 0.1675 - val_accuracy: 0.9345\n",
            "Epoch 27/50\n",
            "22/22 [==============================] - 1s 66ms/step - loss: 2.6074e-04 - accuracy: 1.0000 - val_loss: 0.1711 - val_accuracy: 0.9345\n",
            "Epoch 28/50\n",
            "22/22 [==============================] - 1s 66ms/step - loss: 1.5440e-04 - accuracy: 1.0000 - val_loss: 0.1743 - val_accuracy: 0.9345\n",
            "Epoch 29/50\n",
            "22/22 [==============================] - 1s 65ms/step - loss: 1.6632e-04 - accuracy: 1.0000 - val_loss: 0.1780 - val_accuracy: 0.9345\n",
            "Epoch 30/50\n",
            "22/22 [==============================] - 1s 67ms/step - loss: 1.5420e-04 - accuracy: 1.0000 - val_loss: 0.1806 - val_accuracy: 0.9345\n",
            "Epoch 31/50\n",
            "22/22 [==============================] - 1s 68ms/step - loss: 1.2875e-04 - accuracy: 1.0000 - val_loss: 0.1835 - val_accuracy: 0.9345\n",
            "Epoch 32/50\n",
            "22/22 [==============================] - 1s 66ms/step - loss: 1.3800e-04 - accuracy: 1.0000 - val_loss: 0.1862 - val_accuracy: 0.9345\n",
            "Epoch 33/50\n",
            "22/22 [==============================] - 1s 66ms/step - loss: 1.8346e-04 - accuracy: 1.0000 - val_loss: 0.1897 - val_accuracy: 0.9345\n",
            "Epoch 34/50\n",
            "22/22 [==============================] - 1s 65ms/step - loss: 1.2030e-04 - accuracy: 1.0000 - val_loss: 0.1928 - val_accuracy: 0.9345\n",
            "Epoch 35/50\n",
            "22/22 [==============================] - 2s 69ms/step - loss: 1.1216e-04 - accuracy: 1.0000 - val_loss: 0.1955 - val_accuracy: 0.9345\n"
          ],
          "name": "stdout"
        },
        {
          "output_type": "display_data",
          "data": {
            "text/html": [
              "<span style=\"color:#4527A0\"><h1 style=\"font-size:18px\">Trial complete</h1></span>"
            ],
            "text/plain": [
              "<IPython.core.display.HTML object>"
            ]
          },
          "metadata": {
            "tags": []
          }
        },
        {
          "output_type": "display_data",
          "data": {
            "text/html": [
              "<span style=\"color:#4527A0\"><h1 style=\"font-size:18px\">Trial summary</h1></span>"
            ],
            "text/plain": [
              "<IPython.core.display.HTML object>"
            ]
          },
          "metadata": {
            "tags": []
          }
        },
        {
          "output_type": "display_data",
          "data": {
            "text/html": [
              "<span style=\"color:#7E57C2\"><h2 style=\"font-size:16px\">Hp values:</h2></span>"
            ],
            "text/plain": [
              "<IPython.core.display.HTML object>"
            ]
          },
          "metadata": {
            "tags": []
          }
        },
        {
          "output_type": "display_data",
          "data": {
            "text/html": [
              "<span style=\"color:cyan\"> |-dense_block_1/dropout_rate: 0.25</span>"
            ],
            "text/plain": [
              "<IPython.core.display.HTML object>"
            ]
          },
          "metadata": {
            "tags": []
          }
        },
        {
          "output_type": "display_data",
          "data": {
            "text/html": [
              "<span style=\"color:blue\"> |-dense_block_1/num_layers: 2</span>"
            ],
            "text/plain": [
              "<IPython.core.display.HTML object>"
            ]
          },
          "metadata": {
            "tags": []
          }
        },
        {
          "output_type": "display_data",
          "data": {
            "text/html": [
              "<span style=\"color:cyan\"> |-dense_block_1/units_0: 256</span>"
            ],
            "text/plain": [
              "<IPython.core.display.HTML object>"
            ]
          },
          "metadata": {
            "tags": []
          }
        },
        {
          "output_type": "display_data",
          "data": {
            "text/html": [
              "<span style=\"color:blue\"> |-dense_block_1/units_1: 1024</span>"
            ],
            "text/plain": [
              "<IPython.core.display.HTML object>"
            ]
          },
          "metadata": {
            "tags": []
          }
        },
        {
          "output_type": "display_data",
          "data": {
            "text/html": [
              "<span style=\"color:cyan\"> |-dense_block_1/units_2: 512</span>"
            ],
            "text/plain": [
              "<IPython.core.display.HTML object>"
            ]
          },
          "metadata": {
            "tags": []
          }
        },
        {
          "output_type": "display_data",
          "data": {
            "text/html": [
              "<span style=\"color:blue\"> |-dense_block_1/use_batchnorm: True</span>"
            ],
            "text/plain": [
              "<IPython.core.display.HTML object>"
            ]
          },
          "metadata": {
            "tags": []
          }
        },
        {
          "output_type": "display_data",
          "data": {
            "text/html": [
              "<span style=\"color:cyan\"> |-optimizer: adam</span>"
            ],
            "text/plain": [
              "<IPython.core.display.HTML object>"
            ]
          },
          "metadata": {
            "tags": []
          }
        },
        {
          "output_type": "display_data",
          "data": {
            "text/html": [
              "<span style=\"color:cyan\"> |-Score: 0.16712151654064655</span>"
            ],
            "text/plain": [
              "<IPython.core.display.HTML object>"
            ]
          },
          "metadata": {
            "tags": []
          }
        },
        {
          "output_type": "display_data",
          "data": {
            "text/html": [
              "<span style=\"color:cyan\"> |-Best step: 0</span>"
            ],
            "text/plain": [
              "<IPython.core.display.HTML object>"
            ]
          },
          "metadata": {
            "tags": []
          }
        },
        {
          "output_type": "stream",
          "text": [
            "Epoch 1/50\n",
            "22/22 [==============================] - 3s 132ms/step - loss: 0.4962 - accuracy: 0.7456 - val_loss: 0.0000e+00 - val_accuracy: 0.0000e+00\n",
            "Epoch 2/50\n",
            "22/22 [==============================] - 1s 64ms/step - loss: 0.1233 - accuracy: 0.9852 - val_loss: 0.6123 - val_accuracy: 0.6548\n",
            "Epoch 3/50\n",
            "22/22 [==============================] - 1s 66ms/step - loss: 0.0672 - accuracy: 0.9970 - val_loss: 0.5902 - val_accuracy: 0.6488\n",
            "Epoch 4/50\n",
            "22/22 [==============================] - 2s 68ms/step - loss: 0.0394 - accuracy: 1.0000 - val_loss: 0.5707 - val_accuracy: 0.6429\n",
            "Epoch 5/50\n",
            "22/22 [==============================] - 1s 68ms/step - loss: 0.0307 - accuracy: 1.0000 - val_loss: 0.5532 - val_accuracy: 0.6429\n",
            "Epoch 6/50\n",
            "22/22 [==============================] - 1s 68ms/step - loss: 0.0217 - accuracy: 1.0000 - val_loss: 0.5352 - val_accuracy: 0.6548\n",
            "Epoch 7/50\n",
            "22/22 [==============================] - 1s 67ms/step - loss: 0.0164 - accuracy: 1.0000 - val_loss: 0.5155 - val_accuracy: 0.6607\n",
            "Epoch 8/50\n",
            "22/22 [==============================] - 2s 69ms/step - loss: 0.0140 - accuracy: 1.0000 - val_loss: 0.4968 - val_accuracy: 0.6786\n",
            "Epoch 9/50\n",
            "22/22 [==============================] - 1s 67ms/step - loss: 0.0122 - accuracy: 1.0000 - val_loss: 0.4749 - val_accuracy: 0.7083\n",
            "Epoch 10/50\n",
            "22/22 [==============================] - 2s 70ms/step - loss: 0.0101 - accuracy: 1.0000 - val_loss: 0.4519 - val_accuracy: 0.7262\n",
            "Epoch 11/50\n",
            "22/22 [==============================] - 2s 69ms/step - loss: 0.0085 - accuracy: 1.0000 - val_loss: 0.4274 - val_accuracy: 0.7619\n",
            "Epoch 12/50\n",
            "22/22 [==============================] - 2s 69ms/step - loss: 0.0080 - accuracy: 1.0000 - val_loss: 0.4027 - val_accuracy: 0.8214\n",
            "Epoch 13/50\n",
            "22/22 [==============================] - 1s 67ms/step - loss: 0.0070 - accuracy: 1.0000 - val_loss: 0.3755 - val_accuracy: 0.8333\n",
            "Epoch 14/50\n",
            "22/22 [==============================] - 2s 69ms/step - loss: 0.0061 - accuracy: 1.0000 - val_loss: 0.3476 - val_accuracy: 0.8571\n",
            "Epoch 15/50\n",
            "22/22 [==============================] - 1s 65ms/step - loss: 0.0057 - accuracy: 1.0000 - val_loss: 0.3194 - val_accuracy: 0.8631\n",
            "Epoch 16/50\n",
            "22/22 [==============================] - 1s 67ms/step - loss: 0.0046 - accuracy: 1.0000 - val_loss: 0.2927 - val_accuracy: 0.8690\n",
            "Epoch 17/50\n",
            "22/22 [==============================] - 1s 68ms/step - loss: 0.0043 - accuracy: 1.0000 - val_loss: 0.2690 - val_accuracy: 0.8929\n",
            "Epoch 18/50\n",
            "22/22 [==============================] - 1s 68ms/step - loss: 0.0039 - accuracy: 1.0000 - val_loss: 0.2452 - val_accuracy: 0.8929\n",
            "Epoch 19/50\n",
            "22/22 [==============================] - 1s 65ms/step - loss: 0.0036 - accuracy: 1.0000 - val_loss: 0.2253 - val_accuracy: 0.9048\n",
            "Epoch 20/50\n",
            "22/22 [==============================] - 1s 68ms/step - loss: 0.0032 - accuracy: 1.0000 - val_loss: 0.2080 - val_accuracy: 0.9167\n",
            "Epoch 21/50\n",
            "22/22 [==============================] - 1s 67ms/step - loss: 0.0033 - accuracy: 1.0000 - val_loss: 0.1925 - val_accuracy: 0.9345\n",
            "Epoch 22/50\n",
            "22/22 [==============================] - 1s 67ms/step - loss: 0.0027 - accuracy: 1.0000 - val_loss: 0.1790 - val_accuracy: 0.9345\n",
            "Epoch 23/50\n",
            "22/22 [==============================] - 2s 71ms/step - loss: 0.0025 - accuracy: 1.0000 - val_loss: 0.1681 - val_accuracy: 0.9405\n",
            "Epoch 24/50\n",
            "22/22 [==============================] - 1s 67ms/step - loss: 0.0025 - accuracy: 1.0000 - val_loss: 0.1585 - val_accuracy: 0.9405\n",
            "Epoch 25/50\n",
            "22/22 [==============================] - 2s 73ms/step - loss: 0.0023 - accuracy: 1.0000 - val_loss: 0.1512 - val_accuracy: 0.9405\n",
            "Epoch 26/50\n",
            "22/22 [==============================] - 1s 68ms/step - loss: 0.0019 - accuracy: 1.0000 - val_loss: 0.1457 - val_accuracy: 0.9405\n",
            "Epoch 27/50\n",
            "22/22 [==============================] - 2s 69ms/step - loss: 0.0020 - accuracy: 1.0000 - val_loss: 0.1418 - val_accuracy: 0.9464\n",
            "Epoch 28/50\n",
            "22/22 [==============================] - 1s 67ms/step - loss: 0.0018 - accuracy: 1.0000 - val_loss: 0.1416 - val_accuracy: 0.9464\n",
            "Epoch 29/50\n",
            "22/22 [==============================] - 1s 66ms/step - loss: 0.0016 - accuracy: 1.0000 - val_loss: 0.1407 - val_accuracy: 0.9464\n",
            "Epoch 30/50\n",
            "22/22 [==============================] - 1s 65ms/step - loss: 0.0015 - accuracy: 1.0000 - val_loss: 0.1404 - val_accuracy: 0.9524\n",
            "Epoch 31/50\n",
            "22/22 [==============================] - 1s 63ms/step - loss: 0.0015 - accuracy: 1.0000 - val_loss: 0.1397 - val_accuracy: 0.9524\n",
            "Epoch 32/50\n",
            "22/22 [==============================] - 1s 66ms/step - loss: 0.0014 - accuracy: 1.0000 - val_loss: 0.1390 - val_accuracy: 0.9583\n",
            "Epoch 33/50\n",
            "22/22 [==============================] - 1s 67ms/step - loss: 0.0014 - accuracy: 1.0000 - val_loss: 0.1393 - val_accuracy: 0.9583\n",
            "Epoch 34/50\n",
            "22/22 [==============================] - 1s 63ms/step - loss: 0.0012 - accuracy: 1.0000 - val_loss: 0.1403 - val_accuracy: 0.9583\n",
            "Epoch 35/50\n",
            "22/22 [==============================] - 1s 65ms/step - loss: 0.0012 - accuracy: 1.0000 - val_loss: 0.1408 - val_accuracy: 0.9643\n",
            "Epoch 36/50\n",
            "22/22 [==============================] - 1s 67ms/step - loss: 0.0013 - accuracy: 1.0000 - val_loss: 0.1401 - val_accuracy: 0.9643\n",
            "Epoch 37/50\n",
            "22/22 [==============================] - 1s 66ms/step - loss: 0.0011 - accuracy: 1.0000 - val_loss: 0.1404 - val_accuracy: 0.9643\n",
            "Epoch 38/50\n",
            "22/22 [==============================] - 1s 64ms/step - loss: 9.7414e-04 - accuracy: 1.0000 - val_loss: 0.1416 - val_accuracy: 0.9583\n",
            "Epoch 39/50\n",
            "22/22 [==============================] - 1s 65ms/step - loss: 9.3025e-04 - accuracy: 1.0000 - val_loss: 0.1426 - val_accuracy: 0.9583\n",
            "Epoch 40/50\n",
            "22/22 [==============================] - 1s 65ms/step - loss: 8.3475e-04 - accuracy: 1.0000 - val_loss: 0.1433 - val_accuracy: 0.9583\n",
            "Epoch 41/50\n",
            "22/22 [==============================] - 1s 67ms/step - loss: 8.6374e-04 - accuracy: 1.0000 - val_loss: 0.1435 - val_accuracy: 0.9583\n",
            "Epoch 42/50\n",
            "22/22 [==============================] - 1s 62ms/step - loss: 7.6531e-04 - accuracy: 1.0000 - val_loss: 0.1436 - val_accuracy: 0.9583\n"
          ],
          "name": "stdout"
        },
        {
          "output_type": "display_data",
          "data": {
            "text/html": [
              "<span style=\"color:#4527A0\"><h1 style=\"font-size:18px\">Trial complete</h1></span>"
            ],
            "text/plain": [
              "<IPython.core.display.HTML object>"
            ]
          },
          "metadata": {
            "tags": []
          }
        },
        {
          "output_type": "display_data",
          "data": {
            "text/html": [
              "<span style=\"color:#4527A0\"><h1 style=\"font-size:18px\">Trial summary</h1></span>"
            ],
            "text/plain": [
              "<IPython.core.display.HTML object>"
            ]
          },
          "metadata": {
            "tags": []
          }
        },
        {
          "output_type": "display_data",
          "data": {
            "text/html": [
              "<span style=\"color:#7E57C2\"><h2 style=\"font-size:16px\">Hp values:</h2></span>"
            ],
            "text/plain": [
              "<IPython.core.display.HTML object>"
            ]
          },
          "metadata": {
            "tags": []
          }
        },
        {
          "output_type": "display_data",
          "data": {
            "text/html": [
              "<span style=\"color:cyan\"> |-dense_block_1/dropout_rate: 0.25</span>"
            ],
            "text/plain": [
              "<IPython.core.display.HTML object>"
            ]
          },
          "metadata": {
            "tags": []
          }
        },
        {
          "output_type": "display_data",
          "data": {
            "text/html": [
              "<span style=\"color:blue\"> |-dense_block_1/num_layers: 2</span>"
            ],
            "text/plain": [
              "<IPython.core.display.HTML object>"
            ]
          },
          "metadata": {
            "tags": []
          }
        },
        {
          "output_type": "display_data",
          "data": {
            "text/html": [
              "<span style=\"color:cyan\"> |-dense_block_1/units_0: 512</span>"
            ],
            "text/plain": [
              "<IPython.core.display.HTML object>"
            ]
          },
          "metadata": {
            "tags": []
          }
        },
        {
          "output_type": "display_data",
          "data": {
            "text/html": [
              "<span style=\"color:blue\"> |-dense_block_1/units_1: 64</span>"
            ],
            "text/plain": [
              "<IPython.core.display.HTML object>"
            ]
          },
          "metadata": {
            "tags": []
          }
        },
        {
          "output_type": "display_data",
          "data": {
            "text/html": [
              "<span style=\"color:cyan\"> |-dense_block_1/units_2: 64</span>"
            ],
            "text/plain": [
              "<IPython.core.display.HTML object>"
            ]
          },
          "metadata": {
            "tags": []
          }
        },
        {
          "output_type": "display_data",
          "data": {
            "text/html": [
              "<span style=\"color:blue\"> |-dense_block_1/use_batchnorm: True</span>"
            ],
            "text/plain": [
              "<IPython.core.display.HTML object>"
            ]
          },
          "metadata": {
            "tags": []
          }
        },
        {
          "output_type": "display_data",
          "data": {
            "text/html": [
              "<span style=\"color:cyan\"> |-optimizer: adam</span>"
            ],
            "text/plain": [
              "<IPython.core.display.HTML object>"
            ]
          },
          "metadata": {
            "tags": []
          }
        },
        {
          "output_type": "display_data",
          "data": {
            "text/html": [
              "<span style=\"color:cyan\"> |-Score: 0.13895362926026186</span>"
            ],
            "text/plain": [
              "<IPython.core.display.HTML object>"
            ]
          },
          "metadata": {
            "tags": []
          }
        },
        {
          "output_type": "display_data",
          "data": {
            "text/html": [
              "<span style=\"color:cyan\"> |-Best step: 0</span>"
            ],
            "text/plain": [
              "<IPython.core.display.HTML object>"
            ]
          },
          "metadata": {
            "tags": []
          }
        },
        {
          "output_type": "stream",
          "text": [
            "Epoch 1/50\n",
            "22/22 [==============================] - 2s 88ms/step - loss: 0.6633 - accuracy: 0.6450 - val_loss: 0.0000e+00 - val_accuracy: 0.0000e+00\n",
            "Epoch 2/50\n",
            "22/22 [==============================] - 1s 60ms/step - loss: 0.5733 - accuracy: 0.6908 - val_loss: 0.5339 - val_accuracy: 0.7143\n",
            "Epoch 3/50\n",
            "22/22 [==============================] - 1s 63ms/step - loss: 0.4473 - accuracy: 0.8639 - val_loss: 0.4108 - val_accuracy: 0.9048\n",
            "Epoch 4/50\n",
            "22/22 [==============================] - 1s 61ms/step - loss: 0.3060 - accuracy: 0.9645 - val_loss: 0.2967 - val_accuracy: 0.9405\n",
            "Epoch 5/50\n",
            "22/22 [==============================] - 1s 58ms/step - loss: 0.1946 - accuracy: 0.9867 - val_loss: 0.2260 - val_accuracy: 0.9464\n",
            "Epoch 6/50\n",
            "22/22 [==============================] - 1s 61ms/step - loss: 0.1308 - accuracy: 0.9896 - val_loss: 0.1873 - val_accuracy: 0.9464\n",
            "Epoch 7/50\n",
            "22/22 [==============================] - 1s 62ms/step - loss: 0.0932 - accuracy: 0.9941 - val_loss: 0.1664 - val_accuracy: 0.9464\n",
            "Epoch 8/50\n",
            "22/22 [==============================] - 1s 60ms/step - loss: 0.0669 - accuracy: 0.9941 - val_loss: 0.1548 - val_accuracy: 0.9464\n",
            "Epoch 9/50\n",
            "22/22 [==============================] - 1s 60ms/step - loss: 0.0522 - accuracy: 0.9956 - val_loss: 0.1478 - val_accuracy: 0.9464\n",
            "Epoch 10/50\n",
            "22/22 [==============================] - 1s 58ms/step - loss: 0.0395 - accuracy: 0.9970 - val_loss: 0.1430 - val_accuracy: 0.9464\n",
            "Epoch 11/50\n",
            "22/22 [==============================] - 1s 59ms/step - loss: 0.0316 - accuracy: 0.9985 - val_loss: 0.1413 - val_accuracy: 0.9464\n",
            "Epoch 12/50\n",
            "22/22 [==============================] - 1s 57ms/step - loss: 0.0259 - accuracy: 0.9985 - val_loss: 0.1404 - val_accuracy: 0.9464\n",
            "Epoch 13/50\n",
            "22/22 [==============================] - 1s 63ms/step - loss: 0.0203 - accuracy: 0.9985 - val_loss: 0.1395 - val_accuracy: 0.9524\n",
            "Epoch 14/50\n",
            "22/22 [==============================] - 1s 61ms/step - loss: 0.0179 - accuracy: 1.0000 - val_loss: 0.1391 - val_accuracy: 0.9524\n",
            "Epoch 15/50\n",
            "22/22 [==============================] - 1s 56ms/step - loss: 0.0152 - accuracy: 1.0000 - val_loss: 0.1396 - val_accuracy: 0.9524\n",
            "Epoch 16/50\n",
            "22/22 [==============================] - 1s 59ms/step - loss: 0.0132 - accuracy: 1.0000 - val_loss: 0.1391 - val_accuracy: 0.9583\n",
            "Epoch 17/50\n",
            "22/22 [==============================] - 1s 58ms/step - loss: 0.0112 - accuracy: 1.0000 - val_loss: 0.1406 - val_accuracy: 0.9583\n",
            "Epoch 18/50\n",
            "22/22 [==============================] - 1s 60ms/step - loss: 0.0109 - accuracy: 1.0000 - val_loss: 0.1427 - val_accuracy: 0.9583\n",
            "Epoch 19/50\n",
            "22/22 [==============================] - 1s 61ms/step - loss: 0.0091 - accuracy: 1.0000 - val_loss: 0.1435 - val_accuracy: 0.9583\n",
            "Epoch 20/50\n",
            "22/22 [==============================] - 1s 60ms/step - loss: 0.0079 - accuracy: 1.0000 - val_loss: 0.1434 - val_accuracy: 0.9583\n",
            "Epoch 21/50\n",
            "22/22 [==============================] - 1s 62ms/step - loss: 0.0075 - accuracy: 1.0000 - val_loss: 0.1442 - val_accuracy: 0.9524\n",
            "Epoch 22/50\n",
            "22/22 [==============================] - 1s 59ms/step - loss: 0.0071 - accuracy: 1.0000 - val_loss: 0.1450 - val_accuracy: 0.9524\n",
            "Epoch 23/50\n",
            "22/22 [==============================] - 1s 61ms/step - loss: 0.0058 - accuracy: 1.0000 - val_loss: 0.1463 - val_accuracy: 0.9524\n",
            "Epoch 24/50\n",
            "22/22 [==============================] - 1s 59ms/step - loss: 0.0053 - accuracy: 1.0000 - val_loss: 0.1476 - val_accuracy: 0.9524\n",
            "Epoch 25/50\n",
            "22/22 [==============================] - 1s 59ms/step - loss: 0.0048 - accuracy: 1.0000 - val_loss: 0.1488 - val_accuracy: 0.9524\n",
            "Epoch 26/50\n",
            "22/22 [==============================] - 1s 59ms/step - loss: 0.0041 - accuracy: 1.0000 - val_loss: 0.1499 - val_accuracy: 0.9524\n"
          ],
          "name": "stdout"
        },
        {
          "output_type": "display_data",
          "data": {
            "text/html": [
              "<span style=\"color:#4527A0\"><h1 style=\"font-size:18px\">Trial complete</h1></span>"
            ],
            "text/plain": [
              "<IPython.core.display.HTML object>"
            ]
          },
          "metadata": {
            "tags": []
          }
        },
        {
          "output_type": "display_data",
          "data": {
            "text/html": [
              "<span style=\"color:#4527A0\"><h1 style=\"font-size:18px\">Trial summary</h1></span>"
            ],
            "text/plain": [
              "<IPython.core.display.HTML object>"
            ]
          },
          "metadata": {
            "tags": []
          }
        },
        {
          "output_type": "display_data",
          "data": {
            "text/html": [
              "<span style=\"color:#7E57C2\"><h2 style=\"font-size:16px\">Hp values:</h2></span>"
            ],
            "text/plain": [
              "<IPython.core.display.HTML object>"
            ]
          },
          "metadata": {
            "tags": []
          }
        },
        {
          "output_type": "display_data",
          "data": {
            "text/html": [
              "<span style=\"color:cyan\"> |-dense_block_1/dropout_rate: 0.5</span>"
            ],
            "text/plain": [
              "<IPython.core.display.HTML object>"
            ]
          },
          "metadata": {
            "tags": []
          }
        },
        {
          "output_type": "display_data",
          "data": {
            "text/html": [
              "<span style=\"color:blue\"> |-dense_block_1/num_layers: 1</span>"
            ],
            "text/plain": [
              "<IPython.core.display.HTML object>"
            ]
          },
          "metadata": {
            "tags": []
          }
        },
        {
          "output_type": "display_data",
          "data": {
            "text/html": [
              "<span style=\"color:cyan\"> |-dense_block_1/units_0: 256</span>"
            ],
            "text/plain": [
              "<IPython.core.display.HTML object>"
            ]
          },
          "metadata": {
            "tags": []
          }
        },
        {
          "output_type": "display_data",
          "data": {
            "text/html": [
              "<span style=\"color:blue\"> |-dense_block_1/units_1: 512</span>"
            ],
            "text/plain": [
              "<IPython.core.display.HTML object>"
            ]
          },
          "metadata": {
            "tags": []
          }
        },
        {
          "output_type": "display_data",
          "data": {
            "text/html": [
              "<span style=\"color:cyan\"> |-dense_block_1/units_2: 512</span>"
            ],
            "text/plain": [
              "<IPython.core.display.HTML object>"
            ]
          },
          "metadata": {
            "tags": []
          }
        },
        {
          "output_type": "display_data",
          "data": {
            "text/html": [
              "<span style=\"color:blue\"> |-dense_block_1/use_batchnorm: False</span>"
            ],
            "text/plain": [
              "<IPython.core.display.HTML object>"
            ]
          },
          "metadata": {
            "tags": []
          }
        },
        {
          "output_type": "display_data",
          "data": {
            "text/html": [
              "<span style=\"color:cyan\"> |-optimizer: adam</span>"
            ],
            "text/plain": [
              "<IPython.core.display.HTML object>"
            ]
          },
          "metadata": {
            "tags": []
          }
        },
        {
          "output_type": "display_data",
          "data": {
            "text/html": [
              "<span style=\"color:cyan\"> |-Score: 0.1390631745258967</span>"
            ],
            "text/plain": [
              "<IPython.core.display.HTML object>"
            ]
          },
          "metadata": {
            "tags": []
          }
        },
        {
          "output_type": "display_data",
          "data": {
            "text/html": [
              "<span style=\"color:cyan\"> |-Best step: 0</span>"
            ],
            "text/plain": [
              "<IPython.core.display.HTML object>"
            ]
          },
          "metadata": {
            "tags": []
          }
        },
        {
          "output_type": "stream",
          "text": [
            "Epoch 1/50\n",
            "22/22 [==============================] - 2s 93ms/step - loss: 0.6318 - accuracy: 0.5991 - val_loss: 0.0000e+00 - val_accuracy: 0.0000e+00\n",
            "Epoch 2/50\n",
            "22/22 [==============================] - 1s 66ms/step - loss: 0.4432 - accuracy: 0.8432 - val_loss: 0.3733 - val_accuracy: 0.9167\n",
            "Epoch 3/50\n",
            "22/22 [==============================] - 1s 65ms/step - loss: 0.2330 - accuracy: 0.9808 - val_loss: 0.2241 - val_accuracy: 0.9464\n",
            "Epoch 4/50\n",
            "22/22 [==============================] - 1s 67ms/step - loss: 0.1096 - accuracy: 0.9896 - val_loss: 0.1689 - val_accuracy: 0.9464\n",
            "Epoch 5/50\n",
            "22/22 [==============================] - 1s 65ms/step - loss: 0.0578 - accuracy: 0.9956 - val_loss: 0.1514 - val_accuracy: 0.9464\n",
            "Epoch 6/50\n",
            "22/22 [==============================] - 1s 63ms/step - loss: 0.0348 - accuracy: 0.9985 - val_loss: 0.1458 - val_accuracy: 0.9464\n",
            "Epoch 7/50\n",
            "22/22 [==============================] - 1s 64ms/step - loss: 0.0231 - accuracy: 0.9985 - val_loss: 0.1443 - val_accuracy: 0.9524\n",
            "Epoch 8/50\n",
            "22/22 [==============================] - 1s 64ms/step - loss: 0.0165 - accuracy: 1.0000 - val_loss: 0.1446 - val_accuracy: 0.9524\n",
            "Epoch 9/50\n",
            "22/22 [==============================] - 1s 65ms/step - loss: 0.0123 - accuracy: 1.0000 - val_loss: 0.1457 - val_accuracy: 0.9464\n",
            "Epoch 10/50\n",
            "22/22 [==============================] - 1s 63ms/step - loss: 0.0096 - accuracy: 1.0000 - val_loss: 0.1472 - val_accuracy: 0.9464\n",
            "Epoch 11/50\n",
            "22/22 [==============================] - 1s 63ms/step - loss: 0.0077 - accuracy: 1.0000 - val_loss: 0.1489 - val_accuracy: 0.9524\n",
            "Epoch 12/50\n",
            "22/22 [==============================] - 1s 62ms/step - loss: 0.0063 - accuracy: 1.0000 - val_loss: 0.1507 - val_accuracy: 0.9524\n",
            "Epoch 13/50\n",
            "22/22 [==============================] - 1s 64ms/step - loss: 0.0052 - accuracy: 1.0000 - val_loss: 0.1524 - val_accuracy: 0.9524\n",
            "Epoch 14/50\n",
            "22/22 [==============================] - 1s 63ms/step - loss: 0.0044 - accuracy: 1.0000 - val_loss: 0.1542 - val_accuracy: 0.9524\n",
            "Epoch 15/50\n",
            "22/22 [==============================] - 1s 65ms/step - loss: 0.0038 - accuracy: 1.0000 - val_loss: 0.1559 - val_accuracy: 0.9524\n",
            "Epoch 16/50\n",
            "22/22 [==============================] - 1s 66ms/step - loss: 0.0033 - accuracy: 1.0000 - val_loss: 0.1575 - val_accuracy: 0.9524\n",
            "Epoch 17/50\n",
            "22/22 [==============================] - 1s 65ms/step - loss: 0.0029 - accuracy: 1.0000 - val_loss: 0.1591 - val_accuracy: 0.9524\n"
          ],
          "name": "stdout"
        },
        {
          "output_type": "display_data",
          "data": {
            "text/html": [
              "<span style=\"color:#4527A0\"><h1 style=\"font-size:18px\">Trial complete</h1></span>"
            ],
            "text/plain": [
              "<IPython.core.display.HTML object>"
            ]
          },
          "metadata": {
            "tags": []
          }
        },
        {
          "output_type": "display_data",
          "data": {
            "text/html": [
              "<span style=\"color:#4527A0\"><h1 style=\"font-size:18px\">Trial summary</h1></span>"
            ],
            "text/plain": [
              "<IPython.core.display.HTML object>"
            ]
          },
          "metadata": {
            "tags": []
          }
        },
        {
          "output_type": "display_data",
          "data": {
            "text/html": [
              "<span style=\"color:#7E57C2\"><h2 style=\"font-size:16px\">Hp values:</h2></span>"
            ],
            "text/plain": [
              "<IPython.core.display.HTML object>"
            ]
          },
          "metadata": {
            "tags": []
          }
        },
        {
          "output_type": "display_data",
          "data": {
            "text/html": [
              "<span style=\"color:cyan\"> |-dense_block_1/dropout_rate: 0.0</span>"
            ],
            "text/plain": [
              "<IPython.core.display.HTML object>"
            ]
          },
          "metadata": {
            "tags": []
          }
        },
        {
          "output_type": "display_data",
          "data": {
            "text/html": [
              "<span style=\"color:blue\"> |-dense_block_1/num_layers: 1</span>"
            ],
            "text/plain": [
              "<IPython.core.display.HTML object>"
            ]
          },
          "metadata": {
            "tags": []
          }
        },
        {
          "output_type": "display_data",
          "data": {
            "text/html": [
              "<span style=\"color:cyan\"> |-dense_block_1/units_0: 512</span>"
            ],
            "text/plain": [
              "<IPython.core.display.HTML object>"
            ]
          },
          "metadata": {
            "tags": []
          }
        },
        {
          "output_type": "display_data",
          "data": {
            "text/html": [
              "<span style=\"color:blue\"> |-dense_block_1/units_1: 64</span>"
            ],
            "text/plain": [
              "<IPython.core.display.HTML object>"
            ]
          },
          "metadata": {
            "tags": []
          }
        },
        {
          "output_type": "display_data",
          "data": {
            "text/html": [
              "<span style=\"color:cyan\"> |-dense_block_1/units_2: 16</span>"
            ],
            "text/plain": [
              "<IPython.core.display.HTML object>"
            ]
          },
          "metadata": {
            "tags": []
          }
        },
        {
          "output_type": "display_data",
          "data": {
            "text/html": [
              "<span style=\"color:blue\"> |-dense_block_1/use_batchnorm: False</span>"
            ],
            "text/plain": [
              "<IPython.core.display.HTML object>"
            ]
          },
          "metadata": {
            "tags": []
          }
        },
        {
          "output_type": "display_data",
          "data": {
            "text/html": [
              "<span style=\"color:cyan\"> |-optimizer: adam</span>"
            ],
            "text/plain": [
              "<IPython.core.display.HTML object>"
            ]
          },
          "metadata": {
            "tags": []
          }
        },
        {
          "output_type": "display_data",
          "data": {
            "text/html": [
              "<span style=\"color:cyan\"> |-Score: 0.1443482277294</span>"
            ],
            "text/plain": [
              "<IPython.core.display.HTML object>"
            ]
          },
          "metadata": {
            "tags": []
          }
        },
        {
          "output_type": "display_data",
          "data": {
            "text/html": [
              "<span style=\"color:cyan\"> |-Best step: 0</span>"
            ],
            "text/plain": [
              "<IPython.core.display.HTML object>"
            ]
          },
          "metadata": {
            "tags": []
          }
        },
        {
          "output_type": "stream",
          "text": [
            "Epoch 1/50\n",
            "22/22 [==============================] - 2s 98ms/step - loss: 0.5140 - accuracy: 0.7559 - val_loss: 0.0000e+00 - val_accuracy: 0.0000e+00\n",
            "Epoch 2/50\n",
            "22/22 [==============================] - 1s 57ms/step - loss: 0.1554 - accuracy: 0.9822 - val_loss: 0.6232 - val_accuracy: 0.7381\n",
            "Epoch 3/50\n",
            "22/22 [==============================] - 1s 55ms/step - loss: 0.0817 - accuracy: 0.9941 - val_loss: 0.6002 - val_accuracy: 0.7798\n",
            "Epoch 4/50\n",
            "22/22 [==============================] - 1s 58ms/step - loss: 0.0495 - accuracy: 1.0000 - val_loss: 0.5776 - val_accuracy: 0.8155\n",
            "Epoch 5/50\n",
            "22/22 [==============================] - 1s 56ms/step - loss: 0.0329 - accuracy: 1.0000 - val_loss: 0.5546 - val_accuracy: 0.8274\n",
            "Epoch 6/50\n",
            "22/22 [==============================] - 1s 58ms/step - loss: 0.0234 - accuracy: 1.0000 - val_loss: 0.5314 - val_accuracy: 0.8452\n",
            "Epoch 7/50\n",
            "22/22 [==============================] - 1s 59ms/step - loss: 0.0176 - accuracy: 1.0000 - val_loss: 0.5079 - val_accuracy: 0.8452\n",
            "Epoch 8/50\n",
            "22/22 [==============================] - 1s 60ms/step - loss: 0.0138 - accuracy: 1.0000 - val_loss: 0.4838 - val_accuracy: 0.8631\n",
            "Epoch 9/50\n",
            "22/22 [==============================] - 1s 57ms/step - loss: 0.0111 - accuracy: 1.0000 - val_loss: 0.4593 - val_accuracy: 0.8810\n",
            "Epoch 10/50\n",
            "22/22 [==============================] - 1s 57ms/step - loss: 0.0092 - accuracy: 1.0000 - val_loss: 0.4344 - val_accuracy: 0.9048\n",
            "Epoch 11/50\n",
            "22/22 [==============================] - 1s 54ms/step - loss: 0.0077 - accuracy: 1.0000 - val_loss: 0.4091 - val_accuracy: 0.9107\n",
            "Epoch 12/50\n",
            "22/22 [==============================] - 1s 57ms/step - loss: 0.0066 - accuracy: 1.0000 - val_loss: 0.3837 - val_accuracy: 0.9167\n",
            "Epoch 13/50\n",
            "22/22 [==============================] - 1s 53ms/step - loss: 0.0057 - accuracy: 1.0000 - val_loss: 0.3586 - val_accuracy: 0.9167\n",
            "Epoch 14/50\n",
            "22/22 [==============================] - 1s 59ms/step - loss: 0.0049 - accuracy: 1.0000 - val_loss: 0.3341 - val_accuracy: 0.9167\n",
            "Epoch 15/50\n",
            "22/22 [==============================] - 1s 58ms/step - loss: 0.0044 - accuracy: 1.0000 - val_loss: 0.3103 - val_accuracy: 0.9167\n",
            "Epoch 16/50\n",
            "22/22 [==============================] - 1s 56ms/step - loss: 0.0039 - accuracy: 1.0000 - val_loss: 0.2876 - val_accuracy: 0.9345\n",
            "Epoch 17/50\n",
            "22/22 [==============================] - 1s 60ms/step - loss: 0.0035 - accuracy: 1.0000 - val_loss: 0.2664 - val_accuracy: 0.9345\n",
            "Epoch 18/50\n",
            "22/22 [==============================] - 1s 57ms/step - loss: 0.0031 - accuracy: 1.0000 - val_loss: 0.2469 - val_accuracy: 0.9345\n",
            "Epoch 19/50\n",
            "22/22 [==============================] - 1s 54ms/step - loss: 0.0028 - accuracy: 1.0000 - val_loss: 0.2293 - val_accuracy: 0.9345\n",
            "Epoch 20/50\n",
            "22/22 [==============================] - 1s 57ms/step - loss: 0.0026 - accuracy: 1.0000 - val_loss: 0.2140 - val_accuracy: 0.9405\n",
            "Epoch 21/50\n",
            "22/22 [==============================] - 1s 56ms/step - loss: 0.0023 - accuracy: 1.0000 - val_loss: 0.2008 - val_accuracy: 0.9405\n",
            "Epoch 22/50\n",
            "22/22 [==============================] - 1s 56ms/step - loss: 0.0022 - accuracy: 1.0000 - val_loss: 0.1899 - val_accuracy: 0.9405\n",
            "Epoch 23/50\n",
            "22/22 [==============================] - 1s 56ms/step - loss: 0.0020 - accuracy: 1.0000 - val_loss: 0.1810 - val_accuracy: 0.9405\n",
            "Epoch 24/50\n",
            "22/22 [==============================] - 1s 60ms/step - loss: 0.0018 - accuracy: 1.0000 - val_loss: 0.1739 - val_accuracy: 0.9464\n",
            "Epoch 25/50\n",
            "22/22 [==============================] - 1s 57ms/step - loss: 0.0017 - accuracy: 1.0000 - val_loss: 0.1686 - val_accuracy: 0.9524\n",
            "Epoch 26/50\n",
            "22/22 [==============================] - 1s 57ms/step - loss: 0.0016 - accuracy: 1.0000 - val_loss: 0.1646 - val_accuracy: 0.9524\n",
            "Epoch 27/50\n",
            "22/22 [==============================] - 1s 56ms/step - loss: 0.0015 - accuracy: 1.0000 - val_loss: 0.1618 - val_accuracy: 0.9524\n",
            "Epoch 28/50\n",
            "22/22 [==============================] - 1s 59ms/step - loss: 0.0014 - accuracy: 1.0000 - val_loss: 0.1599 - val_accuracy: 0.9524\n",
            "Epoch 29/50\n",
            "22/22 [==============================] - 1s 56ms/step - loss: 0.0013 - accuracy: 1.0000 - val_loss: 0.1587 - val_accuracy: 0.9524\n",
            "Epoch 30/50\n",
            "22/22 [==============================] - 1s 60ms/step - loss: 0.0012 - accuracy: 1.0000 - val_loss: 0.1581 - val_accuracy: 0.9524\n",
            "Epoch 31/50\n",
            "22/22 [==============================] - 1s 56ms/step - loss: 0.0011 - accuracy: 1.0000 - val_loss: 0.1578 - val_accuracy: 0.9524\n",
            "Epoch 32/50\n",
            "22/22 [==============================] - 1s 57ms/step - loss: 0.0011 - accuracy: 1.0000 - val_loss: 0.1578 - val_accuracy: 0.9524\n",
            "Epoch 33/50\n",
            "22/22 [==============================] - 1s 55ms/step - loss: 0.0010 - accuracy: 1.0000 - val_loss: 0.1579 - val_accuracy: 0.9524\n",
            "Epoch 34/50\n",
            "22/22 [==============================] - 1s 58ms/step - loss: 9.5363e-04 - accuracy: 1.0000 - val_loss: 0.1582 - val_accuracy: 0.9524\n",
            "Epoch 35/50\n",
            "22/22 [==============================] - 1s 53ms/step - loss: 9.0280e-04 - accuracy: 1.0000 - val_loss: 0.1585 - val_accuracy: 0.9524\n",
            "Epoch 36/50\n",
            "22/22 [==============================] - 1s 57ms/step - loss: 8.5587e-04 - accuracy: 1.0000 - val_loss: 0.1589 - val_accuracy: 0.9524\n",
            "Epoch 37/50\n",
            "22/22 [==============================] - 1s 58ms/step - loss: 8.1245e-04 - accuracy: 1.0000 - val_loss: 0.1593 - val_accuracy: 0.9524\n",
            "Epoch 38/50\n",
            "22/22 [==============================] - 1s 58ms/step - loss: 7.7222e-04 - accuracy: 1.0000 - val_loss: 0.1597 - val_accuracy: 0.9524\n",
            "Epoch 39/50\n",
            "22/22 [==============================] - 1s 56ms/step - loss: 7.3494e-04 - accuracy: 1.0000 - val_loss: 0.1601 - val_accuracy: 0.9524\n",
            "Epoch 40/50\n",
            "22/22 [==============================] - 1s 55ms/step - loss: 7.0022e-04 - accuracy: 1.0000 - val_loss: 0.1606 - val_accuracy: 0.9524\n",
            "Epoch 41/50\n",
            "22/22 [==============================] - 1s 56ms/step - loss: 6.6795e-04 - accuracy: 1.0000 - val_loss: 0.1609 - val_accuracy: 0.9524\n"
          ],
          "name": "stdout"
        },
        {
          "output_type": "display_data",
          "data": {
            "text/html": [
              "<span style=\"color:#4527A0\"><h1 style=\"font-size:18px\">Trial complete</h1></span>"
            ],
            "text/plain": [
              "<IPython.core.display.HTML object>"
            ]
          },
          "metadata": {
            "tags": []
          }
        },
        {
          "output_type": "display_data",
          "data": {
            "text/html": [
              "<span style=\"color:#4527A0\"><h1 style=\"font-size:18px\">Trial summary</h1></span>"
            ],
            "text/plain": [
              "<IPython.core.display.HTML object>"
            ]
          },
          "metadata": {
            "tags": []
          }
        },
        {
          "output_type": "display_data",
          "data": {
            "text/html": [
              "<span style=\"color:#7E57C2\"><h2 style=\"font-size:16px\">Hp values:</h2></span>"
            ],
            "text/plain": [
              "<IPython.core.display.HTML object>"
            ]
          },
          "metadata": {
            "tags": []
          }
        },
        {
          "output_type": "display_data",
          "data": {
            "text/html": [
              "<span style=\"color:cyan\"> |-dense_block_1/dropout_rate: 0.0</span>"
            ],
            "text/plain": [
              "<IPython.core.display.HTML object>"
            ]
          },
          "metadata": {
            "tags": []
          }
        },
        {
          "output_type": "display_data",
          "data": {
            "text/html": [
              "<span style=\"color:blue\"> |-dense_block_1/num_layers: 1</span>"
            ],
            "text/plain": [
              "<IPython.core.display.HTML object>"
            ]
          },
          "metadata": {
            "tags": []
          }
        },
        {
          "output_type": "display_data",
          "data": {
            "text/html": [
              "<span style=\"color:cyan\"> |-dense_block_1/units_0: 64</span>"
            ],
            "text/plain": [
              "<IPython.core.display.HTML object>"
            ]
          },
          "metadata": {
            "tags": []
          }
        },
        {
          "output_type": "display_data",
          "data": {
            "text/html": [
              "<span style=\"color:blue\"> |-dense_block_1/units_1: 512</span>"
            ],
            "text/plain": [
              "<IPython.core.display.HTML object>"
            ]
          },
          "metadata": {
            "tags": []
          }
        },
        {
          "output_type": "display_data",
          "data": {
            "text/html": [
              "<span style=\"color:cyan\"> |-dense_block_1/units_2: 64</span>"
            ],
            "text/plain": [
              "<IPython.core.display.HTML object>"
            ]
          },
          "metadata": {
            "tags": []
          }
        },
        {
          "output_type": "display_data",
          "data": {
            "text/html": [
              "<span style=\"color:blue\"> |-dense_block_1/use_batchnorm: True</span>"
            ],
            "text/plain": [
              "<IPython.core.display.HTML object>"
            ]
          },
          "metadata": {
            "tags": []
          }
        },
        {
          "output_type": "display_data",
          "data": {
            "text/html": [
              "<span style=\"color:cyan\"> |-optimizer: adam</span>"
            ],
            "text/plain": [
              "<IPython.core.display.HTML object>"
            ]
          },
          "metadata": {
            "tags": []
          }
        },
        {
          "output_type": "display_data",
          "data": {
            "text/html": [
              "<span style=\"color:cyan\"> |-Score: 0.15778999837736288</span>"
            ],
            "text/plain": [
              "<IPython.core.display.HTML object>"
            ]
          },
          "metadata": {
            "tags": []
          }
        },
        {
          "output_type": "display_data",
          "data": {
            "text/html": [
              "<span style=\"color:cyan\"> |-Best step: 0</span>"
            ],
            "text/plain": [
              "<IPython.core.display.HTML object>"
            ]
          },
          "metadata": {
            "tags": []
          }
        },
        {
          "output_type": "stream",
          "text": [
            "Epoch 1/50\n",
            "22/22 [==============================] - 2s 88ms/step - loss: 0.6700 - accuracy: 0.5991 - val_loss: 0.0000e+00 - val_accuracy: 0.0000e+00\n",
            "Epoch 2/50\n",
            "22/22 [==============================] - 1s 59ms/step - loss: 0.5807 - accuracy: 0.6302 - val_loss: 0.5280 - val_accuracy: 0.7024\n",
            "Epoch 3/50\n",
            "22/22 [==============================] - 1s 61ms/step - loss: 0.4124 - accuracy: 0.8713 - val_loss: 0.3696 - val_accuracy: 0.8929\n",
            "Epoch 4/50\n",
            "22/22 [==============================] - 1s 59ms/step - loss: 0.2392 - accuracy: 0.9763 - val_loss: 0.2519 - val_accuracy: 0.9167\n",
            "Epoch 5/50\n",
            "22/22 [==============================] - 1s 58ms/step - loss: 0.1215 - accuracy: 0.9926 - val_loss: 0.1913 - val_accuracy: 0.9405\n",
            "Epoch 6/50\n",
            "22/22 [==============================] - 1s 60ms/step - loss: 0.0598 - accuracy: 0.9970 - val_loss: 0.1671 - val_accuracy: 0.9405\n",
            "Epoch 7/50\n",
            "22/22 [==============================] - 1s 59ms/step - loss: 0.0322 - accuracy: 0.9985 - val_loss: 0.1607 - val_accuracy: 0.9405\n",
            "Epoch 8/50\n",
            "22/22 [==============================] - 1s 57ms/step - loss: 0.0194 - accuracy: 1.0000 - val_loss: 0.1608 - val_accuracy: 0.9405\n",
            "Epoch 9/50\n",
            "22/22 [==============================] - 1s 57ms/step - loss: 0.0129 - accuracy: 1.0000 - val_loss: 0.1621 - val_accuracy: 0.9345\n",
            "Epoch 10/50\n",
            "22/22 [==============================] - 1s 59ms/step - loss: 0.0092 - accuracy: 1.0000 - val_loss: 0.1645 - val_accuracy: 0.9345\n",
            "Epoch 11/50\n",
            "22/22 [==============================] - 1s 63ms/step - loss: 0.0069 - accuracy: 1.0000 - val_loss: 0.1670 - val_accuracy: 0.9345\n",
            "Epoch 12/50\n",
            "22/22 [==============================] - 1s 61ms/step - loss: 0.0053 - accuracy: 1.0000 - val_loss: 0.1696 - val_accuracy: 0.9345\n",
            "Epoch 13/50\n",
            "22/22 [==============================] - 1s 58ms/step - loss: 0.0043 - accuracy: 1.0000 - val_loss: 0.1722 - val_accuracy: 0.9345\n",
            "Epoch 14/50\n",
            "22/22 [==============================] - 1s 58ms/step - loss: 0.0035 - accuracy: 1.0000 - val_loss: 0.1746 - val_accuracy: 0.9345\n",
            "Epoch 15/50\n",
            "22/22 [==============================] - 1s 56ms/step - loss: 0.0029 - accuracy: 1.0000 - val_loss: 0.1770 - val_accuracy: 0.9345\n",
            "Epoch 16/50\n",
            "22/22 [==============================] - 1s 56ms/step - loss: 0.0025 - accuracy: 1.0000 - val_loss: 0.1791 - val_accuracy: 0.9345\n",
            "Epoch 17/50\n",
            "22/22 [==============================] - 1s 58ms/step - loss: 0.0021 - accuracy: 1.0000 - val_loss: 0.1811 - val_accuracy: 0.9345\n"
          ],
          "name": "stdout"
        },
        {
          "output_type": "display_data",
          "data": {
            "text/html": [
              "<span style=\"color:#4527A0\"><h1 style=\"font-size:18px\">Trial complete</h1></span>"
            ],
            "text/plain": [
              "<IPython.core.display.HTML object>"
            ]
          },
          "metadata": {
            "tags": []
          }
        },
        {
          "output_type": "display_data",
          "data": {
            "text/html": [
              "<span style=\"color:#4527A0\"><h1 style=\"font-size:18px\">Trial summary</h1></span>"
            ],
            "text/plain": [
              "<IPython.core.display.HTML object>"
            ]
          },
          "metadata": {
            "tags": []
          }
        },
        {
          "output_type": "display_data",
          "data": {
            "text/html": [
              "<span style=\"color:#7E57C2\"><h2 style=\"font-size:16px\">Hp values:</h2></span>"
            ],
            "text/plain": [
              "<IPython.core.display.HTML object>"
            ]
          },
          "metadata": {
            "tags": []
          }
        },
        {
          "output_type": "display_data",
          "data": {
            "text/html": [
              "<span style=\"color:cyan\"> |-dense_block_1/dropout_rate: 0.0</span>"
            ],
            "text/plain": [
              "<IPython.core.display.HTML object>"
            ]
          },
          "metadata": {
            "tags": []
          }
        },
        {
          "output_type": "display_data",
          "data": {
            "text/html": [
              "<span style=\"color:blue\"> |-dense_block_1/num_layers: 2</span>"
            ],
            "text/plain": [
              "<IPython.core.display.HTML object>"
            ]
          },
          "metadata": {
            "tags": []
          }
        },
        {
          "output_type": "display_data",
          "data": {
            "text/html": [
              "<span style=\"color:cyan\"> |-dense_block_1/units_0: 64</span>"
            ],
            "text/plain": [
              "<IPython.core.display.HTML object>"
            ]
          },
          "metadata": {
            "tags": []
          }
        },
        {
          "output_type": "display_data",
          "data": {
            "text/html": [
              "<span style=\"color:blue\"> |-dense_block_1/units_1: 32</span>"
            ],
            "text/plain": [
              "<IPython.core.display.HTML object>"
            ]
          },
          "metadata": {
            "tags": []
          }
        },
        {
          "output_type": "display_data",
          "data": {
            "text/html": [
              "<span style=\"color:cyan\"> |-dense_block_1/units_2: 128</span>"
            ],
            "text/plain": [
              "<IPython.core.display.HTML object>"
            ]
          },
          "metadata": {
            "tags": []
          }
        },
        {
          "output_type": "display_data",
          "data": {
            "text/html": [
              "<span style=\"color:blue\"> |-dense_block_1/use_batchnorm: False</span>"
            ],
            "text/plain": [
              "<IPython.core.display.HTML object>"
            ]
          },
          "metadata": {
            "tags": []
          }
        },
        {
          "output_type": "display_data",
          "data": {
            "text/html": [
              "<span style=\"color:cyan\"> |-optimizer: adam</span>"
            ],
            "text/plain": [
              "<IPython.core.display.HTML object>"
            ]
          },
          "metadata": {
            "tags": []
          }
        },
        {
          "output_type": "display_data",
          "data": {
            "text/html": [
              "<span style=\"color:cyan\"> |-Score: 0.16069405153393745</span>"
            ],
            "text/plain": [
              "<IPython.core.display.HTML object>"
            ]
          },
          "metadata": {
            "tags": []
          }
        },
        {
          "output_type": "display_data",
          "data": {
            "text/html": [
              "<span style=\"color:cyan\"> |-Best step: 0</span>"
            ],
            "text/plain": [
              "<IPython.core.display.HTML object>"
            ]
          },
          "metadata": {
            "tags": []
          }
        },
        {
          "output_type": "stream",
          "text": [
            "Epoch 1/50\n",
            "22/22 [==============================] - 2s 98ms/step - loss: 0.6452 - accuracy: 0.5932 - val_loss: 0.0000e+00 - val_accuracy: 0.0000e+00\n",
            "Epoch 2/50\n",
            "22/22 [==============================] - 1s 68ms/step - loss: 0.3702 - accuracy: 0.8284 - val_loss: 0.2889 - val_accuracy: 0.8869\n",
            "Epoch 3/50\n",
            "22/22 [==============================] - 1s 68ms/step - loss: 0.0703 - accuracy: 0.9896 - val_loss: 0.2649 - val_accuracy: 0.9107\n",
            "Epoch 4/50\n",
            "22/22 [==============================] - 2s 69ms/step - loss: 0.0089 - accuracy: 0.9985 - val_loss: 0.2006 - val_accuracy: 0.9286\n",
            "Epoch 5/50\n",
            "22/22 [==============================] - 1s 66ms/step - loss: 0.0012 - accuracy: 1.0000 - val_loss: 0.2985 - val_accuracy: 0.9226\n",
            "Epoch 6/50\n",
            "22/22 [==============================] - 1s 67ms/step - loss: 3.1891e-04 - accuracy: 1.0000 - val_loss: 0.2702 - val_accuracy: 0.9345\n",
            "Epoch 7/50\n",
            "22/22 [==============================] - 2s 69ms/step - loss: 1.9692e-04 - accuracy: 1.0000 - val_loss: 0.2601 - val_accuracy: 0.9345\n",
            "Epoch 8/50\n",
            "22/22 [==============================] - 1s 68ms/step - loss: 1.5546e-04 - accuracy: 1.0000 - val_loss: 0.2605 - val_accuracy: 0.9345\n",
            "Epoch 9/50\n",
            "22/22 [==============================] - 1s 67ms/step - loss: 1.2533e-04 - accuracy: 1.0000 - val_loss: 0.2622 - val_accuracy: 0.9345\n",
            "Epoch 10/50\n",
            "22/22 [==============================] - 1s 67ms/step - loss: 1.0239e-04 - accuracy: 1.0000 - val_loss: 0.2638 - val_accuracy: 0.9345\n",
            "Epoch 11/50\n",
            "22/22 [==============================] - 1s 66ms/step - loss: 8.4664e-05 - accuracy: 1.0000 - val_loss: 0.2654 - val_accuracy: 0.9345\n",
            "Epoch 12/50\n",
            "22/22 [==============================] - 1s 67ms/step - loss: 7.0780e-05 - accuracy: 1.0000 - val_loss: 0.2672 - val_accuracy: 0.9345\n",
            "Epoch 13/50\n",
            "22/22 [==============================] - 1s 65ms/step - loss: 5.9832e-05 - accuracy: 1.0000 - val_loss: 0.2691 - val_accuracy: 0.9345\n",
            "Epoch 14/50\n",
            "22/22 [==============================] - 1s 64ms/step - loss: 5.1175e-05 - accuracy: 1.0000 - val_loss: 0.2711 - val_accuracy: 0.9345\n"
          ],
          "name": "stdout"
        },
        {
          "output_type": "display_data",
          "data": {
            "text/html": [
              "<span style=\"color:#4527A0\"><h1 style=\"font-size:18px\">Trial complete</h1></span>"
            ],
            "text/plain": [
              "<IPython.core.display.HTML object>"
            ]
          },
          "metadata": {
            "tags": []
          }
        },
        {
          "output_type": "display_data",
          "data": {
            "text/html": [
              "<span style=\"color:#4527A0\"><h1 style=\"font-size:18px\">Trial summary</h1></span>"
            ],
            "text/plain": [
              "<IPython.core.display.HTML object>"
            ]
          },
          "metadata": {
            "tags": []
          }
        },
        {
          "output_type": "display_data",
          "data": {
            "text/html": [
              "<span style=\"color:#7E57C2\"><h2 style=\"font-size:16px\">Hp values:</h2></span>"
            ],
            "text/plain": [
              "<IPython.core.display.HTML object>"
            ]
          },
          "metadata": {
            "tags": []
          }
        },
        {
          "output_type": "display_data",
          "data": {
            "text/html": [
              "<span style=\"color:cyan\"> |-dense_block_1/dropout_rate: 0.0</span>"
            ],
            "text/plain": [
              "<IPython.core.display.HTML object>"
            ]
          },
          "metadata": {
            "tags": []
          }
        },
        {
          "output_type": "display_data",
          "data": {
            "text/html": [
              "<span style=\"color:blue\"> |-dense_block_1/num_layers: 3</span>"
            ],
            "text/plain": [
              "<IPython.core.display.HTML object>"
            ]
          },
          "metadata": {
            "tags": []
          }
        },
        {
          "output_type": "display_data",
          "data": {
            "text/html": [
              "<span style=\"color:cyan\"> |-dense_block_1/units_0: 32</span>"
            ],
            "text/plain": [
              "<IPython.core.display.HTML object>"
            ]
          },
          "metadata": {
            "tags": []
          }
        },
        {
          "output_type": "display_data",
          "data": {
            "text/html": [
              "<span style=\"color:blue\"> |-dense_block_1/units_1: 512</span>"
            ],
            "text/plain": [
              "<IPython.core.display.HTML object>"
            ]
          },
          "metadata": {
            "tags": []
          }
        },
        {
          "output_type": "display_data",
          "data": {
            "text/html": [
              "<span style=\"color:cyan\"> |-dense_block_1/units_2: 1024</span>"
            ],
            "text/plain": [
              "<IPython.core.display.HTML object>"
            ]
          },
          "metadata": {
            "tags": []
          }
        },
        {
          "output_type": "display_data",
          "data": {
            "text/html": [
              "<span style=\"color:blue\"> |-dense_block_1/use_batchnorm: False</span>"
            ],
            "text/plain": [
              "<IPython.core.display.HTML object>"
            ]
          },
          "metadata": {
            "tags": []
          }
        },
        {
          "output_type": "display_data",
          "data": {
            "text/html": [
              "<span style=\"color:cyan\"> |-optimizer: adam</span>"
            ],
            "text/plain": [
              "<IPython.core.display.HTML object>"
            ]
          },
          "metadata": {
            "tags": []
          }
        },
        {
          "output_type": "display_data",
          "data": {
            "text/html": [
              "<span style=\"color:cyan\"> |-Score: 0.20062459136048952</span>"
            ],
            "text/plain": [
              "<IPython.core.display.HTML object>"
            ]
          },
          "metadata": {
            "tags": []
          }
        },
        {
          "output_type": "display_data",
          "data": {
            "text/html": [
              "<span style=\"color:cyan\"> |-Best step: 0</span>"
            ],
            "text/plain": [
              "<IPython.core.display.HTML object>"
            ]
          },
          "metadata": {
            "tags": []
          }
        },
        {
          "output_type": "stream",
          "text": [
            "Epoch 1/50\n",
            "22/22 [==============================] - 2s 95ms/step - loss: 0.6394 - accuracy: 0.6021 - val_loss: 0.0000e+00 - val_accuracy: 0.0000e+00\n",
            "Epoch 2/50\n",
            "22/22 [==============================] - 1s 66ms/step - loss: 0.4775 - accuracy: 0.7885 - val_loss: 0.4115 - val_accuracy: 0.8750\n",
            "Epoch 3/50\n",
            "22/22 [==============================] - 2s 70ms/step - loss: 0.2812 - accuracy: 0.9645 - val_loss: 0.2531 - val_accuracy: 0.9405\n",
            "Epoch 4/50\n",
            "22/22 [==============================] - 1s 65ms/step - loss: 0.1428 - accuracy: 0.9896 - val_loss: 0.1805 - val_accuracy: 0.9524\n",
            "Epoch 5/50\n",
            "22/22 [==============================] - 2s 70ms/step - loss: 0.0774 - accuracy: 0.9941 - val_loss: 0.1540 - val_accuracy: 0.9524\n",
            "Epoch 6/50\n",
            "22/22 [==============================] - 1s 67ms/step - loss: 0.0463 - accuracy: 0.9970 - val_loss: 0.1444 - val_accuracy: 0.9464\n",
            "Epoch 7/50\n",
            "22/22 [==============================] - 1s 67ms/step - loss: 0.0312 - accuracy: 0.9985 - val_loss: 0.1410 - val_accuracy: 0.9464\n",
            "Epoch 8/50\n",
            "22/22 [==============================] - 2s 69ms/step - loss: 0.0220 - accuracy: 0.9985 - val_loss: 0.1405 - val_accuracy: 0.9524\n",
            "Epoch 9/50\n",
            "22/22 [==============================] - 1s 68ms/step - loss: 0.0161 - accuracy: 0.9985 - val_loss: 0.1399 - val_accuracy: 0.9583\n",
            "Epoch 10/50\n",
            "22/22 [==============================] - 1s 67ms/step - loss: 0.0125 - accuracy: 1.0000 - val_loss: 0.1410 - val_accuracy: 0.9524\n",
            "Epoch 11/50\n",
            "22/22 [==============================] - 1s 68ms/step - loss: 0.0100 - accuracy: 1.0000 - val_loss: 0.1425 - val_accuracy: 0.9524\n",
            "Epoch 12/50\n",
            "22/22 [==============================] - 1s 65ms/step - loss: 0.0082 - accuracy: 1.0000 - val_loss: 0.1437 - val_accuracy: 0.9524\n",
            "Epoch 13/50\n",
            "22/22 [==============================] - 1s 65ms/step - loss: 0.0065 - accuracy: 1.0000 - val_loss: 0.1455 - val_accuracy: 0.9524\n",
            "Epoch 14/50\n",
            "22/22 [==============================] - 1s 64ms/step - loss: 0.0056 - accuracy: 1.0000 - val_loss: 0.1473 - val_accuracy: 0.9524\n",
            "Epoch 15/50\n",
            "22/22 [==============================] - 1s 67ms/step - loss: 0.0048 - accuracy: 1.0000 - val_loss: 0.1488 - val_accuracy: 0.9524\n",
            "Epoch 16/50\n",
            "22/22 [==============================] - 1s 63ms/step - loss: 0.0043 - accuracy: 1.0000 - val_loss: 0.1498 - val_accuracy: 0.9524\n",
            "Epoch 17/50\n",
            "22/22 [==============================] - 1s 66ms/step - loss: 0.0038 - accuracy: 1.0000 - val_loss: 0.1513 - val_accuracy: 0.9524\n",
            "Epoch 18/50\n",
            "22/22 [==============================] - 1s 64ms/step - loss: 0.0032 - accuracy: 1.0000 - val_loss: 0.1535 - val_accuracy: 0.9524\n",
            "Epoch 19/50\n",
            "22/22 [==============================] - 1s 66ms/step - loss: 0.0029 - accuracy: 1.0000 - val_loss: 0.1553 - val_accuracy: 0.9524\n"
          ],
          "name": "stdout"
        },
        {
          "output_type": "display_data",
          "data": {
            "text/html": [
              "<span style=\"color:#4527A0\"><h1 style=\"font-size:18px\">Trial complete</h1></span>"
            ],
            "text/plain": [
              "<IPython.core.display.HTML object>"
            ]
          },
          "metadata": {
            "tags": []
          }
        },
        {
          "output_type": "display_data",
          "data": {
            "text/html": [
              "<span style=\"color:#4527A0\"><h1 style=\"font-size:18px\">Trial summary</h1></span>"
            ],
            "text/plain": [
              "<IPython.core.display.HTML object>"
            ]
          },
          "metadata": {
            "tags": []
          }
        },
        {
          "output_type": "display_data",
          "data": {
            "text/html": [
              "<span style=\"color:#7E57C2\"><h2 style=\"font-size:16px\">Hp values:</h2></span>"
            ],
            "text/plain": [
              "<IPython.core.display.HTML object>"
            ]
          },
          "metadata": {
            "tags": []
          }
        },
        {
          "output_type": "display_data",
          "data": {
            "text/html": [
              "<span style=\"color:cyan\"> |-dense_block_1/dropout_rate: 0.25</span>"
            ],
            "text/plain": [
              "<IPython.core.display.HTML object>"
            ]
          },
          "metadata": {
            "tags": []
          }
        },
        {
          "output_type": "display_data",
          "data": {
            "text/html": [
              "<span style=\"color:blue\"> |-dense_block_1/num_layers: 1</span>"
            ],
            "text/plain": [
              "<IPython.core.display.HTML object>"
            ]
          },
          "metadata": {
            "tags": []
          }
        },
        {
          "output_type": "display_data",
          "data": {
            "text/html": [
              "<span style=\"color:cyan\"> |-dense_block_1/units_0: 512</span>"
            ],
            "text/plain": [
              "<IPython.core.display.HTML object>"
            ]
          },
          "metadata": {
            "tags": []
          }
        },
        {
          "output_type": "display_data",
          "data": {
            "text/html": [
              "<span style=\"color:blue\"> |-dense_block_1/units_1: 64</span>"
            ],
            "text/plain": [
              "<IPython.core.display.HTML object>"
            ]
          },
          "metadata": {
            "tags": []
          }
        },
        {
          "output_type": "display_data",
          "data": {
            "text/html": [
              "<span style=\"color:cyan\"> |-dense_block_1/units_2: 16</span>"
            ],
            "text/plain": [
              "<IPython.core.display.HTML object>"
            ]
          },
          "metadata": {
            "tags": []
          }
        },
        {
          "output_type": "display_data",
          "data": {
            "text/html": [
              "<span style=\"color:blue\"> |-dense_block_1/use_batchnorm: False</span>"
            ],
            "text/plain": [
              "<IPython.core.display.HTML object>"
            ]
          },
          "metadata": {
            "tags": []
          }
        },
        {
          "output_type": "display_data",
          "data": {
            "text/html": [
              "<span style=\"color:cyan\"> |-optimizer: adam</span>"
            ],
            "text/plain": [
              "<IPython.core.display.HTML object>"
            ]
          },
          "metadata": {
            "tags": []
          }
        },
        {
          "output_type": "display_data",
          "data": {
            "text/html": [
              "<span style=\"color:cyan\"> |-Score: 0.1398796457797289</span>"
            ],
            "text/plain": [
              "<IPython.core.display.HTML object>"
            ]
          },
          "metadata": {
            "tags": []
          }
        },
        {
          "output_type": "display_data",
          "data": {
            "text/html": [
              "<span style=\"color:cyan\"> |-Best step: 0</span>"
            ],
            "text/plain": [
              "<IPython.core.display.HTML object>"
            ]
          },
          "metadata": {
            "tags": []
          }
        },
        {
          "output_type": "stream",
          "text": [
            "Epoch 1/50\n",
            "22/22 [==============================] - 3s 122ms/step - loss: 0.5659 - accuracy: 0.6967 - val_loss: 0.0000e+00 - val_accuracy: 0.0000e+00\n",
            "Epoch 2/50\n",
            "22/22 [==============================] - 1s 62ms/step - loss: 0.1430 - accuracy: 0.9941 - val_loss: 0.6540 - val_accuracy: 0.6369\n",
            "Epoch 3/50\n",
            "22/22 [==============================] - 1s 61ms/step - loss: 0.0792 - accuracy: 1.0000 - val_loss: 0.6401 - val_accuracy: 0.6369\n",
            "Epoch 4/50\n",
            "22/22 [==============================] - 1s 57ms/step - loss: 0.0538 - accuracy: 1.0000 - val_loss: 0.6274 - val_accuracy: 0.6369\n",
            "Epoch 5/50\n",
            "22/22 [==============================] - 1s 59ms/step - loss: 0.0402 - accuracy: 1.0000 - val_loss: 0.6138 - val_accuracy: 0.6369\n",
            "Epoch 6/50\n",
            "22/22 [==============================] - 1s 58ms/step - loss: 0.0318 - accuracy: 1.0000 - val_loss: 0.6002 - val_accuracy: 0.6369\n",
            "Epoch 7/50\n",
            "22/22 [==============================] - 1s 62ms/step - loss: 0.0259 - accuracy: 1.0000 - val_loss: 0.5856 - val_accuracy: 0.6369\n",
            "Epoch 8/50\n",
            "22/22 [==============================] - 1s 56ms/step - loss: 0.0216 - accuracy: 1.0000 - val_loss: 0.5705 - val_accuracy: 0.6488\n",
            "Epoch 9/50\n",
            "22/22 [==============================] - 1s 61ms/step - loss: 0.0183 - accuracy: 1.0000 - val_loss: 0.5543 - val_accuracy: 0.6667\n",
            "Epoch 10/50\n",
            "22/22 [==============================] - 1s 62ms/step - loss: 0.0157 - accuracy: 1.0000 - val_loss: 0.5372 - val_accuracy: 0.7083\n",
            "Epoch 11/50\n",
            "22/22 [==============================] - 1s 60ms/step - loss: 0.0137 - accuracy: 1.0000 - val_loss: 0.5187 - val_accuracy: 0.7381\n",
            "Epoch 12/50\n",
            "22/22 [==============================] - 1s 59ms/step - loss: 0.0120 - accuracy: 1.0000 - val_loss: 0.4989 - val_accuracy: 0.7738\n",
            "Epoch 13/50\n",
            "22/22 [==============================] - 1s 65ms/step - loss: 0.0106 - accuracy: 1.0000 - val_loss: 0.4777 - val_accuracy: 0.7857\n",
            "Epoch 14/50\n",
            "22/22 [==============================] - 1s 62ms/step - loss: 0.0094 - accuracy: 1.0000 - val_loss: 0.4551 - val_accuracy: 0.7976\n",
            "Epoch 15/50\n",
            "22/22 [==============================] - 1s 62ms/step - loss: 0.0084 - accuracy: 1.0000 - val_loss: 0.4308 - val_accuracy: 0.8214\n",
            "Epoch 16/50\n",
            "22/22 [==============================] - 2s 69ms/step - loss: 0.0076 - accuracy: 1.0000 - val_loss: 0.4057 - val_accuracy: 0.8452\n",
            "Epoch 17/50\n",
            "22/22 [==============================] - 1s 65ms/step - loss: 0.0069 - accuracy: 1.0000 - val_loss: 0.3800 - val_accuracy: 0.8690\n",
            "Epoch 18/50\n",
            "22/22 [==============================] - 2s 71ms/step - loss: 0.0063 - accuracy: 1.0000 - val_loss: 0.3544 - val_accuracy: 0.8810\n",
            "Epoch 19/50\n",
            "22/22 [==============================] - 1s 63ms/step - loss: 0.0057 - accuracy: 1.0000 - val_loss: 0.3298 - val_accuracy: 0.8690\n",
            "Epoch 20/50\n",
            "22/22 [==============================] - 1s 58ms/step - loss: 0.0052 - accuracy: 1.0000 - val_loss: 0.3060 - val_accuracy: 0.9048\n",
            "Epoch 21/50\n",
            "22/22 [==============================] - 1s 61ms/step - loss: 0.0048 - accuracy: 1.0000 - val_loss: 0.2831 - val_accuracy: 0.9107\n",
            "Epoch 22/50\n",
            "22/22 [==============================] - 1s 58ms/step - loss: 0.0044 - accuracy: 1.0000 - val_loss: 0.2618 - val_accuracy: 0.9286\n",
            "Epoch 23/50\n",
            "22/22 [==============================] - 1s 59ms/step - loss: 0.0041 - accuracy: 1.0000 - val_loss: 0.2428 - val_accuracy: 0.9286\n",
            "Epoch 24/50\n",
            "22/22 [==============================] - 1s 59ms/step - loss: 0.0038 - accuracy: 1.0000 - val_loss: 0.2268 - val_accuracy: 0.9345\n",
            "Epoch 25/50\n",
            "22/22 [==============================] - 1s 57ms/step - loss: 0.0035 - accuracy: 1.0000 - val_loss: 0.2139 - val_accuracy: 0.9405\n",
            "Epoch 26/50\n",
            "22/22 [==============================] - 1s 57ms/step - loss: 0.0033 - accuracy: 1.0000 - val_loss: 0.2039 - val_accuracy: 0.9405\n",
            "Epoch 27/50\n",
            "22/22 [==============================] - 1s 59ms/step - loss: 0.0031 - accuracy: 1.0000 - val_loss: 0.1962 - val_accuracy: 0.9405\n",
            "Epoch 28/50\n",
            "22/22 [==============================] - 1s 59ms/step - loss: 0.0029 - accuracy: 1.0000 - val_loss: 0.1908 - val_accuracy: 0.9405\n",
            "Epoch 29/50\n",
            "22/22 [==============================] - 1s 60ms/step - loss: 0.0027 - accuracy: 1.0000 - val_loss: 0.1870 - val_accuracy: 0.9405\n",
            "Epoch 30/50\n",
            "22/22 [==============================] - 1s 59ms/step - loss: 0.0025 - accuracy: 1.0000 - val_loss: 0.1845 - val_accuracy: 0.9405\n",
            "Epoch 31/50\n",
            "22/22 [==============================] - 1s 59ms/step - loss: 0.0024 - accuracy: 1.0000 - val_loss: 0.1829 - val_accuracy: 0.9405\n",
            "Epoch 32/50\n",
            "22/22 [==============================] - 1s 59ms/step - loss: 0.0023 - accuracy: 1.0000 - val_loss: 0.1820 - val_accuracy: 0.9405\n",
            "Epoch 33/50\n",
            "22/22 [==============================] - 1s 57ms/step - loss: 0.0021 - accuracy: 1.0000 - val_loss: 0.1816 - val_accuracy: 0.9345\n",
            "Epoch 34/50\n",
            "22/22 [==============================] - 1s 58ms/step - loss: 0.0020 - accuracy: 1.0000 - val_loss: 0.1816 - val_accuracy: 0.9345\n",
            "Epoch 35/50\n",
            "22/22 [==============================] - 1s 59ms/step - loss: 0.0019 - accuracy: 1.0000 - val_loss: 0.1820 - val_accuracy: 0.9345\n",
            "Epoch 36/50\n",
            "22/22 [==============================] - 1s 60ms/step - loss: 0.0018 - accuracy: 1.0000 - val_loss: 0.1824 - val_accuracy: 0.9345\n",
            "Epoch 37/50\n",
            "22/22 [==============================] - 1s 59ms/step - loss: 0.0017 - accuracy: 1.0000 - val_loss: 0.1829 - val_accuracy: 0.9345\n",
            "Epoch 38/50\n",
            "22/22 [==============================] - 1s 57ms/step - loss: 0.0016 - accuracy: 1.0000 - val_loss: 0.1835 - val_accuracy: 0.9345\n",
            "Epoch 39/50\n",
            "22/22 [==============================] - 1s 57ms/step - loss: 0.0016 - accuracy: 1.0000 - val_loss: 0.1841 - val_accuracy: 0.9345\n",
            "Epoch 40/50\n",
            "22/22 [==============================] - 1s 60ms/step - loss: 0.0015 - accuracy: 1.0000 - val_loss: 0.1846 - val_accuracy: 0.9345\n",
            "Epoch 41/50\n",
            "22/22 [==============================] - 1s 59ms/step - loss: 0.0014 - accuracy: 1.0000 - val_loss: 0.1852 - val_accuracy: 0.9345\n",
            "Epoch 42/50\n",
            "22/22 [==============================] - 1s 58ms/step - loss: 0.0013 - accuracy: 1.0000 - val_loss: 0.1857 - val_accuracy: 0.9345\n",
            "Epoch 43/50\n",
            "22/22 [==============================] - 1s 55ms/step - loss: 0.0013 - accuracy: 1.0000 - val_loss: 0.1862 - val_accuracy: 0.9345\n",
            "Epoch 44/50\n",
            "22/22 [==============================] - 1s 57ms/step - loss: 0.0012 - accuracy: 1.0000 - val_loss: 0.1866 - val_accuracy: 0.9345\n"
          ],
          "name": "stdout"
        },
        {
          "output_type": "display_data",
          "data": {
            "text/html": [
              "<span style=\"color:#4527A0\"><h1 style=\"font-size:18px\">Trial complete</h1></span>"
            ],
            "text/plain": [
              "<IPython.core.display.HTML object>"
            ]
          },
          "metadata": {
            "tags": []
          }
        },
        {
          "output_type": "display_data",
          "data": {
            "text/html": [
              "<span style=\"color:#4527A0\"><h1 style=\"font-size:18px\">Trial summary</h1></span>"
            ],
            "text/plain": [
              "<IPython.core.display.HTML object>"
            ]
          },
          "metadata": {
            "tags": []
          }
        },
        {
          "output_type": "display_data",
          "data": {
            "text/html": [
              "<span style=\"color:#7E57C2\"><h2 style=\"font-size:16px\">Hp values:</h2></span>"
            ],
            "text/plain": [
              "<IPython.core.display.HTML object>"
            ]
          },
          "metadata": {
            "tags": []
          }
        },
        {
          "output_type": "display_data",
          "data": {
            "text/html": [
              "<span style=\"color:cyan\"> |-dense_block_1/dropout_rate: 0.0</span>"
            ],
            "text/plain": [
              "<IPython.core.display.HTML object>"
            ]
          },
          "metadata": {
            "tags": []
          }
        },
        {
          "output_type": "display_data",
          "data": {
            "text/html": [
              "<span style=\"color:blue\"> |-dense_block_1/num_layers: 2</span>"
            ],
            "text/plain": [
              "<IPython.core.display.HTML object>"
            ]
          },
          "metadata": {
            "tags": []
          }
        },
        {
          "output_type": "display_data",
          "data": {
            "text/html": [
              "<span style=\"color:cyan\"> |-dense_block_1/units_0: 128</span>"
            ],
            "text/plain": [
              "<IPython.core.display.HTML object>"
            ]
          },
          "metadata": {
            "tags": []
          }
        },
        {
          "output_type": "display_data",
          "data": {
            "text/html": [
              "<span style=\"color:blue\"> |-dense_block_1/units_1: 32</span>"
            ],
            "text/plain": [
              "<IPython.core.display.HTML object>"
            ]
          },
          "metadata": {
            "tags": []
          }
        },
        {
          "output_type": "display_data",
          "data": {
            "text/html": [
              "<span style=\"color:cyan\"> |-dense_block_1/units_2: 1024</span>"
            ],
            "text/plain": [
              "<IPython.core.display.HTML object>"
            ]
          },
          "metadata": {
            "tags": []
          }
        },
        {
          "output_type": "display_data",
          "data": {
            "text/html": [
              "<span style=\"color:blue\"> |-dense_block_1/use_batchnorm: True</span>"
            ],
            "text/plain": [
              "<IPython.core.display.HTML object>"
            ]
          },
          "metadata": {
            "tags": []
          }
        },
        {
          "output_type": "display_data",
          "data": {
            "text/html": [
              "<span style=\"color:cyan\"> |-optimizer: adam</span>"
            ],
            "text/plain": [
              "<IPython.core.display.HTML object>"
            ]
          },
          "metadata": {
            "tags": []
          }
        },
        {
          "output_type": "display_data",
          "data": {
            "text/html": [
              "<span style=\"color:cyan\"> |-Score: 0.1816391566147407</span>"
            ],
            "text/plain": [
              "<IPython.core.display.HTML object>"
            ]
          },
          "metadata": {
            "tags": []
          }
        },
        {
          "output_type": "display_data",
          "data": {
            "text/html": [
              "<span style=\"color:cyan\"> |-Best step: 0</span>"
            ],
            "text/plain": [
              "<IPython.core.display.HTML object>"
            ]
          },
          "metadata": {
            "tags": []
          }
        },
        {
          "output_type": "stream",
          "text": [
            "Epoch 1/50\n",
            "22/22 [==============================] - 2s 91ms/step - loss: 0.6829 - accuracy: 0.5917 - val_loss: 0.0000e+00 - val_accuracy: 0.0000e+00\n",
            "Epoch 2/50\n",
            "22/22 [==============================] - 1s 55ms/step - loss: 0.6583 - accuracy: 0.6036 - val_loss: 0.6400 - val_accuracy: 0.6071\n",
            "Epoch 3/50\n",
            "22/22 [==============================] - 1s 58ms/step - loss: 0.6058 - accuracy: 0.6036 - val_loss: 0.5727 - val_accuracy: 0.6071\n",
            "Epoch 4/50\n",
            "22/22 [==============================] - 1s 55ms/step - loss: 0.5106 - accuracy: 0.6109 - val_loss: 0.4688 - val_accuracy: 0.6607\n",
            "Epoch 5/50\n",
            "22/22 [==============================] - 1s 52ms/step - loss: 0.3942 - accuracy: 0.7929 - val_loss: 0.3750 - val_accuracy: 0.8214\n",
            "Epoch 6/50\n",
            "22/22 [==============================] - 1s 59ms/step - loss: 0.2963 - accuracy: 0.9527 - val_loss: 0.2974 - val_accuracy: 0.8988\n",
            "Epoch 7/50\n",
            "22/22 [==============================] - 1s 57ms/step - loss: 0.2110 - accuracy: 0.9778 - val_loss: 0.2469 - val_accuracy: 0.9107\n",
            "Epoch 8/50\n",
            "22/22 [==============================] - 1s 55ms/step - loss: 0.1583 - accuracy: 0.9852 - val_loss: 0.2060 - val_accuracy: 0.9286\n",
            "Epoch 9/50\n",
            "22/22 [==============================] - 1s 55ms/step - loss: 0.1146 - accuracy: 0.9882 - val_loss: 0.1974 - val_accuracy: 0.9167\n",
            "Epoch 10/50\n",
            "22/22 [==============================] - 1s 57ms/step - loss: 0.0829 - accuracy: 0.9926 - val_loss: 0.1787 - val_accuracy: 0.9286\n",
            "Epoch 11/50\n",
            "22/22 [==============================] - 1s 56ms/step - loss: 0.0662 - accuracy: 0.9941 - val_loss: 0.1798 - val_accuracy: 0.9286\n",
            "Epoch 12/50\n",
            "22/22 [==============================] - 1s 57ms/step - loss: 0.0503 - accuracy: 0.9926 - val_loss: 0.1875 - val_accuracy: 0.9226\n",
            "Epoch 13/50\n",
            "22/22 [==============================] - 1s 52ms/step - loss: 0.0428 - accuracy: 0.9941 - val_loss: 0.1882 - val_accuracy: 0.9286\n",
            "Epoch 14/50\n",
            "22/22 [==============================] - 1s 55ms/step - loss: 0.0328 - accuracy: 0.9956 - val_loss: 0.2006 - val_accuracy: 0.9226\n",
            "Epoch 15/50\n",
            "22/22 [==============================] - 1s 54ms/step - loss: 0.0311 - accuracy: 0.9956 - val_loss: 0.2162 - val_accuracy: 0.9167\n",
            "Epoch 16/50\n",
            "22/22 [==============================] - 1s 52ms/step - loss: 0.0251 - accuracy: 0.9941 - val_loss: 0.2409 - val_accuracy: 0.9107\n",
            "Epoch 17/50\n",
            "22/22 [==============================] - 1s 53ms/step - loss: 0.0200 - accuracy: 0.9970 - val_loss: 0.2425 - val_accuracy: 0.9107\n",
            "Epoch 18/50\n",
            "22/22 [==============================] - 1s 53ms/step - loss: 0.0191 - accuracy: 0.9970 - val_loss: 0.2697 - val_accuracy: 0.9048\n",
            "Epoch 19/50\n",
            "22/22 [==============================] - 1s 55ms/step - loss: 0.0168 - accuracy: 0.9985 - val_loss: 0.2651 - val_accuracy: 0.9107\n",
            "Epoch 20/50\n",
            "22/22 [==============================] - 1s 57ms/step - loss: 0.0167 - accuracy: 0.9970 - val_loss: 0.2738 - val_accuracy: 0.9107\n"
          ],
          "name": "stdout"
        },
        {
          "output_type": "display_data",
          "data": {
            "text/html": [
              "<span style=\"color:#4527A0\"><h1 style=\"font-size:18px\">Trial complete</h1></span>"
            ],
            "text/plain": [
              "<IPython.core.display.HTML object>"
            ]
          },
          "metadata": {
            "tags": []
          }
        },
        {
          "output_type": "display_data",
          "data": {
            "text/html": [
              "<span style=\"color:#4527A0\"><h1 style=\"font-size:18px\">Trial summary</h1></span>"
            ],
            "text/plain": [
              "<IPython.core.display.HTML object>"
            ]
          },
          "metadata": {
            "tags": []
          }
        },
        {
          "output_type": "display_data",
          "data": {
            "text/html": [
              "<span style=\"color:#7E57C2\"><h2 style=\"font-size:16px\">Hp values:</h2></span>"
            ],
            "text/plain": [
              "<IPython.core.display.HTML object>"
            ]
          },
          "metadata": {
            "tags": []
          }
        },
        {
          "output_type": "display_data",
          "data": {
            "text/html": [
              "<span style=\"color:cyan\"> |-dense_block_1/dropout_rate: 0.5</span>"
            ],
            "text/plain": [
              "<IPython.core.display.HTML object>"
            ]
          },
          "metadata": {
            "tags": []
          }
        },
        {
          "output_type": "display_data",
          "data": {
            "text/html": [
              "<span style=\"color:blue\"> |-dense_block_1/num_layers: 2</span>"
            ],
            "text/plain": [
              "<IPython.core.display.HTML object>"
            ]
          },
          "metadata": {
            "tags": []
          }
        },
        {
          "output_type": "display_data",
          "data": {
            "text/html": [
              "<span style=\"color:cyan\"> |-dense_block_1/units_0: 16</span>"
            ],
            "text/plain": [
              "<IPython.core.display.HTML object>"
            ]
          },
          "metadata": {
            "tags": []
          }
        },
        {
          "output_type": "display_data",
          "data": {
            "text/html": [
              "<span style=\"color:blue\"> |-dense_block_1/units_1: 256</span>"
            ],
            "text/plain": [
              "<IPython.core.display.HTML object>"
            ]
          },
          "metadata": {
            "tags": []
          }
        },
        {
          "output_type": "display_data",
          "data": {
            "text/html": [
              "<span style=\"color:cyan\"> |-dense_block_1/units_2: 32</span>"
            ],
            "text/plain": [
              "<IPython.core.display.HTML object>"
            ]
          },
          "metadata": {
            "tags": []
          }
        },
        {
          "output_type": "display_data",
          "data": {
            "text/html": [
              "<span style=\"color:blue\"> |-dense_block_1/use_batchnorm: False</span>"
            ],
            "text/plain": [
              "<IPython.core.display.HTML object>"
            ]
          },
          "metadata": {
            "tags": []
          }
        },
        {
          "output_type": "display_data",
          "data": {
            "text/html": [
              "<span style=\"color:cyan\"> |-optimizer: adam</span>"
            ],
            "text/plain": [
              "<IPython.core.display.HTML object>"
            ]
          },
          "metadata": {
            "tags": []
          }
        },
        {
          "output_type": "display_data",
          "data": {
            "text/html": [
              "<span style=\"color:cyan\"> |-Score: 0.1787307026485602</span>"
            ],
            "text/plain": [
              "<IPython.core.display.HTML object>"
            ]
          },
          "metadata": {
            "tags": []
          }
        },
        {
          "output_type": "display_data",
          "data": {
            "text/html": [
              "<span style=\"color:cyan\"> |-Best step: 0</span>"
            ],
            "text/plain": [
              "<IPython.core.display.HTML object>"
            ]
          },
          "metadata": {
            "tags": []
          }
        },
        {
          "output_type": "stream",
          "text": [
            "Epoch 1/50\n",
            "22/22 [==============================] - 2s 87ms/step - loss: 0.6641 - accuracy: 0.6050 - val_loss: 0.0000e+00 - val_accuracy: 0.0000e+00\n",
            "Epoch 2/50\n",
            "22/22 [==============================] - 1s 53ms/step - loss: 0.5562 - accuracy: 0.6509 - val_loss: 0.4903 - val_accuracy: 0.7321\n",
            "Epoch 3/50\n",
            "22/22 [==============================] - 1s 55ms/step - loss: 0.3426 - accuracy: 0.9349 - val_loss: 0.2849 - val_accuracy: 0.9167\n",
            "Epoch 4/50\n",
            "22/22 [==============================] - 1s 57ms/step - loss: 0.1476 - accuracy: 0.9896 - val_loss: 0.1754 - val_accuracy: 0.9405\n",
            "Epoch 5/50\n",
            "22/22 [==============================] - 1s 54ms/step - loss: 0.0560 - accuracy: 0.9956 - val_loss: 0.1490 - val_accuracy: 0.9464\n",
            "Epoch 6/50\n",
            "22/22 [==============================] - 1s 57ms/step - loss: 0.0241 - accuracy: 0.9970 - val_loss: 0.1487 - val_accuracy: 0.9524\n",
            "Epoch 7/50\n",
            "22/22 [==============================] - 1s 57ms/step - loss: 0.0127 - accuracy: 1.0000 - val_loss: 0.1524 - val_accuracy: 0.9524\n",
            "Epoch 8/50\n",
            "22/22 [==============================] - 1s 55ms/step - loss: 0.0078 - accuracy: 1.0000 - val_loss: 0.1569 - val_accuracy: 0.9405\n",
            "Epoch 9/50\n",
            "22/22 [==============================] - 1s 55ms/step - loss: 0.0053 - accuracy: 1.0000 - val_loss: 0.1612 - val_accuracy: 0.9405\n",
            "Epoch 10/50\n",
            "22/22 [==============================] - 1s 54ms/step - loss: 0.0039 - accuracy: 1.0000 - val_loss: 0.1652 - val_accuracy: 0.9405\n",
            "Epoch 11/50\n",
            "22/22 [==============================] - 1s 55ms/step - loss: 0.0030 - accuracy: 1.0000 - val_loss: 0.1687 - val_accuracy: 0.9405\n",
            "Epoch 12/50\n",
            "22/22 [==============================] - 1s 54ms/step - loss: 0.0023 - accuracy: 1.0000 - val_loss: 0.1720 - val_accuracy: 0.9405\n",
            "Epoch 13/50\n",
            "22/22 [==============================] - 1s 56ms/step - loss: 0.0019 - accuracy: 1.0000 - val_loss: 0.1752 - val_accuracy: 0.9405\n",
            "Epoch 14/50\n",
            "22/22 [==============================] - 1s 56ms/step - loss: 0.0016 - accuracy: 1.0000 - val_loss: 0.1782 - val_accuracy: 0.9405\n",
            "Epoch 15/50\n",
            "22/22 [==============================] - 1s 59ms/step - loss: 0.0013 - accuracy: 1.0000 - val_loss: 0.1810 - val_accuracy: 0.9405\n",
            "Epoch 16/50\n",
            "22/22 [==============================] - 1s 54ms/step - loss: 0.0011 - accuracy: 1.0000 - val_loss: 0.1837 - val_accuracy: 0.9405\n"
          ],
          "name": "stdout"
        },
        {
          "output_type": "display_data",
          "data": {
            "text/html": [
              "<span style=\"color:#4527A0\"><h1 style=\"font-size:18px\">Trial complete</h1></span>"
            ],
            "text/plain": [
              "<IPython.core.display.HTML object>"
            ]
          },
          "metadata": {
            "tags": []
          }
        },
        {
          "output_type": "display_data",
          "data": {
            "text/html": [
              "<span style=\"color:#4527A0\"><h1 style=\"font-size:18px\">Trial summary</h1></span>"
            ],
            "text/plain": [
              "<IPython.core.display.HTML object>"
            ]
          },
          "metadata": {
            "tags": []
          }
        },
        {
          "output_type": "display_data",
          "data": {
            "text/html": [
              "<span style=\"color:#7E57C2\"><h2 style=\"font-size:16px\">Hp values:</h2></span>"
            ],
            "text/plain": [
              "<IPython.core.display.HTML object>"
            ]
          },
          "metadata": {
            "tags": []
          }
        },
        {
          "output_type": "display_data",
          "data": {
            "text/html": [
              "<span style=\"color:cyan\"> |-dense_block_1/dropout_rate: 0.0</span>"
            ],
            "text/plain": [
              "<IPython.core.display.HTML object>"
            ]
          },
          "metadata": {
            "tags": []
          }
        },
        {
          "output_type": "display_data",
          "data": {
            "text/html": [
              "<span style=\"color:blue\"> |-dense_block_1/num_layers: 2</span>"
            ],
            "text/plain": [
              "<IPython.core.display.HTML object>"
            ]
          },
          "metadata": {
            "tags": []
          }
        },
        {
          "output_type": "display_data",
          "data": {
            "text/html": [
              "<span style=\"color:cyan\"> |-dense_block_1/units_0: 64</span>"
            ],
            "text/plain": [
              "<IPython.core.display.HTML object>"
            ]
          },
          "metadata": {
            "tags": []
          }
        },
        {
          "output_type": "display_data",
          "data": {
            "text/html": [
              "<span style=\"color:blue\"> |-dense_block_1/units_1: 64</span>"
            ],
            "text/plain": [
              "<IPython.core.display.HTML object>"
            ]
          },
          "metadata": {
            "tags": []
          }
        },
        {
          "output_type": "display_data",
          "data": {
            "text/html": [
              "<span style=\"color:cyan\"> |-dense_block_1/units_2: 16</span>"
            ],
            "text/plain": [
              "<IPython.core.display.HTML object>"
            ]
          },
          "metadata": {
            "tags": []
          }
        },
        {
          "output_type": "display_data",
          "data": {
            "text/html": [
              "<span style=\"color:blue\"> |-dense_block_1/use_batchnorm: False</span>"
            ],
            "text/plain": [
              "<IPython.core.display.HTML object>"
            ]
          },
          "metadata": {
            "tags": []
          }
        },
        {
          "output_type": "display_data",
          "data": {
            "text/html": [
              "<span style=\"color:cyan\"> |-optimizer: adam</span>"
            ],
            "text/plain": [
              "<IPython.core.display.HTML object>"
            ]
          },
          "metadata": {
            "tags": []
          }
        },
        {
          "output_type": "display_data",
          "data": {
            "text/html": [
              "<span style=\"color:cyan\"> |-Score: 0.1486846919481953</span>"
            ],
            "text/plain": [
              "<IPython.core.display.HTML object>"
            ]
          },
          "metadata": {
            "tags": []
          }
        },
        {
          "output_type": "display_data",
          "data": {
            "text/html": [
              "<span style=\"color:cyan\"> |-Best step: 0</span>"
            ],
            "text/plain": [
              "<IPython.core.display.HTML object>"
            ]
          },
          "metadata": {
            "tags": []
          }
        },
        {
          "output_type": "stream",
          "text": [
            "INFO:tensorflow:Oracle triggered exit\n",
            "Epoch 1/50\n",
            "WARNING:tensorflow:Unresolved object in checkpoint: (root).optimizer.iter\n",
            "WARNING:tensorflow:Unresolved object in checkpoint: (root).optimizer.beta_1\n",
            "WARNING:tensorflow:Unresolved object in checkpoint: (root).optimizer.beta_2\n",
            "WARNING:tensorflow:Unresolved object in checkpoint: (root).optimizer.decay\n",
            "WARNING:tensorflow:Unresolved object in checkpoint: (root).optimizer.learning_rate\n",
            "WARNING:tensorflow:A checkpoint was restored (e.g. tf.train.Checkpoint.restore or tf.keras.Model.load_weights) but not all checkpointed values were used. See above for specific issues. Use expect_partial() on the load status object, e.g. tf.train.Checkpoint.restore(...).expect_partial(), to silence these warnings, or use assert_consumed() to make the check explicit. See https://www.tensorflow.org/alpha/guide/checkpoints#loading_mechanics for details.\n",
            "28/28 [==============================] - 4s 127ms/step - loss: 0.7369 - accuracy: 0.6209 - val_loss: 0.0000e+00 - val_accuracy: 0.0000e+00\n",
            "Epoch 2/50\n",
            "28/28 [==============================] - 2s 65ms/step - loss: 0.6338 - accuracy: 0.6552 - val_loss: 0.6697 - val_accuracy: 0.6071\n",
            "Epoch 3/50\n",
            "28/28 [==============================] - 2s 64ms/step - loss: 0.5306 - accuracy: 0.7275 - val_loss: 0.6517 - val_accuracy: 0.6071\n",
            "Epoch 4/50\n",
            "28/28 [==============================] - 2s 64ms/step - loss: 0.4911 - accuracy: 0.7595 - val_loss: 0.6244 - val_accuracy: 0.6131\n",
            "Epoch 5/50\n",
            "28/28 [==============================] - 2s 64ms/step - loss: 0.4146 - accuracy: 0.8353 - val_loss: 0.5946 - val_accuracy: 0.6369\n",
            "Epoch 6/50\n",
            "28/28 [==============================] - 2s 64ms/step - loss: 0.3639 - accuracy: 0.8448 - val_loss: 0.5598 - val_accuracy: 0.6548\n",
            "Epoch 7/50\n",
            "28/28 [==============================] - 2s 70ms/step - loss: 0.2846 - accuracy: 0.9076 - val_loss: 0.5243 - val_accuracy: 0.6786\n",
            "Epoch 8/50\n",
            "28/28 [==============================] - 2s 64ms/step - loss: 0.2431 - accuracy: 0.9265 - val_loss: 0.4788 - val_accuracy: 0.7500\n",
            "Epoch 9/50\n",
            "28/28 [==============================] - 2s 64ms/step - loss: 0.2167 - accuracy: 0.9372 - val_loss: 0.4247 - val_accuracy: 0.8750\n",
            "Epoch 10/50\n",
            "28/28 [==============================] - 2s 63ms/step - loss: 0.1811 - accuracy: 0.9538 - val_loss: 0.3690 - val_accuracy: 0.9167\n",
            "Epoch 11/50\n",
            "28/28 [==============================] - 2s 62ms/step - loss: 0.1689 - accuracy: 0.9621 - val_loss: 0.3125 - val_accuracy: 0.9762\n",
            "Epoch 12/50\n",
            "28/28 [==============================] - 2s 63ms/step - loss: 0.1366 - accuracy: 0.9680 - val_loss: 0.2650 - val_accuracy: 0.9881\n",
            "Epoch 13/50\n",
            "28/28 [==============================] - 2s 64ms/step - loss: 0.1263 - accuracy: 0.9727 - val_loss: 0.2134 - val_accuracy: 1.0000\n",
            "Epoch 14/50\n",
            "28/28 [==============================] - 2s 63ms/step - loss: 0.1180 - accuracy: 0.9716 - val_loss: 0.1735 - val_accuracy: 1.0000\n",
            "Epoch 15/50\n",
            "28/28 [==============================] - 2s 64ms/step - loss: 0.1115 - accuracy: 0.9799 - val_loss: 0.1342 - val_accuracy: 1.0000\n",
            "Epoch 16/50\n",
            "28/28 [==============================] - 2s 66ms/step - loss: 0.1028 - accuracy: 0.9716 - val_loss: 0.1039 - val_accuracy: 1.0000\n",
            "Epoch 17/50\n",
            "28/28 [==============================] - 2s 65ms/step - loss: 0.0884 - accuracy: 0.9763 - val_loss: 0.0793 - val_accuracy: 1.0000\n",
            "Epoch 18/50\n",
            "28/28 [==============================] - 2s 65ms/step - loss: 0.0874 - accuracy: 0.9822 - val_loss: 0.0585 - val_accuracy: 1.0000\n",
            "Epoch 19/50\n",
            "28/28 [==============================] - 2s 62ms/step - loss: 0.0878 - accuracy: 0.9775 - val_loss: 0.0451 - val_accuracy: 1.0000\n",
            "Epoch 20/50\n",
            "28/28 [==============================] - 2s 61ms/step - loss: 0.0697 - accuracy: 0.9822 - val_loss: 0.0339 - val_accuracy: 1.0000\n",
            "Epoch 21/50\n",
            "28/28 [==============================] - 2s 65ms/step - loss: 0.0652 - accuracy: 0.9905 - val_loss: 0.0251 - val_accuracy: 1.0000\n",
            "Epoch 22/50\n",
            "28/28 [==============================] - 2s 61ms/step - loss: 0.0565 - accuracy: 0.9917 - val_loss: 0.0194 - val_accuracy: 1.0000\n",
            "Epoch 23/50\n",
            "28/28 [==============================] - 2s 64ms/step - loss: 0.0610 - accuracy: 0.9917 - val_loss: 0.0153 - val_accuracy: 1.0000\n",
            "Epoch 24/50\n",
            "28/28 [==============================] - 2s 64ms/step - loss: 0.0558 - accuracy: 0.9870 - val_loss: 0.0125 - val_accuracy: 1.0000\n",
            "Epoch 25/50\n",
            "28/28 [==============================] - 2s 61ms/step - loss: 0.0592 - accuracy: 0.9882 - val_loss: 0.0101 - val_accuracy: 1.0000\n",
            "Epoch 26/50\n",
            "28/28 [==============================] - 2s 63ms/step - loss: 0.0472 - accuracy: 0.9905 - val_loss: 0.0086 - val_accuracy: 1.0000\n",
            "Epoch 27/50\n",
            "28/28 [==============================] - 2s 64ms/step - loss: 0.0495 - accuracy: 0.9917 - val_loss: 0.0073 - val_accuracy: 1.0000\n",
            "Epoch 28/50\n",
            "28/28 [==============================] - 2s 65ms/step - loss: 0.0409 - accuracy: 0.9929 - val_loss: 0.0058 - val_accuracy: 1.0000\n",
            "Epoch 29/50\n",
            "28/28 [==============================] - 2s 63ms/step - loss: 0.0429 - accuracy: 0.9893 - val_loss: 0.0050 - val_accuracy: 1.0000\n",
            "Epoch 30/50\n",
            "28/28 [==============================] - 2s 64ms/step - loss: 0.0415 - accuracy: 0.9917 - val_loss: 0.0042 - val_accuracy: 1.0000\n",
            "Epoch 31/50\n",
            "28/28 [==============================] - 2s 63ms/step - loss: 0.0414 - accuracy: 0.9917 - val_loss: 0.0037 - val_accuracy: 1.0000\n",
            "Epoch 32/50\n",
            "28/28 [==============================] - 2s 62ms/step - loss: 0.0519 - accuracy: 0.9846 - val_loss: 0.0033 - val_accuracy: 1.0000\n",
            "Epoch 33/50\n",
            "28/28 [==============================] - 2s 66ms/step - loss: 0.0349 - accuracy: 0.9917 - val_loss: 0.0029 - val_accuracy: 1.0000\n",
            "Epoch 34/50\n",
            "28/28 [==============================] - 2s 61ms/step - loss: 0.0365 - accuracy: 0.9905 - val_loss: 0.0027 - val_accuracy: 1.0000\n",
            "Epoch 35/50\n",
            "28/28 [==============================] - 2s 64ms/step - loss: 0.0306 - accuracy: 0.9941 - val_loss: 0.0025 - val_accuracy: 1.0000\n",
            "Epoch 36/50\n",
            "28/28 [==============================] - 2s 65ms/step - loss: 0.0301 - accuracy: 0.9941 - val_loss: 0.0023 - val_accuracy: 1.0000\n",
            "Epoch 37/50\n",
            "28/28 [==============================] - 2s 65ms/step - loss: 0.0239 - accuracy: 0.9964 - val_loss: 0.0021 - val_accuracy: 1.0000\n",
            "Epoch 38/50\n",
            "28/28 [==============================] - 2s 62ms/step - loss: 0.0338 - accuracy: 0.9976 - val_loss: 0.0019 - val_accuracy: 1.0000\n",
            "Epoch 39/50\n",
            "28/28 [==============================] - 2s 64ms/step - loss: 0.0328 - accuracy: 0.9905 - val_loss: 0.0018 - val_accuracy: 1.0000\n",
            "Epoch 40/50\n",
            "28/28 [==============================] - 2s 65ms/step - loss: 0.0321 - accuracy: 0.9917 - val_loss: 0.0015 - val_accuracy: 1.0000\n",
            "Epoch 41/50\n",
            "28/28 [==============================] - 2s 62ms/step - loss: 0.0283 - accuracy: 0.9941 - val_loss: 0.0015 - val_accuracy: 1.0000\n",
            "Epoch 42/50\n",
            "28/28 [==============================] - 2s 63ms/step - loss: 0.0283 - accuracy: 0.9929 - val_loss: 0.0014 - val_accuracy: 1.0000\n",
            "Epoch 43/50\n",
            "28/28 [==============================] - 2s 63ms/step - loss: 0.0225 - accuracy: 0.9964 - val_loss: 0.0013 - val_accuracy: 1.0000\n",
            "Epoch 44/50\n",
            "28/28 [==============================] - 2s 65ms/step - loss: 0.0183 - accuracy: 0.9941 - val_loss: 0.0012 - val_accuracy: 1.0000\n",
            "Epoch 45/50\n",
            "28/28 [==============================] - 2s 64ms/step - loss: 0.0243 - accuracy: 0.9964 - val_loss: 0.0011 - val_accuracy: 1.0000\n",
            "Epoch 46/50\n",
            "28/28 [==============================] - 2s 64ms/step - loss: 0.0246 - accuracy: 0.9941 - val_loss: 0.0010 - val_accuracy: 1.0000\n",
            "Epoch 47/50\n",
            "28/28 [==============================] - 2s 62ms/step - loss: 0.0210 - accuracy: 0.9964 - val_loss: 9.3678e-04 - val_accuracy: 1.0000\n",
            "Epoch 48/50\n",
            "28/28 [==============================] - 2s 65ms/step - loss: 0.0316 - accuracy: 0.9941 - val_loss: 8.0458e-04 - val_accuracy: 1.0000\n",
            "Epoch 49/50\n",
            "28/28 [==============================] - 2s 62ms/step - loss: 0.0189 - accuracy: 0.9953 - val_loss: 7.8711e-04 - val_accuracy: 1.0000\n",
            "Epoch 50/50\n",
            "28/28 [==============================] - 2s 65ms/step - loss: 0.0197 - accuracy: 0.9964 - val_loss: 7.5498e-04 - val_accuracy: 1.0000\n"
          ],
          "name": "stdout"
        }
      ]
    },
    {
      "cell_type": "code",
      "metadata": {
        "id": "tPbY8vnGwwCK",
        "colab_type": "code",
        "outputId": "b7b5d917-3903-4407-aafb-0d1f4ecaa772",
        "colab": {
          "base_uri": "https://localhost:8080/",
          "height": 34
        }
      },
      "source": [
        ""
      ],
      "execution_count": 0,
      "outputs": [
        {
          "output_type": "execute_result",
          "data": {
            "text/plain": [
              "<autokeras.task.TextClassifier at 0x7f493f5ecdd8>"
            ]
          },
          "metadata": {
            "tags": []
          },
          "execution_count": 18
        }
      ]
    },
    {
      "cell_type": "code",
      "metadata": {
        "id": "DrUPxKGX6F1i",
        "colab_type": "code",
        "outputId": "a3375f91-4752-4d59-87b3-fb138a780765",
        "colab": {
          "base_uri": "https://localhost:8080/",
          "height": 71
        }
      },
      "source": [
        "test_mix[0]"
      ],
      "execution_count": 0,
      "outputs": [
        {
          "output_type": "execute_result",
          "data": {
            "text/plain": [
              "(\"www.breakingnews247.net/59bc13819a723/world-s-most-popular-candy-to-be-removed-from-shelves-by-october-2017.html, World's most popular candy to be removed from shelves by October 2017!\",\n",
              " 'fake')"
            ]
          },
          "metadata": {
            "tags": []
          },
          "execution_count": 19
        }
      ]
    },
    {
      "cell_type": "code",
      "metadata": {
        "id": "NJiG0lWi6OA3",
        "colab_type": "code",
        "outputId": "006c91f5-a362-4cae-cb82-9ef422f3056b",
        "colab": {
          "base_uri": "https://localhost:8080/",
          "height": 54
        }
      },
      "source": [
        "test_mix[0][0]"
      ],
      "execution_count": 0,
      "outputs": [
        {
          "output_type": "execute_result",
          "data": {
            "text/plain": [
              "\"www.breakingnews247.net/59bc13819a723/world-s-most-popular-candy-to-be-removed-from-shelves-by-october-2017.html, World's most popular candy to be removed from shelves by October 2017!\""
            ]
          },
          "metadata": {
            "tags": []
          },
          "execution_count": 20
        }
      ]
    },
    {
      "cell_type": "code",
      "metadata": {
        "id": "_eKi0az_6P_7",
        "colab_type": "code",
        "outputId": "bd77b60e-ee4d-4d91-9353-6d8b1e0edb9e",
        "colab": {
          "base_uri": "https://localhost:8080/",
          "height": 34
        }
      },
      "source": [
        "clf.predict(np.array([test_mix[0][0]]))"
      ],
      "execution_count": 0,
      "outputs": [
        {
          "output_type": "execute_result",
          "data": {
            "text/plain": [
              "array([['fake']], dtype='<U4')"
            ]
          },
          "metadata": {
            "tags": []
          },
          "execution_count": 22
        }
      ]
    },
    {
      "cell_type": "code",
      "metadata": {
        "id": "xT_Uj-dW6UPz",
        "colab_type": "code",
        "colab": {}
      },
      "source": [
        "y_true = [label for x, label in test_mix]\n",
        "x_test = [x for x, label in test_mix]\n",
        "y_true = np.array(y_true)\n",
        "x_test = np.array(x_test)"
      ],
      "execution_count": 0,
      "outputs": []
    },
    {
      "cell_type": "code",
      "metadata": {
        "id": "_zsKXJZR611a",
        "colab_type": "code",
        "outputId": "99ec5069-b057-4b02-f97e-c6d46dc5655e",
        "colab": {
          "base_uri": "https://localhost:8080/",
          "height": 1000
        }
      },
      "source": [
        "y_pre = clf.predict(x_test)\n",
        "y_pre"
      ],
      "execution_count": 0,
      "outputs": [
        {
          "output_type": "execute_result",
          "data": {
            "text/plain": [
              "array([['fake'],\n",
              "       ['real'],\n",
              "       ['real'],\n",
              "       ['real'],\n",
              "       ['fake'],\n",
              "       ['real'],\n",
              "       ['fake'],\n",
              "       ['real'],\n",
              "       ['fake'],\n",
              "       ['real'],\n",
              "       ['fake'],\n",
              "       ['fake'],\n",
              "       ['fake'],\n",
              "       ['real'],\n",
              "       ['fake'],\n",
              "       ['fake'],\n",
              "       ['fake'],\n",
              "       ['real'],\n",
              "       ['real'],\n",
              "       ['fake'],\n",
              "       ['fake'],\n",
              "       ['real'],\n",
              "       ['real'],\n",
              "       ['real'],\n",
              "       ['fake'],\n",
              "       ['fake'],\n",
              "       ['fake'],\n",
              "       ['real'],\n",
              "       ['real'],\n",
              "       ['real'],\n",
              "       ['real'],\n",
              "       ['real'],\n",
              "       ['fake'],\n",
              "       ['fake'],\n",
              "       ['fake'],\n",
              "       ['real'],\n",
              "       ['fake'],\n",
              "       ['real'],\n",
              "       ['real'],\n",
              "       ['real'],\n",
              "       ['real'],\n",
              "       ['real'],\n",
              "       ['real'],\n",
              "       ['real'],\n",
              "       ['fake'],\n",
              "       ['real'],\n",
              "       ['fake'],\n",
              "       ['real'],\n",
              "       ['fake'],\n",
              "       ['fake'],\n",
              "       ['real'],\n",
              "       ['real'],\n",
              "       ['real'],\n",
              "       ['fake'],\n",
              "       ['fake'],\n",
              "       ['fake'],\n",
              "       ['fake'],\n",
              "       ['real'],\n",
              "       ['real'],\n",
              "       ['real'],\n",
              "       ['fake'],\n",
              "       ['real'],\n",
              "       ['fake'],\n",
              "       ['fake'],\n",
              "       ['fake'],\n",
              "       ['fake'],\n",
              "       ['fake'],\n",
              "       ['real'],\n",
              "       ['fake'],\n",
              "       ['real'],\n",
              "       ['real'],\n",
              "       ['real'],\n",
              "       ['fake'],\n",
              "       ['real'],\n",
              "       ['fake'],\n",
              "       ['fake'],\n",
              "       ['fake'],\n",
              "       ['real'],\n",
              "       ['real'],\n",
              "       ['fake'],\n",
              "       ['fake'],\n",
              "       ['real'],\n",
              "       ['real'],\n",
              "       ['fake'],\n",
              "       ['real'],\n",
              "       ['fake'],\n",
              "       ['real'],\n",
              "       ['fake'],\n",
              "       ['real'],\n",
              "       ['fake'],\n",
              "       ['fake'],\n",
              "       ['real'],\n",
              "       ['fake'],\n",
              "       ['fake'],\n",
              "       ['fake'],\n",
              "       ['fake'],\n",
              "       ['real'],\n",
              "       ['real'],\n",
              "       ['real'],\n",
              "       ['real'],\n",
              "       ['fake'],\n",
              "       ['fake'],\n",
              "       ['real'],\n",
              "       ['real'],\n",
              "       ['real'],\n",
              "       ['fake'],\n",
              "       ['fake'],\n",
              "       ['real'],\n",
              "       ['real'],\n",
              "       ['fake'],\n",
              "       ['real'],\n",
              "       ['real'],\n",
              "       ['real'],\n",
              "       ['fake'],\n",
              "       ['fake'],\n",
              "       ['fake'],\n",
              "       ['real'],\n",
              "       ['real'],\n",
              "       ['real'],\n",
              "       ['real'],\n",
              "       ['fake'],\n",
              "       ['fake'],\n",
              "       ['real'],\n",
              "       ['fake'],\n",
              "       ['fake'],\n",
              "       ['real'],\n",
              "       ['fake'],\n",
              "       ['fake'],\n",
              "       ['real'],\n",
              "       ['fake'],\n",
              "       ['real'],\n",
              "       ['real'],\n",
              "       ['fake'],\n",
              "       ['fake'],\n",
              "       ['real'],\n",
              "       ['fake'],\n",
              "       ['fake'],\n",
              "       ['real'],\n",
              "       ['real'],\n",
              "       ['fake'],\n",
              "       ['fake'],\n",
              "       ['fake'],\n",
              "       ['fake'],\n",
              "       ['real'],\n",
              "       ['fake'],\n",
              "       ['real'],\n",
              "       ['fake'],\n",
              "       ['fake'],\n",
              "       ['real'],\n",
              "       ['real'],\n",
              "       ['real'],\n",
              "       ['real'],\n",
              "       ['real'],\n",
              "       ['real'],\n",
              "       ['real'],\n",
              "       ['fake'],\n",
              "       ['fake'],\n",
              "       ['fake'],\n",
              "       ['fake'],\n",
              "       ['fake'],\n",
              "       ['fake'],\n",
              "       ['fake'],\n",
              "       ['real'],\n",
              "       ['fake'],\n",
              "       ['real'],\n",
              "       ['real'],\n",
              "       ['real'],\n",
              "       ['fake'],\n",
              "       ['fake'],\n",
              "       ['real'],\n",
              "       ['fake'],\n",
              "       ['real'],\n",
              "       ['real'],\n",
              "       ['real'],\n",
              "       ['real'],\n",
              "       ['fake'],\n",
              "       ['fake'],\n",
              "       ['fake'],\n",
              "       ['real'],\n",
              "       ['fake'],\n",
              "       ['real'],\n",
              "       ['real'],\n",
              "       ['real'],\n",
              "       ['real'],\n",
              "       ['fake'],\n",
              "       ['fake'],\n",
              "       ['fake'],\n",
              "       ['fake'],\n",
              "       ['fake'],\n",
              "       ['real'],\n",
              "       ['real'],\n",
              "       ['fake'],\n",
              "       ['real'],\n",
              "       ['fake'],\n",
              "       ['real'],\n",
              "       ['fake'],\n",
              "       ['real'],\n",
              "       ['fake'],\n",
              "       ['fake'],\n",
              "       ['fake'],\n",
              "       ['fake'],\n",
              "       ['fake'],\n",
              "       ['real'],\n",
              "       ['fake'],\n",
              "       ['fake'],\n",
              "       ['fake'],\n",
              "       ['fake'],\n",
              "       ['fake'],\n",
              "       ['real'],\n",
              "       ['fake'],\n",
              "       ['fake'],\n",
              "       ['fake']], dtype='<U4')"
            ]
          },
          "metadata": {
            "tags": []
          },
          "execution_count": 27
        }
      ]
    },
    {
      "cell_type": "code",
      "metadata": {
        "id": "mv6lx4vI6uep",
        "colab_type": "code",
        "outputId": "a8baedbb-97ca-48f3-a9d1-707f2980e6a1",
        "colab": {
          "base_uri": "https://localhost:8080/",
          "height": 85
        }
      },
      "source": [
        "acc, precision, recall, f1 = calculate_metrics(y_true, y_pre)\n",
        "print(\"acc: \", acc)\n",
        "print(\"precision: \", precision)\n",
        "print(\"recall: \", recall)\n",
        "print(\"f1: \", f1)"
      ],
      "execution_count": 0,
      "outputs": [
        {
          "output_type": "stream",
          "text": [
            "acc:  0.8632075471698113\n",
            "precision:  0.8108108108108109\n",
            "recall:  0.9183673469387755\n",
            "f1:  0.861244019138756\n"
          ],
          "name": "stdout"
        }
      ]
    },
    {
      "cell_type": "code",
      "metadata": {
        "id": "7b2BV5qT7Cs5",
        "colab_type": "code",
        "colab": {}
      },
      "source": [
        ""
      ],
      "execution_count": 0,
      "outputs": []
    }
  ]
}